{
  "nbformat": 4,
  "nbformat_minor": 0,
  "metadata": {
    "colab": {
      "name": "Basic Descriptive Stats using Pandas.ipynb",
      "provenance": [],
      "authorship_tag": "ABX9TyOkKSklROWK+nSN5FR2DYWb",
      "include_colab_link": true
    },
    "kernelspec": {
      "name": "python3",
      "display_name": "Python 3"
    }
  },
  "cells": [
    {
      "cell_type": "markdown",
      "metadata": {
        "id": "view-in-github",
        "colab_type": "text"
      },
      "source": [
        "<a href=\"https://colab.research.google.com/github/Mithun162001/Descriptive-stats-in-Pandas/blob/main/Basic_Descriptive_Stats_using_Pandas.ipynb\" target=\"_parent\"><img src=\"https://colab.research.google.com/assets/colab-badge.svg\" alt=\"Open In Colab\"/></a>"
      ]
    },
    {
      "cell_type": "code",
      "metadata": {
        "id": "9LUu3dLoIAV0"
      },
      "source": [
        "import numpy as np\n",
        "import pandas as pd"
      ],
      "execution_count": null,
      "outputs": []
    },
    {
      "cell_type": "code",
      "metadata": {
        "id": "KxNDPd8oIMev",
        "outputId": "d0f49d74-e0f2-4341-9363-4470da875e25",
        "colab": {
          "base_uri": "https://localhost:8080/",
          "height": 34
        }
      },
      "source": [
        "data={'name': ['Kunal', 'Ankit', 'Purva', 'Pranav', 'Sunil'],       #Creating a dictionary to add this to a dataframe\n",
        "        'age': [42, 52, 36, 24, 73], \n",
        "        'TestScore_1': [4, 24, 31, 2, 3],\n",
        "        'TestScore_2': [25, 94, 57, 62, 70]}\n",
        "print(data)"
      ],
      "execution_count": null,
      "outputs": [
        {
          "output_type": "stream",
          "text": [
            "{'name': ['Kunal', 'Ankit', 'Purva', 'Pranav', 'Sunil'], 'age': [42, 52, 36, 24, 73], 'TestScore_1': [4, 24, 31, 2, 3], 'TestScore_2': [25, 94, 57, 62, 70]}\n"
          ],
          "name": "stdout"
        }
      ]
    },
    {
      "cell_type": "code",
      "metadata": {
        "id": "yLvEh9t5JC21",
        "outputId": "3cc7f8ee-e13d-41b2-ce1a-6ede4e27a8e8",
        "colab": {
          "base_uri": "https://localhost:8080/",
          "height": 195
        }
      },
      "source": [
        "df=pd.DataFrame(data)                 # Dictionary data is passed into DataFrame object, hence dictionary keys have become the column_names of the DataFrame and the values in the\n",
        "df                                    # respective keys have become the values of the respective columns in the DataFrame"
      ],
      "execution_count": null,
      "outputs": [
        {
          "output_type": "execute_result",
          "data": {
            "text/html": [
              "<div>\n",
              "<style scoped>\n",
              "    .dataframe tbody tr th:only-of-type {\n",
              "        vertical-align: middle;\n",
              "    }\n",
              "\n",
              "    .dataframe tbody tr th {\n",
              "        vertical-align: top;\n",
              "    }\n",
              "\n",
              "    .dataframe thead th {\n",
              "        text-align: right;\n",
              "    }\n",
              "</style>\n",
              "<table border=\"1\" class=\"dataframe\">\n",
              "  <thead>\n",
              "    <tr style=\"text-align: right;\">\n",
              "      <th></th>\n",
              "      <th>name</th>\n",
              "      <th>age</th>\n",
              "      <th>TestScore_1</th>\n",
              "      <th>TestScore_2</th>\n",
              "    </tr>\n",
              "  </thead>\n",
              "  <tbody>\n",
              "    <tr>\n",
              "      <th>0</th>\n",
              "      <td>Kunal</td>\n",
              "      <td>42</td>\n",
              "      <td>4</td>\n",
              "      <td>25</td>\n",
              "    </tr>\n",
              "    <tr>\n",
              "      <th>1</th>\n",
              "      <td>Ankit</td>\n",
              "      <td>52</td>\n",
              "      <td>24</td>\n",
              "      <td>94</td>\n",
              "    </tr>\n",
              "    <tr>\n",
              "      <th>2</th>\n",
              "      <td>Purva</td>\n",
              "      <td>36</td>\n",
              "      <td>31</td>\n",
              "      <td>57</td>\n",
              "    </tr>\n",
              "    <tr>\n",
              "      <th>3</th>\n",
              "      <td>Pranav</td>\n",
              "      <td>24</td>\n",
              "      <td>2</td>\n",
              "      <td>62</td>\n",
              "    </tr>\n",
              "    <tr>\n",
              "      <th>4</th>\n",
              "      <td>Sunil</td>\n",
              "      <td>73</td>\n",
              "      <td>3</td>\n",
              "      <td>70</td>\n",
              "    </tr>\n",
              "  </tbody>\n",
              "</table>\n",
              "</div>"
            ],
            "text/plain": [
              "     name  age  TestScore_1  TestScore_2\n",
              "0   Kunal   42            4           25\n",
              "1   Ankit   52           24           94\n",
              "2   Purva   36           31           57\n",
              "3  Pranav   24            2           62\n",
              "4   Sunil   73            3           70"
            ]
          },
          "metadata": {
            "tags": []
          },
          "execution_count": 7
        }
      ]
    },
    {
      "cell_type": "markdown",
      "metadata": {
        "id": "HR0ppZL6LpfD"
      },
      "source": [
        "TO calculate the sum of all ages(sum of the particular column of the dataset)"
      ]
    },
    {
      "cell_type": "code",
      "metadata": {
        "id": "KtN_OEM-Jrri",
        "outputId": "5476ddc3-8244-406a-d525-493084e16839",
        "colab": {
          "base_uri": "https://localhost:8080/",
          "height": 34
        }
      },
      "source": [
        "# TO calculate the sum of all ages(sum of the particular column of the dataset)\n",
        "print(\"The sum of the ages of everyone is:\", df['age'].sum())         #df['column_name'].sum() is used to calculate the sum of the values of the particular column"
      ],
      "execution_count": null,
      "outputs": [
        {
          "output_type": "stream",
          "text": [
            "The sum of the ages of everyone is: 227\n"
          ],
          "name": "stdout"
        }
      ]
    },
    {
      "cell_type": "markdown",
      "metadata": {
        "id": "C4KZPgiCLdcs"
      },
      "source": [
        "TO calculate the Mean **TestScore_1** "
      ]
    },
    {
      "cell_type": "code",
      "metadata": {
        "id": "4TojqUDmK1CA",
        "outputId": "116e66ed-1193-471d-ab4a-722cd059ab4b",
        "colab": {
          "base_uri": "https://localhost:8080/",
          "height": 34
        }
      },
      "source": [
        "# TO calculate the Mean TestScore_1\n",
        "mean_TS= df['TestScore_1'].mean()                       # df['column_name'].mean() is used to calculate the mean of the values of the selected column\n",
        "print(\"Mean TestScore_1 is\",mean_TS)"
      ],
      "execution_count": null,
      "outputs": [
        {
          "output_type": "stream",
          "text": [
            "Mean TestScore_1 is 12.8\n"
          ],
          "name": "stdout"
        }
      ]
    },
    {
      "cell_type": "markdown",
      "metadata": {
        "id": "Ra7NBZhQLtDc"
      },
      "source": [
        "Cumulative sum of TestScore_1s, moving from the rows from the top"
      ]
    },
    {
      "cell_type": "code",
      "metadata": {
        "id": "n3TPDQ4PLcPM",
        "outputId": "400d942b-a24b-4dc7-badd-7e707248bbf5",
        "colab": {
          "base_uri": "https://localhost:8080/",
          "height": 134
        }
      },
      "source": [
        "cumulative= df['TestScore_1'].cumsum()                # df['column_name'].cumsum() is used to find the cumulative frequency of the values of a column\n",
        "print(\"Cumulative Frequency of TestSCore_1:\\n\", cumulative)"
      ],
      "execution_count": null,
      "outputs": [
        {
          "output_type": "stream",
          "text": [
            "Cumulative Frequency of TestSCore_1:\n",
            " 0     4\n",
            "1    28\n",
            "2    59\n",
            "3    61\n",
            "4    64\n",
            "Name: TestScore_1, dtype: int64\n"
          ],
          "name": "stdout"
        }
      ]
    },
    {
      "cell_type": "markdown",
      "metadata": {
        "id": "rzdriT_0MroM"
      },
      "source": [
        "Summary statistics on TestScore_1"
      ]
    },
    {
      "cell_type": "code",
      "metadata": {
        "id": "Y5E7PTMCMuaA",
        "outputId": "954e7346-067c-41b8-939a-05c02ab829bc",
        "colab": {
          "base_uri": "https://localhost:8080/",
          "height": 168
        }
      },
      "source": [
        "df['TestScore_1'].describe()                       # df['column_name'].describe() gives the summary of the selected column"
      ],
      "execution_count": null,
      "outputs": [
        {
          "output_type": "execute_result",
          "data": {
            "text/plain": [
              "count     5.000000\n",
              "mean     12.800000\n",
              "std      13.663821\n",
              "min       2.000000\n",
              "25%       3.000000\n",
              "50%       4.000000\n",
              "75%      24.000000\n",
              "max      31.000000\n",
              "Name: TestScore_1, dtype: float64"
            ]
          },
          "metadata": {
            "tags": []
          },
          "execution_count": 16
        }
      ]
    },
    {
      "cell_type": "markdown",
      "metadata": {
        "id": "i1O-f89VNapA"
      },
      "source": [
        "Count the number of non-NA values"
      ]
    },
    {
      "cell_type": "code",
      "metadata": {
        "id": "o7FRukbcNG1r",
        "outputId": "f3d4bc58-b9eb-4adb-d7e4-39a6bf76d70f",
        "colab": {
          "base_uri": "https://localhost:8080/",
          "height": 34
        }
      },
      "source": [
        "df['TestScore_1'].count()                       # df['column_name'].count() gives the number of non-NaN values in the selected column"
      ],
      "execution_count": null,
      "outputs": [
        {
          "output_type": "execute_result",
          "data": {
            "text/plain": [
              "5"
            ]
          },
          "metadata": {
            "tags": []
          },
          "execution_count": 18
        }
      ]
    },
    {
      "cell_type": "markdown",
      "metadata": {
        "id": "kfaj8wcLNukv"
      },
      "source": [
        "Minimum value of TestScore_1"
      ]
    },
    {
      "cell_type": "code",
      "metadata": {
        "id": "abgaxmZXNx5j",
        "outputId": "23a41730-3582-4762-8ae1-8c1742c29515",
        "colab": {
          "base_uri": "https://localhost:8080/",
          "height": 34
        }
      },
      "source": [
        "df['TestScore_1'].min()"
      ],
      "execution_count": null,
      "outputs": [
        {
          "output_type": "execute_result",
          "data": {
            "text/plain": [
              "2"
            ]
          },
          "metadata": {
            "tags": []
          },
          "execution_count": 25
        }
      ]
    },
    {
      "cell_type": "markdown",
      "metadata": {
        "id": "RAMGze7SOSxP"
      },
      "source": [
        "Maximum value of TestScore_1"
      ]
    },
    {
      "cell_type": "code",
      "metadata": {
        "id": "RUkvBbL6OTno",
        "outputId": "a9769ca8-c8f0-44e8-f679-da073e540e45",
        "colab": {
          "base_uri": "https://localhost:8080/",
          "height": 34
        }
      },
      "source": [
        "df['TestScore_1'].max()"
      ],
      "execution_count": null,
      "outputs": [
        {
          "output_type": "execute_result",
          "data": {
            "text/plain": [
              "31"
            ]
          },
          "metadata": {
            "tags": []
          },
          "execution_count": 26
        }
      ]
    },
    {
      "cell_type": "markdown",
      "metadata": {
        "id": "dG-hLG5DOZNT"
      },
      "source": [
        "Median value of TestScore_1"
      ]
    },
    {
      "cell_type": "code",
      "metadata": {
        "id": "8xL6IVwXObZ_",
        "outputId": "76ea42d6-1f33-44f7-9002-7ccbc3510992",
        "colab": {
          "base_uri": "https://localhost:8080/",
          "height": 34
        }
      },
      "source": [
        "df['TestScore_1'].median()"
      ],
      "execution_count": null,
      "outputs": [
        {
          "output_type": "execute_result",
          "data": {
            "text/plain": [
              "4.0"
            ]
          },
          "metadata": {
            "tags": []
          },
          "execution_count": 27
        }
      ]
    },
    {
      "cell_type": "markdown",
      "metadata": {
        "id": "W1i7IeKcOjne"
      },
      "source": [
        "Sample variance of TestScore_1 values"
      ]
    },
    {
      "cell_type": "code",
      "metadata": {
        "id": "bZ0-IW88Om5Q",
        "outputId": "a503bc87-d1b7-4a37-871d-6f85cf47c78e",
        "colab": {
          "base_uri": "https://localhost:8080/",
          "height": 34
        }
      },
      "source": [
        "df['TestScore_1'].var()"
      ],
      "execution_count": null,
      "outputs": [
        {
          "output_type": "execute_result",
          "data": {
            "text/plain": [
              "186.7"
            ]
          },
          "metadata": {
            "tags": []
          },
          "execution_count": 28
        }
      ]
    },
    {
      "cell_type": "markdown",
      "metadata": {
        "id": "_dT4SVTSOs4R"
      },
      "source": [
        "Sample standard deviation of TestScore_1 values"
      ]
    },
    {
      "cell_type": "code",
      "metadata": {
        "id": "fz-UIhwUOuzn",
        "outputId": "be33c1c4-303e-45b5-c938-0e6fc3067098",
        "colab": {
          "base_uri": "https://localhost:8080/",
          "height": 34
        }
      },
      "source": [
        "df['TestScore_1'].std()"
      ],
      "execution_count": null,
      "outputs": [
        {
          "output_type": "execute_result",
          "data": {
            "text/plain": [
              "13.663820841916802"
            ]
          },
          "metadata": {
            "tags": []
          },
          "execution_count": 29
        }
      ]
    },
    {
      "cell_type": "markdown",
      "metadata": {
        "id": "FBIRceH8Oywt"
      },
      "source": [
        "Skewness of preTestScore values"
      ]
    },
    {
      "cell_type": "code",
      "metadata": {
        "id": "DbH-8yPUO3k7",
        "outputId": "967e347b-de6e-4cae-9f57-d66a595bdc3a",
        "colab": {
          "base_uri": "https://localhost:8080/",
          "height": 34
        }
      },
      "source": [
        "df['TestScore_1'].skew()"
      ],
      "execution_count": null,
      "outputs": [
        {
          "output_type": "execute_result",
          "data": {
            "text/plain": [
              "0.7433452457326751"
            ]
          },
          "metadata": {
            "tags": []
          },
          "execution_count": 30
        }
      ]
    },
    {
      "cell_type": "markdown",
      "metadata": {
        "id": "kj-PXFYkO-2p"
      },
      "source": [
        "Kurtosis of TestScore_1 values"
      ]
    },
    {
      "cell_type": "code",
      "metadata": {
        "id": "i5XerbzSO96W",
        "outputId": "131de9ad-1aff-41a4-8291-60ea05c85870",
        "colab": {
          "base_uri": "https://localhost:8080/",
          "height": 34
        }
      },
      "source": [
        "df['TestScore_1'].kurt()"
      ],
      "execution_count": null,
      "outputs": [
        {
          "output_type": "execute_result",
          "data": {
            "text/plain": [
              "-2.4673543738411547"
            ]
          },
          "metadata": {
            "tags": []
          },
          "execution_count": 31
        }
      ]
    },
    {
      "cell_type": "markdown",
      "metadata": {
        "id": "uiEJ0sNLPHYc"
      },
      "source": [
        "Correlation Matrix Of Values"
      ]
    },
    {
      "cell_type": "code",
      "metadata": {
        "id": "H2uJtB-8PFfe",
        "outputId": "66e47365-064e-4cd2-d87c-250fd9459720",
        "colab": {
          "base_uri": "https://localhost:8080/",
          "height": 106
        }
      },
      "source": [
        "df[['TestScore_1','TestScore_2']].corr()"
      ],
      "execution_count": null,
      "outputs": [
        {
          "output_type": "execute_result",
          "data": {
            "text/html": [
              "<div>\n",
              "<style scoped>\n",
              "    .dataframe tbody tr th:only-of-type {\n",
              "        vertical-align: middle;\n",
              "    }\n",
              "\n",
              "    .dataframe tbody tr th {\n",
              "        vertical-align: top;\n",
              "    }\n",
              "\n",
              "    .dataframe thead th {\n",
              "        text-align: right;\n",
              "    }\n",
              "</style>\n",
              "<table border=\"1\" class=\"dataframe\">\n",
              "  <thead>\n",
              "    <tr style=\"text-align: right;\">\n",
              "      <th></th>\n",
              "      <th>TestScore_1</th>\n",
              "      <th>TestScore_2</th>\n",
              "    </tr>\n",
              "  </thead>\n",
              "  <tbody>\n",
              "    <tr>\n",
              "      <th>TestScore_1</th>\n",
              "      <td>1.000000</td>\n",
              "      <td>0.378039</td>\n",
              "    </tr>\n",
              "    <tr>\n",
              "      <th>TestScore_2</th>\n",
              "      <td>0.378039</td>\n",
              "      <td>1.000000</td>\n",
              "    </tr>\n",
              "  </tbody>\n",
              "</table>\n",
              "</div>"
            ],
            "text/plain": [
              "             TestScore_1  TestScore_2\n",
              "TestScore_1     1.000000     0.378039\n",
              "TestScore_2     0.378039     1.000000"
            ]
          },
          "metadata": {
            "tags": []
          },
          "execution_count": 35
        }
      ]
    },
    {
      "cell_type": "markdown",
      "metadata": {
        "id": "BIf-gipXPbRt"
      },
      "source": [
        "Covariance Matrix Of Values"
      ]
    },
    {
      "cell_type": "code",
      "metadata": {
        "id": "X03xVGLAPd8M",
        "outputId": "664c505c-8106-424e-b32c-a87ce4eff286",
        "colab": {
          "base_uri": "https://localhost:8080/",
          "height": 136
        }
      },
      "source": [
        "df.cov()"
      ],
      "execution_count": null,
      "outputs": [
        {
          "output_type": "execute_result",
          "data": {
            "text/html": [
              "<div>\n",
              "<style scoped>\n",
              "    .dataframe tbody tr th:only-of-type {\n",
              "        vertical-align: middle;\n",
              "    }\n",
              "\n",
              "    .dataframe tbody tr th {\n",
              "        vertical-align: top;\n",
              "    }\n",
              "\n",
              "    .dataframe thead th {\n",
              "        text-align: right;\n",
              "    }\n",
              "</style>\n",
              "<table border=\"1\" class=\"dataframe\">\n",
              "  <thead>\n",
              "    <tr style=\"text-align: right;\">\n",
              "      <th></th>\n",
              "      <th>age</th>\n",
              "      <th>TestScore_1</th>\n",
              "      <th>TestScore_2</th>\n",
              "    </tr>\n",
              "  </thead>\n",
              "  <tbody>\n",
              "    <tr>\n",
              "      <th>age</th>\n",
              "      <td>340.80</td>\n",
              "      <td>-26.65</td>\n",
              "      <td>151.20</td>\n",
              "    </tr>\n",
              "    <tr>\n",
              "      <th>TestScore_1</th>\n",
              "      <td>-26.65</td>\n",
              "      <td>186.70</td>\n",
              "      <td>128.65</td>\n",
              "    </tr>\n",
              "    <tr>\n",
              "      <th>TestScore_2</th>\n",
              "      <td>151.20</td>\n",
              "      <td>128.65</td>\n",
              "      <td>620.30</td>\n",
              "    </tr>\n",
              "  </tbody>\n",
              "</table>\n",
              "</div>"
            ],
            "text/plain": [
              "                age  TestScore_1  TestScore_2\n",
              "age          340.80       -26.65       151.20\n",
              "TestScore_1  -26.65       186.70       128.65\n",
              "TestScore_2  151.20       128.65       620.30"
            ]
          },
          "metadata": {
            "tags": []
          },
          "execution_count": 36
        }
      ]
    }
  ]
}