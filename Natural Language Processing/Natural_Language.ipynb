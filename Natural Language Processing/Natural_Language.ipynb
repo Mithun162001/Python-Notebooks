{
 "metadata": {
  "language_info": {
   "codemirror_mode": {
    "name": "ipython",
    "version": 3
   },
   "file_extension": ".py",
   "mimetype": "text/x-python",
   "name": "python",
   "nbconvert_exporter": "python",
   "pygments_lexer": "ipython3",
   "version": "3.7.9-final"
  },
  "orig_nbformat": 2,
  "kernelspec": {
   "name": "python3",
   "display_name": "Python 3.7.9 64-bit ('myenv': conda)",
   "metadata": {
    "interpreter": {
     "hash": "0989d4cb382ec003e6ad9ee0079fe5a34620af18f47069c43c62ee5030c1ec77"
    }
   }
  }
 },
 "nbformat": 4,
 "nbformat_minor": 2,
 "cells": [
  {
   "source": [
    "# NATURAL LANGAUGE TOOL KIT LIBRARY"
   ],
   "cell_type": "markdown",
   "metadata": {}
  },
  {
   "cell_type": "code",
   "execution_count": 2,
   "metadata": {},
   "outputs": [
    {
     "output_type": "stream",
     "name": "stdout",
     "text": [
      "Paragraphs are the building blocks of papers. Many students define paragraphs in terms of length: a paragraph is a group of at least five sentences, a paragraph is half a page long, etc. In reality, though, the unity and coherence of ideas among sentences is what constitutes a paragraph. A paragraph is defined as “a group of sentences or a single sentence that forms a unit” (Lunsford and Connors 116). Length and appearance do not determine whether a section in a paper is a paragraph. For instance, in some styles of writing, particularly journalistic styles, a paragraph can be just one sentence long. Ultimately, a paragraph is a sentence or group of sentences that support one main idea. In this handout, we will refer to this as the “controlling idea,” because it controls what happens in the rest of the paragraph.\n"
     ]
    }
   ],
   "source": [
    "text= \"Paragraphs are the building blocks of papers. Many students define paragraphs in terms of length: a paragraph is a group of at least five sentences, a paragraph is half a page long, etc. In reality, though, the unity and coherence of ideas among sentences is what constitutes a paragraph. A paragraph is defined as “a group of sentences or a single sentence that forms a unit” (Lunsford and Connors 116). Length and appearance do not determine whether a section in a paper is a paragraph. For instance, in some styles of writing, particularly journalistic styles, a paragraph can be just one sentence long. Ultimately, a paragraph is a sentence or group of sentences that support one main idea. In this handout, we will refer to this as the “controlling idea,” because it controls what happens in the rest of the paragraph.\"\n",
    "print(text)"
   ]
  },
  {
   "cell_type": "code",
   "execution_count": 7,
   "metadata": {},
   "outputs": [
    {
     "output_type": "stream",
     "name": "stderr",
     "text": [
      "[nltk_data] Downloading package punkt to\n",
      "[nltk_data]     C:\\Users\\LENOVO\\AppData\\Roaming\\nltk_data...\n",
      "[nltk_data]   Unzipping tokenizers\\punkt.zip.\n"
     ]
    },
    {
     "output_type": "execute_result",
     "data": {
      "text/plain": [
       "True"
      ]
     },
     "metadata": {},
     "execution_count": 7
    }
   ],
   "source": [
    "import nltk\n",
    "nltk.download('punkt')"
   ]
  },
  {
   "cell_type": "code",
   "execution_count": 10,
   "metadata": {},
   "outputs": [
    {
     "output_type": "stream",
     "name": "stdout",
     "text": [
      "['Paragraphs are the building blocks of papers.', 'Many students define paragraphs in terms of length: a paragraph is a group of at least five sentences, a paragraph is half a page long, etc.', 'In reality, though, the unity and coherence of ideas among sentences is what constitutes a paragraph.', 'A paragraph is defined as “a group of sentences or a single sentence that forms a unit” (Lunsford and Connors 116).', 'Length and appearance do not determine whether a section in a paper is a paragraph.', 'For instance, in some styles of writing, particularly journalistic styles, a paragraph can be just one sentence long.', 'Ultimately, a paragraph is a sentence or group of sentences that support one main idea.', 'In this handout, we will refer to this as the “controlling idea,” because it controls what happens in the rest of the paragraph.']\n"
     ]
    }
   ],
   "source": [
    "# Sentence tokenizer\n",
    "from nltk.tokenize import sent_tokenize\n",
    "sent_tk = sent_tokenize(text)\n",
    "print(sent_tk)"
   ]
  },
  {
   "cell_type": "code",
   "execution_count": 13,
   "metadata": {},
   "outputs": [
    {
     "output_type": "stream",
     "name": "stdout",
     "text": [
      "['Paragraphs', 'are', 'the', 'building', 'blocks', 'of', 'papers', '.', 'Many', 'students', 'define', 'paragraphs', 'in', 'terms', 'of', 'length', ':', 'a', 'paragraph', 'is', 'a', 'group', 'of', 'at', 'least', 'five', 'sentences', ',', 'a', 'paragraph', 'is', 'half', 'a', 'page', 'long', ',', 'etc', '.', 'In', 'reality', ',', 'though', ',', 'the', 'unity', 'and', 'coherence', 'of', 'ideas', 'among', 'sentences', 'is', 'what', 'constitutes', 'a', 'paragraph', '.', 'A', 'paragraph', 'is', 'defined', 'as', '“', 'a', 'group', 'of', 'sentences', 'or', 'a', 'single', 'sentence', 'that', 'forms', 'a', 'unit', '”', '(', 'Lunsford', 'and', 'Connors', '116', ')', '.', 'Length', 'and', 'appearance', 'do', 'not', 'determine', 'whether', 'a', 'section', 'in', 'a', 'paper', 'is', 'a', 'paragraph', '.', 'For', 'instance', ',', 'in', 'some', 'styles', 'of', 'writing', ',', 'particularly', 'journalistic', 'styles', ',', 'a', 'paragraph', 'can', 'be', 'just', 'one', 'sentence', 'long', '.', 'Ultimately', ',', 'a', 'paragraph', 'is', 'a', 'sentence', 'or', 'group', 'of', 'sentences', 'that', 'support', 'one', 'main', 'idea', '.', 'In', 'this', 'handout', ',', 'we', 'will', 'refer', 'to', 'this', 'as', 'the', '“', 'controlling', 'idea', ',', '”', 'because', 'it', 'controls', 'what', 'happens', 'in', 'the', 'rest', 'of', 'the', 'paragraph', '.']\n"
     ]
    }
   ],
   "source": [
    "# Word tokenizer\n",
    "from nltk.tokenize import word_tokenize\n",
    "word_tk= word_tokenize(text)\n",
    "print(word_tk)"
   ]
  },
  {
   "cell_type": "code",
   "execution_count": 15,
   "metadata": {},
   "outputs": [
    {
     "output_type": "stream",
     "name": "stderr",
     "text": [
      "[nltk_data] Downloading package stopwords to\n",
      "[nltk_data]     C:\\Users\\LENOVO\\AppData\\Roaming\\nltk_data...\n",
      "[nltk_data]   Unzipping corpora\\stopwords.zip.\n"
     ]
    },
    {
     "output_type": "execute_result",
     "data": {
      "text/plain": [
       "True"
      ]
     },
     "metadata": {},
     "execution_count": 15
    }
   ],
   "source": [
    "nltk.download('stopwords')"
   ]
  },
  {
   "cell_type": "code",
   "execution_count": 16,
   "metadata": {},
   "outputs": [
    {
     "output_type": "stream",
     "name": "stdout",
     "text": [
      "Stop words in english are: {'i', 'himself', 'haven', 'further', 'not', 'be', 'up', 'had', 'don', 'didn', 'both', \"shan't\", 'can', 'an', 'yourselves', \"should've\", 'with', 't', 'we', \"that'll\", 'did', 'what', 'it', \"haven't\", 'my', \"you've\", 'to', 'are', 'our', 'which', 's', \"hasn't\", 'before', 'until', 'whom', 'in', 'd', 'yours', 'should', 'o', 'these', 'on', 'own', 'll', 'because', 'other', 'yourself', 'does', 'he', \"aren't\", 'or', 'now', \"needn't\", \"shouldn't\", 'won', 'm', 'off', 'a', 'of', 'has', \"you'd\", 'into', 'through', 'me', 'so', 'am', 'ain', 'wasn', 'will', 'just', 'were', 'again', \"you're\", 'against', 're', 'while', 'do', 'they', 'than', 'her', \"mustn't\", 'doing', 'their', 'only', \"couldn't\", \"won't\", \"hadn't\", 'the', 'out', 'was', 'if', \"isn't\", 'shouldn', 'this', 'such', 'between', 'shan', 'is', 'over', 'no', \"doesn't\", 'she', 'them', 'hadn', 'couldn', 'doesn', \"you'll\", 'above', 'weren', 'you', 'but', 'your', \"mightn't\", \"didn't\", 'from', 'all', 'have', 'at', 'how', \"don't\", 'y', 'that', 'and', 'during', 'when', 'same', \"wasn't\", 'nor', 'here', 'mightn', 'myself', 'having', 'hers', 'his', \"wouldn't\", 'where', \"it's\", 'who', 'there', 'most', 'down', 'him', 'each', 'few', 'below', 'been', 'isn', 'any', 'after', 'being', 'theirs', 'once', 'about', 'its', 'by', 'under', 'ours', 'hasn', 'mustn', 'aren', 'ma', 'as', 'itself', 'those', \"weren't\", 'themselves', \"she's\", 'ourselves', 'very', 'needn', 've', 'for', 'more', 'wouldn', 'why', 'some', 'herself', 'then', 'too'}\n"
     ]
    }
   ],
   "source": [
    "# Removing stop words\n",
    "from nltk.corpus import stopwords\n",
    "sw= set(stopwords.words('english'))\n",
    "print(\"Stop words in english are:\", sw)"
   ]
  },
  {
   "cell_type": "code",
   "execution_count": 20,
   "metadata": {},
   "outputs": [
    {
     "output_type": "stream",
     "name": "stdout",
     "text": [
      "['Paragraphs', 'building', 'blocks', 'papers', '.', 'Many', 'students', 'define', 'paragraphs', 'terms', 'length', ':', 'paragraph', 'group', 'least', 'five', 'sentences', ',', 'paragraph', 'half', 'page', 'long', ',', 'etc', '.', 'In', 'reality', ',', 'though', ',', 'unity', 'coherence', 'ideas', 'among', 'sentences', 'constitutes', 'paragraph', '.', 'A', 'paragraph', 'defined', '“', 'group', 'sentences', 'single', 'sentence', 'forms', 'unit', '”', '(', 'Lunsford', 'Connors', '116', ')', '.', 'Length', 'appearance', 'determine', 'whether', 'section', 'paper', 'paragraph', '.', 'For', 'instance', ',', 'styles', 'writing', ',', 'particularly', 'journalistic', 'styles', ',', 'paragraph', 'one', 'sentence', 'long', '.', 'Ultimately', ',', 'paragraph', 'sentence', 'group', 'sentences', 'support', 'one', 'main', 'idea', '.', 'In', 'handout', ',', 'refer', '“', 'controlling', 'idea', ',', '”', 'controls', 'happens', 'rest', 'paragraph', '.']\n"
     ]
    }
   ],
   "source": [
    "filter= [w for w in word_tk if not w in sw]\n",
    "print(filter)"
   ]
  }
 ]
}