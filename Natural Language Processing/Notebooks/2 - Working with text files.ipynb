{
 "cells": [
  {
   "cell_type": "code",
   "execution_count": 1,
   "metadata": {},
   "outputs": [
    {
     "name": "stdout",
     "output_type": "stream",
     "text": [
      "Writing test.txt\n"
     ]
    }
   ],
   "source": [
    "%%writefile test.txt\n",
    "Here, immediately below the magic command we can \n",
    "write the contents of the text file. Here %% is the magic command\n",
    "avaiable specific to jupyer notebook, writefile is the command used \n",
    "to create a new text file followed by the text file name represented as test"
   ]
  },
  {
   "cell_type": "code",
   "execution_count": 3,
   "metadata": {},
   "outputs": [],
   "source": [
    "# to open the file\n",
    "myfile = open('test.txt')\n",
    "\n",
    "# By default, it opens in read mode"
   ]
  },
  {
   "cell_type": "code",
   "execution_count": 4,
   "metadata": {},
   "outputs": [
    {
     "data": {
      "text/plain": [
       "'Here, immediately below the magic command we can \\nwrite the contents of the text file. Here %% is the magic command\\navaiable specific to jupyer notebook, writefile is the command used \\nto create a new text file followed by the text file name represented as test\\n'"
      ]
     },
     "execution_count": 4,
     "metadata": {},
     "output_type": "execute_result"
    }
   ],
   "source": [
    "# to read the file\n",
    "myfile.read()\n",
    "\n",
    "# Here, when the read method is being called, the cursor reads from the beginning of the text to last line of the text"
   ]
  },
  {
   "cell_type": "code",
   "execution_count": 5,
   "metadata": {},
   "outputs": [
    {
     "data": {
      "text/plain": [
       "''"
      ]
     },
     "execution_count": 5,
     "metadata": {},
     "output_type": "execute_result"
    }
   ],
   "source": [
    "# Since, the cursor has reached the end of the line, there is nothing left in the text to be read\n",
    "myfile.read()\n",
    "\n",
    "# From this, it is clear that we just can't read the file name again and again"
   ]
  },
  {
   "cell_type": "code",
   "execution_count": 6,
   "metadata": {},
   "outputs": [
    {
     "data": {
      "text/plain": [
       "'Here, immediately below the magic command we can \\nwrite the contents of the text file. Here %% is the magic command\\navaiable specific to jupyer notebook, writefile is the command used \\nto create a new text file followed by the text file name represented as test\\n'"
      ]
     },
     "execution_count": 6,
     "metadata": {},
     "output_type": "execute_result"
    }
   ],
   "source": [
    "# To fix this issue, we can seek back the cursor to the index position that is the beginning and read the file from the beginning again\n",
    "myfile.seek(0)  # sets the cursor back to the index position\n",
    "myfile.read()   # since curosr was set to the beginning, we can read the contents of the file again"
   ]
  },
  {
   "cell_type": "code",
   "execution_count": 7,
   "metadata": {},
   "outputs": [
    {
     "name": "stdout",
     "output_type": "stream",
     "text": [
      "Here, immediately below the magic command we can \n",
      "write the contents of the text file. Here %% is the magic command\n",
      "avaiable specific to jupyer notebook, writefile is the command used \n",
      "to create a new text file followed by the text file name represented as test\n",
      "\n"
     ]
    }
   ],
   "source": [
    "myfile.seek(0)\n",
    "content = myfile.read()\n",
    "print(content)"
   ]
  },
  {
   "cell_type": "code",
   "execution_count": 8,
   "metadata": {},
   "outputs": [],
   "source": [
    "# alwys close a file when done\n",
    "myfile.close()"
   ]
  },
  {
   "cell_type": "code",
   "execution_count": 9,
   "metadata": {},
   "outputs": [],
   "source": [
    "# readline can print each of the line separetely in a python list\n",
    "\n",
    "myfile = open('test.txt')"
   ]
  },
  {
   "cell_type": "code",
   "execution_count": 10,
   "metadata": {},
   "outputs": [
    {
     "data": {
      "text/plain": [
       "['Here, immediately below the magic command we can \\n',\n",
       " 'write the contents of the text file. Here %% is the magic command\\n',\n",
       " 'avaiable specific to jupyer notebook, writefile is the command used \\n',\n",
       " 'to create a new text file followed by the text file name represented as test\\n']"
      ]
     },
     "execution_count": 10,
     "metadata": {},
     "output_type": "execute_result"
    }
   ],
   "source": [
    "myfile.readlines()  # we can say that \\n is used as a delimiter to save each lines separately"
   ]
  },
  {
   "cell_type": "code",
   "execution_count": 11,
   "metadata": {},
   "outputs": [],
   "source": [
    "myfile.seek(0)\n",
    "mylines  = myfile.readlines()"
   ]
  },
  {
   "cell_type": "code",
   "execution_count": 13,
   "metadata": {},
   "outputs": [
    {
     "name": "stdout",
     "output_type": "stream",
     "text": [
      "['Here, immediately below the magic command we can \\n', 'write the contents of the text file. Here %% is the magic command\\n', 'avaiable specific to jupyer notebook, writefile is the command used \\n', 'to create a new text file followed by the text file name represented as test\\n']\n"
     ]
    }
   ],
   "source": [
    "print(mylines)  # we can see that it has list of items whenever a \\n is encountered"
   ]
  },
  {
   "cell_type": "code",
   "execution_count": 16,
   "metadata": {},
   "outputs": [],
   "source": [
    "# Writing to a file, by default the open() opens only in read mode\n",
    "\n",
    "myfile = open('test.txt', mode='w+')    # w+ - reads and writes"
   ]
  },
  {
   "cell_type": "code",
   "execution_count": 17,
   "metadata": {},
   "outputs": [
    {
     "data": {
      "text/plain": [
       "''"
      ]
     },
     "execution_count": 17,
     "metadata": {},
     "output_type": "execute_result"
    }
   ],
   "source": [
    "myfile.read()   # when w+ is used we are overriding the original text hence it is blank"
   ]
  },
  {
   "cell_type": "code",
   "execution_count": 18,
   "metadata": {},
   "outputs": [
    {
     "data": {
      "text/plain": [
       "18"
      ]
     },
     "execution_count": 18,
     "metadata": {},
     "output_type": "execute_result"
    }
   ],
   "source": [
    "myfile.write(\"This is a new text\")"
   ]
  },
  {
   "cell_type": "code",
   "execution_count": 19,
   "metadata": {},
   "outputs": [
    {
     "data": {
      "text/plain": [
       "'This is a new text'"
      ]
     },
     "execution_count": 19,
     "metadata": {},
     "output_type": "execute_result"
    }
   ],
   "source": [
    "myfile.seek(0)\n",
    "myfile.read()   # It has overwritten the previous text which was written"
   ]
  },
  {
   "cell_type": "code",
   "execution_count": 20,
   "metadata": {},
   "outputs": [],
   "source": [
    "myfile.close()"
   ]
  },
  {
   "cell_type": "code",
   "execution_count": 21,
   "metadata": {},
   "outputs": [],
   "source": [
    "# append to a file - keeps the old content and new contents after that\n",
    "myfile = open('test.txt', mode='a+')"
   ]
  },
  {
   "cell_type": "code",
   "execution_count": 22,
   "metadata": {},
   "outputs": [
    {
     "data": {
      "text/plain": [
       "25"
      ]
     },
     "execution_count": 22,
     "metadata": {},
     "output_type": "execute_result"
    }
   ],
   "source": [
    "myfile.write(\"This is the appended line\")"
   ]
  },
  {
   "cell_type": "code",
   "execution_count": 23,
   "metadata": {},
   "outputs": [],
   "source": [
    "myfile.close()"
   ]
  },
  {
   "cell_type": "code",
   "execution_count": 26,
   "metadata": {},
   "outputs": [
    {
     "data": {
      "text/plain": [
       "'This is a new textThis is the appended line'"
      ]
     },
     "execution_count": 26,
     "metadata": {},
     "output_type": "execute_result"
    }
   ],
   "source": [
    "newfile = open('test.txt')\n",
    "newfile.read()"
   ]
  },
  {
   "cell_type": "code",
   "execution_count": 27,
   "metadata": {},
   "outputs": [],
   "source": [
    "# anotehr method to close a file, called as context managers\n",
    "with open('test.txt','r') as newfile:\n",
    "    myvar = newfile.readlines()\n",
    "\n",
    "# this automatically closes the file when the above block of code is ran"
   ]
  },
  {
   "cell_type": "code",
   "execution_count": null,
   "metadata": {},
   "outputs": [],
   "source": []
  }
 ],
 "metadata": {
  "kernelspec": {
   "display_name": "Python 3",
   "language": "python",
   "name": "python3"
  },
  "language_info": {
   "codemirror_mode": {
    "name": "ipython",
    "version": 3
   },
   "file_extension": ".py",
   "mimetype": "text/x-python",
   "name": "python",
   "nbconvert_exporter": "python",
   "pygments_lexer": "ipython3",
   "version": "3.10.9"
  },
  "orig_nbformat": 4
 },
 "nbformat": 4,
 "nbformat_minor": 2
}
