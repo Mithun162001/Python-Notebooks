{
 "metadata": {
  "language_info": {
   "codemirror_mode": {
    "name": "ipython",
    "version": 3
   },
   "file_extension": ".py",
   "mimetype": "text/x-python",
   "name": "python",
   "nbconvert_exporter": "python",
   "pygments_lexer": "ipython3",
   "version": "3.7.9-final"
  },
  "orig_nbformat": 2,
  "kernelspec": {
   "name": "python3",
   "display_name": "Python 3",
   "language": "python"
  }
 },
 "nbformat": 4,
 "nbformat_minor": 2,
 "cells": [
  {
   "source": [
    "# PLOTLY AND CUFFLINKS"
   ],
   "cell_type": "markdown",
   "metadata": {}
  },
  {
   "source": [
    "* Plotly is an interactive visualization theory\n",
    "* Cufflinks is used to connect plotly to work with Pandas data structure"
   ],
   "cell_type": "markdown",
   "metadata": {}
  },
  {
   "cell_type": "code",
   "execution_count": 1,
   "metadata": {},
   "outputs": [],
   "source": [
    "import numpy as np \n",
    "import pandas as pd "
   ]
  },
  {
   "cell_type": "code",
   "execution_count": 33,
   "metadata": {},
   "outputs": [],
   "source": [
    "import seaborn as sns\n",
    "import matplotlib.pyplot as plt"
   ]
  },
  {
   "source": [
    "pip install plotly"
   ],
   "cell_type": "markdown",
   "metadata": {}
  },
  {
   "source": [
    "pip install cufflinks"
   ],
   "cell_type": "markdown",
   "metadata": {}
  },
  {
   "cell_type": "code",
   "execution_count": 2,
   "metadata": {},
   "outputs": [
    {
     "output_type": "stream",
     "name": "stdout",
     "text": [
      "4.14.1\n"
     ]
    }
   ],
   "source": [
    "from plotly import __version__\n",
    "print(__version__)"
   ]
  },
  {
   "cell_type": "code",
   "execution_count": 6,
   "metadata": {},
   "outputs": [],
   "source": [
    "import plotly.offline"
   ]
  },
  {
   "cell_type": "code",
   "execution_count": 3,
   "metadata": {},
   "outputs": [],
   "source": [
    "import cufflinks as cf \n",
    "from plotly.offline import download_plotlyjs, init_notebook_mode, plot, iplot"
   ]
  },
  {
   "cell_type": "code",
   "execution_count": 7,
   "metadata": {},
   "outputs": [
    {
     "output_type": "display_data",
     "data": {
      "text/html": "        <script type=\"text/javascript\">\n        window.PlotlyConfig = {MathJaxConfig: 'local'};\n        if (window.MathJax) {MathJax.Hub.Config({SVG: {font: \"STIX-Web\"}});}\n        if (typeof require !== 'undefined') {\n        require.undef(\"plotly\");\n        requirejs.config({\n            paths: {\n                'plotly': ['https://cdn.plot.ly/plotly-latest.min']\n            }\n        });\n        require(['plotly'], function(Plotly) {\n            window._Plotly = Plotly;\n        });\n        }\n        </script>\n        "
     },
     "metadata": {}
    }
   ],
   "source": [
    "init_notebook_mode(connected=True)  # this connects to Java Script of plotly to the nonotebook"
   ]
  },
  {
   "cell_type": "code",
   "execution_count": 5,
   "metadata": {},
   "outputs": [
    {
     "output_type": "display_data",
     "data": {
      "text/html": "        <script type=\"text/javascript\">\n        window.PlotlyConfig = {MathJaxConfig: 'local'};\n        if (window.MathJax) {MathJax.Hub.Config({SVG: {font: \"STIX-Web\"}});}\n        if (typeof require !== 'undefined') {\n        require.undef(\"plotly\");\n        requirejs.config({\n            paths: {\n                'plotly': ['https://cdn.plot.ly/plotly-latest.min']\n            }\n        });\n        require(['plotly'], function(Plotly) {\n            window._Plotly = Plotly;\n        });\n        }\n        </script>\n        "
     },
     "metadata": {}
    }
   ],
   "source": [
    "cf.go_offline() # this allows us to use cufflinks offline"
   ]
  },
  {
   "source": [
    "**Data:-**"
   ],
   "cell_type": "markdown",
   "metadata": {}
  },
  {
   "cell_type": "code",
   "execution_count": 10,
   "metadata": {},
   "outputs": [
    {
     "output_type": "execute_result",
     "data": {
      "text/plain": [
       "          A         B         C         D\n",
       "0 -0.979252 -0.003304 -1.029169 -0.463081\n",
       "1  0.959805  0.314245 -0.625598 -0.228933\n",
       "2  1.287950 -1.504523  1.041798  0.281528\n",
       "3 -0.758053  1.004443  2.244949  0.841148\n",
       "4  0.739539 -0.378628 -0.679595  0.093354"
      ],
      "text/html": "<div>\n<style scoped>\n    .dataframe tbody tr th:only-of-type {\n        vertical-align: middle;\n    }\n\n    .dataframe tbody tr th {\n        vertical-align: top;\n    }\n\n    .dataframe thead th {\n        text-align: right;\n    }\n</style>\n<table border=\"1\" class=\"dataframe\">\n  <thead>\n    <tr style=\"text-align: right;\">\n      <th></th>\n      <th>A</th>\n      <th>B</th>\n      <th>C</th>\n      <th>D</th>\n    </tr>\n  </thead>\n  <tbody>\n    <tr>\n      <th>0</th>\n      <td>-0.979252</td>\n      <td>-0.003304</td>\n      <td>-1.029169</td>\n      <td>-0.463081</td>\n    </tr>\n    <tr>\n      <th>1</th>\n      <td>0.959805</td>\n      <td>0.314245</td>\n      <td>-0.625598</td>\n      <td>-0.228933</td>\n    </tr>\n    <tr>\n      <th>2</th>\n      <td>1.287950</td>\n      <td>-1.504523</td>\n      <td>1.041798</td>\n      <td>0.281528</td>\n    </tr>\n    <tr>\n      <th>3</th>\n      <td>-0.758053</td>\n      <td>1.004443</td>\n      <td>2.244949</td>\n      <td>0.841148</td>\n    </tr>\n    <tr>\n      <th>4</th>\n      <td>0.739539</td>\n      <td>-0.378628</td>\n      <td>-0.679595</td>\n      <td>0.093354</td>\n    </tr>\n  </tbody>\n</table>\n</div>"
     },
     "metadata": {},
     "execution_count": 10
    }
   ],
   "source": [
    "df=pd.DataFrame(np.random.randn(100,4), columns=['A','B','C','D'])\n",
    "df.head()"
   ]
  },
  {
   "cell_type": "code",
   "execution_count": 111,
   "metadata": {},
   "outputs": [
    {
     "output_type": "execute_result",
     "data": {
      "text/plain": [
       "  category  values\n",
       "0        A      32\n",
       "1        B      43\n",
       "2        C      50"
      ],
      "text/html": "<div>\n<style scoped>\n    .dataframe tbody tr th:only-of-type {\n        vertical-align: middle;\n    }\n\n    .dataframe tbody tr th {\n        vertical-align: top;\n    }\n\n    .dataframe thead th {\n        text-align: right;\n    }\n</style>\n<table border=\"1\" class=\"dataframe\">\n  <thead>\n    <tr style=\"text-align: right;\">\n      <th></th>\n      <th>category</th>\n      <th>values</th>\n    </tr>\n  </thead>\n  <tbody>\n    <tr>\n      <th>0</th>\n      <td>A</td>\n      <td>32</td>\n    </tr>\n    <tr>\n      <th>1</th>\n      <td>B</td>\n      <td>43</td>\n    </tr>\n    <tr>\n      <th>2</th>\n      <td>C</td>\n      <td>50</td>\n    </tr>\n  </tbody>\n</table>\n</div>"
     },
     "metadata": {},
     "execution_count": 111
    }
   ],
   "source": [
    "df2=pd.DataFrame({'category': ['A', 'B', 'C'], 'values': [32,43,50]})\n",
    "df2.head()"
   ]
  },
  {
   "cell_type": "code",
   "execution_count": 195,
   "metadata": {},
   "outputs": [
    {
     "output_type": "execute_result",
     "data": {
      "text/plain": [
       "   x   y  z\n",
       "0  1  10  5\n",
       "1  2  20  4\n",
       "2  3  30  3\n",
       "3  4  40  2\n",
       "4  5  50  1"
      ],
      "text/html": "<div>\n<style scoped>\n    .dataframe tbody tr th:only-of-type {\n        vertical-align: middle;\n    }\n\n    .dataframe tbody tr th {\n        vertical-align: top;\n    }\n\n    .dataframe thead th {\n        text-align: right;\n    }\n</style>\n<table border=\"1\" class=\"dataframe\">\n  <thead>\n    <tr style=\"text-align: right;\">\n      <th></th>\n      <th>x</th>\n      <th>y</th>\n      <th>z</th>\n    </tr>\n  </thead>\n  <tbody>\n    <tr>\n      <th>0</th>\n      <td>1</td>\n      <td>10</td>\n      <td>5</td>\n    </tr>\n    <tr>\n      <th>1</th>\n      <td>2</td>\n      <td>20</td>\n      <td>4</td>\n    </tr>\n    <tr>\n      <th>2</th>\n      <td>3</td>\n      <td>30</td>\n      <td>3</td>\n    </tr>\n    <tr>\n      <th>3</th>\n      <td>4</td>\n      <td>40</td>\n      <td>2</td>\n    </tr>\n    <tr>\n      <th>4</th>\n      <td>5</td>\n      <td>50</td>\n      <td>1</td>\n    </tr>\n  </tbody>\n</table>\n</div>"
     },
     "metadata": {},
     "execution_count": 195
    }
   ],
   "source": [
    "df3= pd.DataFrame({'x': [1,2,3,4,5], 'y': [10,20,30,40,50], 'z':[5,4,3,2,1]})\n",
    "df3.head()          # This is more like a 3 dimensional axis values"
   ]
  },
  {
   "source": [
    "***Difference between matplotlib, Seaborn and Plotly***"
   ],
   "cell_type": "markdown",
   "metadata": {}
  },
  {
   "source": [
    "*matplotlib*"
   ],
   "cell_type": "markdown",
   "metadata": {}
  },
  {
   "cell_type": "code",
   "execution_count": 23,
   "metadata": {},
   "outputs": [
    {
     "output_type": "execute_result",
     "data": {
      "text/plain": [
       "<AxesSubplot:>"
      ]
     },
     "metadata": {},
     "execution_count": 23
    },
    {
     "output_type": "display_data",
     "data": {
      "text/plain": "<Figure size 432x288 with 1 Axes>",
      "image/svg+xml": "<?xml version=\"1.0\" encoding=\"utf-8\" standalone=\"no\"?>\r\n<!DOCTYPE svg PUBLIC \"-//W3C//DTD SVG 1.1//EN\"\r\n  \"http://www.w3.org/Graphics/SVG/1.1/DTD/svg11.dtd\">\r\n<!-- Created with matplotlib (https://matplotlib.org/) -->\r\n<svg height=\"248.518125pt\" version=\"1.1\" viewBox=\"0 0 370.942187 248.518125\" width=\"370.942187pt\" xmlns=\"http://www.w3.org/2000/svg\" xmlns:xlink=\"http://www.w3.org/1999/xlink\">\r\n <metadata>\r\n  <rdf:RDF xmlns:cc=\"http://creativecommons.org/ns#\" xmlns:dc=\"http://purl.org/dc/elements/1.1/\" xmlns:rdf=\"http://www.w3.org/1999/02/22-rdf-syntax-ns#\">\r\n   <cc:Work>\r\n    <dc:type rdf:resource=\"http://purl.org/dc/dcmitype/StillImage\"/>\r\n    <dc:date>2020-12-20T12:04:55.199111</dc:date>\r\n    <dc:format>image/svg+xml</dc:format>\r\n    <dc:creator>\r\n     <cc:Agent>\r\n      <dc:title>Matplotlib v3.3.2, https://matplotlib.org/</dc:title>\r\n     </cc:Agent>\r\n    </dc:creator>\r\n   </cc:Work>\r\n  </rdf:RDF>\r\n </metadata>\r\n <defs>\r\n  <style type=\"text/css\">*{stroke-linecap:butt;stroke-linejoin:round;}</style>\r\n </defs>\r\n <g id=\"figure_1\">\r\n  <g id=\"patch_1\">\r\n   <path d=\"M 0 248.518125 \r\nL 370.942187 248.518125 \r\nL 370.942187 0 \r\nL 0 0 \r\nz\r\n\" style=\"fill:none;\"/>\r\n  </g>\r\n  <g id=\"axes_1\">\r\n   <g id=\"patch_2\">\r\n    <path d=\"M 28.942188 224.64 \r\nL 363.742188 224.64 \r\nL 363.742188 7.2 \r\nL 28.942188 7.2 \r\nz\r\n\" style=\"fill:#ffffff;\"/>\r\n   </g>\r\n   <g id=\"matplotlib.axis_1\">\r\n    <g id=\"xtick_1\">\r\n     <g id=\"line2d_1\">\r\n      <defs>\r\n       <path d=\"M 0 0 \r\nL 0 3.5 \r\n\" id=\"m7a705481b7\" style=\"stroke:#000000;stroke-width:0.8;\"/>\r\n      </defs>\r\n      <g>\r\n       <use style=\"stroke:#000000;stroke-width:0.8;\" x=\"44.160369\" xlink:href=\"#m7a705481b7\" y=\"224.64\"/>\r\n      </g>\r\n     </g>\r\n     <g id=\"text_1\">\r\n      <!-- 0 -->\r\n      <g transform=\"translate(40.979119 239.238437)scale(0.1 -0.1)\">\r\n       <defs>\r\n        <path d=\"M 31.78125 66.40625 \r\nQ 24.171875 66.40625 20.328125 58.90625 \r\nQ 16.5 51.421875 16.5 36.375 \r\nQ 16.5 21.390625 20.328125 13.890625 \r\nQ 24.171875 6.390625 31.78125 6.390625 \r\nQ 39.453125 6.390625 43.28125 13.890625 \r\nQ 47.125 21.390625 47.125 36.375 \r\nQ 47.125 51.421875 43.28125 58.90625 \r\nQ 39.453125 66.40625 31.78125 66.40625 \r\nz\r\nM 31.78125 74.21875 \r\nQ 44.046875 74.21875 50.515625 64.515625 \r\nQ 56.984375 54.828125 56.984375 36.375 \r\nQ 56.984375 17.96875 50.515625 8.265625 \r\nQ 44.046875 -1.421875 31.78125 -1.421875 \r\nQ 19.53125 -1.421875 13.0625 8.265625 \r\nQ 6.59375 17.96875 6.59375 36.375 \r\nQ 6.59375 54.828125 13.0625 64.515625 \r\nQ 19.53125 74.21875 31.78125 74.21875 \r\nz\r\n\" id=\"DejaVuSans-48\"/>\r\n       </defs>\r\n       <use xlink:href=\"#DejaVuSans-48\"/>\r\n      </g>\r\n     </g>\r\n    </g>\r\n    <g id=\"xtick_2\">\r\n     <g id=\"line2d_2\">\r\n      <g>\r\n       <use style=\"stroke:#000000;stroke-width:0.8;\" x=\"105.647973\" xlink:href=\"#m7a705481b7\" y=\"224.64\"/>\r\n      </g>\r\n     </g>\r\n     <g id=\"text_2\">\r\n      <!-- 20 -->\r\n      <g transform=\"translate(99.285473 239.238437)scale(0.1 -0.1)\">\r\n       <defs>\r\n        <path d=\"M 19.1875 8.296875 \r\nL 53.609375 8.296875 \r\nL 53.609375 0 \r\nL 7.328125 0 \r\nL 7.328125 8.296875 \r\nQ 12.9375 14.109375 22.625 23.890625 \r\nQ 32.328125 33.6875 34.8125 36.53125 \r\nQ 39.546875 41.84375 41.421875 45.53125 \r\nQ 43.3125 49.21875 43.3125 52.78125 \r\nQ 43.3125 58.59375 39.234375 62.25 \r\nQ 35.15625 65.921875 28.609375 65.921875 \r\nQ 23.96875 65.921875 18.8125 64.3125 \r\nQ 13.671875 62.703125 7.8125 59.421875 \r\nL 7.8125 69.390625 \r\nQ 13.765625 71.78125 18.9375 73 \r\nQ 24.125 74.21875 28.421875 74.21875 \r\nQ 39.75 74.21875 46.484375 68.546875 \r\nQ 53.21875 62.890625 53.21875 53.421875 \r\nQ 53.21875 48.921875 51.53125 44.890625 \r\nQ 49.859375 40.875 45.40625 35.40625 \r\nQ 44.1875 33.984375 37.640625 27.21875 \r\nQ 31.109375 20.453125 19.1875 8.296875 \r\nz\r\n\" id=\"DejaVuSans-50\"/>\r\n       </defs>\r\n       <use xlink:href=\"#DejaVuSans-50\"/>\r\n       <use x=\"63.623047\" xlink:href=\"#DejaVuSans-48\"/>\r\n      </g>\r\n     </g>\r\n    </g>\r\n    <g id=\"xtick_3\">\r\n     <g id=\"line2d_3\">\r\n      <g>\r\n       <use style=\"stroke:#000000;stroke-width:0.8;\" x=\"167.135576\" xlink:href=\"#m7a705481b7\" y=\"224.64\"/>\r\n      </g>\r\n     </g>\r\n     <g id=\"text_3\">\r\n      <!-- 40 -->\r\n      <g transform=\"translate(160.773076 239.238437)scale(0.1 -0.1)\">\r\n       <defs>\r\n        <path d=\"M 37.796875 64.3125 \r\nL 12.890625 25.390625 \r\nL 37.796875 25.390625 \r\nz\r\nM 35.203125 72.90625 \r\nL 47.609375 72.90625 \r\nL 47.609375 25.390625 \r\nL 58.015625 25.390625 \r\nL 58.015625 17.1875 \r\nL 47.609375 17.1875 \r\nL 47.609375 0 \r\nL 37.796875 0 \r\nL 37.796875 17.1875 \r\nL 4.890625 17.1875 \r\nL 4.890625 26.703125 \r\nz\r\n\" id=\"DejaVuSans-52\"/>\r\n       </defs>\r\n       <use xlink:href=\"#DejaVuSans-52\"/>\r\n       <use x=\"63.623047\" xlink:href=\"#DejaVuSans-48\"/>\r\n      </g>\r\n     </g>\r\n    </g>\r\n    <g id=\"xtick_4\">\r\n     <g id=\"line2d_4\">\r\n      <g>\r\n       <use style=\"stroke:#000000;stroke-width:0.8;\" x=\"228.623179\" xlink:href=\"#m7a705481b7\" y=\"224.64\"/>\r\n      </g>\r\n     </g>\r\n     <g id=\"text_4\">\r\n      <!-- 60 -->\r\n      <g transform=\"translate(222.260679 239.238437)scale(0.1 -0.1)\">\r\n       <defs>\r\n        <path d=\"M 33.015625 40.375 \r\nQ 26.375 40.375 22.484375 35.828125 \r\nQ 18.609375 31.296875 18.609375 23.390625 \r\nQ 18.609375 15.53125 22.484375 10.953125 \r\nQ 26.375 6.390625 33.015625 6.390625 \r\nQ 39.65625 6.390625 43.53125 10.953125 \r\nQ 47.40625 15.53125 47.40625 23.390625 \r\nQ 47.40625 31.296875 43.53125 35.828125 \r\nQ 39.65625 40.375 33.015625 40.375 \r\nz\r\nM 52.59375 71.296875 \r\nL 52.59375 62.3125 \r\nQ 48.875 64.0625 45.09375 64.984375 \r\nQ 41.3125 65.921875 37.59375 65.921875 \r\nQ 27.828125 65.921875 22.671875 59.328125 \r\nQ 17.53125 52.734375 16.796875 39.40625 \r\nQ 19.671875 43.65625 24.015625 45.921875 \r\nQ 28.375 48.1875 33.59375 48.1875 \r\nQ 44.578125 48.1875 50.953125 41.515625 \r\nQ 57.328125 34.859375 57.328125 23.390625 \r\nQ 57.328125 12.15625 50.6875 5.359375 \r\nQ 44.046875 -1.421875 33.015625 -1.421875 \r\nQ 20.359375 -1.421875 13.671875 8.265625 \r\nQ 6.984375 17.96875 6.984375 36.375 \r\nQ 6.984375 53.65625 15.1875 63.9375 \r\nQ 23.390625 74.21875 37.203125 74.21875 \r\nQ 40.921875 74.21875 44.703125 73.484375 \r\nQ 48.484375 72.75 52.59375 71.296875 \r\nz\r\n\" id=\"DejaVuSans-54\"/>\r\n       </defs>\r\n       <use xlink:href=\"#DejaVuSans-54\"/>\r\n       <use x=\"63.623047\" xlink:href=\"#DejaVuSans-48\"/>\r\n      </g>\r\n     </g>\r\n    </g>\r\n    <g id=\"xtick_5\">\r\n     <g id=\"line2d_5\">\r\n      <g>\r\n       <use style=\"stroke:#000000;stroke-width:0.8;\" x=\"290.110783\" xlink:href=\"#m7a705481b7\" y=\"224.64\"/>\r\n      </g>\r\n     </g>\r\n     <g id=\"text_5\">\r\n      <!-- 80 -->\r\n      <g transform=\"translate(283.748283 239.238437)scale(0.1 -0.1)\">\r\n       <defs>\r\n        <path d=\"M 31.78125 34.625 \r\nQ 24.75 34.625 20.71875 30.859375 \r\nQ 16.703125 27.09375 16.703125 20.515625 \r\nQ 16.703125 13.921875 20.71875 10.15625 \r\nQ 24.75 6.390625 31.78125 6.390625 \r\nQ 38.8125 6.390625 42.859375 10.171875 \r\nQ 46.921875 13.96875 46.921875 20.515625 \r\nQ 46.921875 27.09375 42.890625 30.859375 \r\nQ 38.875 34.625 31.78125 34.625 \r\nz\r\nM 21.921875 38.8125 \r\nQ 15.578125 40.375 12.03125 44.71875 \r\nQ 8.5 49.078125 8.5 55.328125 \r\nQ 8.5 64.0625 14.71875 69.140625 \r\nQ 20.953125 74.21875 31.78125 74.21875 \r\nQ 42.671875 74.21875 48.875 69.140625 \r\nQ 55.078125 64.0625 55.078125 55.328125 \r\nQ 55.078125 49.078125 51.53125 44.71875 \r\nQ 48 40.375 41.703125 38.8125 \r\nQ 48.828125 37.15625 52.796875 32.3125 \r\nQ 56.78125 27.484375 56.78125 20.515625 \r\nQ 56.78125 9.90625 50.3125 4.234375 \r\nQ 43.84375 -1.421875 31.78125 -1.421875 \r\nQ 19.734375 -1.421875 13.25 4.234375 \r\nQ 6.78125 9.90625 6.78125 20.515625 \r\nQ 6.78125 27.484375 10.78125 32.3125 \r\nQ 14.796875 37.15625 21.921875 38.8125 \r\nz\r\nM 18.3125 54.390625 \r\nQ 18.3125 48.734375 21.84375 45.5625 \r\nQ 25.390625 42.390625 31.78125 42.390625 \r\nQ 38.140625 42.390625 41.71875 45.5625 \r\nQ 45.3125 48.734375 45.3125 54.390625 \r\nQ 45.3125 60.0625 41.71875 63.234375 \r\nQ 38.140625 66.40625 31.78125 66.40625 \r\nQ 25.390625 66.40625 21.84375 63.234375 \r\nQ 18.3125 60.0625 18.3125 54.390625 \r\nz\r\n\" id=\"DejaVuSans-56\"/>\r\n       </defs>\r\n       <use xlink:href=\"#DejaVuSans-56\"/>\r\n       <use x=\"63.623047\" xlink:href=\"#DejaVuSans-48\"/>\r\n      </g>\r\n     </g>\r\n    </g>\r\n    <g id=\"xtick_6\">\r\n     <g id=\"line2d_6\">\r\n      <g>\r\n       <use style=\"stroke:#000000;stroke-width:0.8;\" x=\"351.598386\" xlink:href=\"#m7a705481b7\" y=\"224.64\"/>\r\n      </g>\r\n     </g>\r\n     <g id=\"text_6\">\r\n      <!-- 100 -->\r\n      <g transform=\"translate(342.054636 239.238437)scale(0.1 -0.1)\">\r\n       <defs>\r\n        <path d=\"M 12.40625 8.296875 \r\nL 28.515625 8.296875 \r\nL 28.515625 63.921875 \r\nL 10.984375 60.40625 \r\nL 10.984375 69.390625 \r\nL 28.421875 72.90625 \r\nL 38.28125 72.90625 \r\nL 38.28125 8.296875 \r\nL 54.390625 8.296875 \r\nL 54.390625 0 \r\nL 12.40625 0 \r\nz\r\n\" id=\"DejaVuSans-49\"/>\r\n       </defs>\r\n       <use xlink:href=\"#DejaVuSans-49\"/>\r\n       <use x=\"63.623047\" xlink:href=\"#DejaVuSans-48\"/>\r\n       <use x=\"127.246094\" xlink:href=\"#DejaVuSans-48\"/>\r\n      </g>\r\n     </g>\r\n    </g>\r\n   </g>\r\n   <g id=\"matplotlib.axis_2\">\r\n    <g id=\"ytick_1\">\r\n     <g id=\"line2d_7\">\r\n      <defs>\r\n       <path d=\"M 0 0 \r\nL -3.5 0 \r\n\" id=\"mf2c089b08f\" style=\"stroke:#000000;stroke-width:0.8;\"/>\r\n      </defs>\r\n      <g>\r\n       <use style=\"stroke:#000000;stroke-width:0.8;\" x=\"28.942188\" xlink:href=\"#mf2c089b08f\" y=\"192.328191\"/>\r\n      </g>\r\n     </g>\r\n     <g id=\"text_7\">\r\n      <!-- −2 -->\r\n      <g transform=\"translate(7.2 196.127409)scale(0.1 -0.1)\">\r\n       <defs>\r\n        <path d=\"M 10.59375 35.5 \r\nL 73.1875 35.5 \r\nL 73.1875 27.203125 \r\nL 10.59375 27.203125 \r\nz\r\n\" id=\"DejaVuSans-8722\"/>\r\n       </defs>\r\n       <use xlink:href=\"#DejaVuSans-8722\"/>\r\n       <use x=\"83.789062\" xlink:href=\"#DejaVuSans-50\"/>\r\n      </g>\r\n     </g>\r\n    </g>\r\n    <g id=\"ytick_2\">\r\n     <g id=\"line2d_8\">\r\n      <g>\r\n       <use style=\"stroke:#000000;stroke-width:0.8;\" x=\"28.942188\" xlink:href=\"#mf2c089b08f\" y=\"150.172779\"/>\r\n      </g>\r\n     </g>\r\n     <g id=\"text_8\">\r\n      <!-- −1 -->\r\n      <g transform=\"translate(7.2 153.971997)scale(0.1 -0.1)\">\r\n       <use xlink:href=\"#DejaVuSans-8722\"/>\r\n       <use x=\"83.789062\" xlink:href=\"#DejaVuSans-49\"/>\r\n      </g>\r\n     </g>\r\n    </g>\r\n    <g id=\"ytick_3\">\r\n     <g id=\"line2d_9\">\r\n      <g>\r\n       <use style=\"stroke:#000000;stroke-width:0.8;\" x=\"28.942188\" xlink:href=\"#mf2c089b08f\" y=\"108.017367\"/>\r\n      </g>\r\n     </g>\r\n     <g id=\"text_9\">\r\n      <!-- 0 -->\r\n      <g transform=\"translate(15.579688 111.816585)scale(0.1 -0.1)\">\r\n       <use xlink:href=\"#DejaVuSans-48\"/>\r\n      </g>\r\n     </g>\r\n    </g>\r\n    <g id=\"ytick_4\">\r\n     <g id=\"line2d_10\">\r\n      <g>\r\n       <use style=\"stroke:#000000;stroke-width:0.8;\" x=\"28.942188\" xlink:href=\"#mf2c089b08f\" y=\"65.861955\"/>\r\n      </g>\r\n     </g>\r\n     <g id=\"text_10\">\r\n      <!-- 1 -->\r\n      <g transform=\"translate(15.579688 69.661173)scale(0.1 -0.1)\">\r\n       <use xlink:href=\"#DejaVuSans-49\"/>\r\n      </g>\r\n     </g>\r\n    </g>\r\n    <g id=\"ytick_5\">\r\n     <g id=\"line2d_11\">\r\n      <g>\r\n       <use style=\"stroke:#000000;stroke-width:0.8;\" x=\"28.942188\" xlink:href=\"#mf2c089b08f\" y=\"23.706543\"/>\r\n      </g>\r\n     </g>\r\n     <g id=\"text_11\">\r\n      <!-- 2 -->\r\n      <g transform=\"translate(15.579688 27.505761)scale(0.1 -0.1)\">\r\n       <use xlink:href=\"#DejaVuSans-50\"/>\r\n      </g>\r\n     </g>\r\n    </g>\r\n   </g>\r\n   <g id=\"line2d_12\">\r\n    <path clip-path=\"url(#p0a21556a61)\" d=\"M 44.160369 149.298121 \r\nL 47.234749 67.556391 \r\nL 50.30913 53.723313 \r\nL 53.38351 139.973383 \r\nL 56.45789 76.841776 \r\nL 59.53227 100.842892 \r\nL 62.60665 113.471286 \r\nL 65.68103 89.228892 \r\nL 68.755411 102.211335 \r\nL 71.829791 156.393051 \r\nL 74.904171 77.881066 \r\nL 77.978551 46.556348 \r\nL 81.052931 70.608149 \r\nL 84.127311 95.064041 \r\nL 87.201692 19.670346 \r\nL 90.276072 83.149141 \r\nL 93.350452 64.327298 \r\nL 96.424832 76.870955 \r\nL 99.499212 100.45029 \r\nL 102.573592 92.500999 \r\nL 105.647973 102.247574 \r\nL 108.722353 73.618688 \r\nL 111.796733 114.275265 \r\nL 114.871113 67.505085 \r\nL 117.945493 72.59398 \r\nL 121.019873 101.526156 \r\nL 124.094254 117.461748 \r\nL 127.168634 149.695775 \r\nL 130.243014 109.749856 \r\nL 133.317394 116.590319 \r\nL 136.391774 142.89082 \r\nL 139.466154 139.11813 \r\nL 142.540535 81.760492 \r\nL 145.614915 65.154328 \r\nL 148.689295 202.498528 \r\nL 151.763675 115.642475 \r\nL 154.838055 91.68334 \r\nL 157.912435 108.985931 \r\nL 160.986816 123.909865 \r\nL 164.061196 102.909574 \r\nL 167.135576 107.848069 \r\nL 170.209956 183.996825 \r\nL 173.284336 143.045196 \r\nL 176.358716 123.812132 \r\nL 179.433097 100.956592 \r\nL 182.507477 17.083636 \r\nL 185.581857 96.718916 \r\nL 188.656237 113.462857 \r\nL 191.730617 158.274476 \r\nL 194.804997 39.958692 \r\nL 197.879378 89.403791 \r\nL 200.953758 172.297857 \r\nL 204.028138 166.180445 \r\nL 207.102518 120.963497 \r\nL 210.176898 103.012243 \r\nL 213.251278 115.791241 \r\nL 216.325659 172.785276 \r\nL 219.400039 182.463621 \r\nL 222.474419 158.288739 \r\nL 225.548799 123.695177 \r\nL 228.623179 69.588474 \r\nL 231.697559 162.372141 \r\nL 234.77194 93.287321 \r\nL 237.84632 102.796796 \r\nL 240.9207 120.048047 \r\nL 243.99508 110.326594 \r\nL 247.06946 113.640764 \r\nL 250.14384 107.91267 \r\nL 253.218221 80.684115 \r\nL 256.292601 182.820478 \r\nL 259.366981 105.866653 \r\nL 262.441361 116.798797 \r\nL 265.515741 57.278079 \r\nL 268.590121 92.225947 \r\nL 271.664502 108.327527 \r\nL 274.738882 86.408539 \r\nL 277.813262 107.91546 \r\nL 280.887642 144.115152 \r\nL 283.962022 140.129688 \r\nL 287.036402 183.586413 \r\nL 290.110783 92.809137 \r\nL 293.185163 140.555793 \r\nL 296.259543 36.831476 \r\nL 299.333923 57.682774 \r\nL 302.408303 125.633082 \r\nL 305.482683 18.537796 \r\nL 308.557064 116.640316 \r\nL 311.631444 163.637064 \r\nL 314.705824 183.390421 \r\nL 317.780204 90.876362 \r\nL 320.854584 47.550231 \r\nL 323.928964 132.81271 \r\nL 327.003345 160.024632 \r\nL 330.077725 139.337412 \r\nL 333.152105 105.629624 \r\nL 336.226485 160.199684 \r\nL 339.300865 126.160581 \r\nL 342.375245 214.756364 \r\nL 345.449626 75.986682 \r\nL 348.524006 87.608937 \r\n\" style=\"fill:none;stroke:#1f77b4;stroke-linecap:square;stroke-width:1.5;\"/>\r\n   </g>\r\n   <g id=\"patch_3\">\r\n    <path d=\"M 28.942188 224.64 \r\nL 28.942188 7.2 \r\n\" style=\"fill:none;stroke:#000000;stroke-linecap:square;stroke-linejoin:miter;stroke-width:0.8;\"/>\r\n   </g>\r\n   <g id=\"patch_4\">\r\n    <path d=\"M 363.742188 224.64 \r\nL 363.742188 7.2 \r\n\" style=\"fill:none;stroke:#000000;stroke-linecap:square;stroke-linejoin:miter;stroke-width:0.8;\"/>\r\n   </g>\r\n   <g id=\"patch_5\">\r\n    <path d=\"M 28.942188 224.64 \r\nL 363.742188 224.64 \r\n\" style=\"fill:none;stroke:#000000;stroke-linecap:square;stroke-linejoin:miter;stroke-width:0.8;\"/>\r\n   </g>\r\n   <g id=\"patch_6\">\r\n    <path d=\"M 28.942188 7.2 \r\nL 363.742188 7.2 \r\n\" style=\"fill:none;stroke:#000000;stroke-linecap:square;stroke-linejoin:miter;stroke-width:0.8;\"/>\r\n   </g>\r\n  </g>\r\n </g>\r\n <defs>\r\n  <clipPath id=\"p0a21556a61\">\r\n   <rect height=\"217.44\" width=\"334.8\" x=\"28.942188\" y=\"7.2\"/>\r\n  </clipPath>\r\n </defs>\r\n</svg>\r\n",
      "image/png": "[encoded data removed]"
     },
     "metadata": {
      "needs_background": "light"
     }
    }
   ],
   "source": [
    "df['A'].plot()   # this is how we use lineplot to plot using matplotlib\n",
    "# this is very basic plot and not musch of customizations are available\n",
    "# We are using this directly of pandas DataFrame"
   ]
  },
  {
   "source": [
    "*seaborn*"
   ],
   "cell_type": "markdown",
   "metadata": {}
  },
  {
   "cell_type": "code",
   "execution_count": 36,
   "metadata": {},
   "outputs": [
    {
     "output_type": "display_data",
     "data": {
      "text/plain": "<Figure size 432x288 with 1 Axes>",
      "image/svg+xml": "<?xml version=\"1.0\" encoding=\"utf-8\" standalone=\"no\"?>\r\n<!DOCTYPE svg PUBLIC \"-//W3C//DTD SVG 1.1//EN\"\r\n  \"http://www.w3.org/Graphics/SVG/1.1/DTD/svg11.dtd\">\r\n<!-- Created with matplotlib (https://matplotlib.org/) -->\r\n<svg height=\"285.688312pt\" version=\"1.1\" viewBox=\"0 0 389.719312 285.688312\" width=\"389.719312pt\" xmlns=\"http://www.w3.org/2000/svg\" xmlns:xlink=\"http://www.w3.org/1999/xlink\">\r\n <metadata>\r\n  <rdf:RDF xmlns:cc=\"http://creativecommons.org/ns#\" xmlns:dc=\"http://purl.org/dc/elements/1.1/\" xmlns:rdf=\"http://www.w3.org/1999/02/22-rdf-syntax-ns#\">\r\n   <cc:Work>\r\n    <dc:type rdf:resource=\"http://purl.org/dc/dcmitype/StillImage\"/>\r\n    <dc:date>2020-12-20T12:10:15.736536</dc:date>\r\n    <dc:format>image/svg+xml</dc:format>\r\n    <dc:creator>\r\n     <cc:Agent>\r\n      <dc:title>Matplotlib v3.3.2, https://matplotlib.org/</dc:title>\r\n     </cc:Agent>\r\n    </dc:creator>\r\n   </cc:Work>\r\n  </rdf:RDF>\r\n </metadata>\r\n <defs>\r\n  <style type=\"text/css\">*{stroke-linecap:butt;stroke-linejoin:round;}</style>\r\n </defs>\r\n <g id=\"figure_1\">\r\n  <g id=\"patch_1\">\r\n   <path d=\"M 0 285.688312 \r\nL 389.719312 285.688312 \r\nL 389.719312 0 \r\nL 0 0 \r\nz\r\n\" style=\"fill:#ffffff;\"/>\r\n  </g>\r\n  <g id=\"axes_1\">\r\n   <g id=\"patch_2\">\r\n    <path d=\"M 47.719313 240.94725 \r\nL 382.519313 240.94725 \r\nL 382.519313 23.50725 \r\nL 47.719313 23.50725 \r\nz\r\n\" style=\"fill:#ffffff;\"/>\r\n   </g>\r\n   <g id=\"matplotlib.axis_1\">\r\n    <g id=\"xtick_1\">\r\n     <g id=\"line2d_1\">\r\n      <path clip-path=\"url(#pa464e101eb)\" d=\"M 62.937494 240.94725 \r\nL 62.937494 23.50725 \r\n\" style=\"fill:none;stroke:#cccccc;stroke-linecap:round;stroke-width:0.8;\"/>\r\n     </g>\r\n     <g id=\"text_1\">\r\n      <!-- 0 -->\r\n      <g style=\"fill:#262626;\" transform=\"translate(59.267276 258.695562)scale(0.132 -0.132)\">\r\n       <defs>\r\n        <path d=\"M 4.15625 35.296875 \r\nQ 4.15625 48 6.765625 55.734375 \r\nQ 9.375 63.484375 14.515625 67.671875 \r\nQ 19.671875 71.875 27.484375 71.875 \r\nQ 33.25 71.875 37.59375 69.546875 \r\nQ 41.9375 67.234375 44.765625 62.859375 \r\nQ 47.609375 58.5 49.21875 52.21875 \r\nQ 50.828125 45.953125 50.828125 35.296875 \r\nQ 50.828125 22.703125 48.234375 14.96875 \r\nQ 45.65625 7.234375 40.5 3 \r\nQ 35.359375 -1.21875 27.484375 -1.21875 \r\nQ 17.140625 -1.21875 11.234375 6.203125 \r\nQ 4.15625 15.140625 4.15625 35.296875 \r\nz\r\nM 13.1875 35.296875 \r\nQ 13.1875 17.671875 17.3125 11.828125 \r\nQ 21.4375 6 27.484375 6 \r\nQ 33.546875 6 37.671875 11.859375 \r\nQ 41.796875 17.71875 41.796875 35.296875 \r\nQ 41.796875 52.984375 37.671875 58.78125 \r\nQ 33.546875 64.59375 27.390625 64.59375 \r\nQ 21.34375 64.59375 17.71875 59.46875 \r\nQ 13.1875 52.9375 13.1875 35.296875 \r\nz\r\n\" id=\"ArialMT-48\"/>\r\n       </defs>\r\n       <use xlink:href=\"#ArialMT-48\"/>\r\n      </g>\r\n     </g>\r\n    </g>\r\n    <g id=\"xtick_2\">\r\n     <g id=\"line2d_2\">\r\n      <path clip-path=\"url(#pa464e101eb)\" d=\"M 124.425098 240.94725 \r\nL 124.425098 23.50725 \r\n\" style=\"fill:none;stroke:#cccccc;stroke-linecap:round;stroke-width:0.8;\"/>\r\n     </g>\r\n     <g id=\"text_2\">\r\n      <!-- 20 -->\r\n      <g style=\"fill:#262626;\" transform=\"translate(117.08466 258.695562)scale(0.132 -0.132)\">\r\n       <defs>\r\n        <path d=\"M 50.34375 8.453125 \r\nL 50.34375 0 \r\nL 3.03125 0 \r\nQ 2.9375 3.171875 4.046875 6.109375 \r\nQ 5.859375 10.9375 9.828125 15.625 \r\nQ 13.8125 20.3125 21.34375 26.46875 \r\nQ 33.015625 36.03125 37.109375 41.625 \r\nQ 41.21875 47.21875 41.21875 52.203125 \r\nQ 41.21875 57.421875 37.46875 61 \r\nQ 33.734375 64.59375 27.734375 64.59375 \r\nQ 21.390625 64.59375 17.578125 60.78125 \r\nQ 13.765625 56.984375 13.71875 50.25 \r\nL 4.6875 51.171875 \r\nQ 5.609375 61.28125 11.65625 66.578125 \r\nQ 17.71875 71.875 27.9375 71.875 \r\nQ 38.234375 71.875 44.234375 66.15625 \r\nQ 50.25 60.453125 50.25 52 \r\nQ 50.25 47.703125 48.484375 43.546875 \r\nQ 46.734375 39.40625 42.65625 34.8125 \r\nQ 38.578125 30.21875 29.109375 22.21875 \r\nQ 21.1875 15.578125 18.9375 13.203125 \r\nQ 16.703125 10.84375 15.234375 8.453125 \r\nz\r\n\" id=\"ArialMT-50\"/>\r\n       </defs>\r\n       <use xlink:href=\"#ArialMT-50\"/>\r\n       <use x=\"55.615234\" xlink:href=\"#ArialMT-48\"/>\r\n      </g>\r\n     </g>\r\n    </g>\r\n    <g id=\"xtick_3\">\r\n     <g id=\"line2d_3\">\r\n      <path clip-path=\"url(#pa464e101eb)\" d=\"M 185.912701 240.94725 \r\nL 185.912701 23.50725 \r\n\" style=\"fill:none;stroke:#cccccc;stroke-linecap:round;stroke-width:0.8;\"/>\r\n     </g>\r\n     <g id=\"text_3\">\r\n      <!-- 40 -->\r\n      <g style=\"fill:#262626;\" transform=\"translate(178.572263 258.695562)scale(0.132 -0.132)\">\r\n       <defs>\r\n        <path d=\"M 32.328125 0 \r\nL 32.328125 17.140625 \r\nL 1.265625 17.140625 \r\nL 1.265625 25.203125 \r\nL 33.9375 71.578125 \r\nL 41.109375 71.578125 \r\nL 41.109375 25.203125 \r\nL 50.78125 25.203125 \r\nL 50.78125 17.140625 \r\nL 41.109375 17.140625 \r\nL 41.109375 0 \r\nz\r\nM 32.328125 25.203125 \r\nL 32.328125 57.46875 \r\nL 9.90625 25.203125 \r\nz\r\n\" id=\"ArialMT-52\"/>\r\n       </defs>\r\n       <use xlink:href=\"#ArialMT-52\"/>\r\n       <use x=\"55.615234\" xlink:href=\"#ArialMT-48\"/>\r\n      </g>\r\n     </g>\r\n    </g>\r\n    <g id=\"xtick_4\">\r\n     <g id=\"line2d_4\">\r\n      <path clip-path=\"url(#pa464e101eb)\" d=\"M 247.400304 240.94725 \r\nL 247.400304 23.50725 \r\n\" style=\"fill:none;stroke:#cccccc;stroke-linecap:round;stroke-width:0.8;\"/>\r\n     </g>\r\n     <g id=\"text_4\">\r\n      <!-- 60 -->\r\n      <g style=\"fill:#262626;\" transform=\"translate(240.059867 258.695562)scale(0.132 -0.132)\">\r\n       <defs>\r\n        <path d=\"M 49.75 54.046875 \r\nL 41.015625 53.375 \r\nQ 39.84375 58.546875 37.703125 60.890625 \r\nQ 34.125 64.65625 28.90625 64.65625 \r\nQ 24.703125 64.65625 21.53125 62.3125 \r\nQ 17.390625 59.28125 14.984375 53.46875 \r\nQ 12.59375 47.65625 12.5 36.921875 \r\nQ 15.671875 41.75 20.265625 44.09375 \r\nQ 24.859375 46.4375 29.890625 46.4375 \r\nQ 38.671875 46.4375 44.84375 39.96875 \r\nQ 51.03125 33.5 51.03125 23.25 \r\nQ 51.03125 16.5 48.125 10.71875 \r\nQ 45.21875 4.9375 40.140625 1.859375 \r\nQ 35.0625 -1.21875 28.609375 -1.21875 \r\nQ 17.625 -1.21875 10.6875 6.859375 \r\nQ 3.765625 14.9375 3.765625 33.5 \r\nQ 3.765625 54.25 11.421875 63.671875 \r\nQ 18.109375 71.875 29.4375 71.875 \r\nQ 37.890625 71.875 43.28125 67.140625 \r\nQ 48.6875 62.40625 49.75 54.046875 \r\nz\r\nM 13.875 23.1875 \r\nQ 13.875 18.65625 15.796875 14.5 \r\nQ 17.71875 10.359375 21.1875 8.171875 \r\nQ 24.65625 6 28.46875 6 \r\nQ 34.03125 6 38.03125 10.484375 \r\nQ 42.046875 14.984375 42.046875 22.703125 \r\nQ 42.046875 30.125 38.078125 34.390625 \r\nQ 34.125 38.671875 28.125 38.671875 \r\nQ 22.171875 38.671875 18.015625 34.390625 \r\nQ 13.875 30.125 13.875 23.1875 \r\nz\r\n\" id=\"ArialMT-54\"/>\r\n       </defs>\r\n       <use xlink:href=\"#ArialMT-54\"/>\r\n       <use x=\"55.615234\" xlink:href=\"#ArialMT-48\"/>\r\n      </g>\r\n     </g>\r\n    </g>\r\n    <g id=\"xtick_5\">\r\n     <g id=\"line2d_5\">\r\n      <path clip-path=\"url(#pa464e101eb)\" d=\"M 308.887908 240.94725 \r\nL 308.887908 23.50725 \r\n\" style=\"fill:none;stroke:#cccccc;stroke-linecap:round;stroke-width:0.8;\"/>\r\n     </g>\r\n     <g id=\"text_5\">\r\n      <!-- 80 -->\r\n      <g style=\"fill:#262626;\" transform=\"translate(301.54747 258.695562)scale(0.132 -0.132)\">\r\n       <defs>\r\n        <path d=\"M 17.671875 38.8125 \r\nQ 12.203125 40.828125 9.5625 44.53125 \r\nQ 6.9375 48.25 6.9375 53.421875 \r\nQ 6.9375 61.234375 12.546875 66.546875 \r\nQ 18.171875 71.875 27.484375 71.875 \r\nQ 36.859375 71.875 42.578125 66.421875 \r\nQ 48.296875 60.984375 48.296875 53.171875 \r\nQ 48.296875 48.1875 45.671875 44.5 \r\nQ 43.0625 40.828125 37.75 38.8125 \r\nQ 44.34375 36.671875 47.78125 31.875 \r\nQ 51.21875 27.09375 51.21875 20.453125 \r\nQ 51.21875 11.28125 44.71875 5.03125 \r\nQ 38.234375 -1.21875 27.640625 -1.21875 \r\nQ 17.046875 -1.21875 10.546875 5.046875 \r\nQ 4.046875 11.328125 4.046875 20.703125 \r\nQ 4.046875 27.6875 7.59375 32.390625 \r\nQ 11.140625 37.109375 17.671875 38.8125 \r\nz\r\nM 15.921875 53.71875 \r\nQ 15.921875 48.640625 19.1875 45.40625 \r\nQ 22.46875 42.1875 27.6875 42.1875 \r\nQ 32.765625 42.1875 36.015625 45.375 \r\nQ 39.265625 48.578125 39.265625 53.21875 \r\nQ 39.265625 58.0625 35.90625 61.359375 \r\nQ 32.5625 64.65625 27.59375 64.65625 \r\nQ 22.5625 64.65625 19.234375 61.421875 \r\nQ 15.921875 58.203125 15.921875 53.71875 \r\nz\r\nM 13.09375 20.65625 \r\nQ 13.09375 16.890625 14.875 13.375 \r\nQ 16.65625 9.859375 20.171875 7.921875 \r\nQ 23.6875 6 27.734375 6 \r\nQ 34.03125 6 38.125 10.046875 \r\nQ 42.234375 14.109375 42.234375 20.359375 \r\nQ 42.234375 26.703125 38.015625 30.859375 \r\nQ 33.796875 35.015625 27.4375 35.015625 \r\nQ 21.234375 35.015625 17.15625 30.90625 \r\nQ 13.09375 26.8125 13.09375 20.65625 \r\nz\r\n\" id=\"ArialMT-56\"/>\r\n       </defs>\r\n       <use xlink:href=\"#ArialMT-56\"/>\r\n       <use x=\"55.615234\" xlink:href=\"#ArialMT-48\"/>\r\n      </g>\r\n     </g>\r\n    </g>\r\n    <g id=\"xtick_6\">\r\n     <g id=\"line2d_6\">\r\n      <path clip-path=\"url(#pa464e101eb)\" d=\"M 370.375511 240.94725 \r\nL 370.375511 23.50725 \r\n\" style=\"fill:none;stroke:#cccccc;stroke-linecap:round;stroke-width:0.8;\"/>\r\n     </g>\r\n     <g id=\"text_6\">\r\n      <!-- 100 -->\r\n      <g style=\"fill:#262626;\" transform=\"translate(359.364855 258.695562)scale(0.132 -0.132)\">\r\n       <defs>\r\n        <path d=\"M 37.25 0 \r\nL 28.46875 0 \r\nL 28.46875 56 \r\nQ 25.296875 52.984375 20.140625 49.953125 \r\nQ 14.984375 46.921875 10.890625 45.40625 \r\nL 10.890625 53.90625 \r\nQ 18.265625 57.375 23.78125 62.296875 \r\nQ 29.296875 67.234375 31.59375 71.875 \r\nL 37.25 71.875 \r\nz\r\n\" id=\"ArialMT-49\"/>\r\n       </defs>\r\n       <use xlink:href=\"#ArialMT-49\"/>\r\n       <use x=\"55.615234\" xlink:href=\"#ArialMT-48\"/>\r\n       <use x=\"111.230469\" xlink:href=\"#ArialMT-48\"/>\r\n      </g>\r\n     </g>\r\n    </g>\r\n    <g id=\"text_7\">\r\n     <!-- X AXIS -->\r\n     <g style=\"fill:#262626;\" transform=\"translate(192.304313 275.626312)scale(0.144 -0.144)\">\r\n      <defs>\r\n       <path d=\"M 0.4375 0 \r\nL 28.125 37.3125 \r\nL 3.71875 71.578125 \r\nL 14.984375 71.578125 \r\nL 27.984375 53.21875 \r\nQ 32.03125 47.515625 33.734375 44.4375 \r\nQ 36.140625 48.34375 39.40625 52.59375 \r\nL 53.8125 71.578125 \r\nL 64.109375 71.578125 \r\nL 38.96875 37.84375 \r\nL 66.0625 0 \r\nL 54.34375 0 \r\nL 36.328125 25.53125 \r\nQ 34.8125 27.734375 33.203125 30.328125 \r\nQ 30.8125 26.421875 29.78125 24.953125 \r\nL 11.8125 0 \r\nz\r\n\" id=\"ArialMT-88\"/>\r\n       <path id=\"ArialMT-32\"/>\r\n       <path d=\"M -0.140625 0 \r\nL 27.34375 71.578125 \r\nL 37.546875 71.578125 \r\nL 66.84375 0 \r\nL 56.0625 0 \r\nL 47.703125 21.6875 \r\nL 17.78125 21.6875 \r\nL 9.90625 0 \r\nz\r\nM 20.515625 29.390625 \r\nL 44.78125 29.390625 \r\nL 37.3125 49.21875 \r\nQ 33.890625 58.25 32.234375 64.0625 \r\nQ 30.859375 57.171875 28.375 50.390625 \r\nz\r\n\" id=\"ArialMT-65\"/>\r\n       <path d=\"M 9.328125 0 \r\nL 9.328125 71.578125 \r\nL 18.796875 71.578125 \r\nL 18.796875 0 \r\nz\r\n\" id=\"ArialMT-73\"/>\r\n       <path d=\"M 4.5 23 \r\nL 13.421875 23.78125 \r\nQ 14.0625 18.40625 16.375 14.96875 \r\nQ 18.703125 11.53125 23.578125 9.40625 \r\nQ 28.46875 7.28125 34.578125 7.28125 \r\nQ 39.984375 7.28125 44.140625 8.890625 \r\nQ 48.296875 10.5 50.3125 13.296875 \r\nQ 52.34375 16.109375 52.34375 19.4375 \r\nQ 52.34375 22.796875 50.390625 25.3125 \r\nQ 48.4375 27.828125 43.953125 29.546875 \r\nQ 41.0625 30.671875 31.203125 33.03125 \r\nQ 21.34375 35.40625 17.390625 37.5 \r\nQ 12.25 40.1875 9.734375 44.15625 \r\nQ 7.234375 48.140625 7.234375 53.078125 \r\nQ 7.234375 58.5 10.296875 63.203125 \r\nQ 13.375 67.921875 19.28125 70.359375 \r\nQ 25.203125 72.796875 32.421875 72.796875 \r\nQ 40.375 72.796875 46.453125 70.234375 \r\nQ 52.546875 67.671875 55.8125 62.6875 \r\nQ 59.078125 57.71875 59.328125 51.421875 \r\nL 50.25 50.734375 \r\nQ 49.515625 57.515625 45.28125 60.984375 \r\nQ 41.0625 64.453125 32.8125 64.453125 \r\nQ 24.21875 64.453125 20.28125 61.296875 \r\nQ 16.359375 58.15625 16.359375 53.71875 \r\nQ 16.359375 49.859375 19.140625 47.359375 \r\nQ 21.875 44.875 33.421875 42.265625 \r\nQ 44.96875 39.65625 49.265625 37.703125 \r\nQ 55.515625 34.8125 58.484375 30.390625 \r\nQ 61.46875 25.984375 61.46875 20.21875 \r\nQ 61.46875 14.5 58.203125 9.4375 \r\nQ 54.9375 4.390625 48.796875 1.578125 \r\nQ 42.671875 -1.21875 35.015625 -1.21875 \r\nQ 25.296875 -1.21875 18.71875 1.609375 \r\nQ 12.15625 4.4375 8.421875 10.125 \r\nQ 4.6875 15.828125 4.5 23 \r\nz\r\n\" id=\"ArialMT-83\"/>\r\n      </defs>\r\n      <use xlink:href=\"#ArialMT-88\"/>\r\n      <use x=\"66.699219\" xlink:href=\"#ArialMT-32\"/>\r\n      <use x=\"88.982422\" xlink:href=\"#ArialMT-65\"/>\r\n      <use x=\"155.681641\" xlink:href=\"#ArialMT-88\"/>\r\n      <use x=\"222.380859\" xlink:href=\"#ArialMT-73\"/>\r\n      <use x=\"250.164062\" xlink:href=\"#ArialMT-83\"/>\r\n     </g>\r\n    </g>\r\n   </g>\r\n   <g id=\"matplotlib.axis_2\">\r\n    <g id=\"ytick_1\">\r\n     <g id=\"line2d_7\">\r\n      <path clip-path=\"url(#pa464e101eb)\" d=\"M 47.719313 208.635441 \r\nL 382.519313 208.635441 \r\n\" style=\"fill:none;stroke:#cccccc;stroke-linecap:round;stroke-width:0.8;\"/>\r\n     </g>\r\n     <g id=\"text_8\">\r\n      <!-- −2 -->\r\n      <g style=\"fill:#262626;\" transform=\"translate(24.36925 213.359597)scale(0.132 -0.132)\">\r\n       <defs>\r\n        <path d=\"M 52.828125 31.203125 \r\nL 5.5625 31.203125 \r\nL 5.5625 39.40625 \r\nL 52.828125 39.40625 \r\nz\r\n\" id=\"ArialMT-8722\"/>\r\n       </defs>\r\n       <use xlink:href=\"#ArialMT-8722\"/>\r\n       <use x=\"58.398438\" xlink:href=\"#ArialMT-50\"/>\r\n      </g>\r\n     </g>\r\n    </g>\r\n    <g id=\"ytick_2\">\r\n     <g id=\"line2d_8\">\r\n      <path clip-path=\"url(#pa464e101eb)\" d=\"M 47.719313 166.480029 \r\nL 382.519313 166.480029 \r\n\" style=\"fill:none;stroke:#cccccc;stroke-linecap:round;stroke-width:0.8;\"/>\r\n     </g>\r\n     <g id=\"text_9\">\r\n      <!-- −1 -->\r\n      <g style=\"fill:#262626;\" transform=\"translate(24.36925 171.204185)scale(0.132 -0.132)\">\r\n       <use xlink:href=\"#ArialMT-8722\"/>\r\n       <use x=\"58.398438\" xlink:href=\"#ArialMT-49\"/>\r\n      </g>\r\n     </g>\r\n    </g>\r\n    <g id=\"ytick_3\">\r\n     <g id=\"line2d_9\">\r\n      <path clip-path=\"url(#pa464e101eb)\" d=\"M 47.719313 124.324617 \r\nL 382.519313 124.324617 \r\n\" style=\"fill:none;stroke:#cccccc;stroke-linecap:round;stroke-width:0.8;\"/>\r\n     </g>\r\n     <g id=\"text_10\">\r\n      <!-- 0 -->\r\n      <g style=\"fill:#262626;\" transform=\"translate(32.078875 129.048773)scale(0.132 -0.132)\">\r\n       <use xlink:href=\"#ArialMT-48\"/>\r\n      </g>\r\n     </g>\r\n    </g>\r\n    <g id=\"ytick_4\">\r\n     <g id=\"line2d_10\">\r\n      <path clip-path=\"url(#pa464e101eb)\" d=\"M 47.719313 82.169205 \r\nL 382.519313 82.169205 \r\n\" style=\"fill:none;stroke:#cccccc;stroke-linecap:round;stroke-width:0.8;\"/>\r\n     </g>\r\n     <g id=\"text_11\">\r\n      <!-- 1 -->\r\n      <g style=\"fill:#262626;\" transform=\"translate(32.078875 86.893361)scale(0.132 -0.132)\">\r\n       <use xlink:href=\"#ArialMT-49\"/>\r\n      </g>\r\n     </g>\r\n    </g>\r\n    <g id=\"ytick_5\">\r\n     <g id=\"line2d_11\">\r\n      <path clip-path=\"url(#pa464e101eb)\" d=\"M 47.719313 40.013793 \r\nL 382.519313 40.013793 \r\n\" style=\"fill:none;stroke:#cccccc;stroke-linecap:round;stroke-width:0.8;\"/>\r\n     </g>\r\n     <g id=\"text_12\">\r\n      <!-- 2 -->\r\n      <g style=\"fill:#262626;\" transform=\"translate(32.078875 44.737949)scale(0.132 -0.132)\">\r\n       <use xlink:href=\"#ArialMT-50\"/>\r\n      </g>\r\n     </g>\r\n    </g>\r\n    <g id=\"text_13\">\r\n     <!-- A -->\r\n     <g style=\"fill:#262626;\" transform=\"translate(17.50725 137.029875)rotate(-90)scale(0.144 -0.144)\">\r\n      <use xlink:href=\"#ArialMT-65\"/>\r\n     </g>\r\n    </g>\r\n   </g>\r\n   <g id=\"line2d_12\">\r\n    <path clip-path=\"url(#pa464e101eb)\" d=\"M 62.937494 165.605371 \r\nL 66.011874 83.863641 \r\nL 69.086255 70.030563 \r\nL 72.160635 156.280633 \r\nL 75.235015 93.149026 \r\nL 78.309395 117.150142 \r\nL 81.383775 129.778536 \r\nL 84.458155 105.536142 \r\nL 87.532536 118.518585 \r\nL 90.606916 172.700301 \r\nL 93.681296 94.188316 \r\nL 96.755676 62.863598 \r\nL 99.830056 86.915399 \r\nL 102.904436 111.371291 \r\nL 105.978817 35.977596 \r\nL 109.053197 99.456391 \r\nL 112.127577 80.634548 \r\nL 115.201957 93.178205 \r\nL 118.276337 116.75754 \r\nL 121.350717 108.808249 \r\nL 124.425098 118.554824 \r\nL 127.499478 89.925938 \r\nL 130.573858 130.582515 \r\nL 133.648238 83.812335 \r\nL 136.722618 88.90123 \r\nL 139.796998 117.833406 \r\nL 142.871379 133.768998 \r\nL 145.945759 166.003025 \r\nL 149.020139 126.057106 \r\nL 152.094519 132.897569 \r\nL 155.168899 159.19807 \r\nL 158.243279 155.42538 \r\nL 161.31766 98.067742 \r\nL 164.39204 81.461578 \r\nL 167.46642 218.805778 \r\nL 170.5408 131.949725 \r\nL 173.61518 107.99059 \r\nL 176.68956 125.293181 \r\nL 179.763941 140.217115 \r\nL 182.838321 119.216824 \r\nL 185.912701 124.155319 \r\nL 188.987081 200.304075 \r\nL 192.061461 159.352446 \r\nL 195.135841 140.119382 \r\nL 198.210222 117.263842 \r\nL 201.284602 33.390886 \r\nL 204.358982 113.026166 \r\nL 207.433362 129.770107 \r\nL 210.507742 174.581726 \r\nL 213.582122 56.265942 \r\nL 216.656503 105.711041 \r\nL 219.730883 188.605107 \r\nL 222.805263 182.487695 \r\nL 225.879643 137.270747 \r\nL 228.954023 119.319493 \r\nL 232.028403 132.098491 \r\nL 235.102784 189.092526 \r\nL 238.177164 198.770871 \r\nL 241.251544 174.595989 \r\nL 244.325924 140.002427 \r\nL 247.400304 85.895724 \r\nL 250.474684 178.679391 \r\nL 253.549065 109.594571 \r\nL 256.623445 119.104046 \r\nL 259.697825 136.355297 \r\nL 262.772205 126.633844 \r\nL 265.846585 129.948014 \r\nL 268.920965 124.21992 \r\nL 271.995346 96.991365 \r\nL 275.069726 199.127728 \r\nL 278.144106 122.173903 \r\nL 281.218486 133.106047 \r\nL 284.292866 73.585329 \r\nL 287.367246 108.533197 \r\nL 290.441627 124.634777 \r\nL 293.516007 102.715789 \r\nL 296.590387 124.22271 \r\nL 299.664767 160.422402 \r\nL 302.739147 156.436938 \r\nL 305.813527 199.893663 \r\nL 308.887908 109.116387 \r\nL 311.962288 156.863043 \r\nL 315.036668 53.138726 \r\nL 318.111048 73.990024 \r\nL 321.185428 141.940332 \r\nL 324.259808 34.845046 \r\nL 327.334189 132.947566 \r\nL 330.408569 179.944314 \r\nL 333.482949 199.697671 \r\nL 336.557329 107.183612 \r\nL 339.631709 63.857481 \r\nL 342.706089 149.11996 \r\nL 345.78047 176.331882 \r\nL 348.85485 155.644662 \r\nL 351.92923 121.936874 \r\nL 355.00361 176.506934 \r\nL 358.07799 142.467831 \r\nL 361.15237 231.063614 \r\nL 364.226751 92.293932 \r\nL 367.301131 103.916187 \r\n\" style=\"fill:none;stroke:#0000b1;stroke-linecap:round;stroke-width:1.2;\"/>\r\n   </g>\r\n   <g id=\"patch_3\">\r\n    <path d=\"M 47.719313 240.94725 \r\nL 47.719313 23.50725 \r\n\" style=\"fill:none;stroke:#cccccc;stroke-linecap:square;stroke-linejoin:miter;\"/>\r\n   </g>\r\n   <g id=\"patch_4\">\r\n    <path d=\"M 382.519313 240.94725 \r\nL 382.519313 23.50725 \r\n\" style=\"fill:none;stroke:#cccccc;stroke-linecap:square;stroke-linejoin:miter;\"/>\r\n   </g>\r\n   <g id=\"patch_5\">\r\n    <path d=\"M 47.719313 240.94725 \r\nL 382.519312 240.94725 \r\n\" style=\"fill:none;stroke:#cccccc;stroke-linecap:square;stroke-linejoin:miter;\"/>\r\n   </g>\r\n   <g id=\"patch_6\">\r\n    <path d=\"M 47.719313 23.50725 \r\nL 382.519312 23.50725 \r\n\" style=\"fill:none;stroke:#cccccc;stroke-linecap:square;stroke-linejoin:miter;\"/>\r\n   </g>\r\n   <g id=\"text_14\">\r\n    <!-- DataFrame -->\r\n    <g style=\"fill:#262626;\" transform=\"translate(179.111437 17.50725)scale(0.144 -0.144)\">\r\n     <defs>\r\n      <path d=\"M 7.71875 0 \r\nL 7.71875 71.578125 \r\nL 32.375 71.578125 \r\nQ 40.71875 71.578125 45.125 70.5625 \r\nQ 51.265625 69.140625 55.609375 65.4375 \r\nQ 61.28125 60.640625 64.078125 53.1875 \r\nQ 66.890625 45.75 66.890625 36.1875 \r\nQ 66.890625 28.03125 64.984375 21.734375 \r\nQ 63.09375 15.4375 60.109375 11.296875 \r\nQ 57.125 7.171875 53.578125 4.796875 \r\nQ 50.046875 2.4375 45.046875 1.21875 \r\nQ 40.046875 0 33.546875 0 \r\nz\r\nM 17.1875 8.453125 \r\nL 32.46875 8.453125 \r\nQ 39.546875 8.453125 43.578125 9.765625 \r\nQ 47.609375 11.078125 50 13.484375 \r\nQ 53.375 16.84375 55.25 22.53125 \r\nQ 57.125 28.21875 57.125 36.328125 \r\nQ 57.125 47.5625 53.4375 53.59375 \r\nQ 49.75 59.625 44.484375 61.671875 \r\nQ 40.671875 63.140625 32.234375 63.140625 \r\nL 17.1875 63.140625 \r\nz\r\n\" id=\"ArialMT-68\"/>\r\n      <path d=\"M 40.4375 6.390625 \r\nQ 35.546875 2.25 31.03125 0.53125 \r\nQ 26.515625 -1.171875 21.34375 -1.171875 \r\nQ 12.796875 -1.171875 8.203125 3 \r\nQ 3.609375 7.171875 3.609375 13.671875 \r\nQ 3.609375 17.484375 5.34375 20.625 \r\nQ 7.078125 23.78125 9.890625 25.6875 \r\nQ 12.703125 27.59375 16.21875 28.5625 \r\nQ 18.796875 29.25 24.03125 29.890625 \r\nQ 34.671875 31.15625 39.703125 32.90625 \r\nQ 39.75 34.71875 39.75 35.203125 \r\nQ 39.75 40.578125 37.25 42.78125 \r\nQ 33.890625 45.75 27.25 45.75 \r\nQ 21.046875 45.75 18.09375 43.578125 \r\nQ 15.140625 41.40625 13.71875 35.890625 \r\nL 5.125 37.0625 \r\nQ 6.296875 42.578125 8.984375 45.96875 \r\nQ 11.671875 49.359375 16.75 51.1875 \r\nQ 21.828125 53.03125 28.515625 53.03125 \r\nQ 35.15625 53.03125 39.296875 51.46875 \r\nQ 43.453125 49.90625 45.40625 47.53125 \r\nQ 47.359375 45.171875 48.140625 41.546875 \r\nQ 48.578125 39.3125 48.578125 33.453125 \r\nL 48.578125 21.734375 \r\nQ 48.578125 9.46875 49.140625 6.21875 \r\nQ 49.703125 2.984375 51.375 0 \r\nL 42.1875 0 \r\nQ 40.828125 2.734375 40.4375 6.390625 \r\nz\r\nM 39.703125 26.03125 \r\nQ 34.90625 24.078125 25.34375 22.703125 \r\nQ 19.921875 21.921875 17.671875 20.9375 \r\nQ 15.4375 19.96875 14.203125 18.09375 \r\nQ 12.984375 16.21875 12.984375 13.921875 \r\nQ 12.984375 10.40625 15.640625 8.0625 \r\nQ 18.3125 5.71875 23.4375 5.71875 \r\nQ 28.515625 5.71875 32.46875 7.9375 \r\nQ 36.421875 10.15625 38.28125 14.015625 \r\nQ 39.703125 17 39.703125 22.796875 \r\nz\r\n\" id=\"ArialMT-97\"/>\r\n      <path d=\"M 25.78125 7.859375 \r\nL 27.046875 0.09375 \r\nQ 23.34375 -0.6875 20.40625 -0.6875 \r\nQ 15.625 -0.6875 12.984375 0.828125 \r\nQ 10.359375 2.34375 9.28125 4.8125 \r\nQ 8.203125 7.28125 8.203125 15.1875 \r\nL 8.203125 45.015625 \r\nL 1.765625 45.015625 \r\nL 1.765625 51.859375 \r\nL 8.203125 51.859375 \r\nL 8.203125 64.703125 \r\nL 16.9375 69.96875 \r\nL 16.9375 51.859375 \r\nL 25.78125 51.859375 \r\nL 25.78125 45.015625 \r\nL 16.9375 45.015625 \r\nL 16.9375 14.703125 \r\nQ 16.9375 10.9375 17.40625 9.859375 \r\nQ 17.875 8.796875 18.921875 8.15625 \r\nQ 19.96875 7.515625 21.921875 7.515625 \r\nQ 23.390625 7.515625 25.78125 7.859375 \r\nz\r\n\" id=\"ArialMT-116\"/>\r\n      <path d=\"M 8.203125 0 \r\nL 8.203125 71.578125 \r\nL 56.5 71.578125 \r\nL 56.5 63.140625 \r\nL 17.671875 63.140625 \r\nL 17.671875 40.96875 \r\nL 51.265625 40.96875 \r\nL 51.265625 32.515625 \r\nL 17.671875 32.515625 \r\nL 17.671875 0 \r\nz\r\n\" id=\"ArialMT-70\"/>\r\n      <path d=\"M 6.5 0 \r\nL 6.5 51.859375 \r\nL 14.40625 51.859375 \r\nL 14.40625 44 \r\nQ 17.4375 49.515625 20 51.265625 \r\nQ 22.5625 53.03125 25.640625 53.03125 \r\nQ 30.078125 53.03125 34.671875 50.203125 \r\nL 31.640625 42.046875 \r\nQ 28.421875 43.953125 25.203125 43.953125 \r\nQ 22.3125 43.953125 20.015625 42.21875 \r\nQ 17.71875 40.484375 16.75 37.40625 \r\nQ 15.28125 32.71875 15.28125 27.15625 \r\nL 15.28125 0 \r\nz\r\n\" id=\"ArialMT-114\"/>\r\n      <path d=\"M 6.59375 0 \r\nL 6.59375 51.859375 \r\nL 14.453125 51.859375 \r\nL 14.453125 44.578125 \r\nQ 16.890625 48.390625 20.9375 50.703125 \r\nQ 25 53.03125 30.171875 53.03125 \r\nQ 35.9375 53.03125 39.625 50.640625 \r\nQ 43.3125 48.25 44.828125 43.953125 \r\nQ 50.984375 53.03125 60.84375 53.03125 \r\nQ 68.5625 53.03125 72.703125 48.75 \r\nQ 76.859375 44.484375 76.859375 35.59375 \r\nL 76.859375 0 \r\nL 68.109375 0 \r\nL 68.109375 32.671875 \r\nQ 68.109375 37.9375 67.25 40.25 \r\nQ 66.40625 42.578125 64.15625 43.984375 \r\nQ 61.921875 45.40625 58.890625 45.40625 \r\nQ 53.421875 45.40625 49.796875 41.765625 \r\nQ 46.1875 38.140625 46.1875 30.125 \r\nL 46.1875 0 \r\nL 37.40625 0 \r\nL 37.40625 33.6875 \r\nQ 37.40625 39.546875 35.25 42.46875 \r\nQ 33.109375 45.40625 28.21875 45.40625 \r\nQ 24.515625 45.40625 21.359375 43.453125 \r\nQ 18.21875 41.5 16.796875 37.734375 \r\nQ 15.375 33.984375 15.375 26.90625 \r\nL 15.375 0 \r\nz\r\n\" id=\"ArialMT-109\"/>\r\n      <path d=\"M 42.09375 16.703125 \r\nL 51.171875 15.578125 \r\nQ 49.03125 7.625 43.21875 3.21875 \r\nQ 37.40625 -1.171875 28.375 -1.171875 \r\nQ 17 -1.171875 10.328125 5.828125 \r\nQ 3.65625 12.84375 3.65625 25.484375 \r\nQ 3.65625 38.578125 10.390625 45.796875 \r\nQ 17.140625 53.03125 27.875 53.03125 \r\nQ 38.28125 53.03125 44.875 45.953125 \r\nQ 51.46875 38.875 51.46875 26.03125 \r\nQ 51.46875 25.25 51.421875 23.6875 \r\nL 12.75 23.6875 \r\nQ 13.234375 15.140625 17.578125 10.59375 \r\nQ 21.921875 6.0625 28.421875 6.0625 \r\nQ 33.25 6.0625 36.671875 8.59375 \r\nQ 40.09375 11.140625 42.09375 16.703125 \r\nz\r\nM 13.234375 30.90625 \r\nL 42.1875 30.90625 \r\nQ 41.609375 37.453125 38.875 40.71875 \r\nQ 34.671875 45.796875 27.984375 45.796875 \r\nQ 21.921875 45.796875 17.796875 41.75 \r\nQ 13.671875 37.703125 13.234375 30.90625 \r\nz\r\n\" id=\"ArialMT-101\"/>\r\n     </defs>\r\n     <use xlink:href=\"#ArialMT-68\"/>\r\n     <use x=\"72.216797\" xlink:href=\"#ArialMT-97\"/>\r\n     <use x=\"127.832031\" xlink:href=\"#ArialMT-116\"/>\r\n     <use x=\"155.615234\" xlink:href=\"#ArialMT-97\"/>\r\n     <use x=\"211.230469\" xlink:href=\"#ArialMT-70\"/>\r\n     <use x=\"272.314453\" xlink:href=\"#ArialMT-114\"/>\r\n     <use x=\"305.615234\" xlink:href=\"#ArialMT-97\"/>\r\n     <use x=\"361.230469\" xlink:href=\"#ArialMT-109\"/>\r\n     <use x=\"444.53125\" xlink:href=\"#ArialMT-101\"/>\r\n    </g>\r\n   </g>\r\n  </g>\r\n </g>\r\n <defs>\r\n  <clipPath id=\"pa464e101eb\">\r\n   <rect height=\"217.44\" width=\"334.8\" x=\"47.719313\" y=\"23.50725\"/>\r\n  </clipPath>\r\n </defs>\r\n</svg>\r\n",
      "image/png": "[encoded data removed]"
     },
     "metadata": {}
    }
   ],
   "source": [
    "sns.lineplot(data=df['A'])\n",
    "plt.title('DataFrame')\n",
    "plt.xlabel('X AXIS')\n",
    "sns.set_theme(context='paper', style= 'whitegrid', palette=\"seismic\", font_scale=1.5)\n",
    "# Here we are not using directly of Pandas DataFrame, we are specifying separately the data in seabonr\n",
    "# this provides a lot of customizations than what matplotlib provides"
   ]
  },
  {
   "source": [
    "*plotly*"
   ],
   "cell_type": "markdown",
   "metadata": {}
  },
  {
   "cell_type": "code",
   "execution_count": 39,
   "metadata": {},
   "outputs": [
    {
     "output_type": "display_data",
     "data": {
      "application/vnd.plotly.v1+json": {
       "config": {
        "linkText": "Export to plot.ly",
        "plotlyServerURL": "https://plot.ly",
        "showLink": true
       },
       "data": [
        {
         "line": {
          "color": "rgba(255, 153, 51, 1.0)",
          "dash": "dot",
          "shape": "linear",
          "width": 1.3
         },
         "mode": "lines",
         "name": "A",
         "text": "",
         "type": "scatter",
         "x": [
          0,
          1,
          2,
          3,
          4,
          5,
          6,
          7,
          8,
          9,
          10,
          11,
          12,
          13,
          14,
          15,
          16,
          17,
          18,
          19,
          20,
          21,
          22,
          23,
          24,
          25,
          26,
          27,
          28,
          29,
          30,
          31,
          32,
          33,
          34,
          35,
          36,
          37,
          38,
          39,
          40,
          41,
          42,
          43,
          44,
          45,
          46,
          47,
          48,
          49,
          50,
          51,
          52,
          53,
          54,
          55,
          56,
          57,
          58,
          59,
          60,
          61,
          62,
          63,
          64,
          65,
          66,
          67,
          68,
          69,
          70,
          71,
          72,
          73,
          74,
          75,
          76,
          77,
          78,
          79,
          80,
          81,
          82,
          83,
          84,
          85,
          86,
          87,
          88,
          89,
          90,
          91,
          92,
          93,
          94,
          95,
          96,
          97,
          98,
          99
         ],
         "y": [
          -0.9792515936598923,
          0.9598050055042266,
          1.2879497854926978,
          -0.7580525281398575,
          0.7395394550550108,
          0.17019107169090317,
          -0.1293765011854134,
          0.4456954392361662,
          0.13772919772007583,
          -1.1475557380589023,
          0.7148856836266592,
          1.4579626985599747,
          0.8874119734406709,
          0.3072755156395645,
          2.0957456279779065,
          0.5899177376437668,
          1.0364047408183756,
          0.7388472871926347,
          0.17950427668644467,
          0.3680753376522049,
          0.1368695577373032,
          0.8159967349839087,
          -0.14844827589627468,
          0.9610220648185201,
          0.8403045958850671,
          0.1539828413327248,
          -0.22403721645926258,
          -0.9886846475465637,
          -0.041097672863380195,
          -0.20336539740261284,
          -0.8272592313380914,
          -0.7377644328272414,
          0.6228589278084802,
          1.0167861280965602,
          -2.2412581790082666,
          -0.18088089665349677,
          0.38747162796369533,
          -0.022976036922044408,
          -0.376997829574464,
          0.12116576151183464,
          0.004016022807814205,
          -1.8023654641354336,
          -0.8309213004133602,
          -0.37467942398393506,
          0.16749391300381028,
          2.157106901960888,
          0.26801897806054975,
          -0.12917654316980617,
          -1.1921864240944327,
          1.6144706272625435,
          0.44154651927524047,
          -1.5248455068331284,
          -1.379729809199886,
          -0.3071048272960799,
          0.11873027241721576,
          -0.18440988283347878,
          -1.5364079402765836,
          -1.7659951853905054,
          -1.1925247660678762,
          -0.3719050473318741,
          0.9116004418673352,
          -1.2893901771054779,
          0.3494224192856916,
          0.12384105919512163,
          -0.2853887638156255,
          -0.05477890823051662,
          -0.13339681427823635,
          0.002483580579456353,
          0.6483924643575026,
          -1.7744604454121766,
          0.051018691708484755,
          -0.20831087775659465,
          1.2036245135778298,
          0.37460006318208516,
          -0.007357554347866323,
          0.5125991262014535,
          0.0024173923945399363,
          -0.8563025126597791,
          -0.7617603492153533,
          -1.792629772347877,
          0.360765760598241,
          -0.7718682940507207,
          1.6886536550319722,
          1.194024448998109,
          -0.417875534770027,
          2.122611684514379,
          -0.20455142051435,
          -1.3193963771012482,
          -1.7879804873841585,
          0.4066145570917323,
          1.434386069614315,
          -0.5881888567526482,
          -1.2337031790890676,
          -0.7429661704558083,
          0.0566414277132115,
          -1.2378557179328697,
          -0.43038873430261276,
          -2.5320354376990766,
          0.7598237879841848,
          0.48412359488350337
         ]
        }
       ],
       "layout": {
        "legend": {
         "bgcolor": "#F5F6F9",
         "font": {
          "color": "#4D5663"
         }
        },
        "paper_bgcolor": "#F5F6F9",
        "plot_bgcolor": "#F5F6F9",
        "template": {
         "data": {
          "bar": [
           {
            "error_x": {
             "color": "#2a3f5f"
            },
            "error_y": {
             "color": "#2a3f5f"
            },
            "marker": {
             "line": {
              "color": "#E5ECF6",
              "width": 0.5
             }
            },
            "type": "bar"
           }
          ],
          "barpolar": [
           {
            "marker": {
             "line": {
              "color": "#E5ECF6",
              "width": 0.5
             }
            },
            "type": "barpolar"
           }
          ],
          "carpet": [
           {
            "aaxis": {
             "endlinecolor": "#2a3f5f",
             "gridcolor": "white",
             "linecolor": "white",
             "minorgridcolor": "white",
             "startlinecolor": "#2a3f5f"
            },
            "baxis": {
             "endlinecolor": "#2a3f5f",
             "gridcolor": "white",
             "linecolor": "white",
             "minorgridcolor": "white",
             "startlinecolor": "#2a3f5f"
            },
            "type": "carpet"
           }
          ],
          "choropleth": [
           {
            "colorbar": {
             "outlinewidth": 0,
             "ticks": ""
            },
            "type": "choropleth"
           }
          ],
          "contour": [
           {
            "colorbar": {
             "outlinewidth": 0,
             "ticks": ""
            },
            "colorscale": [
             [
              0,
              "#0d0887"
             ],
             [
              0.1111111111111111,
              "#46039f"
             ],
             [
              0.2222222222222222,
              "#7201a8"
             ],
             [
              0.3333333333333333,
              "#9c179e"
             ],
             [
              0.4444444444444444,
              "#bd3786"
             ],
             [
              0.5555555555555556,
              "#d8576b"
             ],
             [
              0.6666666666666666,
              "#ed7953"
             ],
             [
              0.7777777777777778,
              "#fb9f3a"
             ],
             [
              0.8888888888888888,
              "#fdca26"
             ],
             [
              1,
              "#f0f921"
             ]
            ],
            "type": "contour"
           }
          ],
          "contourcarpet": [
           {
            "colorbar": {
             "outlinewidth": 0,
             "ticks": ""
            },
            "type": "contourcarpet"
           }
          ],
          "heatmap": [
           {
            "colorbar": {
             "outlinewidth": 0,
             "ticks": ""
            },
            "colorscale": [
             [
              0,
              "#0d0887"
             ],
             [
              0.1111111111111111,
              "#46039f"
             ],
             [
              0.2222222222222222,
              "#7201a8"
             ],
             [
              0.3333333333333333,
              "#9c179e"
             ],
             [
              0.4444444444444444,
              "#bd3786"
             ],
             [
              0.5555555555555556,
              "#d8576b"
             ],
             [
              0.6666666666666666,
              "#ed7953"
             ],
             [
              0.7777777777777778,
              "#fb9f3a"
             ],
             [
              0.8888888888888888,
              "#fdca26"
             ],
             [
              1,
              "#f0f921"
             ]
            ],
            "type": "heatmap"
           }
          ],
          "heatmapgl": [
           {
            "colorbar": {
             "outlinewidth": 0,
             "ticks": ""
            },
            "colorscale": [
             [
              0,
              "#0d0887"
             ],
             [
              0.1111111111111111,
              "#46039f"
             ],
             [
              0.2222222222222222,
              "#7201a8"
             ],
             [
              0.3333333333333333,
              "#9c179e"
             ],
             [
              0.4444444444444444,
              "#bd3786"
             ],
             [
              0.5555555555555556,
              "#d8576b"
             ],
             [
              0.6666666666666666,
              "#ed7953"
             ],
             [
              0.7777777777777778,
              "#fb9f3a"
             ],
             [
              0.8888888888888888,
              "#fdca26"
             ],
             [
              1,
              "#f0f921"
             ]
            ],
            "type": "heatmapgl"
           }
          ],
          "histogram": [
           {
            "marker": {
             "colorbar": {
              "outlinewidth": 0,
              "ticks": ""
             }
            },
            "type": "histogram"
           }
          ],
          "histogram2d": [
           {
            "colorbar": {
             "outlinewidth": 0,
             "ticks": ""
            },
            "colorscale": [
             [
              0,
              "#0d0887"
             ],
             [
              0.1111111111111111,
              "#46039f"
             ],
             [
              0.2222222222222222,
              "#7201a8"
             ],
             [
              0.3333333333333333,
              "#9c179e"
             ],
             [
              0.4444444444444444,
              "#bd3786"
             ],
             [
              0.5555555555555556,
              "#d8576b"
             ],
             [
              0.6666666666666666,
              "#ed7953"
             ],
             [
              0.7777777777777778,
              "#fb9f3a"
             ],
             [
              0.8888888888888888,
              "#fdca26"
             ],
             [
              1,
              "#f0f921"
             ]
            ],
            "type": "histogram2d"
           }
          ],
          "histogram2dcontour": [
           {
            "colorbar": {
             "outlinewidth": 0,
             "ticks": ""
            },
            "colorscale": [
             [
              0,
              "#0d0887"
             ],
             [
              0.1111111111111111,
              "#46039f"
             ],
             [
              0.2222222222222222,
              "#7201a8"
             ],
             [
              0.3333333333333333,
              "#9c179e"
             ],
             [
              0.4444444444444444,
              "#bd3786"
             ],
             [
              0.5555555555555556,
              "#d8576b"
             ],
             [
              0.6666666666666666,
              "#ed7953"
             ],
             [
              0.7777777777777778,
              "#fb9f3a"
             ],
             [
              0.8888888888888888,
              "#fdca26"
             ],
             [
              1,
              "#f0f921"
             ]
            ],
            "type": "histogram2dcontour"
           }
          ],
          "mesh3d": [
           {
            "colorbar": {
             "outlinewidth": 0,
             "ticks": ""
            },
            "type": "mesh3d"
           }
          ],
          "parcoords": [
           {
            "line": {
             "colorbar": {
              "outlinewidth": 0,
              "ticks": ""
             }
            },
            "type": "parcoords"
           }
          ],
          "pie": [
           {
            "automargin": true,
            "type": "pie"
           }
          ],
          "scatter": [
           {
            "marker": {
             "colorbar": {
              "outlinewidth": 0,
              "ticks": ""
             }
            },
            "type": "scatter"
           }
          ],
          "scatter3d": [
           {
            "line": {
             "colorbar": {
              "outlinewidth": 0,
              "ticks": ""
             }
            },
            "marker": {
             "colorbar": {
              "outlinewidth": 0,
              "ticks": ""
             }
            },
            "type": "scatter3d"
           }
          ],
          "scattercarpet": [
           {
            "marker": {
             "colorbar": {
              "outlinewidth": 0,
              "ticks": ""
             }
            },
            "type": "scattercarpet"
           }
          ],
          "scattergeo": [
           {
            "marker": {
             "colorbar": {
              "outlinewidth": 0,
              "ticks": ""
             }
            },
            "type": "scattergeo"
           }
          ],
          "scattergl": [
           {
            "marker": {
             "colorbar": {
              "outlinewidth": 0,
              "ticks": ""
             }
            },
            "type": "scattergl"
           }
          ],
          "scattermapbox": [
           {
            "marker": {
             "colorbar": {
              "outlinewidth": 0,
              "ticks": ""
             }
            },
            "type": "scattermapbox"
           }
          ],
          "scatterpolar": [
           {
            "marker": {
             "colorbar": {
              "outlinewidth": 0,
              "ticks": ""
             }
            },
            "type": "scatterpolar"
           }
          ],
          "scatterpolargl": [
           {
            "marker": {
             "colorbar": {
              "outlinewidth": 0,
              "ticks": ""
             }
            },
            "type": "scatterpolargl"
           }
          ],
          "scatterternary": [
           {
            "marker": {
             "colorbar": {
              "outlinewidth": 0,
              "ticks": ""
             }
            },
            "type": "scatterternary"
           }
          ],
          "surface": [
           {
            "colorbar": {
             "outlinewidth": 0,
             "ticks": ""
            },
            "colorscale": [
             [
              0,
              "#0d0887"
             ],
             [
              0.1111111111111111,
              "#46039f"
             ],
             [
              0.2222222222222222,
              "#7201a8"
             ],
             [
              0.3333333333333333,
              "#9c179e"
             ],
             [
              0.4444444444444444,
              "#bd3786"
             ],
             [
              0.5555555555555556,
              "#d8576b"
             ],
             [
              0.6666666666666666,
              "#ed7953"
             ],
             [
              0.7777777777777778,
              "#fb9f3a"
             ],
             [
              0.8888888888888888,
              "#fdca26"
             ],
             [
              1,
              "#f0f921"
             ]
            ],
            "type": "surface"
           }
          ],
          "table": [
           {
            "cells": {
             "fill": {
              "color": "#EBF0F8"
             },
             "line": {
              "color": "white"
             }
            },
            "header": {
             "fill": {
              "color": "#C8D4E3"
             },
             "line": {
              "color": "white"
             }
            },
            "type": "table"
           }
          ]
         },
         "layout": {
          "annotationdefaults": {
           "arrowcolor": "#2a3f5f",
           "arrowhead": 0,
           "arrowwidth": 1
          },
          "autotypenumbers": "strict",
          "coloraxis": {
           "colorbar": {
            "outlinewidth": 0,
            "ticks": ""
           }
          },
          "colorscale": {
           "diverging": [
            [
             0,
             "#8e0152"
            ],
            [
             0.1,
             "#c51b7d"
            ],
            [
             0.2,
             "#de77ae"
            ],
            [
             0.3,
             "#f1b6da"
            ],
            [
             0.4,
             "#fde0ef"
            ],
            [
             0.5,
             "#f7f7f7"
            ],
            [
             0.6,
             "#e6f5d0"
            ],
            [
             0.7,
             "#b8e186"
            ],
            [
             0.8,
             "#7fbc41"
            ],
            [
             0.9,
             "#4d9221"
            ],
            [
             1,
             "#276419"
            ]
           ],
           "sequential": [
            [
             0,
             "#0d0887"
            ],
            [
             0.1111111111111111,
             "#46039f"
            ],
            [
             0.2222222222222222,
             "#7201a8"
            ],
            [
             0.3333333333333333,
             "#9c179e"
            ],
            [
             0.4444444444444444,
             "#bd3786"
            ],
            [
             0.5555555555555556,
             "#d8576b"
            ],
            [
             0.6666666666666666,
             "#ed7953"
            ],
            [
             0.7777777777777778,
             "#fb9f3a"
            ],
            [
             0.8888888888888888,
             "#fdca26"
            ],
            [
             1,
             "#f0f921"
            ]
           ],
           "sequentialminus": [
            [
             0,
             "#0d0887"
            ],
            [
             0.1111111111111111,
             "#46039f"
            ],
            [
             0.2222222222222222,
             "#7201a8"
            ],
            [
             0.3333333333333333,
             "#9c179e"
            ],
            [
             0.4444444444444444,
             "#bd3786"
            ],
            [
             0.5555555555555556,
             "#d8576b"
            ],
            [
             0.6666666666666666,
             "#ed7953"
            ],
            [
             0.7777777777777778,
             "#fb9f3a"
            ],
            [
             0.8888888888888888,
             "#fdca26"
            ],
            [
             1,
             "#f0f921"
            ]
           ]
          },
          "colorway": [
           "#636efa",
           "#EF553B",
           "#00cc96",
           "#ab63fa",
           "#FFA15A",
           "#19d3f3",
           "#FF6692",
           "#B6E880",
           "#FF97FF",
           "#FECB52"
          ],
          "font": {
           "color": "#2a3f5f"
          },
          "geo": {
           "bgcolor": "white",
           "lakecolor": "white",
           "landcolor": "#E5ECF6",
           "showlakes": true,
           "showland": true,
           "subunitcolor": "white"
          },
          "hoverlabel": {
           "align": "left"
          },
          "hovermode": "closest",
          "mapbox": {
           "style": "light"
          },
          "paper_bgcolor": "white",
          "plot_bgcolor": "#E5ECF6",
          "polar": {
           "angularaxis": {
            "gridcolor": "white",
            "linecolor": "white",
            "ticks": ""
           },
           "bgcolor": "#E5ECF6",
           "radialaxis": {
            "gridcolor": "white",
            "linecolor": "white",
            "ticks": ""
           }
          },
          "scene": {
           "xaxis": {
            "backgroundcolor": "#E5ECF6",
            "gridcolor": "white",
            "gridwidth": 2,
            "linecolor": "white",
            "showbackground": true,
            "ticks": "",
            "zerolinecolor": "white"
           },
           "yaxis": {
            "backgroundcolor": "#E5ECF6",
            "gridcolor": "white",
            "gridwidth": 2,
            "linecolor": "white",
            "showbackground": true,
            "ticks": "",
            "zerolinecolor": "white"
           },
           "zaxis": {
            "backgroundcolor": "#E5ECF6",
            "gridcolor": "white",
            "gridwidth": 2,
            "linecolor": "white",
            "showbackground": true,
            "ticks": "",
            "zerolinecolor": "white"
           }
          },
          "shapedefaults": {
           "line": {
            "color": "#2a3f5f"
           }
          },
          "ternary": {
           "aaxis": {
            "gridcolor": "white",
            "linecolor": "white",
            "ticks": ""
           },
           "baxis": {
            "gridcolor": "white",
            "linecolor": "white",
            "ticks": ""
           },
           "bgcolor": "#E5ECF6",
           "caxis": {
            "gridcolor": "white",
            "linecolor": "white",
            "ticks": ""
           }
          },
          "title": {
           "x": 0.05
          },
          "xaxis": {
           "automargin": true,
           "gridcolor": "white",
           "linecolor": "white",
           "ticks": "",
           "title": {
            "standoff": 15
           },
           "zerolinecolor": "white",
           "zerolinewidth": 2
          },
          "yaxis": {
           "automargin": true,
           "gridcolor": "white",
           "linecolor": "white",
           "ticks": "",
           "title": {
            "standoff": 15
           },
           "zerolinecolor": "white",
           "zerolinewidth": 2
          }
         }
        },
        "title": {
         "font": {
          "color": "#4D5663"
         },
         "text": "DataFrame"
        },
        "xaxis": {
         "gridcolor": "#E1E5ED",
         "showgrid": true,
         "tickfont": {
          "color": "#4D5663"
         },
         "title": {
          "font": {
           "color": "#4D5663"
          },
          "text": ""
         },
         "zerolinecolor": "#E1E5ED"
        },
        "yaxis": {
         "gridcolor": "#E1E5ED",
         "showgrid": true,
         "tickfont": {
          "color": "#4D5663"
         },
         "title": {
          "font": {
           "color": "#4D5663"
          },
          "text": ""
         },
         "zerolinecolor": "#E1E5ED"
        }
       }
      },
      "text/html": "<div>                            <div id=\"49ba6a2e-c432-4f1e-87a6-b8db3c91ade4\" class=\"plotly-graph-div\" style=\"height:525px; width:100%;\"></div>            <script type=\"text/javascript\">                require([\"plotly\"], function(Plotly) {                    window.PLOTLYENV=window.PLOTLYENV || {};\n                    window.PLOTLYENV.BASE_URL='https://plot.ly';                                    if (document.getElementById(\"49ba6a2e-c432-4f1e-87a6-b8db3c91ade4\")) {                    Plotly.newPlot(                        \"49ba6a2e-c432-4f1e-87a6-b8db3c91ade4\",                        [{\"line\": {\"color\": \"rgba(255, 153, 51, 1.0)\", \"dash\": \"dot\", \"shape\": \"linear\", \"width\": 1.3}, \"mode\": \"lines\", \"name\": \"A\", \"text\": \"\", \"type\": \"scatter\", \"x\": [0, 1, 2, 3, 4, 5, 6, 7, 8, 9, 10, 11, 12, 13, 14, 15, 16, 17, 18, 19, 20, 21, 22, 23, 24, 25, 26, 27, 28, 29, 30, 31, 32, 33, 34, 35, 36, 37, 38, 39, 40, 41, 42, 43, 44, 45, 46, 47, 48, 49, 50, 51, 52, 53, 54, 55, 56, 57, 58, 59, 60, 61, 62, 63, 64, 65, 66, 67, 68, 69, 70, 71, 72, 73, 74, 75, 76, 77, 78, 79, 80, 81, 82, 83, 84, 85, 86, 87, 88, 89, 90, 91, 92, 93, 94, 95, 96, 97, 98, 99], \"y\": [-0.9792515936598923, 0.9598050055042266, 1.2879497854926978, -0.7580525281398575, 0.7395394550550108, 0.17019107169090317, -0.1293765011854134, 0.4456954392361662, 0.13772919772007583, -1.1475557380589023, 0.7148856836266592, 1.4579626985599747, 0.8874119734406709, 0.3072755156395645, 2.0957456279779065, 0.5899177376437668, 1.0364047408183756, 0.7388472871926347, 0.17950427668644467, 0.3680753376522049, 0.1368695577373032, 0.8159967349839087, -0.14844827589627468, 0.9610220648185201, 0.8403045958850671, 0.1539828413327248, -0.22403721645926258, -0.9886846475465637, -0.041097672863380195, -0.20336539740261284, -0.8272592313380914, -0.7377644328272414, 0.6228589278084802, 1.0167861280965602, -2.2412581790082666, -0.18088089665349677, 0.38747162796369533, -0.022976036922044408, -0.376997829574464, 0.12116576151183464, 0.004016022807814205, -1.8023654641354336, -0.8309213004133602, -0.37467942398393506, 0.16749391300381028, 2.157106901960888, 0.26801897806054975, -0.12917654316980617, -1.1921864240944327, 1.6144706272625435, 0.44154651927524047, -1.5248455068331284, -1.379729809199886, -0.3071048272960799, 0.11873027241721576, -0.18440988283347878, -1.5364079402765836, -1.7659951853905054, -1.1925247660678762, -0.3719050473318741, 0.9116004418673352, -1.2893901771054779, 0.3494224192856916, 0.12384105919512163, -0.2853887638156255, -0.05477890823051662, -0.13339681427823635, 0.002483580579456353, 0.6483924643575026, -1.7744604454121766, 0.051018691708484755, -0.20831087775659465, 1.2036245135778298, 0.37460006318208516, -0.007357554347866323, 0.5125991262014535, 0.0024173923945399363, -0.8563025126597791, -0.7617603492153533, -1.792629772347877, 0.360765760598241, -0.7718682940507207, 1.6886536550319722, 1.194024448998109, -0.417875534770027, 2.122611684514379, -0.20455142051435, -1.3193963771012482, -1.7879804873841585, 0.4066145570917323, 1.434386069614315, -0.5881888567526482, -1.2337031790890676, -0.7429661704558083, 0.0566414277132115, -1.2378557179328697, -0.43038873430261276, -2.5320354376990766, 0.7598237879841848, 0.48412359488350337]}],                        {\"legend\": {\"bgcolor\": \"#F5F6F9\", \"font\": {\"color\": \"#4D5663\"}}, \"paper_bgcolor\": \"#F5F6F9\", \"plot_bgcolor\": \"#F5F6F9\", \"template\": {\"data\": {\"bar\": [{\"error_x\": {\"color\": \"#2a3f5f\"}, \"error_y\": {\"color\": \"#2a3f5f\"}, \"marker\": {\"line\": {\"color\": \"#E5ECF6\", \"width\": 0.5}}, \"type\": \"bar\"}], \"barpolar\": [{\"marker\": {\"line\": {\"color\": \"#E5ECF6\", \"width\": 0.5}}, \"type\": \"barpolar\"}], \"carpet\": [{\"aaxis\": {\"endlinecolor\": \"#2a3f5f\", \"gridcolor\": \"white\", \"linecolor\": \"white\", \"minorgridcolor\": \"white\", \"startlinecolor\": \"#2a3f5f\"}, \"baxis\": {\"endlinecolor\": \"#2a3f5f\", \"gridcolor\": \"white\", \"linecolor\": \"white\", \"minorgridcolor\": \"white\", \"startlinecolor\": \"#2a3f5f\"}, \"type\": \"carpet\"}], \"choropleth\": [{\"colorbar\": {\"outlinewidth\": 0, \"ticks\": \"\"}, \"type\": \"choropleth\"}], \"contour\": [{\"colorbar\": {\"outlinewidth\": 0, \"ticks\": \"\"}, \"colorscale\": [[0.0, \"#0d0887\"], [0.1111111111111111, \"#46039f\"], [0.2222222222222222, \"#7201a8\"], [0.3333333333333333, \"#9c179e\"], [0.4444444444444444, \"#bd3786\"], [0.5555555555555556, \"#d8576b\"], [0.6666666666666666, \"#ed7953\"], [0.7777777777777778, \"#fb9f3a\"], [0.8888888888888888, \"#fdca26\"], [1.0, \"#f0f921\"]], \"type\": \"contour\"}], \"contourcarpet\": [{\"colorbar\": {\"outlinewidth\": 0, \"ticks\": \"\"}, \"type\": \"contourcarpet\"}], \"heatmap\": [{\"colorbar\": {\"outlinewidth\": 0, \"ticks\": \"\"}, \"colorscale\": [[0.0, \"#0d0887\"], [0.1111111111111111, \"#46039f\"], [0.2222222222222222, \"#7201a8\"], [0.3333333333333333, \"#9c179e\"], [0.4444444444444444, \"#bd3786\"], [0.5555555555555556, \"#d8576b\"], [0.6666666666666666, \"#ed7953\"], [0.7777777777777778, \"#fb9f3a\"], [0.8888888888888888, \"#fdca26\"], [1.0, \"#f0f921\"]], \"type\": \"heatmap\"}], \"heatmapgl\": [{\"colorbar\": {\"outlinewidth\": 0, \"ticks\": \"\"}, \"colorscale\": [[0.0, \"#0d0887\"], [0.1111111111111111, \"#46039f\"], [0.2222222222222222, \"#7201a8\"], [0.3333333333333333, \"#9c179e\"], [0.4444444444444444, \"#bd3786\"], [0.5555555555555556, \"#d8576b\"], [0.6666666666666666, \"#ed7953\"], [0.7777777777777778, \"#fb9f3a\"], [0.8888888888888888, \"#fdca26\"], [1.0, \"#f0f921\"]], \"type\": \"heatmapgl\"}], \"histogram\": [{\"marker\": {\"colorbar\": {\"outlinewidth\": 0, \"ticks\": \"\"}}, \"type\": \"histogram\"}], \"histogram2d\": [{\"colorbar\": {\"outlinewidth\": 0, \"ticks\": \"\"}, \"colorscale\": [[0.0, \"#0d0887\"], [0.1111111111111111, \"#46039f\"], [0.2222222222222222, \"#7201a8\"], [0.3333333333333333, \"#9c179e\"], [0.4444444444444444, \"#bd3786\"], [0.5555555555555556, \"#d8576b\"], [0.6666666666666666, \"#ed7953\"], [0.7777777777777778, \"#fb9f3a\"], [0.8888888888888888, \"#fdca26\"], [1.0, \"#f0f921\"]], \"type\": \"histogram2d\"}], \"histogram2dcontour\": [{\"colorbar\": {\"outlinewidth\": 0, \"ticks\": \"\"}, \"colorscale\": [[0.0, \"#0d0887\"], [0.1111111111111111, \"#46039f\"], [0.2222222222222222, \"#7201a8\"], [0.3333333333333333, \"#9c179e\"], [0.4444444444444444, \"#bd3786\"], [0.5555555555555556, \"#d8576b\"], [0.6666666666666666, \"#ed7953\"], [0.7777777777777778, \"#fb9f3a\"], [0.8888888888888888, \"#fdca26\"], [1.0, \"#f0f921\"]], \"type\": \"histogram2dcontour\"}], \"mesh3d\": [{\"colorbar\": {\"outlinewidth\": 0, \"ticks\": \"\"}, \"type\": \"mesh3d\"}], \"parcoords\": [{\"line\": {\"colorbar\": {\"outlinewidth\": 0, \"ticks\": \"\"}}, \"type\": \"parcoords\"}], \"pie\": [{\"automargin\": true, \"type\": \"pie\"}], \"scatter\": [{\"marker\": {\"colorbar\": {\"outlinewidth\": 0, \"ticks\": \"\"}}, \"type\": \"scatter\"}], \"scatter3d\": [{\"line\": {\"colorbar\": {\"outlinewidth\": 0, \"ticks\": \"\"}}, \"marker\": {\"colorbar\": {\"outlinewidth\": 0, \"ticks\": \"\"}}, \"type\": \"scatter3d\"}], \"scattercarpet\": [{\"marker\": {\"colorbar\": {\"outlinewidth\": 0, \"ticks\": \"\"}}, \"type\": \"scattercarpet\"}], \"scattergeo\": [{\"marker\": {\"colorbar\": {\"outlinewidth\": 0, \"ticks\": \"\"}}, \"type\": \"scattergeo\"}], \"scattergl\": [{\"marker\": {\"colorbar\": {\"outlinewidth\": 0, \"ticks\": \"\"}}, \"type\": \"scattergl\"}], \"scattermapbox\": [{\"marker\": {\"colorbar\": {\"outlinewidth\": 0, \"ticks\": \"\"}}, \"type\": \"scattermapbox\"}], \"scatterpolar\": [{\"marker\": {\"colorbar\": {\"outlinewidth\": 0, \"ticks\": \"\"}}, \"type\": \"scatterpolar\"}], \"scatterpolargl\": [{\"marker\": {\"colorbar\": {\"outlinewidth\": 0, \"ticks\": \"\"}}, \"type\": \"scatterpolargl\"}], \"scatterternary\": [{\"marker\": {\"colorbar\": {\"outlinewidth\": 0, \"ticks\": \"\"}}, \"type\": \"scatterternary\"}], \"surface\": [{\"colorbar\": {\"outlinewidth\": 0, \"ticks\": \"\"}, \"colorscale\": [[0.0, \"#0d0887\"], [0.1111111111111111, \"#46039f\"], [0.2222222222222222, \"#7201a8\"], [0.3333333333333333, \"#9c179e\"], [0.4444444444444444, \"#bd3786\"], [0.5555555555555556, \"#d8576b\"], [0.6666666666666666, \"#ed7953\"], [0.7777777777777778, \"#fb9f3a\"], [0.8888888888888888, \"#fdca26\"], [1.0, \"#f0f921\"]], \"type\": \"surface\"}], \"table\": [{\"cells\": {\"fill\": {\"color\": \"#EBF0F8\"}, \"line\": {\"color\": \"white\"}}, \"header\": {\"fill\": {\"color\": \"#C8D4E3\"}, \"line\": {\"color\": \"white\"}}, \"type\": \"table\"}]}, \"layout\": {\"annotationdefaults\": {\"arrowcolor\": \"#2a3f5f\", \"arrowhead\": 0, \"arrowwidth\": 1}, \"autotypenumbers\": \"strict\", \"coloraxis\": {\"colorbar\": {\"outlinewidth\": 0, \"ticks\": \"\"}}, \"colorscale\": {\"diverging\": [[0, \"#8e0152\"], [0.1, \"#c51b7d\"], [0.2, \"#de77ae\"], [0.3, \"#f1b6da\"], [0.4, \"#fde0ef\"], [0.5, \"#f7f7f7\"], [0.6, \"#e6f5d0\"], [0.7, \"#b8e186\"], [0.8, \"#7fbc41\"], [0.9, \"#4d9221\"], [1, \"#276419\"]], \"sequential\": [[0.0, \"#0d0887\"], [0.1111111111111111, \"#46039f\"], [0.2222222222222222, \"#7201a8\"], [0.3333333333333333, \"#9c179e\"], [0.4444444444444444, \"#bd3786\"], [0.5555555555555556, \"#d8576b\"], [0.6666666666666666, \"#ed7953\"], [0.7777777777777778, \"#fb9f3a\"], [0.8888888888888888, \"#fdca26\"], [1.0, \"#f0f921\"]], \"sequentialminus\": [[0.0, \"#0d0887\"], [0.1111111111111111, \"#46039f\"], [0.2222222222222222, \"#7201a8\"], [0.3333333333333333, \"#9c179e\"], [0.4444444444444444, \"#bd3786\"], [0.5555555555555556, \"#d8576b\"], [0.6666666666666666, \"#ed7953\"], [0.7777777777777778, \"#fb9f3a\"], [0.8888888888888888, \"#fdca26\"], [1.0, \"#f0f921\"]]}, \"colorway\": [\"#636efa\", \"#EF553B\", \"#00cc96\", \"#ab63fa\", \"#FFA15A\", \"#19d3f3\", \"#FF6692\", \"#B6E880\", \"#FF97FF\", \"#FECB52\"], \"font\": {\"color\": \"#2a3f5f\"}, \"geo\": {\"bgcolor\": \"white\", \"lakecolor\": \"white\", \"landcolor\": \"#E5ECF6\", \"showlakes\": true, \"showland\": true, \"subunitcolor\": \"white\"}, \"hoverlabel\": {\"align\": \"left\"}, \"hovermode\": \"closest\", \"mapbox\": {\"style\": \"light\"}, \"paper_bgcolor\": \"white\", \"plot_bgcolor\": \"#E5ECF6\", \"polar\": {\"angularaxis\": {\"gridcolor\": \"white\", \"linecolor\": \"white\", \"ticks\": \"\"}, \"bgcolor\": \"#E5ECF6\", \"radialaxis\": {\"gridcolor\": \"white\", \"linecolor\": \"white\", \"ticks\": \"\"}}, \"scene\": {\"xaxis\": {\"backgroundcolor\": \"#E5ECF6\", \"gridcolor\": \"white\", \"gridwidth\": 2, \"linecolor\": \"white\", \"showbackground\": true, \"ticks\": \"\", \"zerolinecolor\": \"white\"}, \"yaxis\": {\"backgroundcolor\": \"#E5ECF6\", \"gridcolor\": \"white\", \"gridwidth\": 2, \"linecolor\": \"white\", \"showbackground\": true, \"ticks\": \"\", \"zerolinecolor\": \"white\"}, \"zaxis\": {\"backgroundcolor\": \"#E5ECF6\", \"gridcolor\": \"white\", \"gridwidth\": 2, \"linecolor\": \"white\", \"showbackground\": true, \"ticks\": \"\", \"zerolinecolor\": \"white\"}}, \"shapedefaults\": {\"line\": {\"color\": \"#2a3f5f\"}}, \"ternary\": {\"aaxis\": {\"gridcolor\": \"white\", \"linecolor\": \"white\", \"ticks\": \"\"}, \"baxis\": {\"gridcolor\": \"white\", \"linecolor\": \"white\", \"ticks\": \"\"}, \"bgcolor\": \"#E5ECF6\", \"caxis\": {\"gridcolor\": \"white\", \"linecolor\": \"white\", \"ticks\": \"\"}}, \"title\": {\"x\": 0.05}, \"xaxis\": {\"automargin\": true, \"gridcolor\": \"white\", \"linecolor\": \"white\", \"ticks\": \"\", \"title\": {\"standoff\": 15}, \"zerolinecolor\": \"white\", \"zerolinewidth\": 2}, \"yaxis\": {\"automargin\": true, \"gridcolor\": \"white\", \"linecolor\": \"white\", \"ticks\": \"\", \"title\": {\"standoff\": 15}, \"zerolinecolor\": \"white\", \"zerolinewidth\": 2}}}, \"title\": {\"font\": {\"color\": \"#4D5663\"}, \"text\": \"DataFrame\"}, \"xaxis\": {\"gridcolor\": \"#E1E5ED\", \"showgrid\": true, \"tickfont\": {\"color\": \"#4D5663\"}, \"title\": {\"font\": {\"color\": \"#4D5663\"}, \"text\": \"\"}, \"zerolinecolor\": \"#E1E5ED\"}, \"yaxis\": {\"gridcolor\": \"#E1E5ED\", \"showgrid\": true, \"tickfont\": {\"color\": \"#4D5663\"}, \"title\": {\"font\": {\"color\": \"#4D5663\"}, \"text\": \"\"}, \"zerolinecolor\": \"#E1E5ED\"}},                        {\"showLink\": true, \"linkText\": \"Export to plot.ly\", \"plotlyServerURL\": \"https://plot.ly\", \"responsive\": true}                    ).then(function(){\n                            \nvar gd = document.getElementById('49ba6a2e-c432-4f1e-87a6-b8db3c91ade4');\nvar x = new MutationObserver(function (mutations, observer) {{\n        var display = window.getComputedStyle(gd).display;\n        if (!display || display === 'none') {{\n            console.log([gd, 'removed!']);\n            Plotly.purge(gd);\n            observer.disconnect();\n        }}\n}});\n\n// Listen for the removal of the full notebook cells\nvar notebookContainer = gd.closest('#notebook-container');\nif (notebookContainer) {{\n    x.observe(notebookContainer, {childList: true});\n}}\n\n// Listen for the clearing of the current output cell\nvar outputEl = gd.closest('.output');\nif (outputEl) {{\n    x.observe(outputEl, {childList: true});\n}}\n\n                        })                };                });            </script>        </div>"
     },
     "metadata": {}
    }
   ],
   "source": [
    "df['A'].iplot(dash= 'dot',title= 'DataFrame', ) # plotly's are used using iplot instead of just plot, iplot stands for Interactive Plot\n",
    "# Even plotly provides a lot of customizations\n",
    "# It's interactive also"
   ]
  },
  {
   "cell_type": "code",
   "execution_count": 49,
   "metadata": {},
   "outputs": [
    {
     "output_type": "stream",
     "name": "stdout",
     "text": [
      "Collecting statsmodels\n  Downloading statsmodels-0.12.1-cp37-none-win_amd64.whl (9.1 MB)\nCollecting patsy>=0.5\n  Downloading patsy-0.5.1-py2.py3-none-any.whl (231 kB)\nRequirement already satisfied: numpy>=1.15 in c:\\users\\lenovo\\anaconda3\\envs\\myenv\\lib\\site-packages (from statsmodels) (1.19.2)\nRequirement already satisfied: pandas>=0.21 in c:\\users\\lenovo\\anaconda3\\envs\\myenv\\lib\\site-packages (from statsmodels) (1.1.3)\nRequirement already satisfied: scipy>=1.1 in c:\\users\\lenovo\\anaconda3\\envs\\myenv\\lib\\site-packages (from statsmodels) (1.5.2)\nRequirement already satisfied: six in c:\\users\\lenovo\\anaconda3\\envs\\myenv\\lib\\site-packages (from patsy>=0.5->statsmodels) (1.15.0)\nRequirement already satisfied: python-dateutil>=2.7.3 in c:\\users\\lenovo\\anaconda3\\envs\\myenv\\lib\\site-packages (from pandas>=0.21->statsmodels) (2.8.1)\nRequirement already satisfied: pytz>=2017.2 in c:\\users\\lenovo\\anaconda3\\envs\\myenv\\lib\\site-packages (from pandas>=0.21->statsmodels) (2020.1)\nInstalling collected packages: patsy, statsmodels\nSuccessfully installed patsy-0.5.1 statsmodels-0.12.1\nNote: you may need to restart the kernel to use updated packages.\n"
     ]
    }
   ],
   "source": [
    "pip install statsmodels"
   ]
  },
  {
   "cell_type": "code",
   "execution_count": 67,
   "metadata": {},
   "outputs": [
    {
     "output_type": "display_data",
     "data": {
      "application/vnd.plotly.v1+json": {
       "config": {
        "linkText": "Export to plot.ly",
        "plotlyServerURL": "https://plot.ly",
        "showLink": true
       },
       "data": [
        {
         "line": {
          "color": "rgba(255, 153, 51, 1.0)",
          "dash": "solid",
          "shape": "linear",
          "width": 1.3
         },
         "mode": "lines",
         "name": "A",
         "text": "",
         "type": "scatter",
         "x": [
          0,
          1,
          2,
          3,
          4,
          5,
          6,
          7,
          8,
          9,
          10,
          11,
          12,
          13,
          14,
          15,
          16,
          17,
          18,
          19,
          20,
          21,
          22,
          23,
          24,
          25,
          26,
          27,
          28,
          29,
          30,
          31,
          32,
          33,
          34,
          35,
          36,
          37,
          38,
          39,
          40,
          41,
          42,
          43,
          44,
          45,
          46,
          47,
          48,
          49,
          50,
          51,
          52,
          53,
          54,
          55,
          56,
          57,
          58,
          59,
          60,
          61,
          62,
          63,
          64,
          65,
          66,
          67,
          68,
          69,
          70,
          71,
          72,
          73,
          74,
          75,
          76,
          77,
          78,
          79,
          80,
          81,
          82,
          83,
          84,
          85,
          86,
          87,
          88,
          89,
          90,
          91,
          92,
          93,
          94,
          95,
          96,
          97,
          98,
          99
         ],
         "y": [
          -0.9792515936598923,
          0.9598050055042266,
          1.2879497854926978,
          -0.7580525281398575,
          0.7395394550550108,
          0.17019107169090317,
          -0.1293765011854134,
          0.4456954392361662,
          0.13772919772007583,
          -1.1475557380589023,
          0.7148856836266592,
          1.4579626985599747,
          0.8874119734406709,
          0.3072755156395645,
          2.0957456279779065,
          0.5899177376437668,
          1.0364047408183756,
          0.7388472871926347,
          0.17950427668644467,
          0.3680753376522049,
          0.1368695577373032,
          0.8159967349839087,
          -0.14844827589627468,
          0.9610220648185201,
          0.8403045958850671,
          0.1539828413327248,
          -0.22403721645926258,
          -0.9886846475465637,
          -0.041097672863380195,
          -0.20336539740261284,
          -0.8272592313380914,
          -0.7377644328272414,
          0.6228589278084802,
          1.0167861280965602,
          -2.2412581790082666,
          -0.18088089665349677,
          0.38747162796369533,
          -0.022976036922044408,
          -0.376997829574464,
          0.12116576151183464,
          0.004016022807814205,
          -1.8023654641354336,
          -0.8309213004133602,
          -0.37467942398393506,
          0.16749391300381028,
          2.157106901960888,
          0.26801897806054975,
          -0.12917654316980617,
          -1.1921864240944327,
          1.6144706272625435,
          0.44154651927524047,
          -1.5248455068331284,
          -1.379729809199886,
          -0.3071048272960799,
          0.11873027241721576,
          -0.18440988283347878,
          -1.5364079402765836,
          -1.7659951853905054,
          -1.1925247660678762,
          -0.3719050473318741,
          0.9116004418673352,
          -1.2893901771054779,
          0.3494224192856916,
          0.12384105919512163,
          -0.2853887638156255,
          -0.05477890823051662,
          -0.13339681427823635,
          0.002483580579456353,
          0.6483924643575026,
          -1.7744604454121766,
          0.051018691708484755,
          -0.20831087775659465,
          1.2036245135778298,
          0.37460006318208516,
          -0.007357554347866323,
          0.5125991262014535,
          0.0024173923945399363,
          -0.8563025126597791,
          -0.7617603492153533,
          -1.792629772347877,
          0.360765760598241,
          -0.7718682940507207,
          1.6886536550319722,
          1.194024448998109,
          -0.417875534770027,
          2.122611684514379,
          -0.20455142051435,
          -1.3193963771012482,
          -1.7879804873841585,
          0.4066145570917323,
          1.434386069614315,
          -0.5881888567526482,
          -1.2337031790890676,
          -0.7429661704558083,
          0.0566414277132115,
          -1.2378557179328697,
          -0.43038873430261276,
          -2.5320354376990766,
          0.7598237879841848,
          0.48412359488350337
         ]
        },
        {
         "line": {
          "color": "rgba(255, 153, 51, 0.6)",
          "dash": "dash",
          "shape": "linear",
          "width": 3
         },
         "mode": "lines",
         "name": "-0.01*x+0.31",
         "type": "scatter",
         "x": [
          0,
          1,
          2,
          3,
          4,
          5,
          6,
          7,
          8,
          9,
          10,
          11,
          12,
          13,
          14,
          15,
          16,
          17,
          18,
          19,
          20,
          21,
          22,
          23,
          24,
          25,
          26,
          27,
          28,
          29,
          30,
          31,
          32,
          33,
          34,
          35,
          36,
          37,
          38,
          39,
          40,
          41,
          42,
          43,
          44,
          45,
          46,
          47,
          48,
          49,
          50,
          51,
          52,
          53,
          54,
          55,
          56,
          57,
          58,
          59,
          60,
          61,
          62,
          63,
          64,
          65,
          66,
          67,
          68,
          69,
          70,
          71,
          72,
          73,
          74,
          75,
          76,
          77,
          78,
          79,
          80,
          81,
          82,
          83,
          84,
          85,
          86,
          87,
          88,
          89,
          90,
          91,
          92,
          93,
          94,
          95,
          96,
          97,
          98,
          99
         ],
         "y": [
          0.30500378492372754,
          0.29775170489776503,
          0.29049962487180253,
          0.28324754484584,
          0.2759954648198775,
          0.268743384793915,
          0.2614913047679525,
          0.25423922474199,
          0.2469871447160275,
          0.239735064690065,
          0.2324829846641025,
          0.22523090463814,
          0.21797882461217746,
          0.21072674458621496,
          0.20347466456025246,
          0.19622258453428995,
          0.18897050450832745,
          0.18171842448236494,
          0.17446634445640244,
          0.16721426443043994,
          0.15996218440447743,
          0.15271010437851493,
          0.14545802435255242,
          0.13820594432658992,
          0.1309538643006274,
          0.12370178427466488,
          0.11644970424870238,
          0.10919762422273988,
          0.10194554419677737,
          0.09469346417081487,
          0.08744138414485236,
          0.08018930411888986,
          0.07293722409292736,
          0.06568514406696485,
          0.05843306404100235,
          0.05118098401503984,
          0.04392890398907734,
          0.036676823963114835,
          0.02942474393715233,
          0.022172663911189827,
          0.014920583885227323,
          0.007668503859264819,
          0.00041642383330231514,
          -0.006835656192660189,
          -0.014087736218622693,
          -0.021339816244585197,
          -0.0285918962705477,
          -0.035843976296510205,
          -0.043096056322472764,
          -0.05034813634843527,
          -0.05760021637439777,
          -0.06485229640036028,
          -0.07210437642632278,
          -0.07935645645228528,
          -0.08660853647824779,
          -0.09386061650421029,
          -0.1011126965301728,
          -0.1083647765561353,
          -0.1156168565820978,
          -0.12286893660806031,
          -0.1301210166340228,
          -0.13737309665998532,
          -0.14462517668594782,
          -0.15187725671191032,
          -0.15912933673787283,
          -0.16638141676383533,
          -0.17363349678979784,
          -0.18088557681576034,
          -0.18813765684172284,
          -0.1953897368676854,
          -0.20264181689364785,
          -0.2098938969196104,
          -0.21714597694557286,
          -0.22439805697153542,
          -0.23165013699749787,
          -0.23890221702346043,
          -0.24615429704942288,
          -0.25340637707538544,
          -0.2606584571013479,
          -0.26791053712731044,
          -0.2751626171532729,
          -0.28241469717923545,
          -0.2896667772051979,
          -0.29691885723116046,
          -0.3041709372571229,
          -0.31142301728308547,
          -0.3186750973090479,
          -0.3259271773350105,
          -0.3331792573609729,
          -0.3404313373869355,
          -0.34768341741289793,
          -0.3549354974388605,
          -0.36218757746482294,
          -0.3694396574907855,
          -0.37669173751674795,
          -0.3839438175427105,
          -0.39119589756867307,
          -0.3984479775946355,
          -0.4057000576205981,
          -0.4129521376465605
         ]
        }
       ],
       "layout": {
        "legend": {
         "bgcolor": "#151516",
         "font": {
          "color": "#D9D9D9"
         }
        },
        "paper_bgcolor": "#151516",
        "plot_bgcolor": "#151516",
        "template": {
         "data": {
          "bar": [
           {
            "error_x": {
             "color": "#2a3f5f"
            },
            "error_y": {
             "color": "#2a3f5f"
            },
            "marker": {
             "line": {
              "color": "#E5ECF6",
              "width": 0.5
             }
            },
            "type": "bar"
           }
          ],
          "barpolar": [
           {
            "marker": {
             "line": {
              "color": "#E5ECF6",
              "width": 0.5
             }
            },
            "type": "barpolar"
           }
          ],
          "carpet": [
           {
            "aaxis": {
             "endlinecolor": "#2a3f5f",
             "gridcolor": "white",
             "linecolor": "white",
             "minorgridcolor": "white",
             "startlinecolor": "#2a3f5f"
            },
            "baxis": {
             "endlinecolor": "#2a3f5f",
             "gridcolor": "white",
             "linecolor": "white",
             "minorgridcolor": "white",
             "startlinecolor": "#2a3f5f"
            },
            "type": "carpet"
           }
          ],
          "choropleth": [
           {
            "colorbar": {
             "outlinewidth": 0,
             "ticks": ""
            },
            "type": "choropleth"
           }
          ],
          "contour": [
           {
            "colorbar": {
             "outlinewidth": 0,
             "ticks": ""
            },
            "colorscale": [
             [
              0,
              "#0d0887"
             ],
             [
              0.1111111111111111,
              "#46039f"
             ],
             [
              0.2222222222222222,
              "#7201a8"
             ],
             [
              0.3333333333333333,
              "#9c179e"
             ],
             [
              0.4444444444444444,
              "#bd3786"
             ],
             [
              0.5555555555555556,
              "#d8576b"
             ],
             [
              0.6666666666666666,
              "#ed7953"
             ],
             [
              0.7777777777777778,
              "#fb9f3a"
             ],
             [
              0.8888888888888888,
              "#fdca26"
             ],
             [
              1,
              "#f0f921"
             ]
            ],
            "type": "contour"
           }
          ],
          "contourcarpet": [
           {
            "colorbar": {
             "outlinewidth": 0,
             "ticks": ""
            },
            "type": "contourcarpet"
           }
          ],
          "heatmap": [
           {
            "colorbar": {
             "outlinewidth": 0,
             "ticks": ""
            },
            "colorscale": [
             [
              0,
              "#0d0887"
             ],
             [
              0.1111111111111111,
              "#46039f"
             ],
             [
              0.2222222222222222,
              "#7201a8"
             ],
             [
              0.3333333333333333,
              "#9c179e"
             ],
             [
              0.4444444444444444,
              "#bd3786"
             ],
             [
              0.5555555555555556,
              "#d8576b"
             ],
             [
              0.6666666666666666,
              "#ed7953"
             ],
             [
              0.7777777777777778,
              "#fb9f3a"
             ],
             [
              0.8888888888888888,
              "#fdca26"
             ],
             [
              1,
              "#f0f921"
             ]
            ],
            "type": "heatmap"
           }
          ],
          "heatmapgl": [
           {
            "colorbar": {
             "outlinewidth": 0,
             "ticks": ""
            },
            "colorscale": [
             [
              0,
              "#0d0887"
             ],
             [
              0.1111111111111111,
              "#46039f"
             ],
             [
              0.2222222222222222,
              "#7201a8"
             ],
             [
              0.3333333333333333,
              "#9c179e"
             ],
             [
              0.4444444444444444,
              "#bd3786"
             ],
             [
              0.5555555555555556,
              "#d8576b"
             ],
             [
              0.6666666666666666,
              "#ed7953"
             ],
             [
              0.7777777777777778,
              "#fb9f3a"
             ],
             [
              0.8888888888888888,
              "#fdca26"
             ],
             [
              1,
              "#f0f921"
             ]
            ],
            "type": "heatmapgl"
           }
          ],
          "histogram": [
           {
            "marker": {
             "colorbar": {
              "outlinewidth": 0,
              "ticks": ""
             }
            },
            "type": "histogram"
           }
          ],
          "histogram2d": [
           {
            "colorbar": {
             "outlinewidth": 0,
             "ticks": ""
            },
            "colorscale": [
             [
              0,
              "#0d0887"
             ],
             [
              0.1111111111111111,
              "#46039f"
             ],
             [
              0.2222222222222222,
              "#7201a8"
             ],
             [
              0.3333333333333333,
              "#9c179e"
             ],
             [
              0.4444444444444444,
              "#bd3786"
             ],
             [
              0.5555555555555556,
              "#d8576b"
             ],
             [
              0.6666666666666666,
              "#ed7953"
             ],
             [
              0.7777777777777778,
              "#fb9f3a"
             ],
             [
              0.8888888888888888,
              "#fdca26"
             ],
             [
              1,
              "#f0f921"
             ]
            ],
            "type": "histogram2d"
           }
          ],
          "histogram2dcontour": [
           {
            "colorbar": {
             "outlinewidth": 0,
             "ticks": ""
            },
            "colorscale": [
             [
              0,
              "#0d0887"
             ],
             [
              0.1111111111111111,
              "#46039f"
             ],
             [
              0.2222222222222222,
              "#7201a8"
             ],
             [
              0.3333333333333333,
              "#9c179e"
             ],
             [
              0.4444444444444444,
              "#bd3786"
             ],
             [
              0.5555555555555556,
              "#d8576b"
             ],
             [
              0.6666666666666666,
              "#ed7953"
             ],
             [
              0.7777777777777778,
              "#fb9f3a"
             ],
             [
              0.8888888888888888,
              "#fdca26"
             ],
             [
              1,
              "#f0f921"
             ]
            ],
            "type": "histogram2dcontour"
           }
          ],
          "mesh3d": [
           {
            "colorbar": {
             "outlinewidth": 0,
             "ticks": ""
            },
            "type": "mesh3d"
           }
          ],
          "parcoords": [
           {
            "line": {
             "colorbar": {
              "outlinewidth": 0,
              "ticks": ""
             }
            },
            "type": "parcoords"
           }
          ],
          "pie": [
           {
            "automargin": true,
            "type": "pie"
           }
          ],
          "scatter": [
           {
            "marker": {
             "colorbar": {
              "outlinewidth": 0,
              "ticks": ""
             }
            },
            "type": "scatter"
           }
          ],
          "scatter3d": [
           {
            "line": {
             "colorbar": {
              "outlinewidth": 0,
              "ticks": ""
             }
            },
            "marker": {
             "colorbar": {
              "outlinewidth": 0,
              "ticks": ""
             }
            },
            "type": "scatter3d"
           }
          ],
          "scattercarpet": [
           {
            "marker": {
             "colorbar": {
              "outlinewidth": 0,
              "ticks": ""
             }
            },
            "type": "scattercarpet"
           }
          ],
          "scattergeo": [
           {
            "marker": {
             "colorbar": {
              "outlinewidth": 0,
              "ticks": ""
             }
            },
            "type": "scattergeo"
           }
          ],
          "scattergl": [
           {
            "marker": {
             "colorbar": {
              "outlinewidth": 0,
              "ticks": ""
             }
            },
            "type": "scattergl"
           }
          ],
          "scattermapbox": [
           {
            "marker": {
             "colorbar": {
              "outlinewidth": 0,
              "ticks": ""
             }
            },
            "type": "scattermapbox"
           }
          ],
          "scatterpolar": [
           {
            "marker": {
             "colorbar": {
              "outlinewidth": 0,
              "ticks": ""
             }
            },
            "type": "scatterpolar"
           }
          ],
          "scatterpolargl": [
           {
            "marker": {
             "colorbar": {
              "outlinewidth": 0,
              "ticks": ""
             }
            },
            "type": "scatterpolargl"
           }
          ],
          "scatterternary": [
           {
            "marker": {
             "colorbar": {
              "outlinewidth": 0,
              "ticks": ""
             }
            },
            "type": "scatterternary"
           }
          ],
          "surface": [
           {
            "colorbar": {
             "outlinewidth": 0,
             "ticks": ""
            },
            "colorscale": [
             [
              0,
              "#0d0887"
             ],
             [
              0.1111111111111111,
              "#46039f"
             ],
             [
              0.2222222222222222,
              "#7201a8"
             ],
             [
              0.3333333333333333,
              "#9c179e"
             ],
             [
              0.4444444444444444,
              "#bd3786"
             ],
             [
              0.5555555555555556,
              "#d8576b"
             ],
             [
              0.6666666666666666,
              "#ed7953"
             ],
             [
              0.7777777777777778,
              "#fb9f3a"
             ],
             [
              0.8888888888888888,
              "#fdca26"
             ],
             [
              1,
              "#f0f921"
             ]
            ],
            "type": "surface"
           }
          ],
          "table": [
           {
            "cells": {
             "fill": {
              "color": "#EBF0F8"
             },
             "line": {
              "color": "white"
             }
            },
            "header": {
             "fill": {
              "color": "#C8D4E3"
             },
             "line": {
              "color": "white"
             }
            },
            "type": "table"
           }
          ]
         },
         "layout": {
          "annotationdefaults": {
           "arrowcolor": "#2a3f5f",
           "arrowhead": 0,
           "arrowwidth": 1
          },
          "autotypenumbers": "strict",
          "coloraxis": {
           "colorbar": {
            "outlinewidth": 0,
            "ticks": ""
           }
          },
          "colorscale": {
           "diverging": [
            [
             0,
             "#8e0152"
            ],
            [
             0.1,
             "#c51b7d"
            ],
            [
             0.2,
             "#de77ae"
            ],
            [
             0.3,
             "#f1b6da"
            ],
            [
             0.4,
             "#fde0ef"
            ],
            [
             0.5,
             "#f7f7f7"
            ],
            [
             0.6,
             "#e6f5d0"
            ],
            [
             0.7,
             "#b8e186"
            ],
            [
             0.8,
             "#7fbc41"
            ],
            [
             0.9,
             "#4d9221"
            ],
            [
             1,
             "#276419"
            ]
           ],
           "sequential": [
            [
             0,
             "#0d0887"
            ],
            [
             0.1111111111111111,
             "#46039f"
            ],
            [
             0.2222222222222222,
             "#7201a8"
            ],
            [
             0.3333333333333333,
             "#9c179e"
            ],
            [
             0.4444444444444444,
             "#bd3786"
            ],
            [
             0.5555555555555556,
             "#d8576b"
            ],
            [
             0.6666666666666666,
             "#ed7953"
            ],
            [
             0.7777777777777778,
             "#fb9f3a"
            ],
            [
             0.8888888888888888,
             "#fdca26"
            ],
            [
             1,
             "#f0f921"
            ]
           ],
           "sequentialminus": [
            [
             0,
             "#0d0887"
            ],
            [
             0.1111111111111111,
             "#46039f"
            ],
            [
             0.2222222222222222,
             "#7201a8"
            ],
            [
             0.3333333333333333,
             "#9c179e"
            ],
            [
             0.4444444444444444,
             "#bd3786"
            ],
            [
             0.5555555555555556,
             "#d8576b"
            ],
            [
             0.6666666666666666,
             "#ed7953"
            ],
            [
             0.7777777777777778,
             "#fb9f3a"
            ],
            [
             0.8888888888888888,
             "#fdca26"
            ],
            [
             1,
             "#f0f921"
            ]
           ]
          },
          "colorway": [
           "#636efa",
           "#EF553B",
           "#00cc96",
           "#ab63fa",
           "#FFA15A",
           "#19d3f3",
           "#FF6692",
           "#B6E880",
           "#FF97FF",
           "#FECB52"
          ],
          "font": {
           "color": "#2a3f5f"
          },
          "geo": {
           "bgcolor": "white",
           "lakecolor": "white",
           "landcolor": "#E5ECF6",
           "showlakes": true,
           "showland": true,
           "subunitcolor": "white"
          },
          "hoverlabel": {
           "align": "left"
          },
          "hovermode": "closest",
          "mapbox": {
           "style": "light"
          },
          "paper_bgcolor": "white",
          "plot_bgcolor": "#E5ECF6",
          "polar": {
           "angularaxis": {
            "gridcolor": "white",
            "linecolor": "white",
            "ticks": ""
           },
           "bgcolor": "#E5ECF6",
           "radialaxis": {
            "gridcolor": "white",
            "linecolor": "white",
            "ticks": ""
           }
          },
          "scene": {
           "xaxis": {
            "backgroundcolor": "#E5ECF6",
            "gridcolor": "white",
            "gridwidth": 2,
            "linecolor": "white",
            "showbackground": true,
            "ticks": "",
            "zerolinecolor": "white"
           },
           "yaxis": {
            "backgroundcolor": "#E5ECF6",
            "gridcolor": "white",
            "gridwidth": 2,
            "linecolor": "white",
            "showbackground": true,
            "ticks": "",
            "zerolinecolor": "white"
           },
           "zaxis": {
            "backgroundcolor": "#E5ECF6",
            "gridcolor": "white",
            "gridwidth": 2,
            "linecolor": "white",
            "showbackground": true,
            "ticks": "",
            "zerolinecolor": "white"
           }
          },
          "shapedefaults": {
           "line": {
            "color": "#2a3f5f"
           }
          },
          "ternary": {
           "aaxis": {
            "gridcolor": "white",
            "linecolor": "white",
            "ticks": ""
           },
           "baxis": {
            "gridcolor": "white",
            "linecolor": "white",
            "ticks": ""
           },
           "bgcolor": "#E5ECF6",
           "caxis": {
            "gridcolor": "white",
            "linecolor": "white",
            "ticks": ""
           }
          },
          "title": {
           "x": 0.05
          },
          "xaxis": {
           "automargin": true,
           "gridcolor": "white",
           "linecolor": "white",
           "ticks": "",
           "title": {
            "standoff": 15
           },
           "zerolinecolor": "white",
           "zerolinewidth": 2
          },
          "yaxis": {
           "automargin": true,
           "gridcolor": "white",
           "linecolor": "white",
           "ticks": "",
           "title": {
            "standoff": 15
           },
           "zerolinecolor": "white",
           "zerolinewidth": 2
          }
         }
        },
        "title": {
         "font": {
          "color": "#D9D9D9"
         },
         "text": "DataFrame"
        },
        "xaxis": {
         "gridcolor": "grey",
         "showgrid": true,
         "tickfont": {
          "color": "#C2C2C2"
         },
         "title": {
          "font": {
           "color": "#D9D9D9"
          },
          "text": "X axis"
         },
         "zerolinecolor": "#666570"
        },
        "yaxis": {
         "gridcolor": "grey",
         "showgrid": true,
         "tickfont": {
          "color": "#C2C2C2"
         },
         "title": {
          "font": {
           "color": "#D9D9D9"
          },
          "text": "Values"
         },
         "zerolinecolor": "#666570"
        }
       }
      },
      "text/html": "<div>                            <div id=\"9ab38379-af6a-4421-ae65-ec84500c02c6\" class=\"plotly-graph-div\" style=\"height:525px; width:100%;\"></div>            <script type=\"text/javascript\">                require([\"plotly\"], function(Plotly) {                    window.PLOTLYENV=window.PLOTLYENV || {};\n                    window.PLOTLYENV.BASE_URL='https://plot.ly';                                    if (document.getElementById(\"9ab38379-af6a-4421-ae65-ec84500c02c6\")) {                    Plotly.newPlot(                        \"9ab38379-af6a-4421-ae65-ec84500c02c6\",                        [{\"line\": {\"color\": \"rgba(255, 153, 51, 1.0)\", \"dash\": \"solid\", \"shape\": \"linear\", \"width\": 1.3}, \"mode\": \"lines\", \"name\": \"A\", \"text\": \"\", \"type\": \"scatter\", \"x\": [0, 1, 2, 3, 4, 5, 6, 7, 8, 9, 10, 11, 12, 13, 14, 15, 16, 17, 18, 19, 20, 21, 22, 23, 24, 25, 26, 27, 28, 29, 30, 31, 32, 33, 34, 35, 36, 37, 38, 39, 40, 41, 42, 43, 44, 45, 46, 47, 48, 49, 50, 51, 52, 53, 54, 55, 56, 57, 58, 59, 60, 61, 62, 63, 64, 65, 66, 67, 68, 69, 70, 71, 72, 73, 74, 75, 76, 77, 78, 79, 80, 81, 82, 83, 84, 85, 86, 87, 88, 89, 90, 91, 92, 93, 94, 95, 96, 97, 98, 99], \"y\": [-0.9792515936598923, 0.9598050055042266, 1.2879497854926978, -0.7580525281398575, 0.7395394550550108, 0.17019107169090317, -0.1293765011854134, 0.4456954392361662, 0.13772919772007583, -1.1475557380589023, 0.7148856836266592, 1.4579626985599747, 0.8874119734406709, 0.3072755156395645, 2.0957456279779065, 0.5899177376437668, 1.0364047408183756, 0.7388472871926347, 0.17950427668644467, 0.3680753376522049, 0.1368695577373032, 0.8159967349839087, -0.14844827589627468, 0.9610220648185201, 0.8403045958850671, 0.1539828413327248, -0.22403721645926258, -0.9886846475465637, -0.041097672863380195, -0.20336539740261284, -0.8272592313380914, -0.7377644328272414, 0.6228589278084802, 1.0167861280965602, -2.2412581790082666, -0.18088089665349677, 0.38747162796369533, -0.022976036922044408, -0.376997829574464, 0.12116576151183464, 0.004016022807814205, -1.8023654641354336, -0.8309213004133602, -0.37467942398393506, 0.16749391300381028, 2.157106901960888, 0.26801897806054975, -0.12917654316980617, -1.1921864240944327, 1.6144706272625435, 0.44154651927524047, -1.5248455068331284, -1.379729809199886, -0.3071048272960799, 0.11873027241721576, -0.18440988283347878, -1.5364079402765836, -1.7659951853905054, -1.1925247660678762, -0.3719050473318741, 0.9116004418673352, -1.2893901771054779, 0.3494224192856916, 0.12384105919512163, -0.2853887638156255, -0.05477890823051662, -0.13339681427823635, 0.002483580579456353, 0.6483924643575026, -1.7744604454121766, 0.051018691708484755, -0.20831087775659465, 1.2036245135778298, 0.37460006318208516, -0.007357554347866323, 0.5125991262014535, 0.0024173923945399363, -0.8563025126597791, -0.7617603492153533, -1.792629772347877, 0.360765760598241, -0.7718682940507207, 1.6886536550319722, 1.194024448998109, -0.417875534770027, 2.122611684514379, -0.20455142051435, -1.3193963771012482, -1.7879804873841585, 0.4066145570917323, 1.434386069614315, -0.5881888567526482, -1.2337031790890676, -0.7429661704558083, 0.0566414277132115, -1.2378557179328697, -0.43038873430261276, -2.5320354376990766, 0.7598237879841848, 0.48412359488350337]}, {\"line\": {\"color\": \"rgba(255, 153, 51, 0.6)\", \"dash\": \"dash\", \"shape\": \"linear\", \"width\": 3}, \"mode\": \"lines\", \"name\": \"-0.01*x+0.31\", \"type\": \"scatter\", \"x\": [0, 1, 2, 3, 4, 5, 6, 7, 8, 9, 10, 11, 12, 13, 14, 15, 16, 17, 18, 19, 20, 21, 22, 23, 24, 25, 26, 27, 28, 29, 30, 31, 32, 33, 34, 35, 36, 37, 38, 39, 40, 41, 42, 43, 44, 45, 46, 47, 48, 49, 50, 51, 52, 53, 54, 55, 56, 57, 58, 59, 60, 61, 62, 63, 64, 65, 66, 67, 68, 69, 70, 71, 72, 73, 74, 75, 76, 77, 78, 79, 80, 81, 82, 83, 84, 85, 86, 87, 88, 89, 90, 91, 92, 93, 94, 95, 96, 97, 98, 99], \"y\": [0.30500378492372754, 0.29775170489776503, 0.29049962487180253, 0.28324754484584, 0.2759954648198775, 0.268743384793915, 0.2614913047679525, 0.25423922474199, 0.2469871447160275, 0.239735064690065, 0.2324829846641025, 0.22523090463814, 0.21797882461217746, 0.21072674458621496, 0.20347466456025246, 0.19622258453428995, 0.18897050450832745, 0.18171842448236494, 0.17446634445640244, 0.16721426443043994, 0.15996218440447743, 0.15271010437851493, 0.14545802435255242, 0.13820594432658992, 0.1309538643006274, 0.12370178427466488, 0.11644970424870238, 0.10919762422273988, 0.10194554419677737, 0.09469346417081487, 0.08744138414485236, 0.08018930411888986, 0.07293722409292736, 0.06568514406696485, 0.05843306404100235, 0.05118098401503984, 0.04392890398907734, 0.036676823963114835, 0.02942474393715233, 0.022172663911189827, 0.014920583885227323, 0.007668503859264819, 0.00041642383330231514, -0.006835656192660189, -0.014087736218622693, -0.021339816244585197, -0.0285918962705477, -0.035843976296510205, -0.043096056322472764, -0.05034813634843527, -0.05760021637439777, -0.06485229640036028, -0.07210437642632278, -0.07935645645228528, -0.08660853647824779, -0.09386061650421029, -0.1011126965301728, -0.1083647765561353, -0.1156168565820978, -0.12286893660806031, -0.1301210166340228, -0.13737309665998532, -0.14462517668594782, -0.15187725671191032, -0.15912933673787283, -0.16638141676383533, -0.17363349678979784, -0.18088557681576034, -0.18813765684172284, -0.1953897368676854, -0.20264181689364785, -0.2098938969196104, -0.21714597694557286, -0.22439805697153542, -0.23165013699749787, -0.23890221702346043, -0.24615429704942288, -0.25340637707538544, -0.2606584571013479, -0.26791053712731044, -0.2751626171532729, -0.28241469717923545, -0.2896667772051979, -0.29691885723116046, -0.3041709372571229, -0.31142301728308547, -0.3186750973090479, -0.3259271773350105, -0.3331792573609729, -0.3404313373869355, -0.34768341741289793, -0.3549354974388605, -0.36218757746482294, -0.3694396574907855, -0.37669173751674795, -0.3839438175427105, -0.39119589756867307, -0.3984479775946355, -0.4057000576205981, -0.4129521376465605]}],                        {\"legend\": {\"bgcolor\": \"#151516\", \"font\": {\"color\": \"#D9D9D9\"}}, \"paper_bgcolor\": \"#151516\", \"plot_bgcolor\": \"#151516\", \"template\": {\"data\": {\"bar\": [{\"error_x\": {\"color\": \"#2a3f5f\"}, \"error_y\": {\"color\": \"#2a3f5f\"}, \"marker\": {\"line\": {\"color\": \"#E5ECF6\", \"width\": 0.5}}, \"type\": \"bar\"}], \"barpolar\": [{\"marker\": {\"line\": {\"color\": \"#E5ECF6\", \"width\": 0.5}}, \"type\": \"barpolar\"}], \"carpet\": [{\"aaxis\": {\"endlinecolor\": \"#2a3f5f\", \"gridcolor\": \"white\", \"linecolor\": \"white\", \"minorgridcolor\": \"white\", \"startlinecolor\": \"#2a3f5f\"}, \"baxis\": {\"endlinecolor\": \"#2a3f5f\", \"gridcolor\": \"white\", \"linecolor\": \"white\", \"minorgridcolor\": \"white\", \"startlinecolor\": \"#2a3f5f\"}, \"type\": \"carpet\"}], \"choropleth\": [{\"colorbar\": {\"outlinewidth\": 0, \"ticks\": \"\"}, \"type\": \"choropleth\"}], \"contour\": [{\"colorbar\": {\"outlinewidth\": 0, \"ticks\": \"\"}, \"colorscale\": [[0.0, \"#0d0887\"], [0.1111111111111111, \"#46039f\"], [0.2222222222222222, \"#7201a8\"], [0.3333333333333333, \"#9c179e\"], [0.4444444444444444, \"#bd3786\"], [0.5555555555555556, \"#d8576b\"], [0.6666666666666666, \"#ed7953\"], [0.7777777777777778, \"#fb9f3a\"], [0.8888888888888888, \"#fdca26\"], [1.0, \"#f0f921\"]], \"type\": \"contour\"}], \"contourcarpet\": [{\"colorbar\": {\"outlinewidth\": 0, \"ticks\": \"\"}, \"type\": \"contourcarpet\"}], \"heatmap\": [{\"colorbar\": {\"outlinewidth\": 0, \"ticks\": \"\"}, \"colorscale\": [[0.0, \"#0d0887\"], [0.1111111111111111, \"#46039f\"], [0.2222222222222222, \"#7201a8\"], [0.3333333333333333, \"#9c179e\"], [0.4444444444444444, \"#bd3786\"], [0.5555555555555556, \"#d8576b\"], [0.6666666666666666, \"#ed7953\"], [0.7777777777777778, \"#fb9f3a\"], [0.8888888888888888, \"#fdca26\"], [1.0, \"#f0f921\"]], \"type\": \"heatmap\"}], \"heatmapgl\": [{\"colorbar\": {\"outlinewidth\": 0, \"ticks\": \"\"}, \"colorscale\": [[0.0, \"#0d0887\"], [0.1111111111111111, \"#46039f\"], [0.2222222222222222, \"#7201a8\"], [0.3333333333333333, \"#9c179e\"], [0.4444444444444444, \"#bd3786\"], [0.5555555555555556, \"#d8576b\"], [0.6666666666666666, \"#ed7953\"], [0.7777777777777778, \"#fb9f3a\"], [0.8888888888888888, \"#fdca26\"], [1.0, \"#f0f921\"]], \"type\": \"heatmapgl\"}], \"histogram\": [{\"marker\": {\"colorbar\": {\"outlinewidth\": 0, \"ticks\": \"\"}}, \"type\": \"histogram\"}], \"histogram2d\": [{\"colorbar\": {\"outlinewidth\": 0, \"ticks\": \"\"}, \"colorscale\": [[0.0, \"#0d0887\"], [0.1111111111111111, \"#46039f\"], [0.2222222222222222, \"#7201a8\"], [0.3333333333333333, \"#9c179e\"], [0.4444444444444444, \"#bd3786\"], [0.5555555555555556, \"#d8576b\"], [0.6666666666666666, \"#ed7953\"], [0.7777777777777778, \"#fb9f3a\"], [0.8888888888888888, \"#fdca26\"], [1.0, \"#f0f921\"]], \"type\": \"histogram2d\"}], \"histogram2dcontour\": [{\"colorbar\": {\"outlinewidth\": 0, \"ticks\": \"\"}, \"colorscale\": [[0.0, \"#0d0887\"], [0.1111111111111111, \"#46039f\"], [0.2222222222222222, \"#7201a8\"], [0.3333333333333333, \"#9c179e\"], [0.4444444444444444, \"#bd3786\"], [0.5555555555555556, \"#d8576b\"], [0.6666666666666666, \"#ed7953\"], [0.7777777777777778, \"#fb9f3a\"], [0.8888888888888888, \"#fdca26\"], [1.0, \"#f0f921\"]], \"type\": \"histogram2dcontour\"}], \"mesh3d\": [{\"colorbar\": {\"outlinewidth\": 0, \"ticks\": \"\"}, \"type\": \"mesh3d\"}], \"parcoords\": [{\"line\": {\"colorbar\": {\"outlinewidth\": 0, \"ticks\": \"\"}}, \"type\": \"parcoords\"}], \"pie\": [{\"automargin\": true, \"type\": \"pie\"}], \"scatter\": [{\"marker\": {\"colorbar\": {\"outlinewidth\": 0, \"ticks\": \"\"}}, \"type\": \"scatter\"}], \"scatter3d\": [{\"line\": {\"colorbar\": {\"outlinewidth\": 0, \"ticks\": \"\"}}, \"marker\": {\"colorbar\": {\"outlinewidth\": 0, \"ticks\": \"\"}}, \"type\": \"scatter3d\"}], \"scattercarpet\": [{\"marker\": {\"colorbar\": {\"outlinewidth\": 0, \"ticks\": \"\"}}, \"type\": \"scattercarpet\"}], \"scattergeo\": [{\"marker\": {\"colorbar\": {\"outlinewidth\": 0, \"ticks\": \"\"}}, \"type\": \"scattergeo\"}], \"scattergl\": [{\"marker\": {\"colorbar\": {\"outlinewidth\": 0, \"ticks\": \"\"}}, \"type\": \"scattergl\"}], \"scattermapbox\": [{\"marker\": {\"colorbar\": {\"outlinewidth\": 0, \"ticks\": \"\"}}, \"type\": \"scattermapbox\"}], \"scatterpolar\": [{\"marker\": {\"colorbar\": {\"outlinewidth\": 0, \"ticks\": \"\"}}, \"type\": \"scatterpolar\"}], \"scatterpolargl\": [{\"marker\": {\"colorbar\": {\"outlinewidth\": 0, \"ticks\": \"\"}}, \"type\": \"scatterpolargl\"}], \"scatterternary\": [{\"marker\": {\"colorbar\": {\"outlinewidth\": 0, \"ticks\": \"\"}}, \"type\": \"scatterternary\"}], \"surface\": [{\"colorbar\": {\"outlinewidth\": 0, \"ticks\": \"\"}, \"colorscale\": [[0.0, \"#0d0887\"], [0.1111111111111111, \"#46039f\"], [0.2222222222222222, \"#7201a8\"], [0.3333333333333333, \"#9c179e\"], [0.4444444444444444, \"#bd3786\"], [0.5555555555555556, \"#d8576b\"], [0.6666666666666666, \"#ed7953\"], [0.7777777777777778, \"#fb9f3a\"], [0.8888888888888888, \"#fdca26\"], [1.0, \"#f0f921\"]], \"type\": \"surface\"}], \"table\": [{\"cells\": {\"fill\": {\"color\": \"#EBF0F8\"}, \"line\": {\"color\": \"white\"}}, \"header\": {\"fill\": {\"color\": \"#C8D4E3\"}, \"line\": {\"color\": \"white\"}}, \"type\": \"table\"}]}, \"layout\": {\"annotationdefaults\": {\"arrowcolor\": \"#2a3f5f\", \"arrowhead\": 0, \"arrowwidth\": 1}, \"autotypenumbers\": \"strict\", \"coloraxis\": {\"colorbar\": {\"outlinewidth\": 0, \"ticks\": \"\"}}, \"colorscale\": {\"diverging\": [[0, \"#8e0152\"], [0.1, \"#c51b7d\"], [0.2, \"#de77ae\"], [0.3, \"#f1b6da\"], [0.4, \"#fde0ef\"], [0.5, \"#f7f7f7\"], [0.6, \"#e6f5d0\"], [0.7, \"#b8e186\"], [0.8, \"#7fbc41\"], [0.9, \"#4d9221\"], [1, \"#276419\"]], \"sequential\": [[0.0, \"#0d0887\"], [0.1111111111111111, \"#46039f\"], [0.2222222222222222, \"#7201a8\"], [0.3333333333333333, \"#9c179e\"], [0.4444444444444444, \"#bd3786\"], [0.5555555555555556, \"#d8576b\"], [0.6666666666666666, \"#ed7953\"], [0.7777777777777778, \"#fb9f3a\"], [0.8888888888888888, \"#fdca26\"], [1.0, \"#f0f921\"]], \"sequentialminus\": [[0.0, \"#0d0887\"], [0.1111111111111111, \"#46039f\"], [0.2222222222222222, \"#7201a8\"], [0.3333333333333333, \"#9c179e\"], [0.4444444444444444, \"#bd3786\"], [0.5555555555555556, \"#d8576b\"], [0.6666666666666666, \"#ed7953\"], [0.7777777777777778, \"#fb9f3a\"], [0.8888888888888888, \"#fdca26\"], [1.0, \"#f0f921\"]]}, \"colorway\": [\"#636efa\", \"#EF553B\", \"#00cc96\", \"#ab63fa\", \"#FFA15A\", \"#19d3f3\", \"#FF6692\", \"#B6E880\", \"#FF97FF\", \"#FECB52\"], \"font\": {\"color\": \"#2a3f5f\"}, \"geo\": {\"bgcolor\": \"white\", \"lakecolor\": \"white\", \"landcolor\": \"#E5ECF6\", \"showlakes\": true, \"showland\": true, \"subunitcolor\": \"white\"}, \"hoverlabel\": {\"align\": \"left\"}, \"hovermode\": \"closest\", \"mapbox\": {\"style\": \"light\"}, \"paper_bgcolor\": \"white\", \"plot_bgcolor\": \"#E5ECF6\", \"polar\": {\"angularaxis\": {\"gridcolor\": \"white\", \"linecolor\": \"white\", \"ticks\": \"\"}, \"bgcolor\": \"#E5ECF6\", \"radialaxis\": {\"gridcolor\": \"white\", \"linecolor\": \"white\", \"ticks\": \"\"}}, \"scene\": {\"xaxis\": {\"backgroundcolor\": \"#E5ECF6\", \"gridcolor\": \"white\", \"gridwidth\": 2, \"linecolor\": \"white\", \"showbackground\": true, \"ticks\": \"\", \"zerolinecolor\": \"white\"}, \"yaxis\": {\"backgroundcolor\": \"#E5ECF6\", \"gridcolor\": \"white\", \"gridwidth\": 2, \"linecolor\": \"white\", \"showbackground\": true, \"ticks\": \"\", \"zerolinecolor\": \"white\"}, \"zaxis\": {\"backgroundcolor\": \"#E5ECF6\", \"gridcolor\": \"white\", \"gridwidth\": 2, \"linecolor\": \"white\", \"showbackground\": true, \"ticks\": \"\", \"zerolinecolor\": \"white\"}}, \"shapedefaults\": {\"line\": {\"color\": \"#2a3f5f\"}}, \"ternary\": {\"aaxis\": {\"gridcolor\": \"white\", \"linecolor\": \"white\", \"ticks\": \"\"}, \"baxis\": {\"gridcolor\": \"white\", \"linecolor\": \"white\", \"ticks\": \"\"}, \"bgcolor\": \"#E5ECF6\", \"caxis\": {\"gridcolor\": \"white\", \"linecolor\": \"white\", \"ticks\": \"\"}}, \"title\": {\"x\": 0.05}, \"xaxis\": {\"automargin\": true, \"gridcolor\": \"white\", \"linecolor\": \"white\", \"ticks\": \"\", \"title\": {\"standoff\": 15}, \"zerolinecolor\": \"white\", \"zerolinewidth\": 2}, \"yaxis\": {\"automargin\": true, \"gridcolor\": \"white\", \"linecolor\": \"white\", \"ticks\": \"\", \"title\": {\"standoff\": 15}, \"zerolinecolor\": \"white\", \"zerolinewidth\": 2}}}, \"title\": {\"font\": {\"color\": \"#D9D9D9\"}, \"text\": \"DataFrame\"}, \"xaxis\": {\"gridcolor\": \"grey\", \"showgrid\": true, \"tickfont\": {\"color\": \"#C2C2C2\"}, \"title\": {\"font\": {\"color\": \"#D9D9D9\"}, \"text\": \"X axis\"}, \"zerolinecolor\": \"#666570\"}, \"yaxis\": {\"gridcolor\": \"grey\", \"showgrid\": true, \"tickfont\": {\"color\": \"#C2C2C2\"}, \"title\": {\"font\": {\"color\": \"#D9D9D9\"}, \"text\": \"Values\"}, \"zerolinecolor\": \"#666570\"}},                        {\"showLink\": true, \"linkText\": \"Export to plot.ly\", \"plotlyServerURL\": \"https://plot.ly\", \"responsive\": true}                    ).then(function(){\n                            \nvar gd = document.getElementById('9ab38379-af6a-4421-ae65-ec84500c02c6');\nvar x = new MutationObserver(function (mutations, observer) {{\n        var display = window.getComputedStyle(gd).display;\n        if (!display || display === 'none') {{\n            console.log([gd, 'removed!']);\n            Plotly.purge(gd);\n            observer.disconnect();\n        }}\n}});\n\n// Listen for the removal of the full notebook cells\nvar notebookContainer = gd.closest('#notebook-container');\nif (notebookContainer) {{\n    x.observe(notebookContainer, {childList: true});\n}}\n\n// Listen for the clearing of the current output cell\nvar outputEl = gd.closest('.output');\nif (outputEl) {{\n    x.observe(outputEl, {childList: true});\n}}\n\n                        })                };                });            </script>        </div>"
     },
     "metadata": {}
    }
   ],
   "source": [
    "# Dark mode plotly is also available\n",
    "df['A'].iplot(dash= 'solid',title= 'DataFrame', theme= 'solar', xTitle= 'X axis', yTitle= 'Values', bestfit= True, gridcolor= 'grey')\n",
    "# AS we can see there are lot of customizations available in plotly as well"
   ]
  },
  {
   "source": [
    "*1. Scatterplot* "
   ],
   "cell_type": "markdown",
   "metadata": {}
  },
  {
   "cell_type": "code",
   "execution_count": 72,
   "metadata": {},
   "outputs": [
    {
     "output_type": "stream",
     "name": "stderr",
     "text": [
      "*c* argument looks like a single numeric RGB or RGBA sequence, which should be avoided as value-mapping will have precedence in case its length matches with *x* & *y*.  Please use the *color* keyword-argument or provide a 2-D array with a single row if you intend to specify the same RGB or RGBA value for all points.\n"
     ]
    },
    {
     "output_type": "execute_result",
     "data": {
      "text/plain": [
       "<AxesSubplot:xlabel='A', ylabel='B'>"
      ]
     },
     "metadata": {},
     "execution_count": 72
    },
    {
     "output_type": "display_data",
     "data": {
      "text/plain": "<Figure size 432x288 with 1 Axes>",
      "image/svg+xml": "<?xml version=\"1.0\" encoding=\"utf-8\" standalone=\"no\"?>\r\n<!DOCTYPE svg PUBLIC \"-//W3C//DTD SVG 1.1//EN\"\r\n  \"http://www.w3.org/Graphics/SVG/1.1/DTD/svg11.dtd\">\r\n<!-- Created with matplotlib (https://matplotlib.org/) -->\r\n<svg height=\"269.381062pt\" version=\"1.1\" viewBox=\"0 0 389.719313 269.381062\" width=\"389.719313pt\" xmlns=\"http://www.w3.org/2000/svg\" xmlns:xlink=\"http://www.w3.org/1999/xlink\">\r\n <metadata>\r\n  <rdf:RDF xmlns:cc=\"http://creativecommons.org/ns#\" xmlns:dc=\"http://purl.org/dc/elements/1.1/\" xmlns:rdf=\"http://www.w3.org/1999/02/22-rdf-syntax-ns#\">\r\n   <cc:Work>\r\n    <dc:type rdf:resource=\"http://purl.org/dc/dcmitype/StillImage\"/>\r\n    <dc:date>2020-12-20T12:25:13.136093</dc:date>\r\n    <dc:format>image/svg+xml</dc:format>\r\n    <dc:creator>\r\n     <cc:Agent>\r\n      <dc:title>Matplotlib v3.3.2, https://matplotlib.org/</dc:title>\r\n     </cc:Agent>\r\n    </dc:creator>\r\n   </cc:Work>\r\n  </rdf:RDF>\r\n </metadata>\r\n <defs>\r\n  <style type=\"text/css\">*{stroke-linecap:butt;stroke-linejoin:round;}</style>\r\n </defs>\r\n <g id=\"figure_1\">\r\n  <g id=\"patch_1\">\r\n   <path d=\"M 0 269.381062 \r\nL 389.719313 269.381062 \r\nL 389.719313 0 \r\nL 0 0 \r\nz\r\n\" style=\"fill:none;\"/>\r\n  </g>\r\n  <g id=\"axes_1\">\r\n   <g id=\"patch_2\">\r\n    <path d=\"M 47.719313 224.64 \r\nL 382.519313 224.64 \r\nL 382.519313 7.2 \r\nL 47.719313 7.2 \r\nz\r\n\" style=\"fill:#ffffff;\"/>\r\n   </g>\r\n   <g id=\"matplotlib.axis_1\">\r\n    <g id=\"xtick_1\">\r\n     <g id=\"line2d_1\">\r\n      <path clip-path=\"url(#p9d31dc0c53)\" d=\"M 97.47094 224.64 \r\nL 97.47094 7.2 \r\n\" style=\"fill:none;stroke:#cccccc;stroke-linecap:round;stroke-width:0.8;\"/>\r\n     </g>\r\n     <g id=\"text_1\">\r\n      <!-- −2 -->\r\n      <g style=\"fill:#262626;\" transform=\"translate(89.945908 242.388312)scale(0.132 -0.132)\">\r\n       <defs>\r\n        <path d=\"M 52.828125 31.203125 \r\nL 5.5625 31.203125 \r\nL 5.5625 39.40625 \r\nL 52.828125 39.40625 \r\nz\r\n\" id=\"ArialMT-8722\"/>\r\n        <path d=\"M 50.34375 8.453125 \r\nL 50.34375 0 \r\nL 3.03125 0 \r\nQ 2.9375 3.171875 4.046875 6.109375 \r\nQ 5.859375 10.9375 9.828125 15.625 \r\nQ 13.8125 20.3125 21.34375 26.46875 \r\nQ 33.015625 36.03125 37.109375 41.625 \r\nQ 41.21875 47.21875 41.21875 52.203125 \r\nQ 41.21875 57.421875 37.46875 61 \r\nQ 33.734375 64.59375 27.734375 64.59375 \r\nQ 21.390625 64.59375 17.578125 60.78125 \r\nQ 13.765625 56.984375 13.71875 50.25 \r\nL 4.6875 51.171875 \r\nQ 5.609375 61.28125 11.65625 66.578125 \r\nQ 17.71875 71.875 27.9375 71.875 \r\nQ 38.234375 71.875 44.234375 66.15625 \r\nQ 50.25 60.453125 50.25 52 \r\nQ 50.25 47.703125 48.484375 43.546875 \r\nQ 46.734375 39.40625 42.65625 34.8125 \r\nQ 38.578125 30.21875 29.109375 22.21875 \r\nQ 21.1875 15.578125 18.9375 13.203125 \r\nQ 16.703125 10.84375 15.234375 8.453125 \r\nz\r\n\" id=\"ArialMT-50\"/>\r\n       </defs>\r\n       <use xlink:href=\"#ArialMT-8722\"/>\r\n       <use x=\"58.398438\" xlink:href=\"#ArialMT-50\"/>\r\n      </g>\r\n     </g>\r\n    </g>\r\n    <g id=\"xtick_2\">\r\n     <g id=\"line2d_2\">\r\n      <path clip-path=\"url(#p9d31dc0c53)\" d=\"M 162.379107 224.64 \r\nL 162.379107 7.2 \r\n\" style=\"fill:none;stroke:#cccccc;stroke-linecap:round;stroke-width:0.8;\"/>\r\n     </g>\r\n     <g id=\"text_2\">\r\n      <!-- −1 -->\r\n      <g style=\"fill:#262626;\" transform=\"translate(154.854076 242.388312)scale(0.132 -0.132)\">\r\n       <defs>\r\n        <path d=\"M 37.25 0 \r\nL 28.46875 0 \r\nL 28.46875 56 \r\nQ 25.296875 52.984375 20.140625 49.953125 \r\nQ 14.984375 46.921875 10.890625 45.40625 \r\nL 10.890625 53.90625 \r\nQ 18.265625 57.375 23.78125 62.296875 \r\nQ 29.296875 67.234375 31.59375 71.875 \r\nL 37.25 71.875 \r\nz\r\n\" id=\"ArialMT-49\"/>\r\n       </defs>\r\n       <use xlink:href=\"#ArialMT-8722\"/>\r\n       <use x=\"58.398438\" xlink:href=\"#ArialMT-49\"/>\r\n      </g>\r\n     </g>\r\n    </g>\r\n    <g id=\"xtick_3\">\r\n     <g id=\"line2d_3\">\r\n      <path clip-path=\"url(#p9d31dc0c53)\" d=\"M 227.287275 224.64 \r\nL 227.287275 7.2 \r\n\" style=\"fill:none;stroke:#cccccc;stroke-linecap:round;stroke-width:0.8;\"/>\r\n     </g>\r\n     <g id=\"text_3\">\r\n      <!-- 0 -->\r\n      <g style=\"fill:#262626;\" transform=\"translate(223.617056 242.388312)scale(0.132 -0.132)\">\r\n       <defs>\r\n        <path d=\"M 4.15625 35.296875 \r\nQ 4.15625 48 6.765625 55.734375 \r\nQ 9.375 63.484375 14.515625 67.671875 \r\nQ 19.671875 71.875 27.484375 71.875 \r\nQ 33.25 71.875 37.59375 69.546875 \r\nQ 41.9375 67.234375 44.765625 62.859375 \r\nQ 47.609375 58.5 49.21875 52.21875 \r\nQ 50.828125 45.953125 50.828125 35.296875 \r\nQ 50.828125 22.703125 48.234375 14.96875 \r\nQ 45.65625 7.234375 40.5 3 \r\nQ 35.359375 -1.21875 27.484375 -1.21875 \r\nQ 17.140625 -1.21875 11.234375 6.203125 \r\nQ 4.15625 15.140625 4.15625 35.296875 \r\nz\r\nM 13.1875 35.296875 \r\nQ 13.1875 17.671875 17.3125 11.828125 \r\nQ 21.4375 6 27.484375 6 \r\nQ 33.546875 6 37.671875 11.859375 \r\nQ 41.796875 17.71875 41.796875 35.296875 \r\nQ 41.796875 52.984375 37.671875 58.78125 \r\nQ 33.546875 64.59375 27.390625 64.59375 \r\nQ 21.34375 64.59375 17.71875 59.46875 \r\nQ 13.1875 52.9375 13.1875 35.296875 \r\nz\r\n\" id=\"ArialMT-48\"/>\r\n       </defs>\r\n       <use xlink:href=\"#ArialMT-48\"/>\r\n      </g>\r\n     </g>\r\n    </g>\r\n    <g id=\"xtick_4\">\r\n     <g id=\"line2d_4\">\r\n      <path clip-path=\"url(#p9d31dc0c53)\" d=\"M 292.195442 224.64 \r\nL 292.195442 7.2 \r\n\" style=\"fill:none;stroke:#cccccc;stroke-linecap:round;stroke-width:0.8;\"/>\r\n     </g>\r\n     <g id=\"text_4\">\r\n      <!-- 1 -->\r\n      <g style=\"fill:#262626;\" transform=\"translate(288.525223 242.388312)scale(0.132 -0.132)\">\r\n       <use xlink:href=\"#ArialMT-49\"/>\r\n      </g>\r\n     </g>\r\n    </g>\r\n    <g id=\"xtick_5\">\r\n     <g id=\"line2d_5\">\r\n      <path clip-path=\"url(#p9d31dc0c53)\" d=\"M 357.10361 224.64 \r\nL 357.10361 7.2 \r\n\" style=\"fill:none;stroke:#cccccc;stroke-linecap:round;stroke-width:0.8;\"/>\r\n     </g>\r\n     <g id=\"text_5\">\r\n      <!-- 2 -->\r\n      <g style=\"fill:#262626;\" transform=\"translate(353.433391 242.388312)scale(0.132 -0.132)\">\r\n       <use xlink:href=\"#ArialMT-50\"/>\r\n      </g>\r\n     </g>\r\n    </g>\r\n    <g id=\"text_6\">\r\n     <!-- A -->\r\n     <g style=\"fill:#262626;\" transform=\"translate(210.316688 259.319062)scale(0.144 -0.144)\">\r\n      <defs>\r\n       <path d=\"M -0.140625 0 \r\nL 27.34375 71.578125 \r\nL 37.546875 71.578125 \r\nL 66.84375 0 \r\nL 56.0625 0 \r\nL 47.703125 21.6875 \r\nL 17.78125 21.6875 \r\nL 9.90625 0 \r\nz\r\nM 20.515625 29.390625 \r\nL 44.78125 29.390625 \r\nL 37.3125 49.21875 \r\nQ 33.890625 58.25 32.234375 64.0625 \r\nQ 30.859375 57.171875 28.375 50.390625 \r\nz\r\n\" id=\"ArialMT-65\"/>\r\n      </defs>\r\n      <use xlink:href=\"#ArialMT-65\"/>\r\n     </g>\r\n    </g>\r\n   </g>\r\n   <g id=\"matplotlib.axis_2\">\r\n    <g id=\"ytick_1\">\r\n     <g id=\"line2d_6\">\r\n      <path clip-path=\"url(#p9d31dc0c53)\" d=\"M 47.719313 211.586746 \r\nL 382.519313 211.586746 \r\n\" style=\"fill:none;stroke:#cccccc;stroke-linecap:round;stroke-width:0.8;\"/>\r\n     </g>\r\n     <g id=\"text_7\">\r\n      <!-- −3 -->\r\n      <g style=\"fill:#262626;\" transform=\"translate(24.36925 216.310903)scale(0.132 -0.132)\">\r\n       <defs>\r\n        <path d=\"M 4.203125 18.890625 \r\nL 12.984375 20.0625 \r\nQ 14.5 12.59375 18.140625 9.296875 \r\nQ 21.78125 6 27 6 \r\nQ 33.203125 6 37.46875 10.296875 \r\nQ 41.75 14.59375 41.75 20.953125 \r\nQ 41.75 27 37.796875 30.921875 \r\nQ 33.84375 34.859375 27.734375 34.859375 \r\nQ 25.25 34.859375 21.53125 33.890625 \r\nL 22.515625 41.609375 \r\nQ 23.390625 41.5 23.921875 41.5 \r\nQ 29.546875 41.5 34.03125 44.421875 \r\nQ 38.53125 47.359375 38.53125 53.46875 \r\nQ 38.53125 58.296875 35.25 61.46875 \r\nQ 31.984375 64.65625 26.8125 64.65625 \r\nQ 21.6875 64.65625 18.265625 61.421875 \r\nQ 14.84375 58.203125 13.875 51.765625 \r\nL 5.078125 53.328125 \r\nQ 6.6875 62.15625 12.390625 67.015625 \r\nQ 18.109375 71.875 26.609375 71.875 \r\nQ 32.46875 71.875 37.390625 69.359375 \r\nQ 42.328125 66.84375 44.9375 62.5 \r\nQ 47.5625 58.15625 47.5625 53.265625 \r\nQ 47.5625 48.640625 45.0625 44.828125 \r\nQ 42.578125 41.015625 37.703125 38.765625 \r\nQ 44.046875 37.3125 47.5625 32.6875 \r\nQ 51.078125 28.078125 51.078125 21.140625 \r\nQ 51.078125 11.765625 44.234375 5.25 \r\nQ 37.40625 -1.265625 26.953125 -1.265625 \r\nQ 17.53125 -1.265625 11.296875 4.34375 \r\nQ 5.078125 9.96875 4.203125 18.890625 \r\nz\r\n\" id=\"ArialMT-51\"/>\r\n       </defs>\r\n       <use xlink:href=\"#ArialMT-8722\"/>\r\n       <use x=\"58.398438\" xlink:href=\"#ArialMT-51\"/>\r\n      </g>\r\n     </g>\r\n    </g>\r\n    <g id=\"ytick_2\">\r\n     <g id=\"line2d_7\">\r\n      <path clip-path=\"url(#p9d31dc0c53)\" d=\"M 47.719313 180.940466 \r\nL 382.519313 180.940466 \r\n\" style=\"fill:none;stroke:#cccccc;stroke-linecap:round;stroke-width:0.8;\"/>\r\n     </g>\r\n     <g id=\"text_8\">\r\n      <!-- −2 -->\r\n      <g style=\"fill:#262626;\" transform=\"translate(24.36925 185.664622)scale(0.132 -0.132)\">\r\n       <use xlink:href=\"#ArialMT-8722\"/>\r\n       <use x=\"58.398438\" xlink:href=\"#ArialMT-50\"/>\r\n      </g>\r\n     </g>\r\n    </g>\r\n    <g id=\"ytick_3\">\r\n     <g id=\"line2d_8\">\r\n      <path clip-path=\"url(#p9d31dc0c53)\" d=\"M 47.719313 150.294186 \r\nL 382.519313 150.294186 \r\n\" style=\"fill:none;stroke:#cccccc;stroke-linecap:round;stroke-width:0.8;\"/>\r\n     </g>\r\n     <g id=\"text_9\">\r\n      <!-- −1 -->\r\n      <g style=\"fill:#262626;\" transform=\"translate(24.36925 155.018342)scale(0.132 -0.132)\">\r\n       <use xlink:href=\"#ArialMT-8722\"/>\r\n       <use x=\"58.398438\" xlink:href=\"#ArialMT-49\"/>\r\n      </g>\r\n     </g>\r\n    </g>\r\n    <g id=\"ytick_4\">\r\n     <g id=\"line2d_9\">\r\n      <path clip-path=\"url(#p9d31dc0c53)\" d=\"M 47.719313 119.647906 \r\nL 382.519313 119.647906 \r\n\" style=\"fill:none;stroke:#cccccc;stroke-linecap:round;stroke-width:0.8;\"/>\r\n     </g>\r\n     <g id=\"text_10\">\r\n      <!-- 0 -->\r\n      <g style=\"fill:#262626;\" transform=\"translate(32.078875 124.372062)scale(0.132 -0.132)\">\r\n       <use xlink:href=\"#ArialMT-48\"/>\r\n      </g>\r\n     </g>\r\n    </g>\r\n    <g id=\"ytick_5\">\r\n     <g id=\"line2d_10\">\r\n      <path clip-path=\"url(#p9d31dc0c53)\" d=\"M 47.719313 89.001625 \r\nL 382.519313 89.001625 \r\n\" style=\"fill:none;stroke:#cccccc;stroke-linecap:round;stroke-width:0.8;\"/>\r\n     </g>\r\n     <g id=\"text_11\">\r\n      <!-- 1 -->\r\n      <g style=\"fill:#262626;\" transform=\"translate(32.078875 93.725782)scale(0.132 -0.132)\">\r\n       <use xlink:href=\"#ArialMT-49\"/>\r\n      </g>\r\n     </g>\r\n    </g>\r\n    <g id=\"ytick_6\">\r\n     <g id=\"line2d_11\">\r\n      <path clip-path=\"url(#p9d31dc0c53)\" d=\"M 47.719313 58.355345 \r\nL 382.519313 58.355345 \r\n\" style=\"fill:none;stroke:#cccccc;stroke-linecap:round;stroke-width:0.8;\"/>\r\n     </g>\r\n     <g id=\"text_12\">\r\n      <!-- 2 -->\r\n      <g style=\"fill:#262626;\" transform=\"translate(32.078875 63.079501)scale(0.132 -0.132)\">\r\n       <use xlink:href=\"#ArialMT-50\"/>\r\n      </g>\r\n     </g>\r\n    </g>\r\n    <g id=\"ytick_7\">\r\n     <g id=\"line2d_12\">\r\n      <path clip-path=\"url(#p9d31dc0c53)\" d=\"M 47.719313 27.709065 \r\nL 382.519313 27.709065 \r\n\" style=\"fill:none;stroke:#cccccc;stroke-linecap:round;stroke-width:0.8;\"/>\r\n     </g>\r\n     <g id=\"text_13\">\r\n      <!-- 3 -->\r\n      <g style=\"fill:#262626;\" transform=\"translate(32.078875 32.433221)scale(0.132 -0.132)\">\r\n       <use xlink:href=\"#ArialMT-51\"/>\r\n      </g>\r\n     </g>\r\n    </g>\r\n    <g id=\"text_14\">\r\n     <!-- B -->\r\n     <g style=\"fill:#262626;\" transform=\"translate(17.50725 120.722625)rotate(-90)scale(0.144 -0.144)\">\r\n      <defs>\r\n       <path d=\"M 7.328125 0 \r\nL 7.328125 71.578125 \r\nL 34.1875 71.578125 \r\nQ 42.390625 71.578125 47.34375 69.40625 \r\nQ 52.296875 67.234375 55.09375 62.71875 \r\nQ 57.90625 58.203125 57.90625 53.265625 \r\nQ 57.90625 48.6875 55.421875 44.625 \r\nQ 52.9375 40.578125 47.90625 38.09375 \r\nQ 54.390625 36.1875 57.875 31.59375 \r\nQ 61.375 27 61.375 20.75 \r\nQ 61.375 15.71875 59.25 11.390625 \r\nQ 57.125 7.078125 54 4.734375 \r\nQ 50.875 2.390625 46.15625 1.1875 \r\nQ 41.453125 0 34.625 0 \r\nz\r\nM 16.796875 41.5 \r\nL 32.28125 41.5 \r\nQ 38.578125 41.5 41.3125 42.328125 \r\nQ 44.921875 43.40625 46.75 45.890625 \r\nQ 48.578125 48.390625 48.578125 52.15625 \r\nQ 48.578125 55.71875 46.875 58.421875 \r\nQ 45.171875 61.140625 41.984375 62.140625 \r\nQ 38.8125 63.140625 31.109375 63.140625 \r\nL 16.796875 63.140625 \r\nz\r\nM 16.796875 8.453125 \r\nL 34.625 8.453125 \r\nQ 39.203125 8.453125 41.0625 8.796875 \r\nQ 44.34375 9.375 46.53125 10.734375 \r\nQ 48.734375 12.109375 50.140625 14.71875 \r\nQ 51.5625 17.328125 51.5625 20.75 \r\nQ 51.5625 24.75 49.515625 27.703125 \r\nQ 47.46875 30.671875 43.828125 31.859375 \r\nQ 40.1875 33.0625 33.34375 33.0625 \r\nL 16.796875 33.0625 \r\nz\r\n\" id=\"ArialMT-66\"/>\r\n      </defs>\r\n      <use xlink:href=\"#ArialMT-66\"/>\r\n     </g>\r\n    </g>\r\n   </g>\r\n   <g id=\"PathCollection_1\">\r\n    <defs>\r\n     <path d=\"M 0 2.236068 \r\nC 0.593012 2.236068 1.161816 2.000462 1.581139 1.581139 \r\nC 2.000462 1.161816 2.236068 0.593012 2.236068 0 \r\nC 2.236068 -0.593012 2.000462 -1.161816 1.581139 -1.581139 \r\nC 1.161816 -2.000462 0.593012 -2.236068 0 -2.236068 \r\nC -0.593012 -2.236068 -1.161816 -2.000462 -1.581139 -1.581139 \r\nC -2.000462 -1.161816 -2.236068 -0.593012 -2.236068 0 \r\nC -2.236068 0.593012 -2.000462 1.161816 -1.581139 1.581139 \r\nC -1.161816 2.000462 -0.593012 2.236068 0 2.236068 \r\nz\r\n\" id=\"mab6eb558bb\" style=\"stroke:#0000b1;stroke-width:0.8;\"/>\r\n    </defs>\r\n    <g clip-path=\"url(#p9d31dc0c53)\">\r\n     <use style=\"fill:#0000b1;stroke:#0000b1;stroke-width:0.8;\" x=\"163.725848\" xlink:href=\"#mab6eb558bb\" y=\"119.749148\"/>\r\n     <use style=\"fill:#0000b1;stroke:#0000b1;stroke-width:0.8;\" x=\"289.586459\" xlink:href=\"#mab6eb558bb\" y=\"110.017466\"/>\r\n     <use style=\"fill:#0000b1;stroke:#0000b1;stroke-width:0.8;\" x=\"310.885735\" xlink:href=\"#mab6eb558bb\" y=\"165.75594\"/>\r\n     <use style=\"fill:#0000b1;stroke:#0000b1;stroke-width:0.8;\" x=\"178.083474\" xlink:href=\"#mab6eb558bb\" y=\"88.865455\"/>\r\n     <use style=\"fill:#0000b1;stroke:#0000b1;stroke-width:0.8;\" x=\"275.289425\" xlink:href=\"#mab6eb558bb\" y=\"131.251451\"/>\r\n     <use style=\"fill:#0000b1;stroke:#0000b1;stroke-width:0.8;\" x=\"238.334065\" xlink:href=\"#mab6eb558bb\" y=\"69.936012\"/>\r\n     <use style=\"fill:#0000b1;stroke:#0000b1;stroke-width:0.8;\" x=\"218.889683\" xlink:href=\"#mab6eb558bb\" y=\"140.59055\"/>\r\n     <use style=\"fill:#0000b1;stroke:#0000b1;stroke-width:0.8;\" x=\"256.216549\" xlink:href=\"#mab6eb558bb\" y=\"122.432396\"/>\r\n     <use style=\"fill:#0000b1;stroke:#0000b1;stroke-width:0.8;\" x=\"236.227024\" xlink:href=\"#mab6eb558bb\" y=\"106.828493\"/>\r\n     <use style=\"fill:#0000b1;stroke:#0000b1;stroke-width:0.8;\" x=\"152.801535\" xlink:href=\"#mab6eb558bb\" y=\"114.746002\"/>\r\n     <use style=\"fill:#0000b1;stroke:#0000b1;stroke-width:0.8;\" x=\"273.689194\" xlink:href=\"#mab6eb558bb\" y=\"104.375698\"/>\r\n     <use style=\"fill:#0000b1;stroke:#0000b1;stroke-width:0.8;\" x=\"321.920962\" xlink:href=\"#mab6eb558bb\" y=\"192.811314\"/>\r\n     <use style=\"fill:#0000b1;stroke:#0000b1;stroke-width:0.8;\" x=\"284.88756\" xlink:href=\"#mab6eb558bb\" y=\"125.006323\"/>\r\n     <use style=\"fill:#0000b1;stroke:#0000b1;stroke-width:0.8;\" x=\"247.231965\" xlink:href=\"#mab6eb558bb\" y=\"141.173965\"/>\r\n     <use style=\"fill:#0000b1;stroke:#0000b1;stroke-width:0.8;\" x=\"363.318283\" xlink:href=\"#mab6eb558bb\" y=\"126.935032\"/>\r\n     <use style=\"fill:#0000b1;stroke:#0000b1;stroke-width:0.8;\" x=\"265.577754\" xlink:href=\"#mab6eb558bb\" y=\"87.580578\"/>\r\n     <use style=\"fill:#0000b1;stroke:#0000b1;stroke-width:0.8;\" x=\"294.558407\" xlink:href=\"#mab6eb558bb\" y=\"156.63707\"/>\r\n     <use style=\"fill:#0000b1;stroke:#0000b1;stroke-width:0.8;\" x=\"275.244498\" xlink:href=\"#mab6eb558bb\" y=\"128.206331\"/>\r\n     <use style=\"fill:#0000b1;stroke:#0000b1;stroke-width:0.8;\" x=\"238.938568\" xlink:href=\"#mab6eb558bb\" y=\"118.897149\"/>\r\n     <use style=\"fill:#0000b1;stroke:#0000b1;stroke-width:0.8;\" x=\"251.17837\" xlink:href=\"#mab6eb558bb\" y=\"117.436655\"/>\r\n     <use style=\"fill:#0000b1;stroke:#0000b1;stroke-width:0.8;\" x=\"236.171227\" xlink:href=\"#mab6eb558bb\" y=\"94.94546\"/>\r\n     <use style=\"fill:#0000b1;stroke:#0000b1;stroke-width:0.8;\" x=\"280.252127\" xlink:href=\"#mab6eb558bb\" y=\"122.873028\"/>\r\n     <use style=\"fill:#0000b1;stroke:#0000b1;stroke-width:0.8;\" x=\"217.651769\" xlink:href=\"#mab6eb558bb\" y=\"104.654227\"/>\r\n     <use style=\"fill:#0000b1;stroke:#0000b1;stroke-width:0.8;\" x=\"289.665456\" xlink:href=\"#mab6eb558bb\" y=\"169.330468\"/>\r\n     <use style=\"fill:#0000b1;stroke:#0000b1;stroke-width:0.8;\" x=\"281.829906\" xlink:href=\"#mab6eb558bb\" y=\"148.497488\"/>\r\n     <use style=\"fill:#0000b1;stroke:#0000b1;stroke-width:0.8;\" x=\"237.282019\" xlink:href=\"#mab6eb558bb\" y=\"102.428132\"/>\r\n     <use style=\"fill:#0000b1;stroke:#0000b1;stroke-width:0.8;\" x=\"212.745429\" xlink:href=\"#mab6eb558bb\" y=\"84.438434\"/>\r\n     <use style=\"fill:#0000b1;stroke:#0000b1;stroke-width:0.8;\" x=\"163.113566\" xlink:href=\"#mab6eb558bb\" y=\"146.013084\"/>\r\n     <use style=\"fill:#0000b1;stroke:#0000b1;stroke-width:0.8;\" x=\"224.6197\" xlink:href=\"#mab6eb558bb\" y=\"127.448465\"/>\r\n     <use style=\"fill:#0000b1;stroke:#0000b1;stroke-width:0.8;\" x=\"214.087199\" xlink:href=\"#mab6eb558bb\" y=\"109.774443\"/>\r\n     <use style=\"fill:#0000b1;stroke:#0000b1;stroke-width:0.8;\" x=\"173.591394\" xlink:href=\"#mab6eb558bb\" y=\"94.566711\"/>\r\n     <use style=\"fill:#0000b1;stroke:#0000b1;stroke-width:0.8;\" x=\"179.400337\" xlink:href=\"#mab6eb558bb\" y=\"101.155914\"/>\r\n     <use style=\"fill:#0000b1;stroke:#0000b1;stroke-width:0.8;\" x=\"267.715906\" xlink:href=\"#mab6eb558bb\" y=\"110.715102\"/>\r\n     <use style=\"fill:#0000b1;stroke:#0000b1;stroke-width:0.8;\" x=\"293.284999\" xlink:href=\"#mab6eb558bb\" y=\"82.267465\"/>\r\n     <use style=\"fill:#0000b1;stroke:#0000b1;stroke-width:0.8;\" x=\"81.811313\" xlink:href=\"#mab6eb558bb\" y=\"123.202164\"/>\r\n     <use style=\"fill:#0000b1;stroke:#0000b1;stroke-width:0.8;\" x=\"215.546627\" xlink:href=\"#mab6eb558bb\" y=\"150.095374\"/>\r\n     <use style=\"fill:#0000b1;stroke:#0000b1;stroke-width:0.8;\" x=\"252.437348\" xlink:href=\"#mab6eb558bb\" y=\"100.379532\"/>\r\n     <use style=\"fill:#0000b1;stroke:#0000b1;stroke-width:0.8;\" x=\"225.795942\" xlink:href=\"#mab6eb558bb\" y=\"126.915218\"/>\r\n     <use style=\"fill:#0000b1;stroke:#0000b1;stroke-width:0.8;\" x=\"202.817036\" xlink:href=\"#mab6eb558bb\" y=\"129.140575\"/>\r\n     <use style=\"fill:#0000b1;stroke:#0000b1;stroke-width:0.8;\" x=\"235.151922\" xlink:href=\"#mab6eb558bb\" y=\"137.70107\"/>\r\n     <use style=\"fill:#0000b1;stroke:#0000b1;stroke-width:0.8;\" x=\"227.547947\" xlink:href=\"#mab6eb558bb\" y=\"155.208645\"/>\r\n     <use style=\"fill:#0000b1;stroke:#0000b1;stroke-width:0.8;\" x=\"110.299035\" xlink:href=\"#mab6eb558bb\" y=\"89.38172\"/>\r\n     <use style=\"fill:#0000b1;stroke:#0000b1;stroke-width:0.8;\" x=\"173.353696\" xlink:href=\"#mab6eb558bb\" y=\"121.579602\"/>\r\n     <use style=\"fill:#0000b1;stroke:#0000b1;stroke-width:0.8;\" x=\"202.96752\" xlink:href=\"#mab6eb558bb\" y=\"102.705551\"/>\r\n     <use style=\"fill:#0000b1;stroke:#0000b1;stroke-width:0.8;\" x=\"238.158998\" xlink:href=\"#mab6eb558bb\" y=\"89.173849\"/>\r\n     <use style=\"fill:#0000b1;stroke:#0000b1;stroke-width:0.8;\" x=\"367.301131\" xlink:href=\"#mab6eb558bb\" y=\"70.96413\"/>\r\n     <use style=\"fill:#0000b1;stroke:#0000b1;stroke-width:0.8;\" x=\"244.683895\" xlink:href=\"#mab6eb558bb\" y=\"149.531645\"/>\r\n     <use style=\"fill:#0000b1;stroke:#0000b1;stroke-width:0.8;\" x=\"218.902662\" xlink:href=\"#mab6eb558bb\" y=\"100.589533\"/>\r\n     <use style=\"fill:#0000b1;stroke:#0000b1;stroke-width:0.8;\" x=\"149.904639\" xlink:href=\"#mab6eb558bb\" y=\"181.931253\"/>\r\n     <use style=\"fill:#0000b1;stroke:#0000b1;stroke-width:0.8;\" x=\"332.079604\" xlink:href=\"#mab6eb558bb\" y=\"136.454938\"/>\r\n     <use style=\"fill:#0000b1;stroke:#0000b1;stroke-width:0.8;\" x=\"255.94725\" xlink:href=\"#mab6eb558bb\" y=\"123.367695\"/>\r\n     <use style=\"fill:#0000b1;stroke:#0000b1;stroke-width:0.8;\" x=\"128.312347\" xlink:href=\"#mab6eb558bb\" y=\"157.373406\"/>\r\n     <use style=\"fill:#0000b1;stroke:#0000b1;stroke-width:0.8;\" x=\"137.731541\" xlink:href=\"#mab6eb558bb\" y=\"148.190913\"/>\r\n     <use style=\"fill:#0000b1;stroke:#0000b1;stroke-width:0.8;\" x=\"207.353663\" xlink:href=\"#mab6eb558bb\" y=\"111.484226\"/>\r\n     <use style=\"fill:#0000b1;stroke:#0000b1;stroke-width:0.8;\" x=\"234.993839\" xlink:href=\"#mab6eb558bb\" y=\"170.88019\"/>\r\n     <use style=\"fill:#0000b1;stroke:#0000b1;stroke-width:0.8;\" x=\"215.317567\" xlink:href=\"#mab6eb558bb\" y=\"133.568806\"/>\r\n     <use style=\"fill:#0000b1;stroke:#0000b1;stroke-width:0.8;\" x=\"127.561851\" xlink:href=\"#mab6eb558bb\" y=\"127.989337\"/>\r\n     <use style=\"fill:#0000b1;stroke:#0000b1;stroke-width:0.8;\" x=\"112.659763\" xlink:href=\"#mab6eb558bb\" y=\"197.383497\"/>\r\n     <use style=\"fill:#0000b1;stroke:#0000b1;stroke-width:0.8;\" x=\"149.882677\" xlink:href=\"#mab6eb558bb\" y=\"104.793291\"/>\r\n     <use style=\"fill:#0000b1;stroke:#0000b1;stroke-width:0.8;\" x=\"203.147599\" xlink:href=\"#mab6eb558bb\" y=\"184.663043\"/>\r\n     <use style=\"fill:#0000b1;stroke:#0000b1;stroke-width:0.8;\" x=\"286.457589\" xlink:href=\"#mab6eb558bb\" y=\"155.261416\"/>\r\n     <use style=\"fill:#0000b1;stroke:#0000b1;stroke-width:0.8;\" x=\"143.595321\" xlink:href=\"#mab6eb558bb\" y=\"121.149162\"/>\r\n     <use style=\"fill:#0000b1;stroke:#0000b1;stroke-width:0.8;\" x=\"249.967644\" xlink:href=\"#mab6eb558bb\" y=\"158.401455\"/>\r\n     <use style=\"fill:#0000b1;stroke:#0000b1;stroke-width:0.8;\" x=\"235.325571\" xlink:href=\"#mab6eb558bb\" y=\"58.363073\"/>\r\n     <use style=\"fill:#0000b1;stroke:#0000b1;stroke-width:0.8;\" x=\"208.763213\" xlink:href=\"#mab6eb558bb\" y=\"83.899748\"/>\r\n     <use style=\"fill:#0000b1;stroke:#0000b1;stroke-width:0.8;\" x=\"223.731676\" xlink:href=\"#mab6eb558bb\" y=\"214.756364\"/>\r\n     <use style=\"fill:#0000b1;stroke:#0000b1;stroke-width:0.8;\" x=\"218.628732\" xlink:href=\"#mab6eb558bb\" y=\"163.896657\"/>\r\n     <use style=\"fill:#0000b1;stroke:#0000b1;stroke-width:0.8;\" x=\"227.448479\" xlink:href=\"#mab6eb558bb\" y=\"71.477949\"/>\r\n     <use style=\"fill:#0000b1;stroke:#0000b1;stroke-width:0.8;\" x=\"269.373241\" xlink:href=\"#mab6eb558bb\" y=\"142.127854\"/>\r\n     <use style=\"fill:#0000b1;stroke:#0000b1;stroke-width:0.8;\" x=\"112.110299\" xlink:href=\"#mab6eb558bb\" y=\"156.361101\"/>\r\n     <use style=\"fill:#0000b1;stroke:#0000b1;stroke-width:0.8;\" x=\"230.598804\" xlink:href=\"#mab6eb558bb\" y=\"86.787392\"/>\r\n     <use style=\"fill:#0000b1;stroke:#0000b1;stroke-width:0.8;\" x=\"213.766197\" xlink:href=\"#mab6eb558bb\" y=\"143.632797\"/>\r\n     <use style=\"fill:#0000b1;stroke:#0000b1;stroke-width:0.8;\" x=\"305.412336\" xlink:href=\"#mab6eb558bb\" y=\"134.916037\"/>\r\n     <use style=\"fill:#0000b1;stroke:#0000b1;stroke-width:0.8;\" x=\"251.601878\" xlink:href=\"#mab6eb558bb\" y=\"71.482288\"/>\r\n     <use style=\"fill:#0000b1;stroke:#0000b1;stroke-width:0.8;\" x=\"226.809709\" xlink:href=\"#mab6eb558bb\" y=\"119.810861\"/>\r\n     <use style=\"fill:#0000b1;stroke:#0000b1;stroke-width:0.8;\" x=\"260.559145\" xlink:href=\"#mab6eb558bb\" y=\"130.661116\"/>\r\n     <use style=\"fill:#0000b1;stroke:#0000b1;stroke-width:0.8;\" x=\"227.444183\" xlink:href=\"#mab6eb558bb\" y=\"71.848608\"/>\r\n     <use style=\"fill:#0000b1;stroke:#0000b1;stroke-width:0.8;\" x=\"171.706248\" xlink:href=\"#mab6eb558bb\" y=\"87.457617\"/>\r\n     <use style=\"fill:#0000b1;stroke:#0000b1;stroke-width:0.8;\" x=\"177.842806\" xlink:href=\"#mab6eb558bb\" y=\"109.102399\"/>\r\n     <use style=\"fill:#0000b1;stroke:#0000b1;stroke-width:0.8;\" x=\"110.930961\" xlink:href=\"#mab6eb558bb\" y=\"121.172289\"/>\r\n     <use style=\"fill:#0000b1;stroke:#0000b1;stroke-width:0.8;\" x=\"250.703919\" xlink:href=\"#mab6eb558bb\" y=\"119.397519\"/>\r\n     <use style=\"fill:#0000b1;stroke:#0000b1;stroke-width:0.8;\" x=\"177.186718\" xlink:href=\"#mab6eb558bb\" y=\"149.402557\"/>\r\n     <use style=\"fill:#0000b1;stroke:#0000b1;stroke-width:0.8;\" x=\"336.894689\" xlink:href=\"#mab6eb558bb\" y=\"45.574792\"/>\r\n     <use style=\"fill:#0000b1;stroke:#0000b1;stroke-width:0.8;\" x=\"304.789214\" xlink:href=\"#mab6eb558bb\" y=\"156.806115\"/>\r\n     <use style=\"fill:#0000b1;stroke:#0000b1;stroke-width:0.8;\" x=\"200.163739\" xlink:href=\"#mab6eb558bb\" y=\"101.117884\"/>\r\n     <use style=\"fill:#0000b1;stroke:#0000b1;stroke-width:0.8;\" x=\"365.062109\" xlink:href=\"#mab6eb558bb\" y=\"130.634833\"/>\r\n     <use style=\"fill:#0000b1;stroke:#0000b1;stroke-width:0.8;\" x=\"214.010217\" xlink:href=\"#mab6eb558bb\" y=\"117.59302\"/>\r\n     <use style=\"fill:#0000b1;stroke:#0000b1;stroke-width:0.8;\" x=\"141.647674\" xlink:href=\"#mab6eb558bb\" y=\"75.069247\"/>\r\n     <use style=\"fill:#0000b1;stroke:#0000b1;stroke-width:0.8;\" x=\"111.232738\" xlink:href=\"#mab6eb558bb\" y=\"132.799324\"/>\r\n     <use style=\"fill:#0000b1;stroke:#0000b1;stroke-width:0.8;\" x=\"253.67988\" xlink:href=\"#mab6eb558bb\" y=\"141.345244\"/>\r\n     <use style=\"fill:#0000b1;stroke:#0000b1;stroke-width:0.8;\" x=\"320.390646\" xlink:href=\"#mab6eb558bb\" y=\"183.912636\"/>\r\n     <use style=\"fill:#0000b1;stroke:#0000b1;stroke-width:0.8;\" x=\"189.109014\" xlink:href=\"#mab6eb558bb\" y=\"118.47189\"/>\r\n     <use style=\"fill:#0000b1;stroke:#0000b1;stroke-width:0.8;\" x=\"147.209862\" xlink:href=\"#mab6eb558bb\" y=\"99.483014\"/>\r\n     <use style=\"fill:#0000b1;stroke:#0000b1;stroke-width:0.8;\" x=\"179.062702\" xlink:href=\"#mab6eb558bb\" y=\"51.042692\"/>\r\n     <use style=\"fill:#0000b1;stroke:#0000b1;stroke-width:0.8;\" x=\"230.963766\" xlink:href=\"#mab6eb558bb\" y=\"139.898978\"/>\r\n     <use style=\"fill:#0000b1;stroke:#0000b1;stroke-width:0.8;\" x=\"146.940328\" xlink:href=\"#mab6eb558bb\" y=\"150.15163\"/>\r\n     <use style=\"fill:#0000b1;stroke:#0000b1;stroke-width:0.8;\" x=\"199.351531\" xlink:href=\"#mab6eb558bb\" y=\"106.292189\"/>\r\n     <use style=\"fill:#0000b1;stroke:#0000b1;stroke-width:0.8;\" x=\"62.937494\" xlink:href=\"#mab6eb558bb\" y=\"136.210438\"/>\r\n     <use style=\"fill:#0000b1;stroke:#0000b1;stroke-width:0.8;\" x=\"276.606044\" xlink:href=\"#mab6eb558bb\" y=\"17.083636\"/>\r\n     <use style=\"fill:#0000b1;stroke:#0000b1;stroke-width:0.8;\" x=\"258.71085\" xlink:href=\"#mab6eb558bb\" y=\"108.94392\"/>\r\n    </g>\r\n   </g>\r\n   <g id=\"patch_3\">\r\n    <path d=\"M 47.719313 224.64 \r\nL 47.719313 7.2 \r\n\" style=\"fill:none;stroke:#cccccc;stroke-linecap:square;stroke-linejoin:miter;\"/>\r\n   </g>\r\n   <g id=\"patch_4\">\r\n    <path d=\"M 382.519313 224.64 \r\nL 382.519313 7.2 \r\n\" style=\"fill:none;stroke:#cccccc;stroke-linecap:square;stroke-linejoin:miter;\"/>\r\n   </g>\r\n   <g id=\"patch_5\">\r\n    <path d=\"M 47.719313 224.64 \r\nL 382.519313 224.64 \r\n\" style=\"fill:none;stroke:#cccccc;stroke-linecap:square;stroke-linejoin:miter;\"/>\r\n   </g>\r\n   <g id=\"patch_6\">\r\n    <path d=\"M 47.719313 7.2 \r\nL 382.519313 7.2 \r\n\" style=\"fill:none;stroke:#cccccc;stroke-linecap:square;stroke-linejoin:miter;\"/>\r\n   </g>\r\n  </g>\r\n </g>\r\n <defs>\r\n  <clipPath id=\"p9d31dc0c53\">\r\n   <rect height=\"217.44\" width=\"334.8\" x=\"47.719313\" y=\"7.2\"/>\r\n  </clipPath>\r\n </defs>\r\n</svg>\r\n",
      "image/png": "[encoded data removed]"
     },
     "metadata": {
      "needs_background": "light"
     }
    }
   ],
   "source": [
    "# In matplotlib:\n",
    "%matplotlib inline\n",
    "df.plot.scatter(x='A', y='B')"
   ]
  },
  {
   "cell_type": "code",
   "execution_count": 81,
   "metadata": {},
   "outputs": [
    {
     "output_type": "execute_result",
     "data": {
      "text/plain": [
       "<AxesSubplot:xlabel='A', ylabel='B'>"
      ]
     },
     "metadata": {},
     "execution_count": 81
    },
    {
     "output_type": "display_data",
     "data": {
      "text/plain": "<Figure size 432x288 with 1 Axes>",
      "image/svg+xml": "<?xml version=\"1.0\" encoding=\"utf-8\" standalone=\"no\"?>\r\n<!DOCTYPE svg PUBLIC \"-//W3C//DTD SVG 1.1//EN\"\r\n  \"http://www.w3.org/Graphics/SVG/1.1/DTD/svg11.dtd\">\r\n<!-- Created with matplotlib (https://matplotlib.org/) -->\r\n<svg height=\"269.381062pt\" version=\"1.1\" viewBox=\"0 0 389.719313 269.381062\" width=\"389.719313pt\" xmlns=\"http://www.w3.org/2000/svg\" xmlns:xlink=\"http://www.w3.org/1999/xlink\">\r\n <metadata>\r\n  <rdf:RDF xmlns:cc=\"http://creativecommons.org/ns#\" xmlns:dc=\"http://purl.org/dc/elements/1.1/\" xmlns:rdf=\"http://www.w3.org/1999/02/22-rdf-syntax-ns#\">\r\n   <cc:Work>\r\n    <dc:type rdf:resource=\"http://purl.org/dc/dcmitype/StillImage\"/>\r\n    <dc:date>2020-12-20T12:27:04.536903</dc:date>\r\n    <dc:format>image/svg+xml</dc:format>\r\n    <dc:creator>\r\n     <cc:Agent>\r\n      <dc:title>Matplotlib v3.3.2, https://matplotlib.org/</dc:title>\r\n     </cc:Agent>\r\n    </dc:creator>\r\n   </cc:Work>\r\n  </rdf:RDF>\r\n </metadata>\r\n <defs>\r\n  <style type=\"text/css\">*{stroke-linecap:butt;stroke-linejoin:round;}</style>\r\n </defs>\r\n <g id=\"figure_1\">\r\n  <g id=\"patch_1\">\r\n   <path d=\"M 0 269.381062 \r\nL 389.719313 269.381062 \r\nL 389.719313 0 \r\nL 0 0 \r\nz\r\n\" style=\"fill:none;\"/>\r\n  </g>\r\n  <g id=\"axes_1\">\r\n   <g id=\"patch_2\">\r\n    <path d=\"M 47.719313 224.64 \r\nL 382.519313 224.64 \r\nL 382.519313 7.2 \r\nL 47.719313 7.2 \r\nz\r\n\" style=\"fill:#ffffff;\"/>\r\n   </g>\r\n   <g id=\"matplotlib.axis_1\">\r\n    <g id=\"xtick_1\">\r\n     <g id=\"line2d_1\">\r\n      <path clip-path=\"url(#pbcfc1c23d2)\" d=\"M 97.47094 224.64 \r\nL 97.47094 7.2 \r\n\" style=\"fill:none;stroke:#cccccc;stroke-linecap:round;stroke-width:0.8;\"/>\r\n     </g>\r\n     <g id=\"text_1\">\r\n      <!-- −2 -->\r\n      <g style=\"fill:#262626;\" transform=\"translate(89.945908 242.388312)scale(0.132 -0.132)\">\r\n       <defs>\r\n        <path d=\"M 52.828125 31.203125 \r\nL 5.5625 31.203125 \r\nL 5.5625 39.40625 \r\nL 52.828125 39.40625 \r\nz\r\n\" id=\"ArialMT-8722\"/>\r\n        <path d=\"M 50.34375 8.453125 \r\nL 50.34375 0 \r\nL 3.03125 0 \r\nQ 2.9375 3.171875 4.046875 6.109375 \r\nQ 5.859375 10.9375 9.828125 15.625 \r\nQ 13.8125 20.3125 21.34375 26.46875 \r\nQ 33.015625 36.03125 37.109375 41.625 \r\nQ 41.21875 47.21875 41.21875 52.203125 \r\nQ 41.21875 57.421875 37.46875 61 \r\nQ 33.734375 64.59375 27.734375 64.59375 \r\nQ 21.390625 64.59375 17.578125 60.78125 \r\nQ 13.765625 56.984375 13.71875 50.25 \r\nL 4.6875 51.171875 \r\nQ 5.609375 61.28125 11.65625 66.578125 \r\nQ 17.71875 71.875 27.9375 71.875 \r\nQ 38.234375 71.875 44.234375 66.15625 \r\nQ 50.25 60.453125 50.25 52 \r\nQ 50.25 47.703125 48.484375 43.546875 \r\nQ 46.734375 39.40625 42.65625 34.8125 \r\nQ 38.578125 30.21875 29.109375 22.21875 \r\nQ 21.1875 15.578125 18.9375 13.203125 \r\nQ 16.703125 10.84375 15.234375 8.453125 \r\nz\r\n\" id=\"ArialMT-50\"/>\r\n       </defs>\r\n       <use xlink:href=\"#ArialMT-8722\"/>\r\n       <use x=\"58.398438\" xlink:href=\"#ArialMT-50\"/>\r\n      </g>\r\n     </g>\r\n    </g>\r\n    <g id=\"xtick_2\">\r\n     <g id=\"line2d_2\">\r\n      <path clip-path=\"url(#pbcfc1c23d2)\" d=\"M 162.379107 224.64 \r\nL 162.379107 7.2 \r\n\" style=\"fill:none;stroke:#cccccc;stroke-linecap:round;stroke-width:0.8;\"/>\r\n     </g>\r\n     <g id=\"text_2\">\r\n      <!-- −1 -->\r\n      <g style=\"fill:#262626;\" transform=\"translate(154.854076 242.388312)scale(0.132 -0.132)\">\r\n       <defs>\r\n        <path d=\"M 37.25 0 \r\nL 28.46875 0 \r\nL 28.46875 56 \r\nQ 25.296875 52.984375 20.140625 49.953125 \r\nQ 14.984375 46.921875 10.890625 45.40625 \r\nL 10.890625 53.90625 \r\nQ 18.265625 57.375 23.78125 62.296875 \r\nQ 29.296875 67.234375 31.59375 71.875 \r\nL 37.25 71.875 \r\nz\r\n\" id=\"ArialMT-49\"/>\r\n       </defs>\r\n       <use xlink:href=\"#ArialMT-8722\"/>\r\n       <use x=\"58.398438\" xlink:href=\"#ArialMT-49\"/>\r\n      </g>\r\n     </g>\r\n    </g>\r\n    <g id=\"xtick_3\">\r\n     <g id=\"line2d_3\">\r\n      <path clip-path=\"url(#pbcfc1c23d2)\" d=\"M 227.287275 224.64 \r\nL 227.287275 7.2 \r\n\" style=\"fill:none;stroke:#cccccc;stroke-linecap:round;stroke-width:0.8;\"/>\r\n     </g>\r\n     <g id=\"text_3\">\r\n      <!-- 0 -->\r\n      <g style=\"fill:#262626;\" transform=\"translate(223.617056 242.388312)scale(0.132 -0.132)\">\r\n       <defs>\r\n        <path d=\"M 4.15625 35.296875 \r\nQ 4.15625 48 6.765625 55.734375 \r\nQ 9.375 63.484375 14.515625 67.671875 \r\nQ 19.671875 71.875 27.484375 71.875 \r\nQ 33.25 71.875 37.59375 69.546875 \r\nQ 41.9375 67.234375 44.765625 62.859375 \r\nQ 47.609375 58.5 49.21875 52.21875 \r\nQ 50.828125 45.953125 50.828125 35.296875 \r\nQ 50.828125 22.703125 48.234375 14.96875 \r\nQ 45.65625 7.234375 40.5 3 \r\nQ 35.359375 -1.21875 27.484375 -1.21875 \r\nQ 17.140625 -1.21875 11.234375 6.203125 \r\nQ 4.15625 15.140625 4.15625 35.296875 \r\nz\r\nM 13.1875 35.296875 \r\nQ 13.1875 17.671875 17.3125 11.828125 \r\nQ 21.4375 6 27.484375 6 \r\nQ 33.546875 6 37.671875 11.859375 \r\nQ 41.796875 17.71875 41.796875 35.296875 \r\nQ 41.796875 52.984375 37.671875 58.78125 \r\nQ 33.546875 64.59375 27.390625 64.59375 \r\nQ 21.34375 64.59375 17.71875 59.46875 \r\nQ 13.1875 52.9375 13.1875 35.296875 \r\nz\r\n\" id=\"ArialMT-48\"/>\r\n       </defs>\r\n       <use xlink:href=\"#ArialMT-48\"/>\r\n      </g>\r\n     </g>\r\n    </g>\r\n    <g id=\"xtick_4\">\r\n     <g id=\"line2d_4\">\r\n      <path clip-path=\"url(#pbcfc1c23d2)\" d=\"M 292.195442 224.64 \r\nL 292.195442 7.2 \r\n\" style=\"fill:none;stroke:#cccccc;stroke-linecap:round;stroke-width:0.8;\"/>\r\n     </g>\r\n     <g id=\"text_4\">\r\n      <!-- 1 -->\r\n      <g style=\"fill:#262626;\" transform=\"translate(288.525223 242.388312)scale(0.132 -0.132)\">\r\n       <use xlink:href=\"#ArialMT-49\"/>\r\n      </g>\r\n     </g>\r\n    </g>\r\n    <g id=\"xtick_5\">\r\n     <g id=\"line2d_5\">\r\n      <path clip-path=\"url(#pbcfc1c23d2)\" d=\"M 357.10361 224.64 \r\nL 357.10361 7.2 \r\n\" style=\"fill:none;stroke:#cccccc;stroke-linecap:round;stroke-width:0.8;\"/>\r\n     </g>\r\n     <g id=\"text_5\">\r\n      <!-- 2 -->\r\n      <g style=\"fill:#262626;\" transform=\"translate(353.433391 242.388312)scale(0.132 -0.132)\">\r\n       <use xlink:href=\"#ArialMT-50\"/>\r\n      </g>\r\n     </g>\r\n    </g>\r\n    <g id=\"text_6\">\r\n     <!-- A -->\r\n     <g style=\"fill:#262626;\" transform=\"translate(210.316688 259.319062)scale(0.144 -0.144)\">\r\n      <defs>\r\n       <path d=\"M -0.140625 0 \r\nL 27.34375 71.578125 \r\nL 37.546875 71.578125 \r\nL 66.84375 0 \r\nL 56.0625 0 \r\nL 47.703125 21.6875 \r\nL 17.78125 21.6875 \r\nL 9.90625 0 \r\nz\r\nM 20.515625 29.390625 \r\nL 44.78125 29.390625 \r\nL 37.3125 49.21875 \r\nQ 33.890625 58.25 32.234375 64.0625 \r\nQ 30.859375 57.171875 28.375 50.390625 \r\nz\r\n\" id=\"ArialMT-65\"/>\r\n      </defs>\r\n      <use xlink:href=\"#ArialMT-65\"/>\r\n     </g>\r\n    </g>\r\n   </g>\r\n   <g id=\"matplotlib.axis_2\">\r\n    <g id=\"ytick_1\">\r\n     <g id=\"line2d_6\">\r\n      <path clip-path=\"url(#pbcfc1c23d2)\" d=\"M 47.719313 211.586746 \r\nL 382.519313 211.586746 \r\n\" style=\"fill:none;stroke:#cccccc;stroke-linecap:round;stroke-width:0.8;\"/>\r\n     </g>\r\n     <g id=\"text_7\">\r\n      <!-- −3 -->\r\n      <g style=\"fill:#262626;\" transform=\"translate(24.36925 216.310903)scale(0.132 -0.132)\">\r\n       <defs>\r\n        <path d=\"M 4.203125 18.890625 \r\nL 12.984375 20.0625 \r\nQ 14.5 12.59375 18.140625 9.296875 \r\nQ 21.78125 6 27 6 \r\nQ 33.203125 6 37.46875 10.296875 \r\nQ 41.75 14.59375 41.75 20.953125 \r\nQ 41.75 27 37.796875 30.921875 \r\nQ 33.84375 34.859375 27.734375 34.859375 \r\nQ 25.25 34.859375 21.53125 33.890625 \r\nL 22.515625 41.609375 \r\nQ 23.390625 41.5 23.921875 41.5 \r\nQ 29.546875 41.5 34.03125 44.421875 \r\nQ 38.53125 47.359375 38.53125 53.46875 \r\nQ 38.53125 58.296875 35.25 61.46875 \r\nQ 31.984375 64.65625 26.8125 64.65625 \r\nQ 21.6875 64.65625 18.265625 61.421875 \r\nQ 14.84375 58.203125 13.875 51.765625 \r\nL 5.078125 53.328125 \r\nQ 6.6875 62.15625 12.390625 67.015625 \r\nQ 18.109375 71.875 26.609375 71.875 \r\nQ 32.46875 71.875 37.390625 69.359375 \r\nQ 42.328125 66.84375 44.9375 62.5 \r\nQ 47.5625 58.15625 47.5625 53.265625 \r\nQ 47.5625 48.640625 45.0625 44.828125 \r\nQ 42.578125 41.015625 37.703125 38.765625 \r\nQ 44.046875 37.3125 47.5625 32.6875 \r\nQ 51.078125 28.078125 51.078125 21.140625 \r\nQ 51.078125 11.765625 44.234375 5.25 \r\nQ 37.40625 -1.265625 26.953125 -1.265625 \r\nQ 17.53125 -1.265625 11.296875 4.34375 \r\nQ 5.078125 9.96875 4.203125 18.890625 \r\nz\r\n\" id=\"ArialMT-51\"/>\r\n       </defs>\r\n       <use xlink:href=\"#ArialMT-8722\"/>\r\n       <use x=\"58.398438\" xlink:href=\"#ArialMT-51\"/>\r\n      </g>\r\n     </g>\r\n    </g>\r\n    <g id=\"ytick_2\">\r\n     <g id=\"line2d_7\">\r\n      <path clip-path=\"url(#pbcfc1c23d2)\" d=\"M 47.719313 180.940466 \r\nL 382.519313 180.940466 \r\n\" style=\"fill:none;stroke:#cccccc;stroke-linecap:round;stroke-width:0.8;\"/>\r\n     </g>\r\n     <g id=\"text_8\">\r\n      <!-- −2 -->\r\n      <g style=\"fill:#262626;\" transform=\"translate(24.36925 185.664622)scale(0.132 -0.132)\">\r\n       <use xlink:href=\"#ArialMT-8722\"/>\r\n       <use x=\"58.398438\" xlink:href=\"#ArialMT-50\"/>\r\n      </g>\r\n     </g>\r\n    </g>\r\n    <g id=\"ytick_3\">\r\n     <g id=\"line2d_8\">\r\n      <path clip-path=\"url(#pbcfc1c23d2)\" d=\"M 47.719313 150.294186 \r\nL 382.519313 150.294186 \r\n\" style=\"fill:none;stroke:#cccccc;stroke-linecap:round;stroke-width:0.8;\"/>\r\n     </g>\r\n     <g id=\"text_9\">\r\n      <!-- −1 -->\r\n      <g style=\"fill:#262626;\" transform=\"translate(24.36925 155.018342)scale(0.132 -0.132)\">\r\n       <use xlink:href=\"#ArialMT-8722\"/>\r\n       <use x=\"58.398438\" xlink:href=\"#ArialMT-49\"/>\r\n      </g>\r\n     </g>\r\n    </g>\r\n    <g id=\"ytick_4\">\r\n     <g id=\"line2d_9\">\r\n      <path clip-path=\"url(#pbcfc1c23d2)\" d=\"M 47.719313 119.647906 \r\nL 382.519313 119.647906 \r\n\" style=\"fill:none;stroke:#cccccc;stroke-linecap:round;stroke-width:0.8;\"/>\r\n     </g>\r\n     <g id=\"text_10\">\r\n      <!-- 0 -->\r\n      <g style=\"fill:#262626;\" transform=\"translate(32.078875 124.372062)scale(0.132 -0.132)\">\r\n       <use xlink:href=\"#ArialMT-48\"/>\r\n      </g>\r\n     </g>\r\n    </g>\r\n    <g id=\"ytick_5\">\r\n     <g id=\"line2d_10\">\r\n      <path clip-path=\"url(#pbcfc1c23d2)\" d=\"M 47.719313 89.001625 \r\nL 382.519313 89.001625 \r\n\" style=\"fill:none;stroke:#cccccc;stroke-linecap:round;stroke-width:0.8;\"/>\r\n     </g>\r\n     <g id=\"text_11\">\r\n      <!-- 1 -->\r\n      <g style=\"fill:#262626;\" transform=\"translate(32.078875 93.725782)scale(0.132 -0.132)\">\r\n       <use xlink:href=\"#ArialMT-49\"/>\r\n      </g>\r\n     </g>\r\n    </g>\r\n    <g id=\"ytick_6\">\r\n     <g id=\"line2d_11\">\r\n      <path clip-path=\"url(#pbcfc1c23d2)\" d=\"M 47.719313 58.355345 \r\nL 382.519313 58.355345 \r\n\" style=\"fill:none;stroke:#cccccc;stroke-linecap:round;stroke-width:0.8;\"/>\r\n     </g>\r\n     <g id=\"text_12\">\r\n      <!-- 2 -->\r\n      <g style=\"fill:#262626;\" transform=\"translate(32.078875 63.079501)scale(0.132 -0.132)\">\r\n       <use xlink:href=\"#ArialMT-50\"/>\r\n      </g>\r\n     </g>\r\n    </g>\r\n    <g id=\"ytick_7\">\r\n     <g id=\"line2d_12\">\r\n      <path clip-path=\"url(#pbcfc1c23d2)\" d=\"M 47.719313 27.709065 \r\nL 382.519313 27.709065 \r\n\" style=\"fill:none;stroke:#cccccc;stroke-linecap:round;stroke-width:0.8;\"/>\r\n     </g>\r\n     <g id=\"text_13\">\r\n      <!-- 3 -->\r\n      <g style=\"fill:#262626;\" transform=\"translate(32.078875 32.433221)scale(0.132 -0.132)\">\r\n       <use xlink:href=\"#ArialMT-51\"/>\r\n      </g>\r\n     </g>\r\n    </g>\r\n    <g id=\"text_14\">\r\n     <!-- B -->\r\n     <g style=\"fill:#262626;\" transform=\"translate(17.50725 120.722625)rotate(-90)scale(0.144 -0.144)\">\r\n      <defs>\r\n       <path d=\"M 7.328125 0 \r\nL 7.328125 71.578125 \r\nL 34.1875 71.578125 \r\nQ 42.390625 71.578125 47.34375 69.40625 \r\nQ 52.296875 67.234375 55.09375 62.71875 \r\nQ 57.90625 58.203125 57.90625 53.265625 \r\nQ 57.90625 48.6875 55.421875 44.625 \r\nQ 52.9375 40.578125 47.90625 38.09375 \r\nQ 54.390625 36.1875 57.875 31.59375 \r\nQ 61.375 27 61.375 20.75 \r\nQ 61.375 15.71875 59.25 11.390625 \r\nQ 57.125 7.078125 54 4.734375 \r\nQ 50.875 2.390625 46.15625 1.1875 \r\nQ 41.453125 0 34.625 0 \r\nz\r\nM 16.796875 41.5 \r\nL 32.28125 41.5 \r\nQ 38.578125 41.5 41.3125 42.328125 \r\nQ 44.921875 43.40625 46.75 45.890625 \r\nQ 48.578125 48.390625 48.578125 52.15625 \r\nQ 48.578125 55.71875 46.875 58.421875 \r\nQ 45.171875 61.140625 41.984375 62.140625 \r\nQ 38.8125 63.140625 31.109375 63.140625 \r\nL 16.796875 63.140625 \r\nz\r\nM 16.796875 8.453125 \r\nL 34.625 8.453125 \r\nQ 39.203125 8.453125 41.0625 8.796875 \r\nQ 44.34375 9.375 46.53125 10.734375 \r\nQ 48.734375 12.109375 50.140625 14.71875 \r\nQ 51.5625 17.328125 51.5625 20.75 \r\nQ 51.5625 24.75 49.515625 27.703125 \r\nQ 47.46875 30.671875 43.828125 31.859375 \r\nQ 40.1875 33.0625 33.34375 33.0625 \r\nL 16.796875 33.0625 \r\nz\r\n\" id=\"ArialMT-66\"/>\r\n      </defs>\r\n      <use xlink:href=\"#ArialMT-66\"/>\r\n     </g>\r\n    </g>\r\n   </g>\r\n   <g id=\"PathCollection_1\">\r\n    <defs>\r\n     <path d=\"M 0 2.4 \r\nC 0.636487 2.4 1.246992 2.147121 1.697056 1.697056 \r\nC 2.147121 1.246992 2.4 0.636487 2.4 0 \r\nC 2.4 -0.636487 2.147121 -1.246992 1.697056 -1.697056 \r\nC 1.246992 -2.147121 0.636487 -2.4 0 -2.4 \r\nC -0.636487 -2.4 -1.246992 -2.147121 -1.697056 -1.697056 \r\nC -2.147121 -1.246992 -2.4 -0.636487 -2.4 0 \r\nC -2.4 0.636487 -2.147121 1.246992 -1.697056 1.697056 \r\nC -1.246992 2.147121 -0.636487 2.4 0 2.4 \r\nz\r\n\" id=\"m5b76663b3e\" style=\"stroke:#ffffff;stroke-width:0.384;\"/>\r\n    </defs>\r\n    <g clip-path=\"url(#pbcfc1c23d2)\">\r\n     <use style=\"fill:#0000b1;stroke:#ffffff;stroke-width:0.384;\" x=\"163.725848\" xlink:href=\"#m5b76663b3e\" y=\"119.749148\"/>\r\n     <use style=\"fill:#0000b1;stroke:#ffffff;stroke-width:0.384;\" x=\"289.586459\" xlink:href=\"#m5b76663b3e\" y=\"110.017466\"/>\r\n     <use style=\"fill:#0000b1;stroke:#ffffff;stroke-width:0.384;\" x=\"310.885735\" xlink:href=\"#m5b76663b3e\" y=\"165.75594\"/>\r\n     <use style=\"fill:#0000b1;stroke:#ffffff;stroke-width:0.384;\" x=\"178.083474\" xlink:href=\"#m5b76663b3e\" y=\"88.865455\"/>\r\n     <use style=\"fill:#0000b1;stroke:#ffffff;stroke-width:0.384;\" x=\"275.289425\" xlink:href=\"#m5b76663b3e\" y=\"131.251451\"/>\r\n     <use style=\"fill:#0000b1;stroke:#ffffff;stroke-width:0.384;\" x=\"238.334065\" xlink:href=\"#m5b76663b3e\" y=\"69.936012\"/>\r\n     <use style=\"fill:#0000b1;stroke:#ffffff;stroke-width:0.384;\" x=\"218.889683\" xlink:href=\"#m5b76663b3e\" y=\"140.59055\"/>\r\n     <use style=\"fill:#0000b1;stroke:#ffffff;stroke-width:0.384;\" x=\"256.216549\" xlink:href=\"#m5b76663b3e\" y=\"122.432396\"/>\r\n     <use style=\"fill:#0000b1;stroke:#ffffff;stroke-width:0.384;\" x=\"236.227024\" xlink:href=\"#m5b76663b3e\" y=\"106.828493\"/>\r\n     <use style=\"fill:#0000b1;stroke:#ffffff;stroke-width:0.384;\" x=\"152.801535\" xlink:href=\"#m5b76663b3e\" y=\"114.746002\"/>\r\n     <use style=\"fill:#0000b1;stroke:#ffffff;stroke-width:0.384;\" x=\"273.689194\" xlink:href=\"#m5b76663b3e\" y=\"104.375698\"/>\r\n     <use style=\"fill:#0000b1;stroke:#ffffff;stroke-width:0.384;\" x=\"321.920962\" xlink:href=\"#m5b76663b3e\" y=\"192.811314\"/>\r\n     <use style=\"fill:#0000b1;stroke:#ffffff;stroke-width:0.384;\" x=\"284.88756\" xlink:href=\"#m5b76663b3e\" y=\"125.006323\"/>\r\n     <use style=\"fill:#0000b1;stroke:#ffffff;stroke-width:0.384;\" x=\"247.231965\" xlink:href=\"#m5b76663b3e\" y=\"141.173965\"/>\r\n     <use style=\"fill:#0000b1;stroke:#ffffff;stroke-width:0.384;\" x=\"363.318283\" xlink:href=\"#m5b76663b3e\" y=\"126.935032\"/>\r\n     <use style=\"fill:#0000b1;stroke:#ffffff;stroke-width:0.384;\" x=\"265.577754\" xlink:href=\"#m5b76663b3e\" y=\"87.580578\"/>\r\n     <use style=\"fill:#0000b1;stroke:#ffffff;stroke-width:0.384;\" x=\"294.558407\" xlink:href=\"#m5b76663b3e\" y=\"156.63707\"/>\r\n     <use style=\"fill:#0000b1;stroke:#ffffff;stroke-width:0.384;\" x=\"275.244498\" xlink:href=\"#m5b76663b3e\" y=\"128.206331\"/>\r\n     <use style=\"fill:#0000b1;stroke:#ffffff;stroke-width:0.384;\" x=\"238.938568\" xlink:href=\"#m5b76663b3e\" y=\"118.897149\"/>\r\n     <use style=\"fill:#0000b1;stroke:#ffffff;stroke-width:0.384;\" x=\"251.17837\" xlink:href=\"#m5b76663b3e\" y=\"117.436655\"/>\r\n     <use style=\"fill:#0000b1;stroke:#ffffff;stroke-width:0.384;\" x=\"236.171227\" xlink:href=\"#m5b76663b3e\" y=\"94.94546\"/>\r\n     <use style=\"fill:#0000b1;stroke:#ffffff;stroke-width:0.384;\" x=\"280.252127\" xlink:href=\"#m5b76663b3e\" y=\"122.873028\"/>\r\n     <use style=\"fill:#0000b1;stroke:#ffffff;stroke-width:0.384;\" x=\"217.651769\" xlink:href=\"#m5b76663b3e\" y=\"104.654227\"/>\r\n     <use style=\"fill:#0000b1;stroke:#ffffff;stroke-width:0.384;\" x=\"289.665456\" xlink:href=\"#m5b76663b3e\" y=\"169.330468\"/>\r\n     <use style=\"fill:#0000b1;stroke:#ffffff;stroke-width:0.384;\" x=\"281.829906\" xlink:href=\"#m5b76663b3e\" y=\"148.497488\"/>\r\n     <use style=\"fill:#0000b1;stroke:#ffffff;stroke-width:0.384;\" x=\"237.282019\" xlink:href=\"#m5b76663b3e\" y=\"102.428132\"/>\r\n     <use style=\"fill:#0000b1;stroke:#ffffff;stroke-width:0.384;\" x=\"212.745429\" xlink:href=\"#m5b76663b3e\" y=\"84.438434\"/>\r\n     <use style=\"fill:#0000b1;stroke:#ffffff;stroke-width:0.384;\" x=\"163.113566\" xlink:href=\"#m5b76663b3e\" y=\"146.013084\"/>\r\n     <use style=\"fill:#0000b1;stroke:#ffffff;stroke-width:0.384;\" x=\"224.6197\" xlink:href=\"#m5b76663b3e\" y=\"127.448465\"/>\r\n     <use style=\"fill:#0000b1;stroke:#ffffff;stroke-width:0.384;\" x=\"214.087199\" xlink:href=\"#m5b76663b3e\" y=\"109.774443\"/>\r\n     <use style=\"fill:#0000b1;stroke:#ffffff;stroke-width:0.384;\" x=\"173.591394\" xlink:href=\"#m5b76663b3e\" y=\"94.566711\"/>\r\n     <use style=\"fill:#0000b1;stroke:#ffffff;stroke-width:0.384;\" x=\"179.400337\" xlink:href=\"#m5b76663b3e\" y=\"101.155914\"/>\r\n     <use style=\"fill:#0000b1;stroke:#ffffff;stroke-width:0.384;\" x=\"267.715906\" xlink:href=\"#m5b76663b3e\" y=\"110.715102\"/>\r\n     <use style=\"fill:#0000b1;stroke:#ffffff;stroke-width:0.384;\" x=\"293.284999\" xlink:href=\"#m5b76663b3e\" y=\"82.267465\"/>\r\n     <use style=\"fill:#0000b1;stroke:#ffffff;stroke-width:0.384;\" x=\"81.811313\" xlink:href=\"#m5b76663b3e\" y=\"123.202164\"/>\r\n     <use style=\"fill:#0000b1;stroke:#ffffff;stroke-width:0.384;\" x=\"215.546627\" xlink:href=\"#m5b76663b3e\" y=\"150.095374\"/>\r\n     <use style=\"fill:#0000b1;stroke:#ffffff;stroke-width:0.384;\" x=\"252.437348\" xlink:href=\"#m5b76663b3e\" y=\"100.379532\"/>\r\n     <use style=\"fill:#0000b1;stroke:#ffffff;stroke-width:0.384;\" x=\"225.795942\" xlink:href=\"#m5b76663b3e\" y=\"126.915218\"/>\r\n     <use style=\"fill:#0000b1;stroke:#ffffff;stroke-width:0.384;\" x=\"202.817036\" xlink:href=\"#m5b76663b3e\" y=\"129.140575\"/>\r\n     <use style=\"fill:#0000b1;stroke:#ffffff;stroke-width:0.384;\" x=\"235.151922\" xlink:href=\"#m5b76663b3e\" y=\"137.70107\"/>\r\n     <use style=\"fill:#0000b1;stroke:#ffffff;stroke-width:0.384;\" x=\"227.547947\" xlink:href=\"#m5b76663b3e\" y=\"155.208645\"/>\r\n     <use style=\"fill:#0000b1;stroke:#ffffff;stroke-width:0.384;\" x=\"110.299035\" xlink:href=\"#m5b76663b3e\" y=\"89.38172\"/>\r\n     <use style=\"fill:#0000b1;stroke:#ffffff;stroke-width:0.384;\" x=\"173.353696\" xlink:href=\"#m5b76663b3e\" y=\"121.579602\"/>\r\n     <use style=\"fill:#0000b1;stroke:#ffffff;stroke-width:0.384;\" x=\"202.96752\" xlink:href=\"#m5b76663b3e\" y=\"102.705551\"/>\r\n     <use style=\"fill:#0000b1;stroke:#ffffff;stroke-width:0.384;\" x=\"238.158998\" xlink:href=\"#m5b76663b3e\" y=\"89.173849\"/>\r\n     <use style=\"fill:#0000b1;stroke:#ffffff;stroke-width:0.384;\" x=\"367.301131\" xlink:href=\"#m5b76663b3e\" y=\"70.96413\"/>\r\n     <use style=\"fill:#0000b1;stroke:#ffffff;stroke-width:0.384;\" x=\"244.683895\" xlink:href=\"#m5b76663b3e\" y=\"149.531645\"/>\r\n     <use style=\"fill:#0000b1;stroke:#ffffff;stroke-width:0.384;\" x=\"218.902662\" xlink:href=\"#m5b76663b3e\" y=\"100.589533\"/>\r\n     <use style=\"fill:#0000b1;stroke:#ffffff;stroke-width:0.384;\" x=\"149.904639\" xlink:href=\"#m5b76663b3e\" y=\"181.931253\"/>\r\n     <use style=\"fill:#0000b1;stroke:#ffffff;stroke-width:0.384;\" x=\"332.079604\" xlink:href=\"#m5b76663b3e\" y=\"136.454938\"/>\r\n     <use style=\"fill:#0000b1;stroke:#ffffff;stroke-width:0.384;\" x=\"255.94725\" xlink:href=\"#m5b76663b3e\" y=\"123.367695\"/>\r\n     <use style=\"fill:#0000b1;stroke:#ffffff;stroke-width:0.384;\" x=\"128.312347\" xlink:href=\"#m5b76663b3e\" y=\"157.373406\"/>\r\n     <use style=\"fill:#0000b1;stroke:#ffffff;stroke-width:0.384;\" x=\"137.731541\" xlink:href=\"#m5b76663b3e\" y=\"148.190913\"/>\r\n     <use style=\"fill:#0000b1;stroke:#ffffff;stroke-width:0.384;\" x=\"207.353663\" xlink:href=\"#m5b76663b3e\" y=\"111.484226\"/>\r\n     <use style=\"fill:#0000b1;stroke:#ffffff;stroke-width:0.384;\" x=\"234.993839\" xlink:href=\"#m5b76663b3e\" y=\"170.88019\"/>\r\n     <use style=\"fill:#0000b1;stroke:#ffffff;stroke-width:0.384;\" x=\"215.317567\" xlink:href=\"#m5b76663b3e\" y=\"133.568806\"/>\r\n     <use style=\"fill:#0000b1;stroke:#ffffff;stroke-width:0.384;\" x=\"127.561851\" xlink:href=\"#m5b76663b3e\" y=\"127.989337\"/>\r\n     <use style=\"fill:#0000b1;stroke:#ffffff;stroke-width:0.384;\" x=\"112.659763\" xlink:href=\"#m5b76663b3e\" y=\"197.383497\"/>\r\n     <use style=\"fill:#0000b1;stroke:#ffffff;stroke-width:0.384;\" x=\"149.882677\" xlink:href=\"#m5b76663b3e\" y=\"104.793291\"/>\r\n     <use style=\"fill:#0000b1;stroke:#ffffff;stroke-width:0.384;\" x=\"203.147599\" xlink:href=\"#m5b76663b3e\" y=\"184.663043\"/>\r\n     <use style=\"fill:#0000b1;stroke:#ffffff;stroke-width:0.384;\" x=\"286.457589\" xlink:href=\"#m5b76663b3e\" y=\"155.261416\"/>\r\n     <use style=\"fill:#0000b1;stroke:#ffffff;stroke-width:0.384;\" x=\"143.595321\" xlink:href=\"#m5b76663b3e\" y=\"121.149162\"/>\r\n     <use style=\"fill:#0000b1;stroke:#ffffff;stroke-width:0.384;\" x=\"249.967644\" xlink:href=\"#m5b76663b3e\" y=\"158.401455\"/>\r\n     <use style=\"fill:#0000b1;stroke:#ffffff;stroke-width:0.384;\" x=\"235.325571\" xlink:href=\"#m5b76663b3e\" y=\"58.363073\"/>\r\n     <use style=\"fill:#0000b1;stroke:#ffffff;stroke-width:0.384;\" x=\"208.763213\" xlink:href=\"#m5b76663b3e\" y=\"83.899748\"/>\r\n     <use style=\"fill:#0000b1;stroke:#ffffff;stroke-width:0.384;\" x=\"223.731676\" xlink:href=\"#m5b76663b3e\" y=\"214.756364\"/>\r\n     <use style=\"fill:#0000b1;stroke:#ffffff;stroke-width:0.384;\" x=\"218.628732\" xlink:href=\"#m5b76663b3e\" y=\"163.896657\"/>\r\n     <use style=\"fill:#0000b1;stroke:#ffffff;stroke-width:0.384;\" x=\"227.448479\" xlink:href=\"#m5b76663b3e\" y=\"71.477949\"/>\r\n     <use style=\"fill:#0000b1;stroke:#ffffff;stroke-width:0.384;\" x=\"269.373241\" xlink:href=\"#m5b76663b3e\" y=\"142.127854\"/>\r\n     <use style=\"fill:#0000b1;stroke:#ffffff;stroke-width:0.384;\" x=\"112.110299\" xlink:href=\"#m5b76663b3e\" y=\"156.361101\"/>\r\n     <use style=\"fill:#0000b1;stroke:#ffffff;stroke-width:0.384;\" x=\"230.598804\" xlink:href=\"#m5b76663b3e\" y=\"86.787392\"/>\r\n     <use style=\"fill:#0000b1;stroke:#ffffff;stroke-width:0.384;\" x=\"213.766197\" xlink:href=\"#m5b76663b3e\" y=\"143.632797\"/>\r\n     <use style=\"fill:#0000b1;stroke:#ffffff;stroke-width:0.384;\" x=\"305.412336\" xlink:href=\"#m5b76663b3e\" y=\"134.916037\"/>\r\n     <use style=\"fill:#0000b1;stroke:#ffffff;stroke-width:0.384;\" x=\"251.601878\" xlink:href=\"#m5b76663b3e\" y=\"71.482288\"/>\r\n     <use style=\"fill:#0000b1;stroke:#ffffff;stroke-width:0.384;\" x=\"226.809709\" xlink:href=\"#m5b76663b3e\" y=\"119.810861\"/>\r\n     <use style=\"fill:#0000b1;stroke:#ffffff;stroke-width:0.384;\" x=\"260.559145\" xlink:href=\"#m5b76663b3e\" y=\"130.661116\"/>\r\n     <use style=\"fill:#0000b1;stroke:#ffffff;stroke-width:0.384;\" x=\"227.444183\" xlink:href=\"#m5b76663b3e\" y=\"71.848608\"/>\r\n     <use style=\"fill:#0000b1;stroke:#ffffff;stroke-width:0.384;\" x=\"171.706248\" xlink:href=\"#m5b76663b3e\" y=\"87.457617\"/>\r\n     <use style=\"fill:#0000b1;stroke:#ffffff;stroke-width:0.384;\" x=\"177.842806\" xlink:href=\"#m5b76663b3e\" y=\"109.102399\"/>\r\n     <use style=\"fill:#0000b1;stroke:#ffffff;stroke-width:0.384;\" x=\"110.930961\" xlink:href=\"#m5b76663b3e\" y=\"121.172289\"/>\r\n     <use style=\"fill:#0000b1;stroke:#ffffff;stroke-width:0.384;\" x=\"250.703919\" xlink:href=\"#m5b76663b3e\" y=\"119.397519\"/>\r\n     <use style=\"fill:#0000b1;stroke:#ffffff;stroke-width:0.384;\" x=\"177.186718\" xlink:href=\"#m5b76663b3e\" y=\"149.402557\"/>\r\n     <use style=\"fill:#0000b1;stroke:#ffffff;stroke-width:0.384;\" x=\"336.894689\" xlink:href=\"#m5b76663b3e\" y=\"45.574792\"/>\r\n     <use style=\"fill:#0000b1;stroke:#ffffff;stroke-width:0.384;\" x=\"304.789214\" xlink:href=\"#m5b76663b3e\" y=\"156.806115\"/>\r\n     <use style=\"fill:#0000b1;stroke:#ffffff;stroke-width:0.384;\" x=\"200.163739\" xlink:href=\"#m5b76663b3e\" y=\"101.117884\"/>\r\n     <use style=\"fill:#0000b1;stroke:#ffffff;stroke-width:0.384;\" x=\"365.062109\" xlink:href=\"#m5b76663b3e\" y=\"130.634833\"/>\r\n     <use style=\"fill:#0000b1;stroke:#ffffff;stroke-width:0.384;\" x=\"214.010217\" xlink:href=\"#m5b76663b3e\" y=\"117.59302\"/>\r\n     <use style=\"fill:#0000b1;stroke:#ffffff;stroke-width:0.384;\" x=\"141.647674\" xlink:href=\"#m5b76663b3e\" y=\"75.069247\"/>\r\n     <use style=\"fill:#0000b1;stroke:#ffffff;stroke-width:0.384;\" x=\"111.232738\" xlink:href=\"#m5b76663b3e\" y=\"132.799324\"/>\r\n     <use style=\"fill:#0000b1;stroke:#ffffff;stroke-width:0.384;\" x=\"253.67988\" xlink:href=\"#m5b76663b3e\" y=\"141.345244\"/>\r\n     <use style=\"fill:#0000b1;stroke:#ffffff;stroke-width:0.384;\" x=\"320.390646\" xlink:href=\"#m5b76663b3e\" y=\"183.912636\"/>\r\n     <use style=\"fill:#0000b1;stroke:#ffffff;stroke-width:0.384;\" x=\"189.109014\" xlink:href=\"#m5b76663b3e\" y=\"118.47189\"/>\r\n     <use style=\"fill:#0000b1;stroke:#ffffff;stroke-width:0.384;\" x=\"147.209862\" xlink:href=\"#m5b76663b3e\" y=\"99.483014\"/>\r\n     <use style=\"fill:#0000b1;stroke:#ffffff;stroke-width:0.384;\" x=\"179.062702\" xlink:href=\"#m5b76663b3e\" y=\"51.042692\"/>\r\n     <use style=\"fill:#0000b1;stroke:#ffffff;stroke-width:0.384;\" x=\"230.963766\" xlink:href=\"#m5b76663b3e\" y=\"139.898978\"/>\r\n     <use style=\"fill:#0000b1;stroke:#ffffff;stroke-width:0.384;\" x=\"146.940328\" xlink:href=\"#m5b76663b3e\" y=\"150.15163\"/>\r\n     <use style=\"fill:#0000b1;stroke:#ffffff;stroke-width:0.384;\" x=\"199.351531\" xlink:href=\"#m5b76663b3e\" y=\"106.292189\"/>\r\n     <use style=\"fill:#0000b1;stroke:#ffffff;stroke-width:0.384;\" x=\"62.937494\" xlink:href=\"#m5b76663b3e\" y=\"136.210438\"/>\r\n     <use style=\"fill:#0000b1;stroke:#ffffff;stroke-width:0.384;\" x=\"276.606044\" xlink:href=\"#m5b76663b3e\" y=\"17.083636\"/>\r\n     <use style=\"fill:#0000b1;stroke:#ffffff;stroke-width:0.384;\" x=\"258.71085\" xlink:href=\"#m5b76663b3e\" y=\"108.94392\"/>\r\n    </g>\r\n   </g>\r\n   <g id=\"patch_3\">\r\n    <path d=\"M 47.719313 224.64 \r\nL 47.719313 7.2 \r\n\" style=\"fill:none;stroke:#cccccc;stroke-linecap:square;stroke-linejoin:miter;\"/>\r\n   </g>\r\n   <g id=\"patch_4\">\r\n    <path d=\"M 382.519313 224.64 \r\nL 382.519313 7.2 \r\n\" style=\"fill:none;stroke:#cccccc;stroke-linecap:square;stroke-linejoin:miter;\"/>\r\n   </g>\r\n   <g id=\"patch_5\">\r\n    <path d=\"M 47.719313 224.64 \r\nL 382.519313 224.64 \r\n\" style=\"fill:none;stroke:#cccccc;stroke-linecap:square;stroke-linejoin:miter;\"/>\r\n   </g>\r\n   <g id=\"patch_6\">\r\n    <path d=\"M 47.719313 7.2 \r\nL 382.519313 7.2 \r\n\" style=\"fill:none;stroke:#cccccc;stroke-linecap:square;stroke-linejoin:miter;\"/>\r\n   </g>\r\n  </g>\r\n </g>\r\n <defs>\r\n  <clipPath id=\"pbcfc1c23d2\">\r\n   <rect height=\"217.44\" width=\"334.8\" x=\"47.719313\" y=\"7.2\"/>\r\n  </clipPath>\r\n </defs>\r\n</svg>\r\n",
      "image/png": "[encoded data removed]"
     },
     "metadata": {
      "needs_background": "light"
     }
    }
   ],
   "source": [
    "# In seaborn\n",
    "sns.scatterplot(x='A', y='B', data=df)"
   ]
  },
  {
   "cell_type": "code",
   "execution_count": 82,
   "metadata": {},
   "outputs": [
    {
     "output_type": "display_data",
     "data": {
      "application/vnd.plotly.v1+json": {
       "config": {
        "linkText": "Export to plot.ly",
        "plotlyServerURL": "https://plot.ly",
        "showLink": true
       },
       "data": [
        {
         "line": {
          "color": "rgba(255, 153, 51, 1.0)",
          "dash": "solid",
          "shape": "linear",
          "width": 1.3
         },
         "mode": "lines",
         "name": "B",
         "text": "",
         "type": "scatter",
         "x": [
          -0.9792515936598923,
          0.9598050055042266,
          1.2879497854926978,
          -0.7580525281398575,
          0.7395394550550108,
          0.17019107169090317,
          -0.1293765011854134,
          0.4456954392361662,
          0.13772919772007583,
          -1.1475557380589023,
          0.7148856836266592,
          1.4579626985599747,
          0.8874119734406709,
          0.3072755156395645,
          2.0957456279779065,
          0.5899177376437668,
          1.0364047408183756,
          0.7388472871926347,
          0.17950427668644467,
          0.3680753376522049,
          0.1368695577373032,
          0.8159967349839087,
          -0.14844827589627468,
          0.9610220648185201,
          0.8403045958850671,
          0.1539828413327248,
          -0.22403721645926258,
          -0.9886846475465637,
          -0.041097672863380195,
          -0.20336539740261284,
          -0.8272592313380914,
          -0.7377644328272414,
          0.6228589278084802,
          1.0167861280965602,
          -2.2412581790082666,
          -0.18088089665349677,
          0.38747162796369533,
          -0.022976036922044408,
          -0.376997829574464,
          0.12116576151183464,
          0.004016022807814205,
          -1.8023654641354336,
          -0.8309213004133602,
          -0.37467942398393506,
          0.16749391300381028,
          2.157106901960888,
          0.26801897806054975,
          -0.12917654316980617,
          -1.1921864240944327,
          1.6144706272625435,
          0.44154651927524047,
          -1.5248455068331284,
          -1.379729809199886,
          -0.3071048272960799,
          0.11873027241721576,
          -0.18440988283347878,
          -1.5364079402765836,
          -1.7659951853905054,
          -1.1925247660678762,
          -0.3719050473318741,
          0.9116004418673352,
          -1.2893901771054779,
          0.3494224192856916,
          0.12384105919512163,
          -0.2853887638156255,
          -0.05477890823051662,
          -0.13339681427823635,
          0.002483580579456353,
          0.6483924643575026,
          -1.7744604454121766,
          0.051018691708484755,
          -0.20831087775659465,
          1.2036245135778298,
          0.37460006318208516,
          -0.007357554347866323,
          0.5125991262014535,
          0.0024173923945399363,
          -0.8563025126597791,
          -0.7617603492153533,
          -1.792629772347877,
          0.360765760598241,
          -0.7718682940507207,
          1.6886536550319722,
          1.194024448998109,
          -0.417875534770027,
          2.122611684514379,
          -0.20455142051435,
          -1.3193963771012482,
          -1.7879804873841585,
          0.4066145570917323,
          1.434386069614315,
          -0.5881888567526482,
          -1.2337031790890676,
          -0.7429661704558083,
          0.0566414277132115,
          -1.2378557179328697,
          -0.43038873430261276,
          -2.5320354376990766,
          0.7598237879841848,
          0.48412359488350337
         ],
         "y": [
          -0.0033035822899469052,
          0.3142449677503647,
          -1.504523021926638,
          1.0044432988561958,
          -0.3786281864931309,
          1.6221183698918318,
          -0.6833666110514979,
          -0.09085898589503208,
          0.4183024142850112,
          0.1599510285795126,
          0.4983380417069129,
          -2.38735035273387,
          -0.17484722770594668,
          -0.7024036572296523,
          -0.2377817653329279,
          1.0463693206953972,
          -1.206970761077781,
          -0.27926473845743927,
          0.024497475622231084,
          0.07215395894711478,
          0.8060503759899023,
          -0.10523700135619246,
          0.4892495322097234,
          -1.6211612465614205,
          -0.9413730510682876,
          0.5618878755989775,
          1.148898697209982,
          -0.8603059741609684,
          -0.2545352736983566,
          0.3221749143716371,
          0.8184090970176358,
          0.603400860775381,
          0.29148084806096053,
          1.2197382793191827,
          -0.11597682125807925,
          -0.993512699913698,
          0.6287345083305073,
          -0.23713521257102554,
          -0.3097494760631051,
          -0.5890817405505082,
          -1.1603607004584577,
          0.9875973705562235,
          -0.063031992142952,
          0.5528356056102148,
          0.9943802775983782,
          1.5885704578261726,
          -0.9751179842350768,
          0.6218820952952601,
          -2.0323297593875838,
          -0.5484199829062123,
          -0.12137817399783384,
          -1.2309977016776752,
          -0.9313693797491154,
          0.2663840238711808,
          -1.6717292793656437,
          -0.4542443768926661,
          -0.2721841210031825,
          -2.536542463070985,
          0.4847118496688762,
          -2.1214691330865127,
          -1.1620826355082072,
          -0.048986563425723995,
          -1.2645433415566478,
          1.9997478527752839,
          1.166476246332891,
          -3.103425838335752,
          -1.4438539094973724,
          1.5718043608392394,
          -0.7335294160030932,
          -1.197965786647293,
          1.0722513065522665,
          -0.7826362934224473,
          -0.49820503134543775,
          1.5716627803037155,
          -0.005317290143883737,
          -0.3593653166820716,
          1.5597095911561978,
          1.0503815987596175,
          0.3441039774821109,
          -0.04974121712467084,
          0.008170229384752613,
          -0.9709058136802701,
          2.417034408248457,
          -1.2124867561742774,
          0.6046417869674267,
          -0.3585076795507522,
          0.06705171160120478,
          1.4546189083140886,
          -0.42913586866418607,
          -0.707992549805246,
          -2.096983049597022,
          0.038373856459275275,
          0.6579882416462015,
          2.2386147056613295,
          -0.6608003396245523,
          -0.9953483586408077,
          0.43580220111517376,
          -0.5404418613480602,
          3.3467118532442397,
          0.34927520878526047
         ]
        }
       ],
       "layout": {
        "legend": {
         "bgcolor": "#F5F6F9",
         "font": {
          "color": "#4D5663"
         }
        },
        "paper_bgcolor": "#F5F6F9",
        "plot_bgcolor": "#F5F6F9",
        "template": {
         "data": {
          "bar": [
           {
            "error_x": {
             "color": "#2a3f5f"
            },
            "error_y": {
             "color": "#2a3f5f"
            },
            "marker": {
             "line": {
              "color": "#E5ECF6",
              "width": 0.5
             }
            },
            "type": "bar"
           }
          ],
          "barpolar": [
           {
            "marker": {
             "line": {
              "color": "#E5ECF6",
              "width": 0.5
             }
            },
            "type": "barpolar"
           }
          ],
          "carpet": [
           {
            "aaxis": {
             "endlinecolor": "#2a3f5f",
             "gridcolor": "white",
             "linecolor": "white",
             "minorgridcolor": "white",
             "startlinecolor": "#2a3f5f"
            },
            "baxis": {
             "endlinecolor": "#2a3f5f",
             "gridcolor": "white",
             "linecolor": "white",
             "minorgridcolor": "white",
             "startlinecolor": "#2a3f5f"
            },
            "type": "carpet"
           }
          ],
          "choropleth": [
           {
            "colorbar": {
             "outlinewidth": 0,
             "ticks": ""
            },
            "type": "choropleth"
           }
          ],
          "contour": [
           {
            "colorbar": {
             "outlinewidth": 0,
             "ticks": ""
            },
            "colorscale": [
             [
              0,
              "#0d0887"
             ],
             [
              0.1111111111111111,
              "#46039f"
             ],
             [
              0.2222222222222222,
              "#7201a8"
             ],
             [
              0.3333333333333333,
              "#9c179e"
             ],
             [
              0.4444444444444444,
              "#bd3786"
             ],
             [
              0.5555555555555556,
              "#d8576b"
             ],
             [
              0.6666666666666666,
              "#ed7953"
             ],
             [
              0.7777777777777778,
              "#fb9f3a"
             ],
             [
              0.8888888888888888,
              "#fdca26"
             ],
             [
              1,
              "#f0f921"
             ]
            ],
            "type": "contour"
           }
          ],
          "contourcarpet": [
           {
            "colorbar": {
             "outlinewidth": 0,
             "ticks": ""
            },
            "type": "contourcarpet"
           }
          ],
          "heatmap": [
           {
            "colorbar": {
             "outlinewidth": 0,
             "ticks": ""
            },
            "colorscale": [
             [
              0,
              "#0d0887"
             ],
             [
              0.1111111111111111,
              "#46039f"
             ],
             [
              0.2222222222222222,
              "#7201a8"
             ],
             [
              0.3333333333333333,
              "#9c179e"
             ],
             [
              0.4444444444444444,
              "#bd3786"
             ],
             [
              0.5555555555555556,
              "#d8576b"
             ],
             [
              0.6666666666666666,
              "#ed7953"
             ],
             [
              0.7777777777777778,
              "#fb9f3a"
             ],
             [
              0.8888888888888888,
              "#fdca26"
             ],
             [
              1,
              "#f0f921"
             ]
            ],
            "type": "heatmap"
           }
          ],
          "heatmapgl": [
           {
            "colorbar": {
             "outlinewidth": 0,
             "ticks": ""
            },
            "colorscale": [
             [
              0,
              "#0d0887"
             ],
             [
              0.1111111111111111,
              "#46039f"
             ],
             [
              0.2222222222222222,
              "#7201a8"
             ],
             [
              0.3333333333333333,
              "#9c179e"
             ],
             [
              0.4444444444444444,
              "#bd3786"
             ],
             [
              0.5555555555555556,
              "#d8576b"
             ],
             [
              0.6666666666666666,
              "#ed7953"
             ],
             [
              0.7777777777777778,
              "#fb9f3a"
             ],
             [
              0.8888888888888888,
              "#fdca26"
             ],
             [
              1,
              "#f0f921"
             ]
            ],
            "type": "heatmapgl"
           }
          ],
          "histogram": [
           {
            "marker": {
             "colorbar": {
              "outlinewidth": 0,
              "ticks": ""
             }
            },
            "type": "histogram"
           }
          ],
          "histogram2d": [
           {
            "colorbar": {
             "outlinewidth": 0,
             "ticks": ""
            },
            "colorscale": [
             [
              0,
              "#0d0887"
             ],
             [
              0.1111111111111111,
              "#46039f"
             ],
             [
              0.2222222222222222,
              "#7201a8"
             ],
             [
              0.3333333333333333,
              "#9c179e"
             ],
             [
              0.4444444444444444,
              "#bd3786"
             ],
             [
              0.5555555555555556,
              "#d8576b"
             ],
             [
              0.6666666666666666,
              "#ed7953"
             ],
             [
              0.7777777777777778,
              "#fb9f3a"
             ],
             [
              0.8888888888888888,
              "#fdca26"
             ],
             [
              1,
              "#f0f921"
             ]
            ],
            "type": "histogram2d"
           }
          ],
          "histogram2dcontour": [
           {
            "colorbar": {
             "outlinewidth": 0,
             "ticks": ""
            },
            "colorscale": [
             [
              0,
              "#0d0887"
             ],
             [
              0.1111111111111111,
              "#46039f"
             ],
             [
              0.2222222222222222,
              "#7201a8"
             ],
             [
              0.3333333333333333,
              "#9c179e"
             ],
             [
              0.4444444444444444,
              "#bd3786"
             ],
             [
              0.5555555555555556,
              "#d8576b"
             ],
             [
              0.6666666666666666,
              "#ed7953"
             ],
             [
              0.7777777777777778,
              "#fb9f3a"
             ],
             [
              0.8888888888888888,
              "#fdca26"
             ],
             [
              1,
              "#f0f921"
             ]
            ],
            "type": "histogram2dcontour"
           }
          ],
          "mesh3d": [
           {
            "colorbar": {
             "outlinewidth": 0,
             "ticks": ""
            },
            "type": "mesh3d"
           }
          ],
          "parcoords": [
           {
            "line": {
             "colorbar": {
              "outlinewidth": 0,
              "ticks": ""
             }
            },
            "type": "parcoords"
           }
          ],
          "pie": [
           {
            "automargin": true,
            "type": "pie"
           }
          ],
          "scatter": [
           {
            "marker": {
             "colorbar": {
              "outlinewidth": 0,
              "ticks": ""
             }
            },
            "type": "scatter"
           }
          ],
          "scatter3d": [
           {
            "line": {
             "colorbar": {
              "outlinewidth": 0,
              "ticks": ""
             }
            },
            "marker": {
             "colorbar": {
              "outlinewidth": 0,
              "ticks": ""
             }
            },
            "type": "scatter3d"
           }
          ],
          "scattercarpet": [
           {
            "marker": {
             "colorbar": {
              "outlinewidth": 0,
              "ticks": ""
             }
            },
            "type": "scattercarpet"
           }
          ],
          "scattergeo": [
           {
            "marker": {
             "colorbar": {
              "outlinewidth": 0,
              "ticks": ""
             }
            },
            "type": "scattergeo"
           }
          ],
          "scattergl": [
           {
            "marker": {
             "colorbar": {
              "outlinewidth": 0,
              "ticks": ""
             }
            },
            "type": "scattergl"
           }
          ],
          "scattermapbox": [
           {
            "marker": {
             "colorbar": {
              "outlinewidth": 0,
              "ticks": ""
             }
            },
            "type": "scattermapbox"
           }
          ],
          "scatterpolar": [
           {
            "marker": {
             "colorbar": {
              "outlinewidth": 0,
              "ticks": ""
             }
            },
            "type": "scatterpolar"
           }
          ],
          "scatterpolargl": [
           {
            "marker": {
             "colorbar": {
              "outlinewidth": 0,
              "ticks": ""
             }
            },
            "type": "scatterpolargl"
           }
          ],
          "scatterternary": [
           {
            "marker": {
             "colorbar": {
              "outlinewidth": 0,
              "ticks": ""
             }
            },
            "type": "scatterternary"
           }
          ],
          "surface": [
           {
            "colorbar": {
             "outlinewidth": 0,
             "ticks": ""
            },
            "colorscale": [
             [
              0,
              "#0d0887"
             ],
             [
              0.1111111111111111,
              "#46039f"
             ],
             [
              0.2222222222222222,
              "#7201a8"
             ],
             [
              0.3333333333333333,
              "#9c179e"
             ],
             [
              0.4444444444444444,
              "#bd3786"
             ],
             [
              0.5555555555555556,
              "#d8576b"
             ],
             [
              0.6666666666666666,
              "#ed7953"
             ],
             [
              0.7777777777777778,
              "#fb9f3a"
             ],
             [
              0.8888888888888888,
              "#fdca26"
             ],
             [
              1,
              "#f0f921"
             ]
            ],
            "type": "surface"
           }
          ],
          "table": [
           {
            "cells": {
             "fill": {
              "color": "#EBF0F8"
             },
             "line": {
              "color": "white"
             }
            },
            "header": {
             "fill": {
              "color": "#C8D4E3"
             },
             "line": {
              "color": "white"
             }
            },
            "type": "table"
           }
          ]
         },
         "layout": {
          "annotationdefaults": {
           "arrowcolor": "#2a3f5f",
           "arrowhead": 0,
           "arrowwidth": 1
          },
          "autotypenumbers": "strict",
          "coloraxis": {
           "colorbar": {
            "outlinewidth": 0,
            "ticks": ""
           }
          },
          "colorscale": {
           "diverging": [
            [
             0,
             "#8e0152"
            ],
            [
             0.1,
             "#c51b7d"
            ],
            [
             0.2,
             "#de77ae"
            ],
            [
             0.3,
             "#f1b6da"
            ],
            [
             0.4,
             "#fde0ef"
            ],
            [
             0.5,
             "#f7f7f7"
            ],
            [
             0.6,
             "#e6f5d0"
            ],
            [
             0.7,
             "#b8e186"
            ],
            [
             0.8,
             "#7fbc41"
            ],
            [
             0.9,
             "#4d9221"
            ],
            [
             1,
             "#276419"
            ]
           ],
           "sequential": [
            [
             0,
             "#0d0887"
            ],
            [
             0.1111111111111111,
             "#46039f"
            ],
            [
             0.2222222222222222,
             "#7201a8"
            ],
            [
             0.3333333333333333,
             "#9c179e"
            ],
            [
             0.4444444444444444,
             "#bd3786"
            ],
            [
             0.5555555555555556,
             "#d8576b"
            ],
            [
             0.6666666666666666,
             "#ed7953"
            ],
            [
             0.7777777777777778,
             "#fb9f3a"
            ],
            [
             0.8888888888888888,
             "#fdca26"
            ],
            [
             1,
             "#f0f921"
            ]
           ],
           "sequentialminus": [
            [
             0,
             "#0d0887"
            ],
            [
             0.1111111111111111,
             "#46039f"
            ],
            [
             0.2222222222222222,
             "#7201a8"
            ],
            [
             0.3333333333333333,
             "#9c179e"
            ],
            [
             0.4444444444444444,
             "#bd3786"
            ],
            [
             0.5555555555555556,
             "#d8576b"
            ],
            [
             0.6666666666666666,
             "#ed7953"
            ],
            [
             0.7777777777777778,
             "#fb9f3a"
            ],
            [
             0.8888888888888888,
             "#fdca26"
            ],
            [
             1,
             "#f0f921"
            ]
           ]
          },
          "colorway": [
           "#636efa",
           "#EF553B",
           "#00cc96",
           "#ab63fa",
           "#FFA15A",
           "#19d3f3",
           "#FF6692",
           "#B6E880",
           "#FF97FF",
           "#FECB52"
          ],
          "font": {
           "color": "#2a3f5f"
          },
          "geo": {
           "bgcolor": "white",
           "lakecolor": "white",
           "landcolor": "#E5ECF6",
           "showlakes": true,
           "showland": true,
           "subunitcolor": "white"
          },
          "hoverlabel": {
           "align": "left"
          },
          "hovermode": "closest",
          "mapbox": {
           "style": "light"
          },
          "paper_bgcolor": "white",
          "plot_bgcolor": "#E5ECF6",
          "polar": {
           "angularaxis": {
            "gridcolor": "white",
            "linecolor": "white",
            "ticks": ""
           },
           "bgcolor": "#E5ECF6",
           "radialaxis": {
            "gridcolor": "white",
            "linecolor": "white",
            "ticks": ""
           }
          },
          "scene": {
           "xaxis": {
            "backgroundcolor": "#E5ECF6",
            "gridcolor": "white",
            "gridwidth": 2,
            "linecolor": "white",
            "showbackground": true,
            "ticks": "",
            "zerolinecolor": "white"
           },
           "yaxis": {
            "backgroundcolor": "#E5ECF6",
            "gridcolor": "white",
            "gridwidth": 2,
            "linecolor": "white",
            "showbackground": true,
            "ticks": "",
            "zerolinecolor": "white"
           },
           "zaxis": {
            "backgroundcolor": "#E5ECF6",
            "gridcolor": "white",
            "gridwidth": 2,
            "linecolor": "white",
            "showbackground": true,
            "ticks": "",
            "zerolinecolor": "white"
           }
          },
          "shapedefaults": {
           "line": {
            "color": "#2a3f5f"
           }
          },
          "ternary": {
           "aaxis": {
            "gridcolor": "white",
            "linecolor": "white",
            "ticks": ""
           },
           "baxis": {
            "gridcolor": "white",
            "linecolor": "white",
            "ticks": ""
           },
           "bgcolor": "#E5ECF6",
           "caxis": {
            "gridcolor": "white",
            "linecolor": "white",
            "ticks": ""
           }
          },
          "title": {
           "x": 0.05
          },
          "xaxis": {
           "automargin": true,
           "gridcolor": "white",
           "linecolor": "white",
           "ticks": "",
           "title": {
            "standoff": 15
           },
           "zerolinecolor": "white",
           "zerolinewidth": 2
          },
          "yaxis": {
           "automargin": true,
           "gridcolor": "white",
           "linecolor": "white",
           "ticks": "",
           "title": {
            "standoff": 15
           },
           "zerolinecolor": "white",
           "zerolinewidth": 2
          }
         }
        },
        "title": {
         "font": {
          "color": "#4D5663"
         }
        },
        "xaxis": {
         "gridcolor": "#E1E5ED",
         "showgrid": true,
         "tickfont": {
          "color": "#4D5663"
         },
         "title": {
          "font": {
           "color": "#4D5663"
          },
          "text": ""
         },
         "zerolinecolor": "#E1E5ED"
        },
        "yaxis": {
         "gridcolor": "#E1E5ED",
         "showgrid": true,
         "tickfont": {
          "color": "#4D5663"
         },
         "title": {
          "font": {
           "color": "#4D5663"
          },
          "text": ""
         },
         "zerolinecolor": "#E1E5ED"
        }
       }
      },
      "text/html": "<div>                            <div id=\"74ab3dd9-77ed-440a-b459-36cd03b2beb9\" class=\"plotly-graph-div\" style=\"height:525px; width:100%;\"></div>            <script type=\"text/javascript\">                require([\"plotly\"], function(Plotly) {                    window.PLOTLYENV=window.PLOTLYENV || {};\n                    window.PLOTLYENV.BASE_URL='https://plot.ly';                                    if (document.getElementById(\"74ab3dd9-77ed-440a-b459-36cd03b2beb9\")) {                    Plotly.newPlot(                        \"74ab3dd9-77ed-440a-b459-36cd03b2beb9\",                        [{\"line\": {\"color\": \"rgba(255, 153, 51, 1.0)\", \"dash\": \"solid\", \"shape\": \"linear\", \"width\": 1.3}, \"mode\": \"lines\", \"name\": \"B\", \"text\": \"\", \"type\": \"scatter\", \"x\": [-0.9792515936598923, 0.9598050055042266, 1.2879497854926978, -0.7580525281398575, 0.7395394550550108, 0.17019107169090317, -0.1293765011854134, 0.4456954392361662, 0.13772919772007583, -1.1475557380589023, 0.7148856836266592, 1.4579626985599747, 0.8874119734406709, 0.3072755156395645, 2.0957456279779065, 0.5899177376437668, 1.0364047408183756, 0.7388472871926347, 0.17950427668644467, 0.3680753376522049, 0.1368695577373032, 0.8159967349839087, -0.14844827589627468, 0.9610220648185201, 0.8403045958850671, 0.1539828413327248, -0.22403721645926258, -0.9886846475465637, -0.041097672863380195, -0.20336539740261284, -0.8272592313380914, -0.7377644328272414, 0.6228589278084802, 1.0167861280965602, -2.2412581790082666, -0.18088089665349677, 0.38747162796369533, -0.022976036922044408, -0.376997829574464, 0.12116576151183464, 0.004016022807814205, -1.8023654641354336, -0.8309213004133602, -0.37467942398393506, 0.16749391300381028, 2.157106901960888, 0.26801897806054975, -0.12917654316980617, -1.1921864240944327, 1.6144706272625435, 0.44154651927524047, -1.5248455068331284, -1.379729809199886, -0.3071048272960799, 0.11873027241721576, -0.18440988283347878, -1.5364079402765836, -1.7659951853905054, -1.1925247660678762, -0.3719050473318741, 0.9116004418673352, -1.2893901771054779, 0.3494224192856916, 0.12384105919512163, -0.2853887638156255, -0.05477890823051662, -0.13339681427823635, 0.002483580579456353, 0.6483924643575026, -1.7744604454121766, 0.051018691708484755, -0.20831087775659465, 1.2036245135778298, 0.37460006318208516, -0.007357554347866323, 0.5125991262014535, 0.0024173923945399363, -0.8563025126597791, -0.7617603492153533, -1.792629772347877, 0.360765760598241, -0.7718682940507207, 1.6886536550319722, 1.194024448998109, -0.417875534770027, 2.122611684514379, -0.20455142051435, -1.3193963771012482, -1.7879804873841585, 0.4066145570917323, 1.434386069614315, -0.5881888567526482, -1.2337031790890676, -0.7429661704558083, 0.0566414277132115, -1.2378557179328697, -0.43038873430261276, -2.5320354376990766, 0.7598237879841848, 0.48412359488350337], \"y\": [-0.0033035822899469052, 0.3142449677503647, -1.504523021926638, 1.0044432988561958, -0.3786281864931309, 1.6221183698918318, -0.6833666110514979, -0.09085898589503208, 0.4183024142850112, 0.1599510285795126, 0.4983380417069129, -2.38735035273387, -0.17484722770594668, -0.7024036572296523, -0.2377817653329279, 1.0463693206953972, -1.206970761077781, -0.27926473845743927, 0.024497475622231084, 0.07215395894711478, 0.8060503759899023, -0.10523700135619246, 0.4892495322097234, -1.6211612465614205, -0.9413730510682876, 0.5618878755989775, 1.148898697209982, -0.8603059741609684, -0.2545352736983566, 0.3221749143716371, 0.8184090970176358, 0.603400860775381, 0.29148084806096053, 1.2197382793191827, -0.11597682125807925, -0.993512699913698, 0.6287345083305073, -0.23713521257102554, -0.3097494760631051, -0.5890817405505082, -1.1603607004584577, 0.9875973705562235, -0.063031992142952, 0.5528356056102148, 0.9943802775983782, 1.5885704578261726, -0.9751179842350768, 0.6218820952952601, -2.0323297593875838, -0.5484199829062123, -0.12137817399783384, -1.2309977016776752, -0.9313693797491154, 0.2663840238711808, -1.6717292793656437, -0.4542443768926661, -0.2721841210031825, -2.536542463070985, 0.4847118496688762, -2.1214691330865127, -1.1620826355082072, -0.048986563425723995, -1.2645433415566478, 1.9997478527752839, 1.166476246332891, -3.103425838335752, -1.4438539094973724, 1.5718043608392394, -0.7335294160030932, -1.197965786647293, 1.0722513065522665, -0.7826362934224473, -0.49820503134543775, 1.5716627803037155, -0.005317290143883737, -0.3593653166820716, 1.5597095911561978, 1.0503815987596175, 0.3441039774821109, -0.04974121712467084, 0.008170229384752613, -0.9709058136802701, 2.417034408248457, -1.2124867561742774, 0.6046417869674267, -0.3585076795507522, 0.06705171160120478, 1.4546189083140886, -0.42913586866418607, -0.707992549805246, -2.096983049597022, 0.038373856459275275, 0.6579882416462015, 2.2386147056613295, -0.6608003396245523, -0.9953483586408077, 0.43580220111517376, -0.5404418613480602, 3.3467118532442397, 0.34927520878526047]}],                        {\"legend\": {\"bgcolor\": \"#F5F6F9\", \"font\": {\"color\": \"#4D5663\"}}, \"paper_bgcolor\": \"#F5F6F9\", \"plot_bgcolor\": \"#F5F6F9\", \"template\": {\"data\": {\"bar\": [{\"error_x\": {\"color\": \"#2a3f5f\"}, \"error_y\": {\"color\": \"#2a3f5f\"}, \"marker\": {\"line\": {\"color\": \"#E5ECF6\", \"width\": 0.5}}, \"type\": \"bar\"}], \"barpolar\": [{\"marker\": {\"line\": {\"color\": \"#E5ECF6\", \"width\": 0.5}}, \"type\": \"barpolar\"}], \"carpet\": [{\"aaxis\": {\"endlinecolor\": \"#2a3f5f\", \"gridcolor\": \"white\", \"linecolor\": \"white\", \"minorgridcolor\": \"white\", \"startlinecolor\": \"#2a3f5f\"}, \"baxis\": {\"endlinecolor\": \"#2a3f5f\", \"gridcolor\": \"white\", \"linecolor\": \"white\", \"minorgridcolor\": \"white\", \"startlinecolor\": \"#2a3f5f\"}, \"type\": \"carpet\"}], \"choropleth\": [{\"colorbar\": {\"outlinewidth\": 0, \"ticks\": \"\"}, \"type\": \"choropleth\"}], \"contour\": [{\"colorbar\": {\"outlinewidth\": 0, \"ticks\": \"\"}, \"colorscale\": [[0.0, \"#0d0887\"], [0.1111111111111111, \"#46039f\"], [0.2222222222222222, \"#7201a8\"], [0.3333333333333333, \"#9c179e\"], [0.4444444444444444, \"#bd3786\"], [0.5555555555555556, \"#d8576b\"], [0.6666666666666666, \"#ed7953\"], [0.7777777777777778, \"#fb9f3a\"], [0.8888888888888888, \"#fdca26\"], [1.0, \"#f0f921\"]], \"type\": \"contour\"}], \"contourcarpet\": [{\"colorbar\": {\"outlinewidth\": 0, \"ticks\": \"\"}, \"type\": \"contourcarpet\"}], \"heatmap\": [{\"colorbar\": {\"outlinewidth\": 0, \"ticks\": \"\"}, \"colorscale\": [[0.0, \"#0d0887\"], [0.1111111111111111, \"#46039f\"], [0.2222222222222222, \"#7201a8\"], [0.3333333333333333, \"#9c179e\"], [0.4444444444444444, \"#bd3786\"], [0.5555555555555556, \"#d8576b\"], [0.6666666666666666, \"#ed7953\"], [0.7777777777777778, \"#fb9f3a\"], [0.8888888888888888, \"#fdca26\"], [1.0, \"#f0f921\"]], \"type\": \"heatmap\"}], \"heatmapgl\": [{\"colorbar\": {\"outlinewidth\": 0, \"ticks\": \"\"}, \"colorscale\": [[0.0, \"#0d0887\"], [0.1111111111111111, \"#46039f\"], [0.2222222222222222, \"#7201a8\"], [0.3333333333333333, \"#9c179e\"], [0.4444444444444444, \"#bd3786\"], [0.5555555555555556, \"#d8576b\"], [0.6666666666666666, \"#ed7953\"], [0.7777777777777778, \"#fb9f3a\"], [0.8888888888888888, \"#fdca26\"], [1.0, \"#f0f921\"]], \"type\": \"heatmapgl\"}], \"histogram\": [{\"marker\": {\"colorbar\": {\"outlinewidth\": 0, \"ticks\": \"\"}}, \"type\": \"histogram\"}], \"histogram2d\": [{\"colorbar\": {\"outlinewidth\": 0, \"ticks\": \"\"}, \"colorscale\": [[0.0, \"#0d0887\"], [0.1111111111111111, \"#46039f\"], [0.2222222222222222, \"#7201a8\"], [0.3333333333333333, \"#9c179e\"], [0.4444444444444444, \"#bd3786\"], [0.5555555555555556, \"#d8576b\"], [0.6666666666666666, \"#ed7953\"], [0.7777777777777778, \"#fb9f3a\"], [0.8888888888888888, \"#fdca26\"], [1.0, \"#f0f921\"]], \"type\": \"histogram2d\"}], \"histogram2dcontour\": [{\"colorbar\": {\"outlinewidth\": 0, \"ticks\": \"\"}, \"colorscale\": [[0.0, \"#0d0887\"], [0.1111111111111111, \"#46039f\"], [0.2222222222222222, \"#7201a8\"], [0.3333333333333333, \"#9c179e\"], [0.4444444444444444, \"#bd3786\"], [0.5555555555555556, \"#d8576b\"], [0.6666666666666666, \"#ed7953\"], [0.7777777777777778, \"#fb9f3a\"], [0.8888888888888888, \"#fdca26\"], [1.0, \"#f0f921\"]], \"type\": \"histogram2dcontour\"}], \"mesh3d\": [{\"colorbar\": {\"outlinewidth\": 0, \"ticks\": \"\"}, \"type\": \"mesh3d\"}], \"parcoords\": [{\"line\": {\"colorbar\": {\"outlinewidth\": 0, \"ticks\": \"\"}}, \"type\": \"parcoords\"}], \"pie\": [{\"automargin\": true, \"type\": \"pie\"}], \"scatter\": [{\"marker\": {\"colorbar\": {\"outlinewidth\": 0, \"ticks\": \"\"}}, \"type\": \"scatter\"}], \"scatter3d\": [{\"line\": {\"colorbar\": {\"outlinewidth\": 0, \"ticks\": \"\"}}, \"marker\": {\"colorbar\": {\"outlinewidth\": 0, \"ticks\": \"\"}}, \"type\": \"scatter3d\"}], \"scattercarpet\": [{\"marker\": {\"colorbar\": {\"outlinewidth\": 0, \"ticks\": \"\"}}, \"type\": \"scattercarpet\"}], \"scattergeo\": [{\"marker\": {\"colorbar\": {\"outlinewidth\": 0, \"ticks\": \"\"}}, \"type\": \"scattergeo\"}], \"scattergl\": [{\"marker\": {\"colorbar\": {\"outlinewidth\": 0, \"ticks\": \"\"}}, \"type\": \"scattergl\"}], \"scattermapbox\": [{\"marker\": {\"colorbar\": {\"outlinewidth\": 0, \"ticks\": \"\"}}, \"type\": \"scattermapbox\"}], \"scatterpolar\": [{\"marker\": {\"colorbar\": {\"outlinewidth\": 0, \"ticks\": \"\"}}, \"type\": \"scatterpolar\"}], \"scatterpolargl\": [{\"marker\": {\"colorbar\": {\"outlinewidth\": 0, \"ticks\": \"\"}}, \"type\": \"scatterpolargl\"}], \"scatterternary\": [{\"marker\": {\"colorbar\": {\"outlinewidth\": 0, \"ticks\": \"\"}}, \"type\": \"scatterternary\"}], \"surface\": [{\"colorbar\": {\"outlinewidth\": 0, \"ticks\": \"\"}, \"colorscale\": [[0.0, \"#0d0887\"], [0.1111111111111111, \"#46039f\"], [0.2222222222222222, \"#7201a8\"], [0.3333333333333333, \"#9c179e\"], [0.4444444444444444, \"#bd3786\"], [0.5555555555555556, \"#d8576b\"], [0.6666666666666666, \"#ed7953\"], [0.7777777777777778, \"#fb9f3a\"], [0.8888888888888888, \"#fdca26\"], [1.0, \"#f0f921\"]], \"type\": \"surface\"}], \"table\": [{\"cells\": {\"fill\": {\"color\": \"#EBF0F8\"}, \"line\": {\"color\": \"white\"}}, \"header\": {\"fill\": {\"color\": \"#C8D4E3\"}, \"line\": {\"color\": \"white\"}}, \"type\": \"table\"}]}, \"layout\": {\"annotationdefaults\": {\"arrowcolor\": \"#2a3f5f\", \"arrowhead\": 0, \"arrowwidth\": 1}, \"autotypenumbers\": \"strict\", \"coloraxis\": {\"colorbar\": {\"outlinewidth\": 0, \"ticks\": \"\"}}, \"colorscale\": {\"diverging\": [[0, \"#8e0152\"], [0.1, \"#c51b7d\"], [0.2, \"#de77ae\"], [0.3, \"#f1b6da\"], [0.4, \"#fde0ef\"], [0.5, \"#f7f7f7\"], [0.6, \"#e6f5d0\"], [0.7, \"#b8e186\"], [0.8, \"#7fbc41\"], [0.9, \"#4d9221\"], [1, \"#276419\"]], \"sequential\": [[0.0, \"#0d0887\"], [0.1111111111111111, \"#46039f\"], [0.2222222222222222, \"#7201a8\"], [0.3333333333333333, \"#9c179e\"], [0.4444444444444444, \"#bd3786\"], [0.5555555555555556, \"#d8576b\"], [0.6666666666666666, \"#ed7953\"], [0.7777777777777778, \"#fb9f3a\"], [0.8888888888888888, \"#fdca26\"], [1.0, \"#f0f921\"]], \"sequentialminus\": [[0.0, \"#0d0887\"], [0.1111111111111111, \"#46039f\"], [0.2222222222222222, \"#7201a8\"], [0.3333333333333333, \"#9c179e\"], [0.4444444444444444, \"#bd3786\"], [0.5555555555555556, \"#d8576b\"], [0.6666666666666666, \"#ed7953\"], [0.7777777777777778, \"#fb9f3a\"], [0.8888888888888888, \"#fdca26\"], [1.0, \"#f0f921\"]]}, \"colorway\": [\"#636efa\", \"#EF553B\", \"#00cc96\", \"#ab63fa\", \"#FFA15A\", \"#19d3f3\", \"#FF6692\", \"#B6E880\", \"#FF97FF\", \"#FECB52\"], \"font\": {\"color\": \"#2a3f5f\"}, \"geo\": {\"bgcolor\": \"white\", \"lakecolor\": \"white\", \"landcolor\": \"#E5ECF6\", \"showlakes\": true, \"showland\": true, \"subunitcolor\": \"white\"}, \"hoverlabel\": {\"align\": \"left\"}, \"hovermode\": \"closest\", \"mapbox\": {\"style\": \"light\"}, \"paper_bgcolor\": \"white\", \"plot_bgcolor\": \"#E5ECF6\", \"polar\": {\"angularaxis\": {\"gridcolor\": \"white\", \"linecolor\": \"white\", \"ticks\": \"\"}, \"bgcolor\": \"#E5ECF6\", \"radialaxis\": {\"gridcolor\": \"white\", \"linecolor\": \"white\", \"ticks\": \"\"}}, \"scene\": {\"xaxis\": {\"backgroundcolor\": \"#E5ECF6\", \"gridcolor\": \"white\", \"gridwidth\": 2, \"linecolor\": \"white\", \"showbackground\": true, \"ticks\": \"\", \"zerolinecolor\": \"white\"}, \"yaxis\": {\"backgroundcolor\": \"#E5ECF6\", \"gridcolor\": \"white\", \"gridwidth\": 2, \"linecolor\": \"white\", \"showbackground\": true, \"ticks\": \"\", \"zerolinecolor\": \"white\"}, \"zaxis\": {\"backgroundcolor\": \"#E5ECF6\", \"gridcolor\": \"white\", \"gridwidth\": 2, \"linecolor\": \"white\", \"showbackground\": true, \"ticks\": \"\", \"zerolinecolor\": \"white\"}}, \"shapedefaults\": {\"line\": {\"color\": \"#2a3f5f\"}}, \"ternary\": {\"aaxis\": {\"gridcolor\": \"white\", \"linecolor\": \"white\", \"ticks\": \"\"}, \"baxis\": {\"gridcolor\": \"white\", \"linecolor\": \"white\", \"ticks\": \"\"}, \"bgcolor\": \"#E5ECF6\", \"caxis\": {\"gridcolor\": \"white\", \"linecolor\": \"white\", \"ticks\": \"\"}}, \"title\": {\"x\": 0.05}, \"xaxis\": {\"automargin\": true, \"gridcolor\": \"white\", \"linecolor\": \"white\", \"ticks\": \"\", \"title\": {\"standoff\": 15}, \"zerolinecolor\": \"white\", \"zerolinewidth\": 2}, \"yaxis\": {\"automargin\": true, \"gridcolor\": \"white\", \"linecolor\": \"white\", \"ticks\": \"\", \"title\": {\"standoff\": 15}, \"zerolinecolor\": \"white\", \"zerolinewidth\": 2}}}, \"title\": {\"font\": {\"color\": \"#4D5663\"}}, \"xaxis\": {\"gridcolor\": \"#E1E5ED\", \"showgrid\": true, \"tickfont\": {\"color\": \"#4D5663\"}, \"title\": {\"font\": {\"color\": \"#4D5663\"}, \"text\": \"\"}, \"zerolinecolor\": \"#E1E5ED\"}, \"yaxis\": {\"gridcolor\": \"#E1E5ED\", \"showgrid\": true, \"tickfont\": {\"color\": \"#4D5663\"}, \"title\": {\"font\": {\"color\": \"#4D5663\"}, \"text\": \"\"}, \"zerolinecolor\": \"#E1E5ED\"}},                        {\"showLink\": true, \"linkText\": \"Export to plot.ly\", \"plotlyServerURL\": \"https://plot.ly\", \"responsive\": true}                    ).then(function(){\n                            \nvar gd = document.getElementById('74ab3dd9-77ed-440a-b459-36cd03b2beb9');\nvar x = new MutationObserver(function (mutations, observer) {{\n        var display = window.getComputedStyle(gd).display;\n        if (!display || display === 'none') {{\n            console.log([gd, 'removed!']);\n            Plotly.purge(gd);\n            observer.disconnect();\n        }}\n}});\n\n// Listen for the removal of the full notebook cells\nvar notebookContainer = gd.closest('#notebook-container');\nif (notebookContainer) {{\n    x.observe(notebookContainer, {childList: true});\n}}\n\n// Listen for the clearing of the current output cell\nvar outputEl = gd.closest('.output');\nif (outputEl) {{\n    x.observe(outputEl, {childList: true});\n}}\n\n                        })                };                });            </script>        </div>"
     },
     "metadata": {}
    }
   ],
   "source": [
    "# In plotly\n",
    "df.iplot(kind='scatter', x='A', y='B')  # This is basically lineplot"
   ]
  },
  {
   "cell_type": "code",
   "execution_count": 91,
   "metadata": {},
   "outputs": [
    {
     "output_type": "display_data",
     "data": {
      "application/vnd.plotly.v1+json": {
       "config": {
        "linkText": "Export to plot.ly",
        "plotlyServerURL": "https://plot.ly",
        "showLink": true
       },
       "data": [
        {
         "line": {
          "color": "rgba(219, 64, 82, 1.0)",
          "dash": "solid",
          "shape": "linear",
          "width": 1.3
         },
         "marker": {
          "size": 12,
          "symbol": "circle"
         },
         "mode": "markers",
         "name": "B",
         "text": "",
         "type": "scatter",
         "x": [
          -0.9792515936598923,
          0.9598050055042266,
          1.2879497854926978,
          -0.7580525281398575,
          0.7395394550550108,
          0.17019107169090317,
          -0.1293765011854134,
          0.4456954392361662,
          0.13772919772007583,
          -1.1475557380589023,
          0.7148856836266592,
          1.4579626985599747,
          0.8874119734406709,
          0.3072755156395645,
          2.0957456279779065,
          0.5899177376437668,
          1.0364047408183756,
          0.7388472871926347,
          0.17950427668644467,
          0.3680753376522049,
          0.1368695577373032,
          0.8159967349839087,
          -0.14844827589627468,
          0.9610220648185201,
          0.8403045958850671,
          0.1539828413327248,
          -0.22403721645926258,
          -0.9886846475465637,
          -0.041097672863380195,
          -0.20336539740261284,
          -0.8272592313380914,
          -0.7377644328272414,
          0.6228589278084802,
          1.0167861280965602,
          -2.2412581790082666,
          -0.18088089665349677,
          0.38747162796369533,
          -0.022976036922044408,
          -0.376997829574464,
          0.12116576151183464,
          0.004016022807814205,
          -1.8023654641354336,
          -0.8309213004133602,
          -0.37467942398393506,
          0.16749391300381028,
          2.157106901960888,
          0.26801897806054975,
          -0.12917654316980617,
          -1.1921864240944327,
          1.6144706272625435,
          0.44154651927524047,
          -1.5248455068331284,
          -1.379729809199886,
          -0.3071048272960799,
          0.11873027241721576,
          -0.18440988283347878,
          -1.5364079402765836,
          -1.7659951853905054,
          -1.1925247660678762,
          -0.3719050473318741,
          0.9116004418673352,
          -1.2893901771054779,
          0.3494224192856916,
          0.12384105919512163,
          -0.2853887638156255,
          -0.05477890823051662,
          -0.13339681427823635,
          0.002483580579456353,
          0.6483924643575026,
          -1.7744604454121766,
          0.051018691708484755,
          -0.20831087775659465,
          1.2036245135778298,
          0.37460006318208516,
          -0.007357554347866323,
          0.5125991262014535,
          0.0024173923945399363,
          -0.8563025126597791,
          -0.7617603492153533,
          -1.792629772347877,
          0.360765760598241,
          -0.7718682940507207,
          1.6886536550319722,
          1.194024448998109,
          -0.417875534770027,
          2.122611684514379,
          -0.20455142051435,
          -1.3193963771012482,
          -1.7879804873841585,
          0.4066145570917323,
          1.434386069614315,
          -0.5881888567526482,
          -1.2337031790890676,
          -0.7429661704558083,
          0.0566414277132115,
          -1.2378557179328697,
          -0.43038873430261276,
          -2.5320354376990766,
          0.7598237879841848,
          0.48412359488350337
         ],
         "y": [
          -0.0033035822899469052,
          0.3142449677503647,
          -1.504523021926638,
          1.0044432988561958,
          -0.3786281864931309,
          1.6221183698918318,
          -0.6833666110514979,
          -0.09085898589503208,
          0.4183024142850112,
          0.1599510285795126,
          0.4983380417069129,
          -2.38735035273387,
          -0.17484722770594668,
          -0.7024036572296523,
          -0.2377817653329279,
          1.0463693206953972,
          -1.206970761077781,
          -0.27926473845743927,
          0.024497475622231084,
          0.07215395894711478,
          0.8060503759899023,
          -0.10523700135619246,
          0.4892495322097234,
          -1.6211612465614205,
          -0.9413730510682876,
          0.5618878755989775,
          1.148898697209982,
          -0.8603059741609684,
          -0.2545352736983566,
          0.3221749143716371,
          0.8184090970176358,
          0.603400860775381,
          0.29148084806096053,
          1.2197382793191827,
          -0.11597682125807925,
          -0.993512699913698,
          0.6287345083305073,
          -0.23713521257102554,
          -0.3097494760631051,
          -0.5890817405505082,
          -1.1603607004584577,
          0.9875973705562235,
          -0.063031992142952,
          0.5528356056102148,
          0.9943802775983782,
          1.5885704578261726,
          -0.9751179842350768,
          0.6218820952952601,
          -2.0323297593875838,
          -0.5484199829062123,
          -0.12137817399783384,
          -1.2309977016776752,
          -0.9313693797491154,
          0.2663840238711808,
          -1.6717292793656437,
          -0.4542443768926661,
          -0.2721841210031825,
          -2.536542463070985,
          0.4847118496688762,
          -2.1214691330865127,
          -1.1620826355082072,
          -0.048986563425723995,
          -1.2645433415566478,
          1.9997478527752839,
          1.166476246332891,
          -3.103425838335752,
          -1.4438539094973724,
          1.5718043608392394,
          -0.7335294160030932,
          -1.197965786647293,
          1.0722513065522665,
          -0.7826362934224473,
          -0.49820503134543775,
          1.5716627803037155,
          -0.005317290143883737,
          -0.3593653166820716,
          1.5597095911561978,
          1.0503815987596175,
          0.3441039774821109,
          -0.04974121712467084,
          0.008170229384752613,
          -0.9709058136802701,
          2.417034408248457,
          -1.2124867561742774,
          0.6046417869674267,
          -0.3585076795507522,
          0.06705171160120478,
          1.4546189083140886,
          -0.42913586866418607,
          -0.707992549805246,
          -2.096983049597022,
          0.038373856459275275,
          0.6579882416462015,
          2.2386147056613295,
          -0.6608003396245523,
          -0.9953483586408077,
          0.43580220111517376,
          -0.5404418613480602,
          3.3467118532442397,
          0.34927520878526047
         ]
        }
       ],
       "layout": {
        "legend": {
         "bgcolor": "#151516",
         "font": {
          "color": "#D9D9D9"
         }
        },
        "paper_bgcolor": "#151516",
        "plot_bgcolor": "#151516",
        "template": {
         "data": {
          "bar": [
           {
            "error_x": {
             "color": "#2a3f5f"
            },
            "error_y": {
             "color": "#2a3f5f"
            },
            "marker": {
             "line": {
              "color": "#E5ECF6",
              "width": 0.5
             }
            },
            "type": "bar"
           }
          ],
          "barpolar": [
           {
            "marker": {
             "line": {
              "color": "#E5ECF6",
              "width": 0.5
             }
            },
            "type": "barpolar"
           }
          ],
          "carpet": [
           {
            "aaxis": {
             "endlinecolor": "#2a3f5f",
             "gridcolor": "white",
             "linecolor": "white",
             "minorgridcolor": "white",
             "startlinecolor": "#2a3f5f"
            },
            "baxis": {
             "endlinecolor": "#2a3f5f",
             "gridcolor": "white",
             "linecolor": "white",
             "minorgridcolor": "white",
             "startlinecolor": "#2a3f5f"
            },
            "type": "carpet"
           }
          ],
          "choropleth": [
           {
            "colorbar": {
             "outlinewidth": 0,
             "ticks": ""
            },
            "type": "choropleth"
           }
          ],
          "contour": [
           {
            "colorbar": {
             "outlinewidth": 0,
             "ticks": ""
            },
            "colorscale": [
             [
              0,
              "#0d0887"
             ],
             [
              0.1111111111111111,
              "#46039f"
             ],
             [
              0.2222222222222222,
              "#7201a8"
             ],
             [
              0.3333333333333333,
              "#9c179e"
             ],
             [
              0.4444444444444444,
              "#bd3786"
             ],
             [
              0.5555555555555556,
              "#d8576b"
             ],
             [
              0.6666666666666666,
              "#ed7953"
             ],
             [
              0.7777777777777778,
              "#fb9f3a"
             ],
             [
              0.8888888888888888,
              "#fdca26"
             ],
             [
              1,
              "#f0f921"
             ]
            ],
            "type": "contour"
           }
          ],
          "contourcarpet": [
           {
            "colorbar": {
             "outlinewidth": 0,
             "ticks": ""
            },
            "type": "contourcarpet"
           }
          ],
          "heatmap": [
           {
            "colorbar": {
             "outlinewidth": 0,
             "ticks": ""
            },
            "colorscale": [
             [
              0,
              "#0d0887"
             ],
             [
              0.1111111111111111,
              "#46039f"
             ],
             [
              0.2222222222222222,
              "#7201a8"
             ],
             [
              0.3333333333333333,
              "#9c179e"
             ],
             [
              0.4444444444444444,
              "#bd3786"
             ],
             [
              0.5555555555555556,
              "#d8576b"
             ],
             [
              0.6666666666666666,
              "#ed7953"
             ],
             [
              0.7777777777777778,
              "#fb9f3a"
             ],
             [
              0.8888888888888888,
              "#fdca26"
             ],
             [
              1,
              "#f0f921"
             ]
            ],
            "type": "heatmap"
           }
          ],
          "heatmapgl": [
           {
            "colorbar": {
             "outlinewidth": 0,
             "ticks": ""
            },
            "colorscale": [
             [
              0,
              "#0d0887"
             ],
             [
              0.1111111111111111,
              "#46039f"
             ],
             [
              0.2222222222222222,
              "#7201a8"
             ],
             [
              0.3333333333333333,
              "#9c179e"
             ],
             [
              0.4444444444444444,
              "#bd3786"
             ],
             [
              0.5555555555555556,
              "#d8576b"
             ],
             [
              0.6666666666666666,
              "#ed7953"
             ],
             [
              0.7777777777777778,
              "#fb9f3a"
             ],
             [
              0.8888888888888888,
              "#fdca26"
             ],
             [
              1,
              "#f0f921"
             ]
            ],
            "type": "heatmapgl"
           }
          ],
          "histogram": [
           {
            "marker": {
             "colorbar": {
              "outlinewidth": 0,
              "ticks": ""
             }
            },
            "type": "histogram"
           }
          ],
          "histogram2d": [
           {
            "colorbar": {
             "outlinewidth": 0,
             "ticks": ""
            },
            "colorscale": [
             [
              0,
              "#0d0887"
             ],
             [
              0.1111111111111111,
              "#46039f"
             ],
             [
              0.2222222222222222,
              "#7201a8"
             ],
             [
              0.3333333333333333,
              "#9c179e"
             ],
             [
              0.4444444444444444,
              "#bd3786"
             ],
             [
              0.5555555555555556,
              "#d8576b"
             ],
             [
              0.6666666666666666,
              "#ed7953"
             ],
             [
              0.7777777777777778,
              "#fb9f3a"
             ],
             [
              0.8888888888888888,
              "#fdca26"
             ],
             [
              1,
              "#f0f921"
             ]
            ],
            "type": "histogram2d"
           }
          ],
          "histogram2dcontour": [
           {
            "colorbar": {
             "outlinewidth": 0,
             "ticks": ""
            },
            "colorscale": [
             [
              0,
              "#0d0887"
             ],
             [
              0.1111111111111111,
              "#46039f"
             ],
             [
              0.2222222222222222,
              "#7201a8"
             ],
             [
              0.3333333333333333,
              "#9c179e"
             ],
             [
              0.4444444444444444,
              "#bd3786"
             ],
             [
              0.5555555555555556,
              "#d8576b"
             ],
             [
              0.6666666666666666,
              "#ed7953"
             ],
             [
              0.7777777777777778,
              "#fb9f3a"
             ],
             [
              0.8888888888888888,
              "#fdca26"
             ],
             [
              1,
              "#f0f921"
             ]
            ],
            "type": "histogram2dcontour"
           }
          ],
          "mesh3d": [
           {
            "colorbar": {
             "outlinewidth": 0,
             "ticks": ""
            },
            "type": "mesh3d"
           }
          ],
          "parcoords": [
           {
            "line": {
             "colorbar": {
              "outlinewidth": 0,
              "ticks": ""
             }
            },
            "type": "parcoords"
           }
          ],
          "pie": [
           {
            "automargin": true,
            "type": "pie"
           }
          ],
          "scatter": [
           {
            "marker": {
             "colorbar": {
              "outlinewidth": 0,
              "ticks": ""
             }
            },
            "type": "scatter"
           }
          ],
          "scatter3d": [
           {
            "line": {
             "colorbar": {
              "outlinewidth": 0,
              "ticks": ""
             }
            },
            "marker": {
             "colorbar": {
              "outlinewidth": 0,
              "ticks": ""
             }
            },
            "type": "scatter3d"
           }
          ],
          "scattercarpet": [
           {
            "marker": {
             "colorbar": {
              "outlinewidth": 0,
              "ticks": ""
             }
            },
            "type": "scattercarpet"
           }
          ],
          "scattergeo": [
           {
            "marker": {
             "colorbar": {
              "outlinewidth": 0,
              "ticks": ""
             }
            },
            "type": "scattergeo"
           }
          ],
          "scattergl": [
           {
            "marker": {
             "colorbar": {
              "outlinewidth": 0,
              "ticks": ""
             }
            },
            "type": "scattergl"
           }
          ],
          "scattermapbox": [
           {
            "marker": {
             "colorbar": {
              "outlinewidth": 0,
              "ticks": ""
             }
            },
            "type": "scattermapbox"
           }
          ],
          "scatterpolar": [
           {
            "marker": {
             "colorbar": {
              "outlinewidth": 0,
              "ticks": ""
             }
            },
            "type": "scatterpolar"
           }
          ],
          "scatterpolargl": [
           {
            "marker": {
             "colorbar": {
              "outlinewidth": 0,
              "ticks": ""
             }
            },
            "type": "scatterpolargl"
           }
          ],
          "scatterternary": [
           {
            "marker": {
             "colorbar": {
              "outlinewidth": 0,
              "ticks": ""
             }
            },
            "type": "scatterternary"
           }
          ],
          "surface": [
           {
            "colorbar": {
             "outlinewidth": 0,
             "ticks": ""
            },
            "colorscale": [
             [
              0,
              "#0d0887"
             ],
             [
              0.1111111111111111,
              "#46039f"
             ],
             [
              0.2222222222222222,
              "#7201a8"
             ],
             [
              0.3333333333333333,
              "#9c179e"
             ],
             [
              0.4444444444444444,
              "#bd3786"
             ],
             [
              0.5555555555555556,
              "#d8576b"
             ],
             [
              0.6666666666666666,
              "#ed7953"
             ],
             [
              0.7777777777777778,
              "#fb9f3a"
             ],
             [
              0.8888888888888888,
              "#fdca26"
             ],
             [
              1,
              "#f0f921"
             ]
            ],
            "type": "surface"
           }
          ],
          "table": [
           {
            "cells": {
             "fill": {
              "color": "#EBF0F8"
             },
             "line": {
              "color": "white"
             }
            },
            "header": {
             "fill": {
              "color": "#C8D4E3"
             },
             "line": {
              "color": "white"
             }
            },
            "type": "table"
           }
          ]
         },
         "layout": {
          "annotationdefaults": {
           "arrowcolor": "#2a3f5f",
           "arrowhead": 0,
           "arrowwidth": 1
          },
          "autotypenumbers": "strict",
          "coloraxis": {
           "colorbar": {
            "outlinewidth": 0,
            "ticks": ""
           }
          },
          "colorscale": {
           "diverging": [
            [
             0,
             "#8e0152"
            ],
            [
             0.1,
             "#c51b7d"
            ],
            [
             0.2,
             "#de77ae"
            ],
            [
             0.3,
             "#f1b6da"
            ],
            [
             0.4,
             "#fde0ef"
            ],
            [
             0.5,
             "#f7f7f7"
            ],
            [
             0.6,
             "#e6f5d0"
            ],
            [
             0.7,
             "#b8e186"
            ],
            [
             0.8,
             "#7fbc41"
            ],
            [
             0.9,
             "#4d9221"
            ],
            [
             1,
             "#276419"
            ]
           ],
           "sequential": [
            [
             0,
             "#0d0887"
            ],
            [
             0.1111111111111111,
             "#46039f"
            ],
            [
             0.2222222222222222,
             "#7201a8"
            ],
            [
             0.3333333333333333,
             "#9c179e"
            ],
            [
             0.4444444444444444,
             "#bd3786"
            ],
            [
             0.5555555555555556,
             "#d8576b"
            ],
            [
             0.6666666666666666,
             "#ed7953"
            ],
            [
             0.7777777777777778,
             "#fb9f3a"
            ],
            [
             0.8888888888888888,
             "#fdca26"
            ],
            [
             1,
             "#f0f921"
            ]
           ],
           "sequentialminus": [
            [
             0,
             "#0d0887"
            ],
            [
             0.1111111111111111,
             "#46039f"
            ],
            [
             0.2222222222222222,
             "#7201a8"
            ],
            [
             0.3333333333333333,
             "#9c179e"
            ],
            [
             0.4444444444444444,
             "#bd3786"
            ],
            [
             0.5555555555555556,
             "#d8576b"
            ],
            [
             0.6666666666666666,
             "#ed7953"
            ],
            [
             0.7777777777777778,
             "#fb9f3a"
            ],
            [
             0.8888888888888888,
             "#fdca26"
            ],
            [
             1,
             "#f0f921"
            ]
           ]
          },
          "colorway": [
           "#636efa",
           "#EF553B",
           "#00cc96",
           "#ab63fa",
           "#FFA15A",
           "#19d3f3",
           "#FF6692",
           "#B6E880",
           "#FF97FF",
           "#FECB52"
          ],
          "font": {
           "color": "#2a3f5f"
          },
          "geo": {
           "bgcolor": "white",
           "lakecolor": "white",
           "landcolor": "#E5ECF6",
           "showlakes": true,
           "showland": true,
           "subunitcolor": "white"
          },
          "hoverlabel": {
           "align": "left"
          },
          "hovermode": "closest",
          "mapbox": {
           "style": "light"
          },
          "paper_bgcolor": "white",
          "plot_bgcolor": "#E5ECF6",
          "polar": {
           "angularaxis": {
            "gridcolor": "white",
            "linecolor": "white",
            "ticks": ""
           },
           "bgcolor": "#E5ECF6",
           "radialaxis": {
            "gridcolor": "white",
            "linecolor": "white",
            "ticks": ""
           }
          },
          "scene": {
           "xaxis": {
            "backgroundcolor": "#E5ECF6",
            "gridcolor": "white",
            "gridwidth": 2,
            "linecolor": "white",
            "showbackground": true,
            "ticks": "",
            "zerolinecolor": "white"
           },
           "yaxis": {
            "backgroundcolor": "#E5ECF6",
            "gridcolor": "white",
            "gridwidth": 2,
            "linecolor": "white",
            "showbackground": true,
            "ticks": "",
            "zerolinecolor": "white"
           },
           "zaxis": {
            "backgroundcolor": "#E5ECF6",
            "gridcolor": "white",
            "gridwidth": 2,
            "linecolor": "white",
            "showbackground": true,
            "ticks": "",
            "zerolinecolor": "white"
           }
          },
          "shapedefaults": {
           "line": {
            "color": "#2a3f5f"
           }
          },
          "ternary": {
           "aaxis": {
            "gridcolor": "white",
            "linecolor": "white",
            "ticks": ""
           },
           "baxis": {
            "gridcolor": "white",
            "linecolor": "white",
            "ticks": ""
           },
           "bgcolor": "#E5ECF6",
           "caxis": {
            "gridcolor": "white",
            "linecolor": "white",
            "ticks": ""
           }
          },
          "title": {
           "x": 0.05
          },
          "xaxis": {
           "automargin": true,
           "gridcolor": "white",
           "linecolor": "white",
           "ticks": "",
           "title": {
            "standoff": 15
           },
           "zerolinecolor": "white",
           "zerolinewidth": 2
          },
          "yaxis": {
           "automargin": true,
           "gridcolor": "white",
           "linecolor": "white",
           "ticks": "",
           "title": {
            "standoff": 15
           },
           "zerolinecolor": "white",
           "zerolinewidth": 2
          }
         }
        },
        "title": {
         "font": {
          "color": "#D9D9D9"
         }
        },
        "xaxis": {
         "gridcolor": "grey",
         "showgrid": true,
         "tickfont": {
          "color": "#C2C2C2"
         },
         "title": {
          "font": {
           "color": "#D9D9D9"
          },
          "text": ""
         },
         "zerolinecolor": "#666570"
        },
        "yaxis": {
         "gridcolor": "grey",
         "showgrid": true,
         "tickfont": {
          "color": "#C2C2C2"
         },
         "title": {
          "font": {
           "color": "#D9D9D9"
          },
          "text": ""
         },
         "zerolinecolor": "#666570"
        }
       }
      },
      "text/html": "<div>                            <div id=\"bb4f330d-0188-4aa7-ba4b-6a30b4019065\" class=\"plotly-graph-div\" style=\"height:525px; width:100%;\"></div>            <script type=\"text/javascript\">                require([\"plotly\"], function(Plotly) {                    window.PLOTLYENV=window.PLOTLYENV || {};\n                    window.PLOTLYENV.BASE_URL='https://plot.ly';                                    if (document.getElementById(\"bb4f330d-0188-4aa7-ba4b-6a30b4019065\")) {                    Plotly.newPlot(                        \"bb4f330d-0188-4aa7-ba4b-6a30b4019065\",                        [{\"line\": {\"color\": \"rgba(219, 64, 82, 1.0)\", \"dash\": \"solid\", \"shape\": \"linear\", \"width\": 1.3}, \"marker\": {\"size\": 12, \"symbol\": \"circle\"}, \"mode\": \"markers\", \"name\": \"B\", \"text\": \"\", \"type\": \"scatter\", \"x\": [-0.9792515936598923, 0.9598050055042266, 1.2879497854926978, -0.7580525281398575, 0.7395394550550108, 0.17019107169090317, -0.1293765011854134, 0.4456954392361662, 0.13772919772007583, -1.1475557380589023, 0.7148856836266592, 1.4579626985599747, 0.8874119734406709, 0.3072755156395645, 2.0957456279779065, 0.5899177376437668, 1.0364047408183756, 0.7388472871926347, 0.17950427668644467, 0.3680753376522049, 0.1368695577373032, 0.8159967349839087, -0.14844827589627468, 0.9610220648185201, 0.8403045958850671, 0.1539828413327248, -0.22403721645926258, -0.9886846475465637, -0.041097672863380195, -0.20336539740261284, -0.8272592313380914, -0.7377644328272414, 0.6228589278084802, 1.0167861280965602, -2.2412581790082666, -0.18088089665349677, 0.38747162796369533, -0.022976036922044408, -0.376997829574464, 0.12116576151183464, 0.004016022807814205, -1.8023654641354336, -0.8309213004133602, -0.37467942398393506, 0.16749391300381028, 2.157106901960888, 0.26801897806054975, -0.12917654316980617, -1.1921864240944327, 1.6144706272625435, 0.44154651927524047, -1.5248455068331284, -1.379729809199886, -0.3071048272960799, 0.11873027241721576, -0.18440988283347878, -1.5364079402765836, -1.7659951853905054, -1.1925247660678762, -0.3719050473318741, 0.9116004418673352, -1.2893901771054779, 0.3494224192856916, 0.12384105919512163, -0.2853887638156255, -0.05477890823051662, -0.13339681427823635, 0.002483580579456353, 0.6483924643575026, -1.7744604454121766, 0.051018691708484755, -0.20831087775659465, 1.2036245135778298, 0.37460006318208516, -0.007357554347866323, 0.5125991262014535, 0.0024173923945399363, -0.8563025126597791, -0.7617603492153533, -1.792629772347877, 0.360765760598241, -0.7718682940507207, 1.6886536550319722, 1.194024448998109, -0.417875534770027, 2.122611684514379, -0.20455142051435, -1.3193963771012482, -1.7879804873841585, 0.4066145570917323, 1.434386069614315, -0.5881888567526482, -1.2337031790890676, -0.7429661704558083, 0.0566414277132115, -1.2378557179328697, -0.43038873430261276, -2.5320354376990766, 0.7598237879841848, 0.48412359488350337], \"y\": [-0.0033035822899469052, 0.3142449677503647, -1.504523021926638, 1.0044432988561958, -0.3786281864931309, 1.6221183698918318, -0.6833666110514979, -0.09085898589503208, 0.4183024142850112, 0.1599510285795126, 0.4983380417069129, -2.38735035273387, -0.17484722770594668, -0.7024036572296523, -0.2377817653329279, 1.0463693206953972, -1.206970761077781, -0.27926473845743927, 0.024497475622231084, 0.07215395894711478, 0.8060503759899023, -0.10523700135619246, 0.4892495322097234, -1.6211612465614205, -0.9413730510682876, 0.5618878755989775, 1.148898697209982, -0.8603059741609684, -0.2545352736983566, 0.3221749143716371, 0.8184090970176358, 0.603400860775381, 0.29148084806096053, 1.2197382793191827, -0.11597682125807925, -0.993512699913698, 0.6287345083305073, -0.23713521257102554, -0.3097494760631051, -0.5890817405505082, -1.1603607004584577, 0.9875973705562235, -0.063031992142952, 0.5528356056102148, 0.9943802775983782, 1.5885704578261726, -0.9751179842350768, 0.6218820952952601, -2.0323297593875838, -0.5484199829062123, -0.12137817399783384, -1.2309977016776752, -0.9313693797491154, 0.2663840238711808, -1.6717292793656437, -0.4542443768926661, -0.2721841210031825, -2.536542463070985, 0.4847118496688762, -2.1214691330865127, -1.1620826355082072, -0.048986563425723995, -1.2645433415566478, 1.9997478527752839, 1.166476246332891, -3.103425838335752, -1.4438539094973724, 1.5718043608392394, -0.7335294160030932, -1.197965786647293, 1.0722513065522665, -0.7826362934224473, -0.49820503134543775, 1.5716627803037155, -0.005317290143883737, -0.3593653166820716, 1.5597095911561978, 1.0503815987596175, 0.3441039774821109, -0.04974121712467084, 0.008170229384752613, -0.9709058136802701, 2.417034408248457, -1.2124867561742774, 0.6046417869674267, -0.3585076795507522, 0.06705171160120478, 1.4546189083140886, -0.42913586866418607, -0.707992549805246, -2.096983049597022, 0.038373856459275275, 0.6579882416462015, 2.2386147056613295, -0.6608003396245523, -0.9953483586408077, 0.43580220111517376, -0.5404418613480602, 3.3467118532442397, 0.34927520878526047]}],                        {\"legend\": {\"bgcolor\": \"#151516\", \"font\": {\"color\": \"#D9D9D9\"}}, \"paper_bgcolor\": \"#151516\", \"plot_bgcolor\": \"#151516\", \"template\": {\"data\": {\"bar\": [{\"error_x\": {\"color\": \"#2a3f5f\"}, \"error_y\": {\"color\": \"#2a3f5f\"}, \"marker\": {\"line\": {\"color\": \"#E5ECF6\", \"width\": 0.5}}, \"type\": \"bar\"}], \"barpolar\": [{\"marker\": {\"line\": {\"color\": \"#E5ECF6\", \"width\": 0.5}}, \"type\": \"barpolar\"}], \"carpet\": [{\"aaxis\": {\"endlinecolor\": \"#2a3f5f\", \"gridcolor\": \"white\", \"linecolor\": \"white\", \"minorgridcolor\": \"white\", \"startlinecolor\": \"#2a3f5f\"}, \"baxis\": {\"endlinecolor\": \"#2a3f5f\", \"gridcolor\": \"white\", \"linecolor\": \"white\", \"minorgridcolor\": \"white\", \"startlinecolor\": \"#2a3f5f\"}, \"type\": \"carpet\"}], \"choropleth\": [{\"colorbar\": {\"outlinewidth\": 0, \"ticks\": \"\"}, \"type\": \"choropleth\"}], \"contour\": [{\"colorbar\": {\"outlinewidth\": 0, \"ticks\": \"\"}, \"colorscale\": [[0.0, \"#0d0887\"], [0.1111111111111111, \"#46039f\"], [0.2222222222222222, \"#7201a8\"], [0.3333333333333333, \"#9c179e\"], [0.4444444444444444, \"#bd3786\"], [0.5555555555555556, \"#d8576b\"], [0.6666666666666666, \"#ed7953\"], [0.7777777777777778, \"#fb9f3a\"], [0.8888888888888888, \"#fdca26\"], [1.0, \"#f0f921\"]], \"type\": \"contour\"}], \"contourcarpet\": [{\"colorbar\": {\"outlinewidth\": 0, \"ticks\": \"\"}, \"type\": \"contourcarpet\"}], \"heatmap\": [{\"colorbar\": {\"outlinewidth\": 0, \"ticks\": \"\"}, \"colorscale\": [[0.0, \"#0d0887\"], [0.1111111111111111, \"#46039f\"], [0.2222222222222222, \"#7201a8\"], [0.3333333333333333, \"#9c179e\"], [0.4444444444444444, \"#bd3786\"], [0.5555555555555556, \"#d8576b\"], [0.6666666666666666, \"#ed7953\"], [0.7777777777777778, \"#fb9f3a\"], [0.8888888888888888, \"#fdca26\"], [1.0, \"#f0f921\"]], \"type\": \"heatmap\"}], \"heatmapgl\": [{\"colorbar\": {\"outlinewidth\": 0, \"ticks\": \"\"}, \"colorscale\": [[0.0, \"#0d0887\"], [0.1111111111111111, \"#46039f\"], [0.2222222222222222, \"#7201a8\"], [0.3333333333333333, \"#9c179e\"], [0.4444444444444444, \"#bd3786\"], [0.5555555555555556, \"#d8576b\"], [0.6666666666666666, \"#ed7953\"], [0.7777777777777778, \"#fb9f3a\"], [0.8888888888888888, \"#fdca26\"], [1.0, \"#f0f921\"]], \"type\": \"heatmapgl\"}], \"histogram\": [{\"marker\": {\"colorbar\": {\"outlinewidth\": 0, \"ticks\": \"\"}}, \"type\": \"histogram\"}], \"histogram2d\": [{\"colorbar\": {\"outlinewidth\": 0, \"ticks\": \"\"}, \"colorscale\": [[0.0, \"#0d0887\"], [0.1111111111111111, \"#46039f\"], [0.2222222222222222, \"#7201a8\"], [0.3333333333333333, \"#9c179e\"], [0.4444444444444444, \"#bd3786\"], [0.5555555555555556, \"#d8576b\"], [0.6666666666666666, \"#ed7953\"], [0.7777777777777778, \"#fb9f3a\"], [0.8888888888888888, \"#fdca26\"], [1.0, \"#f0f921\"]], \"type\": \"histogram2d\"}], \"histogram2dcontour\": [{\"colorbar\": {\"outlinewidth\": 0, \"ticks\": \"\"}, \"colorscale\": [[0.0, \"#0d0887\"], [0.1111111111111111, \"#46039f\"], [0.2222222222222222, \"#7201a8\"], [0.3333333333333333, \"#9c179e\"], [0.4444444444444444, \"#bd3786\"], [0.5555555555555556, \"#d8576b\"], [0.6666666666666666, \"#ed7953\"], [0.7777777777777778, \"#fb9f3a\"], [0.8888888888888888, \"#fdca26\"], [1.0, \"#f0f921\"]], \"type\": \"histogram2dcontour\"}], \"mesh3d\": [{\"colorbar\": {\"outlinewidth\": 0, \"ticks\": \"\"}, \"type\": \"mesh3d\"}], \"parcoords\": [{\"line\": {\"colorbar\": {\"outlinewidth\": 0, \"ticks\": \"\"}}, \"type\": \"parcoords\"}], \"pie\": [{\"automargin\": true, \"type\": \"pie\"}], \"scatter\": [{\"marker\": {\"colorbar\": {\"outlinewidth\": 0, \"ticks\": \"\"}}, \"type\": \"scatter\"}], \"scatter3d\": [{\"line\": {\"colorbar\": {\"outlinewidth\": 0, \"ticks\": \"\"}}, \"marker\": {\"colorbar\": {\"outlinewidth\": 0, \"ticks\": \"\"}}, \"type\": \"scatter3d\"}], \"scattercarpet\": [{\"marker\": {\"colorbar\": {\"outlinewidth\": 0, \"ticks\": \"\"}}, \"type\": \"scattercarpet\"}], \"scattergeo\": [{\"marker\": {\"colorbar\": {\"outlinewidth\": 0, \"ticks\": \"\"}}, \"type\": \"scattergeo\"}], \"scattergl\": [{\"marker\": {\"colorbar\": {\"outlinewidth\": 0, \"ticks\": \"\"}}, \"type\": \"scattergl\"}], \"scattermapbox\": [{\"marker\": {\"colorbar\": {\"outlinewidth\": 0, \"ticks\": \"\"}}, \"type\": \"scattermapbox\"}], \"scatterpolar\": [{\"marker\": {\"colorbar\": {\"outlinewidth\": 0, \"ticks\": \"\"}}, \"type\": \"scatterpolar\"}], \"scatterpolargl\": [{\"marker\": {\"colorbar\": {\"outlinewidth\": 0, \"ticks\": \"\"}}, \"type\": \"scatterpolargl\"}], \"scatterternary\": [{\"marker\": {\"colorbar\": {\"outlinewidth\": 0, \"ticks\": \"\"}}, \"type\": \"scatterternary\"}], \"surface\": [{\"colorbar\": {\"outlinewidth\": 0, \"ticks\": \"\"}, \"colorscale\": [[0.0, \"#0d0887\"], [0.1111111111111111, \"#46039f\"], [0.2222222222222222, \"#7201a8\"], [0.3333333333333333, \"#9c179e\"], [0.4444444444444444, \"#bd3786\"], [0.5555555555555556, \"#d8576b\"], [0.6666666666666666, \"#ed7953\"], [0.7777777777777778, \"#fb9f3a\"], [0.8888888888888888, \"#fdca26\"], [1.0, \"#f0f921\"]], \"type\": \"surface\"}], \"table\": [{\"cells\": {\"fill\": {\"color\": \"#EBF0F8\"}, \"line\": {\"color\": \"white\"}}, \"header\": {\"fill\": {\"color\": \"#C8D4E3\"}, \"line\": {\"color\": \"white\"}}, \"type\": \"table\"}]}, \"layout\": {\"annotationdefaults\": {\"arrowcolor\": \"#2a3f5f\", \"arrowhead\": 0, \"arrowwidth\": 1}, \"autotypenumbers\": \"strict\", \"coloraxis\": {\"colorbar\": {\"outlinewidth\": 0, \"ticks\": \"\"}}, \"colorscale\": {\"diverging\": [[0, \"#8e0152\"], [0.1, \"#c51b7d\"], [0.2, \"#de77ae\"], [0.3, \"#f1b6da\"], [0.4, \"#fde0ef\"], [0.5, \"#f7f7f7\"], [0.6, \"#e6f5d0\"], [0.7, \"#b8e186\"], [0.8, \"#7fbc41\"], [0.9, \"#4d9221\"], [1, \"#276419\"]], \"sequential\": [[0.0, \"#0d0887\"], [0.1111111111111111, \"#46039f\"], [0.2222222222222222, \"#7201a8\"], [0.3333333333333333, \"#9c179e\"], [0.4444444444444444, \"#bd3786\"], [0.5555555555555556, \"#d8576b\"], [0.6666666666666666, \"#ed7953\"], [0.7777777777777778, \"#fb9f3a\"], [0.8888888888888888, \"#fdca26\"], [1.0, \"#f0f921\"]], \"sequentialminus\": [[0.0, \"#0d0887\"], [0.1111111111111111, \"#46039f\"], [0.2222222222222222, \"#7201a8\"], [0.3333333333333333, \"#9c179e\"], [0.4444444444444444, \"#bd3786\"], [0.5555555555555556, \"#d8576b\"], [0.6666666666666666, \"#ed7953\"], [0.7777777777777778, \"#fb9f3a\"], [0.8888888888888888, \"#fdca26\"], [1.0, \"#f0f921\"]]}, \"colorway\": [\"#636efa\", \"#EF553B\", \"#00cc96\", \"#ab63fa\", \"#FFA15A\", \"#19d3f3\", \"#FF6692\", \"#B6E880\", \"#FF97FF\", \"#FECB52\"], \"font\": {\"color\": \"#2a3f5f\"}, \"geo\": {\"bgcolor\": \"white\", \"lakecolor\": \"white\", \"landcolor\": \"#E5ECF6\", \"showlakes\": true, \"showland\": true, \"subunitcolor\": \"white\"}, \"hoverlabel\": {\"align\": \"left\"}, \"hovermode\": \"closest\", \"mapbox\": {\"style\": \"light\"}, \"paper_bgcolor\": \"white\", \"plot_bgcolor\": \"#E5ECF6\", \"polar\": {\"angularaxis\": {\"gridcolor\": \"white\", \"linecolor\": \"white\", \"ticks\": \"\"}, \"bgcolor\": \"#E5ECF6\", \"radialaxis\": {\"gridcolor\": \"white\", \"linecolor\": \"white\", \"ticks\": \"\"}}, \"scene\": {\"xaxis\": {\"backgroundcolor\": \"#E5ECF6\", \"gridcolor\": \"white\", \"gridwidth\": 2, \"linecolor\": \"white\", \"showbackground\": true, \"ticks\": \"\", \"zerolinecolor\": \"white\"}, \"yaxis\": {\"backgroundcolor\": \"#E5ECF6\", \"gridcolor\": \"white\", \"gridwidth\": 2, \"linecolor\": \"white\", \"showbackground\": true, \"ticks\": \"\", \"zerolinecolor\": \"white\"}, \"zaxis\": {\"backgroundcolor\": \"#E5ECF6\", \"gridcolor\": \"white\", \"gridwidth\": 2, \"linecolor\": \"white\", \"showbackground\": true, \"ticks\": \"\", \"zerolinecolor\": \"white\"}}, \"shapedefaults\": {\"line\": {\"color\": \"#2a3f5f\"}}, \"ternary\": {\"aaxis\": {\"gridcolor\": \"white\", \"linecolor\": \"white\", \"ticks\": \"\"}, \"baxis\": {\"gridcolor\": \"white\", \"linecolor\": \"white\", \"ticks\": \"\"}, \"bgcolor\": \"#E5ECF6\", \"caxis\": {\"gridcolor\": \"white\", \"linecolor\": \"white\", \"ticks\": \"\"}}, \"title\": {\"x\": 0.05}, \"xaxis\": {\"automargin\": true, \"gridcolor\": \"white\", \"linecolor\": \"white\", \"ticks\": \"\", \"title\": {\"standoff\": 15}, \"zerolinecolor\": \"white\", \"zerolinewidth\": 2}, \"yaxis\": {\"automargin\": true, \"gridcolor\": \"white\", \"linecolor\": \"white\", \"ticks\": \"\", \"title\": {\"standoff\": 15}, \"zerolinecolor\": \"white\", \"zerolinewidth\": 2}}}, \"title\": {\"font\": {\"color\": \"#D9D9D9\"}}, \"xaxis\": {\"gridcolor\": \"grey\", \"showgrid\": true, \"tickfont\": {\"color\": \"#C2C2C2\"}, \"title\": {\"font\": {\"color\": \"#D9D9D9\"}, \"text\": \"\"}, \"zerolinecolor\": \"#666570\"}, \"yaxis\": {\"gridcolor\": \"grey\", \"showgrid\": true, \"tickfont\": {\"color\": \"#C2C2C2\"}, \"title\": {\"font\": {\"color\": \"#D9D9D9\"}, \"text\": \"\"}, \"zerolinecolor\": \"#666570\"}},                        {\"showLink\": true, \"linkText\": \"Export to plot.ly\", \"plotlyServerURL\": \"https://plot.ly\", \"responsive\": true}                    ).then(function(){\n                            \nvar gd = document.getElementById('bb4f330d-0188-4aa7-ba4b-6a30b4019065');\nvar x = new MutationObserver(function (mutations, observer) {{\n        var display = window.getComputedStyle(gd).display;\n        if (!display || display === 'none') {{\n            console.log([gd, 'removed!']);\n            Plotly.purge(gd);\n            observer.disconnect();\n        }}\n}});\n\n// Listen for the removal of the full notebook cells\nvar notebookContainer = gd.closest('#notebook-container');\nif (notebookContainer) {{\n    x.observe(notebookContainer, {childList: true});\n}}\n\n// Listen for the clearing of the current output cell\nvar outputEl = gd.closest('.output');\nif (outputEl) {{\n    x.observe(outputEl, {childList: true});\n}}\n\n                        })                };                });            </script>        </div>"
     },
     "metadata": {}
    }
   ],
   "source": [
    "# To make it scatter we need to make mode= 'markers'\n",
    "df.iplot(kind='scatter', x='A', y='B', mode= 'markers', theme= 'solar', gridcolor= 'grey', colors= 'red')\n",
    "# This looks a lot better than other two plotting libraries"
   ]
  },
  {
   "source": [
    "*2. Scatter3d*"
   ],
   "cell_type": "markdown",
   "metadata": {}
  },
  {
   "cell_type": "code",
   "execution_count": 194,
   "metadata": {},
   "outputs": [
    {
     "output_type": "display_data",
     "data": {
      "application/vnd.plotly.v1+json": {
       "config": {
        "linkText": "Export to plot.ly",
        "plotlyServerURL": "https://plot.ly",
        "showLink": true
       },
       "data": [
        {
         "marker": {
          "color": [
           "rgba(219, 64, 82, 1.0)",
           "rgba(219, 64, 82, 0.992)",
           "rgba(219, 64, 82, 0.984)",
           "rgba(219, 64, 82, 0.976)",
           "rgba(219, 64, 82, 0.968)",
           "rgba(219, 64, 82, 0.96)",
           "rgba(219, 64, 82, 0.952)",
           "rgba(219, 64, 82, 0.944)",
           "rgba(219, 64, 82, 0.9359999999999999)",
           "rgba(219, 64, 82, 0.9279999999999999)",
           "rgba(219, 64, 82, 0.9199999999999999)",
           "rgba(219, 64, 82, 0.9119999999999999)",
           "rgba(219, 64, 82, 0.9039999999999999)",
           "rgba(219, 64, 82, 0.8959999999999999)",
           "rgba(219, 64, 82, 0.8879999999999999)",
           "rgba(219, 64, 82, 0.8799999999999999)",
           "rgba(219, 64, 82, 0.8719999999999999)",
           "rgba(219, 64, 82, 0.8639999999999999)",
           "rgba(219, 64, 82, 0.8559999999999999)",
           "rgba(219, 64, 82, 0.8479999999999999)",
           "rgba(219, 64, 82, 0.8399999999999999)",
           "rgba(219, 64, 82, 0.8319999999999999)",
           "rgba(219, 64, 82, 0.8239999999999998)",
           "rgba(219, 64, 82, 0.8159999999999998)",
           "rgba(219, 64, 82, 0.8079999999999998)",
           "rgba(219, 64, 82, 0.7999999999999998)",
           "rgba(219, 64, 82, 0.7919999999999998)",
           "rgba(219, 64, 82, 0.7839999999999998)",
           "rgba(219, 64, 82, 0.7759999999999998)",
           "rgba(219, 64, 82, 0.7679999999999998)",
           "rgba(219, 64, 82, 0.7599999999999998)",
           "rgba(219, 64, 82, 0.7519999999999998)",
           "rgba(219, 64, 82, 0.7439999999999998)",
           "rgba(219, 64, 82, 0.7359999999999998)",
           "rgba(219, 64, 82, 0.7279999999999998)",
           "rgba(219, 64, 82, 0.7199999999999998)",
           "rgba(219, 64, 82, 0.7119999999999997)",
           "rgba(219, 64, 82, 0.7039999999999997)",
           "rgba(219, 64, 82, 0.6959999999999997)",
           "rgba(219, 64, 82, 0.6879999999999997)",
           "rgba(219, 64, 82, 0.6799999999999997)",
           "rgba(219, 64, 82, 0.6719999999999997)",
           "rgba(219, 64, 82, 0.6639999999999997)",
           "rgba(219, 64, 82, 0.6559999999999997)",
           "rgba(219, 64, 82, 0.6479999999999997)",
           "rgba(219, 64, 82, 0.6399999999999997)",
           "rgba(219, 64, 82, 0.6319999999999997)",
           "rgba(219, 64, 82, 0.6239999999999997)",
           "rgba(219, 64, 82, 0.6159999999999997)",
           "rgba(219, 64, 82, 0.6079999999999997)",
           "rgba(219, 64, 82, 0.5999999999999996)",
           "rgba(219, 64, 82, 0.5919999999999996)",
           "rgba(219, 64, 82, 0.5839999999999996)",
           "rgba(219, 64, 82, 0.5759999999999996)",
           "rgba(219, 64, 82, 0.5679999999999996)",
           "rgba(219, 64, 82, 0.5599999999999996)",
           "rgba(219, 64, 82, 0.5519999999999996)",
           "rgba(219, 64, 82, 0.5439999999999996)",
           "rgba(219, 64, 82, 0.5359999999999996)",
           "rgba(219, 64, 82, 0.5279999999999996)",
           "rgba(219, 64, 82, 0.5199999999999996)",
           "rgba(219, 64, 82, 0.5119999999999996)",
           "rgba(219, 64, 82, 0.5039999999999996)",
           "rgba(219, 64, 82, 0.4959999999999996)",
           "rgba(219, 64, 82, 0.4879999999999996)",
           "rgba(219, 64, 82, 0.4799999999999996)",
           "rgba(219, 64, 82, 0.4719999999999996)",
           "rgba(219, 64, 82, 0.4639999999999996)",
           "rgba(219, 64, 82, 0.4559999999999996)",
           "rgba(219, 64, 82, 0.44799999999999957)",
           "rgba(219, 64, 82, 0.43999999999999956)",
           "rgba(219, 64, 82, 0.43199999999999955)",
           "rgba(219, 64, 82, 0.42399999999999954)",
           "rgba(219, 64, 82, 0.41599999999999954)",
           "rgba(219, 64, 82, 0.40799999999999953)",
           "rgba(219, 64, 82, 0.3999999999999995)",
           "rgba(219, 64, 82, 0.3919999999999995)",
           "rgba(219, 64, 82, 0.3839999999999995)",
           "rgba(219, 64, 82, 0.3759999999999995)",
           "rgba(219, 64, 82, 0.3679999999999995)",
           "rgba(219, 64, 82, 0.3599999999999995)",
           "rgba(219, 64, 82, 0.3519999999999995)",
           "rgba(219, 64, 82, 0.3439999999999995)",
           "rgba(219, 64, 82, 0.33599999999999947)",
           "rgba(219, 64, 82, 0.32799999999999946)",
           "rgba(219, 64, 82, 0.31999999999999945)",
           "rgba(219, 64, 82, 0.31199999999999944)",
           "rgba(219, 64, 82, 0.30399999999999944)",
           "rgba(219, 64, 82, 0.29599999999999943)",
           "rgba(219, 64, 82, 0.2879999999999994)",
           "rgba(219, 64, 82, 0.2799999999999994)",
           "rgba(219, 64, 82, 0.2719999999999994)",
           "rgba(219, 64, 82, 0.2639999999999994)",
           "rgba(219, 64, 82, 0.2559999999999994)",
           "rgba(219, 64, 82, 0.2479999999999994)",
           "rgba(219, 64, 82, 0.23999999999999938)",
           "rgba(219, 64, 82, 0.23199999999999937)",
           "rgba(219, 64, 82, 0.22399999999999937)",
           "rgba(219, 64, 82, 0.21599999999999936)",
           "rgba(219, 64, 82, 0.20799999999999935)"
          ],
          "opacity": 0.8,
          "size": [
           12,
           12,
           12,
           12,
           12,
           12,
           12,
           12,
           12,
           12,
           12,
           12,
           12,
           12,
           12,
           12,
           12,
           12,
           12,
           12,
           12,
           12,
           12,
           12,
           12,
           12,
           12,
           12,
           12,
           12,
           12,
           12,
           12,
           12,
           12,
           12,
           12,
           12,
           12,
           12,
           12,
           12,
           12,
           12,
           12,
           12,
           12,
           12,
           12,
           12,
           12,
           12,
           12,
           12,
           12,
           12,
           12,
           12,
           12,
           12,
           12,
           12,
           12,
           12,
           12,
           12,
           12,
           12,
           12,
           12,
           12,
           12,
           12,
           12,
           12,
           12,
           12,
           12,
           12,
           12,
           12,
           12,
           12,
           12,
           12,
           12,
           12,
           12,
           12,
           12,
           12,
           12,
           12,
           12,
           12,
           12,
           12,
           12,
           12,
           12
          ],
          "symbol": "circle"
         },
         "mode": "markers",
         "text": [
          "0",
          "1",
          "2",
          "3",
          "4",
          "5",
          "6",
          "7",
          "8",
          "9",
          "10",
          "11",
          "12",
          "13",
          "14",
          "15",
          "16",
          "17",
          "18",
          "19",
          "20",
          "21",
          "22",
          "23",
          "24",
          "25",
          "26",
          "27",
          "28",
          "29",
          "30",
          "31",
          "32",
          "33",
          "34",
          "35",
          "36",
          "37",
          "38",
          "39",
          "40",
          "41",
          "42",
          "43",
          "44",
          "45",
          "46",
          "47",
          "48",
          "49",
          "50",
          "51",
          "52",
          "53",
          "54",
          "55",
          "56",
          "57",
          "58",
          "59",
          "60",
          "61",
          "62",
          "63",
          "64",
          "65",
          "66",
          "67",
          "68",
          "69",
          "70",
          "71",
          "72",
          "73",
          "74",
          "75",
          "76",
          "77",
          "78",
          "79",
          "80",
          "81",
          "82",
          "83",
          "84",
          "85",
          "86",
          "87",
          "88",
          "89",
          "90",
          "91",
          "92",
          "93",
          "94",
          "95",
          "96",
          "97",
          "98",
          "99"
         ],
         "type": "scatter3d",
         "x": [
          -0.9792515936598923,
          0.9598050055042266,
          1.2879497854926978,
          -0.7580525281398575,
          0.7395394550550108,
          0.17019107169090317,
          -0.1293765011854134,
          0.4456954392361662,
          0.13772919772007583,
          -1.1475557380589023,
          0.7148856836266592,
          1.4579626985599747,
          0.8874119734406709,
          0.3072755156395645,
          2.0957456279779065,
          0.5899177376437668,
          1.0364047408183756,
          0.7388472871926347,
          0.17950427668644467,
          0.3680753376522049,
          0.1368695577373032,
          0.8159967349839087,
          -0.14844827589627468,
          0.9610220648185201,
          0.8403045958850671,
          0.1539828413327248,
          -0.22403721645926258,
          -0.9886846475465637,
          -0.041097672863380195,
          -0.20336539740261284,
          -0.8272592313380914,
          -0.7377644328272414,
          0.6228589278084802,
          1.0167861280965602,
          -2.2412581790082666,
          -0.18088089665349677,
          0.38747162796369533,
          -0.022976036922044408,
          -0.376997829574464,
          0.12116576151183464,
          0.004016022807814205,
          -1.8023654641354336,
          -0.8309213004133602,
          -0.37467942398393506,
          0.16749391300381028,
          2.157106901960888,
          0.26801897806054975,
          -0.12917654316980617,
          -1.1921864240944327,
          1.6144706272625435,
          0.44154651927524047,
          -1.5248455068331284,
          -1.379729809199886,
          -0.3071048272960799,
          0.11873027241721576,
          -0.18440988283347878,
          -1.5364079402765836,
          -1.7659951853905054,
          -1.1925247660678762,
          -0.3719050473318741,
          0.9116004418673352,
          -1.2893901771054779,
          0.3494224192856916,
          0.12384105919512163,
          -0.2853887638156255,
          -0.05477890823051662,
          -0.13339681427823635,
          0.002483580579456353,
          0.6483924643575026,
          -1.7744604454121766,
          0.051018691708484755,
          -0.20831087775659465,
          1.2036245135778298,
          0.37460006318208516,
          -0.007357554347866323,
          0.5125991262014535,
          0.0024173923945399363,
          -0.8563025126597791,
          -0.7617603492153533,
          -1.792629772347877,
          0.360765760598241,
          -0.7718682940507207,
          1.6886536550319722,
          1.194024448998109,
          -0.417875534770027,
          2.122611684514379,
          -0.20455142051435,
          -1.3193963771012482,
          -1.7879804873841585,
          0.4066145570917323,
          1.434386069614315,
          -0.5881888567526482,
          -1.2337031790890676,
          -0.7429661704558083,
          0.0566414277132115,
          -1.2378557179328697,
          -0.43038873430261276,
          -2.5320354376990766,
          0.7598237879841848,
          0.48412359488350337
         ],
         "y": [
          -0.0033035822899469052,
          0.3142449677503647,
          -1.504523021926638,
          1.0044432988561958,
          -0.3786281864931309,
          1.6221183698918318,
          -0.6833666110514979,
          -0.09085898589503208,
          0.4183024142850112,
          0.1599510285795126,
          0.4983380417069129,
          -2.38735035273387,
          -0.17484722770594668,
          -0.7024036572296523,
          -0.2377817653329279,
          1.0463693206953972,
          -1.206970761077781,
          -0.27926473845743927,
          0.024497475622231084,
          0.07215395894711478,
          0.8060503759899023,
          -0.10523700135619246,
          0.4892495322097234,
          -1.6211612465614205,
          -0.9413730510682876,
          0.5618878755989775,
          1.148898697209982,
          -0.8603059741609684,
          -0.2545352736983566,
          0.3221749143716371,
          0.8184090970176358,
          0.603400860775381,
          0.29148084806096053,
          1.2197382793191827,
          -0.11597682125807925,
          -0.993512699913698,
          0.6287345083305073,
          -0.23713521257102554,
          -0.3097494760631051,
          -0.5890817405505082,
          -1.1603607004584577,
          0.9875973705562235,
          -0.063031992142952,
          0.5528356056102148,
          0.9943802775983782,
          1.5885704578261726,
          -0.9751179842350768,
          0.6218820952952601,
          -2.0323297593875838,
          -0.5484199829062123,
          -0.12137817399783384,
          -1.2309977016776752,
          -0.9313693797491154,
          0.2663840238711808,
          -1.6717292793656437,
          -0.4542443768926661,
          -0.2721841210031825,
          -2.536542463070985,
          0.4847118496688762,
          -2.1214691330865127,
          -1.1620826355082072,
          -0.048986563425723995,
          -1.2645433415566478,
          1.9997478527752839,
          1.166476246332891,
          -3.103425838335752,
          -1.4438539094973724,
          1.5718043608392394,
          -0.7335294160030932,
          -1.197965786647293,
          1.0722513065522665,
          -0.7826362934224473,
          -0.49820503134543775,
          1.5716627803037155,
          -0.005317290143883737,
          -0.3593653166820716,
          1.5597095911561978,
          1.0503815987596175,
          0.3441039774821109,
          -0.04974121712467084,
          0.008170229384752613,
          -0.9709058136802701,
          2.417034408248457,
          -1.2124867561742774,
          0.6046417869674267,
          -0.3585076795507522,
          0.06705171160120478,
          1.4546189083140886,
          -0.42913586866418607,
          -0.707992549805246,
          -2.096983049597022,
          0.038373856459275275,
          0.6579882416462015,
          2.2386147056613295,
          -0.6608003396245523,
          -0.9953483586408077,
          0.43580220111517376,
          -0.5404418613480602,
          3.3467118532442397,
          0.34927520878526047
         ],
         "z": [
          -1.029169055522879,
          -0.6255978007913707,
          1.0417982196879223,
          2.2449486385713384,
          -0.6795945775053402,
          0.14631255858470052,
          0.3731668746960911,
          0.4124420330489584,
          1.5113484075983132,
          0.5920468325658576,
          0.2793855445424416,
          -0.29619014153343065,
          2.3727187380412276,
          -0.6841365657268245,
          0.49440394600584864,
          0.6388836557479353,
          0.21519353566892171,
          0.08067736888339132,
          1.355625354020415,
          -0.348654489687168,
          -0.4947196965310076,
          -0.3582819911117431,
          0.8482378687717445,
          -0.7550696581956536,
          0.09628928497248218,
          0.3694001280085396,
          1.7522158422386362,
          0.24728003851561672,
          1.4320945076126141,
          0.38078115390777206,
          0.49485054834994746,
          0.10834747534480808,
          0.40440051019822765,
          0.46318804403090136,
          0.8498937327069608,
          0.30823700591443287,
          -0.16957495168143608,
          1.4656183402677774,
          -0.2756627766669359,
          -1.558366156240104,
          -1.44390954708868,
          -0.5051680953931286,
          0.27620048996716984,
          -1.8343779836571938,
          -0.32566386109769674,
          -0.5377091427902171,
          -0.8793316602002474,
          -0.13730101188128274,
          0.4739117707913685,
          1.9456675653065694,
          -0.34549575735322996,
          0.9720333799605246,
          -0.26228104507380334,
          -0.5714395653881361,
          0.14502575276461074,
          -1.8641784872791407,
          0.8869491501534156,
          1.5217251811022767,
          1.3921339746257404,
          1.1907950182465863,
          -1.3679269183388134,
          -0.42830897316735944,
          0.16752652136906077,
          -0.822993733943916,
          0.032639710581331624,
          -1.7353173585494512,
          1.3006424924535107,
          -2.658447080801197,
          -0.7260667522978758,
          -1.346559369571314,
          1.2100767873230984,
          0.14199042718703583,
          1.3810124437891032,
          0.17475647805393424,
          -0.7973890264270153,
          0.5809185216045772,
          -0.3885903405071358,
          0.10406688806814304,
          1.370396070389675,
          -0.23398496826648119,
          -0.29001376284099223,
          -0.28707110106581923,
          0.25979132952928025,
          -0.1617035485251935,
          -0.6720898907014572,
          0.7962255499025633,
          -0.6948156806562187,
          0.9390569733955219,
          1.8104513153386503,
          0.5111732025237625,
          -0.7447934329773587,
          -0.36545521090245675,
          0.12658057977115625,
          -1.1224377540795116,
          0.23315136938347406,
          -0.3592208292662069,
          -0.3149408561046429,
          0.7604586976536822,
          0.8599817036861749,
          -2.121030951423784
         ]
        }
       ],
       "layout": {
        "legend": {
         "bgcolor": "#151516",
         "font": {
          "color": "#D9D9D9"
         }
        },
        "paper_bgcolor": "#151516",
        "plot_bgcolor": "#151516",
        "scene": {
         "xaxis": {
          "gridcolor": "black",
          "showgrid": true,
          "tickfont": {
           "color": "#C2C2C2"
          },
          "title": {
           "font": {
            "color": "#D9D9D9"
           },
           "text": ""
          },
          "zerolinecolor": "#666570"
         },
         "yaxis": {
          "gridcolor": "black",
          "showgrid": true,
          "tickfont": {
           "color": "#C2C2C2"
          },
          "title": {
           "font": {
            "color": "#D9D9D9"
           },
           "text": ""
          },
          "zerolinecolor": "#666570"
         },
         "zaxis": {
          "gridcolor": "black",
          "showgrid": true,
          "tickfont": {
           "color": "#C2C2C2"
          },
          "title": {
           "font": {
            "color": "#D9D9D9"
           },
           "text": ""
          },
          "zerolinecolor": "#666570"
         }
        },
        "template": {
         "data": {
          "bar": [
           {
            "error_x": {
             "color": "#2a3f5f"
            },
            "error_y": {
             "color": "#2a3f5f"
            },
            "marker": {
             "line": {
              "color": "#E5ECF6",
              "width": 0.5
             }
            },
            "type": "bar"
           }
          ],
          "barpolar": [
           {
            "marker": {
             "line": {
              "color": "#E5ECF6",
              "width": 0.5
             }
            },
            "type": "barpolar"
           }
          ],
          "carpet": [
           {
            "aaxis": {
             "endlinecolor": "#2a3f5f",
             "gridcolor": "white",
             "linecolor": "white",
             "minorgridcolor": "white",
             "startlinecolor": "#2a3f5f"
            },
            "baxis": {
             "endlinecolor": "#2a3f5f",
             "gridcolor": "white",
             "linecolor": "white",
             "minorgridcolor": "white",
             "startlinecolor": "#2a3f5f"
            },
            "type": "carpet"
           }
          ],
          "choropleth": [
           {
            "colorbar": {
             "outlinewidth": 0,
             "ticks": ""
            },
            "type": "choropleth"
           }
          ],
          "contour": [
           {
            "colorbar": {
             "outlinewidth": 0,
             "ticks": ""
            },
            "colorscale": [
             [
              0,
              "#0d0887"
             ],
             [
              0.1111111111111111,
              "#46039f"
             ],
             [
              0.2222222222222222,
              "#7201a8"
             ],
             [
              0.3333333333333333,
              "#9c179e"
             ],
             [
              0.4444444444444444,
              "#bd3786"
             ],
             [
              0.5555555555555556,
              "#d8576b"
             ],
             [
              0.6666666666666666,
              "#ed7953"
             ],
             [
              0.7777777777777778,
              "#fb9f3a"
             ],
             [
              0.8888888888888888,
              "#fdca26"
             ],
             [
              1,
              "#f0f921"
             ]
            ],
            "type": "contour"
           }
          ],
          "contourcarpet": [
           {
            "colorbar": {
             "outlinewidth": 0,
             "ticks": ""
            },
            "type": "contourcarpet"
           }
          ],
          "heatmap": [
           {
            "colorbar": {
             "outlinewidth": 0,
             "ticks": ""
            },
            "colorscale": [
             [
              0,
              "#0d0887"
             ],
             [
              0.1111111111111111,
              "#46039f"
             ],
             [
              0.2222222222222222,
              "#7201a8"
             ],
             [
              0.3333333333333333,
              "#9c179e"
             ],
             [
              0.4444444444444444,
              "#bd3786"
             ],
             [
              0.5555555555555556,
              "#d8576b"
             ],
             [
              0.6666666666666666,
              "#ed7953"
             ],
             [
              0.7777777777777778,
              "#fb9f3a"
             ],
             [
              0.8888888888888888,
              "#fdca26"
             ],
             [
              1,
              "#f0f921"
             ]
            ],
            "type": "heatmap"
           }
          ],
          "heatmapgl": [
           {
            "colorbar": {
             "outlinewidth": 0,
             "ticks": ""
            },
            "colorscale": [
             [
              0,
              "#0d0887"
             ],
             [
              0.1111111111111111,
              "#46039f"
             ],
             [
              0.2222222222222222,
              "#7201a8"
             ],
             [
              0.3333333333333333,
              "#9c179e"
             ],
             [
              0.4444444444444444,
              "#bd3786"
             ],
             [
              0.5555555555555556,
              "#d8576b"
             ],
             [
              0.6666666666666666,
              "#ed7953"
             ],
             [
              0.7777777777777778,
              "#fb9f3a"
             ],
             [
              0.8888888888888888,
              "#fdca26"
             ],
             [
              1,
              "#f0f921"
             ]
            ],
            "type": "heatmapgl"
           }
          ],
          "histogram": [
           {
            "marker": {
             "colorbar": {
              "outlinewidth": 0,
              "ticks": ""
             }
            },
            "type": "histogram"
           }
          ],
          "histogram2d": [
           {
            "colorbar": {
             "outlinewidth": 0,
             "ticks": ""
            },
            "colorscale": [
             [
              0,
              "#0d0887"
             ],
             [
              0.1111111111111111,
              "#46039f"
             ],
             [
              0.2222222222222222,
              "#7201a8"
             ],
             [
              0.3333333333333333,
              "#9c179e"
             ],
             [
              0.4444444444444444,
              "#bd3786"
             ],
             [
              0.5555555555555556,
              "#d8576b"
             ],
             [
              0.6666666666666666,
              "#ed7953"
             ],
             [
              0.7777777777777778,
              "#fb9f3a"
             ],
             [
              0.8888888888888888,
              "#fdca26"
             ],
             [
              1,
              "#f0f921"
             ]
            ],
            "type": "histogram2d"
           }
          ],
          "histogram2dcontour": [
           {
            "colorbar": {
             "outlinewidth": 0,
             "ticks": ""
            },
            "colorscale": [
             [
              0,
              "#0d0887"
             ],
             [
              0.1111111111111111,
              "#46039f"
             ],
             [
              0.2222222222222222,
              "#7201a8"
             ],
             [
              0.3333333333333333,
              "#9c179e"
             ],
             [
              0.4444444444444444,
              "#bd3786"
             ],
             [
              0.5555555555555556,
              "#d8576b"
             ],
             [
              0.6666666666666666,
              "#ed7953"
             ],
             [
              0.7777777777777778,
              "#fb9f3a"
             ],
             [
              0.8888888888888888,
              "#fdca26"
             ],
             [
              1,
              "#f0f921"
             ]
            ],
            "type": "histogram2dcontour"
           }
          ],
          "mesh3d": [
           {
            "colorbar": {
             "outlinewidth": 0,
             "ticks": ""
            },
            "type": "mesh3d"
           }
          ],
          "parcoords": [
           {
            "line": {
             "colorbar": {
              "outlinewidth": 0,
              "ticks": ""
             }
            },
            "type": "parcoords"
           }
          ],
          "pie": [
           {
            "automargin": true,
            "type": "pie"
           }
          ],
          "scatter": [
           {
            "marker": {
             "colorbar": {
              "outlinewidth": 0,
              "ticks": ""
             }
            },
            "type": "scatter"
           }
          ],
          "scatter3d": [
           {
            "line": {
             "colorbar": {
              "outlinewidth": 0,
              "ticks": ""
             }
            },
            "marker": {
             "colorbar": {
              "outlinewidth": 0,
              "ticks": ""
             }
            },
            "type": "scatter3d"
           }
          ],
          "scattercarpet": [
           {
            "marker": {
             "colorbar": {
              "outlinewidth": 0,
              "ticks": ""
             }
            },
            "type": "scattercarpet"
           }
          ],
          "scattergeo": [
           {
            "marker": {
             "colorbar": {
              "outlinewidth": 0,
              "ticks": ""
             }
            },
            "type": "scattergeo"
           }
          ],
          "scattergl": [
           {
            "marker": {
             "colorbar": {
              "outlinewidth": 0,
              "ticks": ""
             }
            },
            "type": "scattergl"
           }
          ],
          "scattermapbox": [
           {
            "marker": {
             "colorbar": {
              "outlinewidth": 0,
              "ticks": ""
             }
            },
            "type": "scattermapbox"
           }
          ],
          "scatterpolar": [
           {
            "marker": {
             "colorbar": {
              "outlinewidth": 0,
              "ticks": ""
             }
            },
            "type": "scatterpolar"
           }
          ],
          "scatterpolargl": [
           {
            "marker": {
             "colorbar": {
              "outlinewidth": 0,
              "ticks": ""
             }
            },
            "type": "scatterpolargl"
           }
          ],
          "scatterternary": [
           {
            "marker": {
             "colorbar": {
              "outlinewidth": 0,
              "ticks": ""
             }
            },
            "type": "scatterternary"
           }
          ],
          "surface": [
           {
            "colorbar": {
             "outlinewidth": 0,
             "ticks": ""
            },
            "colorscale": [
             [
              0,
              "#0d0887"
             ],
             [
              0.1111111111111111,
              "#46039f"
             ],
             [
              0.2222222222222222,
              "#7201a8"
             ],
             [
              0.3333333333333333,
              "#9c179e"
             ],
             [
              0.4444444444444444,
              "#bd3786"
             ],
             [
              0.5555555555555556,
              "#d8576b"
             ],
             [
              0.6666666666666666,
              "#ed7953"
             ],
             [
              0.7777777777777778,
              "#fb9f3a"
             ],
             [
              0.8888888888888888,
              "#fdca26"
             ],
             [
              1,
              "#f0f921"
             ]
            ],
            "type": "surface"
           }
          ],
          "table": [
           {
            "cells": {
             "fill": {
              "color": "#EBF0F8"
             },
             "line": {
              "color": "white"
             }
            },
            "header": {
             "fill": {
              "color": "#C8D4E3"
             },
             "line": {
              "color": "white"
             }
            },
            "type": "table"
           }
          ]
         },
         "layout": {
          "annotationdefaults": {
           "arrowcolor": "#2a3f5f",
           "arrowhead": 0,
           "arrowwidth": 1
          },
          "autotypenumbers": "strict",
          "coloraxis": {
           "colorbar": {
            "outlinewidth": 0,
            "ticks": ""
           }
          },
          "colorscale": {
           "diverging": [
            [
             0,
             "#8e0152"
            ],
            [
             0.1,
             "#c51b7d"
            ],
            [
             0.2,
             "#de77ae"
            ],
            [
             0.3,
             "#f1b6da"
            ],
            [
             0.4,
             "#fde0ef"
            ],
            [
             0.5,
             "#f7f7f7"
            ],
            [
             0.6,
             "#e6f5d0"
            ],
            [
             0.7,
             "#b8e186"
            ],
            [
             0.8,
             "#7fbc41"
            ],
            [
             0.9,
             "#4d9221"
            ],
            [
             1,
             "#276419"
            ]
           ],
           "sequential": [
            [
             0,
             "#0d0887"
            ],
            [
             0.1111111111111111,
             "#46039f"
            ],
            [
             0.2222222222222222,
             "#7201a8"
            ],
            [
             0.3333333333333333,
             "#9c179e"
            ],
            [
             0.4444444444444444,
             "#bd3786"
            ],
            [
             0.5555555555555556,
             "#d8576b"
            ],
            [
             0.6666666666666666,
             "#ed7953"
            ],
            [
             0.7777777777777778,
             "#fb9f3a"
            ],
            [
             0.8888888888888888,
             "#fdca26"
            ],
            [
             1,
             "#f0f921"
            ]
           ],
           "sequentialminus": [
            [
             0,
             "#0d0887"
            ],
            [
             0.1111111111111111,
             "#46039f"
            ],
            [
             0.2222222222222222,
             "#7201a8"
            ],
            [
             0.3333333333333333,
             "#9c179e"
            ],
            [
             0.4444444444444444,
             "#bd3786"
            ],
            [
             0.5555555555555556,
             "#d8576b"
            ],
            [
             0.6666666666666666,
             "#ed7953"
            ],
            [
             0.7777777777777778,
             "#fb9f3a"
            ],
            [
             0.8888888888888888,
             "#fdca26"
            ],
            [
             1,
             "#f0f921"
            ]
           ]
          },
          "colorway": [
           "#636efa",
           "#EF553B",
           "#00cc96",
           "#ab63fa",
           "#FFA15A",
           "#19d3f3",
           "#FF6692",
           "#B6E880",
           "#FF97FF",
           "#FECB52"
          ],
          "font": {
           "color": "#2a3f5f"
          },
          "geo": {
           "bgcolor": "white",
           "lakecolor": "white",
           "landcolor": "#E5ECF6",
           "showlakes": true,
           "showland": true,
           "subunitcolor": "white"
          },
          "hoverlabel": {
           "align": "left"
          },
          "hovermode": "closest",
          "mapbox": {
           "style": "light"
          },
          "paper_bgcolor": "white",
          "plot_bgcolor": "#E5ECF6",
          "polar": {
           "angularaxis": {
            "gridcolor": "white",
            "linecolor": "white",
            "ticks": ""
           },
           "bgcolor": "#E5ECF6",
           "radialaxis": {
            "gridcolor": "white",
            "linecolor": "white",
            "ticks": ""
           }
          },
          "scene": {
           "xaxis": {
            "backgroundcolor": "#E5ECF6",
            "gridcolor": "white",
            "gridwidth": 2,
            "linecolor": "white",
            "showbackground": true,
            "ticks": "",
            "zerolinecolor": "white"
           },
           "yaxis": {
            "backgroundcolor": "#E5ECF6",
            "gridcolor": "white",
            "gridwidth": 2,
            "linecolor": "white",
            "showbackground": true,
            "ticks": "",
            "zerolinecolor": "white"
           },
           "zaxis": {
            "backgroundcolor": "#E5ECF6",
            "gridcolor": "white",
            "gridwidth": 2,
            "linecolor": "white",
            "showbackground": true,
            "ticks": "",
            "zerolinecolor": "white"
           }
          },
          "shapedefaults": {
           "line": {
            "color": "#2a3f5f"
           }
          },
          "ternary": {
           "aaxis": {
            "gridcolor": "white",
            "linecolor": "white",
            "ticks": ""
           },
           "baxis": {
            "gridcolor": "white",
            "linecolor": "white",
            "ticks": ""
           },
           "bgcolor": "#E5ECF6",
           "caxis": {
            "gridcolor": "white",
            "linecolor": "white",
            "ticks": ""
           }
          },
          "title": {
           "x": 0.05
          },
          "xaxis": {
           "automargin": true,
           "gridcolor": "white",
           "linecolor": "white",
           "ticks": "",
           "title": {
            "standoff": 15
           },
           "zerolinecolor": "white",
           "zerolinewidth": 2
          },
          "yaxis": {
           "automargin": true,
           "gridcolor": "white",
           "linecolor": "white",
           "ticks": "",
           "title": {
            "standoff": 15
           },
           "zerolinecolor": "white",
           "zerolinewidth": 2
          }
         }
        },
        "title": {
         "font": {
          "color": "#D9D9D9"
         }
        }
       }
      },
      "text/html": "<div>                            <div id=\"1d10e217-8479-4674-9a1c-eae066ceabd3\" class=\"plotly-graph-div\" style=\"height:525px; width:100%;\"></div>            <script type=\"text/javascript\">                require([\"plotly\"], function(Plotly) {                    window.PLOTLYENV=window.PLOTLYENV || {};\n                    window.PLOTLYENV.BASE_URL='https://plot.ly';                                    if (document.getElementById(\"1d10e217-8479-4674-9a1c-eae066ceabd3\")) {                    Plotly.newPlot(                        \"1d10e217-8479-4674-9a1c-eae066ceabd3\",                        [{\"marker\": {\"color\": [\"rgba(219, 64, 82, 1.0)\", \"rgba(219, 64, 82, 0.992)\", \"rgba(219, 64, 82, 0.984)\", \"rgba(219, 64, 82, 0.976)\", \"rgba(219, 64, 82, 0.968)\", \"rgba(219, 64, 82, 0.96)\", \"rgba(219, 64, 82, 0.952)\", \"rgba(219, 64, 82, 0.944)\", \"rgba(219, 64, 82, 0.9359999999999999)\", \"rgba(219, 64, 82, 0.9279999999999999)\", \"rgba(219, 64, 82, 0.9199999999999999)\", \"rgba(219, 64, 82, 0.9119999999999999)\", \"rgba(219, 64, 82, 0.9039999999999999)\", \"rgba(219, 64, 82, 0.8959999999999999)\", \"rgba(219, 64, 82, 0.8879999999999999)\", \"rgba(219, 64, 82, 0.8799999999999999)\", \"rgba(219, 64, 82, 0.8719999999999999)\", \"rgba(219, 64, 82, 0.8639999999999999)\", \"rgba(219, 64, 82, 0.8559999999999999)\", \"rgba(219, 64, 82, 0.8479999999999999)\", \"rgba(219, 64, 82, 0.8399999999999999)\", \"rgba(219, 64, 82, 0.8319999999999999)\", \"rgba(219, 64, 82, 0.8239999999999998)\", \"rgba(219, 64, 82, 0.8159999999999998)\", \"rgba(219, 64, 82, 0.8079999999999998)\", \"rgba(219, 64, 82, 0.7999999999999998)\", \"rgba(219, 64, 82, 0.7919999999999998)\", \"rgba(219, 64, 82, 0.7839999999999998)\", \"rgba(219, 64, 82, 0.7759999999999998)\", \"rgba(219, 64, 82, 0.7679999999999998)\", \"rgba(219, 64, 82, 0.7599999999999998)\", \"rgba(219, 64, 82, 0.7519999999999998)\", \"rgba(219, 64, 82, 0.7439999999999998)\", \"rgba(219, 64, 82, 0.7359999999999998)\", \"rgba(219, 64, 82, 0.7279999999999998)\", \"rgba(219, 64, 82, 0.7199999999999998)\", \"rgba(219, 64, 82, 0.7119999999999997)\", \"rgba(219, 64, 82, 0.7039999999999997)\", \"rgba(219, 64, 82, 0.6959999999999997)\", \"rgba(219, 64, 82, 0.6879999999999997)\", \"rgba(219, 64, 82, 0.6799999999999997)\", \"rgba(219, 64, 82, 0.6719999999999997)\", \"rgba(219, 64, 82, 0.6639999999999997)\", \"rgba(219, 64, 82, 0.6559999999999997)\", \"rgba(219, 64, 82, 0.6479999999999997)\", \"rgba(219, 64, 82, 0.6399999999999997)\", \"rgba(219, 64, 82, 0.6319999999999997)\", \"rgba(219, 64, 82, 0.6239999999999997)\", \"rgba(219, 64, 82, 0.6159999999999997)\", \"rgba(219, 64, 82, 0.6079999999999997)\", \"rgba(219, 64, 82, 0.5999999999999996)\", \"rgba(219, 64, 82, 0.5919999999999996)\", \"rgba(219, 64, 82, 0.5839999999999996)\", \"rgba(219, 64, 82, 0.5759999999999996)\", \"rgba(219, 64, 82, 0.5679999999999996)\", \"rgba(219, 64, 82, 0.5599999999999996)\", \"rgba(219, 64, 82, 0.5519999999999996)\", \"rgba(219, 64, 82, 0.5439999999999996)\", \"rgba(219, 64, 82, 0.5359999999999996)\", \"rgba(219, 64, 82, 0.5279999999999996)\", \"rgba(219, 64, 82, 0.5199999999999996)\", \"rgba(219, 64, 82, 0.5119999999999996)\", \"rgba(219, 64, 82, 0.5039999999999996)\", \"rgba(219, 64, 82, 0.4959999999999996)\", \"rgba(219, 64, 82, 0.4879999999999996)\", \"rgba(219, 64, 82, 0.4799999999999996)\", \"rgba(219, 64, 82, 0.4719999999999996)\", \"rgba(219, 64, 82, 0.4639999999999996)\", \"rgba(219, 64, 82, 0.4559999999999996)\", \"rgba(219, 64, 82, 0.44799999999999957)\", \"rgba(219, 64, 82, 0.43999999999999956)\", \"rgba(219, 64, 82, 0.43199999999999955)\", \"rgba(219, 64, 82, 0.42399999999999954)\", \"rgba(219, 64, 82, 0.41599999999999954)\", \"rgba(219, 64, 82, 0.40799999999999953)\", \"rgba(219, 64, 82, 0.3999999999999995)\", \"rgba(219, 64, 82, 0.3919999999999995)\", \"rgba(219, 64, 82, 0.3839999999999995)\", \"rgba(219, 64, 82, 0.3759999999999995)\", \"rgba(219, 64, 82, 0.3679999999999995)\", \"rgba(219, 64, 82, 0.3599999999999995)\", \"rgba(219, 64, 82, 0.3519999999999995)\", \"rgba(219, 64, 82, 0.3439999999999995)\", \"rgba(219, 64, 82, 0.33599999999999947)\", \"rgba(219, 64, 82, 0.32799999999999946)\", \"rgba(219, 64, 82, 0.31999999999999945)\", \"rgba(219, 64, 82, 0.31199999999999944)\", \"rgba(219, 64, 82, 0.30399999999999944)\", \"rgba(219, 64, 82, 0.29599999999999943)\", \"rgba(219, 64, 82, 0.2879999999999994)\", \"rgba(219, 64, 82, 0.2799999999999994)\", \"rgba(219, 64, 82, 0.2719999999999994)\", \"rgba(219, 64, 82, 0.2639999999999994)\", \"rgba(219, 64, 82, 0.2559999999999994)\", \"rgba(219, 64, 82, 0.2479999999999994)\", \"rgba(219, 64, 82, 0.23999999999999938)\", \"rgba(219, 64, 82, 0.23199999999999937)\", \"rgba(219, 64, 82, 0.22399999999999937)\", \"rgba(219, 64, 82, 0.21599999999999936)\", \"rgba(219, 64, 82, 0.20799999999999935)\"], \"opacity\": 0.8, \"size\": [12, 12, 12, 12, 12, 12, 12, 12, 12, 12, 12, 12, 12, 12, 12, 12, 12, 12, 12, 12, 12, 12, 12, 12, 12, 12, 12, 12, 12, 12, 12, 12, 12, 12, 12, 12, 12, 12, 12, 12, 12, 12, 12, 12, 12, 12, 12, 12, 12, 12, 12, 12, 12, 12, 12, 12, 12, 12, 12, 12, 12, 12, 12, 12, 12, 12, 12, 12, 12, 12, 12, 12, 12, 12, 12, 12, 12, 12, 12, 12, 12, 12, 12, 12, 12, 12, 12, 12, 12, 12, 12, 12, 12, 12, 12, 12, 12, 12, 12, 12], \"symbol\": \"circle\"}, \"mode\": \"markers\", \"text\": [\"0\", \"1\", \"2\", \"3\", \"4\", \"5\", \"6\", \"7\", \"8\", \"9\", \"10\", \"11\", \"12\", \"13\", \"14\", \"15\", \"16\", \"17\", \"18\", \"19\", \"20\", \"21\", \"22\", \"23\", \"24\", \"25\", \"26\", \"27\", \"28\", \"29\", \"30\", \"31\", \"32\", \"33\", \"34\", \"35\", \"36\", \"37\", \"38\", \"39\", \"40\", \"41\", \"42\", \"43\", \"44\", \"45\", \"46\", \"47\", \"48\", \"49\", \"50\", \"51\", \"52\", \"53\", \"54\", \"55\", \"56\", \"57\", \"58\", \"59\", \"60\", \"61\", \"62\", \"63\", \"64\", \"65\", \"66\", \"67\", \"68\", \"69\", \"70\", \"71\", \"72\", \"73\", \"74\", \"75\", \"76\", \"77\", \"78\", \"79\", \"80\", \"81\", \"82\", \"83\", \"84\", \"85\", \"86\", \"87\", \"88\", \"89\", \"90\", \"91\", \"92\", \"93\", \"94\", \"95\", \"96\", \"97\", \"98\", \"99\"], \"type\": \"scatter3d\", \"x\": [-0.9792515936598923, 0.9598050055042266, 1.2879497854926978, -0.7580525281398575, 0.7395394550550108, 0.17019107169090317, -0.1293765011854134, 0.4456954392361662, 0.13772919772007583, -1.1475557380589023, 0.7148856836266592, 1.4579626985599747, 0.8874119734406709, 0.3072755156395645, 2.0957456279779065, 0.5899177376437668, 1.0364047408183756, 0.7388472871926347, 0.17950427668644467, 0.3680753376522049, 0.1368695577373032, 0.8159967349839087, -0.14844827589627468, 0.9610220648185201, 0.8403045958850671, 0.1539828413327248, -0.22403721645926258, -0.9886846475465637, -0.041097672863380195, -0.20336539740261284, -0.8272592313380914, -0.7377644328272414, 0.6228589278084802, 1.0167861280965602, -2.2412581790082666, -0.18088089665349677, 0.38747162796369533, -0.022976036922044408, -0.376997829574464, 0.12116576151183464, 0.004016022807814205, -1.8023654641354336, -0.8309213004133602, -0.37467942398393506, 0.16749391300381028, 2.157106901960888, 0.26801897806054975, -0.12917654316980617, -1.1921864240944327, 1.6144706272625435, 0.44154651927524047, -1.5248455068331284, -1.379729809199886, -0.3071048272960799, 0.11873027241721576, -0.18440988283347878, -1.5364079402765836, -1.7659951853905054, -1.1925247660678762, -0.3719050473318741, 0.9116004418673352, -1.2893901771054779, 0.3494224192856916, 0.12384105919512163, -0.2853887638156255, -0.05477890823051662, -0.13339681427823635, 0.002483580579456353, 0.6483924643575026, -1.7744604454121766, 0.051018691708484755, -0.20831087775659465, 1.2036245135778298, 0.37460006318208516, -0.007357554347866323, 0.5125991262014535, 0.0024173923945399363, -0.8563025126597791, -0.7617603492153533, -1.792629772347877, 0.360765760598241, -0.7718682940507207, 1.6886536550319722, 1.194024448998109, -0.417875534770027, 2.122611684514379, -0.20455142051435, -1.3193963771012482, -1.7879804873841585, 0.4066145570917323, 1.434386069614315, -0.5881888567526482, -1.2337031790890676, -0.7429661704558083, 0.0566414277132115, -1.2378557179328697, -0.43038873430261276, -2.5320354376990766, 0.7598237879841848, 0.48412359488350337], \"y\": [-0.0033035822899469052, 0.3142449677503647, -1.504523021926638, 1.0044432988561958, -0.3786281864931309, 1.6221183698918318, -0.6833666110514979, -0.09085898589503208, 0.4183024142850112, 0.1599510285795126, 0.4983380417069129, -2.38735035273387, -0.17484722770594668, -0.7024036572296523, -0.2377817653329279, 1.0463693206953972, -1.206970761077781, -0.27926473845743927, 0.024497475622231084, 0.07215395894711478, 0.8060503759899023, -0.10523700135619246, 0.4892495322097234, -1.6211612465614205, -0.9413730510682876, 0.5618878755989775, 1.148898697209982, -0.8603059741609684, -0.2545352736983566, 0.3221749143716371, 0.8184090970176358, 0.603400860775381, 0.29148084806096053, 1.2197382793191827, -0.11597682125807925, -0.993512699913698, 0.6287345083305073, -0.23713521257102554, -0.3097494760631051, -0.5890817405505082, -1.1603607004584577, 0.9875973705562235, -0.063031992142952, 0.5528356056102148, 0.9943802775983782, 1.5885704578261726, -0.9751179842350768, 0.6218820952952601, -2.0323297593875838, -0.5484199829062123, -0.12137817399783384, -1.2309977016776752, -0.9313693797491154, 0.2663840238711808, -1.6717292793656437, -0.4542443768926661, -0.2721841210031825, -2.536542463070985, 0.4847118496688762, -2.1214691330865127, -1.1620826355082072, -0.048986563425723995, -1.2645433415566478, 1.9997478527752839, 1.166476246332891, -3.103425838335752, -1.4438539094973724, 1.5718043608392394, -0.7335294160030932, -1.197965786647293, 1.0722513065522665, -0.7826362934224473, -0.49820503134543775, 1.5716627803037155, -0.005317290143883737, -0.3593653166820716, 1.5597095911561978, 1.0503815987596175, 0.3441039774821109, -0.04974121712467084, 0.008170229384752613, -0.9709058136802701, 2.417034408248457, -1.2124867561742774, 0.6046417869674267, -0.3585076795507522, 0.06705171160120478, 1.4546189083140886, -0.42913586866418607, -0.707992549805246, -2.096983049597022, 0.038373856459275275, 0.6579882416462015, 2.2386147056613295, -0.6608003396245523, -0.9953483586408077, 0.43580220111517376, -0.5404418613480602, 3.3467118532442397, 0.34927520878526047], \"z\": [-1.029169055522879, -0.6255978007913707, 1.0417982196879223, 2.2449486385713384, -0.6795945775053402, 0.14631255858470052, 0.3731668746960911, 0.4124420330489584, 1.5113484075983132, 0.5920468325658576, 0.2793855445424416, -0.29619014153343065, 2.3727187380412276, -0.6841365657268245, 0.49440394600584864, 0.6388836557479353, 0.21519353566892171, 0.08067736888339132, 1.355625354020415, -0.348654489687168, -0.4947196965310076, -0.3582819911117431, 0.8482378687717445, -0.7550696581956536, 0.09628928497248218, 0.3694001280085396, 1.7522158422386362, 0.24728003851561672, 1.4320945076126141, 0.38078115390777206, 0.49485054834994746, 0.10834747534480808, 0.40440051019822765, 0.46318804403090136, 0.8498937327069608, 0.30823700591443287, -0.16957495168143608, 1.4656183402677774, -0.2756627766669359, -1.558366156240104, -1.44390954708868, -0.5051680953931286, 0.27620048996716984, -1.8343779836571938, -0.32566386109769674, -0.5377091427902171, -0.8793316602002474, -0.13730101188128274, 0.4739117707913685, 1.9456675653065694, -0.34549575735322996, 0.9720333799605246, -0.26228104507380334, -0.5714395653881361, 0.14502575276461074, -1.8641784872791407, 0.8869491501534156, 1.5217251811022767, 1.3921339746257404, 1.1907950182465863, -1.3679269183388134, -0.42830897316735944, 0.16752652136906077, -0.822993733943916, 0.032639710581331624, -1.7353173585494512, 1.3006424924535107, -2.658447080801197, -0.7260667522978758, -1.346559369571314, 1.2100767873230984, 0.14199042718703583, 1.3810124437891032, 0.17475647805393424, -0.7973890264270153, 0.5809185216045772, -0.3885903405071358, 0.10406688806814304, 1.370396070389675, -0.23398496826648119, -0.29001376284099223, -0.28707110106581923, 0.25979132952928025, -0.1617035485251935, -0.6720898907014572, 0.7962255499025633, -0.6948156806562187, 0.9390569733955219, 1.8104513153386503, 0.5111732025237625, -0.7447934329773587, -0.36545521090245675, 0.12658057977115625, -1.1224377540795116, 0.23315136938347406, -0.3592208292662069, -0.3149408561046429, 0.7604586976536822, 0.8599817036861749, -2.121030951423784]}],                        {\"legend\": {\"bgcolor\": \"#151516\", \"font\": {\"color\": \"#D9D9D9\"}}, \"paper_bgcolor\": \"#151516\", \"plot_bgcolor\": \"#151516\", \"scene\": {\"xaxis\": {\"gridcolor\": \"black\", \"showgrid\": true, \"tickfont\": {\"color\": \"#C2C2C2\"}, \"title\": {\"font\": {\"color\": \"#D9D9D9\"}, \"text\": \"\"}, \"zerolinecolor\": \"#666570\"}, \"yaxis\": {\"gridcolor\": \"black\", \"showgrid\": true, \"tickfont\": {\"color\": \"#C2C2C2\"}, \"title\": {\"font\": {\"color\": \"#D9D9D9\"}, \"text\": \"\"}, \"zerolinecolor\": \"#666570\"}, \"zaxis\": {\"gridcolor\": \"black\", \"showgrid\": true, \"tickfont\": {\"color\": \"#C2C2C2\"}, \"title\": {\"font\": {\"color\": \"#D9D9D9\"}, \"text\": \"\"}, \"zerolinecolor\": \"#666570\"}}, \"template\": {\"data\": {\"bar\": [{\"error_x\": {\"color\": \"#2a3f5f\"}, \"error_y\": {\"color\": \"#2a3f5f\"}, \"marker\": {\"line\": {\"color\": \"#E5ECF6\", \"width\": 0.5}}, \"type\": \"bar\"}], \"barpolar\": [{\"marker\": {\"line\": {\"color\": \"#E5ECF6\", \"width\": 0.5}}, \"type\": \"barpolar\"}], \"carpet\": [{\"aaxis\": {\"endlinecolor\": \"#2a3f5f\", \"gridcolor\": \"white\", \"linecolor\": \"white\", \"minorgridcolor\": \"white\", \"startlinecolor\": \"#2a3f5f\"}, \"baxis\": {\"endlinecolor\": \"#2a3f5f\", \"gridcolor\": \"white\", \"linecolor\": \"white\", \"minorgridcolor\": \"white\", \"startlinecolor\": \"#2a3f5f\"}, \"type\": \"carpet\"}], \"choropleth\": [{\"colorbar\": {\"outlinewidth\": 0, \"ticks\": \"\"}, \"type\": \"choropleth\"}], \"contour\": [{\"colorbar\": {\"outlinewidth\": 0, \"ticks\": \"\"}, \"colorscale\": [[0.0, \"#0d0887\"], [0.1111111111111111, \"#46039f\"], [0.2222222222222222, \"#7201a8\"], [0.3333333333333333, \"#9c179e\"], [0.4444444444444444, \"#bd3786\"], [0.5555555555555556, \"#d8576b\"], [0.6666666666666666, \"#ed7953\"], [0.7777777777777778, \"#fb9f3a\"], [0.8888888888888888, \"#fdca26\"], [1.0, \"#f0f921\"]], \"type\": \"contour\"}], \"contourcarpet\": [{\"colorbar\": {\"outlinewidth\": 0, \"ticks\": \"\"}, \"type\": \"contourcarpet\"}], \"heatmap\": [{\"colorbar\": {\"outlinewidth\": 0, \"ticks\": \"\"}, \"colorscale\": [[0.0, \"#0d0887\"], [0.1111111111111111, \"#46039f\"], [0.2222222222222222, \"#7201a8\"], [0.3333333333333333, \"#9c179e\"], [0.4444444444444444, \"#bd3786\"], [0.5555555555555556, \"#d8576b\"], [0.6666666666666666, \"#ed7953\"], [0.7777777777777778, \"#fb9f3a\"], [0.8888888888888888, \"#fdca26\"], [1.0, \"#f0f921\"]], \"type\": \"heatmap\"}], \"heatmapgl\": [{\"colorbar\": {\"outlinewidth\": 0, \"ticks\": \"\"}, \"colorscale\": [[0.0, \"#0d0887\"], [0.1111111111111111, \"#46039f\"], [0.2222222222222222, \"#7201a8\"], [0.3333333333333333, \"#9c179e\"], [0.4444444444444444, \"#bd3786\"], [0.5555555555555556, \"#d8576b\"], [0.6666666666666666, \"#ed7953\"], [0.7777777777777778, \"#fb9f3a\"], [0.8888888888888888, \"#fdca26\"], [1.0, \"#f0f921\"]], \"type\": \"heatmapgl\"}], \"histogram\": [{\"marker\": {\"colorbar\": {\"outlinewidth\": 0, \"ticks\": \"\"}}, \"type\": \"histogram\"}], \"histogram2d\": [{\"colorbar\": {\"outlinewidth\": 0, \"ticks\": \"\"}, \"colorscale\": [[0.0, \"#0d0887\"], [0.1111111111111111, \"#46039f\"], [0.2222222222222222, \"#7201a8\"], [0.3333333333333333, \"#9c179e\"], [0.4444444444444444, \"#bd3786\"], [0.5555555555555556, \"#d8576b\"], [0.6666666666666666, \"#ed7953\"], [0.7777777777777778, \"#fb9f3a\"], [0.8888888888888888, \"#fdca26\"], [1.0, \"#f0f921\"]], \"type\": \"histogram2d\"}], \"histogram2dcontour\": [{\"colorbar\": {\"outlinewidth\": 0, \"ticks\": \"\"}, \"colorscale\": [[0.0, \"#0d0887\"], [0.1111111111111111, \"#46039f\"], [0.2222222222222222, \"#7201a8\"], [0.3333333333333333, \"#9c179e\"], [0.4444444444444444, \"#bd3786\"], [0.5555555555555556, \"#d8576b\"], [0.6666666666666666, \"#ed7953\"], [0.7777777777777778, \"#fb9f3a\"], [0.8888888888888888, \"#fdca26\"], [1.0, \"#f0f921\"]], \"type\": \"histogram2dcontour\"}], \"mesh3d\": [{\"colorbar\": {\"outlinewidth\": 0, \"ticks\": \"\"}, \"type\": \"mesh3d\"}], \"parcoords\": [{\"line\": {\"colorbar\": {\"outlinewidth\": 0, \"ticks\": \"\"}}, \"type\": \"parcoords\"}], \"pie\": [{\"automargin\": true, \"type\": \"pie\"}], \"scatter\": [{\"marker\": {\"colorbar\": {\"outlinewidth\": 0, \"ticks\": \"\"}}, \"type\": \"scatter\"}], \"scatter3d\": [{\"line\": {\"colorbar\": {\"outlinewidth\": 0, \"ticks\": \"\"}}, \"marker\": {\"colorbar\": {\"outlinewidth\": 0, \"ticks\": \"\"}}, \"type\": \"scatter3d\"}], \"scattercarpet\": [{\"marker\": {\"colorbar\": {\"outlinewidth\": 0, \"ticks\": \"\"}}, \"type\": \"scattercarpet\"}], \"scattergeo\": [{\"marker\": {\"colorbar\": {\"outlinewidth\": 0, \"ticks\": \"\"}}, \"type\": \"scattergeo\"}], \"scattergl\": [{\"marker\": {\"colorbar\": {\"outlinewidth\": 0, \"ticks\": \"\"}}, \"type\": \"scattergl\"}], \"scattermapbox\": [{\"marker\": {\"colorbar\": {\"outlinewidth\": 0, \"ticks\": \"\"}}, \"type\": \"scattermapbox\"}], \"scatterpolar\": [{\"marker\": {\"colorbar\": {\"outlinewidth\": 0, \"ticks\": \"\"}}, \"type\": \"scatterpolar\"}], \"scatterpolargl\": [{\"marker\": {\"colorbar\": {\"outlinewidth\": 0, \"ticks\": \"\"}}, \"type\": \"scatterpolargl\"}], \"scatterternary\": [{\"marker\": {\"colorbar\": {\"outlinewidth\": 0, \"ticks\": \"\"}}, \"type\": \"scatterternary\"}], \"surface\": [{\"colorbar\": {\"outlinewidth\": 0, \"ticks\": \"\"}, \"colorscale\": [[0.0, \"#0d0887\"], [0.1111111111111111, \"#46039f\"], [0.2222222222222222, \"#7201a8\"], [0.3333333333333333, \"#9c179e\"], [0.4444444444444444, \"#bd3786\"], [0.5555555555555556, \"#d8576b\"], [0.6666666666666666, \"#ed7953\"], [0.7777777777777778, \"#fb9f3a\"], [0.8888888888888888, \"#fdca26\"], [1.0, \"#f0f921\"]], \"type\": \"surface\"}], \"table\": [{\"cells\": {\"fill\": {\"color\": \"#EBF0F8\"}, \"line\": {\"color\": \"white\"}}, \"header\": {\"fill\": {\"color\": \"#C8D4E3\"}, \"line\": {\"color\": \"white\"}}, \"type\": \"table\"}]}, \"layout\": {\"annotationdefaults\": {\"arrowcolor\": \"#2a3f5f\", \"arrowhead\": 0, \"arrowwidth\": 1}, \"autotypenumbers\": \"strict\", \"coloraxis\": {\"colorbar\": {\"outlinewidth\": 0, \"ticks\": \"\"}}, \"colorscale\": {\"diverging\": [[0, \"#8e0152\"], [0.1, \"#c51b7d\"], [0.2, \"#de77ae\"], [0.3, \"#f1b6da\"], [0.4, \"#fde0ef\"], [0.5, \"#f7f7f7\"], [0.6, \"#e6f5d0\"], [0.7, \"#b8e186\"], [0.8, \"#7fbc41\"], [0.9, \"#4d9221\"], [1, \"#276419\"]], \"sequential\": [[0.0, \"#0d0887\"], [0.1111111111111111, \"#46039f\"], [0.2222222222222222, \"#7201a8\"], [0.3333333333333333, \"#9c179e\"], [0.4444444444444444, \"#bd3786\"], [0.5555555555555556, \"#d8576b\"], [0.6666666666666666, \"#ed7953\"], [0.7777777777777778, \"#fb9f3a\"], [0.8888888888888888, \"#fdca26\"], [1.0, \"#f0f921\"]], \"sequentialminus\": [[0.0, \"#0d0887\"], [0.1111111111111111, \"#46039f\"], [0.2222222222222222, \"#7201a8\"], [0.3333333333333333, \"#9c179e\"], [0.4444444444444444, \"#bd3786\"], [0.5555555555555556, \"#d8576b\"], [0.6666666666666666, \"#ed7953\"], [0.7777777777777778, \"#fb9f3a\"], [0.8888888888888888, \"#fdca26\"], [1.0, \"#f0f921\"]]}, \"colorway\": [\"#636efa\", \"#EF553B\", \"#00cc96\", \"#ab63fa\", \"#FFA15A\", \"#19d3f3\", \"#FF6692\", \"#B6E880\", \"#FF97FF\", \"#FECB52\"], \"font\": {\"color\": \"#2a3f5f\"}, \"geo\": {\"bgcolor\": \"white\", \"lakecolor\": \"white\", \"landcolor\": \"#E5ECF6\", \"showlakes\": true, \"showland\": true, \"subunitcolor\": \"white\"}, \"hoverlabel\": {\"align\": \"left\"}, \"hovermode\": \"closest\", \"mapbox\": {\"style\": \"light\"}, \"paper_bgcolor\": \"white\", \"plot_bgcolor\": \"#E5ECF6\", \"polar\": {\"angularaxis\": {\"gridcolor\": \"white\", \"linecolor\": \"white\", \"ticks\": \"\"}, \"bgcolor\": \"#E5ECF6\", \"radialaxis\": {\"gridcolor\": \"white\", \"linecolor\": \"white\", \"ticks\": \"\"}}, \"scene\": {\"xaxis\": {\"backgroundcolor\": \"#E5ECF6\", \"gridcolor\": \"white\", \"gridwidth\": 2, \"linecolor\": \"white\", \"showbackground\": true, \"ticks\": \"\", \"zerolinecolor\": \"white\"}, \"yaxis\": {\"backgroundcolor\": \"#E5ECF6\", \"gridcolor\": \"white\", \"gridwidth\": 2, \"linecolor\": \"white\", \"showbackground\": true, \"ticks\": \"\", \"zerolinecolor\": \"white\"}, \"zaxis\": {\"backgroundcolor\": \"#E5ECF6\", \"gridcolor\": \"white\", \"gridwidth\": 2, \"linecolor\": \"white\", \"showbackground\": true, \"ticks\": \"\", \"zerolinecolor\": \"white\"}}, \"shapedefaults\": {\"line\": {\"color\": \"#2a3f5f\"}}, \"ternary\": {\"aaxis\": {\"gridcolor\": \"white\", \"linecolor\": \"white\", \"ticks\": \"\"}, \"baxis\": {\"gridcolor\": \"white\", \"linecolor\": \"white\", \"ticks\": \"\"}, \"bgcolor\": \"#E5ECF6\", \"caxis\": {\"gridcolor\": \"white\", \"linecolor\": \"white\", \"ticks\": \"\"}}, \"title\": {\"x\": 0.05}, \"xaxis\": {\"automargin\": true, \"gridcolor\": \"white\", \"linecolor\": \"white\", \"ticks\": \"\", \"title\": {\"standoff\": 15}, \"zerolinecolor\": \"white\", \"zerolinewidth\": 2}, \"yaxis\": {\"automargin\": true, \"gridcolor\": \"white\", \"linecolor\": \"white\", \"ticks\": \"\", \"title\": {\"standoff\": 15}, \"zerolinecolor\": \"white\", \"zerolinewidth\": 2}}}, \"title\": {\"font\": {\"color\": \"#D9D9D9\"}}},                        {\"showLink\": true, \"linkText\": \"Export to plot.ly\", \"plotlyServerURL\": \"https://plot.ly\", \"responsive\": true}                    ).then(function(){\n                            \nvar gd = document.getElementById('1d10e217-8479-4674-9a1c-eae066ceabd3');\nvar x = new MutationObserver(function (mutations, observer) {{\n        var display = window.getComputedStyle(gd).display;\n        if (!display || display === 'none') {{\n            console.log([gd, 'removed!']);\n            Plotly.purge(gd);\n            observer.disconnect();\n        }}\n}});\n\n// Listen for the removal of the full notebook cells\nvar notebookContainer = gd.closest('#notebook-container');\nif (notebookContainer) {{\n    x.observe(notebookContainer, {childList: true});\n}}\n\n// Listen for the clearing of the current output cell\nvar outputEl = gd.closest('.output');\nif (outputEl) {{\n    x.observe(outputEl, {childList: true});\n}}\n\n                        })                };                });            </script>        </div>"
     },
     "metadata": {}
    }
   ],
   "source": [
    "# Scatter3d takes 3 variables as input, x,y,z axis\n",
    "df.iplot(kind='scatter3d', x='A', y='B', z='C', mode= 'markers', theme= 'solar', gridcolor= 'black', colors= 'red' )"
   ]
  },
  {
   "source": [
    "*3. barplot*"
   ],
   "cell_type": "markdown",
   "metadata": {}
  },
  {
   "cell_type": "code",
   "execution_count": 165,
   "metadata": {},
   "outputs": [
    {
     "output_type": "execute_result",
     "data": {
      "text/plain": [
       "['ggplot', 'pearl', 'solar', 'space', 'white', 'polar', 'henanigans']"
      ]
     },
     "metadata": {},
     "execution_count": 165
    }
   ],
   "source": [
    "cf.getThemes()"
   ]
  },
  {
   "cell_type": "code",
   "execution_count": 169,
   "metadata": {},
   "outputs": [
    {
     "output_type": "display_data",
     "data": {
      "application/vnd.plotly.v1+json": {
       "config": {
        "linkText": "Export to plot.ly",
        "plotlyServerURL": "https://plot.ly",
        "showLink": true
       },
       "data": [
        {
         "marker": {
          "color": "rgba(55, 128, 191, 0.6)",
          "line": {
           "color": "rgba(55, 128, 191, 1.0)",
           "width": 1
          }
         },
         "name": "values",
         "orientation": "v",
         "text": "",
         "type": "bar",
         "x": [
          "A",
          "B",
          "C"
         ],
         "y": [
          32,
          43,
          50
         ]
        }
       ],
       "layout": {
        "legend": {
         "bgcolor": "#242424",
         "font": {
          "color": "#F4F4F4"
         }
        },
        "paper_bgcolor": "#242424",
        "plot_bgcolor": "#242424",
        "template": {
         "data": {
          "bar": [
           {
            "error_x": {
             "color": "#2a3f5f"
            },
            "error_y": {
             "color": "#2a3f5f"
            },
            "marker": {
             "line": {
              "color": "#E5ECF6",
              "width": 0.5
             }
            },
            "type": "bar"
           }
          ],
          "barpolar": [
           {
            "marker": {
             "line": {
              "color": "#E5ECF6",
              "width": 0.5
             }
            },
            "type": "barpolar"
           }
          ],
          "carpet": [
           {
            "aaxis": {
             "endlinecolor": "#2a3f5f",
             "gridcolor": "white",
             "linecolor": "white",
             "minorgridcolor": "white",
             "startlinecolor": "#2a3f5f"
            },
            "baxis": {
             "endlinecolor": "#2a3f5f",
             "gridcolor": "white",
             "linecolor": "white",
             "minorgridcolor": "white",
             "startlinecolor": "#2a3f5f"
            },
            "type": "carpet"
           }
          ],
          "choropleth": [
           {
            "colorbar": {
             "outlinewidth": 0,
             "ticks": ""
            },
            "type": "choropleth"
           }
          ],
          "contour": [
           {
            "colorbar": {
             "outlinewidth": 0,
             "ticks": ""
            },
            "colorscale": [
             [
              0,
              "#0d0887"
             ],
             [
              0.1111111111111111,
              "#46039f"
             ],
             [
              0.2222222222222222,
              "#7201a8"
             ],
             [
              0.3333333333333333,
              "#9c179e"
             ],
             [
              0.4444444444444444,
              "#bd3786"
             ],
             [
              0.5555555555555556,
              "#d8576b"
             ],
             [
              0.6666666666666666,
              "#ed7953"
             ],
             [
              0.7777777777777778,
              "#fb9f3a"
             ],
             [
              0.8888888888888888,
              "#fdca26"
             ],
             [
              1,
              "#f0f921"
             ]
            ],
            "type": "contour"
           }
          ],
          "contourcarpet": [
           {
            "colorbar": {
             "outlinewidth": 0,
             "ticks": ""
            },
            "type": "contourcarpet"
           }
          ],
          "heatmap": [
           {
            "colorbar": {
             "outlinewidth": 0,
             "ticks": ""
            },
            "colorscale": [
             [
              0,
              "#0d0887"
             ],
             [
              0.1111111111111111,
              "#46039f"
             ],
             [
              0.2222222222222222,
              "#7201a8"
             ],
             [
              0.3333333333333333,
              "#9c179e"
             ],
             [
              0.4444444444444444,
              "#bd3786"
             ],
             [
              0.5555555555555556,
              "#d8576b"
             ],
             [
              0.6666666666666666,
              "#ed7953"
             ],
             [
              0.7777777777777778,
              "#fb9f3a"
             ],
             [
              0.8888888888888888,
              "#fdca26"
             ],
             [
              1,
              "#f0f921"
             ]
            ],
            "type": "heatmap"
           }
          ],
          "heatmapgl": [
           {
            "colorbar": {
             "outlinewidth": 0,
             "ticks": ""
            },
            "colorscale": [
             [
              0,
              "#0d0887"
             ],
             [
              0.1111111111111111,
              "#46039f"
             ],
             [
              0.2222222222222222,
              "#7201a8"
             ],
             [
              0.3333333333333333,
              "#9c179e"
             ],
             [
              0.4444444444444444,
              "#bd3786"
             ],
             [
              0.5555555555555556,
              "#d8576b"
             ],
             [
              0.6666666666666666,
              "#ed7953"
             ],
             [
              0.7777777777777778,
              "#fb9f3a"
             ],
             [
              0.8888888888888888,
              "#fdca26"
             ],
             [
              1,
              "#f0f921"
             ]
            ],
            "type": "heatmapgl"
           }
          ],
          "histogram": [
           {
            "marker": {
             "colorbar": {
              "outlinewidth": 0,
              "ticks": ""
             }
            },
            "type": "histogram"
           }
          ],
          "histogram2d": [
           {
            "colorbar": {
             "outlinewidth": 0,
             "ticks": ""
            },
            "colorscale": [
             [
              0,
              "#0d0887"
             ],
             [
              0.1111111111111111,
              "#46039f"
             ],
             [
              0.2222222222222222,
              "#7201a8"
             ],
             [
              0.3333333333333333,
              "#9c179e"
             ],
             [
              0.4444444444444444,
              "#bd3786"
             ],
             [
              0.5555555555555556,
              "#d8576b"
             ],
             [
              0.6666666666666666,
              "#ed7953"
             ],
             [
              0.7777777777777778,
              "#fb9f3a"
             ],
             [
              0.8888888888888888,
              "#fdca26"
             ],
             [
              1,
              "#f0f921"
             ]
            ],
            "type": "histogram2d"
           }
          ],
          "histogram2dcontour": [
           {
            "colorbar": {
             "outlinewidth": 0,
             "ticks": ""
            },
            "colorscale": [
             [
              0,
              "#0d0887"
             ],
             [
              0.1111111111111111,
              "#46039f"
             ],
             [
              0.2222222222222222,
              "#7201a8"
             ],
             [
              0.3333333333333333,
              "#9c179e"
             ],
             [
              0.4444444444444444,
              "#bd3786"
             ],
             [
              0.5555555555555556,
              "#d8576b"
             ],
             [
              0.6666666666666666,
              "#ed7953"
             ],
             [
              0.7777777777777778,
              "#fb9f3a"
             ],
             [
              0.8888888888888888,
              "#fdca26"
             ],
             [
              1,
              "#f0f921"
             ]
            ],
            "type": "histogram2dcontour"
           }
          ],
          "mesh3d": [
           {
            "colorbar": {
             "outlinewidth": 0,
             "ticks": ""
            },
            "type": "mesh3d"
           }
          ],
          "parcoords": [
           {
            "line": {
             "colorbar": {
              "outlinewidth": 0,
              "ticks": ""
             }
            },
            "type": "parcoords"
           }
          ],
          "pie": [
           {
            "automargin": true,
            "type": "pie"
           }
          ],
          "scatter": [
           {
            "marker": {
             "colorbar": {
              "outlinewidth": 0,
              "ticks": ""
             }
            },
            "type": "scatter"
           }
          ],
          "scatter3d": [
           {
            "line": {
             "colorbar": {
              "outlinewidth": 0,
              "ticks": ""
             }
            },
            "marker": {
             "colorbar": {
              "outlinewidth": 0,
              "ticks": ""
             }
            },
            "type": "scatter3d"
           }
          ],
          "scattercarpet": [
           {
            "marker": {
             "colorbar": {
              "outlinewidth": 0,
              "ticks": ""
             }
            },
            "type": "scattercarpet"
           }
          ],
          "scattergeo": [
           {
            "marker": {
             "colorbar": {
              "outlinewidth": 0,
              "ticks": ""
             }
            },
            "type": "scattergeo"
           }
          ],
          "scattergl": [
           {
            "marker": {
             "colorbar": {
              "outlinewidth": 0,
              "ticks": ""
             }
            },
            "type": "scattergl"
           }
          ],
          "scattermapbox": [
           {
            "marker": {
             "colorbar": {
              "outlinewidth": 0,
              "ticks": ""
             }
            },
            "type": "scattermapbox"
           }
          ],
          "scatterpolar": [
           {
            "marker": {
             "colorbar": {
              "outlinewidth": 0,
              "ticks": ""
             }
            },
            "type": "scatterpolar"
           }
          ],
          "scatterpolargl": [
           {
            "marker": {
             "colorbar": {
              "outlinewidth": 0,
              "ticks": ""
             }
            },
            "type": "scatterpolargl"
           }
          ],
          "scatterternary": [
           {
            "marker": {
             "colorbar": {
              "outlinewidth": 0,
              "ticks": ""
             }
            },
            "type": "scatterternary"
           }
          ],
          "surface": [
           {
            "colorbar": {
             "outlinewidth": 0,
             "ticks": ""
            },
            "colorscale": [
             [
              0,
              "#0d0887"
             ],
             [
              0.1111111111111111,
              "#46039f"
             ],
             [
              0.2222222222222222,
              "#7201a8"
             ],
             [
              0.3333333333333333,
              "#9c179e"
             ],
             [
              0.4444444444444444,
              "#bd3786"
             ],
             [
              0.5555555555555556,
              "#d8576b"
             ],
             [
              0.6666666666666666,
              "#ed7953"
             ],
             [
              0.7777777777777778,
              "#fb9f3a"
             ],
             [
              0.8888888888888888,
              "#fdca26"
             ],
             [
              1,
              "#f0f921"
             ]
            ],
            "type": "surface"
           }
          ],
          "table": [
           {
            "cells": {
             "fill": {
              "color": "#EBF0F8"
             },
             "line": {
              "color": "white"
             }
            },
            "header": {
             "fill": {
              "color": "#C8D4E3"
             },
             "line": {
              "color": "white"
             }
            },
            "type": "table"
           }
          ]
         },
         "layout": {
          "annotationdefaults": {
           "arrowcolor": "#2a3f5f",
           "arrowhead": 0,
           "arrowwidth": 1
          },
          "autotypenumbers": "strict",
          "coloraxis": {
           "colorbar": {
            "outlinewidth": 0,
            "ticks": ""
           }
          },
          "colorscale": {
           "diverging": [
            [
             0,
             "#8e0152"
            ],
            [
             0.1,
             "#c51b7d"
            ],
            [
             0.2,
             "#de77ae"
            ],
            [
             0.3,
             "#f1b6da"
            ],
            [
             0.4,
             "#fde0ef"
            ],
            [
             0.5,
             "#f7f7f7"
            ],
            [
             0.6,
             "#e6f5d0"
            ],
            [
             0.7,
             "#b8e186"
            ],
            [
             0.8,
             "#7fbc41"
            ],
            [
             0.9,
             "#4d9221"
            ],
            [
             1,
             "#276419"
            ]
           ],
           "sequential": [
            [
             0,
             "#0d0887"
            ],
            [
             0.1111111111111111,
             "#46039f"
            ],
            [
             0.2222222222222222,
             "#7201a8"
            ],
            [
             0.3333333333333333,
             "#9c179e"
            ],
            [
             0.4444444444444444,
             "#bd3786"
            ],
            [
             0.5555555555555556,
             "#d8576b"
            ],
            [
             0.6666666666666666,
             "#ed7953"
            ],
            [
             0.7777777777777778,
             "#fb9f3a"
            ],
            [
             0.8888888888888888,
             "#fdca26"
            ],
            [
             1,
             "#f0f921"
            ]
           ],
           "sequentialminus": [
            [
             0,
             "#0d0887"
            ],
            [
             0.1111111111111111,
             "#46039f"
            ],
            [
             0.2222222222222222,
             "#7201a8"
            ],
            [
             0.3333333333333333,
             "#9c179e"
            ],
            [
             0.4444444444444444,
             "#bd3786"
            ],
            [
             0.5555555555555556,
             "#d8576b"
            ],
            [
             0.6666666666666666,
             "#ed7953"
            ],
            [
             0.7777777777777778,
             "#fb9f3a"
            ],
            [
             0.8888888888888888,
             "#fdca26"
            ],
            [
             1,
             "#f0f921"
            ]
           ]
          },
          "colorway": [
           "#636efa",
           "#EF553B",
           "#00cc96",
           "#ab63fa",
           "#FFA15A",
           "#19d3f3",
           "#FF6692",
           "#B6E880",
           "#FF97FF",
           "#FECB52"
          ],
          "font": {
           "color": "#2a3f5f"
          },
          "geo": {
           "bgcolor": "white",
           "lakecolor": "white",
           "landcolor": "#E5ECF6",
           "showlakes": true,
           "showland": true,
           "subunitcolor": "white"
          },
          "hoverlabel": {
           "align": "left"
          },
          "hovermode": "closest",
          "mapbox": {
           "style": "light"
          },
          "paper_bgcolor": "white",
          "plot_bgcolor": "#E5ECF6",
          "polar": {
           "angularaxis": {
            "gridcolor": "white",
            "linecolor": "white",
            "ticks": ""
           },
           "bgcolor": "#E5ECF6",
           "radialaxis": {
            "gridcolor": "white",
            "linecolor": "white",
            "ticks": ""
           }
          },
          "scene": {
           "xaxis": {
            "backgroundcolor": "#E5ECF6",
            "gridcolor": "white",
            "gridwidth": 2,
            "linecolor": "white",
            "showbackground": true,
            "ticks": "",
            "zerolinecolor": "white"
           },
           "yaxis": {
            "backgroundcolor": "#E5ECF6",
            "gridcolor": "white",
            "gridwidth": 2,
            "linecolor": "white",
            "showbackground": true,
            "ticks": "",
            "zerolinecolor": "white"
           },
           "zaxis": {
            "backgroundcolor": "#E5ECF6",
            "gridcolor": "white",
            "gridwidth": 2,
            "linecolor": "white",
            "showbackground": true,
            "ticks": "",
            "zerolinecolor": "white"
           }
          },
          "shapedefaults": {
           "line": {
            "color": "#2a3f5f"
           }
          },
          "ternary": {
           "aaxis": {
            "gridcolor": "white",
            "linecolor": "white",
            "ticks": ""
           },
           "baxis": {
            "gridcolor": "white",
            "linecolor": "white",
            "ticks": ""
           },
           "bgcolor": "#E5ECF6",
           "caxis": {
            "gridcolor": "white",
            "linecolor": "white",
            "ticks": ""
           }
          },
          "title": {
           "x": 0.05
          },
          "xaxis": {
           "automargin": true,
           "gridcolor": "white",
           "linecolor": "white",
           "ticks": "",
           "title": {
            "standoff": 15
           },
           "zerolinecolor": "white",
           "zerolinewidth": 2
          },
          "yaxis": {
           "automargin": true,
           "gridcolor": "white",
           "linecolor": "white",
           "ticks": "",
           "title": {
            "standoff": 15
           },
           "zerolinecolor": "white",
           "zerolinewidth": 2
          }
         }
        },
        "title": {
         "font": {
          "color": "#F4F4F4"
         },
         "text": "Barplot"
        },
        "xaxis": {
         "gridcolor": "skyblue",
         "showgrid": true,
         "tickfont": {
          "color": "#A4A4A4"
         },
         "title": {
          "font": {
           "color": "#A4A4A4"
          },
          "text": "Categories ---->"
         },
         "zerolinecolor": "#444444"
        },
        "yaxis": {
         "gridcolor": "skyblue",
         "showgrid": true,
         "tickfont": {
          "color": "#A4A4A4"
         },
         "title": {
          "font": {
           "color": "#A4A4A4"
          },
          "text": "Values ----->"
         },
         "zerolinecolor": "#444444"
        }
       }
      },
      "text/html": "<div>                            <div id=\"e08854f9-aabf-4c9c-9c8e-f38041a15b5b\" class=\"plotly-graph-div\" style=\"height:525px; width:100%;\"></div>            <script type=\"text/javascript\">                require([\"plotly\"], function(Plotly) {                    window.PLOTLYENV=window.PLOTLYENV || {};\n                    window.PLOTLYENV.BASE_URL='https://plot.ly';                                    if (document.getElementById(\"e08854f9-aabf-4c9c-9c8e-f38041a15b5b\")) {                    Plotly.newPlot(                        \"e08854f9-aabf-4c9c-9c8e-f38041a15b5b\",                        [{\"marker\": {\"color\": \"rgba(55, 128, 191, 0.6)\", \"line\": {\"color\": \"rgba(55, 128, 191, 1.0)\", \"width\": 1}}, \"name\": \"values\", \"orientation\": \"v\", \"text\": \"\", \"type\": \"bar\", \"x\": [\"A\", \"B\", \"C\"], \"y\": [32, 43, 50]}],                        {\"legend\": {\"bgcolor\": \"#242424\", \"font\": {\"color\": \"#F4F4F4\"}}, \"paper_bgcolor\": \"#242424\", \"plot_bgcolor\": \"#242424\", \"template\": {\"data\": {\"bar\": [{\"error_x\": {\"color\": \"#2a3f5f\"}, \"error_y\": {\"color\": \"#2a3f5f\"}, \"marker\": {\"line\": {\"color\": \"#E5ECF6\", \"width\": 0.5}}, \"type\": \"bar\"}], \"barpolar\": [{\"marker\": {\"line\": {\"color\": \"#E5ECF6\", \"width\": 0.5}}, \"type\": \"barpolar\"}], \"carpet\": [{\"aaxis\": {\"endlinecolor\": \"#2a3f5f\", \"gridcolor\": \"white\", \"linecolor\": \"white\", \"minorgridcolor\": \"white\", \"startlinecolor\": \"#2a3f5f\"}, \"baxis\": {\"endlinecolor\": \"#2a3f5f\", \"gridcolor\": \"white\", \"linecolor\": \"white\", \"minorgridcolor\": \"white\", \"startlinecolor\": \"#2a3f5f\"}, \"type\": \"carpet\"}], \"choropleth\": [{\"colorbar\": {\"outlinewidth\": 0, \"ticks\": \"\"}, \"type\": \"choropleth\"}], \"contour\": [{\"colorbar\": {\"outlinewidth\": 0, \"ticks\": \"\"}, \"colorscale\": [[0.0, \"#0d0887\"], [0.1111111111111111, \"#46039f\"], [0.2222222222222222, \"#7201a8\"], [0.3333333333333333, \"#9c179e\"], [0.4444444444444444, \"#bd3786\"], [0.5555555555555556, \"#d8576b\"], [0.6666666666666666, \"#ed7953\"], [0.7777777777777778, \"#fb9f3a\"], [0.8888888888888888, \"#fdca26\"], [1.0, \"#f0f921\"]], \"type\": \"contour\"}], \"contourcarpet\": [{\"colorbar\": {\"outlinewidth\": 0, \"ticks\": \"\"}, \"type\": \"contourcarpet\"}], \"heatmap\": [{\"colorbar\": {\"outlinewidth\": 0, \"ticks\": \"\"}, \"colorscale\": [[0.0, \"#0d0887\"], [0.1111111111111111, \"#46039f\"], [0.2222222222222222, \"#7201a8\"], [0.3333333333333333, \"#9c179e\"], [0.4444444444444444, \"#bd3786\"], [0.5555555555555556, \"#d8576b\"], [0.6666666666666666, \"#ed7953\"], [0.7777777777777778, \"#fb9f3a\"], [0.8888888888888888, \"#fdca26\"], [1.0, \"#f0f921\"]], \"type\": \"heatmap\"}], \"heatmapgl\": [{\"colorbar\": {\"outlinewidth\": 0, \"ticks\": \"\"}, \"colorscale\": [[0.0, \"#0d0887\"], [0.1111111111111111, \"#46039f\"], [0.2222222222222222, \"#7201a8\"], [0.3333333333333333, \"#9c179e\"], [0.4444444444444444, \"#bd3786\"], [0.5555555555555556, \"#d8576b\"], [0.6666666666666666, \"#ed7953\"], [0.7777777777777778, \"#fb9f3a\"], [0.8888888888888888, \"#fdca26\"], [1.0, \"#f0f921\"]], \"type\": \"heatmapgl\"}], \"histogram\": [{\"marker\": {\"colorbar\": {\"outlinewidth\": 0, \"ticks\": \"\"}}, \"type\": \"histogram\"}], \"histogram2d\": [{\"colorbar\": {\"outlinewidth\": 0, \"ticks\": \"\"}, \"colorscale\": [[0.0, \"#0d0887\"], [0.1111111111111111, \"#46039f\"], [0.2222222222222222, \"#7201a8\"], [0.3333333333333333, \"#9c179e\"], [0.4444444444444444, \"#bd3786\"], [0.5555555555555556, \"#d8576b\"], [0.6666666666666666, \"#ed7953\"], [0.7777777777777778, \"#fb9f3a\"], [0.8888888888888888, \"#fdca26\"], [1.0, \"#f0f921\"]], \"type\": \"histogram2d\"}], \"histogram2dcontour\": [{\"colorbar\": {\"outlinewidth\": 0, \"ticks\": \"\"}, \"colorscale\": [[0.0, \"#0d0887\"], [0.1111111111111111, \"#46039f\"], [0.2222222222222222, \"#7201a8\"], [0.3333333333333333, \"#9c179e\"], [0.4444444444444444, \"#bd3786\"], [0.5555555555555556, \"#d8576b\"], [0.6666666666666666, \"#ed7953\"], [0.7777777777777778, \"#fb9f3a\"], [0.8888888888888888, \"#fdca26\"], [1.0, \"#f0f921\"]], \"type\": \"histogram2dcontour\"}], \"mesh3d\": [{\"colorbar\": {\"outlinewidth\": 0, \"ticks\": \"\"}, \"type\": \"mesh3d\"}], \"parcoords\": [{\"line\": {\"colorbar\": {\"outlinewidth\": 0, \"ticks\": \"\"}}, \"type\": \"parcoords\"}], \"pie\": [{\"automargin\": true, \"type\": \"pie\"}], \"scatter\": [{\"marker\": {\"colorbar\": {\"outlinewidth\": 0, \"ticks\": \"\"}}, \"type\": \"scatter\"}], \"scatter3d\": [{\"line\": {\"colorbar\": {\"outlinewidth\": 0, \"ticks\": \"\"}}, \"marker\": {\"colorbar\": {\"outlinewidth\": 0, \"ticks\": \"\"}}, \"type\": \"scatter3d\"}], \"scattercarpet\": [{\"marker\": {\"colorbar\": {\"outlinewidth\": 0, \"ticks\": \"\"}}, \"type\": \"scattercarpet\"}], \"scattergeo\": [{\"marker\": {\"colorbar\": {\"outlinewidth\": 0, \"ticks\": \"\"}}, \"type\": \"scattergeo\"}], \"scattergl\": [{\"marker\": {\"colorbar\": {\"outlinewidth\": 0, \"ticks\": \"\"}}, \"type\": \"scattergl\"}], \"scattermapbox\": [{\"marker\": {\"colorbar\": {\"outlinewidth\": 0, \"ticks\": \"\"}}, \"type\": \"scattermapbox\"}], \"scatterpolar\": [{\"marker\": {\"colorbar\": {\"outlinewidth\": 0, \"ticks\": \"\"}}, \"type\": \"scatterpolar\"}], \"scatterpolargl\": [{\"marker\": {\"colorbar\": {\"outlinewidth\": 0, \"ticks\": \"\"}}, \"type\": \"scatterpolargl\"}], \"scatterternary\": [{\"marker\": {\"colorbar\": {\"outlinewidth\": 0, \"ticks\": \"\"}}, \"type\": \"scatterternary\"}], \"surface\": [{\"colorbar\": {\"outlinewidth\": 0, \"ticks\": \"\"}, \"colorscale\": [[0.0, \"#0d0887\"], [0.1111111111111111, \"#46039f\"], [0.2222222222222222, \"#7201a8\"], [0.3333333333333333, \"#9c179e\"], [0.4444444444444444, \"#bd3786\"], [0.5555555555555556, \"#d8576b\"], [0.6666666666666666, \"#ed7953\"], [0.7777777777777778, \"#fb9f3a\"], [0.8888888888888888, \"#fdca26\"], [1.0, \"#f0f921\"]], \"type\": \"surface\"}], \"table\": [{\"cells\": {\"fill\": {\"color\": \"#EBF0F8\"}, \"line\": {\"color\": \"white\"}}, \"header\": {\"fill\": {\"color\": \"#C8D4E3\"}, \"line\": {\"color\": \"white\"}}, \"type\": \"table\"}]}, \"layout\": {\"annotationdefaults\": {\"arrowcolor\": \"#2a3f5f\", \"arrowhead\": 0, \"arrowwidth\": 1}, \"autotypenumbers\": \"strict\", \"coloraxis\": {\"colorbar\": {\"outlinewidth\": 0, \"ticks\": \"\"}}, \"colorscale\": {\"diverging\": [[0, \"#8e0152\"], [0.1, \"#c51b7d\"], [0.2, \"#de77ae\"], [0.3, \"#f1b6da\"], [0.4, \"#fde0ef\"], [0.5, \"#f7f7f7\"], [0.6, \"#e6f5d0\"], [0.7, \"#b8e186\"], [0.8, \"#7fbc41\"], [0.9, \"#4d9221\"], [1, \"#276419\"]], \"sequential\": [[0.0, \"#0d0887\"], [0.1111111111111111, \"#46039f\"], [0.2222222222222222, \"#7201a8\"], [0.3333333333333333, \"#9c179e\"], [0.4444444444444444, \"#bd3786\"], [0.5555555555555556, \"#d8576b\"], [0.6666666666666666, \"#ed7953\"], [0.7777777777777778, \"#fb9f3a\"], [0.8888888888888888, \"#fdca26\"], [1.0, \"#f0f921\"]], \"sequentialminus\": [[0.0, \"#0d0887\"], [0.1111111111111111, \"#46039f\"], [0.2222222222222222, \"#7201a8\"], [0.3333333333333333, \"#9c179e\"], [0.4444444444444444, \"#bd3786\"], [0.5555555555555556, \"#d8576b\"], [0.6666666666666666, \"#ed7953\"], [0.7777777777777778, \"#fb9f3a\"], [0.8888888888888888, \"#fdca26\"], [1.0, \"#f0f921\"]]}, \"colorway\": [\"#636efa\", \"#EF553B\", \"#00cc96\", \"#ab63fa\", \"#FFA15A\", \"#19d3f3\", \"#FF6692\", \"#B6E880\", \"#FF97FF\", \"#FECB52\"], \"font\": {\"color\": \"#2a3f5f\"}, \"geo\": {\"bgcolor\": \"white\", \"lakecolor\": \"white\", \"landcolor\": \"#E5ECF6\", \"showlakes\": true, \"showland\": true, \"subunitcolor\": \"white\"}, \"hoverlabel\": {\"align\": \"left\"}, \"hovermode\": \"closest\", \"mapbox\": {\"style\": \"light\"}, \"paper_bgcolor\": \"white\", \"plot_bgcolor\": \"#E5ECF6\", \"polar\": {\"angularaxis\": {\"gridcolor\": \"white\", \"linecolor\": \"white\", \"ticks\": \"\"}, \"bgcolor\": \"#E5ECF6\", \"radialaxis\": {\"gridcolor\": \"white\", \"linecolor\": \"white\", \"ticks\": \"\"}}, \"scene\": {\"xaxis\": {\"backgroundcolor\": \"#E5ECF6\", \"gridcolor\": \"white\", \"gridwidth\": 2, \"linecolor\": \"white\", \"showbackground\": true, \"ticks\": \"\", \"zerolinecolor\": \"white\"}, \"yaxis\": {\"backgroundcolor\": \"#E5ECF6\", \"gridcolor\": \"white\", \"gridwidth\": 2, \"linecolor\": \"white\", \"showbackground\": true, \"ticks\": \"\", \"zerolinecolor\": \"white\"}, \"zaxis\": {\"backgroundcolor\": \"#E5ECF6\", \"gridcolor\": \"white\", \"gridwidth\": 2, \"linecolor\": \"white\", \"showbackground\": true, \"ticks\": \"\", \"zerolinecolor\": \"white\"}}, \"shapedefaults\": {\"line\": {\"color\": \"#2a3f5f\"}}, \"ternary\": {\"aaxis\": {\"gridcolor\": \"white\", \"linecolor\": \"white\", \"ticks\": \"\"}, \"baxis\": {\"gridcolor\": \"white\", \"linecolor\": \"white\", \"ticks\": \"\"}, \"bgcolor\": \"#E5ECF6\", \"caxis\": {\"gridcolor\": \"white\", \"linecolor\": \"white\", \"ticks\": \"\"}}, \"title\": {\"x\": 0.05}, \"xaxis\": {\"automargin\": true, \"gridcolor\": \"white\", \"linecolor\": \"white\", \"ticks\": \"\", \"title\": {\"standoff\": 15}, \"zerolinecolor\": \"white\", \"zerolinewidth\": 2}, \"yaxis\": {\"automargin\": true, \"gridcolor\": \"white\", \"linecolor\": \"white\", \"ticks\": \"\", \"title\": {\"standoff\": 15}, \"zerolinecolor\": \"white\", \"zerolinewidth\": 2}}}, \"title\": {\"font\": {\"color\": \"#F4F4F4\"}, \"text\": \"Barplot\"}, \"xaxis\": {\"gridcolor\": \"skyblue\", \"showgrid\": true, \"tickfont\": {\"color\": \"#A4A4A4\"}, \"title\": {\"font\": {\"color\": \"#A4A4A4\"}, \"text\": \"Categories ---->\"}, \"zerolinecolor\": \"#444444\"}, \"yaxis\": {\"gridcolor\": \"skyblue\", \"showgrid\": true, \"tickfont\": {\"color\": \"#A4A4A4\"}, \"title\": {\"font\": {\"color\": \"#A4A4A4\"}, \"text\": \"Values ----->\"}, \"zerolinecolor\": \"#444444\"}},                        {\"showLink\": true, \"linkText\": \"Export to plot.ly\", \"plotlyServerURL\": \"https://plot.ly\", \"responsive\": true}                    ).then(function(){\n                            \nvar gd = document.getElementById('e08854f9-aabf-4c9c-9c8e-f38041a15b5b');\nvar x = new MutationObserver(function (mutations, observer) {{\n        var display = window.getComputedStyle(gd).display;\n        if (!display || display === 'none') {{\n            console.log([gd, 'removed!']);\n            Plotly.purge(gd);\n            observer.disconnect();\n        }}\n}});\n\n// Listen for the removal of the full notebook cells\nvar notebookContainer = gd.closest('#notebook-container');\nif (notebookContainer) {{\n    x.observe(notebookContainer, {childList: true});\n}}\n\n// Listen for the clearing of the current output cell\nvar outputEl = gd.closest('.output');\nif (outputEl) {{\n    x.observe(outputEl, {childList: true});\n}}\n\n                        })                };                });            </script>        </div>"
     },
     "metadata": {}
    }
   ],
   "source": [
    "df2.iplot(x='category', y='values', kind='bar', title= 'Barplot', xTitle= 'Categories ---->', yTitle= 'Values ----->', colors= 'Blue', theme='henanigans', gridcolor='skyblue')"
   ]
  },
  {
   "cell_type": "code",
   "execution_count": 177,
   "metadata": {},
   "outputs": [
    {
     "output_type": "display_data",
     "data": {
      "application/vnd.plotly.v1+json": {
       "config": {
        "linkText": "Export to plot.ly",
        "plotlyServerURL": "https://plot.ly",
        "showLink": true
       },
       "data": [
        {
         "marker": {
          "color": "rgba(55, 128, 191, 0.6)",
          "line": {
           "color": "rgba(55, 128, 191, 1.0)",
           "width": 1
          }
         },
         "name": "None",
         "orientation": "v",
         "text": "",
         "type": "bar",
         "x": [
          "A",
          "B",
          "C",
          "D"
         ],
         "y": [
          -0.05397417636141645,
          -0.0691757098087368,
          0.08924093974614968,
          -0.023662833021419947
         ]
        }
       ],
       "layout": {
        "legend": {
         "bgcolor": "#1A1A1C",
         "font": {
          "color": "#D9D9D9"
         }
        },
        "paper_bgcolor": "#1A1A1C",
        "plot_bgcolor": "#1A1A1C",
        "template": {
         "data": {
          "bar": [
           {
            "error_x": {
             "color": "#2a3f5f"
            },
            "error_y": {
             "color": "#2a3f5f"
            },
            "marker": {
             "line": {
              "color": "#E5ECF6",
              "width": 0.5
             }
            },
            "type": "bar"
           }
          ],
          "barpolar": [
           {
            "marker": {
             "line": {
              "color": "#E5ECF6",
              "width": 0.5
             }
            },
            "type": "barpolar"
           }
          ],
          "carpet": [
           {
            "aaxis": {
             "endlinecolor": "#2a3f5f",
             "gridcolor": "white",
             "linecolor": "white",
             "minorgridcolor": "white",
             "startlinecolor": "#2a3f5f"
            },
            "baxis": {
             "endlinecolor": "#2a3f5f",
             "gridcolor": "white",
             "linecolor": "white",
             "minorgridcolor": "white",
             "startlinecolor": "#2a3f5f"
            },
            "type": "carpet"
           }
          ],
          "choropleth": [
           {
            "colorbar": {
             "outlinewidth": 0,
             "ticks": ""
            },
            "type": "choropleth"
           }
          ],
          "contour": [
           {
            "colorbar": {
             "outlinewidth": 0,
             "ticks": ""
            },
            "colorscale": [
             [
              0,
              "#0d0887"
             ],
             [
              0.1111111111111111,
              "#46039f"
             ],
             [
              0.2222222222222222,
              "#7201a8"
             ],
             [
              0.3333333333333333,
              "#9c179e"
             ],
             [
              0.4444444444444444,
              "#bd3786"
             ],
             [
              0.5555555555555556,
              "#d8576b"
             ],
             [
              0.6666666666666666,
              "#ed7953"
             ],
             [
              0.7777777777777778,
              "#fb9f3a"
             ],
             [
              0.8888888888888888,
              "#fdca26"
             ],
             [
              1,
              "#f0f921"
             ]
            ],
            "type": "contour"
           }
          ],
          "contourcarpet": [
           {
            "colorbar": {
             "outlinewidth": 0,
             "ticks": ""
            },
            "type": "contourcarpet"
           }
          ],
          "heatmap": [
           {
            "colorbar": {
             "outlinewidth": 0,
             "ticks": ""
            },
            "colorscale": [
             [
              0,
              "#0d0887"
             ],
             [
              0.1111111111111111,
              "#46039f"
             ],
             [
              0.2222222222222222,
              "#7201a8"
             ],
             [
              0.3333333333333333,
              "#9c179e"
             ],
             [
              0.4444444444444444,
              "#bd3786"
             ],
             [
              0.5555555555555556,
              "#d8576b"
             ],
             [
              0.6666666666666666,
              "#ed7953"
             ],
             [
              0.7777777777777778,
              "#fb9f3a"
             ],
             [
              0.8888888888888888,
              "#fdca26"
             ],
             [
              1,
              "#f0f921"
             ]
            ],
            "type": "heatmap"
           }
          ],
          "heatmapgl": [
           {
            "colorbar": {
             "outlinewidth": 0,
             "ticks": ""
            },
            "colorscale": [
             [
              0,
              "#0d0887"
             ],
             [
              0.1111111111111111,
              "#46039f"
             ],
             [
              0.2222222222222222,
              "#7201a8"
             ],
             [
              0.3333333333333333,
              "#9c179e"
             ],
             [
              0.4444444444444444,
              "#bd3786"
             ],
             [
              0.5555555555555556,
              "#d8576b"
             ],
             [
              0.6666666666666666,
              "#ed7953"
             ],
             [
              0.7777777777777778,
              "#fb9f3a"
             ],
             [
              0.8888888888888888,
              "#fdca26"
             ],
             [
              1,
              "#f0f921"
             ]
            ],
            "type": "heatmapgl"
           }
          ],
          "histogram": [
           {
            "marker": {
             "colorbar": {
              "outlinewidth": 0,
              "ticks": ""
             }
            },
            "type": "histogram"
           }
          ],
          "histogram2d": [
           {
            "colorbar": {
             "outlinewidth": 0,
             "ticks": ""
            },
            "colorscale": [
             [
              0,
              "#0d0887"
             ],
             [
              0.1111111111111111,
              "#46039f"
             ],
             [
              0.2222222222222222,
              "#7201a8"
             ],
             [
              0.3333333333333333,
              "#9c179e"
             ],
             [
              0.4444444444444444,
              "#bd3786"
             ],
             [
              0.5555555555555556,
              "#d8576b"
             ],
             [
              0.6666666666666666,
              "#ed7953"
             ],
             [
              0.7777777777777778,
              "#fb9f3a"
             ],
             [
              0.8888888888888888,
              "#fdca26"
             ],
             [
              1,
              "#f0f921"
             ]
            ],
            "type": "histogram2d"
           }
          ],
          "histogram2dcontour": [
           {
            "colorbar": {
             "outlinewidth": 0,
             "ticks": ""
            },
            "colorscale": [
             [
              0,
              "#0d0887"
             ],
             [
              0.1111111111111111,
              "#46039f"
             ],
             [
              0.2222222222222222,
              "#7201a8"
             ],
             [
              0.3333333333333333,
              "#9c179e"
             ],
             [
              0.4444444444444444,
              "#bd3786"
             ],
             [
              0.5555555555555556,
              "#d8576b"
             ],
             [
              0.6666666666666666,
              "#ed7953"
             ],
             [
              0.7777777777777778,
              "#fb9f3a"
             ],
             [
              0.8888888888888888,
              "#fdca26"
             ],
             [
              1,
              "#f0f921"
             ]
            ],
            "type": "histogram2dcontour"
           }
          ],
          "mesh3d": [
           {
            "colorbar": {
             "outlinewidth": 0,
             "ticks": ""
            },
            "type": "mesh3d"
           }
          ],
          "parcoords": [
           {
            "line": {
             "colorbar": {
              "outlinewidth": 0,
              "ticks": ""
             }
            },
            "type": "parcoords"
           }
          ],
          "pie": [
           {
            "automargin": true,
            "type": "pie"
           }
          ],
          "scatter": [
           {
            "marker": {
             "colorbar": {
              "outlinewidth": 0,
              "ticks": ""
             }
            },
            "type": "scatter"
           }
          ],
          "scatter3d": [
           {
            "line": {
             "colorbar": {
              "outlinewidth": 0,
              "ticks": ""
             }
            },
            "marker": {
             "colorbar": {
              "outlinewidth": 0,
              "ticks": ""
             }
            },
            "type": "scatter3d"
           }
          ],
          "scattercarpet": [
           {
            "marker": {
             "colorbar": {
              "outlinewidth": 0,
              "ticks": ""
             }
            },
            "type": "scattercarpet"
           }
          ],
          "scattergeo": [
           {
            "marker": {
             "colorbar": {
              "outlinewidth": 0,
              "ticks": ""
             }
            },
            "type": "scattergeo"
           }
          ],
          "scattergl": [
           {
            "marker": {
             "colorbar": {
              "outlinewidth": 0,
              "ticks": ""
             }
            },
            "type": "scattergl"
           }
          ],
          "scattermapbox": [
           {
            "marker": {
             "colorbar": {
              "outlinewidth": 0,
              "ticks": ""
             }
            },
            "type": "scattermapbox"
           }
          ],
          "scatterpolar": [
           {
            "marker": {
             "colorbar": {
              "outlinewidth": 0,
              "ticks": ""
             }
            },
            "type": "scatterpolar"
           }
          ],
          "scatterpolargl": [
           {
            "marker": {
             "colorbar": {
              "outlinewidth": 0,
              "ticks": ""
             }
            },
            "type": "scatterpolargl"
           }
          ],
          "scatterternary": [
           {
            "marker": {
             "colorbar": {
              "outlinewidth": 0,
              "ticks": ""
             }
            },
            "type": "scatterternary"
           }
          ],
          "surface": [
           {
            "colorbar": {
             "outlinewidth": 0,
             "ticks": ""
            },
            "colorscale": [
             [
              0,
              "#0d0887"
             ],
             [
              0.1111111111111111,
              "#46039f"
             ],
             [
              0.2222222222222222,
              "#7201a8"
             ],
             [
              0.3333333333333333,
              "#9c179e"
             ],
             [
              0.4444444444444444,
              "#bd3786"
             ],
             [
              0.5555555555555556,
              "#d8576b"
             ],
             [
              0.6666666666666666,
              "#ed7953"
             ],
             [
              0.7777777777777778,
              "#fb9f3a"
             ],
             [
              0.8888888888888888,
              "#fdca26"
             ],
             [
              1,
              "#f0f921"
             ]
            ],
            "type": "surface"
           }
          ],
          "table": [
           {
            "cells": {
             "fill": {
              "color": "#EBF0F8"
             },
             "line": {
              "color": "white"
             }
            },
            "header": {
             "fill": {
              "color": "#C8D4E3"
             },
             "line": {
              "color": "white"
             }
            },
            "type": "table"
           }
          ]
         },
         "layout": {
          "annotationdefaults": {
           "arrowcolor": "#2a3f5f",
           "arrowhead": 0,
           "arrowwidth": 1
          },
          "autotypenumbers": "strict",
          "coloraxis": {
           "colorbar": {
            "outlinewidth": 0,
            "ticks": ""
           }
          },
          "colorscale": {
           "diverging": [
            [
             0,
             "#8e0152"
            ],
            [
             0.1,
             "#c51b7d"
            ],
            [
             0.2,
             "#de77ae"
            ],
            [
             0.3,
             "#f1b6da"
            ],
            [
             0.4,
             "#fde0ef"
            ],
            [
             0.5,
             "#f7f7f7"
            ],
            [
             0.6,
             "#e6f5d0"
            ],
            [
             0.7,
             "#b8e186"
            ],
            [
             0.8,
             "#7fbc41"
            ],
            [
             0.9,
             "#4d9221"
            ],
            [
             1,
             "#276419"
            ]
           ],
           "sequential": [
            [
             0,
             "#0d0887"
            ],
            [
             0.1111111111111111,
             "#46039f"
            ],
            [
             0.2222222222222222,
             "#7201a8"
            ],
            [
             0.3333333333333333,
             "#9c179e"
            ],
            [
             0.4444444444444444,
             "#bd3786"
            ],
            [
             0.5555555555555556,
             "#d8576b"
            ],
            [
             0.6666666666666666,
             "#ed7953"
            ],
            [
             0.7777777777777778,
             "#fb9f3a"
            ],
            [
             0.8888888888888888,
             "#fdca26"
            ],
            [
             1,
             "#f0f921"
            ]
           ],
           "sequentialminus": [
            [
             0,
             "#0d0887"
            ],
            [
             0.1111111111111111,
             "#46039f"
            ],
            [
             0.2222222222222222,
             "#7201a8"
            ],
            [
             0.3333333333333333,
             "#9c179e"
            ],
            [
             0.4444444444444444,
             "#bd3786"
            ],
            [
             0.5555555555555556,
             "#d8576b"
            ],
            [
             0.6666666666666666,
             "#ed7953"
            ],
            [
             0.7777777777777778,
             "#fb9f3a"
            ],
            [
             0.8888888888888888,
             "#fdca26"
            ],
            [
             1,
             "#f0f921"
            ]
           ]
          },
          "colorway": [
           "#636efa",
           "#EF553B",
           "#00cc96",
           "#ab63fa",
           "#FFA15A",
           "#19d3f3",
           "#FF6692",
           "#B6E880",
           "#FF97FF",
           "#FECB52"
          ],
          "font": {
           "color": "#2a3f5f"
          },
          "geo": {
           "bgcolor": "white",
           "lakecolor": "white",
           "landcolor": "#E5ECF6",
           "showlakes": true,
           "showland": true,
           "subunitcolor": "white"
          },
          "hoverlabel": {
           "align": "left"
          },
          "hovermode": "closest",
          "mapbox": {
           "style": "light"
          },
          "paper_bgcolor": "white",
          "plot_bgcolor": "#E5ECF6",
          "polar": {
           "angularaxis": {
            "gridcolor": "white",
            "linecolor": "white",
            "ticks": ""
           },
           "bgcolor": "#E5ECF6",
           "radialaxis": {
            "gridcolor": "white",
            "linecolor": "white",
            "ticks": ""
           }
          },
          "scene": {
           "xaxis": {
            "backgroundcolor": "#E5ECF6",
            "gridcolor": "white",
            "gridwidth": 2,
            "linecolor": "white",
            "showbackground": true,
            "ticks": "",
            "zerolinecolor": "white"
           },
           "yaxis": {
            "backgroundcolor": "#E5ECF6",
            "gridcolor": "white",
            "gridwidth": 2,
            "linecolor": "white",
            "showbackground": true,
            "ticks": "",
            "zerolinecolor": "white"
           },
           "zaxis": {
            "backgroundcolor": "#E5ECF6",
            "gridcolor": "white",
            "gridwidth": 2,
            "linecolor": "white",
            "showbackground": true,
            "ticks": "",
            "zerolinecolor": "white"
           }
          },
          "shapedefaults": {
           "line": {
            "color": "#2a3f5f"
           }
          },
          "ternary": {
           "aaxis": {
            "gridcolor": "white",
            "linecolor": "white",
            "ticks": ""
           },
           "baxis": {
            "gridcolor": "white",
            "linecolor": "white",
            "ticks": ""
           },
           "bgcolor": "#E5ECF6",
           "caxis": {
            "gridcolor": "white",
            "linecolor": "white",
            "ticks": ""
           }
          },
          "title": {
           "x": 0.05
          },
          "xaxis": {
           "automargin": true,
           "gridcolor": "white",
           "linecolor": "white",
           "ticks": "",
           "title": {
            "standoff": 15
           },
           "zerolinecolor": "white",
           "zerolinewidth": 2
          },
          "yaxis": {
           "automargin": true,
           "gridcolor": "white",
           "linecolor": "white",
           "ticks": "",
           "title": {
            "standoff": 15
           },
           "zerolinecolor": "white",
           "zerolinewidth": 2
          }
         }
        },
        "title": {
         "font": {
          "color": "#D9D9D9"
         }
        },
        "xaxis": {
         "gridcolor": "skyblue",
         "showgrid": true,
         "tickfont": {
          "color": "#C2C2C2"
         },
         "title": {
          "font": {
           "color": "#D9D9D9"
          },
          "text": ""
         },
         "zerolinecolor": "#666570"
        },
        "yaxis": {
         "gridcolor": "skyblue",
         "showgrid": true,
         "tickfont": {
          "color": "#C2C2C2"
         },
         "title": {
          "font": {
           "color": "#D9D9D9"
          },
          "text": ""
         },
         "zerolinecolor": "#666570"
        }
       }
      },
      "text/html": "<div>                            <div id=\"4771e14a-77ff-4bfb-bc60-84a656264e96\" class=\"plotly-graph-div\" style=\"height:525px; width:100%;\"></div>            <script type=\"text/javascript\">                require([\"plotly\"], function(Plotly) {                    window.PLOTLYENV=window.PLOTLYENV || {};\n                    window.PLOTLYENV.BASE_URL='https://plot.ly';                                    if (document.getElementById(\"4771e14a-77ff-4bfb-bc60-84a656264e96\")) {                    Plotly.newPlot(                        \"4771e14a-77ff-4bfb-bc60-84a656264e96\",                        [{\"marker\": {\"color\": \"rgba(55, 128, 191, 0.6)\", \"line\": {\"color\": \"rgba(55, 128, 191, 1.0)\", \"width\": 1}}, \"name\": \"None\", \"orientation\": \"v\", \"text\": \"\", \"type\": \"bar\", \"x\": [\"A\", \"B\", \"C\", \"D\"], \"y\": [-0.05397417636141645, -0.0691757098087368, 0.08924093974614968, -0.023662833021419947]}],                        {\"legend\": {\"bgcolor\": \"#1A1A1C\", \"font\": {\"color\": \"#D9D9D9\"}}, \"paper_bgcolor\": \"#1A1A1C\", \"plot_bgcolor\": \"#1A1A1C\", \"template\": {\"data\": {\"bar\": [{\"error_x\": {\"color\": \"#2a3f5f\"}, \"error_y\": {\"color\": \"#2a3f5f\"}, \"marker\": {\"line\": {\"color\": \"#E5ECF6\", \"width\": 0.5}}, \"type\": \"bar\"}], \"barpolar\": [{\"marker\": {\"line\": {\"color\": \"#E5ECF6\", \"width\": 0.5}}, \"type\": \"barpolar\"}], \"carpet\": [{\"aaxis\": {\"endlinecolor\": \"#2a3f5f\", \"gridcolor\": \"white\", \"linecolor\": \"white\", \"minorgridcolor\": \"white\", \"startlinecolor\": \"#2a3f5f\"}, \"baxis\": {\"endlinecolor\": \"#2a3f5f\", \"gridcolor\": \"white\", \"linecolor\": \"white\", \"minorgridcolor\": \"white\", \"startlinecolor\": \"#2a3f5f\"}, \"type\": \"carpet\"}], \"choropleth\": [{\"colorbar\": {\"outlinewidth\": 0, \"ticks\": \"\"}, \"type\": \"choropleth\"}], \"contour\": [{\"colorbar\": {\"outlinewidth\": 0, \"ticks\": \"\"}, \"colorscale\": [[0.0, \"#0d0887\"], [0.1111111111111111, \"#46039f\"], [0.2222222222222222, \"#7201a8\"], [0.3333333333333333, \"#9c179e\"], [0.4444444444444444, \"#bd3786\"], [0.5555555555555556, \"#d8576b\"], [0.6666666666666666, \"#ed7953\"], [0.7777777777777778, \"#fb9f3a\"], [0.8888888888888888, \"#fdca26\"], [1.0, \"#f0f921\"]], \"type\": \"contour\"}], \"contourcarpet\": [{\"colorbar\": {\"outlinewidth\": 0, \"ticks\": \"\"}, \"type\": \"contourcarpet\"}], \"heatmap\": [{\"colorbar\": {\"outlinewidth\": 0, \"ticks\": \"\"}, \"colorscale\": [[0.0, \"#0d0887\"], [0.1111111111111111, \"#46039f\"], [0.2222222222222222, \"#7201a8\"], [0.3333333333333333, \"#9c179e\"], [0.4444444444444444, \"#bd3786\"], [0.5555555555555556, \"#d8576b\"], [0.6666666666666666, \"#ed7953\"], [0.7777777777777778, \"#fb9f3a\"], [0.8888888888888888, \"#fdca26\"], [1.0, \"#f0f921\"]], \"type\": \"heatmap\"}], \"heatmapgl\": [{\"colorbar\": {\"outlinewidth\": 0, \"ticks\": \"\"}, \"colorscale\": [[0.0, \"#0d0887\"], [0.1111111111111111, \"#46039f\"], [0.2222222222222222, \"#7201a8\"], [0.3333333333333333, \"#9c179e\"], [0.4444444444444444, \"#bd3786\"], [0.5555555555555556, \"#d8576b\"], [0.6666666666666666, \"#ed7953\"], [0.7777777777777778, \"#fb9f3a\"], [0.8888888888888888, \"#fdca26\"], [1.0, \"#f0f921\"]], \"type\": \"heatmapgl\"}], \"histogram\": [{\"marker\": {\"colorbar\": {\"outlinewidth\": 0, \"ticks\": \"\"}}, \"type\": \"histogram\"}], \"histogram2d\": [{\"colorbar\": {\"outlinewidth\": 0, \"ticks\": \"\"}, \"colorscale\": [[0.0, \"#0d0887\"], [0.1111111111111111, \"#46039f\"], [0.2222222222222222, \"#7201a8\"], [0.3333333333333333, \"#9c179e\"], [0.4444444444444444, \"#bd3786\"], [0.5555555555555556, \"#d8576b\"], [0.6666666666666666, \"#ed7953\"], [0.7777777777777778, \"#fb9f3a\"], [0.8888888888888888, \"#fdca26\"], [1.0, \"#f0f921\"]], \"type\": \"histogram2d\"}], \"histogram2dcontour\": [{\"colorbar\": {\"outlinewidth\": 0, \"ticks\": \"\"}, \"colorscale\": [[0.0, \"#0d0887\"], [0.1111111111111111, \"#46039f\"], [0.2222222222222222, \"#7201a8\"], [0.3333333333333333, \"#9c179e\"], [0.4444444444444444, \"#bd3786\"], [0.5555555555555556, \"#d8576b\"], [0.6666666666666666, \"#ed7953\"], [0.7777777777777778, \"#fb9f3a\"], [0.8888888888888888, \"#fdca26\"], [1.0, \"#f0f921\"]], \"type\": \"histogram2dcontour\"}], \"mesh3d\": [{\"colorbar\": {\"outlinewidth\": 0, \"ticks\": \"\"}, \"type\": \"mesh3d\"}], \"parcoords\": [{\"line\": {\"colorbar\": {\"outlinewidth\": 0, \"ticks\": \"\"}}, \"type\": \"parcoords\"}], \"pie\": [{\"automargin\": true, \"type\": \"pie\"}], \"scatter\": [{\"marker\": {\"colorbar\": {\"outlinewidth\": 0, \"ticks\": \"\"}}, \"type\": \"scatter\"}], \"scatter3d\": [{\"line\": {\"colorbar\": {\"outlinewidth\": 0, \"ticks\": \"\"}}, \"marker\": {\"colorbar\": {\"outlinewidth\": 0, \"ticks\": \"\"}}, \"type\": \"scatter3d\"}], \"scattercarpet\": [{\"marker\": {\"colorbar\": {\"outlinewidth\": 0, \"ticks\": \"\"}}, \"type\": \"scattercarpet\"}], \"scattergeo\": [{\"marker\": {\"colorbar\": {\"outlinewidth\": 0, \"ticks\": \"\"}}, \"type\": \"scattergeo\"}], \"scattergl\": [{\"marker\": {\"colorbar\": {\"outlinewidth\": 0, \"ticks\": \"\"}}, \"type\": \"scattergl\"}], \"scattermapbox\": [{\"marker\": {\"colorbar\": {\"outlinewidth\": 0, \"ticks\": \"\"}}, \"type\": \"scattermapbox\"}], \"scatterpolar\": [{\"marker\": {\"colorbar\": {\"outlinewidth\": 0, \"ticks\": \"\"}}, \"type\": \"scatterpolar\"}], \"scatterpolargl\": [{\"marker\": {\"colorbar\": {\"outlinewidth\": 0, \"ticks\": \"\"}}, \"type\": \"scatterpolargl\"}], \"scatterternary\": [{\"marker\": {\"colorbar\": {\"outlinewidth\": 0, \"ticks\": \"\"}}, \"type\": \"scatterternary\"}], \"surface\": [{\"colorbar\": {\"outlinewidth\": 0, \"ticks\": \"\"}, \"colorscale\": [[0.0, \"#0d0887\"], [0.1111111111111111, \"#46039f\"], [0.2222222222222222, \"#7201a8\"], [0.3333333333333333, \"#9c179e\"], [0.4444444444444444, \"#bd3786\"], [0.5555555555555556, \"#d8576b\"], [0.6666666666666666, \"#ed7953\"], [0.7777777777777778, \"#fb9f3a\"], [0.8888888888888888, \"#fdca26\"], [1.0, \"#f0f921\"]], \"type\": \"surface\"}], \"table\": [{\"cells\": {\"fill\": {\"color\": \"#EBF0F8\"}, \"line\": {\"color\": \"white\"}}, \"header\": {\"fill\": {\"color\": \"#C8D4E3\"}, \"line\": {\"color\": \"white\"}}, \"type\": \"table\"}]}, \"layout\": {\"annotationdefaults\": {\"arrowcolor\": \"#2a3f5f\", \"arrowhead\": 0, \"arrowwidth\": 1}, \"autotypenumbers\": \"strict\", \"coloraxis\": {\"colorbar\": {\"outlinewidth\": 0, \"ticks\": \"\"}}, \"colorscale\": {\"diverging\": [[0, \"#8e0152\"], [0.1, \"#c51b7d\"], [0.2, \"#de77ae\"], [0.3, \"#f1b6da\"], [0.4, \"#fde0ef\"], [0.5, \"#f7f7f7\"], [0.6, \"#e6f5d0\"], [0.7, \"#b8e186\"], [0.8, \"#7fbc41\"], [0.9, \"#4d9221\"], [1, \"#276419\"]], \"sequential\": [[0.0, \"#0d0887\"], [0.1111111111111111, \"#46039f\"], [0.2222222222222222, \"#7201a8\"], [0.3333333333333333, \"#9c179e\"], [0.4444444444444444, \"#bd3786\"], [0.5555555555555556, \"#d8576b\"], [0.6666666666666666, \"#ed7953\"], [0.7777777777777778, \"#fb9f3a\"], [0.8888888888888888, \"#fdca26\"], [1.0, \"#f0f921\"]], \"sequentialminus\": [[0.0, \"#0d0887\"], [0.1111111111111111, \"#46039f\"], [0.2222222222222222, \"#7201a8\"], [0.3333333333333333, \"#9c179e\"], [0.4444444444444444, \"#bd3786\"], [0.5555555555555556, \"#d8576b\"], [0.6666666666666666, \"#ed7953\"], [0.7777777777777778, \"#fb9f3a\"], [0.8888888888888888, \"#fdca26\"], [1.0, \"#f0f921\"]]}, \"colorway\": [\"#636efa\", \"#EF553B\", \"#00cc96\", \"#ab63fa\", \"#FFA15A\", \"#19d3f3\", \"#FF6692\", \"#B6E880\", \"#FF97FF\", \"#FECB52\"], \"font\": {\"color\": \"#2a3f5f\"}, \"geo\": {\"bgcolor\": \"white\", \"lakecolor\": \"white\", \"landcolor\": \"#E5ECF6\", \"showlakes\": true, \"showland\": true, \"subunitcolor\": \"white\"}, \"hoverlabel\": {\"align\": \"left\"}, \"hovermode\": \"closest\", \"mapbox\": {\"style\": \"light\"}, \"paper_bgcolor\": \"white\", \"plot_bgcolor\": \"#E5ECF6\", \"polar\": {\"angularaxis\": {\"gridcolor\": \"white\", \"linecolor\": \"white\", \"ticks\": \"\"}, \"bgcolor\": \"#E5ECF6\", \"radialaxis\": {\"gridcolor\": \"white\", \"linecolor\": \"white\", \"ticks\": \"\"}}, \"scene\": {\"xaxis\": {\"backgroundcolor\": \"#E5ECF6\", \"gridcolor\": \"white\", \"gridwidth\": 2, \"linecolor\": \"white\", \"showbackground\": true, \"ticks\": \"\", \"zerolinecolor\": \"white\"}, \"yaxis\": {\"backgroundcolor\": \"#E5ECF6\", \"gridcolor\": \"white\", \"gridwidth\": 2, \"linecolor\": \"white\", \"showbackground\": true, \"ticks\": \"\", \"zerolinecolor\": \"white\"}, \"zaxis\": {\"backgroundcolor\": \"#E5ECF6\", \"gridcolor\": \"white\", \"gridwidth\": 2, \"linecolor\": \"white\", \"showbackground\": true, \"ticks\": \"\", \"zerolinecolor\": \"white\"}}, \"shapedefaults\": {\"line\": {\"color\": \"#2a3f5f\"}}, \"ternary\": {\"aaxis\": {\"gridcolor\": \"white\", \"linecolor\": \"white\", \"ticks\": \"\"}, \"baxis\": {\"gridcolor\": \"white\", \"linecolor\": \"white\", \"ticks\": \"\"}, \"bgcolor\": \"#E5ECF6\", \"caxis\": {\"gridcolor\": \"white\", \"linecolor\": \"white\", \"ticks\": \"\"}}, \"title\": {\"x\": 0.05}, \"xaxis\": {\"automargin\": true, \"gridcolor\": \"white\", \"linecolor\": \"white\", \"ticks\": \"\", \"title\": {\"standoff\": 15}, \"zerolinecolor\": \"white\", \"zerolinewidth\": 2}, \"yaxis\": {\"automargin\": true, \"gridcolor\": \"white\", \"linecolor\": \"white\", \"ticks\": \"\", \"title\": {\"standoff\": 15}, \"zerolinecolor\": \"white\", \"zerolinewidth\": 2}}}, \"title\": {\"font\": {\"color\": \"#D9D9D9\"}}, \"xaxis\": {\"gridcolor\": \"skyblue\", \"showgrid\": true, \"tickfont\": {\"color\": \"#C2C2C2\"}, \"title\": {\"font\": {\"color\": \"#D9D9D9\"}, \"text\": \"\"}, \"zerolinecolor\": \"#666570\"}, \"yaxis\": {\"gridcolor\": \"skyblue\", \"showgrid\": true, \"tickfont\": {\"color\": \"#C2C2C2\"}, \"title\": {\"font\": {\"color\": \"#D9D9D9\"}, \"text\": \"\"}, \"zerolinecolor\": \"#666570\"}},                        {\"showLink\": true, \"linkText\": \"Export to plot.ly\", \"plotlyServerURL\": \"https://plot.ly\", \"responsive\": true}                    ).then(function(){\n                            \nvar gd = document.getElementById('4771e14a-77ff-4bfb-bc60-84a656264e96');\nvar x = new MutationObserver(function (mutations, observer) {{\n        var display = window.getComputedStyle(gd).display;\n        if (!display || display === 'none') {{\n            console.log([gd, 'removed!']);\n            Plotly.purge(gd);\n            observer.disconnect();\n        }}\n}});\n\n// Listen for the removal of the full notebook cells\nvar notebookContainer = gd.closest('#notebook-container');\nif (notebookContainer) {{\n    x.observe(notebookContainer, {childList: true});\n}}\n\n// Listen for the clearing of the current output cell\nvar outputEl = gd.closest('.output');\nif (outputEl) {{\n    x.observe(outputEl, {childList: true});\n}}\n\n                        })                };                });            </script>        </div>"
     },
     "metadata": {}
    }
   ],
   "source": [
    "# To  make the most out of barplot we can use them as aggregating values also like\n",
    "df.mean().iplot(kind='bar', theme='space', color='blue', gridcolor='skyblue')\n",
    "# Since df had negative values also"
   ]
  },
  {
   "source": [
    "*4. boxplot*"
   ],
   "cell_type": "markdown",
   "metadata": {}
  },
  {
   "cell_type": "code",
   "execution_count": 160,
   "metadata": {},
   "outputs": [
    {
     "output_type": "display_data",
     "data": {
      "application/vnd.plotly.v1+json": {
       "config": {
        "linkText": "Export to plot.ly",
        "plotlyServerURL": "https://plot.ly",
        "showLink": true
       },
       "data": [
        {
         "boxpoints": false,
         "line": {
          "width": 1.3
         },
         "marker": {
          "color": "rgba(215, 25, 28, 1.0)"
         },
         "name": "A",
         "orientation": "v",
         "type": "box",
         "y": [
          -0.9792515936598923,
          0.9598050055042266,
          1.2879497854926978,
          -0.7580525281398575,
          0.7395394550550108,
          0.17019107169090317,
          -0.1293765011854134,
          0.4456954392361662,
          0.13772919772007583,
          -1.1475557380589023,
          0.7148856836266592,
          1.4579626985599747,
          0.8874119734406709,
          0.3072755156395645,
          2.0957456279779065,
          0.5899177376437668,
          1.0364047408183756,
          0.7388472871926347,
          0.17950427668644467,
          0.3680753376522049,
          0.1368695577373032,
          0.8159967349839087,
          -0.14844827589627468,
          0.9610220648185201,
          0.8403045958850671,
          0.1539828413327248,
          -0.22403721645926258,
          -0.9886846475465637,
          -0.041097672863380195,
          -0.20336539740261284,
          -0.8272592313380914,
          -0.7377644328272414,
          0.6228589278084802,
          1.0167861280965602,
          -2.2412581790082666,
          -0.18088089665349677,
          0.38747162796369533,
          -0.022976036922044408,
          -0.376997829574464,
          0.12116576151183464,
          0.004016022807814205,
          -1.8023654641354336,
          -0.8309213004133602,
          -0.37467942398393506,
          0.16749391300381028,
          2.157106901960888,
          0.26801897806054975,
          -0.12917654316980617,
          -1.1921864240944327,
          1.6144706272625435,
          0.44154651927524047,
          -1.5248455068331284,
          -1.379729809199886,
          -0.3071048272960799,
          0.11873027241721576,
          -0.18440988283347878,
          -1.5364079402765836,
          -1.7659951853905054,
          -1.1925247660678762,
          -0.3719050473318741,
          0.9116004418673352,
          -1.2893901771054779,
          0.3494224192856916,
          0.12384105919512163,
          -0.2853887638156255,
          -0.05477890823051662,
          -0.13339681427823635,
          0.002483580579456353,
          0.6483924643575026,
          -1.7744604454121766,
          0.051018691708484755,
          -0.20831087775659465,
          1.2036245135778298,
          0.37460006318208516,
          -0.007357554347866323,
          0.5125991262014535,
          0.0024173923945399363,
          -0.8563025126597791,
          -0.7617603492153533,
          -1.792629772347877,
          0.360765760598241,
          -0.7718682940507207,
          1.6886536550319722,
          1.194024448998109,
          -0.417875534770027,
          2.122611684514379,
          -0.20455142051435,
          -1.3193963771012482,
          -1.7879804873841585,
          0.4066145570917323,
          1.434386069614315,
          -0.5881888567526482,
          -1.2337031790890676,
          -0.7429661704558083,
          0.0566414277132115,
          -1.2378557179328697,
          -0.43038873430261276,
          -2.5320354376990766,
          0.7598237879841848,
          0.48412359488350337
         ]
        },
        {
         "boxpoints": false,
         "line": {
          "width": 1.3
         },
         "marker": {
          "color": "rgba(253, 174, 97, 1.0)"
         },
         "name": "B",
         "orientation": "v",
         "type": "box",
         "y": [
          -0.0033035822899469052,
          0.3142449677503647,
          -1.504523021926638,
          1.0044432988561958,
          -0.3786281864931309,
          1.6221183698918318,
          -0.6833666110514979,
          -0.09085898589503208,
          0.4183024142850112,
          0.1599510285795126,
          0.4983380417069129,
          -2.38735035273387,
          -0.17484722770594668,
          -0.7024036572296523,
          -0.2377817653329279,
          1.0463693206953972,
          -1.206970761077781,
          -0.27926473845743927,
          0.024497475622231084,
          0.07215395894711478,
          0.8060503759899023,
          -0.10523700135619246,
          0.4892495322097234,
          -1.6211612465614205,
          -0.9413730510682876,
          0.5618878755989775,
          1.148898697209982,
          -0.8603059741609684,
          -0.2545352736983566,
          0.3221749143716371,
          0.8184090970176358,
          0.603400860775381,
          0.29148084806096053,
          1.2197382793191827,
          -0.11597682125807925,
          -0.993512699913698,
          0.6287345083305073,
          -0.23713521257102554,
          -0.3097494760631051,
          -0.5890817405505082,
          -1.1603607004584577,
          0.9875973705562235,
          -0.063031992142952,
          0.5528356056102148,
          0.9943802775983782,
          1.5885704578261726,
          -0.9751179842350768,
          0.6218820952952601,
          -2.0323297593875838,
          -0.5484199829062123,
          -0.12137817399783384,
          -1.2309977016776752,
          -0.9313693797491154,
          0.2663840238711808,
          -1.6717292793656437,
          -0.4542443768926661,
          -0.2721841210031825,
          -2.536542463070985,
          0.4847118496688762,
          -2.1214691330865127,
          -1.1620826355082072,
          -0.048986563425723995,
          -1.2645433415566478,
          1.9997478527752839,
          1.166476246332891,
          -3.103425838335752,
          -1.4438539094973724,
          1.5718043608392394,
          -0.7335294160030932,
          -1.197965786647293,
          1.0722513065522665,
          -0.7826362934224473,
          -0.49820503134543775,
          1.5716627803037155,
          -0.005317290143883737,
          -0.3593653166820716,
          1.5597095911561978,
          1.0503815987596175,
          0.3441039774821109,
          -0.04974121712467084,
          0.008170229384752613,
          -0.9709058136802701,
          2.417034408248457,
          -1.2124867561742774,
          0.6046417869674267,
          -0.3585076795507522,
          0.06705171160120478,
          1.4546189083140886,
          -0.42913586866418607,
          -0.707992549805246,
          -2.096983049597022,
          0.038373856459275275,
          0.6579882416462015,
          2.2386147056613295,
          -0.6608003396245523,
          -0.9953483586408077,
          0.43580220111517376,
          -0.5404418613480602,
          3.3467118532442397,
          0.34927520878526047
         ]
        },
        {
         "boxpoints": false,
         "line": {
          "width": 1.3
         },
         "marker": {
          "color": "rgba(171, 217, 233, 1.0)"
         },
         "name": "C",
         "orientation": "v",
         "type": "box",
         "y": [
          -1.029169055522879,
          -0.6255978007913707,
          1.0417982196879223,
          2.2449486385713384,
          -0.6795945775053402,
          0.14631255858470052,
          0.3731668746960911,
          0.4124420330489584,
          1.5113484075983132,
          0.5920468325658576,
          0.2793855445424416,
          -0.29619014153343065,
          2.3727187380412276,
          -0.6841365657268245,
          0.49440394600584864,
          0.6388836557479353,
          0.21519353566892171,
          0.08067736888339132,
          1.355625354020415,
          -0.348654489687168,
          -0.4947196965310076,
          -0.3582819911117431,
          0.8482378687717445,
          -0.7550696581956536,
          0.09628928497248218,
          0.3694001280085396,
          1.7522158422386362,
          0.24728003851561672,
          1.4320945076126141,
          0.38078115390777206,
          0.49485054834994746,
          0.10834747534480808,
          0.40440051019822765,
          0.46318804403090136,
          0.8498937327069608,
          0.30823700591443287,
          -0.16957495168143608,
          1.4656183402677774,
          -0.2756627766669359,
          -1.558366156240104,
          -1.44390954708868,
          -0.5051680953931286,
          0.27620048996716984,
          -1.8343779836571938,
          -0.32566386109769674,
          -0.5377091427902171,
          -0.8793316602002474,
          -0.13730101188128274,
          0.4739117707913685,
          1.9456675653065694,
          -0.34549575735322996,
          0.9720333799605246,
          -0.26228104507380334,
          -0.5714395653881361,
          0.14502575276461074,
          -1.8641784872791407,
          0.8869491501534156,
          1.5217251811022767,
          1.3921339746257404,
          1.1907950182465863,
          -1.3679269183388134,
          -0.42830897316735944,
          0.16752652136906077,
          -0.822993733943916,
          0.032639710581331624,
          -1.7353173585494512,
          1.3006424924535107,
          -2.658447080801197,
          -0.7260667522978758,
          -1.346559369571314,
          1.2100767873230984,
          0.14199042718703583,
          1.3810124437891032,
          0.17475647805393424,
          -0.7973890264270153,
          0.5809185216045772,
          -0.3885903405071358,
          0.10406688806814304,
          1.370396070389675,
          -0.23398496826648119,
          -0.29001376284099223,
          -0.28707110106581923,
          0.25979132952928025,
          -0.1617035485251935,
          -0.6720898907014572,
          0.7962255499025633,
          -0.6948156806562187,
          0.9390569733955219,
          1.8104513153386503,
          0.5111732025237625,
          -0.7447934329773587,
          -0.36545521090245675,
          0.12658057977115625,
          -1.1224377540795116,
          0.23315136938347406,
          -0.3592208292662069,
          -0.3149408561046429,
          0.7604586976536822,
          0.8599817036861749,
          -2.121030951423784
         ]
        },
        {
         "boxpoints": false,
         "line": {
          "width": 1.3
         },
         "marker": {
          "color": "rgba(44, 123, 182, 1.0)"
         },
         "name": "D",
         "orientation": "v",
         "type": "box",
         "y": [
          -0.46308053517921177,
          -0.22893297382440694,
          0.28152771977670005,
          0.841148244630791,
          0.09335388118504882,
          0.09404129945671476,
          -0.27604509647678394,
          -1.4149534857065915,
          0.6303783847458049,
          1.0140454768881473,
          0.6247341776241347,
          0.3462567203067475,
          0.06618476657523857,
          0.22304990357635202,
          -0.7104729965870029,
          -0.36754819414362006,
          0.7527370093648587,
          0.4243521358588527,
          -0.313879559965402,
          0.44453194663906453,
          -1.2215088401885823,
          0.5313535901603273,
          -1.136436468522623,
          -0.33583843750714953,
          0.695915250472006,
          -2.035088399463051,
          2.007662253559875,
          0.3019128256963567,
          -0.18113684687278164,
          1.8911687280243084,
          0.7572630803852446,
          -0.43219425771863185,
          0.2682190866781442,
          0.9638038961270988,
          0.38196860184494996,
          -0.904240690441337,
          0.9257726882611239,
          -3.089622695862602,
          0.022160723350371093,
          0.15890271523422386,
          1.2072376116298225,
          0.036906673259497653,
          1.9325182083788126,
          -2.65838624213967,
          1.33374362812293,
          -0.3002915926433879,
          -2.3339029672320337,
          0.4283179292567376,
          0.3920197131247837,
          1.0578439219875122,
          -1.2286183490049214,
          -0.42118880033063083,
          0.18221735978592854,
          0.7783483420916925,
          -1.1631454183180807,
          0.3409532835134661,
          -0.175860025671226,
          2.600067786231678,
          0.1424405264085281,
          0.6378341507289481,
          -0.7911396934565847,
          0.2970410528515773,
          -0.36757856712825604,
          0.001891577602284555,
          -0.9533757506556024,
          -1.5265124105099575,
          0.14141110796393855,
          3.6126504926656198,
          -0.4083508444949703,
          -1.3866183439117674,
          0.6146431833929709,
          -1.1797204483467447,
          -0.17626909828622517,
          -0.8315102988033132,
          -1.0629729405783421,
          0.6165434831247598,
          2.4710912898514956,
          -0.5136104215624592,
          -1.2833494881724943,
          -0.19740622984239123,
          -0.28292641821742964,
          -0.17332004636855022,
          -0.8472778358004164,
          -1.5638430808706032,
          -0.12651593497479413,
          0.5196255513517741,
          1.6550631354033751,
          -0.4268727901892978,
          1.0780805010140389,
          1.394028416980079,
          -0.27892950008419176,
          -0.42372865324865777,
          -0.0035800875407494483,
          -0.3109767884032559,
          -0.6928666677078057,
          -0.96026887219562,
          -0.17067052996934515,
          -0.8291957027802563,
          -1.872451022659089,
          0.4529640052721673
         ]
        }
       ],
       "layout": {
        "legend": {
         "bgcolor": "#151516",
         "font": {
          "color": "#D9D9D9"
         }
        },
        "paper_bgcolor": "#151516",
        "plot_bgcolor": "#151516",
        "template": {
         "data": {
          "bar": [
           {
            "error_x": {
             "color": "#2a3f5f"
            },
            "error_y": {
             "color": "#2a3f5f"
            },
            "marker": {
             "line": {
              "color": "#E5ECF6",
              "width": 0.5
             }
            },
            "type": "bar"
           }
          ],
          "barpolar": [
           {
            "marker": {
             "line": {
              "color": "#E5ECF6",
              "width": 0.5
             }
            },
            "type": "barpolar"
           }
          ],
          "carpet": [
           {
            "aaxis": {
             "endlinecolor": "#2a3f5f",
             "gridcolor": "white",
             "linecolor": "white",
             "minorgridcolor": "white",
             "startlinecolor": "#2a3f5f"
            },
            "baxis": {
             "endlinecolor": "#2a3f5f",
             "gridcolor": "white",
             "linecolor": "white",
             "minorgridcolor": "white",
             "startlinecolor": "#2a3f5f"
            },
            "type": "carpet"
           }
          ],
          "choropleth": [
           {
            "colorbar": {
             "outlinewidth": 0,
             "ticks": ""
            },
            "type": "choropleth"
           }
          ],
          "contour": [
           {
            "colorbar": {
             "outlinewidth": 0,
             "ticks": ""
            },
            "colorscale": [
             [
              0,
              "#0d0887"
             ],
             [
              0.1111111111111111,
              "#46039f"
             ],
             [
              0.2222222222222222,
              "#7201a8"
             ],
             [
              0.3333333333333333,
              "#9c179e"
             ],
             [
              0.4444444444444444,
              "#bd3786"
             ],
             [
              0.5555555555555556,
              "#d8576b"
             ],
             [
              0.6666666666666666,
              "#ed7953"
             ],
             [
              0.7777777777777778,
              "#fb9f3a"
             ],
             [
              0.8888888888888888,
              "#fdca26"
             ],
             [
              1,
              "#f0f921"
             ]
            ],
            "type": "contour"
           }
          ],
          "contourcarpet": [
           {
            "colorbar": {
             "outlinewidth": 0,
             "ticks": ""
            },
            "type": "contourcarpet"
           }
          ],
          "heatmap": [
           {
            "colorbar": {
             "outlinewidth": 0,
             "ticks": ""
            },
            "colorscale": [
             [
              0,
              "#0d0887"
             ],
             [
              0.1111111111111111,
              "#46039f"
             ],
             [
              0.2222222222222222,
              "#7201a8"
             ],
             [
              0.3333333333333333,
              "#9c179e"
             ],
             [
              0.4444444444444444,
              "#bd3786"
             ],
             [
              0.5555555555555556,
              "#d8576b"
             ],
             [
              0.6666666666666666,
              "#ed7953"
             ],
             [
              0.7777777777777778,
              "#fb9f3a"
             ],
             [
              0.8888888888888888,
              "#fdca26"
             ],
             [
              1,
              "#f0f921"
             ]
            ],
            "type": "heatmap"
           }
          ],
          "heatmapgl": [
           {
            "colorbar": {
             "outlinewidth": 0,
             "ticks": ""
            },
            "colorscale": [
             [
              0,
              "#0d0887"
             ],
             [
              0.1111111111111111,
              "#46039f"
             ],
             [
              0.2222222222222222,
              "#7201a8"
             ],
             [
              0.3333333333333333,
              "#9c179e"
             ],
             [
              0.4444444444444444,
              "#bd3786"
             ],
             [
              0.5555555555555556,
              "#d8576b"
             ],
             [
              0.6666666666666666,
              "#ed7953"
             ],
             [
              0.7777777777777778,
              "#fb9f3a"
             ],
             [
              0.8888888888888888,
              "#fdca26"
             ],
             [
              1,
              "#f0f921"
             ]
            ],
            "type": "heatmapgl"
           }
          ],
          "histogram": [
           {
            "marker": {
             "colorbar": {
              "outlinewidth": 0,
              "ticks": ""
             }
            },
            "type": "histogram"
           }
          ],
          "histogram2d": [
           {
            "colorbar": {
             "outlinewidth": 0,
             "ticks": ""
            },
            "colorscale": [
             [
              0,
              "#0d0887"
             ],
             [
              0.1111111111111111,
              "#46039f"
             ],
             [
              0.2222222222222222,
              "#7201a8"
             ],
             [
              0.3333333333333333,
              "#9c179e"
             ],
             [
              0.4444444444444444,
              "#bd3786"
             ],
             [
              0.5555555555555556,
              "#d8576b"
             ],
             [
              0.6666666666666666,
              "#ed7953"
             ],
             [
              0.7777777777777778,
              "#fb9f3a"
             ],
             [
              0.8888888888888888,
              "#fdca26"
             ],
             [
              1,
              "#f0f921"
             ]
            ],
            "type": "histogram2d"
           }
          ],
          "histogram2dcontour": [
           {
            "colorbar": {
             "outlinewidth": 0,
             "ticks": ""
            },
            "colorscale": [
             [
              0,
              "#0d0887"
             ],
             [
              0.1111111111111111,
              "#46039f"
             ],
             [
              0.2222222222222222,
              "#7201a8"
             ],
             [
              0.3333333333333333,
              "#9c179e"
             ],
             [
              0.4444444444444444,
              "#bd3786"
             ],
             [
              0.5555555555555556,
              "#d8576b"
             ],
             [
              0.6666666666666666,
              "#ed7953"
             ],
             [
              0.7777777777777778,
              "#fb9f3a"
             ],
             [
              0.8888888888888888,
              "#fdca26"
             ],
             [
              1,
              "#f0f921"
             ]
            ],
            "type": "histogram2dcontour"
           }
          ],
          "mesh3d": [
           {
            "colorbar": {
             "outlinewidth": 0,
             "ticks": ""
            },
            "type": "mesh3d"
           }
          ],
          "parcoords": [
           {
            "line": {
             "colorbar": {
              "outlinewidth": 0,
              "ticks": ""
             }
            },
            "type": "parcoords"
           }
          ],
          "pie": [
           {
            "automargin": true,
            "type": "pie"
           }
          ],
          "scatter": [
           {
            "marker": {
             "colorbar": {
              "outlinewidth": 0,
              "ticks": ""
             }
            },
            "type": "scatter"
           }
          ],
          "scatter3d": [
           {
            "line": {
             "colorbar": {
              "outlinewidth": 0,
              "ticks": ""
             }
            },
            "marker": {
             "colorbar": {
              "outlinewidth": 0,
              "ticks": ""
             }
            },
            "type": "scatter3d"
           }
          ],
          "scattercarpet": [
           {
            "marker": {
             "colorbar": {
              "outlinewidth": 0,
              "ticks": ""
             }
            },
            "type": "scattercarpet"
           }
          ],
          "scattergeo": [
           {
            "marker": {
             "colorbar": {
              "outlinewidth": 0,
              "ticks": ""
             }
            },
            "type": "scattergeo"
           }
          ],
          "scattergl": [
           {
            "marker": {
             "colorbar": {
              "outlinewidth": 0,
              "ticks": ""
             }
            },
            "type": "scattergl"
           }
          ],
          "scattermapbox": [
           {
            "marker": {
             "colorbar": {
              "outlinewidth": 0,
              "ticks": ""
             }
            },
            "type": "scattermapbox"
           }
          ],
          "scatterpolar": [
           {
            "marker": {
             "colorbar": {
              "outlinewidth": 0,
              "ticks": ""
             }
            },
            "type": "scatterpolar"
           }
          ],
          "scatterpolargl": [
           {
            "marker": {
             "colorbar": {
              "outlinewidth": 0,
              "ticks": ""
             }
            },
            "type": "scatterpolargl"
           }
          ],
          "scatterternary": [
           {
            "marker": {
             "colorbar": {
              "outlinewidth": 0,
              "ticks": ""
             }
            },
            "type": "scatterternary"
           }
          ],
          "surface": [
           {
            "colorbar": {
             "outlinewidth": 0,
             "ticks": ""
            },
            "colorscale": [
             [
              0,
              "#0d0887"
             ],
             [
              0.1111111111111111,
              "#46039f"
             ],
             [
              0.2222222222222222,
              "#7201a8"
             ],
             [
              0.3333333333333333,
              "#9c179e"
             ],
             [
              0.4444444444444444,
              "#bd3786"
             ],
             [
              0.5555555555555556,
              "#d8576b"
             ],
             [
              0.6666666666666666,
              "#ed7953"
             ],
             [
              0.7777777777777778,
              "#fb9f3a"
             ],
             [
              0.8888888888888888,
              "#fdca26"
             ],
             [
              1,
              "#f0f921"
             ]
            ],
            "type": "surface"
           }
          ],
          "table": [
           {
            "cells": {
             "fill": {
              "color": "#EBF0F8"
             },
             "line": {
              "color": "white"
             }
            },
            "header": {
             "fill": {
              "color": "#C8D4E3"
             },
             "line": {
              "color": "white"
             }
            },
            "type": "table"
           }
          ]
         },
         "layout": {
          "annotationdefaults": {
           "arrowcolor": "#2a3f5f",
           "arrowhead": 0,
           "arrowwidth": 1
          },
          "autotypenumbers": "strict",
          "coloraxis": {
           "colorbar": {
            "outlinewidth": 0,
            "ticks": ""
           }
          },
          "colorscale": {
           "diverging": [
            [
             0,
             "#8e0152"
            ],
            [
             0.1,
             "#c51b7d"
            ],
            [
             0.2,
             "#de77ae"
            ],
            [
             0.3,
             "#f1b6da"
            ],
            [
             0.4,
             "#fde0ef"
            ],
            [
             0.5,
             "#f7f7f7"
            ],
            [
             0.6,
             "#e6f5d0"
            ],
            [
             0.7,
             "#b8e186"
            ],
            [
             0.8,
             "#7fbc41"
            ],
            [
             0.9,
             "#4d9221"
            ],
            [
             1,
             "#276419"
            ]
           ],
           "sequential": [
            [
             0,
             "#0d0887"
            ],
            [
             0.1111111111111111,
             "#46039f"
            ],
            [
             0.2222222222222222,
             "#7201a8"
            ],
            [
             0.3333333333333333,
             "#9c179e"
            ],
            [
             0.4444444444444444,
             "#bd3786"
            ],
            [
             0.5555555555555556,
             "#d8576b"
            ],
            [
             0.6666666666666666,
             "#ed7953"
            ],
            [
             0.7777777777777778,
             "#fb9f3a"
            ],
            [
             0.8888888888888888,
             "#fdca26"
            ],
            [
             1,
             "#f0f921"
            ]
           ],
           "sequentialminus": [
            [
             0,
             "#0d0887"
            ],
            [
             0.1111111111111111,
             "#46039f"
            ],
            [
             0.2222222222222222,
             "#7201a8"
            ],
            [
             0.3333333333333333,
             "#9c179e"
            ],
            [
             0.4444444444444444,
             "#bd3786"
            ],
            [
             0.5555555555555556,
             "#d8576b"
            ],
            [
             0.6666666666666666,
             "#ed7953"
            ],
            [
             0.7777777777777778,
             "#fb9f3a"
            ],
            [
             0.8888888888888888,
             "#fdca26"
            ],
            [
             1,
             "#f0f921"
            ]
           ]
          },
          "colorway": [
           "#636efa",
           "#EF553B",
           "#00cc96",
           "#ab63fa",
           "#FFA15A",
           "#19d3f3",
           "#FF6692",
           "#B6E880",
           "#FF97FF",
           "#FECB52"
          ],
          "font": {
           "color": "#2a3f5f"
          },
          "geo": {
           "bgcolor": "white",
           "lakecolor": "white",
           "landcolor": "#E5ECF6",
           "showlakes": true,
           "showland": true,
           "subunitcolor": "white"
          },
          "hoverlabel": {
           "align": "left"
          },
          "hovermode": "closest",
          "mapbox": {
           "style": "light"
          },
          "paper_bgcolor": "white",
          "plot_bgcolor": "#E5ECF6",
          "polar": {
           "angularaxis": {
            "gridcolor": "white",
            "linecolor": "white",
            "ticks": ""
           },
           "bgcolor": "#E5ECF6",
           "radialaxis": {
            "gridcolor": "white",
            "linecolor": "white",
            "ticks": ""
           }
          },
          "scene": {
           "xaxis": {
            "backgroundcolor": "#E5ECF6",
            "gridcolor": "white",
            "gridwidth": 2,
            "linecolor": "white",
            "showbackground": true,
            "ticks": "",
            "zerolinecolor": "white"
           },
           "yaxis": {
            "backgroundcolor": "#E5ECF6",
            "gridcolor": "white",
            "gridwidth": 2,
            "linecolor": "white",
            "showbackground": true,
            "ticks": "",
            "zerolinecolor": "white"
           },
           "zaxis": {
            "backgroundcolor": "#E5ECF6",
            "gridcolor": "white",
            "gridwidth": 2,
            "linecolor": "white",
            "showbackground": true,
            "ticks": "",
            "zerolinecolor": "white"
           }
          },
          "shapedefaults": {
           "line": {
            "color": "#2a3f5f"
           }
          },
          "ternary": {
           "aaxis": {
            "gridcolor": "white",
            "linecolor": "white",
            "ticks": ""
           },
           "baxis": {
            "gridcolor": "white",
            "linecolor": "white",
            "ticks": ""
           },
           "bgcolor": "#E5ECF6",
           "caxis": {
            "gridcolor": "white",
            "linecolor": "white",
            "ticks": ""
           }
          },
          "title": {
           "x": 0.05
          },
          "xaxis": {
           "automargin": true,
           "gridcolor": "white",
           "linecolor": "white",
           "ticks": "",
           "title": {
            "standoff": 15
           },
           "zerolinecolor": "white",
           "zerolinewidth": 2
          },
          "yaxis": {
           "automargin": true,
           "gridcolor": "white",
           "linecolor": "white",
           "ticks": "",
           "title": {
            "standoff": 15
           },
           "zerolinecolor": "white",
           "zerolinewidth": 2
          }
         }
        },
        "title": {
         "font": {
          "color": "#D9D9D9"
         }
        },
        "xaxis": {
         "gridcolor": "grey",
         "showgrid": true,
         "tickfont": {
          "color": "#C2C2C2"
         },
         "title": {
          "font": {
           "color": "#D9D9D9"
          },
          "text": ""
         },
         "zerolinecolor": "#666570"
        },
        "yaxis": {
         "gridcolor": "grey",
         "showgrid": true,
         "tickfont": {
          "color": "#C2C2C2"
         },
         "title": {
          "font": {
           "color": "#D9D9D9"
          },
          "text": ""
         },
         "zerolinecolor": "#666570"
        }
       }
      },
      "text/html": "<div>                            <div id=\"24ba66ee-bcaa-461b-ac98-c7bfe279bbd6\" class=\"plotly-graph-div\" style=\"height:525px; width:100%;\"></div>            <script type=\"text/javascript\">                require([\"plotly\"], function(Plotly) {                    window.PLOTLYENV=window.PLOTLYENV || {};\n                    window.PLOTLYENV.BASE_URL='https://plot.ly';                                    if (document.getElementById(\"24ba66ee-bcaa-461b-ac98-c7bfe279bbd6\")) {                    Plotly.newPlot(                        \"24ba66ee-bcaa-461b-ac98-c7bfe279bbd6\",                        [{\"boxpoints\": false, \"line\": {\"width\": 1.3}, \"marker\": {\"color\": \"rgba(215, 25, 28, 1.0)\"}, \"name\": \"A\", \"orientation\": \"v\", \"type\": \"box\", \"y\": [-0.9792515936598923, 0.9598050055042266, 1.2879497854926978, -0.7580525281398575, 0.7395394550550108, 0.17019107169090317, -0.1293765011854134, 0.4456954392361662, 0.13772919772007583, -1.1475557380589023, 0.7148856836266592, 1.4579626985599747, 0.8874119734406709, 0.3072755156395645, 2.0957456279779065, 0.5899177376437668, 1.0364047408183756, 0.7388472871926347, 0.17950427668644467, 0.3680753376522049, 0.1368695577373032, 0.8159967349839087, -0.14844827589627468, 0.9610220648185201, 0.8403045958850671, 0.1539828413327248, -0.22403721645926258, -0.9886846475465637, -0.041097672863380195, -0.20336539740261284, -0.8272592313380914, -0.7377644328272414, 0.6228589278084802, 1.0167861280965602, -2.2412581790082666, -0.18088089665349677, 0.38747162796369533, -0.022976036922044408, -0.376997829574464, 0.12116576151183464, 0.004016022807814205, -1.8023654641354336, -0.8309213004133602, -0.37467942398393506, 0.16749391300381028, 2.157106901960888, 0.26801897806054975, -0.12917654316980617, -1.1921864240944327, 1.6144706272625435, 0.44154651927524047, -1.5248455068331284, -1.379729809199886, -0.3071048272960799, 0.11873027241721576, -0.18440988283347878, -1.5364079402765836, -1.7659951853905054, -1.1925247660678762, -0.3719050473318741, 0.9116004418673352, -1.2893901771054779, 0.3494224192856916, 0.12384105919512163, -0.2853887638156255, -0.05477890823051662, -0.13339681427823635, 0.002483580579456353, 0.6483924643575026, -1.7744604454121766, 0.051018691708484755, -0.20831087775659465, 1.2036245135778298, 0.37460006318208516, -0.007357554347866323, 0.5125991262014535, 0.0024173923945399363, -0.8563025126597791, -0.7617603492153533, -1.792629772347877, 0.360765760598241, -0.7718682940507207, 1.6886536550319722, 1.194024448998109, -0.417875534770027, 2.122611684514379, -0.20455142051435, -1.3193963771012482, -1.7879804873841585, 0.4066145570917323, 1.434386069614315, -0.5881888567526482, -1.2337031790890676, -0.7429661704558083, 0.0566414277132115, -1.2378557179328697, -0.43038873430261276, -2.5320354376990766, 0.7598237879841848, 0.48412359488350337]}, {\"boxpoints\": false, \"line\": {\"width\": 1.3}, \"marker\": {\"color\": \"rgba(253, 174, 97, 1.0)\"}, \"name\": \"B\", \"orientation\": \"v\", \"type\": \"box\", \"y\": [-0.0033035822899469052, 0.3142449677503647, -1.504523021926638, 1.0044432988561958, -0.3786281864931309, 1.6221183698918318, -0.6833666110514979, -0.09085898589503208, 0.4183024142850112, 0.1599510285795126, 0.4983380417069129, -2.38735035273387, -0.17484722770594668, -0.7024036572296523, -0.2377817653329279, 1.0463693206953972, -1.206970761077781, -0.27926473845743927, 0.024497475622231084, 0.07215395894711478, 0.8060503759899023, -0.10523700135619246, 0.4892495322097234, -1.6211612465614205, -0.9413730510682876, 0.5618878755989775, 1.148898697209982, -0.8603059741609684, -0.2545352736983566, 0.3221749143716371, 0.8184090970176358, 0.603400860775381, 0.29148084806096053, 1.2197382793191827, -0.11597682125807925, -0.993512699913698, 0.6287345083305073, -0.23713521257102554, -0.3097494760631051, -0.5890817405505082, -1.1603607004584577, 0.9875973705562235, -0.063031992142952, 0.5528356056102148, 0.9943802775983782, 1.5885704578261726, -0.9751179842350768, 0.6218820952952601, -2.0323297593875838, -0.5484199829062123, -0.12137817399783384, -1.2309977016776752, -0.9313693797491154, 0.2663840238711808, -1.6717292793656437, -0.4542443768926661, -0.2721841210031825, -2.536542463070985, 0.4847118496688762, -2.1214691330865127, -1.1620826355082072, -0.048986563425723995, -1.2645433415566478, 1.9997478527752839, 1.166476246332891, -3.103425838335752, -1.4438539094973724, 1.5718043608392394, -0.7335294160030932, -1.197965786647293, 1.0722513065522665, -0.7826362934224473, -0.49820503134543775, 1.5716627803037155, -0.005317290143883737, -0.3593653166820716, 1.5597095911561978, 1.0503815987596175, 0.3441039774821109, -0.04974121712467084, 0.008170229384752613, -0.9709058136802701, 2.417034408248457, -1.2124867561742774, 0.6046417869674267, -0.3585076795507522, 0.06705171160120478, 1.4546189083140886, -0.42913586866418607, -0.707992549805246, -2.096983049597022, 0.038373856459275275, 0.6579882416462015, 2.2386147056613295, -0.6608003396245523, -0.9953483586408077, 0.43580220111517376, -0.5404418613480602, 3.3467118532442397, 0.34927520878526047]}, {\"boxpoints\": false, \"line\": {\"width\": 1.3}, \"marker\": {\"color\": \"rgba(171, 217, 233, 1.0)\"}, \"name\": \"C\", \"orientation\": \"v\", \"type\": \"box\", \"y\": [-1.029169055522879, -0.6255978007913707, 1.0417982196879223, 2.2449486385713384, -0.6795945775053402, 0.14631255858470052, 0.3731668746960911, 0.4124420330489584, 1.5113484075983132, 0.5920468325658576, 0.2793855445424416, -0.29619014153343065, 2.3727187380412276, -0.6841365657268245, 0.49440394600584864, 0.6388836557479353, 0.21519353566892171, 0.08067736888339132, 1.355625354020415, -0.348654489687168, -0.4947196965310076, -0.3582819911117431, 0.8482378687717445, -0.7550696581956536, 0.09628928497248218, 0.3694001280085396, 1.7522158422386362, 0.24728003851561672, 1.4320945076126141, 0.38078115390777206, 0.49485054834994746, 0.10834747534480808, 0.40440051019822765, 0.46318804403090136, 0.8498937327069608, 0.30823700591443287, -0.16957495168143608, 1.4656183402677774, -0.2756627766669359, -1.558366156240104, -1.44390954708868, -0.5051680953931286, 0.27620048996716984, -1.8343779836571938, -0.32566386109769674, -0.5377091427902171, -0.8793316602002474, -0.13730101188128274, 0.4739117707913685, 1.9456675653065694, -0.34549575735322996, 0.9720333799605246, -0.26228104507380334, -0.5714395653881361, 0.14502575276461074, -1.8641784872791407, 0.8869491501534156, 1.5217251811022767, 1.3921339746257404, 1.1907950182465863, -1.3679269183388134, -0.42830897316735944, 0.16752652136906077, -0.822993733943916, 0.032639710581331624, -1.7353173585494512, 1.3006424924535107, -2.658447080801197, -0.7260667522978758, -1.346559369571314, 1.2100767873230984, 0.14199042718703583, 1.3810124437891032, 0.17475647805393424, -0.7973890264270153, 0.5809185216045772, -0.3885903405071358, 0.10406688806814304, 1.370396070389675, -0.23398496826648119, -0.29001376284099223, -0.28707110106581923, 0.25979132952928025, -0.1617035485251935, -0.6720898907014572, 0.7962255499025633, -0.6948156806562187, 0.9390569733955219, 1.8104513153386503, 0.5111732025237625, -0.7447934329773587, -0.36545521090245675, 0.12658057977115625, -1.1224377540795116, 0.23315136938347406, -0.3592208292662069, -0.3149408561046429, 0.7604586976536822, 0.8599817036861749, -2.121030951423784]}, {\"boxpoints\": false, \"line\": {\"width\": 1.3}, \"marker\": {\"color\": \"rgba(44, 123, 182, 1.0)\"}, \"name\": \"D\", \"orientation\": \"v\", \"type\": \"box\", \"y\": [-0.46308053517921177, -0.22893297382440694, 0.28152771977670005, 0.841148244630791, 0.09335388118504882, 0.09404129945671476, -0.27604509647678394, -1.4149534857065915, 0.6303783847458049, 1.0140454768881473, 0.6247341776241347, 0.3462567203067475, 0.06618476657523857, 0.22304990357635202, -0.7104729965870029, -0.36754819414362006, 0.7527370093648587, 0.4243521358588527, -0.313879559965402, 0.44453194663906453, -1.2215088401885823, 0.5313535901603273, -1.136436468522623, -0.33583843750714953, 0.695915250472006, -2.035088399463051, 2.007662253559875, 0.3019128256963567, -0.18113684687278164, 1.8911687280243084, 0.7572630803852446, -0.43219425771863185, 0.2682190866781442, 0.9638038961270988, 0.38196860184494996, -0.904240690441337, 0.9257726882611239, -3.089622695862602, 0.022160723350371093, 0.15890271523422386, 1.2072376116298225, 0.036906673259497653, 1.9325182083788126, -2.65838624213967, 1.33374362812293, -0.3002915926433879, -2.3339029672320337, 0.4283179292567376, 0.3920197131247837, 1.0578439219875122, -1.2286183490049214, -0.42118880033063083, 0.18221735978592854, 0.7783483420916925, -1.1631454183180807, 0.3409532835134661, -0.175860025671226, 2.600067786231678, 0.1424405264085281, 0.6378341507289481, -0.7911396934565847, 0.2970410528515773, -0.36757856712825604, 0.001891577602284555, -0.9533757506556024, -1.5265124105099575, 0.14141110796393855, 3.6126504926656198, -0.4083508444949703, -1.3866183439117674, 0.6146431833929709, -1.1797204483467447, -0.17626909828622517, -0.8315102988033132, -1.0629729405783421, 0.6165434831247598, 2.4710912898514956, -0.5136104215624592, -1.2833494881724943, -0.19740622984239123, -0.28292641821742964, -0.17332004636855022, -0.8472778358004164, -1.5638430808706032, -0.12651593497479413, 0.5196255513517741, 1.6550631354033751, -0.4268727901892978, 1.0780805010140389, 1.394028416980079, -0.27892950008419176, -0.42372865324865777, -0.0035800875407494483, -0.3109767884032559, -0.6928666677078057, -0.96026887219562, -0.17067052996934515, -0.8291957027802563, -1.872451022659089, 0.4529640052721673]}],                        {\"legend\": {\"bgcolor\": \"#151516\", \"font\": {\"color\": \"#D9D9D9\"}}, \"paper_bgcolor\": \"#151516\", \"plot_bgcolor\": \"#151516\", \"template\": {\"data\": {\"bar\": [{\"error_x\": {\"color\": \"#2a3f5f\"}, \"error_y\": {\"color\": \"#2a3f5f\"}, \"marker\": {\"line\": {\"color\": \"#E5ECF6\", \"width\": 0.5}}, \"type\": \"bar\"}], \"barpolar\": [{\"marker\": {\"line\": {\"color\": \"#E5ECF6\", \"width\": 0.5}}, \"type\": \"barpolar\"}], \"carpet\": [{\"aaxis\": {\"endlinecolor\": \"#2a3f5f\", \"gridcolor\": \"white\", \"linecolor\": \"white\", \"minorgridcolor\": \"white\", \"startlinecolor\": \"#2a3f5f\"}, \"baxis\": {\"endlinecolor\": \"#2a3f5f\", \"gridcolor\": \"white\", \"linecolor\": \"white\", \"minorgridcolor\": \"white\", \"startlinecolor\": \"#2a3f5f\"}, \"type\": \"carpet\"}], \"choropleth\": [{\"colorbar\": {\"outlinewidth\": 0, \"ticks\": \"\"}, \"type\": \"choropleth\"}], \"contour\": [{\"colorbar\": {\"outlinewidth\": 0, \"ticks\": \"\"}, \"colorscale\": [[0.0, \"#0d0887\"], [0.1111111111111111, \"#46039f\"], [0.2222222222222222, \"#7201a8\"], [0.3333333333333333, \"#9c179e\"], [0.4444444444444444, \"#bd3786\"], [0.5555555555555556, \"#d8576b\"], [0.6666666666666666, \"#ed7953\"], [0.7777777777777778, \"#fb9f3a\"], [0.8888888888888888, \"#fdca26\"], [1.0, \"#f0f921\"]], \"type\": \"contour\"}], \"contourcarpet\": [{\"colorbar\": {\"outlinewidth\": 0, \"ticks\": \"\"}, \"type\": \"contourcarpet\"}], \"heatmap\": [{\"colorbar\": {\"outlinewidth\": 0, \"ticks\": \"\"}, \"colorscale\": [[0.0, \"#0d0887\"], [0.1111111111111111, \"#46039f\"], [0.2222222222222222, \"#7201a8\"], [0.3333333333333333, \"#9c179e\"], [0.4444444444444444, \"#bd3786\"], [0.5555555555555556, \"#d8576b\"], [0.6666666666666666, \"#ed7953\"], [0.7777777777777778, \"#fb9f3a\"], [0.8888888888888888, \"#fdca26\"], [1.0, \"#f0f921\"]], \"type\": \"heatmap\"}], \"heatmapgl\": [{\"colorbar\": {\"outlinewidth\": 0, \"ticks\": \"\"}, \"colorscale\": [[0.0, \"#0d0887\"], [0.1111111111111111, \"#46039f\"], [0.2222222222222222, \"#7201a8\"], [0.3333333333333333, \"#9c179e\"], [0.4444444444444444, \"#bd3786\"], [0.5555555555555556, \"#d8576b\"], [0.6666666666666666, \"#ed7953\"], [0.7777777777777778, \"#fb9f3a\"], [0.8888888888888888, \"#fdca26\"], [1.0, \"#f0f921\"]], \"type\": \"heatmapgl\"}], \"histogram\": [{\"marker\": {\"colorbar\": {\"outlinewidth\": 0, \"ticks\": \"\"}}, \"type\": \"histogram\"}], \"histogram2d\": [{\"colorbar\": {\"outlinewidth\": 0, \"ticks\": \"\"}, \"colorscale\": [[0.0, \"#0d0887\"], [0.1111111111111111, \"#46039f\"], [0.2222222222222222, \"#7201a8\"], [0.3333333333333333, \"#9c179e\"], [0.4444444444444444, \"#bd3786\"], [0.5555555555555556, \"#d8576b\"], [0.6666666666666666, \"#ed7953\"], [0.7777777777777778, \"#fb9f3a\"], [0.8888888888888888, \"#fdca26\"], [1.0, \"#f0f921\"]], \"type\": \"histogram2d\"}], \"histogram2dcontour\": [{\"colorbar\": {\"outlinewidth\": 0, \"ticks\": \"\"}, \"colorscale\": [[0.0, \"#0d0887\"], [0.1111111111111111, \"#46039f\"], [0.2222222222222222, \"#7201a8\"], [0.3333333333333333, \"#9c179e\"], [0.4444444444444444, \"#bd3786\"], [0.5555555555555556, \"#d8576b\"], [0.6666666666666666, \"#ed7953\"], [0.7777777777777778, \"#fb9f3a\"], [0.8888888888888888, \"#fdca26\"], [1.0, \"#f0f921\"]], \"type\": \"histogram2dcontour\"}], \"mesh3d\": [{\"colorbar\": {\"outlinewidth\": 0, \"ticks\": \"\"}, \"type\": \"mesh3d\"}], \"parcoords\": [{\"line\": {\"colorbar\": {\"outlinewidth\": 0, \"ticks\": \"\"}}, \"type\": \"parcoords\"}], \"pie\": [{\"automargin\": true, \"type\": \"pie\"}], \"scatter\": [{\"marker\": {\"colorbar\": {\"outlinewidth\": 0, \"ticks\": \"\"}}, \"type\": \"scatter\"}], \"scatter3d\": [{\"line\": {\"colorbar\": {\"outlinewidth\": 0, \"ticks\": \"\"}}, \"marker\": {\"colorbar\": {\"outlinewidth\": 0, \"ticks\": \"\"}}, \"type\": \"scatter3d\"}], \"scattercarpet\": [{\"marker\": {\"colorbar\": {\"outlinewidth\": 0, \"ticks\": \"\"}}, \"type\": \"scattercarpet\"}], \"scattergeo\": [{\"marker\": {\"colorbar\": {\"outlinewidth\": 0, \"ticks\": \"\"}}, \"type\": \"scattergeo\"}], \"scattergl\": [{\"marker\": {\"colorbar\": {\"outlinewidth\": 0, \"ticks\": \"\"}}, \"type\": \"scattergl\"}], \"scattermapbox\": [{\"marker\": {\"colorbar\": {\"outlinewidth\": 0, \"ticks\": \"\"}}, \"type\": \"scattermapbox\"}], \"scatterpolar\": [{\"marker\": {\"colorbar\": {\"outlinewidth\": 0, \"ticks\": \"\"}}, \"type\": \"scatterpolar\"}], \"scatterpolargl\": [{\"marker\": {\"colorbar\": {\"outlinewidth\": 0, \"ticks\": \"\"}}, \"type\": \"scatterpolargl\"}], \"scatterternary\": [{\"marker\": {\"colorbar\": {\"outlinewidth\": 0, \"ticks\": \"\"}}, \"type\": \"scatterternary\"}], \"surface\": [{\"colorbar\": {\"outlinewidth\": 0, \"ticks\": \"\"}, \"colorscale\": [[0.0, \"#0d0887\"], [0.1111111111111111, \"#46039f\"], [0.2222222222222222, \"#7201a8\"], [0.3333333333333333, \"#9c179e\"], [0.4444444444444444, \"#bd3786\"], [0.5555555555555556, \"#d8576b\"], [0.6666666666666666, \"#ed7953\"], [0.7777777777777778, \"#fb9f3a\"], [0.8888888888888888, \"#fdca26\"], [1.0, \"#f0f921\"]], \"type\": \"surface\"}], \"table\": [{\"cells\": {\"fill\": {\"color\": \"#EBF0F8\"}, \"line\": {\"color\": \"white\"}}, \"header\": {\"fill\": {\"color\": \"#C8D4E3\"}, \"line\": {\"color\": \"white\"}}, \"type\": \"table\"}]}, \"layout\": {\"annotationdefaults\": {\"arrowcolor\": \"#2a3f5f\", \"arrowhead\": 0, \"arrowwidth\": 1}, \"autotypenumbers\": \"strict\", \"coloraxis\": {\"colorbar\": {\"outlinewidth\": 0, \"ticks\": \"\"}}, \"colorscale\": {\"diverging\": [[0, \"#8e0152\"], [0.1, \"#c51b7d\"], [0.2, \"#de77ae\"], [0.3, \"#f1b6da\"], [0.4, \"#fde0ef\"], [0.5, \"#f7f7f7\"], [0.6, \"#e6f5d0\"], [0.7, \"#b8e186\"], [0.8, \"#7fbc41\"], [0.9, \"#4d9221\"], [1, \"#276419\"]], \"sequential\": [[0.0, \"#0d0887\"], [0.1111111111111111, \"#46039f\"], [0.2222222222222222, \"#7201a8\"], [0.3333333333333333, \"#9c179e\"], [0.4444444444444444, \"#bd3786\"], [0.5555555555555556, \"#d8576b\"], [0.6666666666666666, \"#ed7953\"], [0.7777777777777778, \"#fb9f3a\"], [0.8888888888888888, \"#fdca26\"], [1.0, \"#f0f921\"]], \"sequentialminus\": [[0.0, \"#0d0887\"], [0.1111111111111111, \"#46039f\"], [0.2222222222222222, \"#7201a8\"], [0.3333333333333333, \"#9c179e\"], [0.4444444444444444, \"#bd3786\"], [0.5555555555555556, \"#d8576b\"], [0.6666666666666666, \"#ed7953\"], [0.7777777777777778, \"#fb9f3a\"], [0.8888888888888888, \"#fdca26\"], [1.0, \"#f0f921\"]]}, \"colorway\": [\"#636efa\", \"#EF553B\", \"#00cc96\", \"#ab63fa\", \"#FFA15A\", \"#19d3f3\", \"#FF6692\", \"#B6E880\", \"#FF97FF\", \"#FECB52\"], \"font\": {\"color\": \"#2a3f5f\"}, \"geo\": {\"bgcolor\": \"white\", \"lakecolor\": \"white\", \"landcolor\": \"#E5ECF6\", \"showlakes\": true, \"showland\": true, \"subunitcolor\": \"white\"}, \"hoverlabel\": {\"align\": \"left\"}, \"hovermode\": \"closest\", \"mapbox\": {\"style\": \"light\"}, \"paper_bgcolor\": \"white\", \"plot_bgcolor\": \"#E5ECF6\", \"polar\": {\"angularaxis\": {\"gridcolor\": \"white\", \"linecolor\": \"white\", \"ticks\": \"\"}, \"bgcolor\": \"#E5ECF6\", \"radialaxis\": {\"gridcolor\": \"white\", \"linecolor\": \"white\", \"ticks\": \"\"}}, \"scene\": {\"xaxis\": {\"backgroundcolor\": \"#E5ECF6\", \"gridcolor\": \"white\", \"gridwidth\": 2, \"linecolor\": \"white\", \"showbackground\": true, \"ticks\": \"\", \"zerolinecolor\": \"white\"}, \"yaxis\": {\"backgroundcolor\": \"#E5ECF6\", \"gridcolor\": \"white\", \"gridwidth\": 2, \"linecolor\": \"white\", \"showbackground\": true, \"ticks\": \"\", \"zerolinecolor\": \"white\"}, \"zaxis\": {\"backgroundcolor\": \"#E5ECF6\", \"gridcolor\": \"white\", \"gridwidth\": 2, \"linecolor\": \"white\", \"showbackground\": true, \"ticks\": \"\", \"zerolinecolor\": \"white\"}}, \"shapedefaults\": {\"line\": {\"color\": \"#2a3f5f\"}}, \"ternary\": {\"aaxis\": {\"gridcolor\": \"white\", \"linecolor\": \"white\", \"ticks\": \"\"}, \"baxis\": {\"gridcolor\": \"white\", \"linecolor\": \"white\", \"ticks\": \"\"}, \"bgcolor\": \"#E5ECF6\", \"caxis\": {\"gridcolor\": \"white\", \"linecolor\": \"white\", \"ticks\": \"\"}}, \"title\": {\"x\": 0.05}, \"xaxis\": {\"automargin\": true, \"gridcolor\": \"white\", \"linecolor\": \"white\", \"ticks\": \"\", \"title\": {\"standoff\": 15}, \"zerolinecolor\": \"white\", \"zerolinewidth\": 2}, \"yaxis\": {\"automargin\": true, \"gridcolor\": \"white\", \"linecolor\": \"white\", \"ticks\": \"\", \"title\": {\"standoff\": 15}, \"zerolinecolor\": \"white\", \"zerolinewidth\": 2}}}, \"title\": {\"font\": {\"color\": \"#D9D9D9\"}}, \"xaxis\": {\"gridcolor\": \"grey\", \"showgrid\": true, \"tickfont\": {\"color\": \"#C2C2C2\"}, \"title\": {\"font\": {\"color\": \"#D9D9D9\"}, \"text\": \"\"}, \"zerolinecolor\": \"#666570\"}, \"yaxis\": {\"gridcolor\": \"grey\", \"showgrid\": true, \"tickfont\": {\"color\": \"#C2C2C2\"}, \"title\": {\"font\": {\"color\": \"#D9D9D9\"}, \"text\": \"\"}, \"zerolinecolor\": \"#666570\"}},                        {\"showLink\": true, \"linkText\": \"Export to plot.ly\", \"plotlyServerURL\": \"https://plot.ly\", \"responsive\": true}                    ).then(function(){\n                            \nvar gd = document.getElementById('24ba66ee-bcaa-461b-ac98-c7bfe279bbd6');\nvar x = new MutationObserver(function (mutations, observer) {{\n        var display = window.getComputedStyle(gd).display;\n        if (!display || display === 'none') {{\n            console.log([gd, 'removed!']);\n            Plotly.purge(gd);\n            observer.disconnect();\n        }}\n}});\n\n// Listen for the removal of the full notebook cells\nvar notebookContainer = gd.closest('#notebook-container');\nif (notebookContainer) {{\n    x.observe(notebookContainer, {childList: true});\n}}\n\n// Listen for the clearing of the current output cell\nvar outputEl = gd.closest('.output');\nif (outputEl) {{\n    x.observe(outputEl, {childList: true});\n}}\n\n                        })                };                });            </script>        </div>"
     },
     "metadata": {}
    }
   ],
   "source": [
    "df.iplot(kind='box', theme='solar', colorscale= 'rdylbu', gridcolor='grey')"
   ]
  },
  {
   "source": [
    "*5. 3D Surface plot*"
   ],
   "cell_type": "markdown",
   "metadata": {}
  },
  {
   "cell_type": "code",
   "execution_count": 193,
   "metadata": {},
   "outputs": [
    {
     "output_type": "execute_result",
     "data": {
      "text/plain": [
       "{'brbg': ['rgb(84,48,5)',\n",
       "  'rgb(140,81,10)',\n",
       "  'rgb(191,129,45)',\n",
       "  'rgb(223,194,125)',\n",
       "  'rgb(246,232,195)',\n",
       "  'rgb(245,245,245)',\n",
       "  'rgb(199,234,229)',\n",
       "  'rgb(128,205,193)',\n",
       "  'rgb(53,151,143)',\n",
       "  'rgb(1,102,94)',\n",
       "  'rgb(0,60,48)'],\n",
       " 'prgn': ['rgb(64,0,75)',\n",
       "  'rgb(118,42,131)',\n",
       "  'rgb(153,112,171)',\n",
       "  'rgb(194,165,207)',\n",
       "  'rgb(231,212,232)',\n",
       "  'rgb(247,247,247)',\n",
       "  'rgb(217,240,211)',\n",
       "  'rgb(166,219,160)',\n",
       "  'rgb(90,174,97)',\n",
       "  'rgb(27,120,55)',\n",
       "  'rgb(0,68,27)'],\n",
       " 'piyg': ['rgb(142,1,82)',\n",
       "  'rgb(197,27,125)',\n",
       "  'rgb(222,119,174)',\n",
       "  'rgb(241,182,218)',\n",
       "  'rgb(253,224,239)',\n",
       "  'rgb(247,247,247)',\n",
       "  'rgb(230,245,208)',\n",
       "  'rgb(184,225,134)',\n",
       "  'rgb(127,188,65)',\n",
       "  'rgb(77,146,33)',\n",
       "  'rgb(39,100,25)'],\n",
       " 'puor': ['rgb(127,59,8)',\n",
       "  'rgb(179,88,6)',\n",
       "  'rgb(224,130,20)',\n",
       "  'rgb(253,184,99)',\n",
       "  'rgb(254,224,182)',\n",
       "  'rgb(247,247,247)',\n",
       "  'rgb(216,218,235)',\n",
       "  'rgb(178,171,210)',\n",
       "  'rgb(128,115,172)',\n",
       "  'rgb(84,39,136)',\n",
       "  'rgb(45,0,75)'],\n",
       " 'rdbu': ['rgb(103,0,31)',\n",
       "  'rgb(178,24,43)',\n",
       "  'rgb(214,96,77)',\n",
       "  'rgb(244,165,130)',\n",
       "  'rgb(253,219,199)',\n",
       "  'rgb(247,247,247)',\n",
       "  'rgb(209,229,240)',\n",
       "  'rgb(146,197,222)',\n",
       "  'rgb(67,147,195)',\n",
       "  'rgb(33,102,172)',\n",
       "  'rgb(5,48,97)'],\n",
       " 'rdgy': ['rgb(103,0,31)',\n",
       "  'rgb(178,24,43)',\n",
       "  'rgb(214,96,77)',\n",
       "  'rgb(244,165,130)',\n",
       "  'rgb(253,219,199)',\n",
       "  'rgb(255,255,255)',\n",
       "  'rgb(224,224,224)',\n",
       "  'rgb(186,186,186)',\n",
       "  'rgb(135,135,135)',\n",
       "  'rgb(77,77,77)',\n",
       "  'rgb(26,26,26)'],\n",
       " 'rdylbu': ['rgb(165,0,38)',\n",
       "  'rgb(215,48,39)',\n",
       "  'rgb(244,109,67)',\n",
       "  'rgb(253,174,97)',\n",
       "  'rgb(254,224,144)',\n",
       "  'rgb(255,255,191)',\n",
       "  'rgb(224,243,248)',\n",
       "  'rgb(171,217,233)',\n",
       "  'rgb(116,173,209)',\n",
       "  'rgb(69,117,180)',\n",
       "  'rgb(49,54,149)'],\n",
       " 'rdylgn': ['rgb(165,0,38)',\n",
       "  'rgb(215,48,39)',\n",
       "  'rgb(244,109,67)',\n",
       "  'rgb(253,174,97)',\n",
       "  'rgb(254,224,139)',\n",
       "  'rgb(255,255,191)',\n",
       "  'rgb(217,239,139)',\n",
       "  'rgb(166,217,106)',\n",
       "  'rgb(102,189,99)',\n",
       "  'rgb(26,152,80)',\n",
       "  'rgb(0,104,55)'],\n",
       " 'spectral': ['rgb(158,1,66)',\n",
       "  'rgb(213,62,79)',\n",
       "  'rgb(244,109,67)',\n",
       "  'rgb(253,174,97)',\n",
       "  'rgb(254,224,139)',\n",
       "  'rgb(255,255,191)',\n",
       "  'rgb(230,245,152)',\n",
       "  'rgb(171,221,164)',\n",
       "  'rgb(102,194,165)',\n",
       "  'rgb(50,136,189)',\n",
       "  'rgb(94,79,162)'],\n",
       " 'paired': ['rgb(166,206,227)',\n",
       "  'rgb(31,120,180)',\n",
       "  'rgb(178,223,138)',\n",
       "  'rgb(51,160,44)',\n",
       "  'rgb(251,154,153)',\n",
       "  'rgb(227,26,28)',\n",
       "  'rgb(253,191,111)',\n",
       "  'rgb(255,127,0)',\n",
       "  'rgb(202,178,214)',\n",
       "  'rgb(106,61,154)',\n",
       "  'rgb(255,255,153)',\n",
       "  'rgb(177,89,40)'],\n",
       " 'set3': ['rgb(141,211,199)',\n",
       "  'rgb(255,255,179)',\n",
       "  'rgb(190,186,218)',\n",
       "  'rgb(251,128,114)',\n",
       "  'rgb(128,177,211)',\n",
       "  'rgb(253,180,98)',\n",
       "  'rgb(179,222,105)',\n",
       "  'rgb(252,205,229)',\n",
       "  'rgb(217,217,217)',\n",
       "  'rgb(188,128,189)',\n",
       "  'rgb(204,235,197)',\n",
       "  'rgb(255,237,111)'],\n",
       " 'dflt': ['rgb(255, 153, 51)',\n",
       "  'rgb(55, 128, 191)',\n",
       "  'rgb(50, 171, 96)',\n",
       "  'rgb(128, 0, 128)',\n",
       "  'rgb(219, 64, 82)',\n",
       "  'rgb(0, 128, 128)',\n",
       "  'rgb(255, 255, 51)',\n",
       "  'rgb(128, 128, 0)',\n",
       "  'rgb(251, 128, 114)',\n",
       "  'rgb(128, 177, 211)'],\n",
       " 'original': ['rgb(255, 153, 51)',\n",
       "  'rgb(55, 128, 191)',\n",
       "  'rgb(50, 171, 96)',\n",
       "  'rgb(128, 0, 128)',\n",
       "  'rgb(219, 64, 82)',\n",
       "  'rgb(0, 128, 128)',\n",
       "  'rgb(255, 255, 51)',\n",
       "  'rgb(128, 128, 0)',\n",
       "  'rgb(251, 128, 114)',\n",
       "  'rgb(128, 177, 211)'],\n",
       " 'plotly': ['rgb(31, 119, 180)',\n",
       "  'rgb(255, 127, 14)',\n",
       "  'rgb(44, 160, 44)',\n",
       "  'rgb(214, 39, 40)',\n",
       "  'rgb(148, 103, 189)',\n",
       "  'rgb(140, 86, 75)',\n",
       "  'rgb(227, 119, 194)',\n",
       "  'rgb(127, 127, 127)',\n",
       "  'rgb(188, 189, 34)',\n",
       "  'rgb(23, 190, 207)'],\n",
       " 'henanigans': ['rgb(182, 236, 243)',\n",
       "  'rgb(222, 149, 142)',\n",
       "  'rgb(160, 209, 123)',\n",
       "  'rgb(147, 182, 230)',\n",
       "  'rgb(235, 180, 131)',\n",
       "  'rgb(172, 146, 222)',\n",
       "  'rgb(233, 234, 190)',\n",
       "  'rgb(244, 244, 244)',\n",
       "  'rgb(126, 196, 207)',\n",
       "  'rgb(247, 126, 112)',\n",
       "  'rgb(139, 209, 85)',\n",
       "  'rgb(95, 149, 222)'],\n",
       " 'accent': ['rgb(127,201,127)',\n",
       "  'rgb(190,174,212)',\n",
       "  'rgb(253,192,134)',\n",
       "  'rgb(255,255,153)',\n",
       "  'rgb(56,108,176)',\n",
       "  'rgb(240,2,127)',\n",
       "  'rgb(191,91,23)',\n",
       "  'rgb(102,102,102)'],\n",
       " 'dark2': ['rgb(27,158,119)',\n",
       "  'rgb(217,95,2)',\n",
       "  'rgb(117,112,179)',\n",
       "  'rgb(231,41,138)',\n",
       "  'rgb(102,166,30)',\n",
       "  'rgb(230,171,2)',\n",
       "  'rgb(166,118,29)',\n",
       "  'rgb(102,102,102)'],\n",
       " 'pastel1': ['rgb(251,180,174)',\n",
       "  'rgb(179,205,227)',\n",
       "  'rgb(204,235,197)',\n",
       "  'rgb(222,203,228)',\n",
       "  'rgb(254,217,166)',\n",
       "  'rgb(255,255,204)',\n",
       "  'rgb(229,216,189)',\n",
       "  'rgb(253,218,236)',\n",
       "  'rgb(242,242,242)'],\n",
       " 'pastel2': ['rgb(179,226,205)',\n",
       "  'rgb(253,205,172)',\n",
       "  'rgb(203,213,232)',\n",
       "  'rgb(244,202,228)',\n",
       "  'rgb(230,245,201)',\n",
       "  'rgb(255,242,174)',\n",
       "  'rgb(241,226,204)',\n",
       "  'rgb(204,204,204)'],\n",
       " 'set1': ['rgb(228,26,28)',\n",
       "  'rgb(55,126,184)',\n",
       "  'rgb(77,175,74)',\n",
       "  'rgb(152,78,163)',\n",
       "  'rgb(255,127,0)',\n",
       "  'rgb(255,255,51)',\n",
       "  'rgb(166,86,40)',\n",
       "  'rgb(247,129,191)',\n",
       "  'rgb(153,153,153)'],\n",
       " 'set2': ['rgb(102,194,165)',\n",
       "  'rgb(252,141,98)',\n",
       "  'rgb(141,160,203)',\n",
       "  'rgb(231,138,195)',\n",
       "  'rgb(166,216,84)',\n",
       "  'rgb(255,217,47)',\n",
       "  'rgb(229,196,148)',\n",
       "  'rgb(179,179,179)'],\n",
       " 'blues': ['rgb(247,251,255)',\n",
       "  'rgb(222,235,247)',\n",
       "  'rgb(198,219,239)',\n",
       "  'rgb(158,202,225)',\n",
       "  'rgb(107,174,214)',\n",
       "  'rgb(66,146,198)',\n",
       "  'rgb(33,113,181)',\n",
       "  'rgb(8,81,156)',\n",
       "  'rgb(8,48,107)'],\n",
       " 'bugn': ['rgb(247,252,253)',\n",
       "  'rgb(229,245,249)',\n",
       "  'rgb(204,236,230)',\n",
       "  'rgb(153,216,201)',\n",
       "  'rgb(102,194,164)',\n",
       "  'rgb(65,174,118)',\n",
       "  'rgb(35,139,69)',\n",
       "  'rgb(0,109,44)',\n",
       "  'rgb(0,68,27)'],\n",
       " 'bupu': ['rgb(247,252,253)',\n",
       "  'rgb(224,236,244)',\n",
       "  'rgb(191,211,230)',\n",
       "  'rgb(158,188,218)',\n",
       "  'rgb(140,150,198)',\n",
       "  'rgb(140,107,177)',\n",
       "  'rgb(136,65,157)',\n",
       "  'rgb(129,15,124)',\n",
       "  'rgb(77,0,75)'],\n",
       " 'gnbu': ['rgb(247,252,240)',\n",
       "  'rgb(224,243,219)',\n",
       "  'rgb(204,235,197)',\n",
       "  'rgb(168,221,181)',\n",
       "  'rgb(123,204,196)',\n",
       "  'rgb(78,179,211)',\n",
       "  'rgb(43,140,190)',\n",
       "  'rgb(8,104,172)',\n",
       "  'rgb(8,64,129)'],\n",
       " 'greens': ['rgb(247,252,245)',\n",
       "  'rgb(229,245,224)',\n",
       "  'rgb(199,233,192)',\n",
       "  'rgb(161,217,155)',\n",
       "  'rgb(116,196,118)',\n",
       "  'rgb(65,171,93)',\n",
       "  'rgb(35,139,69)',\n",
       "  'rgb(0,109,44)',\n",
       "  'rgb(0,68,27)'],\n",
       " 'greys': ['rgb(255,255,255)',\n",
       "  'rgb(240,240,240)',\n",
       "  'rgb(217,217,217)',\n",
       "  'rgb(189,189,189)',\n",
       "  'rgb(150,150,150)',\n",
       "  'rgb(115,115,115)',\n",
       "  'rgb(82,82,82)',\n",
       "  'rgb(37,37,37)',\n",
       "  'rgb(0,0,0)'],\n",
       " 'orrd': ['rgb(255,247,236)',\n",
       "  'rgb(254,232,200)',\n",
       "  'rgb(253,212,158)',\n",
       "  'rgb(253,187,132)',\n",
       "  'rgb(252,141,89)',\n",
       "  'rgb(239,101,72)',\n",
       "  'rgb(215,48,31)',\n",
       "  'rgb(179,0,0)',\n",
       "  'rgb(127,0,0)'],\n",
       " 'oranges': ['rgb(255,245,235)',\n",
       "  'rgb(254,230,206)',\n",
       "  'rgb(253,208,162)',\n",
       "  'rgb(253,174,107)',\n",
       "  'rgb(253,141,60)',\n",
       "  'rgb(241,105,19)',\n",
       "  'rgb(217,72,1)',\n",
       "  'rgb(166,54,3)',\n",
       "  'rgb(127,39,4)'],\n",
       " 'pubu': ['rgb(255,247,251)',\n",
       "  'rgb(236,231,242)',\n",
       "  'rgb(208,209,230)',\n",
       "  'rgb(166,189,219)',\n",
       "  'rgb(116,169,207)',\n",
       "  'rgb(54,144,192)',\n",
       "  'rgb(5,112,176)',\n",
       "  'rgb(4,90,141)',\n",
       "  'rgb(2,56,88)'],\n",
       " 'pubugn': ['rgb(255,247,251)',\n",
       "  'rgb(236,226,240)',\n",
       "  'rgb(208,209,230)',\n",
       "  'rgb(166,189,219)',\n",
       "  'rgb(103,169,207)',\n",
       "  'rgb(54,144,192)',\n",
       "  'rgb(2,129,138)',\n",
       "  'rgb(1,108,89)',\n",
       "  'rgb(1,70,54)'],\n",
       " 'purd': ['rgb(247,244,249)',\n",
       "  'rgb(231,225,239)',\n",
       "  'rgb(212,185,218)',\n",
       "  'rgb(201,148,199)',\n",
       "  'rgb(223,101,176)',\n",
       "  'rgb(231,41,138)',\n",
       "  'rgb(206,18,86)',\n",
       "  'rgb(152,0,67)',\n",
       "  'rgb(103,0,31)'],\n",
       " 'purples': ['rgb(252,251,253)',\n",
       "  'rgb(239,237,245)',\n",
       "  'rgb(218,218,235)',\n",
       "  'rgb(188,189,220)',\n",
       "  'rgb(158,154,200)',\n",
       "  'rgb(128,125,186)',\n",
       "  'rgb(106,81,163)',\n",
       "  'rgb(84,39,143)',\n",
       "  'rgb(63,0,125)'],\n",
       " 'rdpu': ['rgb(255,247,243)',\n",
       "  'rgb(253,224,221)',\n",
       "  'rgb(252,197,192)',\n",
       "  'rgb(250,159,181)',\n",
       "  'rgb(247,104,161)',\n",
       "  'rgb(221,52,151)',\n",
       "  'rgb(174,1,126)',\n",
       "  'rgb(122,1,119)',\n",
       "  'rgb(73,0,106)'],\n",
       " 'reds': ['rgb(255,245,240)',\n",
       "  'rgb(254,224,210)',\n",
       "  'rgb(252,187,161)',\n",
       "  'rgb(252,146,114)',\n",
       "  'rgb(251,106,74)',\n",
       "  'rgb(239,59,44)',\n",
       "  'rgb(203,24,29)',\n",
       "  'rgb(165,15,21)',\n",
       "  'rgb(103,0,13)'],\n",
       " 'ylgn': ['rgb(255,255,229)',\n",
       "  'rgb(247,252,185)',\n",
       "  'rgb(217,240,163)',\n",
       "  'rgb(173,221,142)',\n",
       "  'rgb(120,198,121)',\n",
       "  'rgb(65,171,93)',\n",
       "  'rgb(35,132,67)',\n",
       "  'rgb(0,104,55)',\n",
       "  'rgb(0,69,41)'],\n",
       " 'ylgnbu': ['rgb(255,255,217)',\n",
       "  'rgb(237,248,177)',\n",
       "  'rgb(199,233,180)',\n",
       "  'rgb(127,205,187)',\n",
       "  'rgb(65,182,196)',\n",
       "  'rgb(29,145,192)',\n",
       "  'rgb(34,94,168)',\n",
       "  'rgb(37,52,148)',\n",
       "  'rgb(8,29,88)'],\n",
       " 'ylorbr': ['rgb(255,255,229)',\n",
       "  'rgb(255,247,188)',\n",
       "  'rgb(254,227,145)',\n",
       "  'rgb(254,196,79)',\n",
       "  'rgb(254,153,41)',\n",
       "  'rgb(236,112,20)',\n",
       "  'rgb(204,76,2)',\n",
       "  'rgb(153,52,4)',\n",
       "  'rgb(102,37,6)'],\n",
       " 'ylorrd': ['rgb(255,255,204)',\n",
       "  'rgb(255,237,160)',\n",
       "  'rgb(254,217,118)',\n",
       "  'rgb(254,178,76)',\n",
       "  'rgb(253,141,60)',\n",
       "  'rgb(252,78,42)',\n",
       "  'rgb(227,26,28)',\n",
       "  'rgb(189,0,38)',\n",
       "  'rgb(128,0,38)'],\n",
       " 'ggplot': ['rgb(226, 74, 51)',\n",
       "  'rgb(62, 111, 176)',\n",
       "  'rgb(132, 118, 202)',\n",
       "  'rgb(101, 101, 101)',\n",
       "  'rgb(251, 193, 94)',\n",
       "  'rgb(142, 186, 66)',\n",
       "  'rgb(255, 181, 184)'],\n",
       " 'polar': ['rgb(0, 128, 240)',\n",
       "  'rgb(238, 118, 0)',\n",
       "  'rgb(48, 144, 84)',\n",
       "  'rgb(98, 98, 222)',\n",
       "  'rgb(217, 66, 85)',\n",
       "  'rgb(173, 252, 252)',\n",
       "  'rgb(70, 160, 240)']}"
      ]
     },
     "metadata": {},
     "execution_count": 193
    }
   ],
   "source": [
    "cf.get_scales()"
   ]
  },
  {
   "cell_type": "code",
   "execution_count": 197,
   "metadata": {},
   "outputs": [
    {
     "output_type": "display_data",
     "data": {
      "application/vnd.plotly.v1+json": {
       "config": {
        "linkText": "Export to plot.ly",
        "plotlyServerURL": "https://plot.ly",
        "showLink": true
       },
       "data": [
        {
         "colorscale": [
          [
           0,
           "rgb(166,206,227)"
          ],
          [
           0.09090909090909091,
           "rgb(31,120,180)"
          ],
          [
           0.18181818181818182,
           "rgb(178,223,138)"
          ],
          [
           0.2727272727272727,
           "rgb(51,160,44)"
          ],
          [
           0.36363636363636365,
           "rgb(251,154,153)"
          ],
          [
           0.45454545454545453,
           "rgb(227,26,28)"
          ],
          [
           0.5454545454545454,
           "rgb(253,191,111)"
          ],
          [
           0.6363636363636364,
           "rgb(255,127,0)"
          ],
          [
           0.7272727272727273,
           "rgb(202,178,214)"
          ],
          [
           0.8181818181818182,
           "rgb(106,61,154)"
          ],
          [
           0.9090909090909091,
           "rgb(255,255,153)"
          ],
          [
           1,
           "rgb(177,89,40)"
          ]
         ],
         "type": "surface",
         "x": [
          0,
          1,
          2,
          3,
          4
         ],
         "y": [
          "x",
          "y",
          "z"
         ],
         "z": [
          [
           1,
           2,
           3,
           4,
           5
          ],
          [
           10,
           20,
           30,
           40,
           50
          ],
          [
           5,
           4,
           3,
           2,
           1
          ]
         ]
        }
       ],
       "layout": {
        "legend": {
         "bgcolor": "#1A1A1C",
         "font": {
          "color": "#D9D9D9"
         }
        },
        "paper_bgcolor": "#1A1A1C",
        "plot_bgcolor": "#1A1A1C",
        "template": {
         "data": {
          "bar": [
           {
            "error_x": {
             "color": "#2a3f5f"
            },
            "error_y": {
             "color": "#2a3f5f"
            },
            "marker": {
             "line": {
              "color": "#E5ECF6",
              "width": 0.5
             }
            },
            "type": "bar"
           }
          ],
          "barpolar": [
           {
            "marker": {
             "line": {
              "color": "#E5ECF6",
              "width": 0.5
             }
            },
            "type": "barpolar"
           }
          ],
          "carpet": [
           {
            "aaxis": {
             "endlinecolor": "#2a3f5f",
             "gridcolor": "white",
             "linecolor": "white",
             "minorgridcolor": "white",
             "startlinecolor": "#2a3f5f"
            },
            "baxis": {
             "endlinecolor": "#2a3f5f",
             "gridcolor": "white",
             "linecolor": "white",
             "minorgridcolor": "white",
             "startlinecolor": "#2a3f5f"
            },
            "type": "carpet"
           }
          ],
          "choropleth": [
           {
            "colorbar": {
             "outlinewidth": 0,
             "ticks": ""
            },
            "type": "choropleth"
           }
          ],
          "contour": [
           {
            "colorbar": {
             "outlinewidth": 0,
             "ticks": ""
            },
            "colorscale": [
             [
              0,
              "#0d0887"
             ],
             [
              0.1111111111111111,
              "#46039f"
             ],
             [
              0.2222222222222222,
              "#7201a8"
             ],
             [
              0.3333333333333333,
              "#9c179e"
             ],
             [
              0.4444444444444444,
              "#bd3786"
             ],
             [
              0.5555555555555556,
              "#d8576b"
             ],
             [
              0.6666666666666666,
              "#ed7953"
             ],
             [
              0.7777777777777778,
              "#fb9f3a"
             ],
             [
              0.8888888888888888,
              "#fdca26"
             ],
             [
              1,
              "#f0f921"
             ]
            ],
            "type": "contour"
           }
          ],
          "contourcarpet": [
           {
            "colorbar": {
             "outlinewidth": 0,
             "ticks": ""
            },
            "type": "contourcarpet"
           }
          ],
          "heatmap": [
           {
            "colorbar": {
             "outlinewidth": 0,
             "ticks": ""
            },
            "colorscale": [
             [
              0,
              "#0d0887"
             ],
             [
              0.1111111111111111,
              "#46039f"
             ],
             [
              0.2222222222222222,
              "#7201a8"
             ],
             [
              0.3333333333333333,
              "#9c179e"
             ],
             [
              0.4444444444444444,
              "#bd3786"
             ],
             [
              0.5555555555555556,
              "#d8576b"
             ],
             [
              0.6666666666666666,
              "#ed7953"
             ],
             [
              0.7777777777777778,
              "#fb9f3a"
             ],
             [
              0.8888888888888888,
              "#fdca26"
             ],
             [
              1,
              "#f0f921"
             ]
            ],
            "type": "heatmap"
           }
          ],
          "heatmapgl": [
           {
            "colorbar": {
             "outlinewidth": 0,
             "ticks": ""
            },
            "colorscale": [
             [
              0,
              "#0d0887"
             ],
             [
              0.1111111111111111,
              "#46039f"
             ],
             [
              0.2222222222222222,
              "#7201a8"
             ],
             [
              0.3333333333333333,
              "#9c179e"
             ],
             [
              0.4444444444444444,
              "#bd3786"
             ],
             [
              0.5555555555555556,
              "#d8576b"
             ],
             [
              0.6666666666666666,
              "#ed7953"
             ],
             [
              0.7777777777777778,
              "#fb9f3a"
             ],
             [
              0.8888888888888888,
              "#fdca26"
             ],
             [
              1,
              "#f0f921"
             ]
            ],
            "type": "heatmapgl"
           }
          ],
          "histogram": [
           {
            "marker": {
             "colorbar": {
              "outlinewidth": 0,
              "ticks": ""
             }
            },
            "type": "histogram"
           }
          ],
          "histogram2d": [
           {
            "colorbar": {
             "outlinewidth": 0,
             "ticks": ""
            },
            "colorscale": [
             [
              0,
              "#0d0887"
             ],
             [
              0.1111111111111111,
              "#46039f"
             ],
             [
              0.2222222222222222,
              "#7201a8"
             ],
             [
              0.3333333333333333,
              "#9c179e"
             ],
             [
              0.4444444444444444,
              "#bd3786"
             ],
             [
              0.5555555555555556,
              "#d8576b"
             ],
             [
              0.6666666666666666,
              "#ed7953"
             ],
             [
              0.7777777777777778,
              "#fb9f3a"
             ],
             [
              0.8888888888888888,
              "#fdca26"
             ],
             [
              1,
              "#f0f921"
             ]
            ],
            "type": "histogram2d"
           }
          ],
          "histogram2dcontour": [
           {
            "colorbar": {
             "outlinewidth": 0,
             "ticks": ""
            },
            "colorscale": [
             [
              0,
              "#0d0887"
             ],
             [
              0.1111111111111111,
              "#46039f"
             ],
             [
              0.2222222222222222,
              "#7201a8"
             ],
             [
              0.3333333333333333,
              "#9c179e"
             ],
             [
              0.4444444444444444,
              "#bd3786"
             ],
             [
              0.5555555555555556,
              "#d8576b"
             ],
             [
              0.6666666666666666,
              "#ed7953"
             ],
             [
              0.7777777777777778,
              "#fb9f3a"
             ],
             [
              0.8888888888888888,
              "#fdca26"
             ],
             [
              1,
              "#f0f921"
             ]
            ],
            "type": "histogram2dcontour"
           }
          ],
          "mesh3d": [
           {
            "colorbar": {
             "outlinewidth": 0,
             "ticks": ""
            },
            "type": "mesh3d"
           }
          ],
          "parcoords": [
           {
            "line": {
             "colorbar": {
              "outlinewidth": 0,
              "ticks": ""
             }
            },
            "type": "parcoords"
           }
          ],
          "pie": [
           {
            "automargin": true,
            "type": "pie"
           }
          ],
          "scatter": [
           {
            "marker": {
             "colorbar": {
              "outlinewidth": 0,
              "ticks": ""
             }
            },
            "type": "scatter"
           }
          ],
          "scatter3d": [
           {
            "line": {
             "colorbar": {
              "outlinewidth": 0,
              "ticks": ""
             }
            },
            "marker": {
             "colorbar": {
              "outlinewidth": 0,
              "ticks": ""
             }
            },
            "type": "scatter3d"
           }
          ],
          "scattercarpet": [
           {
            "marker": {
             "colorbar": {
              "outlinewidth": 0,
              "ticks": ""
             }
            },
            "type": "scattercarpet"
           }
          ],
          "scattergeo": [
           {
            "marker": {
             "colorbar": {
              "outlinewidth": 0,
              "ticks": ""
             }
            },
            "type": "scattergeo"
           }
          ],
          "scattergl": [
           {
            "marker": {
             "colorbar": {
              "outlinewidth": 0,
              "ticks": ""
             }
            },
            "type": "scattergl"
           }
          ],
          "scattermapbox": [
           {
            "marker": {
             "colorbar": {
              "outlinewidth": 0,
              "ticks": ""
             }
            },
            "type": "scattermapbox"
           }
          ],
          "scatterpolar": [
           {
            "marker": {
             "colorbar": {
              "outlinewidth": 0,
              "ticks": ""
             }
            },
            "type": "scatterpolar"
           }
          ],
          "scatterpolargl": [
           {
            "marker": {
             "colorbar": {
              "outlinewidth": 0,
              "ticks": ""
             }
            },
            "type": "scatterpolargl"
           }
          ],
          "scatterternary": [
           {
            "marker": {
             "colorbar": {
              "outlinewidth": 0,
              "ticks": ""
             }
            },
            "type": "scatterternary"
           }
          ],
          "surface": [
           {
            "colorbar": {
             "outlinewidth": 0,
             "ticks": ""
            },
            "colorscale": [
             [
              0,
              "#0d0887"
             ],
             [
              0.1111111111111111,
              "#46039f"
             ],
             [
              0.2222222222222222,
              "#7201a8"
             ],
             [
              0.3333333333333333,
              "#9c179e"
             ],
             [
              0.4444444444444444,
              "#bd3786"
             ],
             [
              0.5555555555555556,
              "#d8576b"
             ],
             [
              0.6666666666666666,
              "#ed7953"
             ],
             [
              0.7777777777777778,
              "#fb9f3a"
             ],
             [
              0.8888888888888888,
              "#fdca26"
             ],
             [
              1,
              "#f0f921"
             ]
            ],
            "type": "surface"
           }
          ],
          "table": [
           {
            "cells": {
             "fill": {
              "color": "#EBF0F8"
             },
             "line": {
              "color": "white"
             }
            },
            "header": {
             "fill": {
              "color": "#C8D4E3"
             },
             "line": {
              "color": "white"
             }
            },
            "type": "table"
           }
          ]
         },
         "layout": {
          "annotationdefaults": {
           "arrowcolor": "#2a3f5f",
           "arrowhead": 0,
           "arrowwidth": 1
          },
          "autotypenumbers": "strict",
          "coloraxis": {
           "colorbar": {
            "outlinewidth": 0,
            "ticks": ""
           }
          },
          "colorscale": {
           "diverging": [
            [
             0,
             "#8e0152"
            ],
            [
             0.1,
             "#c51b7d"
            ],
            [
             0.2,
             "#de77ae"
            ],
            [
             0.3,
             "#f1b6da"
            ],
            [
             0.4,
             "#fde0ef"
            ],
            [
             0.5,
             "#f7f7f7"
            ],
            [
             0.6,
             "#e6f5d0"
            ],
            [
             0.7,
             "#b8e186"
            ],
            [
             0.8,
             "#7fbc41"
            ],
            [
             0.9,
             "#4d9221"
            ],
            [
             1,
             "#276419"
            ]
           ],
           "sequential": [
            [
             0,
             "#0d0887"
            ],
            [
             0.1111111111111111,
             "#46039f"
            ],
            [
             0.2222222222222222,
             "#7201a8"
            ],
            [
             0.3333333333333333,
             "#9c179e"
            ],
            [
             0.4444444444444444,
             "#bd3786"
            ],
            [
             0.5555555555555556,
             "#d8576b"
            ],
            [
             0.6666666666666666,
             "#ed7953"
            ],
            [
             0.7777777777777778,
             "#fb9f3a"
            ],
            [
             0.8888888888888888,
             "#fdca26"
            ],
            [
             1,
             "#f0f921"
            ]
           ],
           "sequentialminus": [
            [
             0,
             "#0d0887"
            ],
            [
             0.1111111111111111,
             "#46039f"
            ],
            [
             0.2222222222222222,
             "#7201a8"
            ],
            [
             0.3333333333333333,
             "#9c179e"
            ],
            [
             0.4444444444444444,
             "#bd3786"
            ],
            [
             0.5555555555555556,
             "#d8576b"
            ],
            [
             0.6666666666666666,
             "#ed7953"
            ],
            [
             0.7777777777777778,
             "#fb9f3a"
            ],
            [
             0.8888888888888888,
             "#fdca26"
            ],
            [
             1,
             "#f0f921"
            ]
           ]
          },
          "colorway": [
           "#636efa",
           "#EF553B",
           "#00cc96",
           "#ab63fa",
           "#FFA15A",
           "#19d3f3",
           "#FF6692",
           "#B6E880",
           "#FF97FF",
           "#FECB52"
          ],
          "font": {
           "color": "#2a3f5f"
          },
          "geo": {
           "bgcolor": "white",
           "lakecolor": "white",
           "landcolor": "#E5ECF6",
           "showlakes": true,
           "showland": true,
           "subunitcolor": "white"
          },
          "hoverlabel": {
           "align": "left"
          },
          "hovermode": "closest",
          "mapbox": {
           "style": "light"
          },
          "paper_bgcolor": "white",
          "plot_bgcolor": "#E5ECF6",
          "polar": {
           "angularaxis": {
            "gridcolor": "white",
            "linecolor": "white",
            "ticks": ""
           },
           "bgcolor": "#E5ECF6",
           "radialaxis": {
            "gridcolor": "white",
            "linecolor": "white",
            "ticks": ""
           }
          },
          "scene": {
           "xaxis": {
            "backgroundcolor": "#E5ECF6",
            "gridcolor": "white",
            "gridwidth": 2,
            "linecolor": "white",
            "showbackground": true,
            "ticks": "",
            "zerolinecolor": "white"
           },
           "yaxis": {
            "backgroundcolor": "#E5ECF6",
            "gridcolor": "white",
            "gridwidth": 2,
            "linecolor": "white",
            "showbackground": true,
            "ticks": "",
            "zerolinecolor": "white"
           },
           "zaxis": {
            "backgroundcolor": "#E5ECF6",
            "gridcolor": "white",
            "gridwidth": 2,
            "linecolor": "white",
            "showbackground": true,
            "ticks": "",
            "zerolinecolor": "white"
           }
          },
          "shapedefaults": {
           "line": {
            "color": "#2a3f5f"
           }
          },
          "ternary": {
           "aaxis": {
            "gridcolor": "white",
            "linecolor": "white",
            "ticks": ""
           },
           "baxis": {
            "gridcolor": "white",
            "linecolor": "white",
            "ticks": ""
           },
           "bgcolor": "#E5ECF6",
           "caxis": {
            "gridcolor": "white",
            "linecolor": "white",
            "ticks": ""
           }
          },
          "title": {
           "x": 0.05
          },
          "xaxis": {
           "automargin": true,
           "gridcolor": "white",
           "linecolor": "white",
           "ticks": "",
           "title": {
            "standoff": 15
           },
           "zerolinecolor": "white",
           "zerolinewidth": 2
          },
          "yaxis": {
           "automargin": true,
           "gridcolor": "white",
           "linecolor": "white",
           "ticks": "",
           "title": {
            "standoff": 15
           },
           "zerolinecolor": "white",
           "zerolinewidth": 2
          }
         }
        },
        "title": {
         "font": {
          "color": "#D9D9D9"
         }
        },
        "xaxis": {
         "gridcolor": "#434343",
         "showgrid": true,
         "tickfont": {
          "color": "#C2C2C2"
         },
         "title": {
          "font": {
           "color": "#D9D9D9"
          },
          "text": ""
         },
         "zerolinecolor": "#666570"
        },
        "yaxis": {
         "gridcolor": "#434343",
         "showgrid": true,
         "tickfont": {
          "color": "#C2C2C2"
         },
         "title": {
          "font": {
           "color": "#D9D9D9"
          },
          "text": ""
         },
         "zerolinecolor": "#666570"
        }
       }
      },
      "text/html": "<div>                            <div id=\"b26a211b-e0f2-4c20-87ed-834787275b73\" class=\"plotly-graph-div\" style=\"height:525px; width:100%;\"></div>            <script type=\"text/javascript\">                require([\"plotly\"], function(Plotly) {                    window.PLOTLYENV=window.PLOTLYENV || {};\n                    window.PLOTLYENV.BASE_URL='https://plot.ly';                                    if (document.getElementById(\"b26a211b-e0f2-4c20-87ed-834787275b73\")) {                    Plotly.newPlot(                        \"b26a211b-e0f2-4c20-87ed-834787275b73\",                        [{\"colorscale\": [[0.0, \"rgb(166,206,227)\"], [0.09090909090909091, \"rgb(31,120,180)\"], [0.18181818181818182, \"rgb(178,223,138)\"], [0.2727272727272727, \"rgb(51,160,44)\"], [0.36363636363636365, \"rgb(251,154,153)\"], [0.45454545454545453, \"rgb(227,26,28)\"], [0.5454545454545454, \"rgb(253,191,111)\"], [0.6363636363636364, \"rgb(255,127,0)\"], [0.7272727272727273, \"rgb(202,178,214)\"], [0.8181818181818182, \"rgb(106,61,154)\"], [0.9090909090909091, \"rgb(255,255,153)\"], [1.0, \"rgb(177,89,40)\"]], \"type\": \"surface\", \"x\": [0, 1, 2, 3, 4], \"y\": [\"x\", \"y\", \"z\"], \"z\": [[1, 2, 3, 4, 5], [10, 20, 30, 40, 50], [5, 4, 3, 2, 1]]}],                        {\"legend\": {\"bgcolor\": \"#1A1A1C\", \"font\": {\"color\": \"#D9D9D9\"}}, \"paper_bgcolor\": \"#1A1A1C\", \"plot_bgcolor\": \"#1A1A1C\", \"template\": {\"data\": {\"bar\": [{\"error_x\": {\"color\": \"#2a3f5f\"}, \"error_y\": {\"color\": \"#2a3f5f\"}, \"marker\": {\"line\": {\"color\": \"#E5ECF6\", \"width\": 0.5}}, \"type\": \"bar\"}], \"barpolar\": [{\"marker\": {\"line\": {\"color\": \"#E5ECF6\", \"width\": 0.5}}, \"type\": \"barpolar\"}], \"carpet\": [{\"aaxis\": {\"endlinecolor\": \"#2a3f5f\", \"gridcolor\": \"white\", \"linecolor\": \"white\", \"minorgridcolor\": \"white\", \"startlinecolor\": \"#2a3f5f\"}, \"baxis\": {\"endlinecolor\": \"#2a3f5f\", \"gridcolor\": \"white\", \"linecolor\": \"white\", \"minorgridcolor\": \"white\", \"startlinecolor\": \"#2a3f5f\"}, \"type\": \"carpet\"}], \"choropleth\": [{\"colorbar\": {\"outlinewidth\": 0, \"ticks\": \"\"}, \"type\": \"choropleth\"}], \"contour\": [{\"colorbar\": {\"outlinewidth\": 0, \"ticks\": \"\"}, \"colorscale\": [[0.0, \"#0d0887\"], [0.1111111111111111, \"#46039f\"], [0.2222222222222222, \"#7201a8\"], [0.3333333333333333, \"#9c179e\"], [0.4444444444444444, \"#bd3786\"], [0.5555555555555556, \"#d8576b\"], [0.6666666666666666, \"#ed7953\"], [0.7777777777777778, \"#fb9f3a\"], [0.8888888888888888, \"#fdca26\"], [1.0, \"#f0f921\"]], \"type\": \"contour\"}], \"contourcarpet\": [{\"colorbar\": {\"outlinewidth\": 0, \"ticks\": \"\"}, \"type\": \"contourcarpet\"}], \"heatmap\": [{\"colorbar\": {\"outlinewidth\": 0, \"ticks\": \"\"}, \"colorscale\": [[0.0, \"#0d0887\"], [0.1111111111111111, \"#46039f\"], [0.2222222222222222, \"#7201a8\"], [0.3333333333333333, \"#9c179e\"], [0.4444444444444444, \"#bd3786\"], [0.5555555555555556, \"#d8576b\"], [0.6666666666666666, \"#ed7953\"], [0.7777777777777778, \"#fb9f3a\"], [0.8888888888888888, \"#fdca26\"], [1.0, \"#f0f921\"]], \"type\": \"heatmap\"}], \"heatmapgl\": [{\"colorbar\": {\"outlinewidth\": 0, \"ticks\": \"\"}, \"colorscale\": [[0.0, \"#0d0887\"], [0.1111111111111111, \"#46039f\"], [0.2222222222222222, \"#7201a8\"], [0.3333333333333333, \"#9c179e\"], [0.4444444444444444, \"#bd3786\"], [0.5555555555555556, \"#d8576b\"], [0.6666666666666666, \"#ed7953\"], [0.7777777777777778, \"#fb9f3a\"], [0.8888888888888888, \"#fdca26\"], [1.0, \"#f0f921\"]], \"type\": \"heatmapgl\"}], \"histogram\": [{\"marker\": {\"colorbar\": {\"outlinewidth\": 0, \"ticks\": \"\"}}, \"type\": \"histogram\"}], \"histogram2d\": [{\"colorbar\": {\"outlinewidth\": 0, \"ticks\": \"\"}, \"colorscale\": [[0.0, \"#0d0887\"], [0.1111111111111111, \"#46039f\"], [0.2222222222222222, \"#7201a8\"], [0.3333333333333333, \"#9c179e\"], [0.4444444444444444, \"#bd3786\"], [0.5555555555555556, \"#d8576b\"], [0.6666666666666666, \"#ed7953\"], [0.7777777777777778, \"#fb9f3a\"], [0.8888888888888888, \"#fdca26\"], [1.0, \"#f0f921\"]], \"type\": \"histogram2d\"}], \"histogram2dcontour\": [{\"colorbar\": {\"outlinewidth\": 0, \"ticks\": \"\"}, \"colorscale\": [[0.0, \"#0d0887\"], [0.1111111111111111, \"#46039f\"], [0.2222222222222222, \"#7201a8\"], [0.3333333333333333, \"#9c179e\"], [0.4444444444444444, \"#bd3786\"], [0.5555555555555556, \"#d8576b\"], [0.6666666666666666, \"#ed7953\"], [0.7777777777777778, \"#fb9f3a\"], [0.8888888888888888, \"#fdca26\"], [1.0, \"#f0f921\"]], \"type\": \"histogram2dcontour\"}], \"mesh3d\": [{\"colorbar\": {\"outlinewidth\": 0, \"ticks\": \"\"}, \"type\": \"mesh3d\"}], \"parcoords\": [{\"line\": {\"colorbar\": {\"outlinewidth\": 0, \"ticks\": \"\"}}, \"type\": \"parcoords\"}], \"pie\": [{\"automargin\": true, \"type\": \"pie\"}], \"scatter\": [{\"marker\": {\"colorbar\": {\"outlinewidth\": 0, \"ticks\": \"\"}}, \"type\": \"scatter\"}], \"scatter3d\": [{\"line\": {\"colorbar\": {\"outlinewidth\": 0, \"ticks\": \"\"}}, \"marker\": {\"colorbar\": {\"outlinewidth\": 0, \"ticks\": \"\"}}, \"type\": \"scatter3d\"}], \"scattercarpet\": [{\"marker\": {\"colorbar\": {\"outlinewidth\": 0, \"ticks\": \"\"}}, \"type\": \"scattercarpet\"}], \"scattergeo\": [{\"marker\": {\"colorbar\": {\"outlinewidth\": 0, \"ticks\": \"\"}}, \"type\": \"scattergeo\"}], \"scattergl\": [{\"marker\": {\"colorbar\": {\"outlinewidth\": 0, \"ticks\": \"\"}}, \"type\": \"scattergl\"}], \"scattermapbox\": [{\"marker\": {\"colorbar\": {\"outlinewidth\": 0, \"ticks\": \"\"}}, \"type\": \"scattermapbox\"}], \"scatterpolar\": [{\"marker\": {\"colorbar\": {\"outlinewidth\": 0, \"ticks\": \"\"}}, \"type\": \"scatterpolar\"}], \"scatterpolargl\": [{\"marker\": {\"colorbar\": {\"outlinewidth\": 0, \"ticks\": \"\"}}, \"type\": \"scatterpolargl\"}], \"scatterternary\": [{\"marker\": {\"colorbar\": {\"outlinewidth\": 0, \"ticks\": \"\"}}, \"type\": \"scatterternary\"}], \"surface\": [{\"colorbar\": {\"outlinewidth\": 0, \"ticks\": \"\"}, \"colorscale\": [[0.0, \"#0d0887\"], [0.1111111111111111, \"#46039f\"], [0.2222222222222222, \"#7201a8\"], [0.3333333333333333, \"#9c179e\"], [0.4444444444444444, \"#bd3786\"], [0.5555555555555556, \"#d8576b\"], [0.6666666666666666, \"#ed7953\"], [0.7777777777777778, \"#fb9f3a\"], [0.8888888888888888, \"#fdca26\"], [1.0, \"#f0f921\"]], \"type\": \"surface\"}], \"table\": [{\"cells\": {\"fill\": {\"color\": \"#EBF0F8\"}, \"line\": {\"color\": \"white\"}}, \"header\": {\"fill\": {\"color\": \"#C8D4E3\"}, \"line\": {\"color\": \"white\"}}, \"type\": \"table\"}]}, \"layout\": {\"annotationdefaults\": {\"arrowcolor\": \"#2a3f5f\", \"arrowhead\": 0, \"arrowwidth\": 1}, \"autotypenumbers\": \"strict\", \"coloraxis\": {\"colorbar\": {\"outlinewidth\": 0, \"ticks\": \"\"}}, \"colorscale\": {\"diverging\": [[0, \"#8e0152\"], [0.1, \"#c51b7d\"], [0.2, \"#de77ae\"], [0.3, \"#f1b6da\"], [0.4, \"#fde0ef\"], [0.5, \"#f7f7f7\"], [0.6, \"#e6f5d0\"], [0.7, \"#b8e186\"], [0.8, \"#7fbc41\"], [0.9, \"#4d9221\"], [1, \"#276419\"]], \"sequential\": [[0.0, \"#0d0887\"], [0.1111111111111111, \"#46039f\"], [0.2222222222222222, \"#7201a8\"], [0.3333333333333333, \"#9c179e\"], [0.4444444444444444, \"#bd3786\"], [0.5555555555555556, \"#d8576b\"], [0.6666666666666666, \"#ed7953\"], [0.7777777777777778, \"#fb9f3a\"], [0.8888888888888888, \"#fdca26\"], [1.0, \"#f0f921\"]], \"sequentialminus\": [[0.0, \"#0d0887\"], [0.1111111111111111, \"#46039f\"], [0.2222222222222222, \"#7201a8\"], [0.3333333333333333, \"#9c179e\"], [0.4444444444444444, \"#bd3786\"], [0.5555555555555556, \"#d8576b\"], [0.6666666666666666, \"#ed7953\"], [0.7777777777777778, \"#fb9f3a\"], [0.8888888888888888, \"#fdca26\"], [1.0, \"#f0f921\"]]}, \"colorway\": [\"#636efa\", \"#EF553B\", \"#00cc96\", \"#ab63fa\", \"#FFA15A\", \"#19d3f3\", \"#FF6692\", \"#B6E880\", \"#FF97FF\", \"#FECB52\"], \"font\": {\"color\": \"#2a3f5f\"}, \"geo\": {\"bgcolor\": \"white\", \"lakecolor\": \"white\", \"landcolor\": \"#E5ECF6\", \"showlakes\": true, \"showland\": true, \"subunitcolor\": \"white\"}, \"hoverlabel\": {\"align\": \"left\"}, \"hovermode\": \"closest\", \"mapbox\": {\"style\": \"light\"}, \"paper_bgcolor\": \"white\", \"plot_bgcolor\": \"#E5ECF6\", \"polar\": {\"angularaxis\": {\"gridcolor\": \"white\", \"linecolor\": \"white\", \"ticks\": \"\"}, \"bgcolor\": \"#E5ECF6\", \"radialaxis\": {\"gridcolor\": \"white\", \"linecolor\": \"white\", \"ticks\": \"\"}}, \"scene\": {\"xaxis\": {\"backgroundcolor\": \"#E5ECF6\", \"gridcolor\": \"white\", \"gridwidth\": 2, \"linecolor\": \"white\", \"showbackground\": true, \"ticks\": \"\", \"zerolinecolor\": \"white\"}, \"yaxis\": {\"backgroundcolor\": \"#E5ECF6\", \"gridcolor\": \"white\", \"gridwidth\": 2, \"linecolor\": \"white\", \"showbackground\": true, \"ticks\": \"\", \"zerolinecolor\": \"white\"}, \"zaxis\": {\"backgroundcolor\": \"#E5ECF6\", \"gridcolor\": \"white\", \"gridwidth\": 2, \"linecolor\": \"white\", \"showbackground\": true, \"ticks\": \"\", \"zerolinecolor\": \"white\"}}, \"shapedefaults\": {\"line\": {\"color\": \"#2a3f5f\"}}, \"ternary\": {\"aaxis\": {\"gridcolor\": \"white\", \"linecolor\": \"white\", \"ticks\": \"\"}, \"baxis\": {\"gridcolor\": \"white\", \"linecolor\": \"white\", \"ticks\": \"\"}, \"bgcolor\": \"#E5ECF6\", \"caxis\": {\"gridcolor\": \"white\", \"linecolor\": \"white\", \"ticks\": \"\"}}, \"title\": {\"x\": 0.05}, \"xaxis\": {\"automargin\": true, \"gridcolor\": \"white\", \"linecolor\": \"white\", \"ticks\": \"\", \"title\": {\"standoff\": 15}, \"zerolinecolor\": \"white\", \"zerolinewidth\": 2}, \"yaxis\": {\"automargin\": true, \"gridcolor\": \"white\", \"linecolor\": \"white\", \"ticks\": \"\", \"title\": {\"standoff\": 15}, \"zerolinecolor\": \"white\", \"zerolinewidth\": 2}}}, \"title\": {\"font\": {\"color\": \"#D9D9D9\"}}, \"xaxis\": {\"gridcolor\": \"#434343\", \"showgrid\": true, \"tickfont\": {\"color\": \"#C2C2C2\"}, \"title\": {\"font\": {\"color\": \"#D9D9D9\"}, \"text\": \"\"}, \"zerolinecolor\": \"#666570\"}, \"yaxis\": {\"gridcolor\": \"#434343\", \"showgrid\": true, \"tickfont\": {\"color\": \"#C2C2C2\"}, \"title\": {\"font\": {\"color\": \"#D9D9D9\"}, \"text\": \"\"}, \"zerolinecolor\": \"#666570\"}},                        {\"showLink\": true, \"linkText\": \"Export to plot.ly\", \"plotlyServerURL\": \"https://plot.ly\", \"responsive\": true}                    ).then(function(){\n                            \nvar gd = document.getElementById('b26a211b-e0f2-4c20-87ed-834787275b73');\nvar x = new MutationObserver(function (mutations, observer) {{\n        var display = window.getComputedStyle(gd).display;\n        if (!display || display === 'none') {{\n            console.log([gd, 'removed!']);\n            Plotly.purge(gd);\n            observer.disconnect();\n        }}\n}});\n\n// Listen for the removal of the full notebook cells\nvar notebookContainer = gd.closest('#notebook-container');\nif (notebookContainer) {{\n    x.observe(notebookContainer, {childList: true});\n}}\n\n// Listen for the clearing of the current output cell\nvar outputEl = gd.closest('.output');\nif (outputEl) {{\n    x.observe(outputEl, {childList: true});\n}}\n\n                        })                };                });            </script>        </div>"
     },
     "metadata": {}
    }
   ],
   "source": [
    "df3.iplot(kind='surface', theme='space', colorscale= 'paired')"
   ]
  },
  {
   "source": [
    "*6. Histogram*"
   ],
   "cell_type": "markdown",
   "metadata": {}
  },
  {
   "cell_type": "code",
   "execution_count": 218,
   "metadata": {},
   "outputs": [
    {
     "output_type": "display_data",
     "data": {
      "application/vnd.plotly.v1+json": {
       "config": {
        "linkText": "Export to plot.ly",
        "plotlyServerURL": "https://plot.ly",
        "showLink": true
       },
       "data": [
        {
         "histfunc": "count",
         "histnorm": "",
         "marker": {
          "color": "rgba(0, 128, 240, 1.0)",
          "line": {
           "color": "#D9D9D9",
           "width": 1.3
          }
         },
         "name": "A",
         "opacity": 0.8,
         "orientation": "v",
         "type": "histogram",
         "x": [
          -0.9792515936598923,
          0.9598050055042266,
          1.2879497854926978,
          -0.7580525281398575,
          0.7395394550550108,
          0.17019107169090317,
          -0.1293765011854134,
          0.4456954392361662,
          0.13772919772007583,
          -1.1475557380589023,
          0.7148856836266592,
          1.4579626985599747,
          0.8874119734406709,
          0.3072755156395645,
          2.0957456279779065,
          0.5899177376437668,
          1.0364047408183756,
          0.7388472871926347,
          0.17950427668644467,
          0.3680753376522049,
          0.1368695577373032,
          0.8159967349839087,
          -0.14844827589627468,
          0.9610220648185201,
          0.8403045958850671,
          0.1539828413327248,
          -0.22403721645926258,
          -0.9886846475465637,
          -0.041097672863380195,
          -0.20336539740261284,
          -0.8272592313380914,
          -0.7377644328272414,
          0.6228589278084802,
          1.0167861280965602,
          -2.2412581790082666,
          -0.18088089665349677,
          0.38747162796369533,
          -0.022976036922044408,
          -0.376997829574464,
          0.12116576151183464,
          0.004016022807814205,
          -1.8023654641354336,
          -0.8309213004133602,
          -0.37467942398393506,
          0.16749391300381028,
          2.157106901960888,
          0.26801897806054975,
          -0.12917654316980617,
          -1.1921864240944327,
          1.6144706272625435,
          0.44154651927524047,
          -1.5248455068331284,
          -1.379729809199886,
          -0.3071048272960799,
          0.11873027241721576,
          -0.18440988283347878,
          -1.5364079402765836,
          -1.7659951853905054,
          -1.1925247660678762,
          -0.3719050473318741,
          0.9116004418673352,
          -1.2893901771054779,
          0.3494224192856916,
          0.12384105919512163,
          -0.2853887638156255,
          -0.05477890823051662,
          -0.13339681427823635,
          0.002483580579456353,
          0.6483924643575026,
          -1.7744604454121766,
          0.051018691708484755,
          -0.20831087775659465,
          1.2036245135778298,
          0.37460006318208516,
          -0.007357554347866323,
          0.5125991262014535,
          0.0024173923945399363,
          -0.8563025126597791,
          -0.7617603492153533,
          -1.792629772347877,
          0.360765760598241,
          -0.7718682940507207,
          1.6886536550319722,
          1.194024448998109,
          -0.417875534770027,
          2.122611684514379,
          -0.20455142051435,
          -1.3193963771012482,
          -1.7879804873841585,
          0.4066145570917323,
          1.434386069614315,
          -0.5881888567526482,
          -1.2337031790890676,
          -0.7429661704558083,
          0.0566414277132115,
          -1.2378557179328697,
          -0.43038873430261276,
          -2.5320354376990766,
          0.7598237879841848,
          0.48412359488350337
         ]
        },
        {
         "histfunc": "count",
         "histnorm": "",
         "marker": {
          "color": "rgba(238, 118, 0, 1.0)",
          "line": {
           "color": "#D9D9D9",
           "width": 1.3
          }
         },
         "name": "B",
         "opacity": 0.8,
         "orientation": "v",
         "type": "histogram",
         "x": [
          -0.0033035822899469052,
          0.3142449677503647,
          -1.504523021926638,
          1.0044432988561958,
          -0.3786281864931309,
          1.6221183698918318,
          -0.6833666110514979,
          -0.09085898589503208,
          0.4183024142850112,
          0.1599510285795126,
          0.4983380417069129,
          -2.38735035273387,
          -0.17484722770594668,
          -0.7024036572296523,
          -0.2377817653329279,
          1.0463693206953972,
          -1.206970761077781,
          -0.27926473845743927,
          0.024497475622231084,
          0.07215395894711478,
          0.8060503759899023,
          -0.10523700135619246,
          0.4892495322097234,
          -1.6211612465614205,
          -0.9413730510682876,
          0.5618878755989775,
          1.148898697209982,
          -0.8603059741609684,
          -0.2545352736983566,
          0.3221749143716371,
          0.8184090970176358,
          0.603400860775381,
          0.29148084806096053,
          1.2197382793191827,
          -0.11597682125807925,
          -0.993512699913698,
          0.6287345083305073,
          -0.23713521257102554,
          -0.3097494760631051,
          -0.5890817405505082,
          -1.1603607004584577,
          0.9875973705562235,
          -0.063031992142952,
          0.5528356056102148,
          0.9943802775983782,
          1.5885704578261726,
          -0.9751179842350768,
          0.6218820952952601,
          -2.0323297593875838,
          -0.5484199829062123,
          -0.12137817399783384,
          -1.2309977016776752,
          -0.9313693797491154,
          0.2663840238711808,
          -1.6717292793656437,
          -0.4542443768926661,
          -0.2721841210031825,
          -2.536542463070985,
          0.4847118496688762,
          -2.1214691330865127,
          -1.1620826355082072,
          -0.048986563425723995,
          -1.2645433415566478,
          1.9997478527752839,
          1.166476246332891,
          -3.103425838335752,
          -1.4438539094973724,
          1.5718043608392394,
          -0.7335294160030932,
          -1.197965786647293,
          1.0722513065522665,
          -0.7826362934224473,
          -0.49820503134543775,
          1.5716627803037155,
          -0.005317290143883737,
          -0.3593653166820716,
          1.5597095911561978,
          1.0503815987596175,
          0.3441039774821109,
          -0.04974121712467084,
          0.008170229384752613,
          -0.9709058136802701,
          2.417034408248457,
          -1.2124867561742774,
          0.6046417869674267,
          -0.3585076795507522,
          0.06705171160120478,
          1.4546189083140886,
          -0.42913586866418607,
          -0.707992549805246,
          -2.096983049597022,
          0.038373856459275275,
          0.6579882416462015,
          2.2386147056613295,
          -0.6608003396245523,
          -0.9953483586408077,
          0.43580220111517376,
          -0.5404418613480602,
          3.3467118532442397,
          0.34927520878526047
         ]
        },
        {
         "histfunc": "count",
         "histnorm": "",
         "marker": {
          "color": "rgba(48, 144, 84, 1.0)",
          "line": {
           "color": "#D9D9D9",
           "width": 1.3
          }
         },
         "name": "C",
         "opacity": 0.8,
         "orientation": "v",
         "type": "histogram",
         "x": [
          -1.029169055522879,
          -0.6255978007913707,
          1.0417982196879223,
          2.2449486385713384,
          -0.6795945775053402,
          0.14631255858470052,
          0.3731668746960911,
          0.4124420330489584,
          1.5113484075983132,
          0.5920468325658576,
          0.2793855445424416,
          -0.29619014153343065,
          2.3727187380412276,
          -0.6841365657268245,
          0.49440394600584864,
          0.6388836557479353,
          0.21519353566892171,
          0.08067736888339132,
          1.355625354020415,
          -0.348654489687168,
          -0.4947196965310076,
          -0.3582819911117431,
          0.8482378687717445,
          -0.7550696581956536,
          0.09628928497248218,
          0.3694001280085396,
          1.7522158422386362,
          0.24728003851561672,
          1.4320945076126141,
          0.38078115390777206,
          0.49485054834994746,
          0.10834747534480808,
          0.40440051019822765,
          0.46318804403090136,
          0.8498937327069608,
          0.30823700591443287,
          -0.16957495168143608,
          1.4656183402677774,
          -0.2756627766669359,
          -1.558366156240104,
          -1.44390954708868,
          -0.5051680953931286,
          0.27620048996716984,
          -1.8343779836571938,
          -0.32566386109769674,
          -0.5377091427902171,
          -0.8793316602002474,
          -0.13730101188128274,
          0.4739117707913685,
          1.9456675653065694,
          -0.34549575735322996,
          0.9720333799605246,
          -0.26228104507380334,
          -0.5714395653881361,
          0.14502575276461074,
          -1.8641784872791407,
          0.8869491501534156,
          1.5217251811022767,
          1.3921339746257404,
          1.1907950182465863,
          -1.3679269183388134,
          -0.42830897316735944,
          0.16752652136906077,
          -0.822993733943916,
          0.032639710581331624,
          -1.7353173585494512,
          1.3006424924535107,
          -2.658447080801197,
          -0.7260667522978758,
          -1.346559369571314,
          1.2100767873230984,
          0.14199042718703583,
          1.3810124437891032,
          0.17475647805393424,
          -0.7973890264270153,
          0.5809185216045772,
          -0.3885903405071358,
          0.10406688806814304,
          1.370396070389675,
          -0.23398496826648119,
          -0.29001376284099223,
          -0.28707110106581923,
          0.25979132952928025,
          -0.1617035485251935,
          -0.6720898907014572,
          0.7962255499025633,
          -0.6948156806562187,
          0.9390569733955219,
          1.8104513153386503,
          0.5111732025237625,
          -0.7447934329773587,
          -0.36545521090245675,
          0.12658057977115625,
          -1.1224377540795116,
          0.23315136938347406,
          -0.3592208292662069,
          -0.3149408561046429,
          0.7604586976536822,
          0.8599817036861749,
          -2.121030951423784
         ]
        },
        {
         "histfunc": "count",
         "histnorm": "",
         "marker": {
          "color": "rgba(98, 98, 222, 1.0)",
          "line": {
           "color": "#D9D9D9",
           "width": 1.3
          }
         },
         "name": "D",
         "opacity": 0.8,
         "orientation": "v",
         "type": "histogram",
         "x": [
          -0.46308053517921177,
          -0.22893297382440694,
          0.28152771977670005,
          0.841148244630791,
          0.09335388118504882,
          0.09404129945671476,
          -0.27604509647678394,
          -1.4149534857065915,
          0.6303783847458049,
          1.0140454768881473,
          0.6247341776241347,
          0.3462567203067475,
          0.06618476657523857,
          0.22304990357635202,
          -0.7104729965870029,
          -0.36754819414362006,
          0.7527370093648587,
          0.4243521358588527,
          -0.313879559965402,
          0.44453194663906453,
          -1.2215088401885823,
          0.5313535901603273,
          -1.136436468522623,
          -0.33583843750714953,
          0.695915250472006,
          -2.035088399463051,
          2.007662253559875,
          0.3019128256963567,
          -0.18113684687278164,
          1.8911687280243084,
          0.7572630803852446,
          -0.43219425771863185,
          0.2682190866781442,
          0.9638038961270988,
          0.38196860184494996,
          -0.904240690441337,
          0.9257726882611239,
          -3.089622695862602,
          0.022160723350371093,
          0.15890271523422386,
          1.2072376116298225,
          0.036906673259497653,
          1.9325182083788126,
          -2.65838624213967,
          1.33374362812293,
          -0.3002915926433879,
          -2.3339029672320337,
          0.4283179292567376,
          0.3920197131247837,
          1.0578439219875122,
          -1.2286183490049214,
          -0.42118880033063083,
          0.18221735978592854,
          0.7783483420916925,
          -1.1631454183180807,
          0.3409532835134661,
          -0.175860025671226,
          2.600067786231678,
          0.1424405264085281,
          0.6378341507289481,
          -0.7911396934565847,
          0.2970410528515773,
          -0.36757856712825604,
          0.001891577602284555,
          -0.9533757506556024,
          -1.5265124105099575,
          0.14141110796393855,
          3.6126504926656198,
          -0.4083508444949703,
          -1.3866183439117674,
          0.6146431833929709,
          -1.1797204483467447,
          -0.17626909828622517,
          -0.8315102988033132,
          -1.0629729405783421,
          0.6165434831247598,
          2.4710912898514956,
          -0.5136104215624592,
          -1.2833494881724943,
          -0.19740622984239123,
          -0.28292641821742964,
          -0.17332004636855022,
          -0.8472778358004164,
          -1.5638430808706032,
          -0.12651593497479413,
          0.5196255513517741,
          1.6550631354033751,
          -0.4268727901892978,
          1.0780805010140389,
          1.394028416980079,
          -0.27892950008419176,
          -0.42372865324865777,
          -0.0035800875407494483,
          -0.3109767884032559,
          -0.6928666677078057,
          -0.96026887219562,
          -0.17067052996934515,
          -0.8291957027802563,
          -1.872451022659089,
          0.4529640052721673
         ]
        }
       ],
       "layout": {
        "barmode": "overlay",
        "legend": {
         "bgcolor": "#1A1A1C",
         "font": {
          "color": "#D9D9D9"
         }
        },
        "paper_bgcolor": "#1A1A1C",
        "plot_bgcolor": "#1A1A1C",
        "template": {
         "data": {
          "bar": [
           {
            "error_x": {
             "color": "#2a3f5f"
            },
            "error_y": {
             "color": "#2a3f5f"
            },
            "marker": {
             "line": {
              "color": "#E5ECF6",
              "width": 0.5
             }
            },
            "type": "bar"
           }
          ],
          "barpolar": [
           {
            "marker": {
             "line": {
              "color": "#E5ECF6",
              "width": 0.5
             }
            },
            "type": "barpolar"
           }
          ],
          "carpet": [
           {
            "aaxis": {
             "endlinecolor": "#2a3f5f",
             "gridcolor": "white",
             "linecolor": "white",
             "minorgridcolor": "white",
             "startlinecolor": "#2a3f5f"
            },
            "baxis": {
             "endlinecolor": "#2a3f5f",
             "gridcolor": "white",
             "linecolor": "white",
             "minorgridcolor": "white",
             "startlinecolor": "#2a3f5f"
            },
            "type": "carpet"
           }
          ],
          "choropleth": [
           {
            "colorbar": {
             "outlinewidth": 0,
             "ticks": ""
            },
            "type": "choropleth"
           }
          ],
          "contour": [
           {
            "colorbar": {
             "outlinewidth": 0,
             "ticks": ""
            },
            "colorscale": [
             [
              0,
              "#0d0887"
             ],
             [
              0.1111111111111111,
              "#46039f"
             ],
             [
              0.2222222222222222,
              "#7201a8"
             ],
             [
              0.3333333333333333,
              "#9c179e"
             ],
             [
              0.4444444444444444,
              "#bd3786"
             ],
             [
              0.5555555555555556,
              "#d8576b"
             ],
             [
              0.6666666666666666,
              "#ed7953"
             ],
             [
              0.7777777777777778,
              "#fb9f3a"
             ],
             [
              0.8888888888888888,
              "#fdca26"
             ],
             [
              1,
              "#f0f921"
             ]
            ],
            "type": "contour"
           }
          ],
          "contourcarpet": [
           {
            "colorbar": {
             "outlinewidth": 0,
             "ticks": ""
            },
            "type": "contourcarpet"
           }
          ],
          "heatmap": [
           {
            "colorbar": {
             "outlinewidth": 0,
             "ticks": ""
            },
            "colorscale": [
             [
              0,
              "#0d0887"
             ],
             [
              0.1111111111111111,
              "#46039f"
             ],
             [
              0.2222222222222222,
              "#7201a8"
             ],
             [
              0.3333333333333333,
              "#9c179e"
             ],
             [
              0.4444444444444444,
              "#bd3786"
             ],
             [
              0.5555555555555556,
              "#d8576b"
             ],
             [
              0.6666666666666666,
              "#ed7953"
             ],
             [
              0.7777777777777778,
              "#fb9f3a"
             ],
             [
              0.8888888888888888,
              "#fdca26"
             ],
             [
              1,
              "#f0f921"
             ]
            ],
            "type": "heatmap"
           }
          ],
          "heatmapgl": [
           {
            "colorbar": {
             "outlinewidth": 0,
             "ticks": ""
            },
            "colorscale": [
             [
              0,
              "#0d0887"
             ],
             [
              0.1111111111111111,
              "#46039f"
             ],
             [
              0.2222222222222222,
              "#7201a8"
             ],
             [
              0.3333333333333333,
              "#9c179e"
             ],
             [
              0.4444444444444444,
              "#bd3786"
             ],
             [
              0.5555555555555556,
              "#d8576b"
             ],
             [
              0.6666666666666666,
              "#ed7953"
             ],
             [
              0.7777777777777778,
              "#fb9f3a"
             ],
             [
              0.8888888888888888,
              "#fdca26"
             ],
             [
              1,
              "#f0f921"
             ]
            ],
            "type": "heatmapgl"
           }
          ],
          "histogram": [
           {
            "marker": {
             "colorbar": {
              "outlinewidth": 0,
              "ticks": ""
             }
            },
            "type": "histogram"
           }
          ],
          "histogram2d": [
           {
            "colorbar": {
             "outlinewidth": 0,
             "ticks": ""
            },
            "colorscale": [
             [
              0,
              "#0d0887"
             ],
             [
              0.1111111111111111,
              "#46039f"
             ],
             [
              0.2222222222222222,
              "#7201a8"
             ],
             [
              0.3333333333333333,
              "#9c179e"
             ],
             [
              0.4444444444444444,
              "#bd3786"
             ],
             [
              0.5555555555555556,
              "#d8576b"
             ],
             [
              0.6666666666666666,
              "#ed7953"
             ],
             [
              0.7777777777777778,
              "#fb9f3a"
             ],
             [
              0.8888888888888888,
              "#fdca26"
             ],
             [
              1,
              "#f0f921"
             ]
            ],
            "type": "histogram2d"
           }
          ],
          "histogram2dcontour": [
           {
            "colorbar": {
             "outlinewidth": 0,
             "ticks": ""
            },
            "colorscale": [
             [
              0,
              "#0d0887"
             ],
             [
              0.1111111111111111,
              "#46039f"
             ],
             [
              0.2222222222222222,
              "#7201a8"
             ],
             [
              0.3333333333333333,
              "#9c179e"
             ],
             [
              0.4444444444444444,
              "#bd3786"
             ],
             [
              0.5555555555555556,
              "#d8576b"
             ],
             [
              0.6666666666666666,
              "#ed7953"
             ],
             [
              0.7777777777777778,
              "#fb9f3a"
             ],
             [
              0.8888888888888888,
              "#fdca26"
             ],
             [
              1,
              "#f0f921"
             ]
            ],
            "type": "histogram2dcontour"
           }
          ],
          "mesh3d": [
           {
            "colorbar": {
             "outlinewidth": 0,
             "ticks": ""
            },
            "type": "mesh3d"
           }
          ],
          "parcoords": [
           {
            "line": {
             "colorbar": {
              "outlinewidth": 0,
              "ticks": ""
             }
            },
            "type": "parcoords"
           }
          ],
          "pie": [
           {
            "automargin": true,
            "type": "pie"
           }
          ],
          "scatter": [
           {
            "marker": {
             "colorbar": {
              "outlinewidth": 0,
              "ticks": ""
             }
            },
            "type": "scatter"
           }
          ],
          "scatter3d": [
           {
            "line": {
             "colorbar": {
              "outlinewidth": 0,
              "ticks": ""
             }
            },
            "marker": {
             "colorbar": {
              "outlinewidth": 0,
              "ticks": ""
             }
            },
            "type": "scatter3d"
           }
          ],
          "scattercarpet": [
           {
            "marker": {
             "colorbar": {
              "outlinewidth": 0,
              "ticks": ""
             }
            },
            "type": "scattercarpet"
           }
          ],
          "scattergeo": [
           {
            "marker": {
             "colorbar": {
              "outlinewidth": 0,
              "ticks": ""
             }
            },
            "type": "scattergeo"
           }
          ],
          "scattergl": [
           {
            "marker": {
             "colorbar": {
              "outlinewidth": 0,
              "ticks": ""
             }
            },
            "type": "scattergl"
           }
          ],
          "scattermapbox": [
           {
            "marker": {
             "colorbar": {
              "outlinewidth": 0,
              "ticks": ""
             }
            },
            "type": "scattermapbox"
           }
          ],
          "scatterpolar": [
           {
            "marker": {
             "colorbar": {
              "outlinewidth": 0,
              "ticks": ""
             }
            },
            "type": "scatterpolar"
           }
          ],
          "scatterpolargl": [
           {
            "marker": {
             "colorbar": {
              "outlinewidth": 0,
              "ticks": ""
             }
            },
            "type": "scatterpolargl"
           }
          ],
          "scatterternary": [
           {
            "marker": {
             "colorbar": {
              "outlinewidth": 0,
              "ticks": ""
             }
            },
            "type": "scatterternary"
           }
          ],
          "surface": [
           {
            "colorbar": {
             "outlinewidth": 0,
             "ticks": ""
            },
            "colorscale": [
             [
              0,
              "#0d0887"
             ],
             [
              0.1111111111111111,
              "#46039f"
             ],
             [
              0.2222222222222222,
              "#7201a8"
             ],
             [
              0.3333333333333333,
              "#9c179e"
             ],
             [
              0.4444444444444444,
              "#bd3786"
             ],
             [
              0.5555555555555556,
              "#d8576b"
             ],
             [
              0.6666666666666666,
              "#ed7953"
             ],
             [
              0.7777777777777778,
              "#fb9f3a"
             ],
             [
              0.8888888888888888,
              "#fdca26"
             ],
             [
              1,
              "#f0f921"
             ]
            ],
            "type": "surface"
           }
          ],
          "table": [
           {
            "cells": {
             "fill": {
              "color": "#EBF0F8"
             },
             "line": {
              "color": "white"
             }
            },
            "header": {
             "fill": {
              "color": "#C8D4E3"
             },
             "line": {
              "color": "white"
             }
            },
            "type": "table"
           }
          ]
         },
         "layout": {
          "annotationdefaults": {
           "arrowcolor": "#2a3f5f",
           "arrowhead": 0,
           "arrowwidth": 1
          },
          "autotypenumbers": "strict",
          "coloraxis": {
           "colorbar": {
            "outlinewidth": 0,
            "ticks": ""
           }
          },
          "colorscale": {
           "diverging": [
            [
             0,
             "#8e0152"
            ],
            [
             0.1,
             "#c51b7d"
            ],
            [
             0.2,
             "#de77ae"
            ],
            [
             0.3,
             "#f1b6da"
            ],
            [
             0.4,
             "#fde0ef"
            ],
            [
             0.5,
             "#f7f7f7"
            ],
            [
             0.6,
             "#e6f5d0"
            ],
            [
             0.7,
             "#b8e186"
            ],
            [
             0.8,
             "#7fbc41"
            ],
            [
             0.9,
             "#4d9221"
            ],
            [
             1,
             "#276419"
            ]
           ],
           "sequential": [
            [
             0,
             "#0d0887"
            ],
            [
             0.1111111111111111,
             "#46039f"
            ],
            [
             0.2222222222222222,
             "#7201a8"
            ],
            [
             0.3333333333333333,
             "#9c179e"
            ],
            [
             0.4444444444444444,
             "#bd3786"
            ],
            [
             0.5555555555555556,
             "#d8576b"
            ],
            [
             0.6666666666666666,
             "#ed7953"
            ],
            [
             0.7777777777777778,
             "#fb9f3a"
            ],
            [
             0.8888888888888888,
             "#fdca26"
            ],
            [
             1,
             "#f0f921"
            ]
           ],
           "sequentialminus": [
            [
             0,
             "#0d0887"
            ],
            [
             0.1111111111111111,
             "#46039f"
            ],
            [
             0.2222222222222222,
             "#7201a8"
            ],
            [
             0.3333333333333333,
             "#9c179e"
            ],
            [
             0.4444444444444444,
             "#bd3786"
            ],
            [
             0.5555555555555556,
             "#d8576b"
            ],
            [
             0.6666666666666666,
             "#ed7953"
            ],
            [
             0.7777777777777778,
             "#fb9f3a"
            ],
            [
             0.8888888888888888,
             "#fdca26"
            ],
            [
             1,
             "#f0f921"
            ]
           ]
          },
          "colorway": [
           "#636efa",
           "#EF553B",
           "#00cc96",
           "#ab63fa",
           "#FFA15A",
           "#19d3f3",
           "#FF6692",
           "#B6E880",
           "#FF97FF",
           "#FECB52"
          ],
          "font": {
           "color": "#2a3f5f"
          },
          "geo": {
           "bgcolor": "white",
           "lakecolor": "white",
           "landcolor": "#E5ECF6",
           "showlakes": true,
           "showland": true,
           "subunitcolor": "white"
          },
          "hoverlabel": {
           "align": "left"
          },
          "hovermode": "closest",
          "mapbox": {
           "style": "light"
          },
          "paper_bgcolor": "white",
          "plot_bgcolor": "#E5ECF6",
          "polar": {
           "angularaxis": {
            "gridcolor": "white",
            "linecolor": "white",
            "ticks": ""
           },
           "bgcolor": "#E5ECF6",
           "radialaxis": {
            "gridcolor": "white",
            "linecolor": "white",
            "ticks": ""
           }
          },
          "scene": {
           "xaxis": {
            "backgroundcolor": "#E5ECF6",
            "gridcolor": "white",
            "gridwidth": 2,
            "linecolor": "white",
            "showbackground": true,
            "ticks": "",
            "zerolinecolor": "white"
           },
           "yaxis": {
            "backgroundcolor": "#E5ECF6",
            "gridcolor": "white",
            "gridwidth": 2,
            "linecolor": "white",
            "showbackground": true,
            "ticks": "",
            "zerolinecolor": "white"
           },
           "zaxis": {
            "backgroundcolor": "#E5ECF6",
            "gridcolor": "white",
            "gridwidth": 2,
            "linecolor": "white",
            "showbackground": true,
            "ticks": "",
            "zerolinecolor": "white"
           }
          },
          "shapedefaults": {
           "line": {
            "color": "#2a3f5f"
           }
          },
          "ternary": {
           "aaxis": {
            "gridcolor": "white",
            "linecolor": "white",
            "ticks": ""
           },
           "baxis": {
            "gridcolor": "white",
            "linecolor": "white",
            "ticks": ""
           },
           "bgcolor": "#E5ECF6",
           "caxis": {
            "gridcolor": "white",
            "linecolor": "white",
            "ticks": ""
           }
          },
          "title": {
           "x": 0.05
          },
          "xaxis": {
           "automargin": true,
           "gridcolor": "white",
           "linecolor": "white",
           "ticks": "",
           "title": {
            "standoff": 15
           },
           "zerolinecolor": "white",
           "zerolinewidth": 2
          },
          "yaxis": {
           "automargin": true,
           "gridcolor": "white",
           "linecolor": "white",
           "ticks": "",
           "title": {
            "standoff": 15
           },
           "zerolinecolor": "white",
           "zerolinewidth": 2
          }
         }
        },
        "title": {
         "font": {
          "color": "#D9D9D9"
         },
         "text": "HISTOGRAM"
        },
        "xaxis": {
         "gridcolor": "grey",
         "showgrid": true,
         "tickfont": {
          "color": "#C2C2C2"
         },
         "title": {
          "font": {
           "color": "#D9D9D9"
          },
          "text": "Values------>"
         },
         "zerolinecolor": "#666570"
        },
        "yaxis": {
         "gridcolor": "grey",
         "showgrid": true,
         "tickfont": {
          "color": "#C2C2C2"
         },
         "title": {
          "font": {
           "color": "#D9D9D9"
          },
          "text": "Count------->"
         },
         "zerolinecolor": "#666570"
        }
       }
      },
      "text/html": "<div>                            <div id=\"a954f7dc-d207-40fc-a905-ff4ab524eb70\" class=\"plotly-graph-div\" style=\"height:525px; width:100%;\"></div>            <script type=\"text/javascript\">                require([\"plotly\"], function(Plotly) {                    window.PLOTLYENV=window.PLOTLYENV || {};\n                    window.PLOTLYENV.BASE_URL='https://plot.ly';                                    if (document.getElementById(\"a954f7dc-d207-40fc-a905-ff4ab524eb70\")) {                    Plotly.newPlot(                        \"a954f7dc-d207-40fc-a905-ff4ab524eb70\",                        [{\"histfunc\": \"count\", \"histnorm\": \"\", \"marker\": {\"color\": \"rgba(0, 128, 240, 1.0)\", \"line\": {\"color\": \"#D9D9D9\", \"width\": 1.3}}, \"name\": \"A\", \"opacity\": 0.8, \"orientation\": \"v\", \"type\": \"histogram\", \"x\": [-0.9792515936598923, 0.9598050055042266, 1.2879497854926978, -0.7580525281398575, 0.7395394550550108, 0.17019107169090317, -0.1293765011854134, 0.4456954392361662, 0.13772919772007583, -1.1475557380589023, 0.7148856836266592, 1.4579626985599747, 0.8874119734406709, 0.3072755156395645, 2.0957456279779065, 0.5899177376437668, 1.0364047408183756, 0.7388472871926347, 0.17950427668644467, 0.3680753376522049, 0.1368695577373032, 0.8159967349839087, -0.14844827589627468, 0.9610220648185201, 0.8403045958850671, 0.1539828413327248, -0.22403721645926258, -0.9886846475465637, -0.041097672863380195, -0.20336539740261284, -0.8272592313380914, -0.7377644328272414, 0.6228589278084802, 1.0167861280965602, -2.2412581790082666, -0.18088089665349677, 0.38747162796369533, -0.022976036922044408, -0.376997829574464, 0.12116576151183464, 0.004016022807814205, -1.8023654641354336, -0.8309213004133602, -0.37467942398393506, 0.16749391300381028, 2.157106901960888, 0.26801897806054975, -0.12917654316980617, -1.1921864240944327, 1.6144706272625435, 0.44154651927524047, -1.5248455068331284, -1.379729809199886, -0.3071048272960799, 0.11873027241721576, -0.18440988283347878, -1.5364079402765836, -1.7659951853905054, -1.1925247660678762, -0.3719050473318741, 0.9116004418673352, -1.2893901771054779, 0.3494224192856916, 0.12384105919512163, -0.2853887638156255, -0.05477890823051662, -0.13339681427823635, 0.002483580579456353, 0.6483924643575026, -1.7744604454121766, 0.051018691708484755, -0.20831087775659465, 1.2036245135778298, 0.37460006318208516, -0.007357554347866323, 0.5125991262014535, 0.0024173923945399363, -0.8563025126597791, -0.7617603492153533, -1.792629772347877, 0.360765760598241, -0.7718682940507207, 1.6886536550319722, 1.194024448998109, -0.417875534770027, 2.122611684514379, -0.20455142051435, -1.3193963771012482, -1.7879804873841585, 0.4066145570917323, 1.434386069614315, -0.5881888567526482, -1.2337031790890676, -0.7429661704558083, 0.0566414277132115, -1.2378557179328697, -0.43038873430261276, -2.5320354376990766, 0.7598237879841848, 0.48412359488350337]}, {\"histfunc\": \"count\", \"histnorm\": \"\", \"marker\": {\"color\": \"rgba(238, 118, 0, 1.0)\", \"line\": {\"color\": \"#D9D9D9\", \"width\": 1.3}}, \"name\": \"B\", \"opacity\": 0.8, \"orientation\": \"v\", \"type\": \"histogram\", \"x\": [-0.0033035822899469052, 0.3142449677503647, -1.504523021926638, 1.0044432988561958, -0.3786281864931309, 1.6221183698918318, -0.6833666110514979, -0.09085898589503208, 0.4183024142850112, 0.1599510285795126, 0.4983380417069129, -2.38735035273387, -0.17484722770594668, -0.7024036572296523, -0.2377817653329279, 1.0463693206953972, -1.206970761077781, -0.27926473845743927, 0.024497475622231084, 0.07215395894711478, 0.8060503759899023, -0.10523700135619246, 0.4892495322097234, -1.6211612465614205, -0.9413730510682876, 0.5618878755989775, 1.148898697209982, -0.8603059741609684, -0.2545352736983566, 0.3221749143716371, 0.8184090970176358, 0.603400860775381, 0.29148084806096053, 1.2197382793191827, -0.11597682125807925, -0.993512699913698, 0.6287345083305073, -0.23713521257102554, -0.3097494760631051, -0.5890817405505082, -1.1603607004584577, 0.9875973705562235, -0.063031992142952, 0.5528356056102148, 0.9943802775983782, 1.5885704578261726, -0.9751179842350768, 0.6218820952952601, -2.0323297593875838, -0.5484199829062123, -0.12137817399783384, -1.2309977016776752, -0.9313693797491154, 0.2663840238711808, -1.6717292793656437, -0.4542443768926661, -0.2721841210031825, -2.536542463070985, 0.4847118496688762, -2.1214691330865127, -1.1620826355082072, -0.048986563425723995, -1.2645433415566478, 1.9997478527752839, 1.166476246332891, -3.103425838335752, -1.4438539094973724, 1.5718043608392394, -0.7335294160030932, -1.197965786647293, 1.0722513065522665, -0.7826362934224473, -0.49820503134543775, 1.5716627803037155, -0.005317290143883737, -0.3593653166820716, 1.5597095911561978, 1.0503815987596175, 0.3441039774821109, -0.04974121712467084, 0.008170229384752613, -0.9709058136802701, 2.417034408248457, -1.2124867561742774, 0.6046417869674267, -0.3585076795507522, 0.06705171160120478, 1.4546189083140886, -0.42913586866418607, -0.707992549805246, -2.096983049597022, 0.038373856459275275, 0.6579882416462015, 2.2386147056613295, -0.6608003396245523, -0.9953483586408077, 0.43580220111517376, -0.5404418613480602, 3.3467118532442397, 0.34927520878526047]}, {\"histfunc\": \"count\", \"histnorm\": \"\", \"marker\": {\"color\": \"rgba(48, 144, 84, 1.0)\", \"line\": {\"color\": \"#D9D9D9\", \"width\": 1.3}}, \"name\": \"C\", \"opacity\": 0.8, \"orientation\": \"v\", \"type\": \"histogram\", \"x\": [-1.029169055522879, -0.6255978007913707, 1.0417982196879223, 2.2449486385713384, -0.6795945775053402, 0.14631255858470052, 0.3731668746960911, 0.4124420330489584, 1.5113484075983132, 0.5920468325658576, 0.2793855445424416, -0.29619014153343065, 2.3727187380412276, -0.6841365657268245, 0.49440394600584864, 0.6388836557479353, 0.21519353566892171, 0.08067736888339132, 1.355625354020415, -0.348654489687168, -0.4947196965310076, -0.3582819911117431, 0.8482378687717445, -0.7550696581956536, 0.09628928497248218, 0.3694001280085396, 1.7522158422386362, 0.24728003851561672, 1.4320945076126141, 0.38078115390777206, 0.49485054834994746, 0.10834747534480808, 0.40440051019822765, 0.46318804403090136, 0.8498937327069608, 0.30823700591443287, -0.16957495168143608, 1.4656183402677774, -0.2756627766669359, -1.558366156240104, -1.44390954708868, -0.5051680953931286, 0.27620048996716984, -1.8343779836571938, -0.32566386109769674, -0.5377091427902171, -0.8793316602002474, -0.13730101188128274, 0.4739117707913685, 1.9456675653065694, -0.34549575735322996, 0.9720333799605246, -0.26228104507380334, -0.5714395653881361, 0.14502575276461074, -1.8641784872791407, 0.8869491501534156, 1.5217251811022767, 1.3921339746257404, 1.1907950182465863, -1.3679269183388134, -0.42830897316735944, 0.16752652136906077, -0.822993733943916, 0.032639710581331624, -1.7353173585494512, 1.3006424924535107, -2.658447080801197, -0.7260667522978758, -1.346559369571314, 1.2100767873230984, 0.14199042718703583, 1.3810124437891032, 0.17475647805393424, -0.7973890264270153, 0.5809185216045772, -0.3885903405071358, 0.10406688806814304, 1.370396070389675, -0.23398496826648119, -0.29001376284099223, -0.28707110106581923, 0.25979132952928025, -0.1617035485251935, -0.6720898907014572, 0.7962255499025633, -0.6948156806562187, 0.9390569733955219, 1.8104513153386503, 0.5111732025237625, -0.7447934329773587, -0.36545521090245675, 0.12658057977115625, -1.1224377540795116, 0.23315136938347406, -0.3592208292662069, -0.3149408561046429, 0.7604586976536822, 0.8599817036861749, -2.121030951423784]}, {\"histfunc\": \"count\", \"histnorm\": \"\", \"marker\": {\"color\": \"rgba(98, 98, 222, 1.0)\", \"line\": {\"color\": \"#D9D9D9\", \"width\": 1.3}}, \"name\": \"D\", \"opacity\": 0.8, \"orientation\": \"v\", \"type\": \"histogram\", \"x\": [-0.46308053517921177, -0.22893297382440694, 0.28152771977670005, 0.841148244630791, 0.09335388118504882, 0.09404129945671476, -0.27604509647678394, -1.4149534857065915, 0.6303783847458049, 1.0140454768881473, 0.6247341776241347, 0.3462567203067475, 0.06618476657523857, 0.22304990357635202, -0.7104729965870029, -0.36754819414362006, 0.7527370093648587, 0.4243521358588527, -0.313879559965402, 0.44453194663906453, -1.2215088401885823, 0.5313535901603273, -1.136436468522623, -0.33583843750714953, 0.695915250472006, -2.035088399463051, 2.007662253559875, 0.3019128256963567, -0.18113684687278164, 1.8911687280243084, 0.7572630803852446, -0.43219425771863185, 0.2682190866781442, 0.9638038961270988, 0.38196860184494996, -0.904240690441337, 0.9257726882611239, -3.089622695862602, 0.022160723350371093, 0.15890271523422386, 1.2072376116298225, 0.036906673259497653, 1.9325182083788126, -2.65838624213967, 1.33374362812293, -0.3002915926433879, -2.3339029672320337, 0.4283179292567376, 0.3920197131247837, 1.0578439219875122, -1.2286183490049214, -0.42118880033063083, 0.18221735978592854, 0.7783483420916925, -1.1631454183180807, 0.3409532835134661, -0.175860025671226, 2.600067786231678, 0.1424405264085281, 0.6378341507289481, -0.7911396934565847, 0.2970410528515773, -0.36757856712825604, 0.001891577602284555, -0.9533757506556024, -1.5265124105099575, 0.14141110796393855, 3.6126504926656198, -0.4083508444949703, -1.3866183439117674, 0.6146431833929709, -1.1797204483467447, -0.17626909828622517, -0.8315102988033132, -1.0629729405783421, 0.6165434831247598, 2.4710912898514956, -0.5136104215624592, -1.2833494881724943, -0.19740622984239123, -0.28292641821742964, -0.17332004636855022, -0.8472778358004164, -1.5638430808706032, -0.12651593497479413, 0.5196255513517741, 1.6550631354033751, -0.4268727901892978, 1.0780805010140389, 1.394028416980079, -0.27892950008419176, -0.42372865324865777, -0.0035800875407494483, -0.3109767884032559, -0.6928666677078057, -0.96026887219562, -0.17067052996934515, -0.8291957027802563, -1.872451022659089, 0.4529640052721673]}],                        {\"barmode\": \"overlay\", \"legend\": {\"bgcolor\": \"#1A1A1C\", \"font\": {\"color\": \"#D9D9D9\"}}, \"paper_bgcolor\": \"#1A1A1C\", \"plot_bgcolor\": \"#1A1A1C\", \"template\": {\"data\": {\"bar\": [{\"error_x\": {\"color\": \"#2a3f5f\"}, \"error_y\": {\"color\": \"#2a3f5f\"}, \"marker\": {\"line\": {\"color\": \"#E5ECF6\", \"width\": 0.5}}, \"type\": \"bar\"}], \"barpolar\": [{\"marker\": {\"line\": {\"color\": \"#E5ECF6\", \"width\": 0.5}}, \"type\": \"barpolar\"}], \"carpet\": [{\"aaxis\": {\"endlinecolor\": \"#2a3f5f\", \"gridcolor\": \"white\", \"linecolor\": \"white\", \"minorgridcolor\": \"white\", \"startlinecolor\": \"#2a3f5f\"}, \"baxis\": {\"endlinecolor\": \"#2a3f5f\", \"gridcolor\": \"white\", \"linecolor\": \"white\", \"minorgridcolor\": \"white\", \"startlinecolor\": \"#2a3f5f\"}, \"type\": \"carpet\"}], \"choropleth\": [{\"colorbar\": {\"outlinewidth\": 0, \"ticks\": \"\"}, \"type\": \"choropleth\"}], \"contour\": [{\"colorbar\": {\"outlinewidth\": 0, \"ticks\": \"\"}, \"colorscale\": [[0.0, \"#0d0887\"], [0.1111111111111111, \"#46039f\"], [0.2222222222222222, \"#7201a8\"], [0.3333333333333333, \"#9c179e\"], [0.4444444444444444, \"#bd3786\"], [0.5555555555555556, \"#d8576b\"], [0.6666666666666666, \"#ed7953\"], [0.7777777777777778, \"#fb9f3a\"], [0.8888888888888888, \"#fdca26\"], [1.0, \"#f0f921\"]], \"type\": \"contour\"}], \"contourcarpet\": [{\"colorbar\": {\"outlinewidth\": 0, \"ticks\": \"\"}, \"type\": \"contourcarpet\"}], \"heatmap\": [{\"colorbar\": {\"outlinewidth\": 0, \"ticks\": \"\"}, \"colorscale\": [[0.0, \"#0d0887\"], [0.1111111111111111, \"#46039f\"], [0.2222222222222222, \"#7201a8\"], [0.3333333333333333, \"#9c179e\"], [0.4444444444444444, \"#bd3786\"], [0.5555555555555556, \"#d8576b\"], [0.6666666666666666, \"#ed7953\"], [0.7777777777777778, \"#fb9f3a\"], [0.8888888888888888, \"#fdca26\"], [1.0, \"#f0f921\"]], \"type\": \"heatmap\"}], \"heatmapgl\": [{\"colorbar\": {\"outlinewidth\": 0, \"ticks\": \"\"}, \"colorscale\": [[0.0, \"#0d0887\"], [0.1111111111111111, \"#46039f\"], [0.2222222222222222, \"#7201a8\"], [0.3333333333333333, \"#9c179e\"], [0.4444444444444444, \"#bd3786\"], [0.5555555555555556, \"#d8576b\"], [0.6666666666666666, \"#ed7953\"], [0.7777777777777778, \"#fb9f3a\"], [0.8888888888888888, \"#fdca26\"], [1.0, \"#f0f921\"]], \"type\": \"heatmapgl\"}], \"histogram\": [{\"marker\": {\"colorbar\": {\"outlinewidth\": 0, \"ticks\": \"\"}}, \"type\": \"histogram\"}], \"histogram2d\": [{\"colorbar\": {\"outlinewidth\": 0, \"ticks\": \"\"}, \"colorscale\": [[0.0, \"#0d0887\"], [0.1111111111111111, \"#46039f\"], [0.2222222222222222, \"#7201a8\"], [0.3333333333333333, \"#9c179e\"], [0.4444444444444444, \"#bd3786\"], [0.5555555555555556, \"#d8576b\"], [0.6666666666666666, \"#ed7953\"], [0.7777777777777778, \"#fb9f3a\"], [0.8888888888888888, \"#fdca26\"], [1.0, \"#f0f921\"]], \"type\": \"histogram2d\"}], \"histogram2dcontour\": [{\"colorbar\": {\"outlinewidth\": 0, \"ticks\": \"\"}, \"colorscale\": [[0.0, \"#0d0887\"], [0.1111111111111111, \"#46039f\"], [0.2222222222222222, \"#7201a8\"], [0.3333333333333333, \"#9c179e\"], [0.4444444444444444, \"#bd3786\"], [0.5555555555555556, \"#d8576b\"], [0.6666666666666666, \"#ed7953\"], [0.7777777777777778, \"#fb9f3a\"], [0.8888888888888888, \"#fdca26\"], [1.0, \"#f0f921\"]], \"type\": \"histogram2dcontour\"}], \"mesh3d\": [{\"colorbar\": {\"outlinewidth\": 0, \"ticks\": \"\"}, \"type\": \"mesh3d\"}], \"parcoords\": [{\"line\": {\"colorbar\": {\"outlinewidth\": 0, \"ticks\": \"\"}}, \"type\": \"parcoords\"}], \"pie\": [{\"automargin\": true, \"type\": \"pie\"}], \"scatter\": [{\"marker\": {\"colorbar\": {\"outlinewidth\": 0, \"ticks\": \"\"}}, \"type\": \"scatter\"}], \"scatter3d\": [{\"line\": {\"colorbar\": {\"outlinewidth\": 0, \"ticks\": \"\"}}, \"marker\": {\"colorbar\": {\"outlinewidth\": 0, \"ticks\": \"\"}}, \"type\": \"scatter3d\"}], \"scattercarpet\": [{\"marker\": {\"colorbar\": {\"outlinewidth\": 0, \"ticks\": \"\"}}, \"type\": \"scattercarpet\"}], \"scattergeo\": [{\"marker\": {\"colorbar\": {\"outlinewidth\": 0, \"ticks\": \"\"}}, \"type\": \"scattergeo\"}], \"scattergl\": [{\"marker\": {\"colorbar\": {\"outlinewidth\": 0, \"ticks\": \"\"}}, \"type\": \"scattergl\"}], \"scattermapbox\": [{\"marker\": {\"colorbar\": {\"outlinewidth\": 0, \"ticks\": \"\"}}, \"type\": \"scattermapbox\"}], \"scatterpolar\": [{\"marker\": {\"colorbar\": {\"outlinewidth\": 0, \"ticks\": \"\"}}, \"type\": \"scatterpolar\"}], \"scatterpolargl\": [{\"marker\": {\"colorbar\": {\"outlinewidth\": 0, \"ticks\": \"\"}}, \"type\": \"scatterpolargl\"}], \"scatterternary\": [{\"marker\": {\"colorbar\": {\"outlinewidth\": 0, \"ticks\": \"\"}}, \"type\": \"scatterternary\"}], \"surface\": [{\"colorbar\": {\"outlinewidth\": 0, \"ticks\": \"\"}, \"colorscale\": [[0.0, \"#0d0887\"], [0.1111111111111111, \"#46039f\"], [0.2222222222222222, \"#7201a8\"], [0.3333333333333333, \"#9c179e\"], [0.4444444444444444, \"#bd3786\"], [0.5555555555555556, \"#d8576b\"], [0.6666666666666666, \"#ed7953\"], [0.7777777777777778, \"#fb9f3a\"], [0.8888888888888888, \"#fdca26\"], [1.0, \"#f0f921\"]], \"type\": \"surface\"}], \"table\": [{\"cells\": {\"fill\": {\"color\": \"#EBF0F8\"}, \"line\": {\"color\": \"white\"}}, \"header\": {\"fill\": {\"color\": \"#C8D4E3\"}, \"line\": {\"color\": \"white\"}}, \"type\": \"table\"}]}, \"layout\": {\"annotationdefaults\": {\"arrowcolor\": \"#2a3f5f\", \"arrowhead\": 0, \"arrowwidth\": 1}, \"autotypenumbers\": \"strict\", \"coloraxis\": {\"colorbar\": {\"outlinewidth\": 0, \"ticks\": \"\"}}, \"colorscale\": {\"diverging\": [[0, \"#8e0152\"], [0.1, \"#c51b7d\"], [0.2, \"#de77ae\"], [0.3, \"#f1b6da\"], [0.4, \"#fde0ef\"], [0.5, \"#f7f7f7\"], [0.6, \"#e6f5d0\"], [0.7, \"#b8e186\"], [0.8, \"#7fbc41\"], [0.9, \"#4d9221\"], [1, \"#276419\"]], \"sequential\": [[0.0, \"#0d0887\"], [0.1111111111111111, \"#46039f\"], [0.2222222222222222, \"#7201a8\"], [0.3333333333333333, \"#9c179e\"], [0.4444444444444444, \"#bd3786\"], [0.5555555555555556, \"#d8576b\"], [0.6666666666666666, \"#ed7953\"], [0.7777777777777778, \"#fb9f3a\"], [0.8888888888888888, \"#fdca26\"], [1.0, \"#f0f921\"]], \"sequentialminus\": [[0.0, \"#0d0887\"], [0.1111111111111111, \"#46039f\"], [0.2222222222222222, \"#7201a8\"], [0.3333333333333333, \"#9c179e\"], [0.4444444444444444, \"#bd3786\"], [0.5555555555555556, \"#d8576b\"], [0.6666666666666666, \"#ed7953\"], [0.7777777777777778, \"#fb9f3a\"], [0.8888888888888888, \"#fdca26\"], [1.0, \"#f0f921\"]]}, \"colorway\": [\"#636efa\", \"#EF553B\", \"#00cc96\", \"#ab63fa\", \"#FFA15A\", \"#19d3f3\", \"#FF6692\", \"#B6E880\", \"#FF97FF\", \"#FECB52\"], \"font\": {\"color\": \"#2a3f5f\"}, \"geo\": {\"bgcolor\": \"white\", \"lakecolor\": \"white\", \"landcolor\": \"#E5ECF6\", \"showlakes\": true, \"showland\": true, \"subunitcolor\": \"white\"}, \"hoverlabel\": {\"align\": \"left\"}, \"hovermode\": \"closest\", \"mapbox\": {\"style\": \"light\"}, \"paper_bgcolor\": \"white\", \"plot_bgcolor\": \"#E5ECF6\", \"polar\": {\"angularaxis\": {\"gridcolor\": \"white\", \"linecolor\": \"white\", \"ticks\": \"\"}, \"bgcolor\": \"#E5ECF6\", \"radialaxis\": {\"gridcolor\": \"white\", \"linecolor\": \"white\", \"ticks\": \"\"}}, \"scene\": {\"xaxis\": {\"backgroundcolor\": \"#E5ECF6\", \"gridcolor\": \"white\", \"gridwidth\": 2, \"linecolor\": \"white\", \"showbackground\": true, \"ticks\": \"\", \"zerolinecolor\": \"white\"}, \"yaxis\": {\"backgroundcolor\": \"#E5ECF6\", \"gridcolor\": \"white\", \"gridwidth\": 2, \"linecolor\": \"white\", \"showbackground\": true, \"ticks\": \"\", \"zerolinecolor\": \"white\"}, \"zaxis\": {\"backgroundcolor\": \"#E5ECF6\", \"gridcolor\": \"white\", \"gridwidth\": 2, \"linecolor\": \"white\", \"showbackground\": true, \"ticks\": \"\", \"zerolinecolor\": \"white\"}}, \"shapedefaults\": {\"line\": {\"color\": \"#2a3f5f\"}}, \"ternary\": {\"aaxis\": {\"gridcolor\": \"white\", \"linecolor\": \"white\", \"ticks\": \"\"}, \"baxis\": {\"gridcolor\": \"white\", \"linecolor\": \"white\", \"ticks\": \"\"}, \"bgcolor\": \"#E5ECF6\", \"caxis\": {\"gridcolor\": \"white\", \"linecolor\": \"white\", \"ticks\": \"\"}}, \"title\": {\"x\": 0.05}, \"xaxis\": {\"automargin\": true, \"gridcolor\": \"white\", \"linecolor\": \"white\", \"ticks\": \"\", \"title\": {\"standoff\": 15}, \"zerolinecolor\": \"white\", \"zerolinewidth\": 2}, \"yaxis\": {\"automargin\": true, \"gridcolor\": \"white\", \"linecolor\": \"white\", \"ticks\": \"\", \"title\": {\"standoff\": 15}, \"zerolinecolor\": \"white\", \"zerolinewidth\": 2}}}, \"title\": {\"font\": {\"color\": \"#D9D9D9\"}, \"text\": \"HISTOGRAM\"}, \"xaxis\": {\"gridcolor\": \"grey\", \"showgrid\": true, \"tickfont\": {\"color\": \"#C2C2C2\"}, \"title\": {\"font\": {\"color\": \"#D9D9D9\"}, \"text\": \"Values------>\"}, \"zerolinecolor\": \"#666570\"}, \"yaxis\": {\"gridcolor\": \"grey\", \"showgrid\": true, \"tickfont\": {\"color\": \"#C2C2C2\"}, \"title\": {\"font\": {\"color\": \"#D9D9D9\"}, \"text\": \"Count------->\"}, \"zerolinecolor\": \"#666570\"}},                        {\"showLink\": true, \"linkText\": \"Export to plot.ly\", \"plotlyServerURL\": \"https://plot.ly\", \"responsive\": true}                    ).then(function(){\n                            \nvar gd = document.getElementById('a954f7dc-d207-40fc-a905-ff4ab524eb70');\nvar x = new MutationObserver(function (mutations, observer) {{\n        var display = window.getComputedStyle(gd).display;\n        if (!display || display === 'none') {{\n            console.log([gd, 'removed!']);\n            Plotly.purge(gd);\n            observer.disconnect();\n        }}\n}});\n\n// Listen for the removal of the full notebook cells\nvar notebookContainer = gd.closest('#notebook-container');\nif (notebookContainer) {{\n    x.observe(notebookContainer, {childList: true});\n}}\n\n// Listen for the clearing of the current output cell\nvar outputEl = gd.closest('.output');\nif (outputEl) {{\n    x.observe(outputEl, {childList: true});\n}}\n\n                        })                };                });            </script>        </div>"
     },
     "metadata": {}
    }
   ],
   "source": [
    "df.iplot(kind='hist', theme= 'space', gridcolor= 'grey', colorscale= 'polar', title= 'HISTOGRAM', xTitle='Values------>', yTitle= 'Count------->')"
   ]
  },
  {
   "source": [
    "*7. spreadplot*\n",
    "\n",
    "These are gernallu used in stock market graphs\n",
    "\n",
    "This plots a lineplot aswell as spreadplot"
   ],
   "cell_type": "markdown",
   "metadata": {}
  },
  {
   "cell_type": "code",
   "execution_count": 224,
   "metadata": {},
   "outputs": [
    {
     "output_type": "display_data",
     "data": {
      "application/vnd.plotly.v1+json": {
       "config": {
        "linkText": "Export to plot.ly",
        "plotlyServerURL": "https://plot.ly",
        "showLink": true
       },
       "data": [
        {
         "line": {
          "color": "rgba(0, 128, 240, 1.0)",
          "dash": "solid",
          "shape": "linear",
          "width": 1.3
         },
         "mode": "lines",
         "name": "A",
         "text": "",
         "type": "scatter",
         "x": [
          0,
          1,
          2,
          3,
          4,
          5,
          6,
          7,
          8,
          9,
          10,
          11,
          12,
          13,
          14,
          15,
          16,
          17,
          18,
          19,
          20,
          21,
          22,
          23,
          24,
          25,
          26,
          27,
          28,
          29,
          30,
          31,
          32,
          33,
          34,
          35,
          36,
          37,
          38,
          39,
          40,
          41,
          42,
          43,
          44,
          45,
          46,
          47,
          48,
          49,
          50,
          51,
          52,
          53,
          54,
          55,
          56,
          57,
          58,
          59,
          60,
          61,
          62,
          63,
          64,
          65,
          66,
          67,
          68,
          69,
          70,
          71,
          72,
          73,
          74,
          75,
          76,
          77,
          78,
          79,
          80,
          81,
          82,
          83,
          84,
          85,
          86,
          87,
          88,
          89,
          90,
          91,
          92,
          93,
          94,
          95,
          96,
          97,
          98,
          99
         ],
         "y": [
          -0.9792515936598923,
          0.9598050055042266,
          1.2879497854926978,
          -0.7580525281398575,
          0.7395394550550108,
          0.17019107169090317,
          -0.1293765011854134,
          0.4456954392361662,
          0.13772919772007583,
          -1.1475557380589023,
          0.7148856836266592,
          1.4579626985599747,
          0.8874119734406709,
          0.3072755156395645,
          2.0957456279779065,
          0.5899177376437668,
          1.0364047408183756,
          0.7388472871926347,
          0.17950427668644467,
          0.3680753376522049,
          0.1368695577373032,
          0.8159967349839087,
          -0.14844827589627468,
          0.9610220648185201,
          0.8403045958850671,
          0.1539828413327248,
          -0.22403721645926258,
          -0.9886846475465637,
          -0.041097672863380195,
          -0.20336539740261284,
          -0.8272592313380914,
          -0.7377644328272414,
          0.6228589278084802,
          1.0167861280965602,
          -2.2412581790082666,
          -0.18088089665349677,
          0.38747162796369533,
          -0.022976036922044408,
          -0.376997829574464,
          0.12116576151183464,
          0.004016022807814205,
          -1.8023654641354336,
          -0.8309213004133602,
          -0.37467942398393506,
          0.16749391300381028,
          2.157106901960888,
          0.26801897806054975,
          -0.12917654316980617,
          -1.1921864240944327,
          1.6144706272625435,
          0.44154651927524047,
          -1.5248455068331284,
          -1.379729809199886,
          -0.3071048272960799,
          0.11873027241721576,
          -0.18440988283347878,
          -1.5364079402765836,
          -1.7659951853905054,
          -1.1925247660678762,
          -0.3719050473318741,
          0.9116004418673352,
          -1.2893901771054779,
          0.3494224192856916,
          0.12384105919512163,
          -0.2853887638156255,
          -0.05477890823051662,
          -0.13339681427823635,
          0.002483580579456353,
          0.6483924643575026,
          -1.7744604454121766,
          0.051018691708484755,
          -0.20831087775659465,
          1.2036245135778298,
          0.37460006318208516,
          -0.007357554347866323,
          0.5125991262014535,
          0.0024173923945399363,
          -0.8563025126597791,
          -0.7617603492153533,
          -1.792629772347877,
          0.360765760598241,
          -0.7718682940507207,
          1.6886536550319722,
          1.194024448998109,
          -0.417875534770027,
          2.122611684514379,
          -0.20455142051435,
          -1.3193963771012482,
          -1.7879804873841585,
          0.4066145570917323,
          1.434386069614315,
          -0.5881888567526482,
          -1.2337031790890676,
          -0.7429661704558083,
          0.0566414277132115,
          -1.2378557179328697,
          -0.43038873430261276,
          -2.5320354376990766,
          0.7598237879841848,
          0.48412359488350337
         ]
        },
        {
         "line": {
          "color": "rgba(238, 118, 0, 1.0)",
          "dash": "solid",
          "shape": "linear",
          "width": 1.3
         },
         "mode": "lines",
         "name": "B",
         "text": "",
         "type": "scatter",
         "x": [
          0,
          1,
          2,
          3,
          4,
          5,
          6,
          7,
          8,
          9,
          10,
          11,
          12,
          13,
          14,
          15,
          16,
          17,
          18,
          19,
          20,
          21,
          22,
          23,
          24,
          25,
          26,
          27,
          28,
          29,
          30,
          31,
          32,
          33,
          34,
          35,
          36,
          37,
          38,
          39,
          40,
          41,
          42,
          43,
          44,
          45,
          46,
          47,
          48,
          49,
          50,
          51,
          52,
          53,
          54,
          55,
          56,
          57,
          58,
          59,
          60,
          61,
          62,
          63,
          64,
          65,
          66,
          67,
          68,
          69,
          70,
          71,
          72,
          73,
          74,
          75,
          76,
          77,
          78,
          79,
          80,
          81,
          82,
          83,
          84,
          85,
          86,
          87,
          88,
          89,
          90,
          91,
          92,
          93,
          94,
          95,
          96,
          97,
          98,
          99
         ],
         "y": [
          -0.0033035822899469052,
          0.3142449677503647,
          -1.504523021926638,
          1.0044432988561958,
          -0.3786281864931309,
          1.6221183698918318,
          -0.6833666110514979,
          -0.09085898589503208,
          0.4183024142850112,
          0.1599510285795126,
          0.4983380417069129,
          -2.38735035273387,
          -0.17484722770594668,
          -0.7024036572296523,
          -0.2377817653329279,
          1.0463693206953972,
          -1.206970761077781,
          -0.27926473845743927,
          0.024497475622231084,
          0.07215395894711478,
          0.8060503759899023,
          -0.10523700135619246,
          0.4892495322097234,
          -1.6211612465614205,
          -0.9413730510682876,
          0.5618878755989775,
          1.148898697209982,
          -0.8603059741609684,
          -0.2545352736983566,
          0.3221749143716371,
          0.8184090970176358,
          0.603400860775381,
          0.29148084806096053,
          1.2197382793191827,
          -0.11597682125807925,
          -0.993512699913698,
          0.6287345083305073,
          -0.23713521257102554,
          -0.3097494760631051,
          -0.5890817405505082,
          -1.1603607004584577,
          0.9875973705562235,
          -0.063031992142952,
          0.5528356056102148,
          0.9943802775983782,
          1.5885704578261726,
          -0.9751179842350768,
          0.6218820952952601,
          -2.0323297593875838,
          -0.5484199829062123,
          -0.12137817399783384,
          -1.2309977016776752,
          -0.9313693797491154,
          0.2663840238711808,
          -1.6717292793656437,
          -0.4542443768926661,
          -0.2721841210031825,
          -2.536542463070985,
          0.4847118496688762,
          -2.1214691330865127,
          -1.1620826355082072,
          -0.048986563425723995,
          -1.2645433415566478,
          1.9997478527752839,
          1.166476246332891,
          -3.103425838335752,
          -1.4438539094973724,
          1.5718043608392394,
          -0.7335294160030932,
          -1.197965786647293,
          1.0722513065522665,
          -0.7826362934224473,
          -0.49820503134543775,
          1.5716627803037155,
          -0.005317290143883737,
          -0.3593653166820716,
          1.5597095911561978,
          1.0503815987596175,
          0.3441039774821109,
          -0.04974121712467084,
          0.008170229384752613,
          -0.9709058136802701,
          2.417034408248457,
          -1.2124867561742774,
          0.6046417869674267,
          -0.3585076795507522,
          0.06705171160120478,
          1.4546189083140886,
          -0.42913586866418607,
          -0.707992549805246,
          -2.096983049597022,
          0.038373856459275275,
          0.6579882416462015,
          2.2386147056613295,
          -0.6608003396245523,
          -0.9953483586408077,
          0.43580220111517376,
          -0.5404418613480602,
          3.3467118532442397,
          0.34927520878526047
         ]
        },
        {
         "line": {
          "color": "rgba(48, 144, 84, 1.0)",
          "dash": "solid",
          "shape": "linear",
          "width": 1.3
         },
         "mode": "lines",
         "name": "C",
         "text": "",
         "type": "scatter",
         "x": [
          0,
          1,
          2,
          3,
          4,
          5,
          6,
          7,
          8,
          9,
          10,
          11,
          12,
          13,
          14,
          15,
          16,
          17,
          18,
          19,
          20,
          21,
          22,
          23,
          24,
          25,
          26,
          27,
          28,
          29,
          30,
          31,
          32,
          33,
          34,
          35,
          36,
          37,
          38,
          39,
          40,
          41,
          42,
          43,
          44,
          45,
          46,
          47,
          48,
          49,
          50,
          51,
          52,
          53,
          54,
          55,
          56,
          57,
          58,
          59,
          60,
          61,
          62,
          63,
          64,
          65,
          66,
          67,
          68,
          69,
          70,
          71,
          72,
          73,
          74,
          75,
          76,
          77,
          78,
          79,
          80,
          81,
          82,
          83,
          84,
          85,
          86,
          87,
          88,
          89,
          90,
          91,
          92,
          93,
          94,
          95,
          96,
          97,
          98,
          99
         ],
         "y": [
          -1.029169055522879,
          -0.6255978007913707,
          1.0417982196879223,
          2.2449486385713384,
          -0.6795945775053402,
          0.14631255858470052,
          0.3731668746960911,
          0.4124420330489584,
          1.5113484075983132,
          0.5920468325658576,
          0.2793855445424416,
          -0.29619014153343065,
          2.3727187380412276,
          -0.6841365657268245,
          0.49440394600584864,
          0.6388836557479353,
          0.21519353566892171,
          0.08067736888339132,
          1.355625354020415,
          -0.348654489687168,
          -0.4947196965310076,
          -0.3582819911117431,
          0.8482378687717445,
          -0.7550696581956536,
          0.09628928497248218,
          0.3694001280085396,
          1.7522158422386362,
          0.24728003851561672,
          1.4320945076126141,
          0.38078115390777206,
          0.49485054834994746,
          0.10834747534480808,
          0.40440051019822765,
          0.46318804403090136,
          0.8498937327069608,
          0.30823700591443287,
          -0.16957495168143608,
          1.4656183402677774,
          -0.2756627766669359,
          -1.558366156240104,
          -1.44390954708868,
          -0.5051680953931286,
          0.27620048996716984,
          -1.8343779836571938,
          -0.32566386109769674,
          -0.5377091427902171,
          -0.8793316602002474,
          -0.13730101188128274,
          0.4739117707913685,
          1.9456675653065694,
          -0.34549575735322996,
          0.9720333799605246,
          -0.26228104507380334,
          -0.5714395653881361,
          0.14502575276461074,
          -1.8641784872791407,
          0.8869491501534156,
          1.5217251811022767,
          1.3921339746257404,
          1.1907950182465863,
          -1.3679269183388134,
          -0.42830897316735944,
          0.16752652136906077,
          -0.822993733943916,
          0.032639710581331624,
          -1.7353173585494512,
          1.3006424924535107,
          -2.658447080801197,
          -0.7260667522978758,
          -1.346559369571314,
          1.2100767873230984,
          0.14199042718703583,
          1.3810124437891032,
          0.17475647805393424,
          -0.7973890264270153,
          0.5809185216045772,
          -0.3885903405071358,
          0.10406688806814304,
          1.370396070389675,
          -0.23398496826648119,
          -0.29001376284099223,
          -0.28707110106581923,
          0.25979132952928025,
          -0.1617035485251935,
          -0.6720898907014572,
          0.7962255499025633,
          -0.6948156806562187,
          0.9390569733955219,
          1.8104513153386503,
          0.5111732025237625,
          -0.7447934329773587,
          -0.36545521090245675,
          0.12658057977115625,
          -1.1224377540795116,
          0.23315136938347406,
          -0.3592208292662069,
          -0.3149408561046429,
          0.7604586976536822,
          0.8599817036861749,
          -2.121030951423784
         ]
        },
        {
         "line": {
          "color": "rgba(98, 98, 222, 1.0)",
          "dash": "solid",
          "shape": "linear",
          "width": 1.3
         },
         "mode": "lines",
         "name": "D",
         "text": "",
         "type": "scatter",
         "x": [
          0,
          1,
          2,
          3,
          4,
          5,
          6,
          7,
          8,
          9,
          10,
          11,
          12,
          13,
          14,
          15,
          16,
          17,
          18,
          19,
          20,
          21,
          22,
          23,
          24,
          25,
          26,
          27,
          28,
          29,
          30,
          31,
          32,
          33,
          34,
          35,
          36,
          37,
          38,
          39,
          40,
          41,
          42,
          43,
          44,
          45,
          46,
          47,
          48,
          49,
          50,
          51,
          52,
          53,
          54,
          55,
          56,
          57,
          58,
          59,
          60,
          61,
          62,
          63,
          64,
          65,
          66,
          67,
          68,
          69,
          70,
          71,
          72,
          73,
          74,
          75,
          76,
          77,
          78,
          79,
          80,
          81,
          82,
          83,
          84,
          85,
          86,
          87,
          88,
          89,
          90,
          91,
          92,
          93,
          94,
          95,
          96,
          97,
          98,
          99
         ],
         "y": [
          -0.46308053517921177,
          -0.22893297382440694,
          0.28152771977670005,
          0.841148244630791,
          0.09335388118504882,
          0.09404129945671476,
          -0.27604509647678394,
          -1.4149534857065915,
          0.6303783847458049,
          1.0140454768881473,
          0.6247341776241347,
          0.3462567203067475,
          0.06618476657523857,
          0.22304990357635202,
          -0.7104729965870029,
          -0.36754819414362006,
          0.7527370093648587,
          0.4243521358588527,
          -0.313879559965402,
          0.44453194663906453,
          -1.2215088401885823,
          0.5313535901603273,
          -1.136436468522623,
          -0.33583843750714953,
          0.695915250472006,
          -2.035088399463051,
          2.007662253559875,
          0.3019128256963567,
          -0.18113684687278164,
          1.8911687280243084,
          0.7572630803852446,
          -0.43219425771863185,
          0.2682190866781442,
          0.9638038961270988,
          0.38196860184494996,
          -0.904240690441337,
          0.9257726882611239,
          -3.089622695862602,
          0.022160723350371093,
          0.15890271523422386,
          1.2072376116298225,
          0.036906673259497653,
          1.9325182083788126,
          -2.65838624213967,
          1.33374362812293,
          -0.3002915926433879,
          -2.3339029672320337,
          0.4283179292567376,
          0.3920197131247837,
          1.0578439219875122,
          -1.2286183490049214,
          -0.42118880033063083,
          0.18221735978592854,
          0.7783483420916925,
          -1.1631454183180807,
          0.3409532835134661,
          -0.175860025671226,
          2.600067786231678,
          0.1424405264085281,
          0.6378341507289481,
          -0.7911396934565847,
          0.2970410528515773,
          -0.36757856712825604,
          0.001891577602284555,
          -0.9533757506556024,
          -1.5265124105099575,
          0.14141110796393855,
          3.6126504926656198,
          -0.4083508444949703,
          -1.3866183439117674,
          0.6146431833929709,
          -1.1797204483467447,
          -0.17626909828622517,
          -0.8315102988033132,
          -1.0629729405783421,
          0.6165434831247598,
          2.4710912898514956,
          -0.5136104215624592,
          -1.2833494881724943,
          -0.19740622984239123,
          -0.28292641821742964,
          -0.17332004636855022,
          -0.8472778358004164,
          -1.5638430808706032,
          -0.12651593497479413,
          0.5196255513517741,
          1.6550631354033751,
          -0.4268727901892978,
          1.0780805010140389,
          1.394028416980079,
          -0.27892950008419176,
          -0.42372865324865777,
          -0.0035800875407494483,
          -0.3109767884032559,
          -0.6928666677078057,
          -0.96026887219562,
          -0.17067052996934515,
          -0.8291957027802563,
          -1.872451022659089,
          0.4529640052721673
         ]
        },
        {
         "connectgaps": false,
         "fill": "tozeroy",
         "line": {
          "color": "green",
          "dash": "solid",
          "shape": "linear",
          "width": 0.5
         },
         "mode": "lines",
         "name": "Spread",
         "showlegend": false,
         "type": "scatter",
         "x": [
          0,
          1,
          2,
          3,
          4,
          5,
          6,
          7,
          8,
          9,
          10,
          11,
          12,
          13,
          14,
          15,
          16,
          17,
          18,
          19,
          20,
          21,
          22,
          23,
          24,
          25,
          26,
          27,
          28,
          29,
          30,
          31,
          32,
          33,
          34,
          35,
          36,
          37,
          38,
          39,
          40,
          41,
          42,
          43,
          44,
          45,
          46,
          47,
          48,
          49,
          50,
          51,
          52,
          53,
          54,
          55,
          56,
          57,
          58,
          59,
          60,
          61,
          62,
          63,
          64,
          65,
          66,
          67,
          68,
          69,
          70,
          71,
          72,
          73,
          74,
          75,
          76,
          77,
          78,
          79,
          80,
          81,
          82,
          83,
          84,
          85,
          86,
          87,
          88,
          89,
          90,
          91,
          92,
          93,
          94,
          95,
          96,
          97,
          98,
          99
         ],
         "xaxis": "x2",
         "y": [
          "",
          0.645560037753862,
          2.792472807419336,
          "",
          1.1181676415481419,
          "",
          0.5539901098660844,
          0.5365544251311983,
          "",
          "",
          0.21654764191974624,
          3.8453130512938447,
          1.0622592011466176,
          1.0096791728692167,
          2.3335273933108343,
          "",
          2.2433755018961565,
          1.018112025650074,
          0.15500680106421358,
          0.2959213787050901,
          "",
          0.9212337363401011,
          "",
          2.5821833113799406,
          1.7816776469533546,
          "",
          "",
          "",
          0.2134376008349764,
          "",
          "",
          "",
          0.33137807974751965,
          "",
          "",
          0.8126318032602011,
          "",
          0.21415917564898113,
          "",
          0.7102475020623429,
          1.1643767232662718,
          "",
          "",
          "",
          "",
          0.5685364441347154,
          1.2431369622956265,
          "",
          0.8401433352931511,
          2.162890610168756,
          0.5629246932730743,
          "",
          "",
          "",
          1.7904595517828594,
          0.26983449405918736,
          "",
          0.7705472776804796,
          "",
          1.7495640857546386,
          2.0736830773755424,
          "",
          1.6139657608423394,
          "",
          "",
          3.0486469301052352,
          1.3104570952191361,
          "",
          1.3819218803605957,
          "",
          "",
          0.5743254156658527,
          1.7018295449232677,
          "",
          "",
          0.8719644428835251,
          "",
          "",
          "",
          "",
          0.3525955312134884,
          0.1990375196295494,
          "",
          2.4065112051723863,
          "",
          2.481119364065131,
          "",
          "",
          "",
          1.1146071068969783,
          3.5313691192113366,
          "",
          "",
          "",
          0.7174417673377638,
          "",
          "",
          "",
          "",
          0.1348483860982429
         ],
         "yaxis": "y2"
        },
        {
         "connectgaps": false,
         "fill": "tozeroy",
         "line": {
          "color": "red",
          "dash": "solid",
          "shape": "linear",
          "width": 0.5
         },
         "mode": "lines",
         "name": "Spread",
         "showlegend": false,
         "type": "scatter",
         "x": [
          0,
          1,
          2,
          3,
          4,
          5,
          6,
          7,
          8,
          9,
          10,
          11,
          12,
          13,
          14,
          15,
          16,
          17,
          18,
          19,
          20,
          21,
          22,
          23,
          24,
          25,
          26,
          27,
          28,
          29,
          30,
          31,
          32,
          33,
          34,
          35,
          36,
          37,
          38,
          39,
          40,
          41,
          42,
          43,
          44,
          45,
          46,
          47,
          48,
          49,
          50,
          51,
          52,
          53,
          54,
          55,
          56,
          57,
          58,
          59,
          60,
          61,
          62,
          63,
          64,
          65,
          66,
          67,
          68,
          69,
          70,
          71,
          72,
          73,
          74,
          75,
          76,
          77,
          78,
          79,
          80,
          81,
          82,
          83,
          84,
          85,
          86,
          87,
          88,
          89,
          90,
          91,
          92,
          93,
          94,
          95,
          96,
          97,
          98,
          99
         ],
         "xaxis": "x2",
         "y": [
          -0.9759480113699455,
          "",
          "",
          -1.7624958269960533,
          "",
          -1.4519272982009286,
          "",
          "",
          -0.2805732165649354,
          -1.307506766638415,
          "",
          "",
          "",
          "",
          "",
          -0.45645158305163047,
          "",
          "",
          "",
          "",
          -0.6691808182525991,
          "",
          -0.6376978081059981,
          "",
          "",
          -0.4079050342662527,
          -1.3729359136692445,
          -0.12837867338559528,
          "",
          -0.5255403117742499,
          -1.6456683283557272,
          -1.3411652936026224,
          "",
          -0.20295215122262245,
          -2.1252813577501874,
          "",
          -0.24126288036681193,
          "",
          -0.06724835351135888,
          "",
          "",
          -2.789962834691657,
          -0.7678893082704082,
          -0.9275150295941499,
          -0.8268863645945679,
          "",
          "",
          -0.7510586384650663,
          "",
          "",
          "",
          -0.29384780515545317,
          -0.4483604294507706,
          -0.5734888511672607,
          "",
          "",
          -1.264223819273401,
          "",
          -1.6772366157367524,
          "",
          "",
          -1.2404036136797538,
          "",
          -1.8759067935801623,
          -1.4518650101485164,
          "",
          "",
          -1.569320780259783,
          "",
          -0.5764946587648836,
          -1.0212326148437818,
          "",
          "",
          -1.1970627171216304,
          -0.002040264203982586,
          "",
          -1.557292198761658,
          -1.9066841114193966,
          -1.1058643266974642,
          -1.742888555223206,
          "",
          "",
          -0.7283807532164848,
          "",
          -1.0225173217374537,
          "",
          -0.27160313211555476,
          -2.774015285415337,
          -1.3588446187199725,
          "",
          "",
          -0.6265627132119235,
          -1.891691420735269,
          -2.9815808761171376,
          "",
          -0.24250735929206202,
          -0.8661909354177866,
          -1.9915935763510164,
          -2.5868880652600548,
          ""
         ],
         "yaxis": "y2"
        }
       ],
       "layout": {
        "hovermode": "x",
        "legend": {
         "bgcolor": "#1A1A1C",
         "font": {
          "color": "#D9D9D9"
         }
        },
        "paper_bgcolor": "#1A1A1C",
        "plot_bgcolor": "#1A1A1C",
        "template": {
         "data": {
          "bar": [
           {
            "error_x": {
             "color": "#2a3f5f"
            },
            "error_y": {
             "color": "#2a3f5f"
            },
            "marker": {
             "line": {
              "color": "#E5ECF6",
              "width": 0.5
             }
            },
            "type": "bar"
           }
          ],
          "barpolar": [
           {
            "marker": {
             "line": {
              "color": "#E5ECF6",
              "width": 0.5
             }
            },
            "type": "barpolar"
           }
          ],
          "carpet": [
           {
            "aaxis": {
             "endlinecolor": "#2a3f5f",
             "gridcolor": "white",
             "linecolor": "white",
             "minorgridcolor": "white",
             "startlinecolor": "#2a3f5f"
            },
            "baxis": {
             "endlinecolor": "#2a3f5f",
             "gridcolor": "white",
             "linecolor": "white",
             "minorgridcolor": "white",
             "startlinecolor": "#2a3f5f"
            },
            "type": "carpet"
           }
          ],
          "choropleth": [
           {
            "colorbar": {
             "outlinewidth": 0,
             "ticks": ""
            },
            "type": "choropleth"
           }
          ],
          "contour": [
           {
            "colorbar": {
             "outlinewidth": 0,
             "ticks": ""
            },
            "colorscale": [
             [
              0,
              "#0d0887"
             ],
             [
              0.1111111111111111,
              "#46039f"
             ],
             [
              0.2222222222222222,
              "#7201a8"
             ],
             [
              0.3333333333333333,
              "#9c179e"
             ],
             [
              0.4444444444444444,
              "#bd3786"
             ],
             [
              0.5555555555555556,
              "#d8576b"
             ],
             [
              0.6666666666666666,
              "#ed7953"
             ],
             [
              0.7777777777777778,
              "#fb9f3a"
             ],
             [
              0.8888888888888888,
              "#fdca26"
             ],
             [
              1,
              "#f0f921"
             ]
            ],
            "type": "contour"
           }
          ],
          "contourcarpet": [
           {
            "colorbar": {
             "outlinewidth": 0,
             "ticks": ""
            },
            "type": "contourcarpet"
           }
          ],
          "heatmap": [
           {
            "colorbar": {
             "outlinewidth": 0,
             "ticks": ""
            },
            "colorscale": [
             [
              0,
              "#0d0887"
             ],
             [
              0.1111111111111111,
              "#46039f"
             ],
             [
              0.2222222222222222,
              "#7201a8"
             ],
             [
              0.3333333333333333,
              "#9c179e"
             ],
             [
              0.4444444444444444,
              "#bd3786"
             ],
             [
              0.5555555555555556,
              "#d8576b"
             ],
             [
              0.6666666666666666,
              "#ed7953"
             ],
             [
              0.7777777777777778,
              "#fb9f3a"
             ],
             [
              0.8888888888888888,
              "#fdca26"
             ],
             [
              1,
              "#f0f921"
             ]
            ],
            "type": "heatmap"
           }
          ],
          "heatmapgl": [
           {
            "colorbar": {
             "outlinewidth": 0,
             "ticks": ""
            },
            "colorscale": [
             [
              0,
              "#0d0887"
             ],
             [
              0.1111111111111111,
              "#46039f"
             ],
             [
              0.2222222222222222,
              "#7201a8"
             ],
             [
              0.3333333333333333,
              "#9c179e"
             ],
             [
              0.4444444444444444,
              "#bd3786"
             ],
             [
              0.5555555555555556,
              "#d8576b"
             ],
             [
              0.6666666666666666,
              "#ed7953"
             ],
             [
              0.7777777777777778,
              "#fb9f3a"
             ],
             [
              0.8888888888888888,
              "#fdca26"
             ],
             [
              1,
              "#f0f921"
             ]
            ],
            "type": "heatmapgl"
           }
          ],
          "histogram": [
           {
            "marker": {
             "colorbar": {
              "outlinewidth": 0,
              "ticks": ""
             }
            },
            "type": "histogram"
           }
          ],
          "histogram2d": [
           {
            "colorbar": {
             "outlinewidth": 0,
             "ticks": ""
            },
            "colorscale": [
             [
              0,
              "#0d0887"
             ],
             [
              0.1111111111111111,
              "#46039f"
             ],
             [
              0.2222222222222222,
              "#7201a8"
             ],
             [
              0.3333333333333333,
              "#9c179e"
             ],
             [
              0.4444444444444444,
              "#bd3786"
             ],
             [
              0.5555555555555556,
              "#d8576b"
             ],
             [
              0.6666666666666666,
              "#ed7953"
             ],
             [
              0.7777777777777778,
              "#fb9f3a"
             ],
             [
              0.8888888888888888,
              "#fdca26"
             ],
             [
              1,
              "#f0f921"
             ]
            ],
            "type": "histogram2d"
           }
          ],
          "histogram2dcontour": [
           {
            "colorbar": {
             "outlinewidth": 0,
             "ticks": ""
            },
            "colorscale": [
             [
              0,
              "#0d0887"
             ],
             [
              0.1111111111111111,
              "#46039f"
             ],
             [
              0.2222222222222222,
              "#7201a8"
             ],
             [
              0.3333333333333333,
              "#9c179e"
             ],
             [
              0.4444444444444444,
              "#bd3786"
             ],
             [
              0.5555555555555556,
              "#d8576b"
             ],
             [
              0.6666666666666666,
              "#ed7953"
             ],
             [
              0.7777777777777778,
              "#fb9f3a"
             ],
             [
              0.8888888888888888,
              "#fdca26"
             ],
             [
              1,
              "#f0f921"
             ]
            ],
            "type": "histogram2dcontour"
           }
          ],
          "mesh3d": [
           {
            "colorbar": {
             "outlinewidth": 0,
             "ticks": ""
            },
            "type": "mesh3d"
           }
          ],
          "parcoords": [
           {
            "line": {
             "colorbar": {
              "outlinewidth": 0,
              "ticks": ""
             }
            },
            "type": "parcoords"
           }
          ],
          "pie": [
           {
            "automargin": true,
            "type": "pie"
           }
          ],
          "scatter": [
           {
            "marker": {
             "colorbar": {
              "outlinewidth": 0,
              "ticks": ""
             }
            },
            "type": "scatter"
           }
          ],
          "scatter3d": [
           {
            "line": {
             "colorbar": {
              "outlinewidth": 0,
              "ticks": ""
             }
            },
            "marker": {
             "colorbar": {
              "outlinewidth": 0,
              "ticks": ""
             }
            },
            "type": "scatter3d"
           }
          ],
          "scattercarpet": [
           {
            "marker": {
             "colorbar": {
              "outlinewidth": 0,
              "ticks": ""
             }
            },
            "type": "scattercarpet"
           }
          ],
          "scattergeo": [
           {
            "marker": {
             "colorbar": {
              "outlinewidth": 0,
              "ticks": ""
             }
            },
            "type": "scattergeo"
           }
          ],
          "scattergl": [
           {
            "marker": {
             "colorbar": {
              "outlinewidth": 0,
              "ticks": ""
             }
            },
            "type": "scattergl"
           }
          ],
          "scattermapbox": [
           {
            "marker": {
             "colorbar": {
              "outlinewidth": 0,
              "ticks": ""
             }
            },
            "type": "scattermapbox"
           }
          ],
          "scatterpolar": [
           {
            "marker": {
             "colorbar": {
              "outlinewidth": 0,
              "ticks": ""
             }
            },
            "type": "scatterpolar"
           }
          ],
          "scatterpolargl": [
           {
            "marker": {
             "colorbar": {
              "outlinewidth": 0,
              "ticks": ""
             }
            },
            "type": "scatterpolargl"
           }
          ],
          "scatterternary": [
           {
            "marker": {
             "colorbar": {
              "outlinewidth": 0,
              "ticks": ""
             }
            },
            "type": "scatterternary"
           }
          ],
          "surface": [
           {
            "colorbar": {
             "outlinewidth": 0,
             "ticks": ""
            },
            "colorscale": [
             [
              0,
              "#0d0887"
             ],
             [
              0.1111111111111111,
              "#46039f"
             ],
             [
              0.2222222222222222,
              "#7201a8"
             ],
             [
              0.3333333333333333,
              "#9c179e"
             ],
             [
              0.4444444444444444,
              "#bd3786"
             ],
             [
              0.5555555555555556,
              "#d8576b"
             ],
             [
              0.6666666666666666,
              "#ed7953"
             ],
             [
              0.7777777777777778,
              "#fb9f3a"
             ],
             [
              0.8888888888888888,
              "#fdca26"
             ],
             [
              1,
              "#f0f921"
             ]
            ],
            "type": "surface"
           }
          ],
          "table": [
           {
            "cells": {
             "fill": {
              "color": "#EBF0F8"
             },
             "line": {
              "color": "white"
             }
            },
            "header": {
             "fill": {
              "color": "#C8D4E3"
             },
             "line": {
              "color": "white"
             }
            },
            "type": "table"
           }
          ]
         },
         "layout": {
          "annotationdefaults": {
           "arrowcolor": "#2a3f5f",
           "arrowhead": 0,
           "arrowwidth": 1
          },
          "autotypenumbers": "strict",
          "coloraxis": {
           "colorbar": {
            "outlinewidth": 0,
            "ticks": ""
           }
          },
          "colorscale": {
           "diverging": [
            [
             0,
             "#8e0152"
            ],
            [
             0.1,
             "#c51b7d"
            ],
            [
             0.2,
             "#de77ae"
            ],
            [
             0.3,
             "#f1b6da"
            ],
            [
             0.4,
             "#fde0ef"
            ],
            [
             0.5,
             "#f7f7f7"
            ],
            [
             0.6,
             "#e6f5d0"
            ],
            [
             0.7,
             "#b8e186"
            ],
            [
             0.8,
             "#7fbc41"
            ],
            [
             0.9,
             "#4d9221"
            ],
            [
             1,
             "#276419"
            ]
           ],
           "sequential": [
            [
             0,
             "#0d0887"
            ],
            [
             0.1111111111111111,
             "#46039f"
            ],
            [
             0.2222222222222222,
             "#7201a8"
            ],
            [
             0.3333333333333333,
             "#9c179e"
            ],
            [
             0.4444444444444444,
             "#bd3786"
            ],
            [
             0.5555555555555556,
             "#d8576b"
            ],
            [
             0.6666666666666666,
             "#ed7953"
            ],
            [
             0.7777777777777778,
             "#fb9f3a"
            ],
            [
             0.8888888888888888,
             "#fdca26"
            ],
            [
             1,
             "#f0f921"
            ]
           ],
           "sequentialminus": [
            [
             0,
             "#0d0887"
            ],
            [
             0.1111111111111111,
             "#46039f"
            ],
            [
             0.2222222222222222,
             "#7201a8"
            ],
            [
             0.3333333333333333,
             "#9c179e"
            ],
            [
             0.4444444444444444,
             "#bd3786"
            ],
            [
             0.5555555555555556,
             "#d8576b"
            ],
            [
             0.6666666666666666,
             "#ed7953"
            ],
            [
             0.7777777777777778,
             "#fb9f3a"
            ],
            [
             0.8888888888888888,
             "#fdca26"
            ],
            [
             1,
             "#f0f921"
            ]
           ]
          },
          "colorway": [
           "#636efa",
           "#EF553B",
           "#00cc96",
           "#ab63fa",
           "#FFA15A",
           "#19d3f3",
           "#FF6692",
           "#B6E880",
           "#FF97FF",
           "#FECB52"
          ],
          "font": {
           "color": "#2a3f5f"
          },
          "geo": {
           "bgcolor": "white",
           "lakecolor": "white",
           "landcolor": "#E5ECF6",
           "showlakes": true,
           "showland": true,
           "subunitcolor": "white"
          },
          "hoverlabel": {
           "align": "left"
          },
          "hovermode": "closest",
          "mapbox": {
           "style": "light"
          },
          "paper_bgcolor": "white",
          "plot_bgcolor": "#E5ECF6",
          "polar": {
           "angularaxis": {
            "gridcolor": "white",
            "linecolor": "white",
            "ticks": ""
           },
           "bgcolor": "#E5ECF6",
           "radialaxis": {
            "gridcolor": "white",
            "linecolor": "white",
            "ticks": ""
           }
          },
          "scene": {
           "xaxis": {
            "backgroundcolor": "#E5ECF6",
            "gridcolor": "white",
            "gridwidth": 2,
            "linecolor": "white",
            "showbackground": true,
            "ticks": "",
            "zerolinecolor": "white"
           },
           "yaxis": {
            "backgroundcolor": "#E5ECF6",
            "gridcolor": "white",
            "gridwidth": 2,
            "linecolor": "white",
            "showbackground": true,
            "ticks": "",
            "zerolinecolor": "white"
           },
           "zaxis": {
            "backgroundcolor": "#E5ECF6",
            "gridcolor": "white",
            "gridwidth": 2,
            "linecolor": "white",
            "showbackground": true,
            "ticks": "",
            "zerolinecolor": "white"
           }
          },
          "shapedefaults": {
           "line": {
            "color": "#2a3f5f"
           }
          },
          "ternary": {
           "aaxis": {
            "gridcolor": "white",
            "linecolor": "white",
            "ticks": ""
           },
           "baxis": {
            "gridcolor": "white",
            "linecolor": "white",
            "ticks": ""
           },
           "bgcolor": "#E5ECF6",
           "caxis": {
            "gridcolor": "white",
            "linecolor": "white",
            "ticks": ""
           }
          },
          "title": {
           "x": 0.05
          },
          "xaxis": {
           "automargin": true,
           "gridcolor": "white",
           "linecolor": "white",
           "ticks": "",
           "title": {
            "standoff": 15
           },
           "zerolinecolor": "white",
           "zerolinewidth": 2
          },
          "yaxis": {
           "automargin": true,
           "gridcolor": "white",
           "linecolor": "white",
           "ticks": "",
           "title": {
            "standoff": 15
           },
           "zerolinecolor": "white",
           "zerolinewidth": 2
          }
         }
        },
        "title": {
         "font": {
          "color": "#D9D9D9"
         },
         "text": "SPREADPLOT"
        },
        "xaxis": {
         "gridcolor": "#434343",
         "showgrid": true,
         "tickfont": {
          "color": "#C2C2C2"
         },
         "title": {
          "font": {
           "color": "#D9D9D9"
          },
          "text": ""
         },
         "zerolinecolor": "#666570"
        },
        "xaxis2": {
         "anchor": "y2",
         "gridcolor": "#434343",
         "showgrid": true,
         "showticklabels": false,
         "tickfont": {
          "color": "#C2C2C2"
         },
         "title": {
          "font": {
           "color": "#D9D9D9"
          },
          "text": ""
         },
         "zerolinecolor": "#666570"
        },
        "yaxis": {
         "domain": [
          0.3,
          1
         ],
         "gridcolor": "#434343",
         "showgrid": true,
         "tickfont": {
          "color": "#C2C2C2"
         },
         "title": {
          "font": {
           "color": "#D9D9D9"
          },
          "text": ""
         },
         "zerolinecolor": "#666570"
        },
        "yaxis2": {
         "domain": [
          0,
          0.25
         ],
         "gridcolor": "#434343",
         "showgrid": true,
         "tickfont": {
          "color": "#C2C2C2"
         },
         "title": {
          "font": {
           "color": "#D9D9D9"
          },
          "text": "Spread"
         },
         "zerolinecolor": "#666570"
        }
       }
      },
      "text/html": "<div>                            <div id=\"32ac5b0f-211d-40aa-8069-e48d0d16ded6\" class=\"plotly-graph-div\" style=\"height:525px; width:100%;\"></div>            <script type=\"text/javascript\">                require([\"plotly\"], function(Plotly) {                    window.PLOTLYENV=window.PLOTLYENV || {};\n                    window.PLOTLYENV.BASE_URL='https://plot.ly';                                    if (document.getElementById(\"32ac5b0f-211d-40aa-8069-e48d0d16ded6\")) {                    Plotly.newPlot(                        \"32ac5b0f-211d-40aa-8069-e48d0d16ded6\",                        [{\"line\": {\"color\": \"rgba(0, 128, 240, 1.0)\", \"dash\": \"solid\", \"shape\": \"linear\", \"width\": 1.3}, \"mode\": \"lines\", \"name\": \"A\", \"text\": \"\", \"type\": \"scatter\", \"x\": [0, 1, 2, 3, 4, 5, 6, 7, 8, 9, 10, 11, 12, 13, 14, 15, 16, 17, 18, 19, 20, 21, 22, 23, 24, 25, 26, 27, 28, 29, 30, 31, 32, 33, 34, 35, 36, 37, 38, 39, 40, 41, 42, 43, 44, 45, 46, 47, 48, 49, 50, 51, 52, 53, 54, 55, 56, 57, 58, 59, 60, 61, 62, 63, 64, 65, 66, 67, 68, 69, 70, 71, 72, 73, 74, 75, 76, 77, 78, 79, 80, 81, 82, 83, 84, 85, 86, 87, 88, 89, 90, 91, 92, 93, 94, 95, 96, 97, 98, 99], \"y\": [-0.9792515936598923, 0.9598050055042266, 1.2879497854926978, -0.7580525281398575, 0.7395394550550108, 0.17019107169090317, -0.1293765011854134, 0.4456954392361662, 0.13772919772007583, -1.1475557380589023, 0.7148856836266592, 1.4579626985599747, 0.8874119734406709, 0.3072755156395645, 2.0957456279779065, 0.5899177376437668, 1.0364047408183756, 0.7388472871926347, 0.17950427668644467, 0.3680753376522049, 0.1368695577373032, 0.8159967349839087, -0.14844827589627468, 0.9610220648185201, 0.8403045958850671, 0.1539828413327248, -0.22403721645926258, -0.9886846475465637, -0.041097672863380195, -0.20336539740261284, -0.8272592313380914, -0.7377644328272414, 0.6228589278084802, 1.0167861280965602, -2.2412581790082666, -0.18088089665349677, 0.38747162796369533, -0.022976036922044408, -0.376997829574464, 0.12116576151183464, 0.004016022807814205, -1.8023654641354336, -0.8309213004133602, -0.37467942398393506, 0.16749391300381028, 2.157106901960888, 0.26801897806054975, -0.12917654316980617, -1.1921864240944327, 1.6144706272625435, 0.44154651927524047, -1.5248455068331284, -1.379729809199886, -0.3071048272960799, 0.11873027241721576, -0.18440988283347878, -1.5364079402765836, -1.7659951853905054, -1.1925247660678762, -0.3719050473318741, 0.9116004418673352, -1.2893901771054779, 0.3494224192856916, 0.12384105919512163, -0.2853887638156255, -0.05477890823051662, -0.13339681427823635, 0.002483580579456353, 0.6483924643575026, -1.7744604454121766, 0.051018691708484755, -0.20831087775659465, 1.2036245135778298, 0.37460006318208516, -0.007357554347866323, 0.5125991262014535, 0.0024173923945399363, -0.8563025126597791, -0.7617603492153533, -1.792629772347877, 0.360765760598241, -0.7718682940507207, 1.6886536550319722, 1.194024448998109, -0.417875534770027, 2.122611684514379, -0.20455142051435, -1.3193963771012482, -1.7879804873841585, 0.4066145570917323, 1.434386069614315, -0.5881888567526482, -1.2337031790890676, -0.7429661704558083, 0.0566414277132115, -1.2378557179328697, -0.43038873430261276, -2.5320354376990766, 0.7598237879841848, 0.48412359488350337]}, {\"line\": {\"color\": \"rgba(238, 118, 0, 1.0)\", \"dash\": \"solid\", \"shape\": \"linear\", \"width\": 1.3}, \"mode\": \"lines\", \"name\": \"B\", \"text\": \"\", \"type\": \"scatter\", \"x\": [0, 1, 2, 3, 4, 5, 6, 7, 8, 9, 10, 11, 12, 13, 14, 15, 16, 17, 18, 19, 20, 21, 22, 23, 24, 25, 26, 27, 28, 29, 30, 31, 32, 33, 34, 35, 36, 37, 38, 39, 40, 41, 42, 43, 44, 45, 46, 47, 48, 49, 50, 51, 52, 53, 54, 55, 56, 57, 58, 59, 60, 61, 62, 63, 64, 65, 66, 67, 68, 69, 70, 71, 72, 73, 74, 75, 76, 77, 78, 79, 80, 81, 82, 83, 84, 85, 86, 87, 88, 89, 90, 91, 92, 93, 94, 95, 96, 97, 98, 99], \"y\": [-0.0033035822899469052, 0.3142449677503647, -1.504523021926638, 1.0044432988561958, -0.3786281864931309, 1.6221183698918318, -0.6833666110514979, -0.09085898589503208, 0.4183024142850112, 0.1599510285795126, 0.4983380417069129, -2.38735035273387, -0.17484722770594668, -0.7024036572296523, -0.2377817653329279, 1.0463693206953972, -1.206970761077781, -0.27926473845743927, 0.024497475622231084, 0.07215395894711478, 0.8060503759899023, -0.10523700135619246, 0.4892495322097234, -1.6211612465614205, -0.9413730510682876, 0.5618878755989775, 1.148898697209982, -0.8603059741609684, -0.2545352736983566, 0.3221749143716371, 0.8184090970176358, 0.603400860775381, 0.29148084806096053, 1.2197382793191827, -0.11597682125807925, -0.993512699913698, 0.6287345083305073, -0.23713521257102554, -0.3097494760631051, -0.5890817405505082, -1.1603607004584577, 0.9875973705562235, -0.063031992142952, 0.5528356056102148, 0.9943802775983782, 1.5885704578261726, -0.9751179842350768, 0.6218820952952601, -2.0323297593875838, -0.5484199829062123, -0.12137817399783384, -1.2309977016776752, -0.9313693797491154, 0.2663840238711808, -1.6717292793656437, -0.4542443768926661, -0.2721841210031825, -2.536542463070985, 0.4847118496688762, -2.1214691330865127, -1.1620826355082072, -0.048986563425723995, -1.2645433415566478, 1.9997478527752839, 1.166476246332891, -3.103425838335752, -1.4438539094973724, 1.5718043608392394, -0.7335294160030932, -1.197965786647293, 1.0722513065522665, -0.7826362934224473, -0.49820503134543775, 1.5716627803037155, -0.005317290143883737, -0.3593653166820716, 1.5597095911561978, 1.0503815987596175, 0.3441039774821109, -0.04974121712467084, 0.008170229384752613, -0.9709058136802701, 2.417034408248457, -1.2124867561742774, 0.6046417869674267, -0.3585076795507522, 0.06705171160120478, 1.4546189083140886, -0.42913586866418607, -0.707992549805246, -2.096983049597022, 0.038373856459275275, 0.6579882416462015, 2.2386147056613295, -0.6608003396245523, -0.9953483586408077, 0.43580220111517376, -0.5404418613480602, 3.3467118532442397, 0.34927520878526047]}, {\"line\": {\"color\": \"rgba(48, 144, 84, 1.0)\", \"dash\": \"solid\", \"shape\": \"linear\", \"width\": 1.3}, \"mode\": \"lines\", \"name\": \"C\", \"text\": \"\", \"type\": \"scatter\", \"x\": [0, 1, 2, 3, 4, 5, 6, 7, 8, 9, 10, 11, 12, 13, 14, 15, 16, 17, 18, 19, 20, 21, 22, 23, 24, 25, 26, 27, 28, 29, 30, 31, 32, 33, 34, 35, 36, 37, 38, 39, 40, 41, 42, 43, 44, 45, 46, 47, 48, 49, 50, 51, 52, 53, 54, 55, 56, 57, 58, 59, 60, 61, 62, 63, 64, 65, 66, 67, 68, 69, 70, 71, 72, 73, 74, 75, 76, 77, 78, 79, 80, 81, 82, 83, 84, 85, 86, 87, 88, 89, 90, 91, 92, 93, 94, 95, 96, 97, 98, 99], \"y\": [-1.029169055522879, -0.6255978007913707, 1.0417982196879223, 2.2449486385713384, -0.6795945775053402, 0.14631255858470052, 0.3731668746960911, 0.4124420330489584, 1.5113484075983132, 0.5920468325658576, 0.2793855445424416, -0.29619014153343065, 2.3727187380412276, -0.6841365657268245, 0.49440394600584864, 0.6388836557479353, 0.21519353566892171, 0.08067736888339132, 1.355625354020415, -0.348654489687168, -0.4947196965310076, -0.3582819911117431, 0.8482378687717445, -0.7550696581956536, 0.09628928497248218, 0.3694001280085396, 1.7522158422386362, 0.24728003851561672, 1.4320945076126141, 0.38078115390777206, 0.49485054834994746, 0.10834747534480808, 0.40440051019822765, 0.46318804403090136, 0.8498937327069608, 0.30823700591443287, -0.16957495168143608, 1.4656183402677774, -0.2756627766669359, -1.558366156240104, -1.44390954708868, -0.5051680953931286, 0.27620048996716984, -1.8343779836571938, -0.32566386109769674, -0.5377091427902171, -0.8793316602002474, -0.13730101188128274, 0.4739117707913685, 1.9456675653065694, -0.34549575735322996, 0.9720333799605246, -0.26228104507380334, -0.5714395653881361, 0.14502575276461074, -1.8641784872791407, 0.8869491501534156, 1.5217251811022767, 1.3921339746257404, 1.1907950182465863, -1.3679269183388134, -0.42830897316735944, 0.16752652136906077, -0.822993733943916, 0.032639710581331624, -1.7353173585494512, 1.3006424924535107, -2.658447080801197, -0.7260667522978758, -1.346559369571314, 1.2100767873230984, 0.14199042718703583, 1.3810124437891032, 0.17475647805393424, -0.7973890264270153, 0.5809185216045772, -0.3885903405071358, 0.10406688806814304, 1.370396070389675, -0.23398496826648119, -0.29001376284099223, -0.28707110106581923, 0.25979132952928025, -0.1617035485251935, -0.6720898907014572, 0.7962255499025633, -0.6948156806562187, 0.9390569733955219, 1.8104513153386503, 0.5111732025237625, -0.7447934329773587, -0.36545521090245675, 0.12658057977115625, -1.1224377540795116, 0.23315136938347406, -0.3592208292662069, -0.3149408561046429, 0.7604586976536822, 0.8599817036861749, -2.121030951423784]}, {\"line\": {\"color\": \"rgba(98, 98, 222, 1.0)\", \"dash\": \"solid\", \"shape\": \"linear\", \"width\": 1.3}, \"mode\": \"lines\", \"name\": \"D\", \"text\": \"\", \"type\": \"scatter\", \"x\": [0, 1, 2, 3, 4, 5, 6, 7, 8, 9, 10, 11, 12, 13, 14, 15, 16, 17, 18, 19, 20, 21, 22, 23, 24, 25, 26, 27, 28, 29, 30, 31, 32, 33, 34, 35, 36, 37, 38, 39, 40, 41, 42, 43, 44, 45, 46, 47, 48, 49, 50, 51, 52, 53, 54, 55, 56, 57, 58, 59, 60, 61, 62, 63, 64, 65, 66, 67, 68, 69, 70, 71, 72, 73, 74, 75, 76, 77, 78, 79, 80, 81, 82, 83, 84, 85, 86, 87, 88, 89, 90, 91, 92, 93, 94, 95, 96, 97, 98, 99], \"y\": [-0.46308053517921177, -0.22893297382440694, 0.28152771977670005, 0.841148244630791, 0.09335388118504882, 0.09404129945671476, -0.27604509647678394, -1.4149534857065915, 0.6303783847458049, 1.0140454768881473, 0.6247341776241347, 0.3462567203067475, 0.06618476657523857, 0.22304990357635202, -0.7104729965870029, -0.36754819414362006, 0.7527370093648587, 0.4243521358588527, -0.313879559965402, 0.44453194663906453, -1.2215088401885823, 0.5313535901603273, -1.136436468522623, -0.33583843750714953, 0.695915250472006, -2.035088399463051, 2.007662253559875, 0.3019128256963567, -0.18113684687278164, 1.8911687280243084, 0.7572630803852446, -0.43219425771863185, 0.2682190866781442, 0.9638038961270988, 0.38196860184494996, -0.904240690441337, 0.9257726882611239, -3.089622695862602, 0.022160723350371093, 0.15890271523422386, 1.2072376116298225, 0.036906673259497653, 1.9325182083788126, -2.65838624213967, 1.33374362812293, -0.3002915926433879, -2.3339029672320337, 0.4283179292567376, 0.3920197131247837, 1.0578439219875122, -1.2286183490049214, -0.42118880033063083, 0.18221735978592854, 0.7783483420916925, -1.1631454183180807, 0.3409532835134661, -0.175860025671226, 2.600067786231678, 0.1424405264085281, 0.6378341507289481, -0.7911396934565847, 0.2970410528515773, -0.36757856712825604, 0.001891577602284555, -0.9533757506556024, -1.5265124105099575, 0.14141110796393855, 3.6126504926656198, -0.4083508444949703, -1.3866183439117674, 0.6146431833929709, -1.1797204483467447, -0.17626909828622517, -0.8315102988033132, -1.0629729405783421, 0.6165434831247598, 2.4710912898514956, -0.5136104215624592, -1.2833494881724943, -0.19740622984239123, -0.28292641821742964, -0.17332004636855022, -0.8472778358004164, -1.5638430808706032, -0.12651593497479413, 0.5196255513517741, 1.6550631354033751, -0.4268727901892978, 1.0780805010140389, 1.394028416980079, -0.27892950008419176, -0.42372865324865777, -0.0035800875407494483, -0.3109767884032559, -0.6928666677078057, -0.96026887219562, -0.17067052996934515, -0.8291957027802563, -1.872451022659089, 0.4529640052721673]}, {\"connectgaps\": false, \"fill\": \"tozeroy\", \"line\": {\"color\": \"green\", \"dash\": \"solid\", \"shape\": \"linear\", \"width\": 0.5}, \"mode\": \"lines\", \"name\": \"Spread\", \"showlegend\": false, \"type\": \"scatter\", \"x\": [0, 1, 2, 3, 4, 5, 6, 7, 8, 9, 10, 11, 12, 13, 14, 15, 16, 17, 18, 19, 20, 21, 22, 23, 24, 25, 26, 27, 28, 29, 30, 31, 32, 33, 34, 35, 36, 37, 38, 39, 40, 41, 42, 43, 44, 45, 46, 47, 48, 49, 50, 51, 52, 53, 54, 55, 56, 57, 58, 59, 60, 61, 62, 63, 64, 65, 66, 67, 68, 69, 70, 71, 72, 73, 74, 75, 76, 77, 78, 79, 80, 81, 82, 83, 84, 85, 86, 87, 88, 89, 90, 91, 92, 93, 94, 95, 96, 97, 98, 99], \"xaxis\": \"x2\", \"y\": [\"\", 0.645560037753862, 2.792472807419336, \"\", 1.1181676415481419, \"\", 0.5539901098660844, 0.5365544251311983, \"\", \"\", 0.21654764191974624, 3.8453130512938447, 1.0622592011466176, 1.0096791728692167, 2.3335273933108343, \"\", 2.2433755018961565, 1.018112025650074, 0.15500680106421358, 0.2959213787050901, \"\", 0.9212337363401011, \"\", 2.5821833113799406, 1.7816776469533546, \"\", \"\", \"\", 0.2134376008349764, \"\", \"\", \"\", 0.33137807974751965, \"\", \"\", 0.8126318032602011, \"\", 0.21415917564898113, \"\", 0.7102475020623429, 1.1643767232662718, \"\", \"\", \"\", \"\", 0.5685364441347154, 1.2431369622956265, \"\", 0.8401433352931511, 2.162890610168756, 0.5629246932730743, \"\", \"\", \"\", 1.7904595517828594, 0.26983449405918736, \"\", 0.7705472776804796, \"\", 1.7495640857546386, 2.0736830773755424, \"\", 1.6139657608423394, \"\", \"\", 3.0486469301052352, 1.3104570952191361, \"\", 1.3819218803605957, \"\", \"\", 0.5743254156658527, 1.7018295449232677, \"\", \"\", 0.8719644428835251, \"\", \"\", \"\", \"\", 0.3525955312134884, 0.1990375196295494, \"\", 2.4065112051723863, \"\", 2.481119364065131, \"\", \"\", \"\", 1.1146071068969783, 3.5313691192113366, \"\", \"\", \"\", 0.7174417673377638, \"\", \"\", \"\", \"\", 0.1348483860982429], \"yaxis\": \"y2\"}, {\"connectgaps\": false, \"fill\": \"tozeroy\", \"line\": {\"color\": \"red\", \"dash\": \"solid\", \"shape\": \"linear\", \"width\": 0.5}, \"mode\": \"lines\", \"name\": \"Spread\", \"showlegend\": false, \"type\": \"scatter\", \"x\": [0, 1, 2, 3, 4, 5, 6, 7, 8, 9, 10, 11, 12, 13, 14, 15, 16, 17, 18, 19, 20, 21, 22, 23, 24, 25, 26, 27, 28, 29, 30, 31, 32, 33, 34, 35, 36, 37, 38, 39, 40, 41, 42, 43, 44, 45, 46, 47, 48, 49, 50, 51, 52, 53, 54, 55, 56, 57, 58, 59, 60, 61, 62, 63, 64, 65, 66, 67, 68, 69, 70, 71, 72, 73, 74, 75, 76, 77, 78, 79, 80, 81, 82, 83, 84, 85, 86, 87, 88, 89, 90, 91, 92, 93, 94, 95, 96, 97, 98, 99], \"xaxis\": \"x2\", \"y\": [-0.9759480113699455, \"\", \"\", -1.7624958269960533, \"\", -1.4519272982009286, \"\", \"\", -0.2805732165649354, -1.307506766638415, \"\", \"\", \"\", \"\", \"\", -0.45645158305163047, \"\", \"\", \"\", \"\", -0.6691808182525991, \"\", -0.6376978081059981, \"\", \"\", -0.4079050342662527, -1.3729359136692445, -0.12837867338559528, \"\", -0.5255403117742499, -1.6456683283557272, -1.3411652936026224, \"\", -0.20295215122262245, -2.1252813577501874, \"\", -0.24126288036681193, \"\", -0.06724835351135888, \"\", \"\", -2.789962834691657, -0.7678893082704082, -0.9275150295941499, -0.8268863645945679, \"\", \"\", -0.7510586384650663, \"\", \"\", \"\", -0.29384780515545317, -0.4483604294507706, -0.5734888511672607, \"\", \"\", -1.264223819273401, \"\", -1.6772366157367524, \"\", \"\", -1.2404036136797538, \"\", -1.8759067935801623, -1.4518650101485164, \"\", \"\", -1.569320780259783, \"\", -0.5764946587648836, -1.0212326148437818, \"\", \"\", -1.1970627171216304, -0.002040264203982586, \"\", -1.557292198761658, -1.9066841114193966, -1.1058643266974642, -1.742888555223206, \"\", \"\", -0.7283807532164848, \"\", -1.0225173217374537, \"\", -0.27160313211555476, -2.774015285415337, -1.3588446187199725, \"\", \"\", -0.6265627132119235, -1.891691420735269, -2.9815808761171376, \"\", -0.24250735929206202, -0.8661909354177866, -1.9915935763510164, -2.5868880652600548, \"\"], \"yaxis\": \"y2\"}],                        {\"hovermode\": \"x\", \"legend\": {\"bgcolor\": \"#1A1A1C\", \"font\": {\"color\": \"#D9D9D9\"}}, \"paper_bgcolor\": \"#1A1A1C\", \"plot_bgcolor\": \"#1A1A1C\", \"template\": {\"data\": {\"bar\": [{\"error_x\": {\"color\": \"#2a3f5f\"}, \"error_y\": {\"color\": \"#2a3f5f\"}, \"marker\": {\"line\": {\"color\": \"#E5ECF6\", \"width\": 0.5}}, \"type\": \"bar\"}], \"barpolar\": [{\"marker\": {\"line\": {\"color\": \"#E5ECF6\", \"width\": 0.5}}, \"type\": \"barpolar\"}], \"carpet\": [{\"aaxis\": {\"endlinecolor\": \"#2a3f5f\", \"gridcolor\": \"white\", \"linecolor\": \"white\", \"minorgridcolor\": \"white\", \"startlinecolor\": \"#2a3f5f\"}, \"baxis\": {\"endlinecolor\": \"#2a3f5f\", \"gridcolor\": \"white\", \"linecolor\": \"white\", \"minorgridcolor\": \"white\", \"startlinecolor\": \"#2a3f5f\"}, \"type\": \"carpet\"}], \"choropleth\": [{\"colorbar\": {\"outlinewidth\": 0, \"ticks\": \"\"}, \"type\": \"choropleth\"}], \"contour\": [{\"colorbar\": {\"outlinewidth\": 0, \"ticks\": \"\"}, \"colorscale\": [[0.0, \"#0d0887\"], [0.1111111111111111, \"#46039f\"], [0.2222222222222222, \"#7201a8\"], [0.3333333333333333, \"#9c179e\"], [0.4444444444444444, \"#bd3786\"], [0.5555555555555556, \"#d8576b\"], [0.6666666666666666, \"#ed7953\"], [0.7777777777777778, \"#fb9f3a\"], [0.8888888888888888, \"#fdca26\"], [1.0, \"#f0f921\"]], \"type\": \"contour\"}], \"contourcarpet\": [{\"colorbar\": {\"outlinewidth\": 0, \"ticks\": \"\"}, \"type\": \"contourcarpet\"}], \"heatmap\": [{\"colorbar\": {\"outlinewidth\": 0, \"ticks\": \"\"}, \"colorscale\": [[0.0, \"#0d0887\"], [0.1111111111111111, \"#46039f\"], [0.2222222222222222, \"#7201a8\"], [0.3333333333333333, \"#9c179e\"], [0.4444444444444444, \"#bd3786\"], [0.5555555555555556, \"#d8576b\"], [0.6666666666666666, \"#ed7953\"], [0.7777777777777778, \"#fb9f3a\"], [0.8888888888888888, \"#fdca26\"], [1.0, \"#f0f921\"]], \"type\": \"heatmap\"}], \"heatmapgl\": [{\"colorbar\": {\"outlinewidth\": 0, \"ticks\": \"\"}, \"colorscale\": [[0.0, \"#0d0887\"], [0.1111111111111111, \"#46039f\"], [0.2222222222222222, \"#7201a8\"], [0.3333333333333333, \"#9c179e\"], [0.4444444444444444, \"#bd3786\"], [0.5555555555555556, \"#d8576b\"], [0.6666666666666666, \"#ed7953\"], [0.7777777777777778, \"#fb9f3a\"], [0.8888888888888888, \"#fdca26\"], [1.0, \"#f0f921\"]], \"type\": \"heatmapgl\"}], \"histogram\": [{\"marker\": {\"colorbar\": {\"outlinewidth\": 0, \"ticks\": \"\"}}, \"type\": \"histogram\"}], \"histogram2d\": [{\"colorbar\": {\"outlinewidth\": 0, \"ticks\": \"\"}, \"colorscale\": [[0.0, \"#0d0887\"], [0.1111111111111111, \"#46039f\"], [0.2222222222222222, \"#7201a8\"], [0.3333333333333333, \"#9c179e\"], [0.4444444444444444, \"#bd3786\"], [0.5555555555555556, \"#d8576b\"], [0.6666666666666666, \"#ed7953\"], [0.7777777777777778, \"#fb9f3a\"], [0.8888888888888888, \"#fdca26\"], [1.0, \"#f0f921\"]], \"type\": \"histogram2d\"}], \"histogram2dcontour\": [{\"colorbar\": {\"outlinewidth\": 0, \"ticks\": \"\"}, \"colorscale\": [[0.0, \"#0d0887\"], [0.1111111111111111, \"#46039f\"], [0.2222222222222222, \"#7201a8\"], [0.3333333333333333, \"#9c179e\"], [0.4444444444444444, \"#bd3786\"], [0.5555555555555556, \"#d8576b\"], [0.6666666666666666, \"#ed7953\"], [0.7777777777777778, \"#fb9f3a\"], [0.8888888888888888, \"#fdca26\"], [1.0, \"#f0f921\"]], \"type\": \"histogram2dcontour\"}], \"mesh3d\": [{\"colorbar\": {\"outlinewidth\": 0, \"ticks\": \"\"}, \"type\": \"mesh3d\"}], \"parcoords\": [{\"line\": {\"colorbar\": {\"outlinewidth\": 0, \"ticks\": \"\"}}, \"type\": \"parcoords\"}], \"pie\": [{\"automargin\": true, \"type\": \"pie\"}], \"scatter\": [{\"marker\": {\"colorbar\": {\"outlinewidth\": 0, \"ticks\": \"\"}}, \"type\": \"scatter\"}], \"scatter3d\": [{\"line\": {\"colorbar\": {\"outlinewidth\": 0, \"ticks\": \"\"}}, \"marker\": {\"colorbar\": {\"outlinewidth\": 0, \"ticks\": \"\"}}, \"type\": \"scatter3d\"}], \"scattercarpet\": [{\"marker\": {\"colorbar\": {\"outlinewidth\": 0, \"ticks\": \"\"}}, \"type\": \"scattercarpet\"}], \"scattergeo\": [{\"marker\": {\"colorbar\": {\"outlinewidth\": 0, \"ticks\": \"\"}}, \"type\": \"scattergeo\"}], \"scattergl\": [{\"marker\": {\"colorbar\": {\"outlinewidth\": 0, \"ticks\": \"\"}}, \"type\": \"scattergl\"}], \"scattermapbox\": [{\"marker\": {\"colorbar\": {\"outlinewidth\": 0, \"ticks\": \"\"}}, \"type\": \"scattermapbox\"}], \"scatterpolar\": [{\"marker\": {\"colorbar\": {\"outlinewidth\": 0, \"ticks\": \"\"}}, \"type\": \"scatterpolar\"}], \"scatterpolargl\": [{\"marker\": {\"colorbar\": {\"outlinewidth\": 0, \"ticks\": \"\"}}, \"type\": \"scatterpolargl\"}], \"scatterternary\": [{\"marker\": {\"colorbar\": {\"outlinewidth\": 0, \"ticks\": \"\"}}, \"type\": \"scatterternary\"}], \"surface\": [{\"colorbar\": {\"outlinewidth\": 0, \"ticks\": \"\"}, \"colorscale\": [[0.0, \"#0d0887\"], [0.1111111111111111, \"#46039f\"], [0.2222222222222222, \"#7201a8\"], [0.3333333333333333, \"#9c179e\"], [0.4444444444444444, \"#bd3786\"], [0.5555555555555556, \"#d8576b\"], [0.6666666666666666, \"#ed7953\"], [0.7777777777777778, \"#fb9f3a\"], [0.8888888888888888, \"#fdca26\"], [1.0, \"#f0f921\"]], \"type\": \"surface\"}], \"table\": [{\"cells\": {\"fill\": {\"color\": \"#EBF0F8\"}, \"line\": {\"color\": \"white\"}}, \"header\": {\"fill\": {\"color\": \"#C8D4E3\"}, \"line\": {\"color\": \"white\"}}, \"type\": \"table\"}]}, \"layout\": {\"annotationdefaults\": {\"arrowcolor\": \"#2a3f5f\", \"arrowhead\": 0, \"arrowwidth\": 1}, \"autotypenumbers\": \"strict\", \"coloraxis\": {\"colorbar\": {\"outlinewidth\": 0, \"ticks\": \"\"}}, \"colorscale\": {\"diverging\": [[0, \"#8e0152\"], [0.1, \"#c51b7d\"], [0.2, \"#de77ae\"], [0.3, \"#f1b6da\"], [0.4, \"#fde0ef\"], [0.5, \"#f7f7f7\"], [0.6, \"#e6f5d0\"], [0.7, \"#b8e186\"], [0.8, \"#7fbc41\"], [0.9, \"#4d9221\"], [1, \"#276419\"]], \"sequential\": [[0.0, \"#0d0887\"], [0.1111111111111111, \"#46039f\"], [0.2222222222222222, \"#7201a8\"], [0.3333333333333333, \"#9c179e\"], [0.4444444444444444, \"#bd3786\"], [0.5555555555555556, \"#d8576b\"], [0.6666666666666666, \"#ed7953\"], [0.7777777777777778, \"#fb9f3a\"], [0.8888888888888888, \"#fdca26\"], [1.0, \"#f0f921\"]], \"sequentialminus\": [[0.0, \"#0d0887\"], [0.1111111111111111, \"#46039f\"], [0.2222222222222222, \"#7201a8\"], [0.3333333333333333, \"#9c179e\"], [0.4444444444444444, \"#bd3786\"], [0.5555555555555556, \"#d8576b\"], [0.6666666666666666, \"#ed7953\"], [0.7777777777777778, \"#fb9f3a\"], [0.8888888888888888, \"#fdca26\"], [1.0, \"#f0f921\"]]}, \"colorway\": [\"#636efa\", \"#EF553B\", \"#00cc96\", \"#ab63fa\", \"#FFA15A\", \"#19d3f3\", \"#FF6692\", \"#B6E880\", \"#FF97FF\", \"#FECB52\"], \"font\": {\"color\": \"#2a3f5f\"}, \"geo\": {\"bgcolor\": \"white\", \"lakecolor\": \"white\", \"landcolor\": \"#E5ECF6\", \"showlakes\": true, \"showland\": true, \"subunitcolor\": \"white\"}, \"hoverlabel\": {\"align\": \"left\"}, \"hovermode\": \"closest\", \"mapbox\": {\"style\": \"light\"}, \"paper_bgcolor\": \"white\", \"plot_bgcolor\": \"#E5ECF6\", \"polar\": {\"angularaxis\": {\"gridcolor\": \"white\", \"linecolor\": \"white\", \"ticks\": \"\"}, \"bgcolor\": \"#E5ECF6\", \"radialaxis\": {\"gridcolor\": \"white\", \"linecolor\": \"white\", \"ticks\": \"\"}}, \"scene\": {\"xaxis\": {\"backgroundcolor\": \"#E5ECF6\", \"gridcolor\": \"white\", \"gridwidth\": 2, \"linecolor\": \"white\", \"showbackground\": true, \"ticks\": \"\", \"zerolinecolor\": \"white\"}, \"yaxis\": {\"backgroundcolor\": \"#E5ECF6\", \"gridcolor\": \"white\", \"gridwidth\": 2, \"linecolor\": \"white\", \"showbackground\": true, \"ticks\": \"\", \"zerolinecolor\": \"white\"}, \"zaxis\": {\"backgroundcolor\": \"#E5ECF6\", \"gridcolor\": \"white\", \"gridwidth\": 2, \"linecolor\": \"white\", \"showbackground\": true, \"ticks\": \"\", \"zerolinecolor\": \"white\"}}, \"shapedefaults\": {\"line\": {\"color\": \"#2a3f5f\"}}, \"ternary\": {\"aaxis\": {\"gridcolor\": \"white\", \"linecolor\": \"white\", \"ticks\": \"\"}, \"baxis\": {\"gridcolor\": \"white\", \"linecolor\": \"white\", \"ticks\": \"\"}, \"bgcolor\": \"#E5ECF6\", \"caxis\": {\"gridcolor\": \"white\", \"linecolor\": \"white\", \"ticks\": \"\"}}, \"title\": {\"x\": 0.05}, \"xaxis\": {\"automargin\": true, \"gridcolor\": \"white\", \"linecolor\": \"white\", \"ticks\": \"\", \"title\": {\"standoff\": 15}, \"zerolinecolor\": \"white\", \"zerolinewidth\": 2}, \"yaxis\": {\"automargin\": true, \"gridcolor\": \"white\", \"linecolor\": \"white\", \"ticks\": \"\", \"title\": {\"standoff\": 15}, \"zerolinecolor\": \"white\", \"zerolinewidth\": 2}}}, \"title\": {\"font\": {\"color\": \"#D9D9D9\"}, \"text\": \"SPREADPLOT\"}, \"xaxis\": {\"gridcolor\": \"#434343\", \"showgrid\": true, \"tickfont\": {\"color\": \"#C2C2C2\"}, \"title\": {\"font\": {\"color\": \"#D9D9D9\"}, \"text\": \"\"}, \"zerolinecolor\": \"#666570\"}, \"xaxis2\": {\"anchor\": \"y2\", \"gridcolor\": \"#434343\", \"showgrid\": true, \"showticklabels\": false, \"tickfont\": {\"color\": \"#C2C2C2\"}, \"title\": {\"font\": {\"color\": \"#D9D9D9\"}, \"text\": \"\"}, \"zerolinecolor\": \"#666570\"}, \"yaxis\": {\"domain\": [0.3, 1], \"gridcolor\": \"#434343\", \"showgrid\": true, \"tickfont\": {\"color\": \"#C2C2C2\"}, \"title\": {\"font\": {\"color\": \"#D9D9D9\"}, \"text\": \"\"}, \"zerolinecolor\": \"#666570\"}, \"yaxis2\": {\"domain\": [0, 0.25], \"gridcolor\": \"#434343\", \"showgrid\": true, \"tickfont\": {\"color\": \"#C2C2C2\"}, \"title\": {\"font\": {\"color\": \"#D9D9D9\"}, \"text\": \"Spread\"}, \"zerolinecolor\": \"#666570\"}},                        {\"showLink\": true, \"linkText\": \"Export to plot.ly\", \"plotlyServerURL\": \"https://plot.ly\", \"responsive\": true}                    ).then(function(){\n                            \nvar gd = document.getElementById('32ac5b0f-211d-40aa-8069-e48d0d16ded6');\nvar x = new MutationObserver(function (mutations, observer) {{\n        var display = window.getComputedStyle(gd).display;\n        if (!display || display === 'none') {{\n            console.log([gd, 'removed!']);\n            Plotly.purge(gd);\n            observer.disconnect();\n        }}\n}});\n\n// Listen for the removal of the full notebook cells\nvar notebookContainer = gd.closest('#notebook-container');\nif (notebookContainer) {{\n    x.observe(notebookContainer, {childList: true});\n}}\n\n// Listen for the clearing of the current output cell\nvar outputEl = gd.closest('.output');\nif (outputEl) {{\n    x.observe(outputEl, {childList: true});\n}}\n\n                        })                };                });            </script>        </div>"
     },
     "metadata": {}
    }
   ],
   "source": [
    "df.iplot(kind='spread', theme='space', colorscale= 'polar', title= 'SPREADPLOT')\n",
    "# if we want just A and B, we can turn off in the plot as well\n",
    "# or df[['A','B']].iplot(kind='spread', theme='space', colorscale= 'polar')"
   ]
  },
  {
   "source": [
    "*8. bubbleplot*\n",
    "\n",
    "This is very similar to scatterplot except that it wil change size of the points based off of another variable"
   ],
   "cell_type": "markdown",
   "metadata": {}
  },
  {
   "cell_type": "code",
   "execution_count": 229,
   "metadata": {},
   "outputs": [
    {
     "output_type": "display_data",
     "data": {
      "application/vnd.plotly.v1+json": {
       "config": {
        "linkText": "Export to plot.ly",
        "plotlyServerURL": "https://plot.ly",
        "showLink": true
       },
       "data": [
        {
         "marker": {
          "color": [
           "blue",
           "blue",
           "blue",
           "blue",
           "blue",
           "blue",
           "blue",
           "blue",
           "blue",
           "blue",
           "blue",
           "blue",
           "blue",
           "blue",
           "blue",
           "blue",
           "blue",
           "blue",
           "blue",
           "blue",
           "blue",
           "blue",
           "blue",
           "blue",
           "blue",
           "blue",
           "blue",
           "blue",
           "blue",
           "blue",
           "blue",
           "blue",
           "blue",
           "blue",
           "blue",
           "blue",
           "blue",
           "blue",
           "blue",
           "blue",
           "blue",
           "blue",
           "blue",
           "blue",
           "blue",
           "blue",
           "blue",
           "blue",
           "blue",
           "blue",
           "blue",
           "blue",
           "blue",
           "blue",
           "blue",
           "blue",
           "blue",
           "blue",
           "blue",
           "blue",
           "blue",
           "blue",
           "blue",
           "blue",
           "blue",
           "blue",
           "blue",
           "blue",
           "blue",
           "blue",
           "blue",
           "blue",
           "blue",
           "blue",
           "blue",
           "blue",
           "blue",
           "blue",
           "blue",
           "blue",
           "blue",
           "blue",
           "blue",
           "blue",
           "blue",
           "blue",
           "blue",
           "blue",
           "blue",
           "blue",
           "blue",
           "blue",
           "blue",
           "blue",
           "blue",
           "blue",
           "blue",
           "blue",
           "blue",
           "blue"
          ],
          "line": {
           "width": 1.3
          },
          "size": [
           44,
           52,
           85,
           109,
           51,
           67,
           72,
           73,
           94,
           76,
           70,
           58,
           112,
           51,
           74,
           77,
           69,
           66,
           91,
           57,
           55,
           57,
           81,
           49,
           66,
           72,
           99,
           69,
           93,
           72,
           74,
           66,
           72,
           74,
           81,
           70,
           61,
           93,
           59,
           33,
           36,
           54,
           70,
           28,
           58,
           54,
           47,
           62,
           74,
           103,
           57,
           84,
           59,
           53,
           67,
           27,
           82,
           95,
           92,
           88,
           37,
           56,
           68,
           48,
           65,
           30,
           90,
           12,
           50,
           38,
           88,
           67,
           92,
           68,
           48,
           76,
           57,
           66,
           92,
           60,
           59,
           59,
           70,
           61,
           51,
           80,
           51,
           83,
           100,
           74,
           50,
           57,
           67,
           42,
           69,
           57,
           58,
           79,
           81,
           22
          ],
          "symbol": "circle"
         },
         "mode": "markers",
         "text": "",
         "type": "scatter",
         "x": [
          -0.9792515936598923,
          0.9598050055042266,
          1.2879497854926978,
          -0.7580525281398575,
          0.7395394550550108,
          0.17019107169090317,
          -0.1293765011854134,
          0.4456954392361662,
          0.13772919772007583,
          -1.1475557380589023,
          0.7148856836266592,
          1.4579626985599747,
          0.8874119734406709,
          0.3072755156395645,
          2.0957456279779065,
          0.5899177376437668,
          1.0364047408183756,
          0.7388472871926347,
          0.17950427668644467,
          0.3680753376522049,
          0.1368695577373032,
          0.8159967349839087,
          -0.14844827589627468,
          0.9610220648185201,
          0.8403045958850671,
          0.1539828413327248,
          -0.22403721645926258,
          -0.9886846475465637,
          -0.041097672863380195,
          -0.20336539740261284,
          -0.8272592313380914,
          -0.7377644328272414,
          0.6228589278084802,
          1.0167861280965602,
          -2.2412581790082666,
          -0.18088089665349677,
          0.38747162796369533,
          -0.022976036922044408,
          -0.376997829574464,
          0.12116576151183464,
          0.004016022807814205,
          -1.8023654641354336,
          -0.8309213004133602,
          -0.37467942398393506,
          0.16749391300381028,
          2.157106901960888,
          0.26801897806054975,
          -0.12917654316980617,
          -1.1921864240944327,
          1.6144706272625435,
          0.44154651927524047,
          -1.5248455068331284,
          -1.379729809199886,
          -0.3071048272960799,
          0.11873027241721576,
          -0.18440988283347878,
          -1.5364079402765836,
          -1.7659951853905054,
          -1.1925247660678762,
          -0.3719050473318741,
          0.9116004418673352,
          -1.2893901771054779,
          0.3494224192856916,
          0.12384105919512163,
          -0.2853887638156255,
          -0.05477890823051662,
          -0.13339681427823635,
          0.002483580579456353,
          0.6483924643575026,
          -1.7744604454121766,
          0.051018691708484755,
          -0.20831087775659465,
          1.2036245135778298,
          0.37460006318208516,
          -0.007357554347866323,
          0.5125991262014535,
          0.0024173923945399363,
          -0.8563025126597791,
          -0.7617603492153533,
          -1.792629772347877,
          0.360765760598241,
          -0.7718682940507207,
          1.6886536550319722,
          1.194024448998109,
          -0.417875534770027,
          2.122611684514379,
          -0.20455142051435,
          -1.3193963771012482,
          -1.7879804873841585,
          0.4066145570917323,
          1.434386069614315,
          -0.5881888567526482,
          -1.2337031790890676,
          -0.7429661704558083,
          0.0566414277132115,
          -1.2378557179328697,
          -0.43038873430261276,
          -2.5320354376990766,
          0.7598237879841848,
          0.48412359488350337
         ],
         "y": [
          -0.0033035822899469052,
          0.3142449677503647,
          -1.504523021926638,
          1.0044432988561958,
          -0.3786281864931309,
          1.6221183698918318,
          -0.6833666110514979,
          -0.09085898589503208,
          0.4183024142850112,
          0.1599510285795126,
          0.4983380417069129,
          -2.38735035273387,
          -0.17484722770594668,
          -0.7024036572296523,
          -0.2377817653329279,
          1.0463693206953972,
          -1.206970761077781,
          -0.27926473845743927,
          0.024497475622231084,
          0.07215395894711478,
          0.8060503759899023,
          -0.10523700135619246,
          0.4892495322097234,
          -1.6211612465614205,
          -0.9413730510682876,
          0.5618878755989775,
          1.148898697209982,
          -0.8603059741609684,
          -0.2545352736983566,
          0.3221749143716371,
          0.8184090970176358,
          0.603400860775381,
          0.29148084806096053,
          1.2197382793191827,
          -0.11597682125807925,
          -0.993512699913698,
          0.6287345083305073,
          -0.23713521257102554,
          -0.3097494760631051,
          -0.5890817405505082,
          -1.1603607004584577,
          0.9875973705562235,
          -0.063031992142952,
          0.5528356056102148,
          0.9943802775983782,
          1.5885704578261726,
          -0.9751179842350768,
          0.6218820952952601,
          -2.0323297593875838,
          -0.5484199829062123,
          -0.12137817399783384,
          -1.2309977016776752,
          -0.9313693797491154,
          0.2663840238711808,
          -1.6717292793656437,
          -0.4542443768926661,
          -0.2721841210031825,
          -2.536542463070985,
          0.4847118496688762,
          -2.1214691330865127,
          -1.1620826355082072,
          -0.048986563425723995,
          -1.2645433415566478,
          1.9997478527752839,
          1.166476246332891,
          -3.103425838335752,
          -1.4438539094973724,
          1.5718043608392394,
          -0.7335294160030932,
          -1.197965786647293,
          1.0722513065522665,
          -0.7826362934224473,
          -0.49820503134543775,
          1.5716627803037155,
          -0.005317290143883737,
          -0.3593653166820716,
          1.5597095911561978,
          1.0503815987596175,
          0.3441039774821109,
          -0.04974121712467084,
          0.008170229384752613,
          -0.9709058136802701,
          2.417034408248457,
          -1.2124867561742774,
          0.6046417869674267,
          -0.3585076795507522,
          0.06705171160120478,
          1.4546189083140886,
          -0.42913586866418607,
          -0.707992549805246,
          -2.096983049597022,
          0.038373856459275275,
          0.6579882416462015,
          2.2386147056613295,
          -0.6608003396245523,
          -0.9953483586408077,
          0.43580220111517376,
          -0.5404418613480602,
          3.3467118532442397,
          0.34927520878526047
         ]
        }
       ],
       "layout": {
        "legend": {
         "bgcolor": "#242424",
         "font": {
          "color": "#F4F4F4"
         }
        },
        "paper_bgcolor": "#242424",
        "plot_bgcolor": "#242424",
        "template": {
         "data": {
          "bar": [
           {
            "error_x": {
             "color": "#2a3f5f"
            },
            "error_y": {
             "color": "#2a3f5f"
            },
            "marker": {
             "line": {
              "color": "#E5ECF6",
              "width": 0.5
             }
            },
            "type": "bar"
           }
          ],
          "barpolar": [
           {
            "marker": {
             "line": {
              "color": "#E5ECF6",
              "width": 0.5
             }
            },
            "type": "barpolar"
           }
          ],
          "carpet": [
           {
            "aaxis": {
             "endlinecolor": "#2a3f5f",
             "gridcolor": "white",
             "linecolor": "white",
             "minorgridcolor": "white",
             "startlinecolor": "#2a3f5f"
            },
            "baxis": {
             "endlinecolor": "#2a3f5f",
             "gridcolor": "white",
             "linecolor": "white",
             "minorgridcolor": "white",
             "startlinecolor": "#2a3f5f"
            },
            "type": "carpet"
           }
          ],
          "choropleth": [
           {
            "colorbar": {
             "outlinewidth": 0,
             "ticks": ""
            },
            "type": "choropleth"
           }
          ],
          "contour": [
           {
            "colorbar": {
             "outlinewidth": 0,
             "ticks": ""
            },
            "colorscale": [
             [
              0,
              "#0d0887"
             ],
             [
              0.1111111111111111,
              "#46039f"
             ],
             [
              0.2222222222222222,
              "#7201a8"
             ],
             [
              0.3333333333333333,
              "#9c179e"
             ],
             [
              0.4444444444444444,
              "#bd3786"
             ],
             [
              0.5555555555555556,
              "#d8576b"
             ],
             [
              0.6666666666666666,
              "#ed7953"
             ],
             [
              0.7777777777777778,
              "#fb9f3a"
             ],
             [
              0.8888888888888888,
              "#fdca26"
             ],
             [
              1,
              "#f0f921"
             ]
            ],
            "type": "contour"
           }
          ],
          "contourcarpet": [
           {
            "colorbar": {
             "outlinewidth": 0,
             "ticks": ""
            },
            "type": "contourcarpet"
           }
          ],
          "heatmap": [
           {
            "colorbar": {
             "outlinewidth": 0,
             "ticks": ""
            },
            "colorscale": [
             [
              0,
              "#0d0887"
             ],
             [
              0.1111111111111111,
              "#46039f"
             ],
             [
              0.2222222222222222,
              "#7201a8"
             ],
             [
              0.3333333333333333,
              "#9c179e"
             ],
             [
              0.4444444444444444,
              "#bd3786"
             ],
             [
              0.5555555555555556,
              "#d8576b"
             ],
             [
              0.6666666666666666,
              "#ed7953"
             ],
             [
              0.7777777777777778,
              "#fb9f3a"
             ],
             [
              0.8888888888888888,
              "#fdca26"
             ],
             [
              1,
              "#f0f921"
             ]
            ],
            "type": "heatmap"
           }
          ],
          "heatmapgl": [
           {
            "colorbar": {
             "outlinewidth": 0,
             "ticks": ""
            },
            "colorscale": [
             [
              0,
              "#0d0887"
             ],
             [
              0.1111111111111111,
              "#46039f"
             ],
             [
              0.2222222222222222,
              "#7201a8"
             ],
             [
              0.3333333333333333,
              "#9c179e"
             ],
             [
              0.4444444444444444,
              "#bd3786"
             ],
             [
              0.5555555555555556,
              "#d8576b"
             ],
             [
              0.6666666666666666,
              "#ed7953"
             ],
             [
              0.7777777777777778,
              "#fb9f3a"
             ],
             [
              0.8888888888888888,
              "#fdca26"
             ],
             [
              1,
              "#f0f921"
             ]
            ],
            "type": "heatmapgl"
           }
          ],
          "histogram": [
           {
            "marker": {
             "colorbar": {
              "outlinewidth": 0,
              "ticks": ""
             }
            },
            "type": "histogram"
           }
          ],
          "histogram2d": [
           {
            "colorbar": {
             "outlinewidth": 0,
             "ticks": ""
            },
            "colorscale": [
             [
              0,
              "#0d0887"
             ],
             [
              0.1111111111111111,
              "#46039f"
             ],
             [
              0.2222222222222222,
              "#7201a8"
             ],
             [
              0.3333333333333333,
              "#9c179e"
             ],
             [
              0.4444444444444444,
              "#bd3786"
             ],
             [
              0.5555555555555556,
              "#d8576b"
             ],
             [
              0.6666666666666666,
              "#ed7953"
             ],
             [
              0.7777777777777778,
              "#fb9f3a"
             ],
             [
              0.8888888888888888,
              "#fdca26"
             ],
             [
              1,
              "#f0f921"
             ]
            ],
            "type": "histogram2d"
           }
          ],
          "histogram2dcontour": [
           {
            "colorbar": {
             "outlinewidth": 0,
             "ticks": ""
            },
            "colorscale": [
             [
              0,
              "#0d0887"
             ],
             [
              0.1111111111111111,
              "#46039f"
             ],
             [
              0.2222222222222222,
              "#7201a8"
             ],
             [
              0.3333333333333333,
              "#9c179e"
             ],
             [
              0.4444444444444444,
              "#bd3786"
             ],
             [
              0.5555555555555556,
              "#d8576b"
             ],
             [
              0.6666666666666666,
              "#ed7953"
             ],
             [
              0.7777777777777778,
              "#fb9f3a"
             ],
             [
              0.8888888888888888,
              "#fdca26"
             ],
             [
              1,
              "#f0f921"
             ]
            ],
            "type": "histogram2dcontour"
           }
          ],
          "mesh3d": [
           {
            "colorbar": {
             "outlinewidth": 0,
             "ticks": ""
            },
            "type": "mesh3d"
           }
          ],
          "parcoords": [
           {
            "line": {
             "colorbar": {
              "outlinewidth": 0,
              "ticks": ""
             }
            },
            "type": "parcoords"
           }
          ],
          "pie": [
           {
            "automargin": true,
            "type": "pie"
           }
          ],
          "scatter": [
           {
            "marker": {
             "colorbar": {
              "outlinewidth": 0,
              "ticks": ""
             }
            },
            "type": "scatter"
           }
          ],
          "scatter3d": [
           {
            "line": {
             "colorbar": {
              "outlinewidth": 0,
              "ticks": ""
             }
            },
            "marker": {
             "colorbar": {
              "outlinewidth": 0,
              "ticks": ""
             }
            },
            "type": "scatter3d"
           }
          ],
          "scattercarpet": [
           {
            "marker": {
             "colorbar": {
              "outlinewidth": 0,
              "ticks": ""
             }
            },
            "type": "scattercarpet"
           }
          ],
          "scattergeo": [
           {
            "marker": {
             "colorbar": {
              "outlinewidth": 0,
              "ticks": ""
             }
            },
            "type": "scattergeo"
           }
          ],
          "scattergl": [
           {
            "marker": {
             "colorbar": {
              "outlinewidth": 0,
              "ticks": ""
             }
            },
            "type": "scattergl"
           }
          ],
          "scattermapbox": [
           {
            "marker": {
             "colorbar": {
              "outlinewidth": 0,
              "ticks": ""
             }
            },
            "type": "scattermapbox"
           }
          ],
          "scatterpolar": [
           {
            "marker": {
             "colorbar": {
              "outlinewidth": 0,
              "ticks": ""
             }
            },
            "type": "scatterpolar"
           }
          ],
          "scatterpolargl": [
           {
            "marker": {
             "colorbar": {
              "outlinewidth": 0,
              "ticks": ""
             }
            },
            "type": "scatterpolargl"
           }
          ],
          "scatterternary": [
           {
            "marker": {
             "colorbar": {
              "outlinewidth": 0,
              "ticks": ""
             }
            },
            "type": "scatterternary"
           }
          ],
          "surface": [
           {
            "colorbar": {
             "outlinewidth": 0,
             "ticks": ""
            },
            "colorscale": [
             [
              0,
              "#0d0887"
             ],
             [
              0.1111111111111111,
              "#46039f"
             ],
             [
              0.2222222222222222,
              "#7201a8"
             ],
             [
              0.3333333333333333,
              "#9c179e"
             ],
             [
              0.4444444444444444,
              "#bd3786"
             ],
             [
              0.5555555555555556,
              "#d8576b"
             ],
             [
              0.6666666666666666,
              "#ed7953"
             ],
             [
              0.7777777777777778,
              "#fb9f3a"
             ],
             [
              0.8888888888888888,
              "#fdca26"
             ],
             [
              1,
              "#f0f921"
             ]
            ],
            "type": "surface"
           }
          ],
          "table": [
           {
            "cells": {
             "fill": {
              "color": "#EBF0F8"
             },
             "line": {
              "color": "white"
             }
            },
            "header": {
             "fill": {
              "color": "#C8D4E3"
             },
             "line": {
              "color": "white"
             }
            },
            "type": "table"
           }
          ]
         },
         "layout": {
          "annotationdefaults": {
           "arrowcolor": "#2a3f5f",
           "arrowhead": 0,
           "arrowwidth": 1
          },
          "autotypenumbers": "strict",
          "coloraxis": {
           "colorbar": {
            "outlinewidth": 0,
            "ticks": ""
           }
          },
          "colorscale": {
           "diverging": [
            [
             0,
             "#8e0152"
            ],
            [
             0.1,
             "#c51b7d"
            ],
            [
             0.2,
             "#de77ae"
            ],
            [
             0.3,
             "#f1b6da"
            ],
            [
             0.4,
             "#fde0ef"
            ],
            [
             0.5,
             "#f7f7f7"
            ],
            [
             0.6,
             "#e6f5d0"
            ],
            [
             0.7,
             "#b8e186"
            ],
            [
             0.8,
             "#7fbc41"
            ],
            [
             0.9,
             "#4d9221"
            ],
            [
             1,
             "#276419"
            ]
           ],
           "sequential": [
            [
             0,
             "#0d0887"
            ],
            [
             0.1111111111111111,
             "#46039f"
            ],
            [
             0.2222222222222222,
             "#7201a8"
            ],
            [
             0.3333333333333333,
             "#9c179e"
            ],
            [
             0.4444444444444444,
             "#bd3786"
            ],
            [
             0.5555555555555556,
             "#d8576b"
            ],
            [
             0.6666666666666666,
             "#ed7953"
            ],
            [
             0.7777777777777778,
             "#fb9f3a"
            ],
            [
             0.8888888888888888,
             "#fdca26"
            ],
            [
             1,
             "#f0f921"
            ]
           ],
           "sequentialminus": [
            [
             0,
             "#0d0887"
            ],
            [
             0.1111111111111111,
             "#46039f"
            ],
            [
             0.2222222222222222,
             "#7201a8"
            ],
            [
             0.3333333333333333,
             "#9c179e"
            ],
            [
             0.4444444444444444,
             "#bd3786"
            ],
            [
             0.5555555555555556,
             "#d8576b"
            ],
            [
             0.6666666666666666,
             "#ed7953"
            ],
            [
             0.7777777777777778,
             "#fb9f3a"
            ],
            [
             0.8888888888888888,
             "#fdca26"
            ],
            [
             1,
             "#f0f921"
            ]
           ]
          },
          "colorway": [
           "#636efa",
           "#EF553B",
           "#00cc96",
           "#ab63fa",
           "#FFA15A",
           "#19d3f3",
           "#FF6692",
           "#B6E880",
           "#FF97FF",
           "#FECB52"
          ],
          "font": {
           "color": "#2a3f5f"
          },
          "geo": {
           "bgcolor": "white",
           "lakecolor": "white",
           "landcolor": "#E5ECF6",
           "showlakes": true,
           "showland": true,
           "subunitcolor": "white"
          },
          "hoverlabel": {
           "align": "left"
          },
          "hovermode": "closest",
          "mapbox": {
           "style": "light"
          },
          "paper_bgcolor": "white",
          "plot_bgcolor": "#E5ECF6",
          "polar": {
           "angularaxis": {
            "gridcolor": "white",
            "linecolor": "white",
            "ticks": ""
           },
           "bgcolor": "#E5ECF6",
           "radialaxis": {
            "gridcolor": "white",
            "linecolor": "white",
            "ticks": ""
           }
          },
          "scene": {
           "xaxis": {
            "backgroundcolor": "#E5ECF6",
            "gridcolor": "white",
            "gridwidth": 2,
            "linecolor": "white",
            "showbackground": true,
            "ticks": "",
            "zerolinecolor": "white"
           },
           "yaxis": {
            "backgroundcolor": "#E5ECF6",
            "gridcolor": "white",
            "gridwidth": 2,
            "linecolor": "white",
            "showbackground": true,
            "ticks": "",
            "zerolinecolor": "white"
           },
           "zaxis": {
            "backgroundcolor": "#E5ECF6",
            "gridcolor": "white",
            "gridwidth": 2,
            "linecolor": "white",
            "showbackground": true,
            "ticks": "",
            "zerolinecolor": "white"
           }
          },
          "shapedefaults": {
           "line": {
            "color": "#2a3f5f"
           }
          },
          "ternary": {
           "aaxis": {
            "gridcolor": "white",
            "linecolor": "white",
            "ticks": ""
           },
           "baxis": {
            "gridcolor": "white",
            "linecolor": "white",
            "ticks": ""
           },
           "bgcolor": "#E5ECF6",
           "caxis": {
            "gridcolor": "white",
            "linecolor": "white",
            "ticks": ""
           }
          },
          "title": {
           "x": 0.05
          },
          "xaxis": {
           "automargin": true,
           "gridcolor": "white",
           "linecolor": "white",
           "ticks": "",
           "title": {
            "standoff": 15
           },
           "zerolinecolor": "white",
           "zerolinewidth": 2
          },
          "yaxis": {
           "automargin": true,
           "gridcolor": "white",
           "linecolor": "white",
           "ticks": "",
           "title": {
            "standoff": 15
           },
           "zerolinecolor": "white",
           "zerolinewidth": 2
          }
         }
        },
        "title": {
         "font": {
          "color": "#F4F4F4"
         }
        },
        "xaxis": {
         "gridcolor": "skyblue",
         "showgrid": true,
         "tickfont": {
          "color": "#A4A4A4"
         },
         "title": {
          "font": {
           "color": "#A4A4A4"
          },
          "text": ""
         },
         "zerolinecolor": "#444444"
        },
        "yaxis": {
         "gridcolor": "skyblue",
         "showgrid": true,
         "tickfont": {
          "color": "#A4A4A4"
         },
         "title": {
          "font": {
           "color": "#A4A4A4"
          },
          "text": ""
         },
         "zerolinecolor": "#444444"
        }
       }
      },
      "text/html": "<div>                            <div id=\"8cc57e64-65ea-49ae-869f-47eb6c4d5a9d\" class=\"plotly-graph-div\" style=\"height:525px; width:100%;\"></div>            <script type=\"text/javascript\">                require([\"plotly\"], function(Plotly) {                    window.PLOTLYENV=window.PLOTLYENV || {};\n                    window.PLOTLYENV.BASE_URL='https://plot.ly';                                    if (document.getElementById(\"8cc57e64-65ea-49ae-869f-47eb6c4d5a9d\")) {                    Plotly.newPlot(                        \"8cc57e64-65ea-49ae-869f-47eb6c4d5a9d\",                        [{\"marker\": {\"color\": [\"blue\", \"blue\", \"blue\", \"blue\", \"blue\", \"blue\", \"blue\", \"blue\", \"blue\", \"blue\", \"blue\", \"blue\", \"blue\", \"blue\", \"blue\", \"blue\", \"blue\", \"blue\", \"blue\", \"blue\", \"blue\", \"blue\", \"blue\", \"blue\", \"blue\", \"blue\", \"blue\", \"blue\", \"blue\", \"blue\", \"blue\", \"blue\", \"blue\", \"blue\", \"blue\", \"blue\", \"blue\", \"blue\", \"blue\", \"blue\", \"blue\", \"blue\", \"blue\", \"blue\", \"blue\", \"blue\", \"blue\", \"blue\", \"blue\", \"blue\", \"blue\", \"blue\", \"blue\", \"blue\", \"blue\", \"blue\", \"blue\", \"blue\", \"blue\", \"blue\", \"blue\", \"blue\", \"blue\", \"blue\", \"blue\", \"blue\", \"blue\", \"blue\", \"blue\", \"blue\", \"blue\", \"blue\", \"blue\", \"blue\", \"blue\", \"blue\", \"blue\", \"blue\", \"blue\", \"blue\", \"blue\", \"blue\", \"blue\", \"blue\", \"blue\", \"blue\", \"blue\", \"blue\", \"blue\", \"blue\", \"blue\", \"blue\", \"blue\", \"blue\", \"blue\", \"blue\", \"blue\", \"blue\", \"blue\", \"blue\"], \"line\": {\"width\": 1.3}, \"size\": [44, 52, 85, 109, 51, 67, 72, 73, 94, 76, 70, 58, 112, 51, 74, 77, 69, 66, 91, 57, 55, 57, 81, 49, 66, 72, 99, 69, 93, 72, 74, 66, 72, 74, 81, 70, 61, 93, 59, 33, 36, 54, 70, 28, 58, 54, 47, 62, 74, 103, 57, 84, 59, 53, 67, 27, 82, 95, 92, 88, 37, 56, 68, 48, 65, 30, 90, 12, 50, 38, 88, 67, 92, 68, 48, 76, 57, 66, 92, 60, 59, 59, 70, 61, 51, 80, 51, 83, 100, 74, 50, 57, 67, 42, 69, 57, 58, 79, 81, 22], \"symbol\": \"circle\"}, \"mode\": \"markers\", \"text\": \"\", \"type\": \"scatter\", \"x\": [-0.9792515936598923, 0.9598050055042266, 1.2879497854926978, -0.7580525281398575, 0.7395394550550108, 0.17019107169090317, -0.1293765011854134, 0.4456954392361662, 0.13772919772007583, -1.1475557380589023, 0.7148856836266592, 1.4579626985599747, 0.8874119734406709, 0.3072755156395645, 2.0957456279779065, 0.5899177376437668, 1.0364047408183756, 0.7388472871926347, 0.17950427668644467, 0.3680753376522049, 0.1368695577373032, 0.8159967349839087, -0.14844827589627468, 0.9610220648185201, 0.8403045958850671, 0.1539828413327248, -0.22403721645926258, -0.9886846475465637, -0.041097672863380195, -0.20336539740261284, -0.8272592313380914, -0.7377644328272414, 0.6228589278084802, 1.0167861280965602, -2.2412581790082666, -0.18088089665349677, 0.38747162796369533, -0.022976036922044408, -0.376997829574464, 0.12116576151183464, 0.004016022807814205, -1.8023654641354336, -0.8309213004133602, -0.37467942398393506, 0.16749391300381028, 2.157106901960888, 0.26801897806054975, -0.12917654316980617, -1.1921864240944327, 1.6144706272625435, 0.44154651927524047, -1.5248455068331284, -1.379729809199886, -0.3071048272960799, 0.11873027241721576, -0.18440988283347878, -1.5364079402765836, -1.7659951853905054, -1.1925247660678762, -0.3719050473318741, 0.9116004418673352, -1.2893901771054779, 0.3494224192856916, 0.12384105919512163, -0.2853887638156255, -0.05477890823051662, -0.13339681427823635, 0.002483580579456353, 0.6483924643575026, -1.7744604454121766, 0.051018691708484755, -0.20831087775659465, 1.2036245135778298, 0.37460006318208516, -0.007357554347866323, 0.5125991262014535, 0.0024173923945399363, -0.8563025126597791, -0.7617603492153533, -1.792629772347877, 0.360765760598241, -0.7718682940507207, 1.6886536550319722, 1.194024448998109, -0.417875534770027, 2.122611684514379, -0.20455142051435, -1.3193963771012482, -1.7879804873841585, 0.4066145570917323, 1.434386069614315, -0.5881888567526482, -1.2337031790890676, -0.7429661704558083, 0.0566414277132115, -1.2378557179328697, -0.43038873430261276, -2.5320354376990766, 0.7598237879841848, 0.48412359488350337], \"y\": [-0.0033035822899469052, 0.3142449677503647, -1.504523021926638, 1.0044432988561958, -0.3786281864931309, 1.6221183698918318, -0.6833666110514979, -0.09085898589503208, 0.4183024142850112, 0.1599510285795126, 0.4983380417069129, -2.38735035273387, -0.17484722770594668, -0.7024036572296523, -0.2377817653329279, 1.0463693206953972, -1.206970761077781, -0.27926473845743927, 0.024497475622231084, 0.07215395894711478, 0.8060503759899023, -0.10523700135619246, 0.4892495322097234, -1.6211612465614205, -0.9413730510682876, 0.5618878755989775, 1.148898697209982, -0.8603059741609684, -0.2545352736983566, 0.3221749143716371, 0.8184090970176358, 0.603400860775381, 0.29148084806096053, 1.2197382793191827, -0.11597682125807925, -0.993512699913698, 0.6287345083305073, -0.23713521257102554, -0.3097494760631051, -0.5890817405505082, -1.1603607004584577, 0.9875973705562235, -0.063031992142952, 0.5528356056102148, 0.9943802775983782, 1.5885704578261726, -0.9751179842350768, 0.6218820952952601, -2.0323297593875838, -0.5484199829062123, -0.12137817399783384, -1.2309977016776752, -0.9313693797491154, 0.2663840238711808, -1.6717292793656437, -0.4542443768926661, -0.2721841210031825, -2.536542463070985, 0.4847118496688762, -2.1214691330865127, -1.1620826355082072, -0.048986563425723995, -1.2645433415566478, 1.9997478527752839, 1.166476246332891, -3.103425838335752, -1.4438539094973724, 1.5718043608392394, -0.7335294160030932, -1.197965786647293, 1.0722513065522665, -0.7826362934224473, -0.49820503134543775, 1.5716627803037155, -0.005317290143883737, -0.3593653166820716, 1.5597095911561978, 1.0503815987596175, 0.3441039774821109, -0.04974121712467084, 0.008170229384752613, -0.9709058136802701, 2.417034408248457, -1.2124867561742774, 0.6046417869674267, -0.3585076795507522, 0.06705171160120478, 1.4546189083140886, -0.42913586866418607, -0.707992549805246, -2.096983049597022, 0.038373856459275275, 0.6579882416462015, 2.2386147056613295, -0.6608003396245523, -0.9953483586408077, 0.43580220111517376, -0.5404418613480602, 3.3467118532442397, 0.34927520878526047]}],                        {\"legend\": {\"bgcolor\": \"#242424\", \"font\": {\"color\": \"#F4F4F4\"}}, \"paper_bgcolor\": \"#242424\", \"plot_bgcolor\": \"#242424\", \"template\": {\"data\": {\"bar\": [{\"error_x\": {\"color\": \"#2a3f5f\"}, \"error_y\": {\"color\": \"#2a3f5f\"}, \"marker\": {\"line\": {\"color\": \"#E5ECF6\", \"width\": 0.5}}, \"type\": \"bar\"}], \"barpolar\": [{\"marker\": {\"line\": {\"color\": \"#E5ECF6\", \"width\": 0.5}}, \"type\": \"barpolar\"}], \"carpet\": [{\"aaxis\": {\"endlinecolor\": \"#2a3f5f\", \"gridcolor\": \"white\", \"linecolor\": \"white\", \"minorgridcolor\": \"white\", \"startlinecolor\": \"#2a3f5f\"}, \"baxis\": {\"endlinecolor\": \"#2a3f5f\", \"gridcolor\": \"white\", \"linecolor\": \"white\", \"minorgridcolor\": \"white\", \"startlinecolor\": \"#2a3f5f\"}, \"type\": \"carpet\"}], \"choropleth\": [{\"colorbar\": {\"outlinewidth\": 0, \"ticks\": \"\"}, \"type\": \"choropleth\"}], \"contour\": [{\"colorbar\": {\"outlinewidth\": 0, \"ticks\": \"\"}, \"colorscale\": [[0.0, \"#0d0887\"], [0.1111111111111111, \"#46039f\"], [0.2222222222222222, \"#7201a8\"], [0.3333333333333333, \"#9c179e\"], [0.4444444444444444, \"#bd3786\"], [0.5555555555555556, \"#d8576b\"], [0.6666666666666666, \"#ed7953\"], [0.7777777777777778, \"#fb9f3a\"], [0.8888888888888888, \"#fdca26\"], [1.0, \"#f0f921\"]], \"type\": \"contour\"}], \"contourcarpet\": [{\"colorbar\": {\"outlinewidth\": 0, \"ticks\": \"\"}, \"type\": \"contourcarpet\"}], \"heatmap\": [{\"colorbar\": {\"outlinewidth\": 0, \"ticks\": \"\"}, \"colorscale\": [[0.0, \"#0d0887\"], [0.1111111111111111, \"#46039f\"], [0.2222222222222222, \"#7201a8\"], [0.3333333333333333, \"#9c179e\"], [0.4444444444444444, \"#bd3786\"], [0.5555555555555556, \"#d8576b\"], [0.6666666666666666, \"#ed7953\"], [0.7777777777777778, \"#fb9f3a\"], [0.8888888888888888, \"#fdca26\"], [1.0, \"#f0f921\"]], \"type\": \"heatmap\"}], \"heatmapgl\": [{\"colorbar\": {\"outlinewidth\": 0, \"ticks\": \"\"}, \"colorscale\": [[0.0, \"#0d0887\"], [0.1111111111111111, \"#46039f\"], [0.2222222222222222, \"#7201a8\"], [0.3333333333333333, \"#9c179e\"], [0.4444444444444444, \"#bd3786\"], [0.5555555555555556, \"#d8576b\"], [0.6666666666666666, \"#ed7953\"], [0.7777777777777778, \"#fb9f3a\"], [0.8888888888888888, \"#fdca26\"], [1.0, \"#f0f921\"]], \"type\": \"heatmapgl\"}], \"histogram\": [{\"marker\": {\"colorbar\": {\"outlinewidth\": 0, \"ticks\": \"\"}}, \"type\": \"histogram\"}], \"histogram2d\": [{\"colorbar\": {\"outlinewidth\": 0, \"ticks\": \"\"}, \"colorscale\": [[0.0, \"#0d0887\"], [0.1111111111111111, \"#46039f\"], [0.2222222222222222, \"#7201a8\"], [0.3333333333333333, \"#9c179e\"], [0.4444444444444444, \"#bd3786\"], [0.5555555555555556, \"#d8576b\"], [0.6666666666666666, \"#ed7953\"], [0.7777777777777778, \"#fb9f3a\"], [0.8888888888888888, \"#fdca26\"], [1.0, \"#f0f921\"]], \"type\": \"histogram2d\"}], \"histogram2dcontour\": [{\"colorbar\": {\"outlinewidth\": 0, \"ticks\": \"\"}, \"colorscale\": [[0.0, \"#0d0887\"], [0.1111111111111111, \"#46039f\"], [0.2222222222222222, \"#7201a8\"], [0.3333333333333333, \"#9c179e\"], [0.4444444444444444, \"#bd3786\"], [0.5555555555555556, \"#d8576b\"], [0.6666666666666666, \"#ed7953\"], [0.7777777777777778, \"#fb9f3a\"], [0.8888888888888888, \"#fdca26\"], [1.0, \"#f0f921\"]], \"type\": \"histogram2dcontour\"}], \"mesh3d\": [{\"colorbar\": {\"outlinewidth\": 0, \"ticks\": \"\"}, \"type\": \"mesh3d\"}], \"parcoords\": [{\"line\": {\"colorbar\": {\"outlinewidth\": 0, \"ticks\": \"\"}}, \"type\": \"parcoords\"}], \"pie\": [{\"automargin\": true, \"type\": \"pie\"}], \"scatter\": [{\"marker\": {\"colorbar\": {\"outlinewidth\": 0, \"ticks\": \"\"}}, \"type\": \"scatter\"}], \"scatter3d\": [{\"line\": {\"colorbar\": {\"outlinewidth\": 0, \"ticks\": \"\"}}, \"marker\": {\"colorbar\": {\"outlinewidth\": 0, \"ticks\": \"\"}}, \"type\": \"scatter3d\"}], \"scattercarpet\": [{\"marker\": {\"colorbar\": {\"outlinewidth\": 0, \"ticks\": \"\"}}, \"type\": \"scattercarpet\"}], \"scattergeo\": [{\"marker\": {\"colorbar\": {\"outlinewidth\": 0, \"ticks\": \"\"}}, \"type\": \"scattergeo\"}], \"scattergl\": [{\"marker\": {\"colorbar\": {\"outlinewidth\": 0, \"ticks\": \"\"}}, \"type\": \"scattergl\"}], \"scattermapbox\": [{\"marker\": {\"colorbar\": {\"outlinewidth\": 0, \"ticks\": \"\"}}, \"type\": \"scattermapbox\"}], \"scatterpolar\": [{\"marker\": {\"colorbar\": {\"outlinewidth\": 0, \"ticks\": \"\"}}, \"type\": \"scatterpolar\"}], \"scatterpolargl\": [{\"marker\": {\"colorbar\": {\"outlinewidth\": 0, \"ticks\": \"\"}}, \"type\": \"scatterpolargl\"}], \"scatterternary\": [{\"marker\": {\"colorbar\": {\"outlinewidth\": 0, \"ticks\": \"\"}}, \"type\": \"scatterternary\"}], \"surface\": [{\"colorbar\": {\"outlinewidth\": 0, \"ticks\": \"\"}, \"colorscale\": [[0.0, \"#0d0887\"], [0.1111111111111111, \"#46039f\"], [0.2222222222222222, \"#7201a8\"], [0.3333333333333333, \"#9c179e\"], [0.4444444444444444, \"#bd3786\"], [0.5555555555555556, \"#d8576b\"], [0.6666666666666666, \"#ed7953\"], [0.7777777777777778, \"#fb9f3a\"], [0.8888888888888888, \"#fdca26\"], [1.0, \"#f0f921\"]], \"type\": \"surface\"}], \"table\": [{\"cells\": {\"fill\": {\"color\": \"#EBF0F8\"}, \"line\": {\"color\": \"white\"}}, \"header\": {\"fill\": {\"color\": \"#C8D4E3\"}, \"line\": {\"color\": \"white\"}}, \"type\": \"table\"}]}, \"layout\": {\"annotationdefaults\": {\"arrowcolor\": \"#2a3f5f\", \"arrowhead\": 0, \"arrowwidth\": 1}, \"autotypenumbers\": \"strict\", \"coloraxis\": {\"colorbar\": {\"outlinewidth\": 0, \"ticks\": \"\"}}, \"colorscale\": {\"diverging\": [[0, \"#8e0152\"], [0.1, \"#c51b7d\"], [0.2, \"#de77ae\"], [0.3, \"#f1b6da\"], [0.4, \"#fde0ef\"], [0.5, \"#f7f7f7\"], [0.6, \"#e6f5d0\"], [0.7, \"#b8e186\"], [0.8, \"#7fbc41\"], [0.9, \"#4d9221\"], [1, \"#276419\"]], \"sequential\": [[0.0, \"#0d0887\"], [0.1111111111111111, \"#46039f\"], [0.2222222222222222, \"#7201a8\"], [0.3333333333333333, \"#9c179e\"], [0.4444444444444444, \"#bd3786\"], [0.5555555555555556, \"#d8576b\"], [0.6666666666666666, \"#ed7953\"], [0.7777777777777778, \"#fb9f3a\"], [0.8888888888888888, \"#fdca26\"], [1.0, \"#f0f921\"]], \"sequentialminus\": [[0.0, \"#0d0887\"], [0.1111111111111111, \"#46039f\"], [0.2222222222222222, \"#7201a8\"], [0.3333333333333333, \"#9c179e\"], [0.4444444444444444, \"#bd3786\"], [0.5555555555555556, \"#d8576b\"], [0.6666666666666666, \"#ed7953\"], [0.7777777777777778, \"#fb9f3a\"], [0.8888888888888888, \"#fdca26\"], [1.0, \"#f0f921\"]]}, \"colorway\": [\"#636efa\", \"#EF553B\", \"#00cc96\", \"#ab63fa\", \"#FFA15A\", \"#19d3f3\", \"#FF6692\", \"#B6E880\", \"#FF97FF\", \"#FECB52\"], \"font\": {\"color\": \"#2a3f5f\"}, \"geo\": {\"bgcolor\": \"white\", \"lakecolor\": \"white\", \"landcolor\": \"#E5ECF6\", \"showlakes\": true, \"showland\": true, \"subunitcolor\": \"white\"}, \"hoverlabel\": {\"align\": \"left\"}, \"hovermode\": \"closest\", \"mapbox\": {\"style\": \"light\"}, \"paper_bgcolor\": \"white\", \"plot_bgcolor\": \"#E5ECF6\", \"polar\": {\"angularaxis\": {\"gridcolor\": \"white\", \"linecolor\": \"white\", \"ticks\": \"\"}, \"bgcolor\": \"#E5ECF6\", \"radialaxis\": {\"gridcolor\": \"white\", \"linecolor\": \"white\", \"ticks\": \"\"}}, \"scene\": {\"xaxis\": {\"backgroundcolor\": \"#E5ECF6\", \"gridcolor\": \"white\", \"gridwidth\": 2, \"linecolor\": \"white\", \"showbackground\": true, \"ticks\": \"\", \"zerolinecolor\": \"white\"}, \"yaxis\": {\"backgroundcolor\": \"#E5ECF6\", \"gridcolor\": \"white\", \"gridwidth\": 2, \"linecolor\": \"white\", \"showbackground\": true, \"ticks\": \"\", \"zerolinecolor\": \"white\"}, \"zaxis\": {\"backgroundcolor\": \"#E5ECF6\", \"gridcolor\": \"white\", \"gridwidth\": 2, \"linecolor\": \"white\", \"showbackground\": true, \"ticks\": \"\", \"zerolinecolor\": \"white\"}}, \"shapedefaults\": {\"line\": {\"color\": \"#2a3f5f\"}}, \"ternary\": {\"aaxis\": {\"gridcolor\": \"white\", \"linecolor\": \"white\", \"ticks\": \"\"}, \"baxis\": {\"gridcolor\": \"white\", \"linecolor\": \"white\", \"ticks\": \"\"}, \"bgcolor\": \"#E5ECF6\", \"caxis\": {\"gridcolor\": \"white\", \"linecolor\": \"white\", \"ticks\": \"\"}}, \"title\": {\"x\": 0.05}, \"xaxis\": {\"automargin\": true, \"gridcolor\": \"white\", \"linecolor\": \"white\", \"ticks\": \"\", \"title\": {\"standoff\": 15}, \"zerolinecolor\": \"white\", \"zerolinewidth\": 2}, \"yaxis\": {\"automargin\": true, \"gridcolor\": \"white\", \"linecolor\": \"white\", \"ticks\": \"\", \"title\": {\"standoff\": 15}, \"zerolinecolor\": \"white\", \"zerolinewidth\": 2}}}, \"title\": {\"font\": {\"color\": \"#F4F4F4\"}}, \"xaxis\": {\"gridcolor\": \"skyblue\", \"showgrid\": true, \"tickfont\": {\"color\": \"#A4A4A4\"}, \"title\": {\"font\": {\"color\": \"#A4A4A4\"}, \"text\": \"\"}, \"zerolinecolor\": \"#444444\"}, \"yaxis\": {\"gridcolor\": \"skyblue\", \"showgrid\": true, \"tickfont\": {\"color\": \"#A4A4A4\"}, \"title\": {\"font\": {\"color\": \"#A4A4A4\"}, \"text\": \"\"}, \"zerolinecolor\": \"#444444\"}},                        {\"showLink\": true, \"linkText\": \"Export to plot.ly\", \"plotlyServerURL\": \"https://plot.ly\", \"responsive\": true}                    ).then(function(){\n                            \nvar gd = document.getElementById('8cc57e64-65ea-49ae-869f-47eb6c4d5a9d');\nvar x = new MutationObserver(function (mutations, observer) {{\n        var display = window.getComputedStyle(gd).display;\n        if (!display || display === 'none') {{\n            console.log([gd, 'removed!']);\n            Plotly.purge(gd);\n            observer.disconnect();\n        }}\n}});\n\n// Listen for the removal of the full notebook cells\nvar notebookContainer = gd.closest('#notebook-container');\nif (notebookContainer) {{\n    x.observe(notebookContainer, {childList: true});\n}}\n\n// Listen for the clearing of the current output cell\nvar outputEl = gd.closest('.output');\nif (outputEl) {{\n    x.observe(outputEl, {childList: true});\n}}\n\n                        })                };                });            </script>        </div>"
     },
     "metadata": {}
    }
   ],
   "source": [
    "df.iplot(kind='bubble', x='A', y='B', size= 'C', theme= 'henanigans', colors= 'blue', gridcolor= 'skyblue')\n",
    "# Here this is basically a scatterplot between A and B, but the size of the bubble depends on value of C\n",
    "# These kind of graphs are very much used in GDP, population and census data"
   ]
  },
  {
   "source": [
    "*9. bubble3d*"
   ],
   "cell_type": "markdown",
   "metadata": {}
  },
  {
   "cell_type": "code",
   "execution_count": 238,
   "metadata": {},
   "outputs": [
    {
     "output_type": "display_data",
     "data": {
      "application/vnd.plotly.v1+json": {
       "config": {
        "linkText": "Export to plot.ly",
        "plotlyServerURL": "https://plot.ly",
        "showLink": true
       },
       "data": [
        {
         "marker": {
          "color": [
           "rgba(219, 64, 82, 1.0)",
           "rgba(219, 64, 82, 0.9333333333333333)",
           "rgba(219, 64, 82, 0.8666666666666667)",
           "rgba(219, 64, 82, 0.8)",
           "rgba(219, 64, 82, 0.7333333333333334)",
           "rgba(219, 64, 82, 0.6666666666666667)",
           "rgba(219, 64, 82, 0.6000000000000001)",
           "rgba(219, 64, 82, 0.5333333333333334)",
           "rgba(219, 64, 82, 0.46666666666666684)",
           "rgba(219, 64, 82, 0.4000000000000002)",
           "rgba(219, 64, 82, 0.33333333333333354)",
           "rgba(219, 64, 82, 0.2666666666666669)"
          ],
          "opacity": 0.8,
          "size": [
           49,
           19,
           107,
           71,
           112,
           12,
           71,
           33,
           56,
           102,
           53,
           52
          ],
          "symbol": "circle"
         },
         "mode": "markers",
         "text": [
          "0",
          "1",
          "2",
          "3",
          "4",
          "5",
          "6",
          "7",
          "8",
          "9",
          "10",
          "11"
         ],
         "type": "scatter3d",
         "x": [
          -2.352167485018127,
          -0.5393122778054347,
          -0.42573019440887444,
          0.26776364349734383,
          0.5579439584008032,
          -2.679049320599313,
          0.09118277139490051,
          -0.5080591106362299,
          0.4117682243581151,
          -0.7207720757038314,
          -0.018027755306707617,
          -0.003966056292223622
         ],
         "y": [
          0.13161722428169026,
          0.6896533794889931,
          1.1297854556795266,
          1.9089195016037532,
          0.6937300354372149,
          0.05796330136136042,
          -0.004355173064896413,
          0.4167522135523481,
          -0.5273622638523218,
          -0.015101534768381945,
          0.3864260110242058,
          0.10637719197434845
         ],
         "z": [
          0.6870900459763812,
          0.6863340523532754,
          2.094511934792266,
          -0.4070673481444979,
          0.22216755727427315,
          1.7030908951600858,
          0.23449288998048887,
          0.43297674925839974,
          0.18142794350703387,
          1.3886576810229674,
          -0.5706184386714935,
          -1.2082851515497077
         ]
        }
       ],
       "layout": {
        "legend": {
         "bgcolor": "#242424",
         "font": {
          "color": "#F4F4F4"
         }
        },
        "paper_bgcolor": "#242424",
        "plot_bgcolor": "#242424",
        "scene": {
         "xaxis": {
          "gridcolor": "#343434",
          "showgrid": true,
          "tickfont": {
           "color": "#A4A4A4"
          },
          "title": {
           "font": {
            "color": "#A4A4A4"
           },
           "text": ""
          },
          "zerolinecolor": "#343434"
         },
         "yaxis": {
          "gridcolor": "#343434",
          "showgrid": true,
          "tickfont": {
           "color": "#A4A4A4"
          },
          "title": {
           "font": {
            "color": "#A4A4A4"
           },
           "text": ""
          },
          "zerolinecolor": "#343434"
         },
         "zaxis": {
          "gridcolor": "#343434",
          "showgrid": true,
          "tickfont": {
           "color": "#A4A4A4"
          },
          "title": {
           "font": {
            "color": "#A4A4A4"
           },
           "text": ""
          },
          "zerolinecolor": "#343434"
         }
        },
        "template": {
         "data": {
          "bar": [
           {
            "error_x": {
             "color": "#2a3f5f"
            },
            "error_y": {
             "color": "#2a3f5f"
            },
            "marker": {
             "line": {
              "color": "#E5ECF6",
              "width": 0.5
             }
            },
            "type": "bar"
           }
          ],
          "barpolar": [
           {
            "marker": {
             "line": {
              "color": "#E5ECF6",
              "width": 0.5
             }
            },
            "type": "barpolar"
           }
          ],
          "carpet": [
           {
            "aaxis": {
             "endlinecolor": "#2a3f5f",
             "gridcolor": "white",
             "linecolor": "white",
             "minorgridcolor": "white",
             "startlinecolor": "#2a3f5f"
            },
            "baxis": {
             "endlinecolor": "#2a3f5f",
             "gridcolor": "white",
             "linecolor": "white",
             "minorgridcolor": "white",
             "startlinecolor": "#2a3f5f"
            },
            "type": "carpet"
           }
          ],
          "choropleth": [
           {
            "colorbar": {
             "outlinewidth": 0,
             "ticks": ""
            },
            "type": "choropleth"
           }
          ],
          "contour": [
           {
            "colorbar": {
             "outlinewidth": 0,
             "ticks": ""
            },
            "colorscale": [
             [
              0,
              "#0d0887"
             ],
             [
              0.1111111111111111,
              "#46039f"
             ],
             [
              0.2222222222222222,
              "#7201a8"
             ],
             [
              0.3333333333333333,
              "#9c179e"
             ],
             [
              0.4444444444444444,
              "#bd3786"
             ],
             [
              0.5555555555555556,
              "#d8576b"
             ],
             [
              0.6666666666666666,
              "#ed7953"
             ],
             [
              0.7777777777777778,
              "#fb9f3a"
             ],
             [
              0.8888888888888888,
              "#fdca26"
             ],
             [
              1,
              "#f0f921"
             ]
            ],
            "type": "contour"
           }
          ],
          "contourcarpet": [
           {
            "colorbar": {
             "outlinewidth": 0,
             "ticks": ""
            },
            "type": "contourcarpet"
           }
          ],
          "heatmap": [
           {
            "colorbar": {
             "outlinewidth": 0,
             "ticks": ""
            },
            "colorscale": [
             [
              0,
              "#0d0887"
             ],
             [
              0.1111111111111111,
              "#46039f"
             ],
             [
              0.2222222222222222,
              "#7201a8"
             ],
             [
              0.3333333333333333,
              "#9c179e"
             ],
             [
              0.4444444444444444,
              "#bd3786"
             ],
             [
              0.5555555555555556,
              "#d8576b"
             ],
             [
              0.6666666666666666,
              "#ed7953"
             ],
             [
              0.7777777777777778,
              "#fb9f3a"
             ],
             [
              0.8888888888888888,
              "#fdca26"
             ],
             [
              1,
              "#f0f921"
             ]
            ],
            "type": "heatmap"
           }
          ],
          "heatmapgl": [
           {
            "colorbar": {
             "outlinewidth": 0,
             "ticks": ""
            },
            "colorscale": [
             [
              0,
              "#0d0887"
             ],
             [
              0.1111111111111111,
              "#46039f"
             ],
             [
              0.2222222222222222,
              "#7201a8"
             ],
             [
              0.3333333333333333,
              "#9c179e"
             ],
             [
              0.4444444444444444,
              "#bd3786"
             ],
             [
              0.5555555555555556,
              "#d8576b"
             ],
             [
              0.6666666666666666,
              "#ed7953"
             ],
             [
              0.7777777777777778,
              "#fb9f3a"
             ],
             [
              0.8888888888888888,
              "#fdca26"
             ],
             [
              1,
              "#f0f921"
             ]
            ],
            "type": "heatmapgl"
           }
          ],
          "histogram": [
           {
            "marker": {
             "colorbar": {
              "outlinewidth": 0,
              "ticks": ""
             }
            },
            "type": "histogram"
           }
          ],
          "histogram2d": [
           {
            "colorbar": {
             "outlinewidth": 0,
             "ticks": ""
            },
            "colorscale": [
             [
              0,
              "#0d0887"
             ],
             [
              0.1111111111111111,
              "#46039f"
             ],
             [
              0.2222222222222222,
              "#7201a8"
             ],
             [
              0.3333333333333333,
              "#9c179e"
             ],
             [
              0.4444444444444444,
              "#bd3786"
             ],
             [
              0.5555555555555556,
              "#d8576b"
             ],
             [
              0.6666666666666666,
              "#ed7953"
             ],
             [
              0.7777777777777778,
              "#fb9f3a"
             ],
             [
              0.8888888888888888,
              "#fdca26"
             ],
             [
              1,
              "#f0f921"
             ]
            ],
            "type": "histogram2d"
           }
          ],
          "histogram2dcontour": [
           {
            "colorbar": {
             "outlinewidth": 0,
             "ticks": ""
            },
            "colorscale": [
             [
              0,
              "#0d0887"
             ],
             [
              0.1111111111111111,
              "#46039f"
             ],
             [
              0.2222222222222222,
              "#7201a8"
             ],
             [
              0.3333333333333333,
              "#9c179e"
             ],
             [
              0.4444444444444444,
              "#bd3786"
             ],
             [
              0.5555555555555556,
              "#d8576b"
             ],
             [
              0.6666666666666666,
              "#ed7953"
             ],
             [
              0.7777777777777778,
              "#fb9f3a"
             ],
             [
              0.8888888888888888,
              "#fdca26"
             ],
             [
              1,
              "#f0f921"
             ]
            ],
            "type": "histogram2dcontour"
           }
          ],
          "mesh3d": [
           {
            "colorbar": {
             "outlinewidth": 0,
             "ticks": ""
            },
            "type": "mesh3d"
           }
          ],
          "parcoords": [
           {
            "line": {
             "colorbar": {
              "outlinewidth": 0,
              "ticks": ""
             }
            },
            "type": "parcoords"
           }
          ],
          "pie": [
           {
            "automargin": true,
            "type": "pie"
           }
          ],
          "scatter": [
           {
            "marker": {
             "colorbar": {
              "outlinewidth": 0,
              "ticks": ""
             }
            },
            "type": "scatter"
           }
          ],
          "scatter3d": [
           {
            "line": {
             "colorbar": {
              "outlinewidth": 0,
              "ticks": ""
             }
            },
            "marker": {
             "colorbar": {
              "outlinewidth": 0,
              "ticks": ""
             }
            },
            "type": "scatter3d"
           }
          ],
          "scattercarpet": [
           {
            "marker": {
             "colorbar": {
              "outlinewidth": 0,
              "ticks": ""
             }
            },
            "type": "scattercarpet"
           }
          ],
          "scattergeo": [
           {
            "marker": {
             "colorbar": {
              "outlinewidth": 0,
              "ticks": ""
             }
            },
            "type": "scattergeo"
           }
          ],
          "scattergl": [
           {
            "marker": {
             "colorbar": {
              "outlinewidth": 0,
              "ticks": ""
             }
            },
            "type": "scattergl"
           }
          ],
          "scattermapbox": [
           {
            "marker": {
             "colorbar": {
              "outlinewidth": 0,
              "ticks": ""
             }
            },
            "type": "scattermapbox"
           }
          ],
          "scatterpolar": [
           {
            "marker": {
             "colorbar": {
              "outlinewidth": 0,
              "ticks": ""
             }
            },
            "type": "scatterpolar"
           }
          ],
          "scatterpolargl": [
           {
            "marker": {
             "colorbar": {
              "outlinewidth": 0,
              "ticks": ""
             }
            },
            "type": "scatterpolargl"
           }
          ],
          "scatterternary": [
           {
            "marker": {
             "colorbar": {
              "outlinewidth": 0,
              "ticks": ""
             }
            },
            "type": "scatterternary"
           }
          ],
          "surface": [
           {
            "colorbar": {
             "outlinewidth": 0,
             "ticks": ""
            },
            "colorscale": [
             [
              0,
              "#0d0887"
             ],
             [
              0.1111111111111111,
              "#46039f"
             ],
             [
              0.2222222222222222,
              "#7201a8"
             ],
             [
              0.3333333333333333,
              "#9c179e"
             ],
             [
              0.4444444444444444,
              "#bd3786"
             ],
             [
              0.5555555555555556,
              "#d8576b"
             ],
             [
              0.6666666666666666,
              "#ed7953"
             ],
             [
              0.7777777777777778,
              "#fb9f3a"
             ],
             [
              0.8888888888888888,
              "#fdca26"
             ],
             [
              1,
              "#f0f921"
             ]
            ],
            "type": "surface"
           }
          ],
          "table": [
           {
            "cells": {
             "fill": {
              "color": "#EBF0F8"
             },
             "line": {
              "color": "white"
             }
            },
            "header": {
             "fill": {
              "color": "#C8D4E3"
             },
             "line": {
              "color": "white"
             }
            },
            "type": "table"
           }
          ]
         },
         "layout": {
          "annotationdefaults": {
           "arrowcolor": "#2a3f5f",
           "arrowhead": 0,
           "arrowwidth": 1
          },
          "autotypenumbers": "strict",
          "coloraxis": {
           "colorbar": {
            "outlinewidth": 0,
            "ticks": ""
           }
          },
          "colorscale": {
           "diverging": [
            [
             0,
             "#8e0152"
            ],
            [
             0.1,
             "#c51b7d"
            ],
            [
             0.2,
             "#de77ae"
            ],
            [
             0.3,
             "#f1b6da"
            ],
            [
             0.4,
             "#fde0ef"
            ],
            [
             0.5,
             "#f7f7f7"
            ],
            [
             0.6,
             "#e6f5d0"
            ],
            [
             0.7,
             "#b8e186"
            ],
            [
             0.8,
             "#7fbc41"
            ],
            [
             0.9,
             "#4d9221"
            ],
            [
             1,
             "#276419"
            ]
           ],
           "sequential": [
            [
             0,
             "#0d0887"
            ],
            [
             0.1111111111111111,
             "#46039f"
            ],
            [
             0.2222222222222222,
             "#7201a8"
            ],
            [
             0.3333333333333333,
             "#9c179e"
            ],
            [
             0.4444444444444444,
             "#bd3786"
            ],
            [
             0.5555555555555556,
             "#d8576b"
            ],
            [
             0.6666666666666666,
             "#ed7953"
            ],
            [
             0.7777777777777778,
             "#fb9f3a"
            ],
            [
             0.8888888888888888,
             "#fdca26"
            ],
            [
             1,
             "#f0f921"
            ]
           ],
           "sequentialminus": [
            [
             0,
             "#0d0887"
            ],
            [
             0.1111111111111111,
             "#46039f"
            ],
            [
             0.2222222222222222,
             "#7201a8"
            ],
            [
             0.3333333333333333,
             "#9c179e"
            ],
            [
             0.4444444444444444,
             "#bd3786"
            ],
            [
             0.5555555555555556,
             "#d8576b"
            ],
            [
             0.6666666666666666,
             "#ed7953"
            ],
            [
             0.7777777777777778,
             "#fb9f3a"
            ],
            [
             0.8888888888888888,
             "#fdca26"
            ],
            [
             1,
             "#f0f921"
            ]
           ]
          },
          "colorway": [
           "#636efa",
           "#EF553B",
           "#00cc96",
           "#ab63fa",
           "#FFA15A",
           "#19d3f3",
           "#FF6692",
           "#B6E880",
           "#FF97FF",
           "#FECB52"
          ],
          "font": {
           "color": "#2a3f5f"
          },
          "geo": {
           "bgcolor": "white",
           "lakecolor": "white",
           "landcolor": "#E5ECF6",
           "showlakes": true,
           "showland": true,
           "subunitcolor": "white"
          },
          "hoverlabel": {
           "align": "left"
          },
          "hovermode": "closest",
          "mapbox": {
           "style": "light"
          },
          "paper_bgcolor": "white",
          "plot_bgcolor": "#E5ECF6",
          "polar": {
           "angularaxis": {
            "gridcolor": "white",
            "linecolor": "white",
            "ticks": ""
           },
           "bgcolor": "#E5ECF6",
           "radialaxis": {
            "gridcolor": "white",
            "linecolor": "white",
            "ticks": ""
           }
          },
          "scene": {
           "xaxis": {
            "backgroundcolor": "#E5ECF6",
            "gridcolor": "white",
            "gridwidth": 2,
            "linecolor": "white",
            "showbackground": true,
            "ticks": "",
            "zerolinecolor": "white"
           },
           "yaxis": {
            "backgroundcolor": "#E5ECF6",
            "gridcolor": "white",
            "gridwidth": 2,
            "linecolor": "white",
            "showbackground": true,
            "ticks": "",
            "zerolinecolor": "white"
           },
           "zaxis": {
            "backgroundcolor": "#E5ECF6",
            "gridcolor": "white",
            "gridwidth": 2,
            "linecolor": "white",
            "showbackground": true,
            "ticks": "",
            "zerolinecolor": "white"
           }
          },
          "shapedefaults": {
           "line": {
            "color": "#2a3f5f"
           }
          },
          "ternary": {
           "aaxis": {
            "gridcolor": "white",
            "linecolor": "white",
            "ticks": ""
           },
           "baxis": {
            "gridcolor": "white",
            "linecolor": "white",
            "ticks": ""
           },
           "bgcolor": "#E5ECF6",
           "caxis": {
            "gridcolor": "white",
            "linecolor": "white",
            "ticks": ""
           }
          },
          "title": {
           "x": 0.05
          },
          "xaxis": {
           "automargin": true,
           "gridcolor": "white",
           "linecolor": "white",
           "ticks": "",
           "title": {
            "standoff": 15
           },
           "zerolinecolor": "white",
           "zerolinewidth": 2
          },
          "yaxis": {
           "automargin": true,
           "gridcolor": "white",
           "linecolor": "white",
           "ticks": "",
           "title": {
            "standoff": 15
           },
           "zerolinecolor": "white",
           "zerolinewidth": 2
          }
         }
        },
        "title": {
         "font": {
          "color": "#F4F4F4"
         }
        }
       }
      },
      "text/html": "<div>                            <div id=\"92e8acab-bb0b-47fe-87b8-db3d8e5fbd3a\" class=\"plotly-graph-div\" style=\"height:525px; width:100%;\"></div>            <script type=\"text/javascript\">                require([\"plotly\"], function(Plotly) {                    window.PLOTLYENV=window.PLOTLYENV || {};\n                    window.PLOTLYENV.BASE_URL='https://plot.ly';                                    if (document.getElementById(\"92e8acab-bb0b-47fe-87b8-db3d8e5fbd3a\")) {                    Plotly.newPlot(                        \"92e8acab-bb0b-47fe-87b8-db3d8e5fbd3a\",                        [{\"marker\": {\"color\": [\"rgba(219, 64, 82, 1.0)\", \"rgba(219, 64, 82, 0.9333333333333333)\", \"rgba(219, 64, 82, 0.8666666666666667)\", \"rgba(219, 64, 82, 0.8)\", \"rgba(219, 64, 82, 0.7333333333333334)\", \"rgba(219, 64, 82, 0.6666666666666667)\", \"rgba(219, 64, 82, 0.6000000000000001)\", \"rgba(219, 64, 82, 0.5333333333333334)\", \"rgba(219, 64, 82, 0.46666666666666684)\", \"rgba(219, 64, 82, 0.4000000000000002)\", \"rgba(219, 64, 82, 0.33333333333333354)\", \"rgba(219, 64, 82, 0.2666666666666669)\"], \"opacity\": 0.8, \"size\": [49, 19, 107, 71, 112, 12, 71, 33, 56, 102, 53, 52], \"symbol\": \"circle\"}, \"mode\": \"markers\", \"text\": [\"0\", \"1\", \"2\", \"3\", \"4\", \"5\", \"6\", \"7\", \"8\", \"9\", \"10\", \"11\"], \"type\": \"scatter3d\", \"x\": [-2.352167485018127, -0.5393122778054347, -0.42573019440887444, 0.26776364349734383, 0.5579439584008032, -2.679049320599313, 0.09118277139490051, -0.5080591106362299, 0.4117682243581151, -0.7207720757038314, -0.018027755306707617, -0.003966056292223622], \"y\": [0.13161722428169026, 0.6896533794889931, 1.1297854556795266, 1.9089195016037532, 0.6937300354372149, 0.05796330136136042, -0.004355173064896413, 0.4167522135523481, -0.5273622638523218, -0.015101534768381945, 0.3864260110242058, 0.10637719197434845], \"z\": [0.6870900459763812, 0.6863340523532754, 2.094511934792266, -0.4070673481444979, 0.22216755727427315, 1.7030908951600858, 0.23449288998048887, 0.43297674925839974, 0.18142794350703387, 1.3886576810229674, -0.5706184386714935, -1.2082851515497077]}],                        {\"legend\": {\"bgcolor\": \"#242424\", \"font\": {\"color\": \"#F4F4F4\"}}, \"paper_bgcolor\": \"#242424\", \"plot_bgcolor\": \"#242424\", \"scene\": {\"xaxis\": {\"gridcolor\": \"#343434\", \"showgrid\": true, \"tickfont\": {\"color\": \"#A4A4A4\"}, \"title\": {\"font\": {\"color\": \"#A4A4A4\"}, \"text\": \"\"}, \"zerolinecolor\": \"#343434\"}, \"yaxis\": {\"gridcolor\": \"#343434\", \"showgrid\": true, \"tickfont\": {\"color\": \"#A4A4A4\"}, \"title\": {\"font\": {\"color\": \"#A4A4A4\"}, \"text\": \"\"}, \"zerolinecolor\": \"#343434\"}, \"zaxis\": {\"gridcolor\": \"#343434\", \"showgrid\": true, \"tickfont\": {\"color\": \"#A4A4A4\"}, \"title\": {\"font\": {\"color\": \"#A4A4A4\"}, \"text\": \"\"}, \"zerolinecolor\": \"#343434\"}}, \"template\": {\"data\": {\"bar\": [{\"error_x\": {\"color\": \"#2a3f5f\"}, \"error_y\": {\"color\": \"#2a3f5f\"}, \"marker\": {\"line\": {\"color\": \"#E5ECF6\", \"width\": 0.5}}, \"type\": \"bar\"}], \"barpolar\": [{\"marker\": {\"line\": {\"color\": \"#E5ECF6\", \"width\": 0.5}}, \"type\": \"barpolar\"}], \"carpet\": [{\"aaxis\": {\"endlinecolor\": \"#2a3f5f\", \"gridcolor\": \"white\", \"linecolor\": \"white\", \"minorgridcolor\": \"white\", \"startlinecolor\": \"#2a3f5f\"}, \"baxis\": {\"endlinecolor\": \"#2a3f5f\", \"gridcolor\": \"white\", \"linecolor\": \"white\", \"minorgridcolor\": \"white\", \"startlinecolor\": \"#2a3f5f\"}, \"type\": \"carpet\"}], \"choropleth\": [{\"colorbar\": {\"outlinewidth\": 0, \"ticks\": \"\"}, \"type\": \"choropleth\"}], \"contour\": [{\"colorbar\": {\"outlinewidth\": 0, \"ticks\": \"\"}, \"colorscale\": [[0.0, \"#0d0887\"], [0.1111111111111111, \"#46039f\"], [0.2222222222222222, \"#7201a8\"], [0.3333333333333333, \"#9c179e\"], [0.4444444444444444, \"#bd3786\"], [0.5555555555555556, \"#d8576b\"], [0.6666666666666666, \"#ed7953\"], [0.7777777777777778, \"#fb9f3a\"], [0.8888888888888888, \"#fdca26\"], [1.0, \"#f0f921\"]], \"type\": \"contour\"}], \"contourcarpet\": [{\"colorbar\": {\"outlinewidth\": 0, \"ticks\": \"\"}, \"type\": \"contourcarpet\"}], \"heatmap\": [{\"colorbar\": {\"outlinewidth\": 0, \"ticks\": \"\"}, \"colorscale\": [[0.0, \"#0d0887\"], [0.1111111111111111, \"#46039f\"], [0.2222222222222222, \"#7201a8\"], [0.3333333333333333, \"#9c179e\"], [0.4444444444444444, \"#bd3786\"], [0.5555555555555556, \"#d8576b\"], [0.6666666666666666, \"#ed7953\"], [0.7777777777777778, \"#fb9f3a\"], [0.8888888888888888, \"#fdca26\"], [1.0, \"#f0f921\"]], \"type\": \"heatmap\"}], \"heatmapgl\": [{\"colorbar\": {\"outlinewidth\": 0, \"ticks\": \"\"}, \"colorscale\": [[0.0, \"#0d0887\"], [0.1111111111111111, \"#46039f\"], [0.2222222222222222, \"#7201a8\"], [0.3333333333333333, \"#9c179e\"], [0.4444444444444444, \"#bd3786\"], [0.5555555555555556, \"#d8576b\"], [0.6666666666666666, \"#ed7953\"], [0.7777777777777778, \"#fb9f3a\"], [0.8888888888888888, \"#fdca26\"], [1.0, \"#f0f921\"]], \"type\": \"heatmapgl\"}], \"histogram\": [{\"marker\": {\"colorbar\": {\"outlinewidth\": 0, \"ticks\": \"\"}}, \"type\": \"histogram\"}], \"histogram2d\": [{\"colorbar\": {\"outlinewidth\": 0, \"ticks\": \"\"}, \"colorscale\": [[0.0, \"#0d0887\"], [0.1111111111111111, \"#46039f\"], [0.2222222222222222, \"#7201a8\"], [0.3333333333333333, \"#9c179e\"], [0.4444444444444444, \"#bd3786\"], [0.5555555555555556, \"#d8576b\"], [0.6666666666666666, \"#ed7953\"], [0.7777777777777778, \"#fb9f3a\"], [0.8888888888888888, \"#fdca26\"], [1.0, \"#f0f921\"]], \"type\": \"histogram2d\"}], \"histogram2dcontour\": [{\"colorbar\": {\"outlinewidth\": 0, \"ticks\": \"\"}, \"colorscale\": [[0.0, \"#0d0887\"], [0.1111111111111111, \"#46039f\"], [0.2222222222222222, \"#7201a8\"], [0.3333333333333333, \"#9c179e\"], [0.4444444444444444, \"#bd3786\"], [0.5555555555555556, \"#d8576b\"], [0.6666666666666666, \"#ed7953\"], [0.7777777777777778, \"#fb9f3a\"], [0.8888888888888888, \"#fdca26\"], [1.0, \"#f0f921\"]], \"type\": \"histogram2dcontour\"}], \"mesh3d\": [{\"colorbar\": {\"outlinewidth\": 0, \"ticks\": \"\"}, \"type\": \"mesh3d\"}], \"parcoords\": [{\"line\": {\"colorbar\": {\"outlinewidth\": 0, \"ticks\": \"\"}}, \"type\": \"parcoords\"}], \"pie\": [{\"automargin\": true, \"type\": \"pie\"}], \"scatter\": [{\"marker\": {\"colorbar\": {\"outlinewidth\": 0, \"ticks\": \"\"}}, \"type\": \"scatter\"}], \"scatter3d\": [{\"line\": {\"colorbar\": {\"outlinewidth\": 0, \"ticks\": \"\"}}, \"marker\": {\"colorbar\": {\"outlinewidth\": 0, \"ticks\": \"\"}}, \"type\": \"scatter3d\"}], \"scattercarpet\": [{\"marker\": {\"colorbar\": {\"outlinewidth\": 0, \"ticks\": \"\"}}, \"type\": \"scattercarpet\"}], \"scattergeo\": [{\"marker\": {\"colorbar\": {\"outlinewidth\": 0, \"ticks\": \"\"}}, \"type\": \"scattergeo\"}], \"scattergl\": [{\"marker\": {\"colorbar\": {\"outlinewidth\": 0, \"ticks\": \"\"}}, \"type\": \"scattergl\"}], \"scattermapbox\": [{\"marker\": {\"colorbar\": {\"outlinewidth\": 0, \"ticks\": \"\"}}, \"type\": \"scattermapbox\"}], \"scatterpolar\": [{\"marker\": {\"colorbar\": {\"outlinewidth\": 0, \"ticks\": \"\"}}, \"type\": \"scatterpolar\"}], \"scatterpolargl\": [{\"marker\": {\"colorbar\": {\"outlinewidth\": 0, \"ticks\": \"\"}}, \"type\": \"scatterpolargl\"}], \"scatterternary\": [{\"marker\": {\"colorbar\": {\"outlinewidth\": 0, \"ticks\": \"\"}}, \"type\": \"scatterternary\"}], \"surface\": [{\"colorbar\": {\"outlinewidth\": 0, \"ticks\": \"\"}, \"colorscale\": [[0.0, \"#0d0887\"], [0.1111111111111111, \"#46039f\"], [0.2222222222222222, \"#7201a8\"], [0.3333333333333333, \"#9c179e\"], [0.4444444444444444, \"#bd3786\"], [0.5555555555555556, \"#d8576b\"], [0.6666666666666666, \"#ed7953\"], [0.7777777777777778, \"#fb9f3a\"], [0.8888888888888888, \"#fdca26\"], [1.0, \"#f0f921\"]], \"type\": \"surface\"}], \"table\": [{\"cells\": {\"fill\": {\"color\": \"#EBF0F8\"}, \"line\": {\"color\": \"white\"}}, \"header\": {\"fill\": {\"color\": \"#C8D4E3\"}, \"line\": {\"color\": \"white\"}}, \"type\": \"table\"}]}, \"layout\": {\"annotationdefaults\": {\"arrowcolor\": \"#2a3f5f\", \"arrowhead\": 0, \"arrowwidth\": 1}, \"autotypenumbers\": \"strict\", \"coloraxis\": {\"colorbar\": {\"outlinewidth\": 0, \"ticks\": \"\"}}, \"colorscale\": {\"diverging\": [[0, \"#8e0152\"], [0.1, \"#c51b7d\"], [0.2, \"#de77ae\"], [0.3, \"#f1b6da\"], [0.4, \"#fde0ef\"], [0.5, \"#f7f7f7\"], [0.6, \"#e6f5d0\"], [0.7, \"#b8e186\"], [0.8, \"#7fbc41\"], [0.9, \"#4d9221\"], [1, \"#276419\"]], \"sequential\": [[0.0, \"#0d0887\"], [0.1111111111111111, \"#46039f\"], [0.2222222222222222, \"#7201a8\"], [0.3333333333333333, \"#9c179e\"], [0.4444444444444444, \"#bd3786\"], [0.5555555555555556, \"#d8576b\"], [0.6666666666666666, \"#ed7953\"], [0.7777777777777778, \"#fb9f3a\"], [0.8888888888888888, \"#fdca26\"], [1.0, \"#f0f921\"]], \"sequentialminus\": [[0.0, \"#0d0887\"], [0.1111111111111111, \"#46039f\"], [0.2222222222222222, \"#7201a8\"], [0.3333333333333333, \"#9c179e\"], [0.4444444444444444, \"#bd3786\"], [0.5555555555555556, \"#d8576b\"], [0.6666666666666666, \"#ed7953\"], [0.7777777777777778, \"#fb9f3a\"], [0.8888888888888888, \"#fdca26\"], [1.0, \"#f0f921\"]]}, \"colorway\": [\"#636efa\", \"#EF553B\", \"#00cc96\", \"#ab63fa\", \"#FFA15A\", \"#19d3f3\", \"#FF6692\", \"#B6E880\", \"#FF97FF\", \"#FECB52\"], \"font\": {\"color\": \"#2a3f5f\"}, \"geo\": {\"bgcolor\": \"white\", \"lakecolor\": \"white\", \"landcolor\": \"#E5ECF6\", \"showlakes\": true, \"showland\": true, \"subunitcolor\": \"white\"}, \"hoverlabel\": {\"align\": \"left\"}, \"hovermode\": \"closest\", \"mapbox\": {\"style\": \"light\"}, \"paper_bgcolor\": \"white\", \"plot_bgcolor\": \"#E5ECF6\", \"polar\": {\"angularaxis\": {\"gridcolor\": \"white\", \"linecolor\": \"white\", \"ticks\": \"\"}, \"bgcolor\": \"#E5ECF6\", \"radialaxis\": {\"gridcolor\": \"white\", \"linecolor\": \"white\", \"ticks\": \"\"}}, \"scene\": {\"xaxis\": {\"backgroundcolor\": \"#E5ECF6\", \"gridcolor\": \"white\", \"gridwidth\": 2, \"linecolor\": \"white\", \"showbackground\": true, \"ticks\": \"\", \"zerolinecolor\": \"white\"}, \"yaxis\": {\"backgroundcolor\": \"#E5ECF6\", \"gridcolor\": \"white\", \"gridwidth\": 2, \"linecolor\": \"white\", \"showbackground\": true, \"ticks\": \"\", \"zerolinecolor\": \"white\"}, \"zaxis\": {\"backgroundcolor\": \"#E5ECF6\", \"gridcolor\": \"white\", \"gridwidth\": 2, \"linecolor\": \"white\", \"showbackground\": true, \"ticks\": \"\", \"zerolinecolor\": \"white\"}}, \"shapedefaults\": {\"line\": {\"color\": \"#2a3f5f\"}}, \"ternary\": {\"aaxis\": {\"gridcolor\": \"white\", \"linecolor\": \"white\", \"ticks\": \"\"}, \"baxis\": {\"gridcolor\": \"white\", \"linecolor\": \"white\", \"ticks\": \"\"}, \"bgcolor\": \"#E5ECF6\", \"caxis\": {\"gridcolor\": \"white\", \"linecolor\": \"white\", \"ticks\": \"\"}}, \"title\": {\"x\": 0.05}, \"xaxis\": {\"automargin\": true, \"gridcolor\": \"white\", \"linecolor\": \"white\", \"ticks\": \"\", \"title\": {\"standoff\": 15}, \"zerolinecolor\": \"white\", \"zerolinewidth\": 2}, \"yaxis\": {\"automargin\": true, \"gridcolor\": \"white\", \"linecolor\": \"white\", \"ticks\": \"\", \"title\": {\"standoff\": 15}, \"zerolinecolor\": \"white\", \"zerolinewidth\": 2}}}, \"title\": {\"font\": {\"color\": \"#F4F4F4\"}}},                        {\"showLink\": true, \"linkText\": \"Export to plot.ly\", \"plotlyServerURL\": \"https://plot.ly\", \"responsive\": true}                    ).then(function(){\n                            \nvar gd = document.getElementById('92e8acab-bb0b-47fe-87b8-db3d8e5fbd3a');\nvar x = new MutationObserver(function (mutations, observer) {{\n        var display = window.getComputedStyle(gd).display;\n        if (!display || display === 'none') {{\n            console.log([gd, 'removed!']);\n            Plotly.purge(gd);\n            observer.disconnect();\n        }}\n}});\n\n// Listen for the removal of the full notebook cells\nvar notebookContainer = gd.closest('#notebook-container');\nif (notebookContainer) {{\n    x.observe(notebookContainer, {childList: true});\n}}\n\n// Listen for the clearing of the current output cell\nvar outputEl = gd.closest('.output');\nif (outputEl) {{\n    x.observe(outputEl, {childList: true});\n}}\n\n                        })                };                });            </script>        </div>"
     },
     "metadata": {}
    }
   ],
   "source": [
    "data= pd.DataFrame(np.random.randn(12,4), columns= ['A', 'B', 'C', 'D'])\n",
    "data.iplot(kind='bubble3d', x='A', y='B', z='C',size= 'D', theme= 'henanigans', colors= 'red', gridcolor= 'skyblue')"
   ]
  },
  {
   "source": [
    "*10. scattermatrix*\n",
    "\n",
    "This is very similar to pairplot in seaborn"
   ],
   "cell_type": "markdown",
   "metadata": {}
  },
  {
   "cell_type": "code",
   "execution_count": 239,
   "metadata": {},
   "outputs": [
    {
     "output_type": "display_data",
     "data": {
      "application/vnd.plotly.v1+json": {
       "config": {
        "linkText": "Export to plot.ly",
        "plotlyServerURL": "https://plot.ly",
        "showLink": true
       },
       "data": [
        {
         "histfunc": "count",
         "histnorm": "",
         "marker": {
          "color": "rgba(255, 153, 51, 1.0)",
          "line": {
           "color": "#4D5663",
           "width": 1.3
          }
         },
         "name": "A",
         "nbinsx": 10,
         "opacity": 0.8,
         "orientation": "v",
         "type": "histogram",
         "x": [
          -0.9792515936598923,
          0.9598050055042266,
          1.2879497854926978,
          -0.7580525281398575,
          0.7395394550550108,
          0.17019107169090317,
          -0.1293765011854134,
          0.4456954392361662,
          0.13772919772007583,
          -1.1475557380589023,
          0.7148856836266592,
          1.4579626985599747,
          0.8874119734406709,
          0.3072755156395645,
          2.0957456279779065,
          0.5899177376437668,
          1.0364047408183756,
          0.7388472871926347,
          0.17950427668644467,
          0.3680753376522049,
          0.1368695577373032,
          0.8159967349839087,
          -0.14844827589627468,
          0.9610220648185201,
          0.8403045958850671,
          0.1539828413327248,
          -0.22403721645926258,
          -0.9886846475465637,
          -0.041097672863380195,
          -0.20336539740261284,
          -0.8272592313380914,
          -0.7377644328272414,
          0.6228589278084802,
          1.0167861280965602,
          -2.2412581790082666,
          -0.18088089665349677,
          0.38747162796369533,
          -0.022976036922044408,
          -0.376997829574464,
          0.12116576151183464,
          0.004016022807814205,
          -1.8023654641354336,
          -0.8309213004133602,
          -0.37467942398393506,
          0.16749391300381028,
          2.157106901960888,
          0.26801897806054975,
          -0.12917654316980617,
          -1.1921864240944327,
          1.6144706272625435,
          0.44154651927524047,
          -1.5248455068331284,
          -1.379729809199886,
          -0.3071048272960799,
          0.11873027241721576,
          -0.18440988283347878,
          -1.5364079402765836,
          -1.7659951853905054,
          -1.1925247660678762,
          -0.3719050473318741,
          0.9116004418673352,
          -1.2893901771054779,
          0.3494224192856916,
          0.12384105919512163,
          -0.2853887638156255,
          -0.05477890823051662,
          -0.13339681427823635,
          0.002483580579456353,
          0.6483924643575026,
          -1.7744604454121766,
          0.051018691708484755,
          -0.20831087775659465,
          1.2036245135778298,
          0.37460006318208516,
          -0.007357554347866323,
          0.5125991262014535,
          0.0024173923945399363,
          -0.8563025126597791,
          -0.7617603492153533,
          -1.792629772347877,
          0.360765760598241,
          -0.7718682940507207,
          1.6886536550319722,
          1.194024448998109,
          -0.417875534770027,
          2.122611684514379,
          -0.20455142051435,
          -1.3193963771012482,
          -1.7879804873841585,
          0.4066145570917323,
          1.434386069614315,
          -0.5881888567526482,
          -1.2337031790890676,
          -0.7429661704558083,
          0.0566414277132115,
          -1.2378557179328697,
          -0.43038873430261276,
          -2.5320354376990766,
          0.7598237879841848,
          0.48412359488350337
         ],
         "xaxis": "x",
         "yaxis": "y"
        },
        {
         "line": {
          "color": "rgba(128, 128, 128, 1.0)",
          "dash": "solid",
          "shape": "linear",
          "width": 1.3
         },
         "marker": {
          "size": 2,
          "symbol": "circle"
         },
         "mode": "markers",
         "name": "A",
         "text": "",
         "type": "scatter",
         "x": [
          -0.0033035822899469052,
          0.3142449677503647,
          -1.504523021926638,
          1.0044432988561958,
          -0.3786281864931309,
          1.6221183698918318,
          -0.6833666110514979,
          -0.09085898589503208,
          0.4183024142850112,
          0.1599510285795126,
          0.4983380417069129,
          -2.38735035273387,
          -0.17484722770594668,
          -0.7024036572296523,
          -0.2377817653329279,
          1.0463693206953972,
          -1.206970761077781,
          -0.27926473845743927,
          0.024497475622231084,
          0.07215395894711478,
          0.8060503759899023,
          -0.10523700135619246,
          0.4892495322097234,
          -1.6211612465614205,
          -0.9413730510682876,
          0.5618878755989775,
          1.148898697209982,
          -0.8603059741609684,
          -0.2545352736983566,
          0.3221749143716371,
          0.8184090970176358,
          0.603400860775381,
          0.29148084806096053,
          1.2197382793191827,
          -0.11597682125807925,
          -0.993512699913698,
          0.6287345083305073,
          -0.23713521257102554,
          -0.3097494760631051,
          -0.5890817405505082,
          -1.1603607004584577,
          0.9875973705562235,
          -0.063031992142952,
          0.5528356056102148,
          0.9943802775983782,
          1.5885704578261726,
          -0.9751179842350768,
          0.6218820952952601,
          -2.0323297593875838,
          -0.5484199829062123,
          -0.12137817399783384,
          -1.2309977016776752,
          -0.9313693797491154,
          0.2663840238711808,
          -1.6717292793656437,
          -0.4542443768926661,
          -0.2721841210031825,
          -2.536542463070985,
          0.4847118496688762,
          -2.1214691330865127,
          -1.1620826355082072,
          -0.048986563425723995,
          -1.2645433415566478,
          1.9997478527752839,
          1.166476246332891,
          -3.103425838335752,
          -1.4438539094973724,
          1.5718043608392394,
          -0.7335294160030932,
          -1.197965786647293,
          1.0722513065522665,
          -0.7826362934224473,
          -0.49820503134543775,
          1.5716627803037155,
          -0.005317290143883737,
          -0.3593653166820716,
          1.5597095911561978,
          1.0503815987596175,
          0.3441039774821109,
          -0.04974121712467084,
          0.008170229384752613,
          -0.9709058136802701,
          2.417034408248457,
          -1.2124867561742774,
          0.6046417869674267,
          -0.3585076795507522,
          0.06705171160120478,
          1.4546189083140886,
          -0.42913586866418607,
          -0.707992549805246,
          -2.096983049597022,
          0.038373856459275275,
          0.6579882416462015,
          2.2386147056613295,
          -0.6608003396245523,
          -0.9953483586408077,
          0.43580220111517376,
          -0.5404418613480602,
          3.3467118532442397,
          0.34927520878526047
         ],
         "xaxis": "x2",
         "y": [
          -0.9792515936598923,
          0.9598050055042266,
          1.2879497854926978,
          -0.7580525281398575,
          0.7395394550550108,
          0.17019107169090317,
          -0.1293765011854134,
          0.4456954392361662,
          0.13772919772007583,
          -1.1475557380589023,
          0.7148856836266592,
          1.4579626985599747,
          0.8874119734406709,
          0.3072755156395645,
          2.0957456279779065,
          0.5899177376437668,
          1.0364047408183756,
          0.7388472871926347,
          0.17950427668644467,
          0.3680753376522049,
          0.1368695577373032,
          0.8159967349839087,
          -0.14844827589627468,
          0.9610220648185201,
          0.8403045958850671,
          0.1539828413327248,
          -0.22403721645926258,
          -0.9886846475465637,
          -0.041097672863380195,
          -0.20336539740261284,
          -0.8272592313380914,
          -0.7377644328272414,
          0.6228589278084802,
          1.0167861280965602,
          -2.2412581790082666,
          -0.18088089665349677,
          0.38747162796369533,
          -0.022976036922044408,
          -0.376997829574464,
          0.12116576151183464,
          0.004016022807814205,
          -1.8023654641354336,
          -0.8309213004133602,
          -0.37467942398393506,
          0.16749391300381028,
          2.157106901960888,
          0.26801897806054975,
          -0.12917654316980617,
          -1.1921864240944327,
          1.6144706272625435,
          0.44154651927524047,
          -1.5248455068331284,
          -1.379729809199886,
          -0.3071048272960799,
          0.11873027241721576,
          -0.18440988283347878,
          -1.5364079402765836,
          -1.7659951853905054,
          -1.1925247660678762,
          -0.3719050473318741,
          0.9116004418673352,
          -1.2893901771054779,
          0.3494224192856916,
          0.12384105919512163,
          -0.2853887638156255,
          -0.05477890823051662,
          -0.13339681427823635,
          0.002483580579456353,
          0.6483924643575026,
          -1.7744604454121766,
          0.051018691708484755,
          -0.20831087775659465,
          1.2036245135778298,
          0.37460006318208516,
          -0.007357554347866323,
          0.5125991262014535,
          0.0024173923945399363,
          -0.8563025126597791,
          -0.7617603492153533,
          -1.792629772347877,
          0.360765760598241,
          -0.7718682940507207,
          1.6886536550319722,
          1.194024448998109,
          -0.417875534770027,
          2.122611684514379,
          -0.20455142051435,
          -1.3193963771012482,
          -1.7879804873841585,
          0.4066145570917323,
          1.434386069614315,
          -0.5881888567526482,
          -1.2337031790890676,
          -0.7429661704558083,
          0.0566414277132115,
          -1.2378557179328697,
          -0.43038873430261276,
          -2.5320354376990766,
          0.7598237879841848,
          0.48412359488350337
         ],
         "yaxis": "y2"
        },
        {
         "line": {
          "color": "rgba(128, 128, 128, 1.0)",
          "dash": "solid",
          "shape": "linear",
          "width": 1.3
         },
         "marker": {
          "size": 2,
          "symbol": "circle"
         },
         "mode": "markers",
         "name": "A",
         "text": "",
         "type": "scatter",
         "x": [
          -1.029169055522879,
          -0.6255978007913707,
          1.0417982196879223,
          2.2449486385713384,
          -0.6795945775053402,
          0.14631255858470052,
          0.3731668746960911,
          0.4124420330489584,
          1.5113484075983132,
          0.5920468325658576,
          0.2793855445424416,
          -0.29619014153343065,
          2.3727187380412276,
          -0.6841365657268245,
          0.49440394600584864,
          0.6388836557479353,
          0.21519353566892171,
          0.08067736888339132,
          1.355625354020415,
          -0.348654489687168,
          -0.4947196965310076,
          -0.3582819911117431,
          0.8482378687717445,
          -0.7550696581956536,
          0.09628928497248218,
          0.3694001280085396,
          1.7522158422386362,
          0.24728003851561672,
          1.4320945076126141,
          0.38078115390777206,
          0.49485054834994746,
          0.10834747534480808,
          0.40440051019822765,
          0.46318804403090136,
          0.8498937327069608,
          0.30823700591443287,
          -0.16957495168143608,
          1.4656183402677774,
          -0.2756627766669359,
          -1.558366156240104,
          -1.44390954708868,
          -0.5051680953931286,
          0.27620048996716984,
          -1.8343779836571938,
          -0.32566386109769674,
          -0.5377091427902171,
          -0.8793316602002474,
          -0.13730101188128274,
          0.4739117707913685,
          1.9456675653065694,
          -0.34549575735322996,
          0.9720333799605246,
          -0.26228104507380334,
          -0.5714395653881361,
          0.14502575276461074,
          -1.8641784872791407,
          0.8869491501534156,
          1.5217251811022767,
          1.3921339746257404,
          1.1907950182465863,
          -1.3679269183388134,
          -0.42830897316735944,
          0.16752652136906077,
          -0.822993733943916,
          0.032639710581331624,
          -1.7353173585494512,
          1.3006424924535107,
          -2.658447080801197,
          -0.7260667522978758,
          -1.346559369571314,
          1.2100767873230984,
          0.14199042718703583,
          1.3810124437891032,
          0.17475647805393424,
          -0.7973890264270153,
          0.5809185216045772,
          -0.3885903405071358,
          0.10406688806814304,
          1.370396070389675,
          -0.23398496826648119,
          -0.29001376284099223,
          -0.28707110106581923,
          0.25979132952928025,
          -0.1617035485251935,
          -0.6720898907014572,
          0.7962255499025633,
          -0.6948156806562187,
          0.9390569733955219,
          1.8104513153386503,
          0.5111732025237625,
          -0.7447934329773587,
          -0.36545521090245675,
          0.12658057977115625,
          -1.1224377540795116,
          0.23315136938347406,
          -0.3592208292662069,
          -0.3149408561046429,
          0.7604586976536822,
          0.8599817036861749,
          -2.121030951423784
         ],
         "xaxis": "x3",
         "y": [
          -0.9792515936598923,
          0.9598050055042266,
          1.2879497854926978,
          -0.7580525281398575,
          0.7395394550550108,
          0.17019107169090317,
          -0.1293765011854134,
          0.4456954392361662,
          0.13772919772007583,
          -1.1475557380589023,
          0.7148856836266592,
          1.4579626985599747,
          0.8874119734406709,
          0.3072755156395645,
          2.0957456279779065,
          0.5899177376437668,
          1.0364047408183756,
          0.7388472871926347,
          0.17950427668644467,
          0.3680753376522049,
          0.1368695577373032,
          0.8159967349839087,
          -0.14844827589627468,
          0.9610220648185201,
          0.8403045958850671,
          0.1539828413327248,
          -0.22403721645926258,
          -0.9886846475465637,
          -0.041097672863380195,
          -0.20336539740261284,
          -0.8272592313380914,
          -0.7377644328272414,
          0.6228589278084802,
          1.0167861280965602,
          -2.2412581790082666,
          -0.18088089665349677,
          0.38747162796369533,
          -0.022976036922044408,
          -0.376997829574464,
          0.12116576151183464,
          0.004016022807814205,
          -1.8023654641354336,
          -0.8309213004133602,
          -0.37467942398393506,
          0.16749391300381028,
          2.157106901960888,
          0.26801897806054975,
          -0.12917654316980617,
          -1.1921864240944327,
          1.6144706272625435,
          0.44154651927524047,
          -1.5248455068331284,
          -1.379729809199886,
          -0.3071048272960799,
          0.11873027241721576,
          -0.18440988283347878,
          -1.5364079402765836,
          -1.7659951853905054,
          -1.1925247660678762,
          -0.3719050473318741,
          0.9116004418673352,
          -1.2893901771054779,
          0.3494224192856916,
          0.12384105919512163,
          -0.2853887638156255,
          -0.05477890823051662,
          -0.13339681427823635,
          0.002483580579456353,
          0.6483924643575026,
          -1.7744604454121766,
          0.051018691708484755,
          -0.20831087775659465,
          1.2036245135778298,
          0.37460006318208516,
          -0.007357554347866323,
          0.5125991262014535,
          0.0024173923945399363,
          -0.8563025126597791,
          -0.7617603492153533,
          -1.792629772347877,
          0.360765760598241,
          -0.7718682940507207,
          1.6886536550319722,
          1.194024448998109,
          -0.417875534770027,
          2.122611684514379,
          -0.20455142051435,
          -1.3193963771012482,
          -1.7879804873841585,
          0.4066145570917323,
          1.434386069614315,
          -0.5881888567526482,
          -1.2337031790890676,
          -0.7429661704558083,
          0.0566414277132115,
          -1.2378557179328697,
          -0.43038873430261276,
          -2.5320354376990766,
          0.7598237879841848,
          0.48412359488350337
         ],
         "yaxis": "y3"
        },
        {
         "line": {
          "color": "rgba(128, 128, 128, 1.0)",
          "dash": "solid",
          "shape": "linear",
          "width": 1.3
         },
         "marker": {
          "size": 2,
          "symbol": "circle"
         },
         "mode": "markers",
         "name": "A",
         "text": "",
         "type": "scatter",
         "x": [
          -0.46308053517921177,
          -0.22893297382440694,
          0.28152771977670005,
          0.841148244630791,
          0.09335388118504882,
          0.09404129945671476,
          -0.27604509647678394,
          -1.4149534857065915,
          0.6303783847458049,
          1.0140454768881473,
          0.6247341776241347,
          0.3462567203067475,
          0.06618476657523857,
          0.22304990357635202,
          -0.7104729965870029,
          -0.36754819414362006,
          0.7527370093648587,
          0.4243521358588527,
          -0.313879559965402,
          0.44453194663906453,
          -1.2215088401885823,
          0.5313535901603273,
          -1.136436468522623,
          -0.33583843750714953,
          0.695915250472006,
          -2.035088399463051,
          2.007662253559875,
          0.3019128256963567,
          -0.18113684687278164,
          1.8911687280243084,
          0.7572630803852446,
          -0.43219425771863185,
          0.2682190866781442,
          0.9638038961270988,
          0.38196860184494996,
          -0.904240690441337,
          0.9257726882611239,
          -3.089622695862602,
          0.022160723350371093,
          0.15890271523422386,
          1.2072376116298225,
          0.036906673259497653,
          1.9325182083788126,
          -2.65838624213967,
          1.33374362812293,
          -0.3002915926433879,
          -2.3339029672320337,
          0.4283179292567376,
          0.3920197131247837,
          1.0578439219875122,
          -1.2286183490049214,
          -0.42118880033063083,
          0.18221735978592854,
          0.7783483420916925,
          -1.1631454183180807,
          0.3409532835134661,
          -0.175860025671226,
          2.600067786231678,
          0.1424405264085281,
          0.6378341507289481,
          -0.7911396934565847,
          0.2970410528515773,
          -0.36757856712825604,
          0.001891577602284555,
          -0.9533757506556024,
          -1.5265124105099575,
          0.14141110796393855,
          3.6126504926656198,
          -0.4083508444949703,
          -1.3866183439117674,
          0.6146431833929709,
          -1.1797204483467447,
          -0.17626909828622517,
          -0.8315102988033132,
          -1.0629729405783421,
          0.6165434831247598,
          2.4710912898514956,
          -0.5136104215624592,
          -1.2833494881724943,
          -0.19740622984239123,
          -0.28292641821742964,
          -0.17332004636855022,
          -0.8472778358004164,
          -1.5638430808706032,
          -0.12651593497479413,
          0.5196255513517741,
          1.6550631354033751,
          -0.4268727901892978,
          1.0780805010140389,
          1.394028416980079,
          -0.27892950008419176,
          -0.42372865324865777,
          -0.0035800875407494483,
          -0.3109767884032559,
          -0.6928666677078057,
          -0.96026887219562,
          -0.17067052996934515,
          -0.8291957027802563,
          -1.872451022659089,
          0.4529640052721673
         ],
         "xaxis": "x4",
         "y": [
          -0.9792515936598923,
          0.9598050055042266,
          1.2879497854926978,
          -0.7580525281398575,
          0.7395394550550108,
          0.17019107169090317,
          -0.1293765011854134,
          0.4456954392361662,
          0.13772919772007583,
          -1.1475557380589023,
          0.7148856836266592,
          1.4579626985599747,
          0.8874119734406709,
          0.3072755156395645,
          2.0957456279779065,
          0.5899177376437668,
          1.0364047408183756,
          0.7388472871926347,
          0.17950427668644467,
          0.3680753376522049,
          0.1368695577373032,
          0.8159967349839087,
          -0.14844827589627468,
          0.9610220648185201,
          0.8403045958850671,
          0.1539828413327248,
          -0.22403721645926258,
          -0.9886846475465637,
          -0.041097672863380195,
          -0.20336539740261284,
          -0.8272592313380914,
          -0.7377644328272414,
          0.6228589278084802,
          1.0167861280965602,
          -2.2412581790082666,
          -0.18088089665349677,
          0.38747162796369533,
          -0.022976036922044408,
          -0.376997829574464,
          0.12116576151183464,
          0.004016022807814205,
          -1.8023654641354336,
          -0.8309213004133602,
          -0.37467942398393506,
          0.16749391300381028,
          2.157106901960888,
          0.26801897806054975,
          -0.12917654316980617,
          -1.1921864240944327,
          1.6144706272625435,
          0.44154651927524047,
          -1.5248455068331284,
          -1.379729809199886,
          -0.3071048272960799,
          0.11873027241721576,
          -0.18440988283347878,
          -1.5364079402765836,
          -1.7659951853905054,
          -1.1925247660678762,
          -0.3719050473318741,
          0.9116004418673352,
          -1.2893901771054779,
          0.3494224192856916,
          0.12384105919512163,
          -0.2853887638156255,
          -0.05477890823051662,
          -0.13339681427823635,
          0.002483580579456353,
          0.6483924643575026,
          -1.7744604454121766,
          0.051018691708484755,
          -0.20831087775659465,
          1.2036245135778298,
          0.37460006318208516,
          -0.007357554347866323,
          0.5125991262014535,
          0.0024173923945399363,
          -0.8563025126597791,
          -0.7617603492153533,
          -1.792629772347877,
          0.360765760598241,
          -0.7718682940507207,
          1.6886536550319722,
          1.194024448998109,
          -0.417875534770027,
          2.122611684514379,
          -0.20455142051435,
          -1.3193963771012482,
          -1.7879804873841585,
          0.4066145570917323,
          1.434386069614315,
          -0.5881888567526482,
          -1.2337031790890676,
          -0.7429661704558083,
          0.0566414277132115,
          -1.2378557179328697,
          -0.43038873430261276,
          -2.5320354376990766,
          0.7598237879841848,
          0.48412359488350337
         ],
         "yaxis": "y4"
        },
        {
         "line": {
          "color": "rgba(128, 128, 128, 1.0)",
          "dash": "solid",
          "shape": "linear",
          "width": 1.3
         },
         "marker": {
          "size": 2,
          "symbol": "circle"
         },
         "mode": "markers",
         "name": "B",
         "text": "",
         "type": "scatter",
         "x": [
          -0.9792515936598923,
          0.9598050055042266,
          1.2879497854926978,
          -0.7580525281398575,
          0.7395394550550108,
          0.17019107169090317,
          -0.1293765011854134,
          0.4456954392361662,
          0.13772919772007583,
          -1.1475557380589023,
          0.7148856836266592,
          1.4579626985599747,
          0.8874119734406709,
          0.3072755156395645,
          2.0957456279779065,
          0.5899177376437668,
          1.0364047408183756,
          0.7388472871926347,
          0.17950427668644467,
          0.3680753376522049,
          0.1368695577373032,
          0.8159967349839087,
          -0.14844827589627468,
          0.9610220648185201,
          0.8403045958850671,
          0.1539828413327248,
          -0.22403721645926258,
          -0.9886846475465637,
          -0.041097672863380195,
          -0.20336539740261284,
          -0.8272592313380914,
          -0.7377644328272414,
          0.6228589278084802,
          1.0167861280965602,
          -2.2412581790082666,
          -0.18088089665349677,
          0.38747162796369533,
          -0.022976036922044408,
          -0.376997829574464,
          0.12116576151183464,
          0.004016022807814205,
          -1.8023654641354336,
          -0.8309213004133602,
          -0.37467942398393506,
          0.16749391300381028,
          2.157106901960888,
          0.26801897806054975,
          -0.12917654316980617,
          -1.1921864240944327,
          1.6144706272625435,
          0.44154651927524047,
          -1.5248455068331284,
          -1.379729809199886,
          -0.3071048272960799,
          0.11873027241721576,
          -0.18440988283347878,
          -1.5364079402765836,
          -1.7659951853905054,
          -1.1925247660678762,
          -0.3719050473318741,
          0.9116004418673352,
          -1.2893901771054779,
          0.3494224192856916,
          0.12384105919512163,
          -0.2853887638156255,
          -0.05477890823051662,
          -0.13339681427823635,
          0.002483580579456353,
          0.6483924643575026,
          -1.7744604454121766,
          0.051018691708484755,
          -0.20831087775659465,
          1.2036245135778298,
          0.37460006318208516,
          -0.007357554347866323,
          0.5125991262014535,
          0.0024173923945399363,
          -0.8563025126597791,
          -0.7617603492153533,
          -1.792629772347877,
          0.360765760598241,
          -0.7718682940507207,
          1.6886536550319722,
          1.194024448998109,
          -0.417875534770027,
          2.122611684514379,
          -0.20455142051435,
          -1.3193963771012482,
          -1.7879804873841585,
          0.4066145570917323,
          1.434386069614315,
          -0.5881888567526482,
          -1.2337031790890676,
          -0.7429661704558083,
          0.0566414277132115,
          -1.2378557179328697,
          -0.43038873430261276,
          -2.5320354376990766,
          0.7598237879841848,
          0.48412359488350337
         ],
         "xaxis": "x5",
         "y": [
          -0.0033035822899469052,
          0.3142449677503647,
          -1.504523021926638,
          1.0044432988561958,
          -0.3786281864931309,
          1.6221183698918318,
          -0.6833666110514979,
          -0.09085898589503208,
          0.4183024142850112,
          0.1599510285795126,
          0.4983380417069129,
          -2.38735035273387,
          -0.17484722770594668,
          -0.7024036572296523,
          -0.2377817653329279,
          1.0463693206953972,
          -1.206970761077781,
          -0.27926473845743927,
          0.024497475622231084,
          0.07215395894711478,
          0.8060503759899023,
          -0.10523700135619246,
          0.4892495322097234,
          -1.6211612465614205,
          -0.9413730510682876,
          0.5618878755989775,
          1.148898697209982,
          -0.8603059741609684,
          -0.2545352736983566,
          0.3221749143716371,
          0.8184090970176358,
          0.603400860775381,
          0.29148084806096053,
          1.2197382793191827,
          -0.11597682125807925,
          -0.993512699913698,
          0.6287345083305073,
          -0.23713521257102554,
          -0.3097494760631051,
          -0.5890817405505082,
          -1.1603607004584577,
          0.9875973705562235,
          -0.063031992142952,
          0.5528356056102148,
          0.9943802775983782,
          1.5885704578261726,
          -0.9751179842350768,
          0.6218820952952601,
          -2.0323297593875838,
          -0.5484199829062123,
          -0.12137817399783384,
          -1.2309977016776752,
          -0.9313693797491154,
          0.2663840238711808,
          -1.6717292793656437,
          -0.4542443768926661,
          -0.2721841210031825,
          -2.536542463070985,
          0.4847118496688762,
          -2.1214691330865127,
          -1.1620826355082072,
          -0.048986563425723995,
          -1.2645433415566478,
          1.9997478527752839,
          1.166476246332891,
          -3.103425838335752,
          -1.4438539094973724,
          1.5718043608392394,
          -0.7335294160030932,
          -1.197965786647293,
          1.0722513065522665,
          -0.7826362934224473,
          -0.49820503134543775,
          1.5716627803037155,
          -0.005317290143883737,
          -0.3593653166820716,
          1.5597095911561978,
          1.0503815987596175,
          0.3441039774821109,
          -0.04974121712467084,
          0.008170229384752613,
          -0.9709058136802701,
          2.417034408248457,
          -1.2124867561742774,
          0.6046417869674267,
          -0.3585076795507522,
          0.06705171160120478,
          1.4546189083140886,
          -0.42913586866418607,
          -0.707992549805246,
          -2.096983049597022,
          0.038373856459275275,
          0.6579882416462015,
          2.2386147056613295,
          -0.6608003396245523,
          -0.9953483586408077,
          0.43580220111517376,
          -0.5404418613480602,
          3.3467118532442397,
          0.34927520878526047
         ],
         "yaxis": "y5"
        },
        {
         "histfunc": "count",
         "histnorm": "",
         "marker": {
          "color": "rgba(55, 128, 191, 1.0)",
          "line": {
           "color": "#4D5663",
           "width": 1.3
          }
         },
         "name": "B",
         "nbinsx": 10,
         "opacity": 0.8,
         "orientation": "v",
         "type": "histogram",
         "x": [
          -0.0033035822899469052,
          0.3142449677503647,
          -1.504523021926638,
          1.0044432988561958,
          -0.3786281864931309,
          1.6221183698918318,
          -0.6833666110514979,
          -0.09085898589503208,
          0.4183024142850112,
          0.1599510285795126,
          0.4983380417069129,
          -2.38735035273387,
          -0.17484722770594668,
          -0.7024036572296523,
          -0.2377817653329279,
          1.0463693206953972,
          -1.206970761077781,
          -0.27926473845743927,
          0.024497475622231084,
          0.07215395894711478,
          0.8060503759899023,
          -0.10523700135619246,
          0.4892495322097234,
          -1.6211612465614205,
          -0.9413730510682876,
          0.5618878755989775,
          1.148898697209982,
          -0.8603059741609684,
          -0.2545352736983566,
          0.3221749143716371,
          0.8184090970176358,
          0.603400860775381,
          0.29148084806096053,
          1.2197382793191827,
          -0.11597682125807925,
          -0.993512699913698,
          0.6287345083305073,
          -0.23713521257102554,
          -0.3097494760631051,
          -0.5890817405505082,
          -1.1603607004584577,
          0.9875973705562235,
          -0.063031992142952,
          0.5528356056102148,
          0.9943802775983782,
          1.5885704578261726,
          -0.9751179842350768,
          0.6218820952952601,
          -2.0323297593875838,
          -0.5484199829062123,
          -0.12137817399783384,
          -1.2309977016776752,
          -0.9313693797491154,
          0.2663840238711808,
          -1.6717292793656437,
          -0.4542443768926661,
          -0.2721841210031825,
          -2.536542463070985,
          0.4847118496688762,
          -2.1214691330865127,
          -1.1620826355082072,
          -0.048986563425723995,
          -1.2645433415566478,
          1.9997478527752839,
          1.166476246332891,
          -3.103425838335752,
          -1.4438539094973724,
          1.5718043608392394,
          -0.7335294160030932,
          -1.197965786647293,
          1.0722513065522665,
          -0.7826362934224473,
          -0.49820503134543775,
          1.5716627803037155,
          -0.005317290143883737,
          -0.3593653166820716,
          1.5597095911561978,
          1.0503815987596175,
          0.3441039774821109,
          -0.04974121712467084,
          0.008170229384752613,
          -0.9709058136802701,
          2.417034408248457,
          -1.2124867561742774,
          0.6046417869674267,
          -0.3585076795507522,
          0.06705171160120478,
          1.4546189083140886,
          -0.42913586866418607,
          -0.707992549805246,
          -2.096983049597022,
          0.038373856459275275,
          0.6579882416462015,
          2.2386147056613295,
          -0.6608003396245523,
          -0.9953483586408077,
          0.43580220111517376,
          -0.5404418613480602,
          3.3467118532442397,
          0.34927520878526047
         ],
         "xaxis": "x6",
         "yaxis": "y6"
        },
        {
         "line": {
          "color": "rgba(128, 128, 128, 1.0)",
          "dash": "solid",
          "shape": "linear",
          "width": 1.3
         },
         "marker": {
          "size": 2,
          "symbol": "circle"
         },
         "mode": "markers",
         "name": "B",
         "text": "",
         "type": "scatter",
         "x": [
          -1.029169055522879,
          -0.6255978007913707,
          1.0417982196879223,
          2.2449486385713384,
          -0.6795945775053402,
          0.14631255858470052,
          0.3731668746960911,
          0.4124420330489584,
          1.5113484075983132,
          0.5920468325658576,
          0.2793855445424416,
          -0.29619014153343065,
          2.3727187380412276,
          -0.6841365657268245,
          0.49440394600584864,
          0.6388836557479353,
          0.21519353566892171,
          0.08067736888339132,
          1.355625354020415,
          -0.348654489687168,
          -0.4947196965310076,
          -0.3582819911117431,
          0.8482378687717445,
          -0.7550696581956536,
          0.09628928497248218,
          0.3694001280085396,
          1.7522158422386362,
          0.24728003851561672,
          1.4320945076126141,
          0.38078115390777206,
          0.49485054834994746,
          0.10834747534480808,
          0.40440051019822765,
          0.46318804403090136,
          0.8498937327069608,
          0.30823700591443287,
          -0.16957495168143608,
          1.4656183402677774,
          -0.2756627766669359,
          -1.558366156240104,
          -1.44390954708868,
          -0.5051680953931286,
          0.27620048996716984,
          -1.8343779836571938,
          -0.32566386109769674,
          -0.5377091427902171,
          -0.8793316602002474,
          -0.13730101188128274,
          0.4739117707913685,
          1.9456675653065694,
          -0.34549575735322996,
          0.9720333799605246,
          -0.26228104507380334,
          -0.5714395653881361,
          0.14502575276461074,
          -1.8641784872791407,
          0.8869491501534156,
          1.5217251811022767,
          1.3921339746257404,
          1.1907950182465863,
          -1.3679269183388134,
          -0.42830897316735944,
          0.16752652136906077,
          -0.822993733943916,
          0.032639710581331624,
          -1.7353173585494512,
          1.3006424924535107,
          -2.658447080801197,
          -0.7260667522978758,
          -1.346559369571314,
          1.2100767873230984,
          0.14199042718703583,
          1.3810124437891032,
          0.17475647805393424,
          -0.7973890264270153,
          0.5809185216045772,
          -0.3885903405071358,
          0.10406688806814304,
          1.370396070389675,
          -0.23398496826648119,
          -0.29001376284099223,
          -0.28707110106581923,
          0.25979132952928025,
          -0.1617035485251935,
          -0.6720898907014572,
          0.7962255499025633,
          -0.6948156806562187,
          0.9390569733955219,
          1.8104513153386503,
          0.5111732025237625,
          -0.7447934329773587,
          -0.36545521090245675,
          0.12658057977115625,
          -1.1224377540795116,
          0.23315136938347406,
          -0.3592208292662069,
          -0.3149408561046429,
          0.7604586976536822,
          0.8599817036861749,
          -2.121030951423784
         ],
         "xaxis": "x7",
         "y": [
          -0.0033035822899469052,
          0.3142449677503647,
          -1.504523021926638,
          1.0044432988561958,
          -0.3786281864931309,
          1.6221183698918318,
          -0.6833666110514979,
          -0.09085898589503208,
          0.4183024142850112,
          0.1599510285795126,
          0.4983380417069129,
          -2.38735035273387,
          -0.17484722770594668,
          -0.7024036572296523,
          -0.2377817653329279,
          1.0463693206953972,
          -1.206970761077781,
          -0.27926473845743927,
          0.024497475622231084,
          0.07215395894711478,
          0.8060503759899023,
          -0.10523700135619246,
          0.4892495322097234,
          -1.6211612465614205,
          -0.9413730510682876,
          0.5618878755989775,
          1.148898697209982,
          -0.8603059741609684,
          -0.2545352736983566,
          0.3221749143716371,
          0.8184090970176358,
          0.603400860775381,
          0.29148084806096053,
          1.2197382793191827,
          -0.11597682125807925,
          -0.993512699913698,
          0.6287345083305073,
          -0.23713521257102554,
          -0.3097494760631051,
          -0.5890817405505082,
          -1.1603607004584577,
          0.9875973705562235,
          -0.063031992142952,
          0.5528356056102148,
          0.9943802775983782,
          1.5885704578261726,
          -0.9751179842350768,
          0.6218820952952601,
          -2.0323297593875838,
          -0.5484199829062123,
          -0.12137817399783384,
          -1.2309977016776752,
          -0.9313693797491154,
          0.2663840238711808,
          -1.6717292793656437,
          -0.4542443768926661,
          -0.2721841210031825,
          -2.536542463070985,
          0.4847118496688762,
          -2.1214691330865127,
          -1.1620826355082072,
          -0.048986563425723995,
          -1.2645433415566478,
          1.9997478527752839,
          1.166476246332891,
          -3.103425838335752,
          -1.4438539094973724,
          1.5718043608392394,
          -0.7335294160030932,
          -1.197965786647293,
          1.0722513065522665,
          -0.7826362934224473,
          -0.49820503134543775,
          1.5716627803037155,
          -0.005317290143883737,
          -0.3593653166820716,
          1.5597095911561978,
          1.0503815987596175,
          0.3441039774821109,
          -0.04974121712467084,
          0.008170229384752613,
          -0.9709058136802701,
          2.417034408248457,
          -1.2124867561742774,
          0.6046417869674267,
          -0.3585076795507522,
          0.06705171160120478,
          1.4546189083140886,
          -0.42913586866418607,
          -0.707992549805246,
          -2.096983049597022,
          0.038373856459275275,
          0.6579882416462015,
          2.2386147056613295,
          -0.6608003396245523,
          -0.9953483586408077,
          0.43580220111517376,
          -0.5404418613480602,
          3.3467118532442397,
          0.34927520878526047
         ],
         "yaxis": "y7"
        },
        {
         "line": {
          "color": "rgba(128, 128, 128, 1.0)",
          "dash": "solid",
          "shape": "linear",
          "width": 1.3
         },
         "marker": {
          "size": 2,
          "symbol": "circle"
         },
         "mode": "markers",
         "name": "B",
         "text": "",
         "type": "scatter",
         "x": [
          -0.46308053517921177,
          -0.22893297382440694,
          0.28152771977670005,
          0.841148244630791,
          0.09335388118504882,
          0.09404129945671476,
          -0.27604509647678394,
          -1.4149534857065915,
          0.6303783847458049,
          1.0140454768881473,
          0.6247341776241347,
          0.3462567203067475,
          0.06618476657523857,
          0.22304990357635202,
          -0.7104729965870029,
          -0.36754819414362006,
          0.7527370093648587,
          0.4243521358588527,
          -0.313879559965402,
          0.44453194663906453,
          -1.2215088401885823,
          0.5313535901603273,
          -1.136436468522623,
          -0.33583843750714953,
          0.695915250472006,
          -2.035088399463051,
          2.007662253559875,
          0.3019128256963567,
          -0.18113684687278164,
          1.8911687280243084,
          0.7572630803852446,
          -0.43219425771863185,
          0.2682190866781442,
          0.9638038961270988,
          0.38196860184494996,
          -0.904240690441337,
          0.9257726882611239,
          -3.089622695862602,
          0.022160723350371093,
          0.15890271523422386,
          1.2072376116298225,
          0.036906673259497653,
          1.9325182083788126,
          -2.65838624213967,
          1.33374362812293,
          -0.3002915926433879,
          -2.3339029672320337,
          0.4283179292567376,
          0.3920197131247837,
          1.0578439219875122,
          -1.2286183490049214,
          -0.42118880033063083,
          0.18221735978592854,
          0.7783483420916925,
          -1.1631454183180807,
          0.3409532835134661,
          -0.175860025671226,
          2.600067786231678,
          0.1424405264085281,
          0.6378341507289481,
          -0.7911396934565847,
          0.2970410528515773,
          -0.36757856712825604,
          0.001891577602284555,
          -0.9533757506556024,
          -1.5265124105099575,
          0.14141110796393855,
          3.6126504926656198,
          -0.4083508444949703,
          -1.3866183439117674,
          0.6146431833929709,
          -1.1797204483467447,
          -0.17626909828622517,
          -0.8315102988033132,
          -1.0629729405783421,
          0.6165434831247598,
          2.4710912898514956,
          -0.5136104215624592,
          -1.2833494881724943,
          -0.19740622984239123,
          -0.28292641821742964,
          -0.17332004636855022,
          -0.8472778358004164,
          -1.5638430808706032,
          -0.12651593497479413,
          0.5196255513517741,
          1.6550631354033751,
          -0.4268727901892978,
          1.0780805010140389,
          1.394028416980079,
          -0.27892950008419176,
          -0.42372865324865777,
          -0.0035800875407494483,
          -0.3109767884032559,
          -0.6928666677078057,
          -0.96026887219562,
          -0.17067052996934515,
          -0.8291957027802563,
          -1.872451022659089,
          0.4529640052721673
         ],
         "xaxis": "x8",
         "y": [
          -0.0033035822899469052,
          0.3142449677503647,
          -1.504523021926638,
          1.0044432988561958,
          -0.3786281864931309,
          1.6221183698918318,
          -0.6833666110514979,
          -0.09085898589503208,
          0.4183024142850112,
          0.1599510285795126,
          0.4983380417069129,
          -2.38735035273387,
          -0.17484722770594668,
          -0.7024036572296523,
          -0.2377817653329279,
          1.0463693206953972,
          -1.206970761077781,
          -0.27926473845743927,
          0.024497475622231084,
          0.07215395894711478,
          0.8060503759899023,
          -0.10523700135619246,
          0.4892495322097234,
          -1.6211612465614205,
          -0.9413730510682876,
          0.5618878755989775,
          1.148898697209982,
          -0.8603059741609684,
          -0.2545352736983566,
          0.3221749143716371,
          0.8184090970176358,
          0.603400860775381,
          0.29148084806096053,
          1.2197382793191827,
          -0.11597682125807925,
          -0.993512699913698,
          0.6287345083305073,
          -0.23713521257102554,
          -0.3097494760631051,
          -0.5890817405505082,
          -1.1603607004584577,
          0.9875973705562235,
          -0.063031992142952,
          0.5528356056102148,
          0.9943802775983782,
          1.5885704578261726,
          -0.9751179842350768,
          0.6218820952952601,
          -2.0323297593875838,
          -0.5484199829062123,
          -0.12137817399783384,
          -1.2309977016776752,
          -0.9313693797491154,
          0.2663840238711808,
          -1.6717292793656437,
          -0.4542443768926661,
          -0.2721841210031825,
          -2.536542463070985,
          0.4847118496688762,
          -2.1214691330865127,
          -1.1620826355082072,
          -0.048986563425723995,
          -1.2645433415566478,
          1.9997478527752839,
          1.166476246332891,
          -3.103425838335752,
          -1.4438539094973724,
          1.5718043608392394,
          -0.7335294160030932,
          -1.197965786647293,
          1.0722513065522665,
          -0.7826362934224473,
          -0.49820503134543775,
          1.5716627803037155,
          -0.005317290143883737,
          -0.3593653166820716,
          1.5597095911561978,
          1.0503815987596175,
          0.3441039774821109,
          -0.04974121712467084,
          0.008170229384752613,
          -0.9709058136802701,
          2.417034408248457,
          -1.2124867561742774,
          0.6046417869674267,
          -0.3585076795507522,
          0.06705171160120478,
          1.4546189083140886,
          -0.42913586866418607,
          -0.707992549805246,
          -2.096983049597022,
          0.038373856459275275,
          0.6579882416462015,
          2.2386147056613295,
          -0.6608003396245523,
          -0.9953483586408077,
          0.43580220111517376,
          -0.5404418613480602,
          3.3467118532442397,
          0.34927520878526047
         ],
         "yaxis": "y8"
        },
        {
         "line": {
          "color": "rgba(128, 128, 128, 1.0)",
          "dash": "solid",
          "shape": "linear",
          "width": 1.3
         },
         "marker": {
          "size": 2,
          "symbol": "circle"
         },
         "mode": "markers",
         "name": "C",
         "text": "",
         "type": "scatter",
         "x": [
          -0.9792515936598923,
          0.9598050055042266,
          1.2879497854926978,
          -0.7580525281398575,
          0.7395394550550108,
          0.17019107169090317,
          -0.1293765011854134,
          0.4456954392361662,
          0.13772919772007583,
          -1.1475557380589023,
          0.7148856836266592,
          1.4579626985599747,
          0.8874119734406709,
          0.3072755156395645,
          2.0957456279779065,
          0.5899177376437668,
          1.0364047408183756,
          0.7388472871926347,
          0.17950427668644467,
          0.3680753376522049,
          0.1368695577373032,
          0.8159967349839087,
          -0.14844827589627468,
          0.9610220648185201,
          0.8403045958850671,
          0.1539828413327248,
          -0.22403721645926258,
          -0.9886846475465637,
          -0.041097672863380195,
          -0.20336539740261284,
          -0.8272592313380914,
          -0.7377644328272414,
          0.6228589278084802,
          1.0167861280965602,
          -2.2412581790082666,
          -0.18088089665349677,
          0.38747162796369533,
          -0.022976036922044408,
          -0.376997829574464,
          0.12116576151183464,
          0.004016022807814205,
          -1.8023654641354336,
          -0.8309213004133602,
          -0.37467942398393506,
          0.16749391300381028,
          2.157106901960888,
          0.26801897806054975,
          -0.12917654316980617,
          -1.1921864240944327,
          1.6144706272625435,
          0.44154651927524047,
          -1.5248455068331284,
          -1.379729809199886,
          -0.3071048272960799,
          0.11873027241721576,
          -0.18440988283347878,
          -1.5364079402765836,
          -1.7659951853905054,
          -1.1925247660678762,
          -0.3719050473318741,
          0.9116004418673352,
          -1.2893901771054779,
          0.3494224192856916,
          0.12384105919512163,
          -0.2853887638156255,
          -0.05477890823051662,
          -0.13339681427823635,
          0.002483580579456353,
          0.6483924643575026,
          -1.7744604454121766,
          0.051018691708484755,
          -0.20831087775659465,
          1.2036245135778298,
          0.37460006318208516,
          -0.007357554347866323,
          0.5125991262014535,
          0.0024173923945399363,
          -0.8563025126597791,
          -0.7617603492153533,
          -1.792629772347877,
          0.360765760598241,
          -0.7718682940507207,
          1.6886536550319722,
          1.194024448998109,
          -0.417875534770027,
          2.122611684514379,
          -0.20455142051435,
          -1.3193963771012482,
          -1.7879804873841585,
          0.4066145570917323,
          1.434386069614315,
          -0.5881888567526482,
          -1.2337031790890676,
          -0.7429661704558083,
          0.0566414277132115,
          -1.2378557179328697,
          -0.43038873430261276,
          -2.5320354376990766,
          0.7598237879841848,
          0.48412359488350337
         ],
         "xaxis": "x9",
         "y": [
          -1.029169055522879,
          -0.6255978007913707,
          1.0417982196879223,
          2.2449486385713384,
          -0.6795945775053402,
          0.14631255858470052,
          0.3731668746960911,
          0.4124420330489584,
          1.5113484075983132,
          0.5920468325658576,
          0.2793855445424416,
          -0.29619014153343065,
          2.3727187380412276,
          -0.6841365657268245,
          0.49440394600584864,
          0.6388836557479353,
          0.21519353566892171,
          0.08067736888339132,
          1.355625354020415,
          -0.348654489687168,
          -0.4947196965310076,
          -0.3582819911117431,
          0.8482378687717445,
          -0.7550696581956536,
          0.09628928497248218,
          0.3694001280085396,
          1.7522158422386362,
          0.24728003851561672,
          1.4320945076126141,
          0.38078115390777206,
          0.49485054834994746,
          0.10834747534480808,
          0.40440051019822765,
          0.46318804403090136,
          0.8498937327069608,
          0.30823700591443287,
          -0.16957495168143608,
          1.4656183402677774,
          -0.2756627766669359,
          -1.558366156240104,
          -1.44390954708868,
          -0.5051680953931286,
          0.27620048996716984,
          -1.8343779836571938,
          -0.32566386109769674,
          -0.5377091427902171,
          -0.8793316602002474,
          -0.13730101188128274,
          0.4739117707913685,
          1.9456675653065694,
          -0.34549575735322996,
          0.9720333799605246,
          -0.26228104507380334,
          -0.5714395653881361,
          0.14502575276461074,
          -1.8641784872791407,
          0.8869491501534156,
          1.5217251811022767,
          1.3921339746257404,
          1.1907950182465863,
          -1.3679269183388134,
          -0.42830897316735944,
          0.16752652136906077,
          -0.822993733943916,
          0.032639710581331624,
          -1.7353173585494512,
          1.3006424924535107,
          -2.658447080801197,
          -0.7260667522978758,
          -1.346559369571314,
          1.2100767873230984,
          0.14199042718703583,
          1.3810124437891032,
          0.17475647805393424,
          -0.7973890264270153,
          0.5809185216045772,
          -0.3885903405071358,
          0.10406688806814304,
          1.370396070389675,
          -0.23398496826648119,
          -0.29001376284099223,
          -0.28707110106581923,
          0.25979132952928025,
          -0.1617035485251935,
          -0.6720898907014572,
          0.7962255499025633,
          -0.6948156806562187,
          0.9390569733955219,
          1.8104513153386503,
          0.5111732025237625,
          -0.7447934329773587,
          -0.36545521090245675,
          0.12658057977115625,
          -1.1224377540795116,
          0.23315136938347406,
          -0.3592208292662069,
          -0.3149408561046429,
          0.7604586976536822,
          0.8599817036861749,
          -2.121030951423784
         ],
         "yaxis": "y9"
        },
        {
         "line": {
          "color": "rgba(128, 128, 128, 1.0)",
          "dash": "solid",
          "shape": "linear",
          "width": 1.3
         },
         "marker": {
          "size": 2,
          "symbol": "circle"
         },
         "mode": "markers",
         "name": "C",
         "text": "",
         "type": "scatter",
         "x": [
          -0.0033035822899469052,
          0.3142449677503647,
          -1.504523021926638,
          1.0044432988561958,
          -0.3786281864931309,
          1.6221183698918318,
          -0.6833666110514979,
          -0.09085898589503208,
          0.4183024142850112,
          0.1599510285795126,
          0.4983380417069129,
          -2.38735035273387,
          -0.17484722770594668,
          -0.7024036572296523,
          -0.2377817653329279,
          1.0463693206953972,
          -1.206970761077781,
          -0.27926473845743927,
          0.024497475622231084,
          0.07215395894711478,
          0.8060503759899023,
          -0.10523700135619246,
          0.4892495322097234,
          -1.6211612465614205,
          -0.9413730510682876,
          0.5618878755989775,
          1.148898697209982,
          -0.8603059741609684,
          -0.2545352736983566,
          0.3221749143716371,
          0.8184090970176358,
          0.603400860775381,
          0.29148084806096053,
          1.2197382793191827,
          -0.11597682125807925,
          -0.993512699913698,
          0.6287345083305073,
          -0.23713521257102554,
          -0.3097494760631051,
          -0.5890817405505082,
          -1.1603607004584577,
          0.9875973705562235,
          -0.063031992142952,
          0.5528356056102148,
          0.9943802775983782,
          1.5885704578261726,
          -0.9751179842350768,
          0.6218820952952601,
          -2.0323297593875838,
          -0.5484199829062123,
          -0.12137817399783384,
          -1.2309977016776752,
          -0.9313693797491154,
          0.2663840238711808,
          -1.6717292793656437,
          -0.4542443768926661,
          -0.2721841210031825,
          -2.536542463070985,
          0.4847118496688762,
          -2.1214691330865127,
          -1.1620826355082072,
          -0.048986563425723995,
          -1.2645433415566478,
          1.9997478527752839,
          1.166476246332891,
          -3.103425838335752,
          -1.4438539094973724,
          1.5718043608392394,
          -0.7335294160030932,
          -1.197965786647293,
          1.0722513065522665,
          -0.7826362934224473,
          -0.49820503134543775,
          1.5716627803037155,
          -0.005317290143883737,
          -0.3593653166820716,
          1.5597095911561978,
          1.0503815987596175,
          0.3441039774821109,
          -0.04974121712467084,
          0.008170229384752613,
          -0.9709058136802701,
          2.417034408248457,
          -1.2124867561742774,
          0.6046417869674267,
          -0.3585076795507522,
          0.06705171160120478,
          1.4546189083140886,
          -0.42913586866418607,
          -0.707992549805246,
          -2.096983049597022,
          0.038373856459275275,
          0.6579882416462015,
          2.2386147056613295,
          -0.6608003396245523,
          -0.9953483586408077,
          0.43580220111517376,
          -0.5404418613480602,
          3.3467118532442397,
          0.34927520878526047
         ],
         "xaxis": "x10",
         "y": [
          -1.029169055522879,
          -0.6255978007913707,
          1.0417982196879223,
          2.2449486385713384,
          -0.6795945775053402,
          0.14631255858470052,
          0.3731668746960911,
          0.4124420330489584,
          1.5113484075983132,
          0.5920468325658576,
          0.2793855445424416,
          -0.29619014153343065,
          2.3727187380412276,
          -0.6841365657268245,
          0.49440394600584864,
          0.6388836557479353,
          0.21519353566892171,
          0.08067736888339132,
          1.355625354020415,
          -0.348654489687168,
          -0.4947196965310076,
          -0.3582819911117431,
          0.8482378687717445,
          -0.7550696581956536,
          0.09628928497248218,
          0.3694001280085396,
          1.7522158422386362,
          0.24728003851561672,
          1.4320945076126141,
          0.38078115390777206,
          0.49485054834994746,
          0.10834747534480808,
          0.40440051019822765,
          0.46318804403090136,
          0.8498937327069608,
          0.30823700591443287,
          -0.16957495168143608,
          1.4656183402677774,
          -0.2756627766669359,
          -1.558366156240104,
          -1.44390954708868,
          -0.5051680953931286,
          0.27620048996716984,
          -1.8343779836571938,
          -0.32566386109769674,
          -0.5377091427902171,
          -0.8793316602002474,
          -0.13730101188128274,
          0.4739117707913685,
          1.9456675653065694,
          -0.34549575735322996,
          0.9720333799605246,
          -0.26228104507380334,
          -0.5714395653881361,
          0.14502575276461074,
          -1.8641784872791407,
          0.8869491501534156,
          1.5217251811022767,
          1.3921339746257404,
          1.1907950182465863,
          -1.3679269183388134,
          -0.42830897316735944,
          0.16752652136906077,
          -0.822993733943916,
          0.032639710581331624,
          -1.7353173585494512,
          1.3006424924535107,
          -2.658447080801197,
          -0.7260667522978758,
          -1.346559369571314,
          1.2100767873230984,
          0.14199042718703583,
          1.3810124437891032,
          0.17475647805393424,
          -0.7973890264270153,
          0.5809185216045772,
          -0.3885903405071358,
          0.10406688806814304,
          1.370396070389675,
          -0.23398496826648119,
          -0.29001376284099223,
          -0.28707110106581923,
          0.25979132952928025,
          -0.1617035485251935,
          -0.6720898907014572,
          0.7962255499025633,
          -0.6948156806562187,
          0.9390569733955219,
          1.8104513153386503,
          0.5111732025237625,
          -0.7447934329773587,
          -0.36545521090245675,
          0.12658057977115625,
          -1.1224377540795116,
          0.23315136938347406,
          -0.3592208292662069,
          -0.3149408561046429,
          0.7604586976536822,
          0.8599817036861749,
          -2.121030951423784
         ],
         "yaxis": "y10"
        },
        {
         "histfunc": "count",
         "histnorm": "",
         "marker": {
          "color": "rgba(50, 171, 96, 1.0)",
          "line": {
           "color": "#4D5663",
           "width": 1.3
          }
         },
         "name": "C",
         "nbinsx": 10,
         "opacity": 0.8,
         "orientation": "v",
         "type": "histogram",
         "x": [
          -1.029169055522879,
          -0.6255978007913707,
          1.0417982196879223,
          2.2449486385713384,
          -0.6795945775053402,
          0.14631255858470052,
          0.3731668746960911,
          0.4124420330489584,
          1.5113484075983132,
          0.5920468325658576,
          0.2793855445424416,
          -0.29619014153343065,
          2.3727187380412276,
          -0.6841365657268245,
          0.49440394600584864,
          0.6388836557479353,
          0.21519353566892171,
          0.08067736888339132,
          1.355625354020415,
          -0.348654489687168,
          -0.4947196965310076,
          -0.3582819911117431,
          0.8482378687717445,
          -0.7550696581956536,
          0.09628928497248218,
          0.3694001280085396,
          1.7522158422386362,
          0.24728003851561672,
          1.4320945076126141,
          0.38078115390777206,
          0.49485054834994746,
          0.10834747534480808,
          0.40440051019822765,
          0.46318804403090136,
          0.8498937327069608,
          0.30823700591443287,
          -0.16957495168143608,
          1.4656183402677774,
          -0.2756627766669359,
          -1.558366156240104,
          -1.44390954708868,
          -0.5051680953931286,
          0.27620048996716984,
          -1.8343779836571938,
          -0.32566386109769674,
          -0.5377091427902171,
          -0.8793316602002474,
          -0.13730101188128274,
          0.4739117707913685,
          1.9456675653065694,
          -0.34549575735322996,
          0.9720333799605246,
          -0.26228104507380334,
          -0.5714395653881361,
          0.14502575276461074,
          -1.8641784872791407,
          0.8869491501534156,
          1.5217251811022767,
          1.3921339746257404,
          1.1907950182465863,
          -1.3679269183388134,
          -0.42830897316735944,
          0.16752652136906077,
          -0.822993733943916,
          0.032639710581331624,
          -1.7353173585494512,
          1.3006424924535107,
          -2.658447080801197,
          -0.7260667522978758,
          -1.346559369571314,
          1.2100767873230984,
          0.14199042718703583,
          1.3810124437891032,
          0.17475647805393424,
          -0.7973890264270153,
          0.5809185216045772,
          -0.3885903405071358,
          0.10406688806814304,
          1.370396070389675,
          -0.23398496826648119,
          -0.29001376284099223,
          -0.28707110106581923,
          0.25979132952928025,
          -0.1617035485251935,
          -0.6720898907014572,
          0.7962255499025633,
          -0.6948156806562187,
          0.9390569733955219,
          1.8104513153386503,
          0.5111732025237625,
          -0.7447934329773587,
          -0.36545521090245675,
          0.12658057977115625,
          -1.1224377540795116,
          0.23315136938347406,
          -0.3592208292662069,
          -0.3149408561046429,
          0.7604586976536822,
          0.8599817036861749,
          -2.121030951423784
         ],
         "xaxis": "x11",
         "yaxis": "y11"
        },
        {
         "line": {
          "color": "rgba(128, 128, 128, 1.0)",
          "dash": "solid",
          "shape": "linear",
          "width": 1.3
         },
         "marker": {
          "size": 2,
          "symbol": "circle"
         },
         "mode": "markers",
         "name": "C",
         "text": "",
         "type": "scatter",
         "x": [
          -0.46308053517921177,
          -0.22893297382440694,
          0.28152771977670005,
          0.841148244630791,
          0.09335388118504882,
          0.09404129945671476,
          -0.27604509647678394,
          -1.4149534857065915,
          0.6303783847458049,
          1.0140454768881473,
          0.6247341776241347,
          0.3462567203067475,
          0.06618476657523857,
          0.22304990357635202,
          -0.7104729965870029,
          -0.36754819414362006,
          0.7527370093648587,
          0.4243521358588527,
          -0.313879559965402,
          0.44453194663906453,
          -1.2215088401885823,
          0.5313535901603273,
          -1.136436468522623,
          -0.33583843750714953,
          0.695915250472006,
          -2.035088399463051,
          2.007662253559875,
          0.3019128256963567,
          -0.18113684687278164,
          1.8911687280243084,
          0.7572630803852446,
          -0.43219425771863185,
          0.2682190866781442,
          0.9638038961270988,
          0.38196860184494996,
          -0.904240690441337,
          0.9257726882611239,
          -3.089622695862602,
          0.022160723350371093,
          0.15890271523422386,
          1.2072376116298225,
          0.036906673259497653,
          1.9325182083788126,
          -2.65838624213967,
          1.33374362812293,
          -0.3002915926433879,
          -2.3339029672320337,
          0.4283179292567376,
          0.3920197131247837,
          1.0578439219875122,
          -1.2286183490049214,
          -0.42118880033063083,
          0.18221735978592854,
          0.7783483420916925,
          -1.1631454183180807,
          0.3409532835134661,
          -0.175860025671226,
          2.600067786231678,
          0.1424405264085281,
          0.6378341507289481,
          -0.7911396934565847,
          0.2970410528515773,
          -0.36757856712825604,
          0.001891577602284555,
          -0.9533757506556024,
          -1.5265124105099575,
          0.14141110796393855,
          3.6126504926656198,
          -0.4083508444949703,
          -1.3866183439117674,
          0.6146431833929709,
          -1.1797204483467447,
          -0.17626909828622517,
          -0.8315102988033132,
          -1.0629729405783421,
          0.6165434831247598,
          2.4710912898514956,
          -0.5136104215624592,
          -1.2833494881724943,
          -0.19740622984239123,
          -0.28292641821742964,
          -0.17332004636855022,
          -0.8472778358004164,
          -1.5638430808706032,
          -0.12651593497479413,
          0.5196255513517741,
          1.6550631354033751,
          -0.4268727901892978,
          1.0780805010140389,
          1.394028416980079,
          -0.27892950008419176,
          -0.42372865324865777,
          -0.0035800875407494483,
          -0.3109767884032559,
          -0.6928666677078057,
          -0.96026887219562,
          -0.17067052996934515,
          -0.8291957027802563,
          -1.872451022659089,
          0.4529640052721673
         ],
         "xaxis": "x12",
         "y": [
          -1.029169055522879,
          -0.6255978007913707,
          1.0417982196879223,
          2.2449486385713384,
          -0.6795945775053402,
          0.14631255858470052,
          0.3731668746960911,
          0.4124420330489584,
          1.5113484075983132,
          0.5920468325658576,
          0.2793855445424416,
          -0.29619014153343065,
          2.3727187380412276,
          -0.6841365657268245,
          0.49440394600584864,
          0.6388836557479353,
          0.21519353566892171,
          0.08067736888339132,
          1.355625354020415,
          -0.348654489687168,
          -0.4947196965310076,
          -0.3582819911117431,
          0.8482378687717445,
          -0.7550696581956536,
          0.09628928497248218,
          0.3694001280085396,
          1.7522158422386362,
          0.24728003851561672,
          1.4320945076126141,
          0.38078115390777206,
          0.49485054834994746,
          0.10834747534480808,
          0.40440051019822765,
          0.46318804403090136,
          0.8498937327069608,
          0.30823700591443287,
          -0.16957495168143608,
          1.4656183402677774,
          -0.2756627766669359,
          -1.558366156240104,
          -1.44390954708868,
          -0.5051680953931286,
          0.27620048996716984,
          -1.8343779836571938,
          -0.32566386109769674,
          -0.5377091427902171,
          -0.8793316602002474,
          -0.13730101188128274,
          0.4739117707913685,
          1.9456675653065694,
          -0.34549575735322996,
          0.9720333799605246,
          -0.26228104507380334,
          -0.5714395653881361,
          0.14502575276461074,
          -1.8641784872791407,
          0.8869491501534156,
          1.5217251811022767,
          1.3921339746257404,
          1.1907950182465863,
          -1.3679269183388134,
          -0.42830897316735944,
          0.16752652136906077,
          -0.822993733943916,
          0.032639710581331624,
          -1.7353173585494512,
          1.3006424924535107,
          -2.658447080801197,
          -0.7260667522978758,
          -1.346559369571314,
          1.2100767873230984,
          0.14199042718703583,
          1.3810124437891032,
          0.17475647805393424,
          -0.7973890264270153,
          0.5809185216045772,
          -0.3885903405071358,
          0.10406688806814304,
          1.370396070389675,
          -0.23398496826648119,
          -0.29001376284099223,
          -0.28707110106581923,
          0.25979132952928025,
          -0.1617035485251935,
          -0.6720898907014572,
          0.7962255499025633,
          -0.6948156806562187,
          0.9390569733955219,
          1.8104513153386503,
          0.5111732025237625,
          -0.7447934329773587,
          -0.36545521090245675,
          0.12658057977115625,
          -1.1224377540795116,
          0.23315136938347406,
          -0.3592208292662069,
          -0.3149408561046429,
          0.7604586976536822,
          0.8599817036861749,
          -2.121030951423784
         ],
         "yaxis": "y12"
        },
        {
         "line": {
          "color": "rgba(128, 128, 128, 1.0)",
          "dash": "solid",
          "shape": "linear",
          "width": 1.3
         },
         "marker": {
          "size": 2,
          "symbol": "circle"
         },
         "mode": "markers",
         "name": "D",
         "text": "",
         "type": "scatter",
         "x": [
          -0.9792515936598923,
          0.9598050055042266,
          1.2879497854926978,
          -0.7580525281398575,
          0.7395394550550108,
          0.17019107169090317,
          -0.1293765011854134,
          0.4456954392361662,
          0.13772919772007583,
          -1.1475557380589023,
          0.7148856836266592,
          1.4579626985599747,
          0.8874119734406709,
          0.3072755156395645,
          2.0957456279779065,
          0.5899177376437668,
          1.0364047408183756,
          0.7388472871926347,
          0.17950427668644467,
          0.3680753376522049,
          0.1368695577373032,
          0.8159967349839087,
          -0.14844827589627468,
          0.9610220648185201,
          0.8403045958850671,
          0.1539828413327248,
          -0.22403721645926258,
          -0.9886846475465637,
          -0.041097672863380195,
          -0.20336539740261284,
          -0.8272592313380914,
          -0.7377644328272414,
          0.6228589278084802,
          1.0167861280965602,
          -2.2412581790082666,
          -0.18088089665349677,
          0.38747162796369533,
          -0.022976036922044408,
          -0.376997829574464,
          0.12116576151183464,
          0.004016022807814205,
          -1.8023654641354336,
          -0.8309213004133602,
          -0.37467942398393506,
          0.16749391300381028,
          2.157106901960888,
          0.26801897806054975,
          -0.12917654316980617,
          -1.1921864240944327,
          1.6144706272625435,
          0.44154651927524047,
          -1.5248455068331284,
          -1.379729809199886,
          -0.3071048272960799,
          0.11873027241721576,
          -0.18440988283347878,
          -1.5364079402765836,
          -1.7659951853905054,
          -1.1925247660678762,
          -0.3719050473318741,
          0.9116004418673352,
          -1.2893901771054779,
          0.3494224192856916,
          0.12384105919512163,
          -0.2853887638156255,
          -0.05477890823051662,
          -0.13339681427823635,
          0.002483580579456353,
          0.6483924643575026,
          -1.7744604454121766,
          0.051018691708484755,
          -0.20831087775659465,
          1.2036245135778298,
          0.37460006318208516,
          -0.007357554347866323,
          0.5125991262014535,
          0.0024173923945399363,
          -0.8563025126597791,
          -0.7617603492153533,
          -1.792629772347877,
          0.360765760598241,
          -0.7718682940507207,
          1.6886536550319722,
          1.194024448998109,
          -0.417875534770027,
          2.122611684514379,
          -0.20455142051435,
          -1.3193963771012482,
          -1.7879804873841585,
          0.4066145570917323,
          1.434386069614315,
          -0.5881888567526482,
          -1.2337031790890676,
          -0.7429661704558083,
          0.0566414277132115,
          -1.2378557179328697,
          -0.43038873430261276,
          -2.5320354376990766,
          0.7598237879841848,
          0.48412359488350337
         ],
         "xaxis": "x13",
         "y": [
          -0.46308053517921177,
          -0.22893297382440694,
          0.28152771977670005,
          0.841148244630791,
          0.09335388118504882,
          0.09404129945671476,
          -0.27604509647678394,
          -1.4149534857065915,
          0.6303783847458049,
          1.0140454768881473,
          0.6247341776241347,
          0.3462567203067475,
          0.06618476657523857,
          0.22304990357635202,
          -0.7104729965870029,
          -0.36754819414362006,
          0.7527370093648587,
          0.4243521358588527,
          -0.313879559965402,
          0.44453194663906453,
          -1.2215088401885823,
          0.5313535901603273,
          -1.136436468522623,
          -0.33583843750714953,
          0.695915250472006,
          -2.035088399463051,
          2.007662253559875,
          0.3019128256963567,
          -0.18113684687278164,
          1.8911687280243084,
          0.7572630803852446,
          -0.43219425771863185,
          0.2682190866781442,
          0.9638038961270988,
          0.38196860184494996,
          -0.904240690441337,
          0.9257726882611239,
          -3.089622695862602,
          0.022160723350371093,
          0.15890271523422386,
          1.2072376116298225,
          0.036906673259497653,
          1.9325182083788126,
          -2.65838624213967,
          1.33374362812293,
          -0.3002915926433879,
          -2.3339029672320337,
          0.4283179292567376,
          0.3920197131247837,
          1.0578439219875122,
          -1.2286183490049214,
          -0.42118880033063083,
          0.18221735978592854,
          0.7783483420916925,
          -1.1631454183180807,
          0.3409532835134661,
          -0.175860025671226,
          2.600067786231678,
          0.1424405264085281,
          0.6378341507289481,
          -0.7911396934565847,
          0.2970410528515773,
          -0.36757856712825604,
          0.001891577602284555,
          -0.9533757506556024,
          -1.5265124105099575,
          0.14141110796393855,
          3.6126504926656198,
          -0.4083508444949703,
          -1.3866183439117674,
          0.6146431833929709,
          -1.1797204483467447,
          -0.17626909828622517,
          -0.8315102988033132,
          -1.0629729405783421,
          0.6165434831247598,
          2.4710912898514956,
          -0.5136104215624592,
          -1.2833494881724943,
          -0.19740622984239123,
          -0.28292641821742964,
          -0.17332004636855022,
          -0.8472778358004164,
          -1.5638430808706032,
          -0.12651593497479413,
          0.5196255513517741,
          1.6550631354033751,
          -0.4268727901892978,
          1.0780805010140389,
          1.394028416980079,
          -0.27892950008419176,
          -0.42372865324865777,
          -0.0035800875407494483,
          -0.3109767884032559,
          -0.6928666677078057,
          -0.96026887219562,
          -0.17067052996934515,
          -0.8291957027802563,
          -1.872451022659089,
          0.4529640052721673
         ],
         "yaxis": "y13"
        },
        {
         "line": {
          "color": "rgba(128, 128, 128, 1.0)",
          "dash": "solid",
          "shape": "linear",
          "width": 1.3
         },
         "marker": {
          "size": 2,
          "symbol": "circle"
         },
         "mode": "markers",
         "name": "D",
         "text": "",
         "type": "scatter",
         "x": [
          -0.0033035822899469052,
          0.3142449677503647,
          -1.504523021926638,
          1.0044432988561958,
          -0.3786281864931309,
          1.6221183698918318,
          -0.6833666110514979,
          -0.09085898589503208,
          0.4183024142850112,
          0.1599510285795126,
          0.4983380417069129,
          -2.38735035273387,
          -0.17484722770594668,
          -0.7024036572296523,
          -0.2377817653329279,
          1.0463693206953972,
          -1.206970761077781,
          -0.27926473845743927,
          0.024497475622231084,
          0.07215395894711478,
          0.8060503759899023,
          -0.10523700135619246,
          0.4892495322097234,
          -1.6211612465614205,
          -0.9413730510682876,
          0.5618878755989775,
          1.148898697209982,
          -0.8603059741609684,
          -0.2545352736983566,
          0.3221749143716371,
          0.8184090970176358,
          0.603400860775381,
          0.29148084806096053,
          1.2197382793191827,
          -0.11597682125807925,
          -0.993512699913698,
          0.6287345083305073,
          -0.23713521257102554,
          -0.3097494760631051,
          -0.5890817405505082,
          -1.1603607004584577,
          0.9875973705562235,
          -0.063031992142952,
          0.5528356056102148,
          0.9943802775983782,
          1.5885704578261726,
          -0.9751179842350768,
          0.6218820952952601,
          -2.0323297593875838,
          -0.5484199829062123,
          -0.12137817399783384,
          -1.2309977016776752,
          -0.9313693797491154,
          0.2663840238711808,
          -1.6717292793656437,
          -0.4542443768926661,
          -0.2721841210031825,
          -2.536542463070985,
          0.4847118496688762,
          -2.1214691330865127,
          -1.1620826355082072,
          -0.048986563425723995,
          -1.2645433415566478,
          1.9997478527752839,
          1.166476246332891,
          -3.103425838335752,
          -1.4438539094973724,
          1.5718043608392394,
          -0.7335294160030932,
          -1.197965786647293,
          1.0722513065522665,
          -0.7826362934224473,
          -0.49820503134543775,
          1.5716627803037155,
          -0.005317290143883737,
          -0.3593653166820716,
          1.5597095911561978,
          1.0503815987596175,
          0.3441039774821109,
          -0.04974121712467084,
          0.008170229384752613,
          -0.9709058136802701,
          2.417034408248457,
          -1.2124867561742774,
          0.6046417869674267,
          -0.3585076795507522,
          0.06705171160120478,
          1.4546189083140886,
          -0.42913586866418607,
          -0.707992549805246,
          -2.096983049597022,
          0.038373856459275275,
          0.6579882416462015,
          2.2386147056613295,
          -0.6608003396245523,
          -0.9953483586408077,
          0.43580220111517376,
          -0.5404418613480602,
          3.3467118532442397,
          0.34927520878526047
         ],
         "xaxis": "x14",
         "y": [
          -0.46308053517921177,
          -0.22893297382440694,
          0.28152771977670005,
          0.841148244630791,
          0.09335388118504882,
          0.09404129945671476,
          -0.27604509647678394,
          -1.4149534857065915,
          0.6303783847458049,
          1.0140454768881473,
          0.6247341776241347,
          0.3462567203067475,
          0.06618476657523857,
          0.22304990357635202,
          -0.7104729965870029,
          -0.36754819414362006,
          0.7527370093648587,
          0.4243521358588527,
          -0.313879559965402,
          0.44453194663906453,
          -1.2215088401885823,
          0.5313535901603273,
          -1.136436468522623,
          -0.33583843750714953,
          0.695915250472006,
          -2.035088399463051,
          2.007662253559875,
          0.3019128256963567,
          -0.18113684687278164,
          1.8911687280243084,
          0.7572630803852446,
          -0.43219425771863185,
          0.2682190866781442,
          0.9638038961270988,
          0.38196860184494996,
          -0.904240690441337,
          0.9257726882611239,
          -3.089622695862602,
          0.022160723350371093,
          0.15890271523422386,
          1.2072376116298225,
          0.036906673259497653,
          1.9325182083788126,
          -2.65838624213967,
          1.33374362812293,
          -0.3002915926433879,
          -2.3339029672320337,
          0.4283179292567376,
          0.3920197131247837,
          1.0578439219875122,
          -1.2286183490049214,
          -0.42118880033063083,
          0.18221735978592854,
          0.7783483420916925,
          -1.1631454183180807,
          0.3409532835134661,
          -0.175860025671226,
          2.600067786231678,
          0.1424405264085281,
          0.6378341507289481,
          -0.7911396934565847,
          0.2970410528515773,
          -0.36757856712825604,
          0.001891577602284555,
          -0.9533757506556024,
          -1.5265124105099575,
          0.14141110796393855,
          3.6126504926656198,
          -0.4083508444949703,
          -1.3866183439117674,
          0.6146431833929709,
          -1.1797204483467447,
          -0.17626909828622517,
          -0.8315102988033132,
          -1.0629729405783421,
          0.6165434831247598,
          2.4710912898514956,
          -0.5136104215624592,
          -1.2833494881724943,
          -0.19740622984239123,
          -0.28292641821742964,
          -0.17332004636855022,
          -0.8472778358004164,
          -1.5638430808706032,
          -0.12651593497479413,
          0.5196255513517741,
          1.6550631354033751,
          -0.4268727901892978,
          1.0780805010140389,
          1.394028416980079,
          -0.27892950008419176,
          -0.42372865324865777,
          -0.0035800875407494483,
          -0.3109767884032559,
          -0.6928666677078057,
          -0.96026887219562,
          -0.17067052996934515,
          -0.8291957027802563,
          -1.872451022659089,
          0.4529640052721673
         ],
         "yaxis": "y14"
        },
        {
         "line": {
          "color": "rgba(128, 128, 128, 1.0)",
          "dash": "solid",
          "shape": "linear",
          "width": 1.3
         },
         "marker": {
          "size": 2,
          "symbol": "circle"
         },
         "mode": "markers",
         "name": "D",
         "text": "",
         "type": "scatter",
         "x": [
          -1.029169055522879,
          -0.6255978007913707,
          1.0417982196879223,
          2.2449486385713384,
          -0.6795945775053402,
          0.14631255858470052,
          0.3731668746960911,
          0.4124420330489584,
          1.5113484075983132,
          0.5920468325658576,
          0.2793855445424416,
          -0.29619014153343065,
          2.3727187380412276,
          -0.6841365657268245,
          0.49440394600584864,
          0.6388836557479353,
          0.21519353566892171,
          0.08067736888339132,
          1.355625354020415,
          -0.348654489687168,
          -0.4947196965310076,
          -0.3582819911117431,
          0.8482378687717445,
          -0.7550696581956536,
          0.09628928497248218,
          0.3694001280085396,
          1.7522158422386362,
          0.24728003851561672,
          1.4320945076126141,
          0.38078115390777206,
          0.49485054834994746,
          0.10834747534480808,
          0.40440051019822765,
          0.46318804403090136,
          0.8498937327069608,
          0.30823700591443287,
          -0.16957495168143608,
          1.4656183402677774,
          -0.2756627766669359,
          -1.558366156240104,
          -1.44390954708868,
          -0.5051680953931286,
          0.27620048996716984,
          -1.8343779836571938,
          -0.32566386109769674,
          -0.5377091427902171,
          -0.8793316602002474,
          -0.13730101188128274,
          0.4739117707913685,
          1.9456675653065694,
          -0.34549575735322996,
          0.9720333799605246,
          -0.26228104507380334,
          -0.5714395653881361,
          0.14502575276461074,
          -1.8641784872791407,
          0.8869491501534156,
          1.5217251811022767,
          1.3921339746257404,
          1.1907950182465863,
          -1.3679269183388134,
          -0.42830897316735944,
          0.16752652136906077,
          -0.822993733943916,
          0.032639710581331624,
          -1.7353173585494512,
          1.3006424924535107,
          -2.658447080801197,
          -0.7260667522978758,
          -1.346559369571314,
          1.2100767873230984,
          0.14199042718703583,
          1.3810124437891032,
          0.17475647805393424,
          -0.7973890264270153,
          0.5809185216045772,
          -0.3885903405071358,
          0.10406688806814304,
          1.370396070389675,
          -0.23398496826648119,
          -0.29001376284099223,
          -0.28707110106581923,
          0.25979132952928025,
          -0.1617035485251935,
          -0.6720898907014572,
          0.7962255499025633,
          -0.6948156806562187,
          0.9390569733955219,
          1.8104513153386503,
          0.5111732025237625,
          -0.7447934329773587,
          -0.36545521090245675,
          0.12658057977115625,
          -1.1224377540795116,
          0.23315136938347406,
          -0.3592208292662069,
          -0.3149408561046429,
          0.7604586976536822,
          0.8599817036861749,
          -2.121030951423784
         ],
         "xaxis": "x15",
         "y": [
          -0.46308053517921177,
          -0.22893297382440694,
          0.28152771977670005,
          0.841148244630791,
          0.09335388118504882,
          0.09404129945671476,
          -0.27604509647678394,
          -1.4149534857065915,
          0.6303783847458049,
          1.0140454768881473,
          0.6247341776241347,
          0.3462567203067475,
          0.06618476657523857,
          0.22304990357635202,
          -0.7104729965870029,
          -0.36754819414362006,
          0.7527370093648587,
          0.4243521358588527,
          -0.313879559965402,
          0.44453194663906453,
          -1.2215088401885823,
          0.5313535901603273,
          -1.136436468522623,
          -0.33583843750714953,
          0.695915250472006,
          -2.035088399463051,
          2.007662253559875,
          0.3019128256963567,
          -0.18113684687278164,
          1.8911687280243084,
          0.7572630803852446,
          -0.43219425771863185,
          0.2682190866781442,
          0.9638038961270988,
          0.38196860184494996,
          -0.904240690441337,
          0.9257726882611239,
          -3.089622695862602,
          0.022160723350371093,
          0.15890271523422386,
          1.2072376116298225,
          0.036906673259497653,
          1.9325182083788126,
          -2.65838624213967,
          1.33374362812293,
          -0.3002915926433879,
          -2.3339029672320337,
          0.4283179292567376,
          0.3920197131247837,
          1.0578439219875122,
          -1.2286183490049214,
          -0.42118880033063083,
          0.18221735978592854,
          0.7783483420916925,
          -1.1631454183180807,
          0.3409532835134661,
          -0.175860025671226,
          2.600067786231678,
          0.1424405264085281,
          0.6378341507289481,
          -0.7911396934565847,
          0.2970410528515773,
          -0.36757856712825604,
          0.001891577602284555,
          -0.9533757506556024,
          -1.5265124105099575,
          0.14141110796393855,
          3.6126504926656198,
          -0.4083508444949703,
          -1.3866183439117674,
          0.6146431833929709,
          -1.1797204483467447,
          -0.17626909828622517,
          -0.8315102988033132,
          -1.0629729405783421,
          0.6165434831247598,
          2.4710912898514956,
          -0.5136104215624592,
          -1.2833494881724943,
          -0.19740622984239123,
          -0.28292641821742964,
          -0.17332004636855022,
          -0.8472778358004164,
          -1.5638430808706032,
          -0.12651593497479413,
          0.5196255513517741,
          1.6550631354033751,
          -0.4268727901892978,
          1.0780805010140389,
          1.394028416980079,
          -0.27892950008419176,
          -0.42372865324865777,
          -0.0035800875407494483,
          -0.3109767884032559,
          -0.6928666677078057,
          -0.96026887219562,
          -0.17067052996934515,
          -0.8291957027802563,
          -1.872451022659089,
          0.4529640052721673
         ],
         "yaxis": "y15"
        },
        {
         "histfunc": "count",
         "histnorm": "",
         "marker": {
          "color": "rgba(128, 0, 128, 1.0)",
          "line": {
           "color": "#4D5663",
           "width": 1.3
          }
         },
         "name": "D",
         "nbinsx": 10,
         "opacity": 0.8,
         "orientation": "v",
         "type": "histogram",
         "x": [
          -0.46308053517921177,
          -0.22893297382440694,
          0.28152771977670005,
          0.841148244630791,
          0.09335388118504882,
          0.09404129945671476,
          -0.27604509647678394,
          -1.4149534857065915,
          0.6303783847458049,
          1.0140454768881473,
          0.6247341776241347,
          0.3462567203067475,
          0.06618476657523857,
          0.22304990357635202,
          -0.7104729965870029,
          -0.36754819414362006,
          0.7527370093648587,
          0.4243521358588527,
          -0.313879559965402,
          0.44453194663906453,
          -1.2215088401885823,
          0.5313535901603273,
          -1.136436468522623,
          -0.33583843750714953,
          0.695915250472006,
          -2.035088399463051,
          2.007662253559875,
          0.3019128256963567,
          -0.18113684687278164,
          1.8911687280243084,
          0.7572630803852446,
          -0.43219425771863185,
          0.2682190866781442,
          0.9638038961270988,
          0.38196860184494996,
          -0.904240690441337,
          0.9257726882611239,
          -3.089622695862602,
          0.022160723350371093,
          0.15890271523422386,
          1.2072376116298225,
          0.036906673259497653,
          1.9325182083788126,
          -2.65838624213967,
          1.33374362812293,
          -0.3002915926433879,
          -2.3339029672320337,
          0.4283179292567376,
          0.3920197131247837,
          1.0578439219875122,
          -1.2286183490049214,
          -0.42118880033063083,
          0.18221735978592854,
          0.7783483420916925,
          -1.1631454183180807,
          0.3409532835134661,
          -0.175860025671226,
          2.600067786231678,
          0.1424405264085281,
          0.6378341507289481,
          -0.7911396934565847,
          0.2970410528515773,
          -0.36757856712825604,
          0.001891577602284555,
          -0.9533757506556024,
          -1.5265124105099575,
          0.14141110796393855,
          3.6126504926656198,
          -0.4083508444949703,
          -1.3866183439117674,
          0.6146431833929709,
          -1.1797204483467447,
          -0.17626909828622517,
          -0.8315102988033132,
          -1.0629729405783421,
          0.6165434831247598,
          2.4710912898514956,
          -0.5136104215624592,
          -1.2833494881724943,
          -0.19740622984239123,
          -0.28292641821742964,
          -0.17332004636855022,
          -0.8472778358004164,
          -1.5638430808706032,
          -0.12651593497479413,
          0.5196255513517741,
          1.6550631354033751,
          -0.4268727901892978,
          1.0780805010140389,
          1.394028416980079,
          -0.27892950008419176,
          -0.42372865324865777,
          -0.0035800875407494483,
          -0.3109767884032559,
          -0.6928666677078057,
          -0.96026887219562,
          -0.17067052996934515,
          -0.8291957027802563,
          -1.872451022659089,
          0.4529640052721673
         ],
         "xaxis": "x16",
         "yaxis": "y16"
        }
       ],
       "layout": {
        "bargap": 0.02,
        "legend": {
         "bgcolor": "#F5F6F9",
         "font": {
          "color": "#4D5663"
         }
        },
        "paper_bgcolor": "#F5F6F9",
        "plot_bgcolor": "#F5F6F9",
        "showlegend": false,
        "template": {
         "data": {
          "bar": [
           {
            "error_x": {
             "color": "#2a3f5f"
            },
            "error_y": {
             "color": "#2a3f5f"
            },
            "marker": {
             "line": {
              "color": "#E5ECF6",
              "width": 0.5
             }
            },
            "type": "bar"
           }
          ],
          "barpolar": [
           {
            "marker": {
             "line": {
              "color": "#E5ECF6",
              "width": 0.5
             }
            },
            "type": "barpolar"
           }
          ],
          "carpet": [
           {
            "aaxis": {
             "endlinecolor": "#2a3f5f",
             "gridcolor": "white",
             "linecolor": "white",
             "minorgridcolor": "white",
             "startlinecolor": "#2a3f5f"
            },
            "baxis": {
             "endlinecolor": "#2a3f5f",
             "gridcolor": "white",
             "linecolor": "white",
             "minorgridcolor": "white",
             "startlinecolor": "#2a3f5f"
            },
            "type": "carpet"
           }
          ],
          "choropleth": [
           {
            "colorbar": {
             "outlinewidth": 0,
             "ticks": ""
            },
            "type": "choropleth"
           }
          ],
          "contour": [
           {
            "colorbar": {
             "outlinewidth": 0,
             "ticks": ""
            },
            "colorscale": [
             [
              0,
              "#0d0887"
             ],
             [
              0.1111111111111111,
              "#46039f"
             ],
             [
              0.2222222222222222,
              "#7201a8"
             ],
             [
              0.3333333333333333,
              "#9c179e"
             ],
             [
              0.4444444444444444,
              "#bd3786"
             ],
             [
              0.5555555555555556,
              "#d8576b"
             ],
             [
              0.6666666666666666,
              "#ed7953"
             ],
             [
              0.7777777777777778,
              "#fb9f3a"
             ],
             [
              0.8888888888888888,
              "#fdca26"
             ],
             [
              1,
              "#f0f921"
             ]
            ],
            "type": "contour"
           }
          ],
          "contourcarpet": [
           {
            "colorbar": {
             "outlinewidth": 0,
             "ticks": ""
            },
            "type": "contourcarpet"
           }
          ],
          "heatmap": [
           {
            "colorbar": {
             "outlinewidth": 0,
             "ticks": ""
            },
            "colorscale": [
             [
              0,
              "#0d0887"
             ],
             [
              0.1111111111111111,
              "#46039f"
             ],
             [
              0.2222222222222222,
              "#7201a8"
             ],
             [
              0.3333333333333333,
              "#9c179e"
             ],
             [
              0.4444444444444444,
              "#bd3786"
             ],
             [
              0.5555555555555556,
              "#d8576b"
             ],
             [
              0.6666666666666666,
              "#ed7953"
             ],
             [
              0.7777777777777778,
              "#fb9f3a"
             ],
             [
              0.8888888888888888,
              "#fdca26"
             ],
             [
              1,
              "#f0f921"
             ]
            ],
            "type": "heatmap"
           }
          ],
          "heatmapgl": [
           {
            "colorbar": {
             "outlinewidth": 0,
             "ticks": ""
            },
            "colorscale": [
             [
              0,
              "#0d0887"
             ],
             [
              0.1111111111111111,
              "#46039f"
             ],
             [
              0.2222222222222222,
              "#7201a8"
             ],
             [
              0.3333333333333333,
              "#9c179e"
             ],
             [
              0.4444444444444444,
              "#bd3786"
             ],
             [
              0.5555555555555556,
              "#d8576b"
             ],
             [
              0.6666666666666666,
              "#ed7953"
             ],
             [
              0.7777777777777778,
              "#fb9f3a"
             ],
             [
              0.8888888888888888,
              "#fdca26"
             ],
             [
              1,
              "#f0f921"
             ]
            ],
            "type": "heatmapgl"
           }
          ],
          "histogram": [
           {
            "marker": {
             "colorbar": {
              "outlinewidth": 0,
              "ticks": ""
             }
            },
            "type": "histogram"
           }
          ],
          "histogram2d": [
           {
            "colorbar": {
             "outlinewidth": 0,
             "ticks": ""
            },
            "colorscale": [
             [
              0,
              "#0d0887"
             ],
             [
              0.1111111111111111,
              "#46039f"
             ],
             [
              0.2222222222222222,
              "#7201a8"
             ],
             [
              0.3333333333333333,
              "#9c179e"
             ],
             [
              0.4444444444444444,
              "#bd3786"
             ],
             [
              0.5555555555555556,
              "#d8576b"
             ],
             [
              0.6666666666666666,
              "#ed7953"
             ],
             [
              0.7777777777777778,
              "#fb9f3a"
             ],
             [
              0.8888888888888888,
              "#fdca26"
             ],
             [
              1,
              "#f0f921"
             ]
            ],
            "type": "histogram2d"
           }
          ],
          "histogram2dcontour": [
           {
            "colorbar": {
             "outlinewidth": 0,
             "ticks": ""
            },
            "colorscale": [
             [
              0,
              "#0d0887"
             ],
             [
              0.1111111111111111,
              "#46039f"
             ],
             [
              0.2222222222222222,
              "#7201a8"
             ],
             [
              0.3333333333333333,
              "#9c179e"
             ],
             [
              0.4444444444444444,
              "#bd3786"
             ],
             [
              0.5555555555555556,
              "#d8576b"
             ],
             [
              0.6666666666666666,
              "#ed7953"
             ],
             [
              0.7777777777777778,
              "#fb9f3a"
             ],
             [
              0.8888888888888888,
              "#fdca26"
             ],
             [
              1,
              "#f0f921"
             ]
            ],
            "type": "histogram2dcontour"
           }
          ],
          "mesh3d": [
           {
            "colorbar": {
             "outlinewidth": 0,
             "ticks": ""
            },
            "type": "mesh3d"
           }
          ],
          "parcoords": [
           {
            "line": {
             "colorbar": {
              "outlinewidth": 0,
              "ticks": ""
             }
            },
            "type": "parcoords"
           }
          ],
          "pie": [
           {
            "automargin": true,
            "type": "pie"
           }
          ],
          "scatter": [
           {
            "marker": {
             "colorbar": {
              "outlinewidth": 0,
              "ticks": ""
             }
            },
            "type": "scatter"
           }
          ],
          "scatter3d": [
           {
            "line": {
             "colorbar": {
              "outlinewidth": 0,
              "ticks": ""
             }
            },
            "marker": {
             "colorbar": {
              "outlinewidth": 0,
              "ticks": ""
             }
            },
            "type": "scatter3d"
           }
          ],
          "scattercarpet": [
           {
            "marker": {
             "colorbar": {
              "outlinewidth": 0,
              "ticks": ""
             }
            },
            "type": "scattercarpet"
           }
          ],
          "scattergeo": [
           {
            "marker": {
             "colorbar": {
              "outlinewidth": 0,
              "ticks": ""
             }
            },
            "type": "scattergeo"
           }
          ],
          "scattergl": [
           {
            "marker": {
             "colorbar": {
              "outlinewidth": 0,
              "ticks": ""
             }
            },
            "type": "scattergl"
           }
          ],
          "scattermapbox": [
           {
            "marker": {
             "colorbar": {
              "outlinewidth": 0,
              "ticks": ""
             }
            },
            "type": "scattermapbox"
           }
          ],
          "scatterpolar": [
           {
            "marker": {
             "colorbar": {
              "outlinewidth": 0,
              "ticks": ""
             }
            },
            "type": "scatterpolar"
           }
          ],
          "scatterpolargl": [
           {
            "marker": {
             "colorbar": {
              "outlinewidth": 0,
              "ticks": ""
             }
            },
            "type": "scatterpolargl"
           }
          ],
          "scatterternary": [
           {
            "marker": {
             "colorbar": {
              "outlinewidth": 0,
              "ticks": ""
             }
            },
            "type": "scatterternary"
           }
          ],
          "surface": [
           {
            "colorbar": {
             "outlinewidth": 0,
             "ticks": ""
            },
            "colorscale": [
             [
              0,
              "#0d0887"
             ],
             [
              0.1111111111111111,
              "#46039f"
             ],
             [
              0.2222222222222222,
              "#7201a8"
             ],
             [
              0.3333333333333333,
              "#9c179e"
             ],
             [
              0.4444444444444444,
              "#bd3786"
             ],
             [
              0.5555555555555556,
              "#d8576b"
             ],
             [
              0.6666666666666666,
              "#ed7953"
             ],
             [
              0.7777777777777778,
              "#fb9f3a"
             ],
             [
              0.8888888888888888,
              "#fdca26"
             ],
             [
              1,
              "#f0f921"
             ]
            ],
            "type": "surface"
           }
          ],
          "table": [
           {
            "cells": {
             "fill": {
              "color": "#EBF0F8"
             },
             "line": {
              "color": "white"
             }
            },
            "header": {
             "fill": {
              "color": "#C8D4E3"
             },
             "line": {
              "color": "white"
             }
            },
            "type": "table"
           }
          ]
         },
         "layout": {
          "annotationdefaults": {
           "arrowcolor": "#2a3f5f",
           "arrowhead": 0,
           "arrowwidth": 1
          },
          "autotypenumbers": "strict",
          "coloraxis": {
           "colorbar": {
            "outlinewidth": 0,
            "ticks": ""
           }
          },
          "colorscale": {
           "diverging": [
            [
             0,
             "#8e0152"
            ],
            [
             0.1,
             "#c51b7d"
            ],
            [
             0.2,
             "#de77ae"
            ],
            [
             0.3,
             "#f1b6da"
            ],
            [
             0.4,
             "#fde0ef"
            ],
            [
             0.5,
             "#f7f7f7"
            ],
            [
             0.6,
             "#e6f5d0"
            ],
            [
             0.7,
             "#b8e186"
            ],
            [
             0.8,
             "#7fbc41"
            ],
            [
             0.9,
             "#4d9221"
            ],
            [
             1,
             "#276419"
            ]
           ],
           "sequential": [
            [
             0,
             "#0d0887"
            ],
            [
             0.1111111111111111,
             "#46039f"
            ],
            [
             0.2222222222222222,
             "#7201a8"
            ],
            [
             0.3333333333333333,
             "#9c179e"
            ],
            [
             0.4444444444444444,
             "#bd3786"
            ],
            [
             0.5555555555555556,
             "#d8576b"
            ],
            [
             0.6666666666666666,
             "#ed7953"
            ],
            [
             0.7777777777777778,
             "#fb9f3a"
            ],
            [
             0.8888888888888888,
             "#fdca26"
            ],
            [
             1,
             "#f0f921"
            ]
           ],
           "sequentialminus": [
            [
             0,
             "#0d0887"
            ],
            [
             0.1111111111111111,
             "#46039f"
            ],
            [
             0.2222222222222222,
             "#7201a8"
            ],
            [
             0.3333333333333333,
             "#9c179e"
            ],
            [
             0.4444444444444444,
             "#bd3786"
            ],
            [
             0.5555555555555556,
             "#d8576b"
            ],
            [
             0.6666666666666666,
             "#ed7953"
            ],
            [
             0.7777777777777778,
             "#fb9f3a"
            ],
            [
             0.8888888888888888,
             "#fdca26"
            ],
            [
             1,
             "#f0f921"
            ]
           ]
          },
          "colorway": [
           "#636efa",
           "#EF553B",
           "#00cc96",
           "#ab63fa",
           "#FFA15A",
           "#19d3f3",
           "#FF6692",
           "#B6E880",
           "#FF97FF",
           "#FECB52"
          ],
          "font": {
           "color": "#2a3f5f"
          },
          "geo": {
           "bgcolor": "white",
           "lakecolor": "white",
           "landcolor": "#E5ECF6",
           "showlakes": true,
           "showland": true,
           "subunitcolor": "white"
          },
          "hoverlabel": {
           "align": "left"
          },
          "hovermode": "closest",
          "mapbox": {
           "style": "light"
          },
          "paper_bgcolor": "white",
          "plot_bgcolor": "#E5ECF6",
          "polar": {
           "angularaxis": {
            "gridcolor": "white",
            "linecolor": "white",
            "ticks": ""
           },
           "bgcolor": "#E5ECF6",
           "radialaxis": {
            "gridcolor": "white",
            "linecolor": "white",
            "ticks": ""
           }
          },
          "scene": {
           "xaxis": {
            "backgroundcolor": "#E5ECF6",
            "gridcolor": "white",
            "gridwidth": 2,
            "linecolor": "white",
            "showbackground": true,
            "ticks": "",
            "zerolinecolor": "white"
           },
           "yaxis": {
            "backgroundcolor": "#E5ECF6",
            "gridcolor": "white",
            "gridwidth": 2,
            "linecolor": "white",
            "showbackground": true,
            "ticks": "",
            "zerolinecolor": "white"
           },
           "zaxis": {
            "backgroundcolor": "#E5ECF6",
            "gridcolor": "white",
            "gridwidth": 2,
            "linecolor": "white",
            "showbackground": true,
            "ticks": "",
            "zerolinecolor": "white"
           }
          },
          "shapedefaults": {
           "line": {
            "color": "#2a3f5f"
           }
          },
          "ternary": {
           "aaxis": {
            "gridcolor": "white",
            "linecolor": "white",
            "ticks": ""
           },
           "baxis": {
            "gridcolor": "white",
            "linecolor": "white",
            "ticks": ""
           },
           "bgcolor": "#E5ECF6",
           "caxis": {
            "gridcolor": "white",
            "linecolor": "white",
            "ticks": ""
           }
          },
          "title": {
           "x": 0.05
          },
          "xaxis": {
           "automargin": true,
           "gridcolor": "white",
           "linecolor": "white",
           "ticks": "",
           "title": {
            "standoff": 15
           },
           "zerolinecolor": "white",
           "zerolinewidth": 2
          },
          "yaxis": {
           "automargin": true,
           "gridcolor": "white",
           "linecolor": "white",
           "ticks": "",
           "title": {
            "standoff": 15
           },
           "zerolinecolor": "white",
           "zerolinewidth": 2
          }
         }
        },
        "title": {
         "font": {
          "color": "#4D5663"
         }
        },
        "xaxis": {
         "anchor": "y",
         "domain": [
          0,
          0.2125
         ],
         "gridcolor": "#E1E5ED",
         "showgrid": false,
         "tickfont": {
          "color": "#4D5663"
         },
         "title": {
          "font": {
           "color": "#4D5663"
          },
          "text": ""
         },
         "zerolinecolor": "#E1E5ED"
        },
        "xaxis10": {
         "anchor": "y10",
         "domain": [
          0.2625,
          0.475
         ],
         "gridcolor": "#E1E5ED",
         "showgrid": false,
         "tickfont": {
          "color": "#4D5663"
         },
         "title": {
          "font": {
           "color": "#4D5663"
          },
          "text": ""
         },
         "zerolinecolor": "#E1E5ED"
        },
        "xaxis11": {
         "anchor": "y11",
         "domain": [
          0.525,
          0.7375
         ],
         "gridcolor": "#E1E5ED",
         "showgrid": false,
         "tickfont": {
          "color": "#4D5663"
         },
         "title": {
          "font": {
           "color": "#4D5663"
          },
          "text": ""
         },
         "zerolinecolor": "#E1E5ED"
        },
        "xaxis12": {
         "anchor": "y12",
         "domain": [
          0.7875,
          1
         ],
         "gridcolor": "#E1E5ED",
         "showgrid": false,
         "tickfont": {
          "color": "#4D5663"
         },
         "title": {
          "font": {
           "color": "#4D5663"
          },
          "text": ""
         },
         "zerolinecolor": "#E1E5ED"
        },
        "xaxis13": {
         "anchor": "y13",
         "domain": [
          0,
          0.2125
         ],
         "gridcolor": "#E1E5ED",
         "showgrid": false,
         "tickfont": {
          "color": "#4D5663"
         },
         "title": {
          "font": {
           "color": "#4D5663"
          },
          "text": ""
         },
         "zerolinecolor": "#E1E5ED"
        },
        "xaxis14": {
         "anchor": "y14",
         "domain": [
          0.2625,
          0.475
         ],
         "gridcolor": "#E1E5ED",
         "showgrid": false,
         "tickfont": {
          "color": "#4D5663"
         },
         "title": {
          "font": {
           "color": "#4D5663"
          },
          "text": ""
         },
         "zerolinecolor": "#E1E5ED"
        },
        "xaxis15": {
         "anchor": "y15",
         "domain": [
          0.525,
          0.7375
         ],
         "gridcolor": "#E1E5ED",
         "showgrid": false,
         "tickfont": {
          "color": "#4D5663"
         },
         "title": {
          "font": {
           "color": "#4D5663"
          },
          "text": ""
         },
         "zerolinecolor": "#E1E5ED"
        },
        "xaxis16": {
         "anchor": "y16",
         "domain": [
          0.7875,
          1
         ],
         "gridcolor": "#E1E5ED",
         "showgrid": false,
         "tickfont": {
          "color": "#4D5663"
         },
         "title": {
          "font": {
           "color": "#4D5663"
          },
          "text": ""
         },
         "zerolinecolor": "#E1E5ED"
        },
        "xaxis2": {
         "anchor": "y2",
         "domain": [
          0.2625,
          0.475
         ],
         "gridcolor": "#E1E5ED",
         "showgrid": false,
         "tickfont": {
          "color": "#4D5663"
         },
         "title": {
          "font": {
           "color": "#4D5663"
          },
          "text": ""
         },
         "zerolinecolor": "#E1E5ED"
        },
        "xaxis3": {
         "anchor": "y3",
         "domain": [
          0.525,
          0.7375
         ],
         "gridcolor": "#E1E5ED",
         "showgrid": false,
         "tickfont": {
          "color": "#4D5663"
         },
         "title": {
          "font": {
           "color": "#4D5663"
          },
          "text": ""
         },
         "zerolinecolor": "#E1E5ED"
        },
        "xaxis4": {
         "anchor": "y4",
         "domain": [
          0.7875,
          1
         ],
         "gridcolor": "#E1E5ED",
         "showgrid": false,
         "tickfont": {
          "color": "#4D5663"
         },
         "title": {
          "font": {
           "color": "#4D5663"
          },
          "text": ""
         },
         "zerolinecolor": "#E1E5ED"
        },
        "xaxis5": {
         "anchor": "y5",
         "domain": [
          0,
          0.2125
         ],
         "gridcolor": "#E1E5ED",
         "showgrid": false,
         "tickfont": {
          "color": "#4D5663"
         },
         "title": {
          "font": {
           "color": "#4D5663"
          },
          "text": ""
         },
         "zerolinecolor": "#E1E5ED"
        },
        "xaxis6": {
         "anchor": "y6",
         "domain": [
          0.2625,
          0.475
         ],
         "gridcolor": "#E1E5ED",
         "showgrid": false,
         "tickfont": {
          "color": "#4D5663"
         },
         "title": {
          "font": {
           "color": "#4D5663"
          },
          "text": ""
         },
         "zerolinecolor": "#E1E5ED"
        },
        "xaxis7": {
         "anchor": "y7",
         "domain": [
          0.525,
          0.7375
         ],
         "gridcolor": "#E1E5ED",
         "showgrid": false,
         "tickfont": {
          "color": "#4D5663"
         },
         "title": {
          "font": {
           "color": "#4D5663"
          },
          "text": ""
         },
         "zerolinecolor": "#E1E5ED"
        },
        "xaxis8": {
         "anchor": "y8",
         "domain": [
          0.7875,
          1
         ],
         "gridcolor": "#E1E5ED",
         "showgrid": false,
         "tickfont": {
          "color": "#4D5663"
         },
         "title": {
          "font": {
           "color": "#4D5663"
          },
          "text": ""
         },
         "zerolinecolor": "#E1E5ED"
        },
        "xaxis9": {
         "anchor": "y9",
         "domain": [
          0,
          0.2125
         ],
         "gridcolor": "#E1E5ED",
         "showgrid": false,
         "tickfont": {
          "color": "#4D5663"
         },
         "title": {
          "font": {
           "color": "#4D5663"
          },
          "text": ""
         },
         "zerolinecolor": "#E1E5ED"
        },
        "yaxis": {
         "anchor": "x",
         "domain": [
          0.8025,
          1
         ],
         "gridcolor": "#E1E5ED",
         "showgrid": false,
         "tickfont": {
          "color": "#4D5663"
         },
         "title": {
          "font": {
           "color": "#4D5663"
          },
          "text": ""
         },
         "zerolinecolor": "#E1E5ED"
        },
        "yaxis10": {
         "anchor": "x10",
         "domain": [
          0.2675,
          0.465
         ],
         "gridcolor": "#E1E5ED",
         "showgrid": false,
         "tickfont": {
          "color": "#4D5663"
         },
         "title": {
          "font": {
           "color": "#4D5663"
          },
          "text": ""
         },
         "zerolinecolor": "#E1E5ED"
        },
        "yaxis11": {
         "anchor": "x11",
         "domain": [
          0.2675,
          0.465
         ],
         "gridcolor": "#E1E5ED",
         "showgrid": false,
         "tickfont": {
          "color": "#4D5663"
         },
         "title": {
          "font": {
           "color": "#4D5663"
          },
          "text": ""
         },
         "zerolinecolor": "#E1E5ED"
        },
        "yaxis12": {
         "anchor": "x12",
         "domain": [
          0.2675,
          0.465
         ],
         "gridcolor": "#E1E5ED",
         "showgrid": false,
         "tickfont": {
          "color": "#4D5663"
         },
         "title": {
          "font": {
           "color": "#4D5663"
          },
          "text": ""
         },
         "zerolinecolor": "#E1E5ED"
        },
        "yaxis13": {
         "anchor": "x13",
         "domain": [
          0,
          0.1975
         ],
         "gridcolor": "#E1E5ED",
         "showgrid": false,
         "tickfont": {
          "color": "#4D5663"
         },
         "title": {
          "font": {
           "color": "#4D5663"
          },
          "text": ""
         },
         "zerolinecolor": "#E1E5ED"
        },
        "yaxis14": {
         "anchor": "x14",
         "domain": [
          0,
          0.1975
         ],
         "gridcolor": "#E1E5ED",
         "showgrid": false,
         "tickfont": {
          "color": "#4D5663"
         },
         "title": {
          "font": {
           "color": "#4D5663"
          },
          "text": ""
         },
         "zerolinecolor": "#E1E5ED"
        },
        "yaxis15": {
         "anchor": "x15",
         "domain": [
          0,
          0.1975
         ],
         "gridcolor": "#E1E5ED",
         "showgrid": false,
         "tickfont": {
          "color": "#4D5663"
         },
         "title": {
          "font": {
           "color": "#4D5663"
          },
          "text": ""
         },
         "zerolinecolor": "#E1E5ED"
        },
        "yaxis16": {
         "anchor": "x16",
         "domain": [
          0,
          0.1975
         ],
         "gridcolor": "#E1E5ED",
         "showgrid": false,
         "tickfont": {
          "color": "#4D5663"
         },
         "title": {
          "font": {
           "color": "#4D5663"
          },
          "text": ""
         },
         "zerolinecolor": "#E1E5ED"
        },
        "yaxis2": {
         "anchor": "x2",
         "domain": [
          0.8025,
          1
         ],
         "gridcolor": "#E1E5ED",
         "showgrid": false,
         "tickfont": {
          "color": "#4D5663"
         },
         "title": {
          "font": {
           "color": "#4D5663"
          },
          "text": ""
         },
         "zerolinecolor": "#E1E5ED"
        },
        "yaxis3": {
         "anchor": "x3",
         "domain": [
          0.8025,
          1
         ],
         "gridcolor": "#E1E5ED",
         "showgrid": false,
         "tickfont": {
          "color": "#4D5663"
         },
         "title": {
          "font": {
           "color": "#4D5663"
          },
          "text": ""
         },
         "zerolinecolor": "#E1E5ED"
        },
        "yaxis4": {
         "anchor": "x4",
         "domain": [
          0.8025,
          1
         ],
         "gridcolor": "#E1E5ED",
         "showgrid": false,
         "tickfont": {
          "color": "#4D5663"
         },
         "title": {
          "font": {
           "color": "#4D5663"
          },
          "text": ""
         },
         "zerolinecolor": "#E1E5ED"
        },
        "yaxis5": {
         "anchor": "x5",
         "domain": [
          0.535,
          0.7325
         ],
         "gridcolor": "#E1E5ED",
         "showgrid": false,
         "tickfont": {
          "color": "#4D5663"
         },
         "title": {
          "font": {
           "color": "#4D5663"
          },
          "text": ""
         },
         "zerolinecolor": "#E1E5ED"
        },
        "yaxis6": {
         "anchor": "x6",
         "domain": [
          0.535,
          0.7325
         ],
         "gridcolor": "#E1E5ED",
         "showgrid": false,
         "tickfont": {
          "color": "#4D5663"
         },
         "title": {
          "font": {
           "color": "#4D5663"
          },
          "text": ""
         },
         "zerolinecolor": "#E1E5ED"
        },
        "yaxis7": {
         "anchor": "x7",
         "domain": [
          0.535,
          0.7325
         ],
         "gridcolor": "#E1E5ED",
         "showgrid": false,
         "tickfont": {
          "color": "#4D5663"
         },
         "title": {
          "font": {
           "color": "#4D5663"
          },
          "text": ""
         },
         "zerolinecolor": "#E1E5ED"
        },
        "yaxis8": {
         "anchor": "x8",
         "domain": [
          0.535,
          0.7325
         ],
         "gridcolor": "#E1E5ED",
         "showgrid": false,
         "tickfont": {
          "color": "#4D5663"
         },
         "title": {
          "font": {
           "color": "#4D5663"
          },
          "text": ""
         },
         "zerolinecolor": "#E1E5ED"
        },
        "yaxis9": {
         "anchor": "x9",
         "domain": [
          0.2675,
          0.465
         ],
         "gridcolor": "#E1E5ED",
         "showgrid": false,
         "tickfont": {
          "color": "#4D5663"
         },
         "title": {
          "font": {
           "color": "#4D5663"
          },
          "text": ""
         },
         "zerolinecolor": "#E1E5ED"
        }
       }
      },
      "text/html": "<div>                            <div id=\"589bbb32-834f-4ce7-bef9-1088963a7f90\" class=\"plotly-graph-div\" style=\"height:525px; width:100%;\"></div>            <script type=\"text/javascript\">                require([\"plotly\"], function(Plotly) {                    window.PLOTLYENV=window.PLOTLYENV || {};\n                    window.PLOTLYENV.BASE_URL='https://plot.ly';                                    if (document.getElementById(\"589bbb32-834f-4ce7-bef9-1088963a7f90\")) {                    Plotly.newPlot(                        \"589bbb32-834f-4ce7-bef9-1088963a7f90\",                        [{\"histfunc\": \"count\", \"histnorm\": \"\", \"marker\": {\"color\": \"rgba(255, 153, 51, 1.0)\", \"line\": {\"color\": \"#4D5663\", \"width\": 1.3}}, \"name\": \"A\", \"nbinsx\": 10, \"opacity\": 0.8, \"orientation\": \"v\", \"type\": \"histogram\", \"x\": [-0.9792515936598923, 0.9598050055042266, 1.2879497854926978, -0.7580525281398575, 0.7395394550550108, 0.17019107169090317, -0.1293765011854134, 0.4456954392361662, 0.13772919772007583, -1.1475557380589023, 0.7148856836266592, 1.4579626985599747, 0.8874119734406709, 0.3072755156395645, 2.0957456279779065, 0.5899177376437668, 1.0364047408183756, 0.7388472871926347, 0.17950427668644467, 0.3680753376522049, 0.1368695577373032, 0.8159967349839087, -0.14844827589627468, 0.9610220648185201, 0.8403045958850671, 0.1539828413327248, -0.22403721645926258, -0.9886846475465637, -0.041097672863380195, -0.20336539740261284, -0.8272592313380914, -0.7377644328272414, 0.6228589278084802, 1.0167861280965602, -2.2412581790082666, -0.18088089665349677, 0.38747162796369533, -0.022976036922044408, -0.376997829574464, 0.12116576151183464, 0.004016022807814205, -1.8023654641354336, -0.8309213004133602, -0.37467942398393506, 0.16749391300381028, 2.157106901960888, 0.26801897806054975, -0.12917654316980617, -1.1921864240944327, 1.6144706272625435, 0.44154651927524047, -1.5248455068331284, -1.379729809199886, -0.3071048272960799, 0.11873027241721576, -0.18440988283347878, -1.5364079402765836, -1.7659951853905054, -1.1925247660678762, -0.3719050473318741, 0.9116004418673352, -1.2893901771054779, 0.3494224192856916, 0.12384105919512163, -0.2853887638156255, -0.05477890823051662, -0.13339681427823635, 0.002483580579456353, 0.6483924643575026, -1.7744604454121766, 0.051018691708484755, -0.20831087775659465, 1.2036245135778298, 0.37460006318208516, -0.007357554347866323, 0.5125991262014535, 0.0024173923945399363, -0.8563025126597791, -0.7617603492153533, -1.792629772347877, 0.360765760598241, -0.7718682940507207, 1.6886536550319722, 1.194024448998109, -0.417875534770027, 2.122611684514379, -0.20455142051435, -1.3193963771012482, -1.7879804873841585, 0.4066145570917323, 1.434386069614315, -0.5881888567526482, -1.2337031790890676, -0.7429661704558083, 0.0566414277132115, -1.2378557179328697, -0.43038873430261276, -2.5320354376990766, 0.7598237879841848, 0.48412359488350337], \"xaxis\": \"x\", \"yaxis\": \"y\"}, {\"line\": {\"color\": \"rgba(128, 128, 128, 1.0)\", \"dash\": \"solid\", \"shape\": \"linear\", \"width\": 1.3}, \"marker\": {\"size\": 2, \"symbol\": \"circle\"}, \"mode\": \"markers\", \"name\": \"A\", \"text\": \"\", \"type\": \"scatter\", \"x\": [-0.0033035822899469052, 0.3142449677503647, -1.504523021926638, 1.0044432988561958, -0.3786281864931309, 1.6221183698918318, -0.6833666110514979, -0.09085898589503208, 0.4183024142850112, 0.1599510285795126, 0.4983380417069129, -2.38735035273387, -0.17484722770594668, -0.7024036572296523, -0.2377817653329279, 1.0463693206953972, -1.206970761077781, -0.27926473845743927, 0.024497475622231084, 0.07215395894711478, 0.8060503759899023, -0.10523700135619246, 0.4892495322097234, -1.6211612465614205, -0.9413730510682876, 0.5618878755989775, 1.148898697209982, -0.8603059741609684, -0.2545352736983566, 0.3221749143716371, 0.8184090970176358, 0.603400860775381, 0.29148084806096053, 1.2197382793191827, -0.11597682125807925, -0.993512699913698, 0.6287345083305073, -0.23713521257102554, -0.3097494760631051, -0.5890817405505082, -1.1603607004584577, 0.9875973705562235, -0.063031992142952, 0.5528356056102148, 0.9943802775983782, 1.5885704578261726, -0.9751179842350768, 0.6218820952952601, -2.0323297593875838, -0.5484199829062123, -0.12137817399783384, -1.2309977016776752, -0.9313693797491154, 0.2663840238711808, -1.6717292793656437, -0.4542443768926661, -0.2721841210031825, -2.536542463070985, 0.4847118496688762, -2.1214691330865127, -1.1620826355082072, -0.048986563425723995, -1.2645433415566478, 1.9997478527752839, 1.166476246332891, -3.103425838335752, -1.4438539094973724, 1.5718043608392394, -0.7335294160030932, -1.197965786647293, 1.0722513065522665, -0.7826362934224473, -0.49820503134543775, 1.5716627803037155, -0.005317290143883737, -0.3593653166820716, 1.5597095911561978, 1.0503815987596175, 0.3441039774821109, -0.04974121712467084, 0.008170229384752613, -0.9709058136802701, 2.417034408248457, -1.2124867561742774, 0.6046417869674267, -0.3585076795507522, 0.06705171160120478, 1.4546189083140886, -0.42913586866418607, -0.707992549805246, -2.096983049597022, 0.038373856459275275, 0.6579882416462015, 2.2386147056613295, -0.6608003396245523, -0.9953483586408077, 0.43580220111517376, -0.5404418613480602, 3.3467118532442397, 0.34927520878526047], \"xaxis\": \"x2\", \"y\": [-0.9792515936598923, 0.9598050055042266, 1.2879497854926978, -0.7580525281398575, 0.7395394550550108, 0.17019107169090317, -0.1293765011854134, 0.4456954392361662, 0.13772919772007583, -1.1475557380589023, 0.7148856836266592, 1.4579626985599747, 0.8874119734406709, 0.3072755156395645, 2.0957456279779065, 0.5899177376437668, 1.0364047408183756, 0.7388472871926347, 0.17950427668644467, 0.3680753376522049, 0.1368695577373032, 0.8159967349839087, -0.14844827589627468, 0.9610220648185201, 0.8403045958850671, 0.1539828413327248, -0.22403721645926258, -0.9886846475465637, -0.041097672863380195, -0.20336539740261284, -0.8272592313380914, -0.7377644328272414, 0.6228589278084802, 1.0167861280965602, -2.2412581790082666, -0.18088089665349677, 0.38747162796369533, -0.022976036922044408, -0.376997829574464, 0.12116576151183464, 0.004016022807814205, -1.8023654641354336, -0.8309213004133602, -0.37467942398393506, 0.16749391300381028, 2.157106901960888, 0.26801897806054975, -0.12917654316980617, -1.1921864240944327, 1.6144706272625435, 0.44154651927524047, -1.5248455068331284, -1.379729809199886, -0.3071048272960799, 0.11873027241721576, -0.18440988283347878, -1.5364079402765836, -1.7659951853905054, -1.1925247660678762, -0.3719050473318741, 0.9116004418673352, -1.2893901771054779, 0.3494224192856916, 0.12384105919512163, -0.2853887638156255, -0.05477890823051662, -0.13339681427823635, 0.002483580579456353, 0.6483924643575026, -1.7744604454121766, 0.051018691708484755, -0.20831087775659465, 1.2036245135778298, 0.37460006318208516, -0.007357554347866323, 0.5125991262014535, 0.0024173923945399363, -0.8563025126597791, -0.7617603492153533, -1.792629772347877, 0.360765760598241, -0.7718682940507207, 1.6886536550319722, 1.194024448998109, -0.417875534770027, 2.122611684514379, -0.20455142051435, -1.3193963771012482, -1.7879804873841585, 0.4066145570917323, 1.434386069614315, -0.5881888567526482, -1.2337031790890676, -0.7429661704558083, 0.0566414277132115, -1.2378557179328697, -0.43038873430261276, -2.5320354376990766, 0.7598237879841848, 0.48412359488350337], \"yaxis\": \"y2\"}, {\"line\": {\"color\": \"rgba(128, 128, 128, 1.0)\", \"dash\": \"solid\", \"shape\": \"linear\", \"width\": 1.3}, \"marker\": {\"size\": 2, \"symbol\": \"circle\"}, \"mode\": \"markers\", \"name\": \"A\", \"text\": \"\", \"type\": \"scatter\", \"x\": [-1.029169055522879, -0.6255978007913707, 1.0417982196879223, 2.2449486385713384, -0.6795945775053402, 0.14631255858470052, 0.3731668746960911, 0.4124420330489584, 1.5113484075983132, 0.5920468325658576, 0.2793855445424416, -0.29619014153343065, 2.3727187380412276, -0.6841365657268245, 0.49440394600584864, 0.6388836557479353, 0.21519353566892171, 0.08067736888339132, 1.355625354020415, -0.348654489687168, -0.4947196965310076, -0.3582819911117431, 0.8482378687717445, -0.7550696581956536, 0.09628928497248218, 0.3694001280085396, 1.7522158422386362, 0.24728003851561672, 1.4320945076126141, 0.38078115390777206, 0.49485054834994746, 0.10834747534480808, 0.40440051019822765, 0.46318804403090136, 0.8498937327069608, 0.30823700591443287, -0.16957495168143608, 1.4656183402677774, -0.2756627766669359, -1.558366156240104, -1.44390954708868, -0.5051680953931286, 0.27620048996716984, -1.8343779836571938, -0.32566386109769674, -0.5377091427902171, -0.8793316602002474, -0.13730101188128274, 0.4739117707913685, 1.9456675653065694, -0.34549575735322996, 0.9720333799605246, -0.26228104507380334, -0.5714395653881361, 0.14502575276461074, -1.8641784872791407, 0.8869491501534156, 1.5217251811022767, 1.3921339746257404, 1.1907950182465863, -1.3679269183388134, -0.42830897316735944, 0.16752652136906077, -0.822993733943916, 0.032639710581331624, -1.7353173585494512, 1.3006424924535107, -2.658447080801197, -0.7260667522978758, -1.346559369571314, 1.2100767873230984, 0.14199042718703583, 1.3810124437891032, 0.17475647805393424, -0.7973890264270153, 0.5809185216045772, -0.3885903405071358, 0.10406688806814304, 1.370396070389675, -0.23398496826648119, -0.29001376284099223, -0.28707110106581923, 0.25979132952928025, -0.1617035485251935, -0.6720898907014572, 0.7962255499025633, -0.6948156806562187, 0.9390569733955219, 1.8104513153386503, 0.5111732025237625, -0.7447934329773587, -0.36545521090245675, 0.12658057977115625, -1.1224377540795116, 0.23315136938347406, -0.3592208292662069, -0.3149408561046429, 0.7604586976536822, 0.8599817036861749, -2.121030951423784], \"xaxis\": \"x3\", \"y\": [-0.9792515936598923, 0.9598050055042266, 1.2879497854926978, -0.7580525281398575, 0.7395394550550108, 0.17019107169090317, -0.1293765011854134, 0.4456954392361662, 0.13772919772007583, -1.1475557380589023, 0.7148856836266592, 1.4579626985599747, 0.8874119734406709, 0.3072755156395645, 2.0957456279779065, 0.5899177376437668, 1.0364047408183756, 0.7388472871926347, 0.17950427668644467, 0.3680753376522049, 0.1368695577373032, 0.8159967349839087, -0.14844827589627468, 0.9610220648185201, 0.8403045958850671, 0.1539828413327248, -0.22403721645926258, -0.9886846475465637, -0.041097672863380195, -0.20336539740261284, -0.8272592313380914, -0.7377644328272414, 0.6228589278084802, 1.0167861280965602, -2.2412581790082666, -0.18088089665349677, 0.38747162796369533, -0.022976036922044408, -0.376997829574464, 0.12116576151183464, 0.004016022807814205, -1.8023654641354336, -0.8309213004133602, -0.37467942398393506, 0.16749391300381028, 2.157106901960888, 0.26801897806054975, -0.12917654316980617, -1.1921864240944327, 1.6144706272625435, 0.44154651927524047, -1.5248455068331284, -1.379729809199886, -0.3071048272960799, 0.11873027241721576, -0.18440988283347878, -1.5364079402765836, -1.7659951853905054, -1.1925247660678762, -0.3719050473318741, 0.9116004418673352, -1.2893901771054779, 0.3494224192856916, 0.12384105919512163, -0.2853887638156255, -0.05477890823051662, -0.13339681427823635, 0.002483580579456353, 0.6483924643575026, -1.7744604454121766, 0.051018691708484755, -0.20831087775659465, 1.2036245135778298, 0.37460006318208516, -0.007357554347866323, 0.5125991262014535, 0.0024173923945399363, -0.8563025126597791, -0.7617603492153533, -1.792629772347877, 0.360765760598241, -0.7718682940507207, 1.6886536550319722, 1.194024448998109, -0.417875534770027, 2.122611684514379, -0.20455142051435, -1.3193963771012482, -1.7879804873841585, 0.4066145570917323, 1.434386069614315, -0.5881888567526482, -1.2337031790890676, -0.7429661704558083, 0.0566414277132115, -1.2378557179328697, -0.43038873430261276, -2.5320354376990766, 0.7598237879841848, 0.48412359488350337], \"yaxis\": \"y3\"}, {\"line\": {\"color\": \"rgba(128, 128, 128, 1.0)\", \"dash\": \"solid\", \"shape\": \"linear\", \"width\": 1.3}, \"marker\": {\"size\": 2, \"symbol\": \"circle\"}, \"mode\": \"markers\", \"name\": \"A\", \"text\": \"\", \"type\": \"scatter\", \"x\": [-0.46308053517921177, -0.22893297382440694, 0.28152771977670005, 0.841148244630791, 0.09335388118504882, 0.09404129945671476, -0.27604509647678394, -1.4149534857065915, 0.6303783847458049, 1.0140454768881473, 0.6247341776241347, 0.3462567203067475, 0.06618476657523857, 0.22304990357635202, -0.7104729965870029, -0.36754819414362006, 0.7527370093648587, 0.4243521358588527, -0.313879559965402, 0.44453194663906453, -1.2215088401885823, 0.5313535901603273, -1.136436468522623, -0.33583843750714953, 0.695915250472006, -2.035088399463051, 2.007662253559875, 0.3019128256963567, -0.18113684687278164, 1.8911687280243084, 0.7572630803852446, -0.43219425771863185, 0.2682190866781442, 0.9638038961270988, 0.38196860184494996, -0.904240690441337, 0.9257726882611239, -3.089622695862602, 0.022160723350371093, 0.15890271523422386, 1.2072376116298225, 0.036906673259497653, 1.9325182083788126, -2.65838624213967, 1.33374362812293, -0.3002915926433879, -2.3339029672320337, 0.4283179292567376, 0.3920197131247837, 1.0578439219875122, -1.2286183490049214, -0.42118880033063083, 0.18221735978592854, 0.7783483420916925, -1.1631454183180807, 0.3409532835134661, -0.175860025671226, 2.600067786231678, 0.1424405264085281, 0.6378341507289481, -0.7911396934565847, 0.2970410528515773, -0.36757856712825604, 0.001891577602284555, -0.9533757506556024, -1.5265124105099575, 0.14141110796393855, 3.6126504926656198, -0.4083508444949703, -1.3866183439117674, 0.6146431833929709, -1.1797204483467447, -0.17626909828622517, -0.8315102988033132, -1.0629729405783421, 0.6165434831247598, 2.4710912898514956, -0.5136104215624592, -1.2833494881724943, -0.19740622984239123, -0.28292641821742964, -0.17332004636855022, -0.8472778358004164, -1.5638430808706032, -0.12651593497479413, 0.5196255513517741, 1.6550631354033751, -0.4268727901892978, 1.0780805010140389, 1.394028416980079, -0.27892950008419176, -0.42372865324865777, -0.0035800875407494483, -0.3109767884032559, -0.6928666677078057, -0.96026887219562, -0.17067052996934515, -0.8291957027802563, -1.872451022659089, 0.4529640052721673], \"xaxis\": \"x4\", \"y\": [-0.9792515936598923, 0.9598050055042266, 1.2879497854926978, -0.7580525281398575, 0.7395394550550108, 0.17019107169090317, -0.1293765011854134, 0.4456954392361662, 0.13772919772007583, -1.1475557380589023, 0.7148856836266592, 1.4579626985599747, 0.8874119734406709, 0.3072755156395645, 2.0957456279779065, 0.5899177376437668, 1.0364047408183756, 0.7388472871926347, 0.17950427668644467, 0.3680753376522049, 0.1368695577373032, 0.8159967349839087, -0.14844827589627468, 0.9610220648185201, 0.8403045958850671, 0.1539828413327248, -0.22403721645926258, -0.9886846475465637, -0.041097672863380195, -0.20336539740261284, -0.8272592313380914, -0.7377644328272414, 0.6228589278084802, 1.0167861280965602, -2.2412581790082666, -0.18088089665349677, 0.38747162796369533, -0.022976036922044408, -0.376997829574464, 0.12116576151183464, 0.004016022807814205, -1.8023654641354336, -0.8309213004133602, -0.37467942398393506, 0.16749391300381028, 2.157106901960888, 0.26801897806054975, -0.12917654316980617, -1.1921864240944327, 1.6144706272625435, 0.44154651927524047, -1.5248455068331284, -1.379729809199886, -0.3071048272960799, 0.11873027241721576, -0.18440988283347878, -1.5364079402765836, -1.7659951853905054, -1.1925247660678762, -0.3719050473318741, 0.9116004418673352, -1.2893901771054779, 0.3494224192856916, 0.12384105919512163, -0.2853887638156255, -0.05477890823051662, -0.13339681427823635, 0.002483580579456353, 0.6483924643575026, -1.7744604454121766, 0.051018691708484755, -0.20831087775659465, 1.2036245135778298, 0.37460006318208516, -0.007357554347866323, 0.5125991262014535, 0.0024173923945399363, -0.8563025126597791, -0.7617603492153533, -1.792629772347877, 0.360765760598241, -0.7718682940507207, 1.6886536550319722, 1.194024448998109, -0.417875534770027, 2.122611684514379, -0.20455142051435, -1.3193963771012482, -1.7879804873841585, 0.4066145570917323, 1.434386069614315, -0.5881888567526482, -1.2337031790890676, -0.7429661704558083, 0.0566414277132115, -1.2378557179328697, -0.43038873430261276, -2.5320354376990766, 0.7598237879841848, 0.48412359488350337], \"yaxis\": \"y4\"}, {\"line\": {\"color\": \"rgba(128, 128, 128, 1.0)\", \"dash\": \"solid\", \"shape\": \"linear\", \"width\": 1.3}, \"marker\": {\"size\": 2, \"symbol\": \"circle\"}, \"mode\": \"markers\", \"name\": \"B\", \"text\": \"\", \"type\": \"scatter\", \"x\": [-0.9792515936598923, 0.9598050055042266, 1.2879497854926978, -0.7580525281398575, 0.7395394550550108, 0.17019107169090317, -0.1293765011854134, 0.4456954392361662, 0.13772919772007583, -1.1475557380589023, 0.7148856836266592, 1.4579626985599747, 0.8874119734406709, 0.3072755156395645, 2.0957456279779065, 0.5899177376437668, 1.0364047408183756, 0.7388472871926347, 0.17950427668644467, 0.3680753376522049, 0.1368695577373032, 0.8159967349839087, -0.14844827589627468, 0.9610220648185201, 0.8403045958850671, 0.1539828413327248, -0.22403721645926258, -0.9886846475465637, -0.041097672863380195, -0.20336539740261284, -0.8272592313380914, -0.7377644328272414, 0.6228589278084802, 1.0167861280965602, -2.2412581790082666, -0.18088089665349677, 0.38747162796369533, -0.022976036922044408, -0.376997829574464, 0.12116576151183464, 0.004016022807814205, -1.8023654641354336, -0.8309213004133602, -0.37467942398393506, 0.16749391300381028, 2.157106901960888, 0.26801897806054975, -0.12917654316980617, -1.1921864240944327, 1.6144706272625435, 0.44154651927524047, -1.5248455068331284, -1.379729809199886, -0.3071048272960799, 0.11873027241721576, -0.18440988283347878, -1.5364079402765836, -1.7659951853905054, -1.1925247660678762, -0.3719050473318741, 0.9116004418673352, -1.2893901771054779, 0.3494224192856916, 0.12384105919512163, -0.2853887638156255, -0.05477890823051662, -0.13339681427823635, 0.002483580579456353, 0.6483924643575026, -1.7744604454121766, 0.051018691708484755, -0.20831087775659465, 1.2036245135778298, 0.37460006318208516, -0.007357554347866323, 0.5125991262014535, 0.0024173923945399363, -0.8563025126597791, -0.7617603492153533, -1.792629772347877, 0.360765760598241, -0.7718682940507207, 1.6886536550319722, 1.194024448998109, -0.417875534770027, 2.122611684514379, -0.20455142051435, -1.3193963771012482, -1.7879804873841585, 0.4066145570917323, 1.434386069614315, -0.5881888567526482, -1.2337031790890676, -0.7429661704558083, 0.0566414277132115, -1.2378557179328697, -0.43038873430261276, -2.5320354376990766, 0.7598237879841848, 0.48412359488350337], \"xaxis\": \"x5\", \"y\": [-0.0033035822899469052, 0.3142449677503647, -1.504523021926638, 1.0044432988561958, -0.3786281864931309, 1.6221183698918318, -0.6833666110514979, -0.09085898589503208, 0.4183024142850112, 0.1599510285795126, 0.4983380417069129, -2.38735035273387, -0.17484722770594668, -0.7024036572296523, -0.2377817653329279, 1.0463693206953972, -1.206970761077781, -0.27926473845743927, 0.024497475622231084, 0.07215395894711478, 0.8060503759899023, -0.10523700135619246, 0.4892495322097234, -1.6211612465614205, -0.9413730510682876, 0.5618878755989775, 1.148898697209982, -0.8603059741609684, -0.2545352736983566, 0.3221749143716371, 0.8184090970176358, 0.603400860775381, 0.29148084806096053, 1.2197382793191827, -0.11597682125807925, -0.993512699913698, 0.6287345083305073, -0.23713521257102554, -0.3097494760631051, -0.5890817405505082, -1.1603607004584577, 0.9875973705562235, -0.063031992142952, 0.5528356056102148, 0.9943802775983782, 1.5885704578261726, -0.9751179842350768, 0.6218820952952601, -2.0323297593875838, -0.5484199829062123, -0.12137817399783384, -1.2309977016776752, -0.9313693797491154, 0.2663840238711808, -1.6717292793656437, -0.4542443768926661, -0.2721841210031825, -2.536542463070985, 0.4847118496688762, -2.1214691330865127, -1.1620826355082072, -0.048986563425723995, -1.2645433415566478, 1.9997478527752839, 1.166476246332891, -3.103425838335752, -1.4438539094973724, 1.5718043608392394, -0.7335294160030932, -1.197965786647293, 1.0722513065522665, -0.7826362934224473, -0.49820503134543775, 1.5716627803037155, -0.005317290143883737, -0.3593653166820716, 1.5597095911561978, 1.0503815987596175, 0.3441039774821109, -0.04974121712467084, 0.008170229384752613, -0.9709058136802701, 2.417034408248457, -1.2124867561742774, 0.6046417869674267, -0.3585076795507522, 0.06705171160120478, 1.4546189083140886, -0.42913586866418607, -0.707992549805246, -2.096983049597022, 0.038373856459275275, 0.6579882416462015, 2.2386147056613295, -0.6608003396245523, -0.9953483586408077, 0.43580220111517376, -0.5404418613480602, 3.3467118532442397, 0.34927520878526047], \"yaxis\": \"y5\"}, {\"histfunc\": \"count\", \"histnorm\": \"\", \"marker\": {\"color\": \"rgba(55, 128, 191, 1.0)\", \"line\": {\"color\": \"#4D5663\", \"width\": 1.3}}, \"name\": \"B\", \"nbinsx\": 10, \"opacity\": 0.8, \"orientation\": \"v\", \"type\": \"histogram\", \"x\": [-0.0033035822899469052, 0.3142449677503647, -1.504523021926638, 1.0044432988561958, -0.3786281864931309, 1.6221183698918318, -0.6833666110514979, -0.09085898589503208, 0.4183024142850112, 0.1599510285795126, 0.4983380417069129, -2.38735035273387, -0.17484722770594668, -0.7024036572296523, -0.2377817653329279, 1.0463693206953972, -1.206970761077781, -0.27926473845743927, 0.024497475622231084, 0.07215395894711478, 0.8060503759899023, -0.10523700135619246, 0.4892495322097234, -1.6211612465614205, -0.9413730510682876, 0.5618878755989775, 1.148898697209982, -0.8603059741609684, -0.2545352736983566, 0.3221749143716371, 0.8184090970176358, 0.603400860775381, 0.29148084806096053, 1.2197382793191827, -0.11597682125807925, -0.993512699913698, 0.6287345083305073, -0.23713521257102554, -0.3097494760631051, -0.5890817405505082, -1.1603607004584577, 0.9875973705562235, -0.063031992142952, 0.5528356056102148, 0.9943802775983782, 1.5885704578261726, -0.9751179842350768, 0.6218820952952601, -2.0323297593875838, -0.5484199829062123, -0.12137817399783384, -1.2309977016776752, -0.9313693797491154, 0.2663840238711808, -1.6717292793656437, -0.4542443768926661, -0.2721841210031825, -2.536542463070985, 0.4847118496688762, -2.1214691330865127, -1.1620826355082072, -0.048986563425723995, -1.2645433415566478, 1.9997478527752839, 1.166476246332891, -3.103425838335752, -1.4438539094973724, 1.5718043608392394, -0.7335294160030932, -1.197965786647293, 1.0722513065522665, -0.7826362934224473, -0.49820503134543775, 1.5716627803037155, -0.005317290143883737, -0.3593653166820716, 1.5597095911561978, 1.0503815987596175, 0.3441039774821109, -0.04974121712467084, 0.008170229384752613, -0.9709058136802701, 2.417034408248457, -1.2124867561742774, 0.6046417869674267, -0.3585076795507522, 0.06705171160120478, 1.4546189083140886, -0.42913586866418607, -0.707992549805246, -2.096983049597022, 0.038373856459275275, 0.6579882416462015, 2.2386147056613295, -0.6608003396245523, -0.9953483586408077, 0.43580220111517376, -0.5404418613480602, 3.3467118532442397, 0.34927520878526047], \"xaxis\": \"x6\", \"yaxis\": \"y6\"}, {\"line\": {\"color\": \"rgba(128, 128, 128, 1.0)\", \"dash\": \"solid\", \"shape\": \"linear\", \"width\": 1.3}, \"marker\": {\"size\": 2, \"symbol\": \"circle\"}, \"mode\": \"markers\", \"name\": \"B\", \"text\": \"\", \"type\": \"scatter\", \"x\": [-1.029169055522879, -0.6255978007913707, 1.0417982196879223, 2.2449486385713384, -0.6795945775053402, 0.14631255858470052, 0.3731668746960911, 0.4124420330489584, 1.5113484075983132, 0.5920468325658576, 0.2793855445424416, -0.29619014153343065, 2.3727187380412276, -0.6841365657268245, 0.49440394600584864, 0.6388836557479353, 0.21519353566892171, 0.08067736888339132, 1.355625354020415, -0.348654489687168, -0.4947196965310076, -0.3582819911117431, 0.8482378687717445, -0.7550696581956536, 0.09628928497248218, 0.3694001280085396, 1.7522158422386362, 0.24728003851561672, 1.4320945076126141, 0.38078115390777206, 0.49485054834994746, 0.10834747534480808, 0.40440051019822765, 0.46318804403090136, 0.8498937327069608, 0.30823700591443287, -0.16957495168143608, 1.4656183402677774, -0.2756627766669359, -1.558366156240104, -1.44390954708868, -0.5051680953931286, 0.27620048996716984, -1.8343779836571938, -0.32566386109769674, -0.5377091427902171, -0.8793316602002474, -0.13730101188128274, 0.4739117707913685, 1.9456675653065694, -0.34549575735322996, 0.9720333799605246, -0.26228104507380334, -0.5714395653881361, 0.14502575276461074, -1.8641784872791407, 0.8869491501534156, 1.5217251811022767, 1.3921339746257404, 1.1907950182465863, -1.3679269183388134, -0.42830897316735944, 0.16752652136906077, -0.822993733943916, 0.032639710581331624, -1.7353173585494512, 1.3006424924535107, -2.658447080801197, -0.7260667522978758, -1.346559369571314, 1.2100767873230984, 0.14199042718703583, 1.3810124437891032, 0.17475647805393424, -0.7973890264270153, 0.5809185216045772, -0.3885903405071358, 0.10406688806814304, 1.370396070389675, -0.23398496826648119, -0.29001376284099223, -0.28707110106581923, 0.25979132952928025, -0.1617035485251935, -0.6720898907014572, 0.7962255499025633, -0.6948156806562187, 0.9390569733955219, 1.8104513153386503, 0.5111732025237625, -0.7447934329773587, -0.36545521090245675, 0.12658057977115625, -1.1224377540795116, 0.23315136938347406, -0.3592208292662069, -0.3149408561046429, 0.7604586976536822, 0.8599817036861749, -2.121030951423784], \"xaxis\": \"x7\", \"y\": [-0.0033035822899469052, 0.3142449677503647, -1.504523021926638, 1.0044432988561958, -0.3786281864931309, 1.6221183698918318, -0.6833666110514979, -0.09085898589503208, 0.4183024142850112, 0.1599510285795126, 0.4983380417069129, -2.38735035273387, -0.17484722770594668, -0.7024036572296523, -0.2377817653329279, 1.0463693206953972, -1.206970761077781, -0.27926473845743927, 0.024497475622231084, 0.07215395894711478, 0.8060503759899023, -0.10523700135619246, 0.4892495322097234, -1.6211612465614205, -0.9413730510682876, 0.5618878755989775, 1.148898697209982, -0.8603059741609684, -0.2545352736983566, 0.3221749143716371, 0.8184090970176358, 0.603400860775381, 0.29148084806096053, 1.2197382793191827, -0.11597682125807925, -0.993512699913698, 0.6287345083305073, -0.23713521257102554, -0.3097494760631051, -0.5890817405505082, -1.1603607004584577, 0.9875973705562235, -0.063031992142952, 0.5528356056102148, 0.9943802775983782, 1.5885704578261726, -0.9751179842350768, 0.6218820952952601, -2.0323297593875838, -0.5484199829062123, -0.12137817399783384, -1.2309977016776752, -0.9313693797491154, 0.2663840238711808, -1.6717292793656437, -0.4542443768926661, -0.2721841210031825, -2.536542463070985, 0.4847118496688762, -2.1214691330865127, -1.1620826355082072, -0.048986563425723995, -1.2645433415566478, 1.9997478527752839, 1.166476246332891, -3.103425838335752, -1.4438539094973724, 1.5718043608392394, -0.7335294160030932, -1.197965786647293, 1.0722513065522665, -0.7826362934224473, -0.49820503134543775, 1.5716627803037155, -0.005317290143883737, -0.3593653166820716, 1.5597095911561978, 1.0503815987596175, 0.3441039774821109, -0.04974121712467084, 0.008170229384752613, -0.9709058136802701, 2.417034408248457, -1.2124867561742774, 0.6046417869674267, -0.3585076795507522, 0.06705171160120478, 1.4546189083140886, -0.42913586866418607, -0.707992549805246, -2.096983049597022, 0.038373856459275275, 0.6579882416462015, 2.2386147056613295, -0.6608003396245523, -0.9953483586408077, 0.43580220111517376, -0.5404418613480602, 3.3467118532442397, 0.34927520878526047], \"yaxis\": \"y7\"}, {\"line\": {\"color\": \"rgba(128, 128, 128, 1.0)\", \"dash\": \"solid\", \"shape\": \"linear\", \"width\": 1.3}, \"marker\": {\"size\": 2, \"symbol\": \"circle\"}, \"mode\": \"markers\", \"name\": \"B\", \"text\": \"\", \"type\": \"scatter\", \"x\": [-0.46308053517921177, -0.22893297382440694, 0.28152771977670005, 0.841148244630791, 0.09335388118504882, 0.09404129945671476, -0.27604509647678394, -1.4149534857065915, 0.6303783847458049, 1.0140454768881473, 0.6247341776241347, 0.3462567203067475, 0.06618476657523857, 0.22304990357635202, -0.7104729965870029, -0.36754819414362006, 0.7527370093648587, 0.4243521358588527, -0.313879559965402, 0.44453194663906453, -1.2215088401885823, 0.5313535901603273, -1.136436468522623, -0.33583843750714953, 0.695915250472006, -2.035088399463051, 2.007662253559875, 0.3019128256963567, -0.18113684687278164, 1.8911687280243084, 0.7572630803852446, -0.43219425771863185, 0.2682190866781442, 0.9638038961270988, 0.38196860184494996, -0.904240690441337, 0.9257726882611239, -3.089622695862602, 0.022160723350371093, 0.15890271523422386, 1.2072376116298225, 0.036906673259497653, 1.9325182083788126, -2.65838624213967, 1.33374362812293, -0.3002915926433879, -2.3339029672320337, 0.4283179292567376, 0.3920197131247837, 1.0578439219875122, -1.2286183490049214, -0.42118880033063083, 0.18221735978592854, 0.7783483420916925, -1.1631454183180807, 0.3409532835134661, -0.175860025671226, 2.600067786231678, 0.1424405264085281, 0.6378341507289481, -0.7911396934565847, 0.2970410528515773, -0.36757856712825604, 0.001891577602284555, -0.9533757506556024, -1.5265124105099575, 0.14141110796393855, 3.6126504926656198, -0.4083508444949703, -1.3866183439117674, 0.6146431833929709, -1.1797204483467447, -0.17626909828622517, -0.8315102988033132, -1.0629729405783421, 0.6165434831247598, 2.4710912898514956, -0.5136104215624592, -1.2833494881724943, -0.19740622984239123, -0.28292641821742964, -0.17332004636855022, -0.8472778358004164, -1.5638430808706032, -0.12651593497479413, 0.5196255513517741, 1.6550631354033751, -0.4268727901892978, 1.0780805010140389, 1.394028416980079, -0.27892950008419176, -0.42372865324865777, -0.0035800875407494483, -0.3109767884032559, -0.6928666677078057, -0.96026887219562, -0.17067052996934515, -0.8291957027802563, -1.872451022659089, 0.4529640052721673], \"xaxis\": \"x8\", \"y\": [-0.0033035822899469052, 0.3142449677503647, -1.504523021926638, 1.0044432988561958, -0.3786281864931309, 1.6221183698918318, -0.6833666110514979, -0.09085898589503208, 0.4183024142850112, 0.1599510285795126, 0.4983380417069129, -2.38735035273387, -0.17484722770594668, -0.7024036572296523, -0.2377817653329279, 1.0463693206953972, -1.206970761077781, -0.27926473845743927, 0.024497475622231084, 0.07215395894711478, 0.8060503759899023, -0.10523700135619246, 0.4892495322097234, -1.6211612465614205, -0.9413730510682876, 0.5618878755989775, 1.148898697209982, -0.8603059741609684, -0.2545352736983566, 0.3221749143716371, 0.8184090970176358, 0.603400860775381, 0.29148084806096053, 1.2197382793191827, -0.11597682125807925, -0.993512699913698, 0.6287345083305073, -0.23713521257102554, -0.3097494760631051, -0.5890817405505082, -1.1603607004584577, 0.9875973705562235, -0.063031992142952, 0.5528356056102148, 0.9943802775983782, 1.5885704578261726, -0.9751179842350768, 0.6218820952952601, -2.0323297593875838, -0.5484199829062123, -0.12137817399783384, -1.2309977016776752, -0.9313693797491154, 0.2663840238711808, -1.6717292793656437, -0.4542443768926661, -0.2721841210031825, -2.536542463070985, 0.4847118496688762, -2.1214691330865127, -1.1620826355082072, -0.048986563425723995, -1.2645433415566478, 1.9997478527752839, 1.166476246332891, -3.103425838335752, -1.4438539094973724, 1.5718043608392394, -0.7335294160030932, -1.197965786647293, 1.0722513065522665, -0.7826362934224473, -0.49820503134543775, 1.5716627803037155, -0.005317290143883737, -0.3593653166820716, 1.5597095911561978, 1.0503815987596175, 0.3441039774821109, -0.04974121712467084, 0.008170229384752613, -0.9709058136802701, 2.417034408248457, -1.2124867561742774, 0.6046417869674267, -0.3585076795507522, 0.06705171160120478, 1.4546189083140886, -0.42913586866418607, -0.707992549805246, -2.096983049597022, 0.038373856459275275, 0.6579882416462015, 2.2386147056613295, -0.6608003396245523, -0.9953483586408077, 0.43580220111517376, -0.5404418613480602, 3.3467118532442397, 0.34927520878526047], \"yaxis\": \"y8\"}, {\"line\": {\"color\": \"rgba(128, 128, 128, 1.0)\", \"dash\": \"solid\", \"shape\": \"linear\", \"width\": 1.3}, \"marker\": {\"size\": 2, \"symbol\": \"circle\"}, \"mode\": \"markers\", \"name\": \"C\", \"text\": \"\", \"type\": \"scatter\", \"x\": [-0.9792515936598923, 0.9598050055042266, 1.2879497854926978, -0.7580525281398575, 0.7395394550550108, 0.17019107169090317, -0.1293765011854134, 0.4456954392361662, 0.13772919772007583, -1.1475557380589023, 0.7148856836266592, 1.4579626985599747, 0.8874119734406709, 0.3072755156395645, 2.0957456279779065, 0.5899177376437668, 1.0364047408183756, 0.7388472871926347, 0.17950427668644467, 0.3680753376522049, 0.1368695577373032, 0.8159967349839087, -0.14844827589627468, 0.9610220648185201, 0.8403045958850671, 0.1539828413327248, -0.22403721645926258, -0.9886846475465637, -0.041097672863380195, -0.20336539740261284, -0.8272592313380914, -0.7377644328272414, 0.6228589278084802, 1.0167861280965602, -2.2412581790082666, -0.18088089665349677, 0.38747162796369533, -0.022976036922044408, -0.376997829574464, 0.12116576151183464, 0.004016022807814205, -1.8023654641354336, -0.8309213004133602, -0.37467942398393506, 0.16749391300381028, 2.157106901960888, 0.26801897806054975, -0.12917654316980617, -1.1921864240944327, 1.6144706272625435, 0.44154651927524047, -1.5248455068331284, -1.379729809199886, -0.3071048272960799, 0.11873027241721576, -0.18440988283347878, -1.5364079402765836, -1.7659951853905054, -1.1925247660678762, -0.3719050473318741, 0.9116004418673352, -1.2893901771054779, 0.3494224192856916, 0.12384105919512163, -0.2853887638156255, -0.05477890823051662, -0.13339681427823635, 0.002483580579456353, 0.6483924643575026, -1.7744604454121766, 0.051018691708484755, -0.20831087775659465, 1.2036245135778298, 0.37460006318208516, -0.007357554347866323, 0.5125991262014535, 0.0024173923945399363, -0.8563025126597791, -0.7617603492153533, -1.792629772347877, 0.360765760598241, -0.7718682940507207, 1.6886536550319722, 1.194024448998109, -0.417875534770027, 2.122611684514379, -0.20455142051435, -1.3193963771012482, -1.7879804873841585, 0.4066145570917323, 1.434386069614315, -0.5881888567526482, -1.2337031790890676, -0.7429661704558083, 0.0566414277132115, -1.2378557179328697, -0.43038873430261276, -2.5320354376990766, 0.7598237879841848, 0.48412359488350337], \"xaxis\": \"x9\", \"y\": [-1.029169055522879, -0.6255978007913707, 1.0417982196879223, 2.2449486385713384, -0.6795945775053402, 0.14631255858470052, 0.3731668746960911, 0.4124420330489584, 1.5113484075983132, 0.5920468325658576, 0.2793855445424416, -0.29619014153343065, 2.3727187380412276, -0.6841365657268245, 0.49440394600584864, 0.6388836557479353, 0.21519353566892171, 0.08067736888339132, 1.355625354020415, -0.348654489687168, -0.4947196965310076, -0.3582819911117431, 0.8482378687717445, -0.7550696581956536, 0.09628928497248218, 0.3694001280085396, 1.7522158422386362, 0.24728003851561672, 1.4320945076126141, 0.38078115390777206, 0.49485054834994746, 0.10834747534480808, 0.40440051019822765, 0.46318804403090136, 0.8498937327069608, 0.30823700591443287, -0.16957495168143608, 1.4656183402677774, -0.2756627766669359, -1.558366156240104, -1.44390954708868, -0.5051680953931286, 0.27620048996716984, -1.8343779836571938, -0.32566386109769674, -0.5377091427902171, -0.8793316602002474, -0.13730101188128274, 0.4739117707913685, 1.9456675653065694, -0.34549575735322996, 0.9720333799605246, -0.26228104507380334, -0.5714395653881361, 0.14502575276461074, -1.8641784872791407, 0.8869491501534156, 1.5217251811022767, 1.3921339746257404, 1.1907950182465863, -1.3679269183388134, -0.42830897316735944, 0.16752652136906077, -0.822993733943916, 0.032639710581331624, -1.7353173585494512, 1.3006424924535107, -2.658447080801197, -0.7260667522978758, -1.346559369571314, 1.2100767873230984, 0.14199042718703583, 1.3810124437891032, 0.17475647805393424, -0.7973890264270153, 0.5809185216045772, -0.3885903405071358, 0.10406688806814304, 1.370396070389675, -0.23398496826648119, -0.29001376284099223, -0.28707110106581923, 0.25979132952928025, -0.1617035485251935, -0.6720898907014572, 0.7962255499025633, -0.6948156806562187, 0.9390569733955219, 1.8104513153386503, 0.5111732025237625, -0.7447934329773587, -0.36545521090245675, 0.12658057977115625, -1.1224377540795116, 0.23315136938347406, -0.3592208292662069, -0.3149408561046429, 0.7604586976536822, 0.8599817036861749, -2.121030951423784], \"yaxis\": \"y9\"}, {\"line\": {\"color\": \"rgba(128, 128, 128, 1.0)\", \"dash\": \"solid\", \"shape\": \"linear\", \"width\": 1.3}, \"marker\": {\"size\": 2, \"symbol\": \"circle\"}, \"mode\": \"markers\", \"name\": \"C\", \"text\": \"\", \"type\": \"scatter\", \"x\": [-0.0033035822899469052, 0.3142449677503647, -1.504523021926638, 1.0044432988561958, -0.3786281864931309, 1.6221183698918318, -0.6833666110514979, -0.09085898589503208, 0.4183024142850112, 0.1599510285795126, 0.4983380417069129, -2.38735035273387, -0.17484722770594668, -0.7024036572296523, -0.2377817653329279, 1.0463693206953972, -1.206970761077781, -0.27926473845743927, 0.024497475622231084, 0.07215395894711478, 0.8060503759899023, -0.10523700135619246, 0.4892495322097234, -1.6211612465614205, -0.9413730510682876, 0.5618878755989775, 1.148898697209982, -0.8603059741609684, -0.2545352736983566, 0.3221749143716371, 0.8184090970176358, 0.603400860775381, 0.29148084806096053, 1.2197382793191827, -0.11597682125807925, -0.993512699913698, 0.6287345083305073, -0.23713521257102554, -0.3097494760631051, -0.5890817405505082, -1.1603607004584577, 0.9875973705562235, -0.063031992142952, 0.5528356056102148, 0.9943802775983782, 1.5885704578261726, -0.9751179842350768, 0.6218820952952601, -2.0323297593875838, -0.5484199829062123, -0.12137817399783384, -1.2309977016776752, -0.9313693797491154, 0.2663840238711808, -1.6717292793656437, -0.4542443768926661, -0.2721841210031825, -2.536542463070985, 0.4847118496688762, -2.1214691330865127, -1.1620826355082072, -0.048986563425723995, -1.2645433415566478, 1.9997478527752839, 1.166476246332891, -3.103425838335752, -1.4438539094973724, 1.5718043608392394, -0.7335294160030932, -1.197965786647293, 1.0722513065522665, -0.7826362934224473, -0.49820503134543775, 1.5716627803037155, -0.005317290143883737, -0.3593653166820716, 1.5597095911561978, 1.0503815987596175, 0.3441039774821109, -0.04974121712467084, 0.008170229384752613, -0.9709058136802701, 2.417034408248457, -1.2124867561742774, 0.6046417869674267, -0.3585076795507522, 0.06705171160120478, 1.4546189083140886, -0.42913586866418607, -0.707992549805246, -2.096983049597022, 0.038373856459275275, 0.6579882416462015, 2.2386147056613295, -0.6608003396245523, -0.9953483586408077, 0.43580220111517376, -0.5404418613480602, 3.3467118532442397, 0.34927520878526047], \"xaxis\": \"x10\", \"y\": [-1.029169055522879, -0.6255978007913707, 1.0417982196879223, 2.2449486385713384, -0.6795945775053402, 0.14631255858470052, 0.3731668746960911, 0.4124420330489584, 1.5113484075983132, 0.5920468325658576, 0.2793855445424416, -0.29619014153343065, 2.3727187380412276, -0.6841365657268245, 0.49440394600584864, 0.6388836557479353, 0.21519353566892171, 0.08067736888339132, 1.355625354020415, -0.348654489687168, -0.4947196965310076, -0.3582819911117431, 0.8482378687717445, -0.7550696581956536, 0.09628928497248218, 0.3694001280085396, 1.7522158422386362, 0.24728003851561672, 1.4320945076126141, 0.38078115390777206, 0.49485054834994746, 0.10834747534480808, 0.40440051019822765, 0.46318804403090136, 0.8498937327069608, 0.30823700591443287, -0.16957495168143608, 1.4656183402677774, -0.2756627766669359, -1.558366156240104, -1.44390954708868, -0.5051680953931286, 0.27620048996716984, -1.8343779836571938, -0.32566386109769674, -0.5377091427902171, -0.8793316602002474, -0.13730101188128274, 0.4739117707913685, 1.9456675653065694, -0.34549575735322996, 0.9720333799605246, -0.26228104507380334, -0.5714395653881361, 0.14502575276461074, -1.8641784872791407, 0.8869491501534156, 1.5217251811022767, 1.3921339746257404, 1.1907950182465863, -1.3679269183388134, -0.42830897316735944, 0.16752652136906077, -0.822993733943916, 0.032639710581331624, -1.7353173585494512, 1.3006424924535107, -2.658447080801197, -0.7260667522978758, -1.346559369571314, 1.2100767873230984, 0.14199042718703583, 1.3810124437891032, 0.17475647805393424, -0.7973890264270153, 0.5809185216045772, -0.3885903405071358, 0.10406688806814304, 1.370396070389675, -0.23398496826648119, -0.29001376284099223, -0.28707110106581923, 0.25979132952928025, -0.1617035485251935, -0.6720898907014572, 0.7962255499025633, -0.6948156806562187, 0.9390569733955219, 1.8104513153386503, 0.5111732025237625, -0.7447934329773587, -0.36545521090245675, 0.12658057977115625, -1.1224377540795116, 0.23315136938347406, -0.3592208292662069, -0.3149408561046429, 0.7604586976536822, 0.8599817036861749, -2.121030951423784], \"yaxis\": \"y10\"}, {\"histfunc\": \"count\", \"histnorm\": \"\", \"marker\": {\"color\": \"rgba(50, 171, 96, 1.0)\", \"line\": {\"color\": \"#4D5663\", \"width\": 1.3}}, \"name\": \"C\", \"nbinsx\": 10, \"opacity\": 0.8, \"orientation\": \"v\", \"type\": \"histogram\", \"x\": [-1.029169055522879, -0.6255978007913707, 1.0417982196879223, 2.2449486385713384, -0.6795945775053402, 0.14631255858470052, 0.3731668746960911, 0.4124420330489584, 1.5113484075983132, 0.5920468325658576, 0.2793855445424416, -0.29619014153343065, 2.3727187380412276, -0.6841365657268245, 0.49440394600584864, 0.6388836557479353, 0.21519353566892171, 0.08067736888339132, 1.355625354020415, -0.348654489687168, -0.4947196965310076, -0.3582819911117431, 0.8482378687717445, -0.7550696581956536, 0.09628928497248218, 0.3694001280085396, 1.7522158422386362, 0.24728003851561672, 1.4320945076126141, 0.38078115390777206, 0.49485054834994746, 0.10834747534480808, 0.40440051019822765, 0.46318804403090136, 0.8498937327069608, 0.30823700591443287, -0.16957495168143608, 1.4656183402677774, -0.2756627766669359, -1.558366156240104, -1.44390954708868, -0.5051680953931286, 0.27620048996716984, -1.8343779836571938, -0.32566386109769674, -0.5377091427902171, -0.8793316602002474, -0.13730101188128274, 0.4739117707913685, 1.9456675653065694, -0.34549575735322996, 0.9720333799605246, -0.26228104507380334, -0.5714395653881361, 0.14502575276461074, -1.8641784872791407, 0.8869491501534156, 1.5217251811022767, 1.3921339746257404, 1.1907950182465863, -1.3679269183388134, -0.42830897316735944, 0.16752652136906077, -0.822993733943916, 0.032639710581331624, -1.7353173585494512, 1.3006424924535107, -2.658447080801197, -0.7260667522978758, -1.346559369571314, 1.2100767873230984, 0.14199042718703583, 1.3810124437891032, 0.17475647805393424, -0.7973890264270153, 0.5809185216045772, -0.3885903405071358, 0.10406688806814304, 1.370396070389675, -0.23398496826648119, -0.29001376284099223, -0.28707110106581923, 0.25979132952928025, -0.1617035485251935, -0.6720898907014572, 0.7962255499025633, -0.6948156806562187, 0.9390569733955219, 1.8104513153386503, 0.5111732025237625, -0.7447934329773587, -0.36545521090245675, 0.12658057977115625, -1.1224377540795116, 0.23315136938347406, -0.3592208292662069, -0.3149408561046429, 0.7604586976536822, 0.8599817036861749, -2.121030951423784], \"xaxis\": \"x11\", \"yaxis\": \"y11\"}, {\"line\": {\"color\": \"rgba(128, 128, 128, 1.0)\", \"dash\": \"solid\", \"shape\": \"linear\", \"width\": 1.3}, \"marker\": {\"size\": 2, \"symbol\": \"circle\"}, \"mode\": \"markers\", \"name\": \"C\", \"text\": \"\", \"type\": \"scatter\", \"x\": [-0.46308053517921177, -0.22893297382440694, 0.28152771977670005, 0.841148244630791, 0.09335388118504882, 0.09404129945671476, -0.27604509647678394, -1.4149534857065915, 0.6303783847458049, 1.0140454768881473, 0.6247341776241347, 0.3462567203067475, 0.06618476657523857, 0.22304990357635202, -0.7104729965870029, -0.36754819414362006, 0.7527370093648587, 0.4243521358588527, -0.313879559965402, 0.44453194663906453, -1.2215088401885823, 0.5313535901603273, -1.136436468522623, -0.33583843750714953, 0.695915250472006, -2.035088399463051, 2.007662253559875, 0.3019128256963567, -0.18113684687278164, 1.8911687280243084, 0.7572630803852446, -0.43219425771863185, 0.2682190866781442, 0.9638038961270988, 0.38196860184494996, -0.904240690441337, 0.9257726882611239, -3.089622695862602, 0.022160723350371093, 0.15890271523422386, 1.2072376116298225, 0.036906673259497653, 1.9325182083788126, -2.65838624213967, 1.33374362812293, -0.3002915926433879, -2.3339029672320337, 0.4283179292567376, 0.3920197131247837, 1.0578439219875122, -1.2286183490049214, -0.42118880033063083, 0.18221735978592854, 0.7783483420916925, -1.1631454183180807, 0.3409532835134661, -0.175860025671226, 2.600067786231678, 0.1424405264085281, 0.6378341507289481, -0.7911396934565847, 0.2970410528515773, -0.36757856712825604, 0.001891577602284555, -0.9533757506556024, -1.5265124105099575, 0.14141110796393855, 3.6126504926656198, -0.4083508444949703, -1.3866183439117674, 0.6146431833929709, -1.1797204483467447, -0.17626909828622517, -0.8315102988033132, -1.0629729405783421, 0.6165434831247598, 2.4710912898514956, -0.5136104215624592, -1.2833494881724943, -0.19740622984239123, -0.28292641821742964, -0.17332004636855022, -0.8472778358004164, -1.5638430808706032, -0.12651593497479413, 0.5196255513517741, 1.6550631354033751, -0.4268727901892978, 1.0780805010140389, 1.394028416980079, -0.27892950008419176, -0.42372865324865777, -0.0035800875407494483, -0.3109767884032559, -0.6928666677078057, -0.96026887219562, -0.17067052996934515, -0.8291957027802563, -1.872451022659089, 0.4529640052721673], \"xaxis\": \"x12\", \"y\": [-1.029169055522879, -0.6255978007913707, 1.0417982196879223, 2.2449486385713384, -0.6795945775053402, 0.14631255858470052, 0.3731668746960911, 0.4124420330489584, 1.5113484075983132, 0.5920468325658576, 0.2793855445424416, -0.29619014153343065, 2.3727187380412276, -0.6841365657268245, 0.49440394600584864, 0.6388836557479353, 0.21519353566892171, 0.08067736888339132, 1.355625354020415, -0.348654489687168, -0.4947196965310076, -0.3582819911117431, 0.8482378687717445, -0.7550696581956536, 0.09628928497248218, 0.3694001280085396, 1.7522158422386362, 0.24728003851561672, 1.4320945076126141, 0.38078115390777206, 0.49485054834994746, 0.10834747534480808, 0.40440051019822765, 0.46318804403090136, 0.8498937327069608, 0.30823700591443287, -0.16957495168143608, 1.4656183402677774, -0.2756627766669359, -1.558366156240104, -1.44390954708868, -0.5051680953931286, 0.27620048996716984, -1.8343779836571938, -0.32566386109769674, -0.5377091427902171, -0.8793316602002474, -0.13730101188128274, 0.4739117707913685, 1.9456675653065694, -0.34549575735322996, 0.9720333799605246, -0.26228104507380334, -0.5714395653881361, 0.14502575276461074, -1.8641784872791407, 0.8869491501534156, 1.5217251811022767, 1.3921339746257404, 1.1907950182465863, -1.3679269183388134, -0.42830897316735944, 0.16752652136906077, -0.822993733943916, 0.032639710581331624, -1.7353173585494512, 1.3006424924535107, -2.658447080801197, -0.7260667522978758, -1.346559369571314, 1.2100767873230984, 0.14199042718703583, 1.3810124437891032, 0.17475647805393424, -0.7973890264270153, 0.5809185216045772, -0.3885903405071358, 0.10406688806814304, 1.370396070389675, -0.23398496826648119, -0.29001376284099223, -0.28707110106581923, 0.25979132952928025, -0.1617035485251935, -0.6720898907014572, 0.7962255499025633, -0.6948156806562187, 0.9390569733955219, 1.8104513153386503, 0.5111732025237625, -0.7447934329773587, -0.36545521090245675, 0.12658057977115625, -1.1224377540795116, 0.23315136938347406, -0.3592208292662069, -0.3149408561046429, 0.7604586976536822, 0.8599817036861749, -2.121030951423784], \"yaxis\": \"y12\"}, {\"line\": {\"color\": \"rgba(128, 128, 128, 1.0)\", \"dash\": \"solid\", \"shape\": \"linear\", \"width\": 1.3}, \"marker\": {\"size\": 2, \"symbol\": \"circle\"}, \"mode\": \"markers\", \"name\": \"D\", \"text\": \"\", \"type\": \"scatter\", \"x\": [-0.9792515936598923, 0.9598050055042266, 1.2879497854926978, -0.7580525281398575, 0.7395394550550108, 0.17019107169090317, -0.1293765011854134, 0.4456954392361662, 0.13772919772007583, -1.1475557380589023, 0.7148856836266592, 1.4579626985599747, 0.8874119734406709, 0.3072755156395645, 2.0957456279779065, 0.5899177376437668, 1.0364047408183756, 0.7388472871926347, 0.17950427668644467, 0.3680753376522049, 0.1368695577373032, 0.8159967349839087, -0.14844827589627468, 0.9610220648185201, 0.8403045958850671, 0.1539828413327248, -0.22403721645926258, -0.9886846475465637, -0.041097672863380195, -0.20336539740261284, -0.8272592313380914, -0.7377644328272414, 0.6228589278084802, 1.0167861280965602, -2.2412581790082666, -0.18088089665349677, 0.38747162796369533, -0.022976036922044408, -0.376997829574464, 0.12116576151183464, 0.004016022807814205, -1.8023654641354336, -0.8309213004133602, -0.37467942398393506, 0.16749391300381028, 2.157106901960888, 0.26801897806054975, -0.12917654316980617, -1.1921864240944327, 1.6144706272625435, 0.44154651927524047, -1.5248455068331284, -1.379729809199886, -0.3071048272960799, 0.11873027241721576, -0.18440988283347878, -1.5364079402765836, -1.7659951853905054, -1.1925247660678762, -0.3719050473318741, 0.9116004418673352, -1.2893901771054779, 0.3494224192856916, 0.12384105919512163, -0.2853887638156255, -0.05477890823051662, -0.13339681427823635, 0.002483580579456353, 0.6483924643575026, -1.7744604454121766, 0.051018691708484755, -0.20831087775659465, 1.2036245135778298, 0.37460006318208516, -0.007357554347866323, 0.5125991262014535, 0.0024173923945399363, -0.8563025126597791, -0.7617603492153533, -1.792629772347877, 0.360765760598241, -0.7718682940507207, 1.6886536550319722, 1.194024448998109, -0.417875534770027, 2.122611684514379, -0.20455142051435, -1.3193963771012482, -1.7879804873841585, 0.4066145570917323, 1.434386069614315, -0.5881888567526482, -1.2337031790890676, -0.7429661704558083, 0.0566414277132115, -1.2378557179328697, -0.43038873430261276, -2.5320354376990766, 0.7598237879841848, 0.48412359488350337], \"xaxis\": \"x13\", \"y\": [-0.46308053517921177, -0.22893297382440694, 0.28152771977670005, 0.841148244630791, 0.09335388118504882, 0.09404129945671476, -0.27604509647678394, -1.4149534857065915, 0.6303783847458049, 1.0140454768881473, 0.6247341776241347, 0.3462567203067475, 0.06618476657523857, 0.22304990357635202, -0.7104729965870029, -0.36754819414362006, 0.7527370093648587, 0.4243521358588527, -0.313879559965402, 0.44453194663906453, -1.2215088401885823, 0.5313535901603273, -1.136436468522623, -0.33583843750714953, 0.695915250472006, -2.035088399463051, 2.007662253559875, 0.3019128256963567, -0.18113684687278164, 1.8911687280243084, 0.7572630803852446, -0.43219425771863185, 0.2682190866781442, 0.9638038961270988, 0.38196860184494996, -0.904240690441337, 0.9257726882611239, -3.089622695862602, 0.022160723350371093, 0.15890271523422386, 1.2072376116298225, 0.036906673259497653, 1.9325182083788126, -2.65838624213967, 1.33374362812293, -0.3002915926433879, -2.3339029672320337, 0.4283179292567376, 0.3920197131247837, 1.0578439219875122, -1.2286183490049214, -0.42118880033063083, 0.18221735978592854, 0.7783483420916925, -1.1631454183180807, 0.3409532835134661, -0.175860025671226, 2.600067786231678, 0.1424405264085281, 0.6378341507289481, -0.7911396934565847, 0.2970410528515773, -0.36757856712825604, 0.001891577602284555, -0.9533757506556024, -1.5265124105099575, 0.14141110796393855, 3.6126504926656198, -0.4083508444949703, -1.3866183439117674, 0.6146431833929709, -1.1797204483467447, -0.17626909828622517, -0.8315102988033132, -1.0629729405783421, 0.6165434831247598, 2.4710912898514956, -0.5136104215624592, -1.2833494881724943, -0.19740622984239123, -0.28292641821742964, -0.17332004636855022, -0.8472778358004164, -1.5638430808706032, -0.12651593497479413, 0.5196255513517741, 1.6550631354033751, -0.4268727901892978, 1.0780805010140389, 1.394028416980079, -0.27892950008419176, -0.42372865324865777, -0.0035800875407494483, -0.3109767884032559, -0.6928666677078057, -0.96026887219562, -0.17067052996934515, -0.8291957027802563, -1.872451022659089, 0.4529640052721673], \"yaxis\": \"y13\"}, {\"line\": {\"color\": \"rgba(128, 128, 128, 1.0)\", \"dash\": \"solid\", \"shape\": \"linear\", \"width\": 1.3}, \"marker\": {\"size\": 2, \"symbol\": \"circle\"}, \"mode\": \"markers\", \"name\": \"D\", \"text\": \"\", \"type\": \"scatter\", \"x\": [-0.0033035822899469052, 0.3142449677503647, -1.504523021926638, 1.0044432988561958, -0.3786281864931309, 1.6221183698918318, -0.6833666110514979, -0.09085898589503208, 0.4183024142850112, 0.1599510285795126, 0.4983380417069129, -2.38735035273387, -0.17484722770594668, -0.7024036572296523, -0.2377817653329279, 1.0463693206953972, -1.206970761077781, -0.27926473845743927, 0.024497475622231084, 0.07215395894711478, 0.8060503759899023, -0.10523700135619246, 0.4892495322097234, -1.6211612465614205, -0.9413730510682876, 0.5618878755989775, 1.148898697209982, -0.8603059741609684, -0.2545352736983566, 0.3221749143716371, 0.8184090970176358, 0.603400860775381, 0.29148084806096053, 1.2197382793191827, -0.11597682125807925, -0.993512699913698, 0.6287345083305073, -0.23713521257102554, -0.3097494760631051, -0.5890817405505082, -1.1603607004584577, 0.9875973705562235, -0.063031992142952, 0.5528356056102148, 0.9943802775983782, 1.5885704578261726, -0.9751179842350768, 0.6218820952952601, -2.0323297593875838, -0.5484199829062123, -0.12137817399783384, -1.2309977016776752, -0.9313693797491154, 0.2663840238711808, -1.6717292793656437, -0.4542443768926661, -0.2721841210031825, -2.536542463070985, 0.4847118496688762, -2.1214691330865127, -1.1620826355082072, -0.048986563425723995, -1.2645433415566478, 1.9997478527752839, 1.166476246332891, -3.103425838335752, -1.4438539094973724, 1.5718043608392394, -0.7335294160030932, -1.197965786647293, 1.0722513065522665, -0.7826362934224473, -0.49820503134543775, 1.5716627803037155, -0.005317290143883737, -0.3593653166820716, 1.5597095911561978, 1.0503815987596175, 0.3441039774821109, -0.04974121712467084, 0.008170229384752613, -0.9709058136802701, 2.417034408248457, -1.2124867561742774, 0.6046417869674267, -0.3585076795507522, 0.06705171160120478, 1.4546189083140886, -0.42913586866418607, -0.707992549805246, -2.096983049597022, 0.038373856459275275, 0.6579882416462015, 2.2386147056613295, -0.6608003396245523, -0.9953483586408077, 0.43580220111517376, -0.5404418613480602, 3.3467118532442397, 0.34927520878526047], \"xaxis\": \"x14\", \"y\": [-0.46308053517921177, -0.22893297382440694, 0.28152771977670005, 0.841148244630791, 0.09335388118504882, 0.09404129945671476, -0.27604509647678394, -1.4149534857065915, 0.6303783847458049, 1.0140454768881473, 0.6247341776241347, 0.3462567203067475, 0.06618476657523857, 0.22304990357635202, -0.7104729965870029, -0.36754819414362006, 0.7527370093648587, 0.4243521358588527, -0.313879559965402, 0.44453194663906453, -1.2215088401885823, 0.5313535901603273, -1.136436468522623, -0.33583843750714953, 0.695915250472006, -2.035088399463051, 2.007662253559875, 0.3019128256963567, -0.18113684687278164, 1.8911687280243084, 0.7572630803852446, -0.43219425771863185, 0.2682190866781442, 0.9638038961270988, 0.38196860184494996, -0.904240690441337, 0.9257726882611239, -3.089622695862602, 0.022160723350371093, 0.15890271523422386, 1.2072376116298225, 0.036906673259497653, 1.9325182083788126, -2.65838624213967, 1.33374362812293, -0.3002915926433879, -2.3339029672320337, 0.4283179292567376, 0.3920197131247837, 1.0578439219875122, -1.2286183490049214, -0.42118880033063083, 0.18221735978592854, 0.7783483420916925, -1.1631454183180807, 0.3409532835134661, -0.175860025671226, 2.600067786231678, 0.1424405264085281, 0.6378341507289481, -0.7911396934565847, 0.2970410528515773, -0.36757856712825604, 0.001891577602284555, -0.9533757506556024, -1.5265124105099575, 0.14141110796393855, 3.6126504926656198, -0.4083508444949703, -1.3866183439117674, 0.6146431833929709, -1.1797204483467447, -0.17626909828622517, -0.8315102988033132, -1.0629729405783421, 0.6165434831247598, 2.4710912898514956, -0.5136104215624592, -1.2833494881724943, -0.19740622984239123, -0.28292641821742964, -0.17332004636855022, -0.8472778358004164, -1.5638430808706032, -0.12651593497479413, 0.5196255513517741, 1.6550631354033751, -0.4268727901892978, 1.0780805010140389, 1.394028416980079, -0.27892950008419176, -0.42372865324865777, -0.0035800875407494483, -0.3109767884032559, -0.6928666677078057, -0.96026887219562, -0.17067052996934515, -0.8291957027802563, -1.872451022659089, 0.4529640052721673], \"yaxis\": \"y14\"}, {\"line\": {\"color\": \"rgba(128, 128, 128, 1.0)\", \"dash\": \"solid\", \"shape\": \"linear\", \"width\": 1.3}, \"marker\": {\"size\": 2, \"symbol\": \"circle\"}, \"mode\": \"markers\", \"name\": \"D\", \"text\": \"\", \"type\": \"scatter\", \"x\": [-1.029169055522879, -0.6255978007913707, 1.0417982196879223, 2.2449486385713384, -0.6795945775053402, 0.14631255858470052, 0.3731668746960911, 0.4124420330489584, 1.5113484075983132, 0.5920468325658576, 0.2793855445424416, -0.29619014153343065, 2.3727187380412276, -0.6841365657268245, 0.49440394600584864, 0.6388836557479353, 0.21519353566892171, 0.08067736888339132, 1.355625354020415, -0.348654489687168, -0.4947196965310076, -0.3582819911117431, 0.8482378687717445, -0.7550696581956536, 0.09628928497248218, 0.3694001280085396, 1.7522158422386362, 0.24728003851561672, 1.4320945076126141, 0.38078115390777206, 0.49485054834994746, 0.10834747534480808, 0.40440051019822765, 0.46318804403090136, 0.8498937327069608, 0.30823700591443287, -0.16957495168143608, 1.4656183402677774, -0.2756627766669359, -1.558366156240104, -1.44390954708868, -0.5051680953931286, 0.27620048996716984, -1.8343779836571938, -0.32566386109769674, -0.5377091427902171, -0.8793316602002474, -0.13730101188128274, 0.4739117707913685, 1.9456675653065694, -0.34549575735322996, 0.9720333799605246, -0.26228104507380334, -0.5714395653881361, 0.14502575276461074, -1.8641784872791407, 0.8869491501534156, 1.5217251811022767, 1.3921339746257404, 1.1907950182465863, -1.3679269183388134, -0.42830897316735944, 0.16752652136906077, -0.822993733943916, 0.032639710581331624, -1.7353173585494512, 1.3006424924535107, -2.658447080801197, -0.7260667522978758, -1.346559369571314, 1.2100767873230984, 0.14199042718703583, 1.3810124437891032, 0.17475647805393424, -0.7973890264270153, 0.5809185216045772, -0.3885903405071358, 0.10406688806814304, 1.370396070389675, -0.23398496826648119, -0.29001376284099223, -0.28707110106581923, 0.25979132952928025, -0.1617035485251935, -0.6720898907014572, 0.7962255499025633, -0.6948156806562187, 0.9390569733955219, 1.8104513153386503, 0.5111732025237625, -0.7447934329773587, -0.36545521090245675, 0.12658057977115625, -1.1224377540795116, 0.23315136938347406, -0.3592208292662069, -0.3149408561046429, 0.7604586976536822, 0.8599817036861749, -2.121030951423784], \"xaxis\": \"x15\", \"y\": [-0.46308053517921177, -0.22893297382440694, 0.28152771977670005, 0.841148244630791, 0.09335388118504882, 0.09404129945671476, -0.27604509647678394, -1.4149534857065915, 0.6303783847458049, 1.0140454768881473, 0.6247341776241347, 0.3462567203067475, 0.06618476657523857, 0.22304990357635202, -0.7104729965870029, -0.36754819414362006, 0.7527370093648587, 0.4243521358588527, -0.313879559965402, 0.44453194663906453, -1.2215088401885823, 0.5313535901603273, -1.136436468522623, -0.33583843750714953, 0.695915250472006, -2.035088399463051, 2.007662253559875, 0.3019128256963567, -0.18113684687278164, 1.8911687280243084, 0.7572630803852446, -0.43219425771863185, 0.2682190866781442, 0.9638038961270988, 0.38196860184494996, -0.904240690441337, 0.9257726882611239, -3.089622695862602, 0.022160723350371093, 0.15890271523422386, 1.2072376116298225, 0.036906673259497653, 1.9325182083788126, -2.65838624213967, 1.33374362812293, -0.3002915926433879, -2.3339029672320337, 0.4283179292567376, 0.3920197131247837, 1.0578439219875122, -1.2286183490049214, -0.42118880033063083, 0.18221735978592854, 0.7783483420916925, -1.1631454183180807, 0.3409532835134661, -0.175860025671226, 2.600067786231678, 0.1424405264085281, 0.6378341507289481, -0.7911396934565847, 0.2970410528515773, -0.36757856712825604, 0.001891577602284555, -0.9533757506556024, -1.5265124105099575, 0.14141110796393855, 3.6126504926656198, -0.4083508444949703, -1.3866183439117674, 0.6146431833929709, -1.1797204483467447, -0.17626909828622517, -0.8315102988033132, -1.0629729405783421, 0.6165434831247598, 2.4710912898514956, -0.5136104215624592, -1.2833494881724943, -0.19740622984239123, -0.28292641821742964, -0.17332004636855022, -0.8472778358004164, -1.5638430808706032, -0.12651593497479413, 0.5196255513517741, 1.6550631354033751, -0.4268727901892978, 1.0780805010140389, 1.394028416980079, -0.27892950008419176, -0.42372865324865777, -0.0035800875407494483, -0.3109767884032559, -0.6928666677078057, -0.96026887219562, -0.17067052996934515, -0.8291957027802563, -1.872451022659089, 0.4529640052721673], \"yaxis\": \"y15\"}, {\"histfunc\": \"count\", \"histnorm\": \"\", \"marker\": {\"color\": \"rgba(128, 0, 128, 1.0)\", \"line\": {\"color\": \"#4D5663\", \"width\": 1.3}}, \"name\": \"D\", \"nbinsx\": 10, \"opacity\": 0.8, \"orientation\": \"v\", \"type\": \"histogram\", \"x\": [-0.46308053517921177, -0.22893297382440694, 0.28152771977670005, 0.841148244630791, 0.09335388118504882, 0.09404129945671476, -0.27604509647678394, -1.4149534857065915, 0.6303783847458049, 1.0140454768881473, 0.6247341776241347, 0.3462567203067475, 0.06618476657523857, 0.22304990357635202, -0.7104729965870029, -0.36754819414362006, 0.7527370093648587, 0.4243521358588527, -0.313879559965402, 0.44453194663906453, -1.2215088401885823, 0.5313535901603273, -1.136436468522623, -0.33583843750714953, 0.695915250472006, -2.035088399463051, 2.007662253559875, 0.3019128256963567, -0.18113684687278164, 1.8911687280243084, 0.7572630803852446, -0.43219425771863185, 0.2682190866781442, 0.9638038961270988, 0.38196860184494996, -0.904240690441337, 0.9257726882611239, -3.089622695862602, 0.022160723350371093, 0.15890271523422386, 1.2072376116298225, 0.036906673259497653, 1.9325182083788126, -2.65838624213967, 1.33374362812293, -0.3002915926433879, -2.3339029672320337, 0.4283179292567376, 0.3920197131247837, 1.0578439219875122, -1.2286183490049214, -0.42118880033063083, 0.18221735978592854, 0.7783483420916925, -1.1631454183180807, 0.3409532835134661, -0.175860025671226, 2.600067786231678, 0.1424405264085281, 0.6378341507289481, -0.7911396934565847, 0.2970410528515773, -0.36757856712825604, 0.001891577602284555, -0.9533757506556024, -1.5265124105099575, 0.14141110796393855, 3.6126504926656198, -0.4083508444949703, -1.3866183439117674, 0.6146431833929709, -1.1797204483467447, -0.17626909828622517, -0.8315102988033132, -1.0629729405783421, 0.6165434831247598, 2.4710912898514956, -0.5136104215624592, -1.2833494881724943, -0.19740622984239123, -0.28292641821742964, -0.17332004636855022, -0.8472778358004164, -1.5638430808706032, -0.12651593497479413, 0.5196255513517741, 1.6550631354033751, -0.4268727901892978, 1.0780805010140389, 1.394028416980079, -0.27892950008419176, -0.42372865324865777, -0.0035800875407494483, -0.3109767884032559, -0.6928666677078057, -0.96026887219562, -0.17067052996934515, -0.8291957027802563, -1.872451022659089, 0.4529640052721673], \"xaxis\": \"x16\", \"yaxis\": \"y16\"}],                        {\"bargap\": 0.02, \"legend\": {\"bgcolor\": \"#F5F6F9\", \"font\": {\"color\": \"#4D5663\"}}, \"paper_bgcolor\": \"#F5F6F9\", \"plot_bgcolor\": \"#F5F6F9\", \"showlegend\": false, \"template\": {\"data\": {\"bar\": [{\"error_x\": {\"color\": \"#2a3f5f\"}, \"error_y\": {\"color\": \"#2a3f5f\"}, \"marker\": {\"line\": {\"color\": \"#E5ECF6\", \"width\": 0.5}}, \"type\": \"bar\"}], \"barpolar\": [{\"marker\": {\"line\": {\"color\": \"#E5ECF6\", \"width\": 0.5}}, \"type\": \"barpolar\"}], \"carpet\": [{\"aaxis\": {\"endlinecolor\": \"#2a3f5f\", \"gridcolor\": \"white\", \"linecolor\": \"white\", \"minorgridcolor\": \"white\", \"startlinecolor\": \"#2a3f5f\"}, \"baxis\": {\"endlinecolor\": \"#2a3f5f\", \"gridcolor\": \"white\", \"linecolor\": \"white\", \"minorgridcolor\": \"white\", \"startlinecolor\": \"#2a3f5f\"}, \"type\": \"carpet\"}], \"choropleth\": [{\"colorbar\": {\"outlinewidth\": 0, \"ticks\": \"\"}, \"type\": \"choropleth\"}], \"contour\": [{\"colorbar\": {\"outlinewidth\": 0, \"ticks\": \"\"}, \"colorscale\": [[0.0, \"#0d0887\"], [0.1111111111111111, \"#46039f\"], [0.2222222222222222, \"#7201a8\"], [0.3333333333333333, \"#9c179e\"], [0.4444444444444444, \"#bd3786\"], [0.5555555555555556, \"#d8576b\"], [0.6666666666666666, \"#ed7953\"], [0.7777777777777778, \"#fb9f3a\"], [0.8888888888888888, \"#fdca26\"], [1.0, \"#f0f921\"]], \"type\": \"contour\"}], \"contourcarpet\": [{\"colorbar\": {\"outlinewidth\": 0, \"ticks\": \"\"}, \"type\": \"contourcarpet\"}], \"heatmap\": [{\"colorbar\": {\"outlinewidth\": 0, \"ticks\": \"\"}, \"colorscale\": [[0.0, \"#0d0887\"], [0.1111111111111111, \"#46039f\"], [0.2222222222222222, \"#7201a8\"], [0.3333333333333333, \"#9c179e\"], [0.4444444444444444, \"#bd3786\"], [0.5555555555555556, \"#d8576b\"], [0.6666666666666666, \"#ed7953\"], [0.7777777777777778, \"#fb9f3a\"], [0.8888888888888888, \"#fdca26\"], [1.0, \"#f0f921\"]], \"type\": \"heatmap\"}], \"heatmapgl\": [{\"colorbar\": {\"outlinewidth\": 0, \"ticks\": \"\"}, \"colorscale\": [[0.0, \"#0d0887\"], [0.1111111111111111, \"#46039f\"], [0.2222222222222222, \"#7201a8\"], [0.3333333333333333, \"#9c179e\"], [0.4444444444444444, \"#bd3786\"], [0.5555555555555556, \"#d8576b\"], [0.6666666666666666, \"#ed7953\"], [0.7777777777777778, \"#fb9f3a\"], [0.8888888888888888, \"#fdca26\"], [1.0, \"#f0f921\"]], \"type\": \"heatmapgl\"}], \"histogram\": [{\"marker\": {\"colorbar\": {\"outlinewidth\": 0, \"ticks\": \"\"}}, \"type\": \"histogram\"}], \"histogram2d\": [{\"colorbar\": {\"outlinewidth\": 0, \"ticks\": \"\"}, \"colorscale\": [[0.0, \"#0d0887\"], [0.1111111111111111, \"#46039f\"], [0.2222222222222222, \"#7201a8\"], [0.3333333333333333, \"#9c179e\"], [0.4444444444444444, \"#bd3786\"], [0.5555555555555556, \"#d8576b\"], [0.6666666666666666, \"#ed7953\"], [0.7777777777777778, \"#fb9f3a\"], [0.8888888888888888, \"#fdca26\"], [1.0, \"#f0f921\"]], \"type\": \"histogram2d\"}], \"histogram2dcontour\": [{\"colorbar\": {\"outlinewidth\": 0, \"ticks\": \"\"}, \"colorscale\": [[0.0, \"#0d0887\"], [0.1111111111111111, \"#46039f\"], [0.2222222222222222, \"#7201a8\"], [0.3333333333333333, \"#9c179e\"], [0.4444444444444444, \"#bd3786\"], [0.5555555555555556, \"#d8576b\"], [0.6666666666666666, \"#ed7953\"], [0.7777777777777778, \"#fb9f3a\"], [0.8888888888888888, \"#fdca26\"], [1.0, \"#f0f921\"]], \"type\": \"histogram2dcontour\"}], \"mesh3d\": [{\"colorbar\": {\"outlinewidth\": 0, \"ticks\": \"\"}, \"type\": \"mesh3d\"}], \"parcoords\": [{\"line\": {\"colorbar\": {\"outlinewidth\": 0, \"ticks\": \"\"}}, \"type\": \"parcoords\"}], \"pie\": [{\"automargin\": true, \"type\": \"pie\"}], \"scatter\": [{\"marker\": {\"colorbar\": {\"outlinewidth\": 0, \"ticks\": \"\"}}, \"type\": \"scatter\"}], \"scatter3d\": [{\"line\": {\"colorbar\": {\"outlinewidth\": 0, \"ticks\": \"\"}}, \"marker\": {\"colorbar\": {\"outlinewidth\": 0, \"ticks\": \"\"}}, \"type\": \"scatter3d\"}], \"scattercarpet\": [{\"marker\": {\"colorbar\": {\"outlinewidth\": 0, \"ticks\": \"\"}}, \"type\": \"scattercarpet\"}], \"scattergeo\": [{\"marker\": {\"colorbar\": {\"outlinewidth\": 0, \"ticks\": \"\"}}, \"type\": \"scattergeo\"}], \"scattergl\": [{\"marker\": {\"colorbar\": {\"outlinewidth\": 0, \"ticks\": \"\"}}, \"type\": \"scattergl\"}], \"scattermapbox\": [{\"marker\": {\"colorbar\": {\"outlinewidth\": 0, \"ticks\": \"\"}}, \"type\": \"scattermapbox\"}], \"scatterpolar\": [{\"marker\": {\"colorbar\": {\"outlinewidth\": 0, \"ticks\": \"\"}}, \"type\": \"scatterpolar\"}], \"scatterpolargl\": [{\"marker\": {\"colorbar\": {\"outlinewidth\": 0, \"ticks\": \"\"}}, \"type\": \"scatterpolargl\"}], \"scatterternary\": [{\"marker\": {\"colorbar\": {\"outlinewidth\": 0, \"ticks\": \"\"}}, \"type\": \"scatterternary\"}], \"surface\": [{\"colorbar\": {\"outlinewidth\": 0, \"ticks\": \"\"}, \"colorscale\": [[0.0, \"#0d0887\"], [0.1111111111111111, \"#46039f\"], [0.2222222222222222, \"#7201a8\"], [0.3333333333333333, \"#9c179e\"], [0.4444444444444444, \"#bd3786\"], [0.5555555555555556, \"#d8576b\"], [0.6666666666666666, \"#ed7953\"], [0.7777777777777778, \"#fb9f3a\"], [0.8888888888888888, \"#fdca26\"], [1.0, \"#f0f921\"]], \"type\": \"surface\"}], \"table\": [{\"cells\": {\"fill\": {\"color\": \"#EBF0F8\"}, \"line\": {\"color\": \"white\"}}, \"header\": {\"fill\": {\"color\": \"#C8D4E3\"}, \"line\": {\"color\": \"white\"}}, \"type\": \"table\"}]}, \"layout\": {\"annotationdefaults\": {\"arrowcolor\": \"#2a3f5f\", \"arrowhead\": 0, \"arrowwidth\": 1}, \"autotypenumbers\": \"strict\", \"coloraxis\": {\"colorbar\": {\"outlinewidth\": 0, \"ticks\": \"\"}}, \"colorscale\": {\"diverging\": [[0, \"#8e0152\"], [0.1, \"#c51b7d\"], [0.2, \"#de77ae\"], [0.3, \"#f1b6da\"], [0.4, \"#fde0ef\"], [0.5, \"#f7f7f7\"], [0.6, \"#e6f5d0\"], [0.7, \"#b8e186\"], [0.8, \"#7fbc41\"], [0.9, \"#4d9221\"], [1, \"#276419\"]], \"sequential\": [[0.0, \"#0d0887\"], [0.1111111111111111, \"#46039f\"], [0.2222222222222222, \"#7201a8\"], [0.3333333333333333, \"#9c179e\"], [0.4444444444444444, \"#bd3786\"], [0.5555555555555556, \"#d8576b\"], [0.6666666666666666, \"#ed7953\"], [0.7777777777777778, \"#fb9f3a\"], [0.8888888888888888, \"#fdca26\"], [1.0, \"#f0f921\"]], \"sequentialminus\": [[0.0, \"#0d0887\"], [0.1111111111111111, \"#46039f\"], [0.2222222222222222, \"#7201a8\"], [0.3333333333333333, \"#9c179e\"], [0.4444444444444444, \"#bd3786\"], [0.5555555555555556, \"#d8576b\"], [0.6666666666666666, \"#ed7953\"], [0.7777777777777778, \"#fb9f3a\"], [0.8888888888888888, \"#fdca26\"], [1.0, \"#f0f921\"]]}, \"colorway\": [\"#636efa\", \"#EF553B\", \"#00cc96\", \"#ab63fa\", \"#FFA15A\", \"#19d3f3\", \"#FF6692\", \"#B6E880\", \"#FF97FF\", \"#FECB52\"], \"font\": {\"color\": \"#2a3f5f\"}, \"geo\": {\"bgcolor\": \"white\", \"lakecolor\": \"white\", \"landcolor\": \"#E5ECF6\", \"showlakes\": true, \"showland\": true, \"subunitcolor\": \"white\"}, \"hoverlabel\": {\"align\": \"left\"}, \"hovermode\": \"closest\", \"mapbox\": {\"style\": \"light\"}, \"paper_bgcolor\": \"white\", \"plot_bgcolor\": \"#E5ECF6\", \"polar\": {\"angularaxis\": {\"gridcolor\": \"white\", \"linecolor\": \"white\", \"ticks\": \"\"}, \"bgcolor\": \"#E5ECF6\", \"radialaxis\": {\"gridcolor\": \"white\", \"linecolor\": \"white\", \"ticks\": \"\"}}, \"scene\": {\"xaxis\": {\"backgroundcolor\": \"#E5ECF6\", \"gridcolor\": \"white\", \"gridwidth\": 2, \"linecolor\": \"white\", \"showbackground\": true, \"ticks\": \"\", \"zerolinecolor\": \"white\"}, \"yaxis\": {\"backgroundcolor\": \"#E5ECF6\", \"gridcolor\": \"white\", \"gridwidth\": 2, \"linecolor\": \"white\", \"showbackground\": true, \"ticks\": \"\", \"zerolinecolor\": \"white\"}, \"zaxis\": {\"backgroundcolor\": \"#E5ECF6\", \"gridcolor\": \"white\", \"gridwidth\": 2, \"linecolor\": \"white\", \"showbackground\": true, \"ticks\": \"\", \"zerolinecolor\": \"white\"}}, \"shapedefaults\": {\"line\": {\"color\": \"#2a3f5f\"}}, \"ternary\": {\"aaxis\": {\"gridcolor\": \"white\", \"linecolor\": \"white\", \"ticks\": \"\"}, \"baxis\": {\"gridcolor\": \"white\", \"linecolor\": \"white\", \"ticks\": \"\"}, \"bgcolor\": \"#E5ECF6\", \"caxis\": {\"gridcolor\": \"white\", \"linecolor\": \"white\", \"ticks\": \"\"}}, \"title\": {\"x\": 0.05}, \"xaxis\": {\"automargin\": true, \"gridcolor\": \"white\", \"linecolor\": \"white\", \"ticks\": \"\", \"title\": {\"standoff\": 15}, \"zerolinecolor\": \"white\", \"zerolinewidth\": 2}, \"yaxis\": {\"automargin\": true, \"gridcolor\": \"white\", \"linecolor\": \"white\", \"ticks\": \"\", \"title\": {\"standoff\": 15}, \"zerolinecolor\": \"white\", \"zerolinewidth\": 2}}}, \"title\": {\"font\": {\"color\": \"#4D5663\"}}, \"xaxis\": {\"anchor\": \"y\", \"domain\": [0.0, 0.2125], \"gridcolor\": \"#E1E5ED\", \"showgrid\": false, \"tickfont\": {\"color\": \"#4D5663\"}, \"title\": {\"font\": {\"color\": \"#4D5663\"}, \"text\": \"\"}, \"zerolinecolor\": \"#E1E5ED\"}, \"xaxis10\": {\"anchor\": \"y10\", \"domain\": [0.2625, 0.475], \"gridcolor\": \"#E1E5ED\", \"showgrid\": false, \"tickfont\": {\"color\": \"#4D5663\"}, \"title\": {\"font\": {\"color\": \"#4D5663\"}, \"text\": \"\"}, \"zerolinecolor\": \"#E1E5ED\"}, \"xaxis11\": {\"anchor\": \"y11\", \"domain\": [0.525, 0.7375], \"gridcolor\": \"#E1E5ED\", \"showgrid\": false, \"tickfont\": {\"color\": \"#4D5663\"}, \"title\": {\"font\": {\"color\": \"#4D5663\"}, \"text\": \"\"}, \"zerolinecolor\": \"#E1E5ED\"}, \"xaxis12\": {\"anchor\": \"y12\", \"domain\": [0.7875, 1.0], \"gridcolor\": \"#E1E5ED\", \"showgrid\": false, \"tickfont\": {\"color\": \"#4D5663\"}, \"title\": {\"font\": {\"color\": \"#4D5663\"}, \"text\": \"\"}, \"zerolinecolor\": \"#E1E5ED\"}, \"xaxis13\": {\"anchor\": \"y13\", \"domain\": [0.0, 0.2125], \"gridcolor\": \"#E1E5ED\", \"showgrid\": false, \"tickfont\": {\"color\": \"#4D5663\"}, \"title\": {\"font\": {\"color\": \"#4D5663\"}, \"text\": \"\"}, \"zerolinecolor\": \"#E1E5ED\"}, \"xaxis14\": {\"anchor\": \"y14\", \"domain\": [0.2625, 0.475], \"gridcolor\": \"#E1E5ED\", \"showgrid\": false, \"tickfont\": {\"color\": \"#4D5663\"}, \"title\": {\"font\": {\"color\": \"#4D5663\"}, \"text\": \"\"}, \"zerolinecolor\": \"#E1E5ED\"}, \"xaxis15\": {\"anchor\": \"y15\", \"domain\": [0.525, 0.7375], \"gridcolor\": \"#E1E5ED\", \"showgrid\": false, \"tickfont\": {\"color\": \"#4D5663\"}, \"title\": {\"font\": {\"color\": \"#4D5663\"}, \"text\": \"\"}, \"zerolinecolor\": \"#E1E5ED\"}, \"xaxis16\": {\"anchor\": \"y16\", \"domain\": [0.7875, 1.0], \"gridcolor\": \"#E1E5ED\", \"showgrid\": false, \"tickfont\": {\"color\": \"#4D5663\"}, \"title\": {\"font\": {\"color\": \"#4D5663\"}, \"text\": \"\"}, \"zerolinecolor\": \"#E1E5ED\"}, \"xaxis2\": {\"anchor\": \"y2\", \"domain\": [0.2625, 0.475], \"gridcolor\": \"#E1E5ED\", \"showgrid\": false, \"tickfont\": {\"color\": \"#4D5663\"}, \"title\": {\"font\": {\"color\": \"#4D5663\"}, \"text\": \"\"}, \"zerolinecolor\": \"#E1E5ED\"}, \"xaxis3\": {\"anchor\": \"y3\", \"domain\": [0.525, 0.7375], \"gridcolor\": \"#E1E5ED\", \"showgrid\": false, \"tickfont\": {\"color\": \"#4D5663\"}, \"title\": {\"font\": {\"color\": \"#4D5663\"}, \"text\": \"\"}, \"zerolinecolor\": \"#E1E5ED\"}, \"xaxis4\": {\"anchor\": \"y4\", \"domain\": [0.7875, 1.0], \"gridcolor\": \"#E1E5ED\", \"showgrid\": false, \"tickfont\": {\"color\": \"#4D5663\"}, \"title\": {\"font\": {\"color\": \"#4D5663\"}, \"text\": \"\"}, \"zerolinecolor\": \"#E1E5ED\"}, \"xaxis5\": {\"anchor\": \"y5\", \"domain\": [0.0, 0.2125], \"gridcolor\": \"#E1E5ED\", \"showgrid\": false, \"tickfont\": {\"color\": \"#4D5663\"}, \"title\": {\"font\": {\"color\": \"#4D5663\"}, \"text\": \"\"}, \"zerolinecolor\": \"#E1E5ED\"}, \"xaxis6\": {\"anchor\": \"y6\", \"domain\": [0.2625, 0.475], \"gridcolor\": \"#E1E5ED\", \"showgrid\": false, \"tickfont\": {\"color\": \"#4D5663\"}, \"title\": {\"font\": {\"color\": \"#4D5663\"}, \"text\": \"\"}, \"zerolinecolor\": \"#E1E5ED\"}, \"xaxis7\": {\"anchor\": \"y7\", \"domain\": [0.525, 0.7375], \"gridcolor\": \"#E1E5ED\", \"showgrid\": false, \"tickfont\": {\"color\": \"#4D5663\"}, \"title\": {\"font\": {\"color\": \"#4D5663\"}, \"text\": \"\"}, \"zerolinecolor\": \"#E1E5ED\"}, \"xaxis8\": {\"anchor\": \"y8\", \"domain\": [0.7875, 1.0], \"gridcolor\": \"#E1E5ED\", \"showgrid\": false, \"tickfont\": {\"color\": \"#4D5663\"}, \"title\": {\"font\": {\"color\": \"#4D5663\"}, \"text\": \"\"}, \"zerolinecolor\": \"#E1E5ED\"}, \"xaxis9\": {\"anchor\": \"y9\", \"domain\": [0.0, 0.2125], \"gridcolor\": \"#E1E5ED\", \"showgrid\": false, \"tickfont\": {\"color\": \"#4D5663\"}, \"title\": {\"font\": {\"color\": \"#4D5663\"}, \"text\": \"\"}, \"zerolinecolor\": \"#E1E5ED\"}, \"yaxis\": {\"anchor\": \"x\", \"domain\": [0.8025, 1.0], \"gridcolor\": \"#E1E5ED\", \"showgrid\": false, \"tickfont\": {\"color\": \"#4D5663\"}, \"title\": {\"font\": {\"color\": \"#4D5663\"}, \"text\": \"\"}, \"zerolinecolor\": \"#E1E5ED\"}, \"yaxis10\": {\"anchor\": \"x10\", \"domain\": [0.2675, 0.465], \"gridcolor\": \"#E1E5ED\", \"showgrid\": false, \"tickfont\": {\"color\": \"#4D5663\"}, \"title\": {\"font\": {\"color\": \"#4D5663\"}, \"text\": \"\"}, \"zerolinecolor\": \"#E1E5ED\"}, \"yaxis11\": {\"anchor\": \"x11\", \"domain\": [0.2675, 0.465], \"gridcolor\": \"#E1E5ED\", \"showgrid\": false, \"tickfont\": {\"color\": \"#4D5663\"}, \"title\": {\"font\": {\"color\": \"#4D5663\"}, \"text\": \"\"}, \"zerolinecolor\": \"#E1E5ED\"}, \"yaxis12\": {\"anchor\": \"x12\", \"domain\": [0.2675, 0.465], \"gridcolor\": \"#E1E5ED\", \"showgrid\": false, \"tickfont\": {\"color\": \"#4D5663\"}, \"title\": {\"font\": {\"color\": \"#4D5663\"}, \"text\": \"\"}, \"zerolinecolor\": \"#E1E5ED\"}, \"yaxis13\": {\"anchor\": \"x13\", \"domain\": [0.0, 0.1975], \"gridcolor\": \"#E1E5ED\", \"showgrid\": false, \"tickfont\": {\"color\": \"#4D5663\"}, \"title\": {\"font\": {\"color\": \"#4D5663\"}, \"text\": \"\"}, \"zerolinecolor\": \"#E1E5ED\"}, \"yaxis14\": {\"anchor\": \"x14\", \"domain\": [0.0, 0.1975], \"gridcolor\": \"#E1E5ED\", \"showgrid\": false, \"tickfont\": {\"color\": \"#4D5663\"}, \"title\": {\"font\": {\"color\": \"#4D5663\"}, \"text\": \"\"}, \"zerolinecolor\": \"#E1E5ED\"}, \"yaxis15\": {\"anchor\": \"x15\", \"domain\": [0.0, 0.1975], \"gridcolor\": \"#E1E5ED\", \"showgrid\": false, \"tickfont\": {\"color\": \"#4D5663\"}, \"title\": {\"font\": {\"color\": \"#4D5663\"}, \"text\": \"\"}, \"zerolinecolor\": \"#E1E5ED\"}, \"yaxis16\": {\"anchor\": \"x16\", \"domain\": [0.0, 0.1975], \"gridcolor\": \"#E1E5ED\", \"showgrid\": false, \"tickfont\": {\"color\": \"#4D5663\"}, \"title\": {\"font\": {\"color\": \"#4D5663\"}, \"text\": \"\"}, \"zerolinecolor\": \"#E1E5ED\"}, \"yaxis2\": {\"anchor\": \"x2\", \"domain\": [0.8025, 1.0], \"gridcolor\": \"#E1E5ED\", \"showgrid\": false, \"tickfont\": {\"color\": \"#4D5663\"}, \"title\": {\"font\": {\"color\": \"#4D5663\"}, \"text\": \"\"}, \"zerolinecolor\": \"#E1E5ED\"}, \"yaxis3\": {\"anchor\": \"x3\", \"domain\": [0.8025, 1.0], \"gridcolor\": \"#E1E5ED\", \"showgrid\": false, \"tickfont\": {\"color\": \"#4D5663\"}, \"title\": {\"font\": {\"color\": \"#4D5663\"}, \"text\": \"\"}, \"zerolinecolor\": \"#E1E5ED\"}, \"yaxis4\": {\"anchor\": \"x4\", \"domain\": [0.8025, 1.0], \"gridcolor\": \"#E1E5ED\", \"showgrid\": false, \"tickfont\": {\"color\": \"#4D5663\"}, \"title\": {\"font\": {\"color\": \"#4D5663\"}, \"text\": \"\"}, \"zerolinecolor\": \"#E1E5ED\"}, \"yaxis5\": {\"anchor\": \"x5\", \"domain\": [0.535, 0.7325], \"gridcolor\": \"#E1E5ED\", \"showgrid\": false, \"tickfont\": {\"color\": \"#4D5663\"}, \"title\": {\"font\": {\"color\": \"#4D5663\"}, \"text\": \"\"}, \"zerolinecolor\": \"#E1E5ED\"}, \"yaxis6\": {\"anchor\": \"x6\", \"domain\": [0.535, 0.7325], \"gridcolor\": \"#E1E5ED\", \"showgrid\": false, \"tickfont\": {\"color\": \"#4D5663\"}, \"title\": {\"font\": {\"color\": \"#4D5663\"}, \"text\": \"\"}, \"zerolinecolor\": \"#E1E5ED\"}, \"yaxis7\": {\"anchor\": \"x7\", \"domain\": [0.535, 0.7325], \"gridcolor\": \"#E1E5ED\", \"showgrid\": false, \"tickfont\": {\"color\": \"#4D5663\"}, \"title\": {\"font\": {\"color\": \"#4D5663\"}, \"text\": \"\"}, \"zerolinecolor\": \"#E1E5ED\"}, \"yaxis8\": {\"anchor\": \"x8\", \"domain\": [0.535, 0.7325], \"gridcolor\": \"#E1E5ED\", \"showgrid\": false, \"tickfont\": {\"color\": \"#4D5663\"}, \"title\": {\"font\": {\"color\": \"#4D5663\"}, \"text\": \"\"}, \"zerolinecolor\": \"#E1E5ED\"}, \"yaxis9\": {\"anchor\": \"x9\", \"domain\": [0.2675, 0.465], \"gridcolor\": \"#E1E5ED\", \"showgrid\": false, \"tickfont\": {\"color\": \"#4D5663\"}, \"title\": {\"font\": {\"color\": \"#4D5663\"}, \"text\": \"\"}, \"zerolinecolor\": \"#E1E5ED\"}},                        {\"showLink\": true, \"linkText\": \"Export to plot.ly\", \"plotlyServerURL\": \"https://plot.ly\", \"responsive\": true}                    ).then(function(){\n                            \nvar gd = document.getElementById('589bbb32-834f-4ce7-bef9-1088963a7f90');\nvar x = new MutationObserver(function (mutations, observer) {{\n        var display = window.getComputedStyle(gd).display;\n        if (!display || display === 'none') {{\n            console.log([gd, 'removed!']);\n            Plotly.purge(gd);\n            observer.disconnect();\n        }}\n}});\n\n// Listen for the removal of the full notebook cells\nvar notebookContainer = gd.closest('#notebook-container');\nif (notebookContainer) {{\n    x.observe(notebookContainer, {childList: true});\n}}\n\n// Listen for the clearing of the current output cell\nvar outputEl = gd.closest('.output');\nif (outputEl) {{\n    x.observe(outputEl, {childList: true});\n}}\n\n                        })                };                });            </script>        </div>"
     },
     "metadata": {}
    }
   ],
   "source": [
    "df.scatter_matrix()"
   ]
  }
 ]
}