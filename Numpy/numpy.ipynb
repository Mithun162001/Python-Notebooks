{
 "cells": [
  {
   "cell_type": "markdown",
   "metadata": {},
   "source": [
    "<h1><u> <center>numpy library"
   ]
  },
  {
   "cell_type": "code",
   "execution_count": 2,
   "metadata": {},
   "outputs": [],
   "source": [
    "# importing the numpy module\r\n",
    "import numpy as np"
   ]
  },
  {
   "cell_type": "markdown",
   "metadata": {},
   "source": [
    "Creating arrays"
   ]
  },
  {
   "cell_type": "code",
   "execution_count": 17,
   "metadata": {},
   "outputs": [
    {
     "name": "stdout",
     "output_type": "stream",
     "text": [
      "The array:  [1 2 3 4 5]\n",
      "Dimension of the array:  1\n",
      "Shape of the array:  (5,)\n",
      "Legth of the array:  5\n",
      "\n",
      "\n",
      "The array: \n",
      " [[1 2 3]\n",
      " [4 5 6]]\n",
      "Dimension of the array:  2\n",
      "Shape of the array:  (2, 3)\n",
      "Legth of the array:  2\n"
     ]
    }
   ],
   "source": [
    "# 1 dimensional\r\n",
    "a = np.array([1,2,3,4,5])\r\n",
    "print(\"The array: \", a)\r\n",
    "print(\"Dimension of the array: \", a.ndim) \r\n",
    "print(\"Shape of the array: \", a.shape)\r\n",
    "print(\"Legth of the array: \", len(a))\r\n",
    "print(\"\\n\")\r\n",
    "\r\n",
    "# 2 dimensional\r\n",
    "b = np.array(([1,2,3],[4,5,6]))\r\n",
    "print(\"The array: \\n\", b)\r\n",
    "print(\"Dimension of the array: \", b.ndim) \r\n",
    "print(\"Shape of the array: \", b.shape)\r\n",
    "print(\"Legth of the array: \", len(b))"
   ]
  },
  {
   "cell_type": "markdown",
   "metadata": {},
   "source": [
    "Generating Sequence of array "
   ]
  },
  {
   "cell_type": "code",
   "execution_count": 21,
   "metadata": {},
   "outputs": [
    {
     "name": "stdout",
     "output_type": "stream",
     "text": [
      "[0 1 2 3 4 5 6 7 8 9]\n",
      "[10 20 30 40]\n",
      "\n",
      "\n",
      "[0.  0.2 0.4 0.6 0.8 1. ]\n"
     ]
    }
   ],
   "source": [
    "# Evenly spaced\r\n",
    "a = np.arange(10)\r\n",
    "print(a)\r\n",
    "print(np.arange(10,50,10))\r\n",
    "print(\"\\n\")\r\n",
    "\r\n",
    "# By number of points\r\n",
    "print(np.linspace(0,1,6))       # dividing 6 partitions from 0 to 1"
   ]
  },
  {
   "cell_type": "markdown",
   "metadata": {},
   "source": [
    "Common arrays "
   ]
  },
  {
   "cell_type": "code",
   "execution_count": 30,
   "metadata": {},
   "outputs": [
    {
     "name": "stdout",
     "output_type": "stream",
     "text": [
      "[[1. 1. 1.]\n",
      " [1. 1. 1.]\n",
      " [1. 1. 1.]]\n",
      "\n",
      "\n",
      "[[0. 0. 0.]\n",
      " [0. 0. 0.]\n",
      " [0. 0. 0.]]\n",
      "\n",
      "\n",
      "[[1. 0. 0.]\n",
      " [0. 1. 0.]\n",
      " [0. 0. 1.]]\n",
      "\n",
      "\n",
      "[[1 0 0]\n",
      " [0 2 0]\n",
      " [0 0 3]]\n"
     ]
    }
   ],
   "source": [
    "print(np.ones((3,3)))\r\n",
    "print(\"\\n\")\r\n",
    "\r\n",
    "print(np.zeros((3,3)))\r\n",
    "print(\"\\n\")\r\n",
    "\r\n",
    "print(np.eye(3))\r\n",
    "print(\"\\n\")\r\n",
    "\r\n",
    "print(np.diag(np.array([1,2,3])))"
   ]
  },
  {
   "cell_type": "markdown",
   "metadata": {},
   "source": [
    "Generating random numbers in numpy "
   ]
  },
  {
   "cell_type": "code",
   "execution_count": 37,
   "metadata": {},
   "outputs": [
    {
     "name": "stdout",
     "output_type": "stream",
     "text": [
      "Random numbers generated are:  [0.32782768 0.70724533 0.53552084 0.1775902 ]\n"
     ]
    },
    {
     "data": {
      "text/plain": [
       "dtype('float64')"
      ]
     },
     "execution_count": 37,
     "metadata": {},
     "output_type": "execute_result"
    }
   ],
   "source": [
    "r = np.random.rand(4)       # generates random floating point numbers between 0 to 1\r\n",
    "print(\"Random numbers generated are: \", r)\r\n",
    "r.dtype"
   ]
  },
  {
   "cell_type": "markdown",
   "metadata": {},
   "source": [
    "Datatypes in numpy "
   ]
  },
  {
   "cell_type": "code",
   "execution_count": 50,
   "metadata": {},
   "outputs": [
    {
     "name": "stdout",
     "output_type": "stream",
     "text": [
      "[1. 2. 3. 4. 5.]\n",
      "float64\n",
      "[1 2 3 4 5]\n",
      "int64\n",
      "[1.+1.j 2.+5.j]\n",
      "complex128\n"
     ]
    }
   ],
   "source": [
    "a = np.array([1,2,3,4,5], dtype='float64')\r\n",
    "print(a)\r\n",
    "print(a.dtype)\r\n",
    "\r\n",
    "b = np.array([1,2,3,4,5], dtype='int64')\r\n",
    "print(b)\r\n",
    "print(b.dtype)\r\n",
    "\r\n",
    "com = np.array([1+ 1j, 2+5j])\r\n",
    "print(com)\r\n",
    "print(com.dtype)"
   ]
  },
  {
   "cell_type": "markdown",
   "metadata": {},
   "source": [
    "Indexing and Slicing"
   ]
  },
  {
   "cell_type": "code",
   "execution_count": 66,
   "metadata": {},
   "outputs": [
    {
     "name": "stdout",
     "output_type": "stream",
     "text": [
      "[0 1 2 3 4 5 6 7 8 9]\n",
      "5\n",
      "[0 1 2 3 4]\n",
      "9\n",
      "[9 8 7 6 5 4 3 2 1 0]\n",
      "[2 5 8]\n"
     ]
    }
   ],
   "source": [
    "num = np.arange(10)\r\n",
    "print(num)\r\n",
    "print(num[5])\r\n",
    "print(num[:5])\r\n",
    "print(num[-1])\r\n",
    "print(num[: : -1])  # for reversing the sequence\r\n",
    "print(num[2:9:3])"
   ]
  },
  {
   "cell_type": "code",
   "execution_count": 64,
   "metadata": {},
   "outputs": [
    {
     "name": "stdout",
     "output_type": "stream",
     "text": [
      "[[1 0 0 0]\n",
      " [0 2 0 0]\n",
      " [0 0 3 0]\n",
      " [0 0 0 4]]\n",
      "3\n"
     ]
    },
    {
     "data": {
      "text/plain": [
       "array([[ 1,  0,  0,  0],\n",
       "       [ 0,  2,  0,  0],\n",
       "       [ 0, 99,  3,  0],\n",
       "       [ 0,  0,  0,  4]])"
      ]
     },
     "execution_count": 64,
     "metadata": {},
     "output_type": "execute_result"
    }
   ],
   "source": [
    "# for mutli dimensional ndarrays\r\n",
    "mat = np.diag(np.array([1,2,3,4]))\r\n",
    "print(mat)\r\n",
    "\r\n",
    "print(mat[2,2])\r\n",
    "\r\n",
    "mat[2,1] = 99   # updating the matrices\r\n",
    "mat"
   ]
  },
  {
   "cell_type": "markdown",
   "metadata": {},
   "source": [
    "* A slicing operation craetes a view on the original array, which is just a way of accessing array data \r\n",
    "\r\n",
    "* Thus the original array is not copied into the memory it's just a view\r\n",
    "\r\n",
    "* we can use np.share_memory() to check whether if two arrays share the same memory or not"
   ]
  },
  {
   "cell_type": "code",
   "execution_count": 8,
   "metadata": {},
   "outputs": [
    {
     "name": "stdout",
     "output_type": "stream",
     "text": [
      "a:  [0 1 2 3 4 5 6 7 8 9]\n",
      "b:  [0 2 4 6 8]\n",
      "a:  [12  1  2  3  4  5  6  7  8  9]\n",
      "b:  [12  2  4  6  8]\n"
     ]
    }
   ],
   "source": [
    "a = np.arange(10)\r\n",
    "print(\"a: \", a)\r\n",
    "\r\n",
    "b = a[::2]          # view\r\n",
    "print(\"b: \", b)\r\n",
    "\r\n",
    "np.may_share_memory(a,b)\r\n",
    "b[0] = 12\r\n",
    "\r\n",
    "print(\"a: \", a)\r\n",
    "print(\"b: \", b)     # when modifying the view(b) even the original array(a) also has been modified automatically"
   ]
  },
  {
   "cell_type": "code",
   "execution_count": 12,
   "metadata": {},
   "outputs": [
    {
     "name": "stdout",
     "output_type": "stream",
     "text": [
      "a:  [0 1 2 3 4 5 6 7 8 9]\n",
      "b:  [0 2 4 6 8]\n",
      "a:  [0 1 2 3 4 5 6 7 8 9]\n",
      "b:  [12  2  4  6  8]\n"
     ]
    }
   ],
   "source": [
    "a = np.arange(10)\r\n",
    "print(\"a: \", a)\r\n",
    "\r\n",
    "b = a[::2].copy()   # forcing a copy to avoid data redundancy while doing array manipulations\r\n",
    "print(\"b: \", b)\r\n",
    "\r\n",
    "b[0] = 12\r\n",
    "print(\"a: \", a)\r\n",
    "print(\"b: \", b) "
   ]
  },
  {
   "cell_type": "markdown",
   "metadata": {},
   "source": [
    "<h2> Numerical operations on ndarray"
   ]
  },
  {
   "cell_type": "code",
   "execution_count": 22,
   "metadata": {},
   "outputs": [
    {
     "name": "stdout",
     "output_type": "stream",
     "text": [
      "a:    [0 1 2 3 4 5]\n",
      "a+1:  [1 2 3 4 5 6]\n",
      "2**a: [ 0  1  4  9 16 25]\n",
      "Array multiplicaiton: \n",
      " [[1. 1. 1.]\n",
      " [1. 1. 1.]\n",
      " [1. 1. 1.]]\n",
      "Matrix multiplication: \n",
      " [[3. 3. 3.]\n",
      " [3. 3. 3.]\n",
      " [3. 3. 3.]]\n"
     ]
    }
   ],
   "source": [
    "# Element-wise operations\r\n",
    "a = np.array([0,1,2,3,4,5])\r\n",
    "print(\"a:   \", a)\r\n",
    "print(\"a+1: \", a+1)\r\n",
    "print(\"2**a:\", a**2)\r\n",
    "\r\n",
    "# array multiplication\r\n",
    "c = np.ones((3,3))\r\n",
    "print(\"Array multiplicaiton: \\n\", c*c)\r\n",
    "\r\n",
    "# matrix muliplication\r\n",
    "print(\"Matrix multiplication: \\n\", c.dot(c))"
   ]
  },
  {
   "cell_type": "markdown",
   "metadata": {},
   "source": [
    "<h2> Array shape manipulations"
   ]
  },
  {
   "cell_type": "code",
   "execution_count": 42,
   "metadata": {},
   "outputs": [
    {
     "name": "stdout",
     "output_type": "stream",
     "text": [
      "a:\n",
      " [[1 2 3]\n",
      " [4 5 6]]\n",
      "Flattened a:  [1 2 3 4 5 6]\n"
     ]
    }
   ],
   "source": [
    "# Flattening\r\n",
    "a = np.array([[1,2,3],[4,5,6]])\r\n",
    "print(\"a:\\n\", a)\r\n",
    "\r\n",
    "print(\"Flattened a: \", a.ravel())   # flattening 2d to 1d"
   ]
  },
  {
   "cell_type": "code",
   "execution_count": 43,
   "metadata": {},
   "outputs": [
    {
     "name": "stdout",
     "output_type": "stream",
     "text": [
      "Reshaped a:\n",
      " [[1 2]\n",
      " [3 4]\n",
      " [5 6]]\n"
     ]
    }
   ],
   "source": [
    "# Reshaping\r\n",
    "print(\"Reshaped a:\\n\", a.reshape(3,2))  # reverse of flattening"
   ]
  },
  {
   "cell_type": "code",
   "execution_count": 47,
   "metadata": {},
   "outputs": [
    {
     "name": "stdout",
     "output_type": "stream",
     "text": [
      "a:  [0 1 2 3]\n",
      "resized a: \n",
      " [0 1 2 3 0 0 0 0]\n"
     ]
    }
   ],
   "source": [
    "# Resizing\r\n",
    "a = np.arange(4)\r\n",
    "print(\"a: \", a)\r\n",
    "a.resize((8,))\r\n",
    "print(\"resized a: \\n\", a)"
   ]
  },
  {
   "cell_type": "code",
   "execution_count": 53,
   "metadata": {},
   "outputs": [
    {
     "name": "stdout",
     "output_type": "stream",
     "text": [
      "a:\n",
      " [[ 3  2  1]\n",
      " [10  5  6]]\n",
      "Sorted a: \n",
      " [[ 1  2  3]\n",
      " [ 5  6 10]]\n"
     ]
    }
   ],
   "source": [
    "# Sorting data\r\n",
    "a = np.array([[3,2,1],[10,5,6]])\r\n",
    "print(\"a:\\n\", a)\r\n",
    "\r\n",
    "a.sort()\r\n",
    "print(\"Sorted a: \\n\",a)"
   ]
  }
 ],
 "metadata": {
  "interpreter": {
   "hash": "0989d4cb382ec003e6ad9ee0079fe5a34620af18f47069c43c62ee5030c1ec77"
  },
  "kernelspec": {
   "display_name": "Python 3.7.9 64-bit ('myenv': conda)",
   "name": "python3"
  },
  "language_info": {
   "codemirror_mode": {
    "name": "ipython",
    "version": 3
   },
   "file_extension": ".py",
   "mimetype": "text/x-python",
   "name": "python",
   "nbconvert_exporter": "python",
   "pygments_lexer": "ipython3",
   "version": "3.7.9"
  },
  "orig_nbformat": 4
 },
 "nbformat": 4,
 "nbformat_minor": 2
}