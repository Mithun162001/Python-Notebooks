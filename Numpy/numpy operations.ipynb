{
 "cells": [
  {
   "cell_type": "markdown",
   "id": "42536ed7",
   "metadata": {},
   "source": [
    "<h1>Operations performed in numpy"
   ]
  },
  {
   "cell_type": "code",
   "execution_count": 1,
   "id": "9f121b62",
   "metadata": {},
   "outputs": [],
   "source": [
    "import numpy as np"
   ]
  },
  {
   "cell_type": "code",
   "execution_count": 2,
   "id": "2e88b648",
   "metadata": {},
   "outputs": [
    {
     "data": {
      "text/plain": [
       "array([ 0,  1,  2,  3,  4,  5,  6,  7,  8,  9, 10, 11])"
      ]
     },
     "execution_count": 2,
     "metadata": {},
     "output_type": "execute_result"
    }
   ],
   "source": [
    "a = np.arange(12)\n",
    "a"
   ]
  },
  {
   "cell_type": "code",
   "execution_count": 3,
   "id": "aba327f4",
   "metadata": {},
   "outputs": [
    {
     "name": "stdout",
     "output_type": "stream",
     "text": [
      "1\n"
     ]
    }
   ],
   "source": [
    "print(np.ndim(a))"
   ]
  },
  {
   "cell_type": "markdown",
   "id": "fc8a4426",
   "metadata": {},
   "source": [
    "<h3>reshape():- it changes the arrangement of items by changing the order"
   ]
  },
  {
   "cell_type": "code",
   "execution_count": 4,
   "id": "24b36310",
   "metadata": {},
   "outputs": [
    {
     "data": {
      "text/plain": [
       "array([[ 0,  1,  2,  3,  4,  5],\n",
       "       [ 6,  7,  8,  9, 10, 11]])"
      ]
     },
     "execution_count": 4,
     "metadata": {},
     "output_type": "execute_result"
    }
   ],
   "source": [
    "b = a.reshape(2,6)\n",
    "b"
   ]
  },
  {
   "cell_type": "code",
   "execution_count": 5,
   "id": "618ca18c",
   "metadata": {},
   "outputs": [
    {
     "name": "stdout",
     "output_type": "stream",
     "text": [
      "2\n"
     ]
    }
   ],
   "source": [
    "print(b.ndim)"
   ]
  },
  {
   "cell_type": "markdown",
   "id": "d98b1986",
   "metadata": {},
   "source": [
    "<h3>flatten()/ ravel():- it used for flattening, for converting n-dim to 1-d"
   ]
  },
  {
   "cell_type": "code",
   "execution_count": 6,
   "id": "be5cc863",
   "metadata": {},
   "outputs": [
    {
     "data": {
      "text/plain": [
       "array([ 0,  1,  2,  3,  4,  5,  6,  7,  8,  9, 10, 11])"
      ]
     },
     "execution_count": 6,
     "metadata": {},
     "output_type": "execute_result"
    }
   ],
   "source": [
    "x1 = b.flatten()\n",
    "x1"
   ]
  },
  {
   "cell_type": "code",
   "execution_count": 7,
   "id": "01bfd553",
   "metadata": {},
   "outputs": [
    {
     "data": {
      "text/plain": [
       "array([ 0,  1,  2,  3,  4,  5,  6,  7,  8,  9, 10, 11])"
      ]
     },
     "execution_count": 7,
     "metadata": {},
     "output_type": "execute_result"
    }
   ],
   "source": [
    "x2 = b.ravel()\n",
    "x2"
   ]
  },
  {
   "cell_type": "code",
   "execution_count": 8,
   "id": "e8f35dd9",
   "metadata": {},
   "outputs": [
    {
     "data": {
      "text/plain": [
       "array([[100,   1,   2,   3,   4,   5],\n",
       "       [  6,   7,   8,   9,  10,  11]])"
      ]
     },
     "execution_count": 8,
     "metadata": {},
     "output_type": "execute_result"
    }
   ],
   "source": [
    "# now let's replace 1st element 0 with 100 in b\n",
    "b[0][0] = 100\n",
    "b"
   ]
  },
  {
   "cell_type": "code",
   "execution_count": 9,
   "id": "d4ce5217",
   "metadata": {},
   "outputs": [
    {
     "name": "stdout",
     "output_type": "stream",
     "text": [
      "[ 0  1  2  3  4  5  6  7  8  9 10 11]\n",
      "[100   1   2   3   4   5   6   7   8   9  10  11]\n"
     ]
    }
   ],
   "source": [
    "print(x1)  # flatten() is creating a copy\n",
    "print(x2)  # ravel() is creating a view"
   ]
  },
  {
   "cell_type": "code",
   "execution_count": 10,
   "id": "e3b12e07",
   "metadata": {},
   "outputs": [
    {
     "name": "stdout",
     "output_type": "stream",
     "text": [
      "False\n",
      "True\n"
     ]
    }
   ],
   "source": [
    "print(np.may_share_memory(x1,b))   # flatten() is creating a copy\n",
    "print(np.may_share_memory(x2,b))   # ravel() is creating a view"
   ]
  },
  {
   "cell_type": "code",
   "execution_count": 11,
   "id": "11204368",
   "metadata": {},
   "outputs": [
    {
     "name": "stdout",
     "output_type": "stream",
     "text": [
      "[[100   1   2   3   4   5]\n",
      " [  6   7   8   9  10  11]] \n",
      "\n",
      "[100   6   1   7   2   8   3   9   4  10   5  11]\n",
      "[100   1   2   3   4   5   6   7   8   9  10  11]\n"
     ]
    }
   ],
   "source": [
    "# flatten method takes a parameter called order, by default it's row major\n",
    "print(b, \"\\n\")\n",
    "print(b.flatten(order=\"f\"))\n",
    "print(b.flatten(order=\"c\"))"
   ]
  },
  {
   "cell_type": "markdown",
   "id": "7d91b7b7",
   "metadata": {},
   "source": [
    "<h3>Stacking:- several arrays can be stacked together along different axes"
   ]
  },
  {
   "cell_type": "markdown",
   "id": "b14abaa2",
   "metadata": {},
   "source": [
    "np.vstack():- to stack arrays along vertical axis\n",
    "\n",
    "np.hstack():- to stack arrays along horinzontal axis"
   ]
  },
  {
   "cell_type": "code",
   "execution_count": 12,
   "id": "0022e423",
   "metadata": {},
   "outputs": [
    {
     "data": {
      "text/plain": [
       "array([[1, 2],\n",
       "       [3, 4],\n",
       "       [5, 6],\n",
       "       [7, 8]])"
      ]
     },
     "execution_count": 12,
     "metadata": {},
     "output_type": "execute_result"
    }
   ],
   "source": [
    "x1 = np.array([[1,2],[3,4]])\n",
    "x2 = np.array([[5,6],[7,8]])\n",
    "np.vstack((x1,x2))"
   ]
  },
  {
   "cell_type": "code",
   "execution_count": 13,
   "id": "41b660e7",
   "metadata": {},
   "outputs": [
    {
     "data": {
      "text/plain": [
       "array([[1, 2, 5, 6],\n",
       "       [3, 4, 7, 8]])"
      ]
     },
     "execution_count": 13,
     "metadata": {},
     "output_type": "execute_result"
    }
   ],
   "source": [
    "np.hstack((x1,x2))"
   ]
  },
  {
   "cell_type": "markdown",
   "id": "f49b4970",
   "metadata": {},
   "source": [
    "<h3>Matrix operations"
   ]
  },
  {
   "cell_type": "code",
   "execution_count": 27,
   "id": "2d25c02f",
   "metadata": {},
   "outputs": [
    {
     "name": "stdout",
     "output_type": "stream",
     "text": [
      "[[1 2]\n",
      " [3 4]\n",
      " [5 6]] \n",
      "\n",
      "[5 6]\n"
     ]
    }
   ],
   "source": [
    "x1 = np.array([[1,2],[3,4],[5,6]])\n",
    "x2 = np.array([5,6])\n",
    "print(x1,\"\\n\")\n",
    "print(x2)"
   ]
  },
  {
   "cell_type": "code",
   "execution_count": 28,
   "id": "be1157cd",
   "metadata": {},
   "outputs": [
    {
     "name": "stdout",
     "output_type": "stream",
     "text": [
      "[[ 6  8]\n",
      " [ 8 10]\n",
      " [10 12]] \n",
      "\n",
      "[[ 6  8]\n",
      " [ 8 10]\n",
      " [10 12]]\n"
     ]
    }
   ],
   "source": [
    "# addition of matrices\n",
    "print(np.add(x1,x2), \"\\n\")\n",
    "print(x1+x2)"
   ]
  },
  {
   "cell_type": "code",
   "execution_count": 29,
   "id": "27b2774e",
   "metadata": {},
   "outputs": [
    {
     "name": "stdout",
     "output_type": "stream",
     "text": [
      "[[-4 -4]\n",
      " [-2 -2]\n",
      " [ 0  0]] \n",
      "\n",
      "[[-4 -4]\n",
      " [-2 -2]\n",
      " [ 0  0]]\n"
     ]
    }
   ],
   "source": [
    "# subtraction of matrices\n",
    "print(np.subtract(x1,x2), \"\\n\")\n",
    "print(x1-x2)"
   ]
  },
  {
   "cell_type": "code",
   "execution_count": 30,
   "id": "62120f82",
   "metadata": {},
   "outputs": [
    {
     "name": "stdout",
     "output_type": "stream",
     "text": [
      "[[ 5 12]\n",
      " [15 24]\n",
      " [25 36]]\n"
     ]
    }
   ],
   "source": [
    "# element wise multiplication\n",
    "print(np.multiply(x1,x2))"
   ]
  },
  {
   "cell_type": "code",
   "execution_count": 31,
   "id": "c29f004e",
   "metadata": {},
   "outputs": [
    {
     "name": "stdout",
     "output_type": "stream",
     "text": [
      "[17 39 61]\n"
     ]
    }
   ],
   "source": [
    "# matrix multiplication\n",
    "print(np.dot(x1,x2))"
   ]
  }
 ],
 "metadata": {
  "kernelspec": {
   "display_name": "Python 3",
   "language": "python",
   "name": "python3"
  },
  "language_info": {
   "codemirror_mode": {
    "name": "ipython",
    "version": 3
   },
   "file_extension": ".py",
   "mimetype": "text/x-python",
   "name": "python",
   "nbconvert_exporter": "python",
   "pygments_lexer": "ipython3",
   "version": "3.6.13"
  }
 },
 "nbformat": 4,
 "nbformat_minor": 5
}
