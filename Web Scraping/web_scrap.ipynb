{
 "metadata": {
  "language_info": {
   "codemirror_mode": {
    "name": "ipython",
    "version": 3
   },
   "file_extension": ".py",
   "mimetype": "text/x-python",
   "name": "python",
   "nbconvert_exporter": "python",
   "pygments_lexer": "ipython3",
   "version": "3.7.9-final"
  },
  "orig_nbformat": 2,
  "kernelspec": {
   "name": "python3",
   "display_name": "Python 3.7.9 64-bit ('myenv': conda)",
   "metadata": {
    "interpreter": {
     "hash": "0989d4cb382ec003e6ad9ee0079fe5a34620af18f47069c43c62ee5030c1ec77"
    }
   }
  }
 },
 "nbformat": 4,
 "nbformat_minor": 2,
 "cells": [
  {
   "cell_type": "code",
   "execution_count": 1,
   "metadata": {},
   "outputs": [],
   "source": [
    "from bs4 import BeautifulSoup as soup \n",
    "import requests"
   ]
  },
  {
   "cell_type": "code",
   "execution_count": 2,
   "metadata": {},
   "outputs": [
    {
     "output_type": "stream",
     "name": "stdout",
     "text": [
      "The URL choosen is https://www.tutorialspoint.com/index.htm\n"
     ]
    }
   ],
   "source": [
    "url= \"https://www.tutorialspoint.com/index.htm\" # jere we are storing the URL address\n",
    "print(\"The URL choosen is\", url)"
   ]
  },
  {
   "cell_type": "code",
   "execution_count": 9,
   "metadata": {},
   "outputs": [
    {
     "output_type": "stream",
     "name": "stdout",
     "text": [
      "<Response [200]>\n"
     ]
    }
   ],
   "source": [
    "req = requests.get(url)  # using request package we are obtaining the url address and stroing the request in req\n",
    "print(req)"
   ]
  },
  {
   "cell_type": "code",
   "execution_count": 15,
   "metadata": {},
   "outputs": [
    {
     "output_type": "execute_result",
     "data": {
      "text/plain": [
       "content-icons\">\n",
       "<a href=\"https://www.tutorialspoint.com/word/index.htm\"><img alt=\"Microsoft Word Tutorial\" src=\"https://www.tutorialspoint.com/images/microsoft-word.png\" title=\"Microsoft Word Tutorial\"/> <div>Microsoft Word</div></a>\n",
       "</div><div class=\"clear\"></div>\n",
       "<div class=\"tp-content-viewmore\">\n",
       "<a href=\"https://www.tutorialspoint.com/microsoft_technologies_tutorials.htm\"><i class=\"fa fa-external-link\"></i> view all</a>\n",
       "</div>\n",
       "</div>\n",
       "</div>\n",
       "<div class=\"mui-col-md-6 mui-col-sm-12 mui-col-xs-12\">\n",
       "<div class=\"tp-content-widget\">\n",
       "<h2><i class=\"fa fa-database\"></i> Big Data and Analytics</h2>\n",
       "<div class=\"mui-col-md-2 mui-col-sm-4 mui-col-xs-6 tp-content-icons\">\n",
       "<a href=\"https://www.tutorialspoint.com/big_data_analytics/index.htm\" target=\"_blank\"><img alt=\"Big-Data-Analytics Tutorial\" src=\"https://www.tutorialspoint.com/images/Big-Data-Analytics.png\" title=\"Big-Data-Analytics Tutorial\"/> <div>Big Data Analytics</div></a>\n",
       "</div>\n",
       "<div class=\"mui-col-md-2 mui-col-sm-4 mui-col-xs-6 tp-content-icons\">\n",
       "<a href=\"https://www.tutorialspoint.com/hadoop/index.htm\" target=\"_blank\"><img alt=\"hadoop plus Tutorial\" src=\"https://www.tutorialspoint.com/images/hadoop.png\" title=\"hadoop plus Tutorial\"/> <div>Hadoop</div></a>\n",
       "</div>\n",
       "<div class=\"mui-col-md-2 mui-col-sm-4 mui-col-xs-6 tp-content-icons\">\n",
       "<a href=\"https://www.tutorialspoint.com/sas/index.htm\" target=\"_blank\"><img alt=\"sas Tutorial\" src=\"https://www.tutorialspoint.com/images/sas.png\" title=\"sas Tutorial\"/> <div>SAS</div></a>\n",
       "</div>\n",
       "<div class=\"mui-col-md-2 mui-col-sm-4 mui-col-xs-6 tp-content-icons\">\n",
       "<a href=\"https://www.tutorialspoint.com/qlikview/index.htm\" target=\"_blank\"><img alt=\"QlikView Tutorial\" src=\"https://www.tutorialspoint.com/images/QlikView.png\" title=\"QlikView Tutorial\"/> <div>QlikView</div></a>\n",
       "</div>\n",
       "<div class=\"mui-col-md-2 mui-col-sm-4 mui-col-xs-6 tp-content-icons\">\n",
       "<a href=\"https://www.tutorialspoint.com/power_bi/index.htm\" target=\"_blank\"><img alt=\"Power BI Tutorial\" src=\"https://www.tutorialspoint.com/images/powerbi.png\" title=\"Power BI Tutorial\"/> <div>Power BI</div></a>\n",
       "</div>\n",
       "<div class=\"mui-col-md-2 mui-col-sm-4 mui-col-xs-6 tp-content-icons\"><a href=\"https://www.tutorialspoint.com/tableau/index.htm\" target=\"_blank\"><img alt=\"Tableau Tutorial\" src=\"https://www.tutorialspoint.com/images/Tableau.png\" title=\"Tableau Tutorial\"/> <div>Tableau</div></a></div>\n",
       "<div class=\"clear\"></div>\n",
       "<div class=\"tp-content-viewmore\"><a href=\"https://www.tutorialspoint.com/big_data_tutorials.htm\"><i class=\"fa fa-external-link\"></i> view all</a></div>\n",
       "</div>\n",
       "</div>\n",
       "<div class=\"mui-col-md-12 mui-col-sm-12 mui-col-xs-12 tp-browse-more\">\n",
       "<a href=\"https://www.tutorialspoint.com/tutorialslibrary.htm\" target=\"_blank\" title=\"Browse Complete Library\">   Browse Complete Library</a>\n",
       "</div>\n",
       "</div>\n",
       "<div class=\"clear\"></div>\n",
       "<div class=\"tp-coding-ground\">\n",
       "<div class=\"mui-container tp-home\" style=\"padding-left:0px; padding-right:0px;\">\n",
       "<h1><a href=\"https://www.tutorialspoint.com/codingground.htm\" target=\"_blank\" title=\"Coding Ground - Free Online IDE and Terminal\"><i class=\"fa fa-code\"></i> Coding <b>Ground</b></a></h1>\n",
       "<p>Coding Platform For Your Website <br>\n",
       "\t\t\t\tAvailable for <b>75+</b> Programming Languages</br></p>\n",
       "<a class=\"tp-coding-btn\" href=\"https://www.tutorialspoint.com/coding_platform_for_websites.htm\" target=\"_blank\" title=\"Coding Platform for Websites\">How it works?</a>\n",
       "</div>\n",
       "</div>\n",
       "<div class=\"mui-container tp-select-readings tp-home\">\n",
       "<h1><i class=\"fa fa-book-open\"></i> Selected <b>Reading</b></h1>\n",
       "<div class=\"mui-col-md-2 mui-col-sm-6 mui-col-xs-6\">\n",
       "<div class=\"select-reading-box\">\n",
       "<a href=\"https://www.tutorialspoint.com/developers_best_practices/index.htm\" title=\"Developer's Best Practices\">\n",
       "<img alt=\"Developer's Best Practices\" src=\"https://www.tutorialspoint.com/images/developers-best-practices.png\" title=\"Developer's Best Practices\"/>\n",
       "<div class=\"\">Developers <br><b>Best Practices</b></br></div></a>\n",
       "</div>\n",
       "</div>\n",
       "<div class=\"mui-col-md-2 mui-col-sm-6 mui-col-xs-6\">\n",
       "<div class=\"select-reading-box\">\n",
       "<a href=\"https://www.tutorialspoint.com/effective_resume_writing.htm\" title=\"Effective Resume Writing\">\n",
       "<img alt=\"Effective Resume Writing\" src=\"https://www.tutorialspoint.com/images/resume-writing.png\" title=\"Effective Resume Writing\"/>\n",
       "<div class=\"\">Effective <br><b>Resume Writing</b></br></div></a>\n",
       "</div>\n",
       "</div>\n",
       "<div class=\"mui-col-md-2 mui-col-sm-6 mui-col-xs-6\">\n",
       "<div class=\"select-reading-box\">\n",
       "<a href=\"https://www.tutorialspoint.com/computer_glossary.htm\" title=\"Computer Glossary\">\n",
       "<img alt=\"Computer Glossary\" src=\"https://www.tutorialspoint.com/images/computer-glossary.png\" title=\"Computer Glossary\"/>\n",
       "<div class=\"\">Computer <br><b>Glossary</b></br></div></a>\n",
       "</div>\n",
       "</div>\n",
       "<div class=\"mui-col-md-2 mui-col-sm-6 mui-col-xs-6\">\n",
       "<div class=\"select-reading-box\">\n",
       "<a href=\"https://www.tutorialspoint.com/computer_whoiswho.htm\" title=\"Who is Who in Computer\">\n",
       "<img alt=\"Who is Who in Computer\" src=\"https://www.tutorialspoint.com/images/who-is-who.png\" title=\"Who is Who in Computer\"/>\n",
       "<div class=\"\"><b>Who is Who</b> <br/>in Computer</div></a>\n",
       "</div>\n",
       "</div>\n",
       "<div class=\"mui-col-md-2 mui-col-sm-6 mui-col-xs-6\">\n",
       "<div class=\"select-reading-box\">\n",
       "<a href=\"https://www.tutorialspoint.com/questions_and_answers.htm\" title=\"Technical Questions and Answers\">\n",
       "<img alt=\"Technical Questions and Answers\" src=\"https://www.tutorialspoint.com/images/questions-answers.png\" title=\"Technical Questions and Answers\"/>\n",
       "<div class=\"\">Technical <br/><b>Q &amp; A</b></div></a>\n",
       "</div>\n",
       "</div>\n",
       "<div class=\"mui-col-md-2 mui-col-sm-6 mui-col-xs-6\">\n",
       "<div class=\"select-reading-box\">\n",
       "<a href=\"https://www.tutorialspoint.com/multi_language_tutorials.htm\" title=\"Multi-Lingual Tutorials\">\n",
       "<img alt=\"Multi-Lingual Tutorials\" src=\"https://www.tutorialspoint.com/images/multilanguage-tutorials.png\" title=\"Multi-Lingual Tutorials\"/>\n",
       "<div class=\"\"><b>Multi-Lingual</b> <br/>Tutorials</div></a>\n",
       "</div>\n",
       "</div>\n",
       "</div>\n",
       "<!-- End of Body Content -->\n",
       "<div class=\"footer-nav\">\n",
       "<div class=\"mui-container\">\n",
       "<div class=\"mui-col-md-3 mui-col-sm-6 mui-col-xs-6\">\n",
       "<h3>Mobile First</h3>\n",
       "<ul class=\"\">\n",
       "<li><a class=\"iphone\" href=\"https://itunes.apple.com/us/app/tutorials-point/id914891263?ls=1&amp;mt=8\" rel=\"nofollow\" target=\"_blank\"><img alt=\"tutorialspoint iPhone App\" class=\"mobile-apps\" src=\"https://www.tutorialspoint.com/images/apple_store.jpg\" title=\"tutorialspoint iPhone App\"/></a></li>\n",
       "<li><a class=\"android\" href=\"https://play.google.com/store/apps/details?id=com.tutorialspoint.onlineviewer\" rel=\"nofollow\" target=\"_blank\"><img alt=\"tutorialspoint Android app\" class=\"mobile-apps\" src=\"https://www.tutorialspoint.com/images/google_play.jpg\" title=\"tutorialspoint Android app\"/></a></li>\n",
       "<li><a class=\"microsoft\" href=\"http://www.windowsphone.com/s?appid=91249671-7184-4ad6-8a5f-d11847946b09\" rel=\"nofollow\" target=\"_blank\"><img alt=\"tutorialspoint Windows app\" class=\"mobile-apps\" src=\"https://www.tutorialspoint.com/images/windows_store.jpg\" title=\"tutorialspoint Windows app\"/></a></li>\n",
       "</ul>\n",
       "</div>\n",
       "<div class=\"mui-col-md-3 mui-col-sm-6 mui-col-xs-6\">\n",
       "<h3>About Us</h3>\n",
       "<ul class=\"\">\n",
       "<li><i class=\"fa fa-check\"></i> <a href=\"/about/index.htm\">Company</a></li>\n",
       "<li><i class=\"fa fa-check\"></i> <a href=\"/about/about_team.htm\">Our Team</a></li>\n",
       "<li><i class=\"fa fa-check\"></i> <a href=\"/about/about_careers.htm\">Careers</a></li>\n",
       "<li><i class=\"fa fa-check\"></i> <a href=\"/about/about_privacy.htm\">Privacy Policy</a></li>\n",
       "<li><i class=\"fa fa-check\"></i> <a href=\"/about/about_cookies.htm\">Cookies Policy</a></li>\n",
       "<li><i class=\"fa fa-check\"></i> <a href=\"/about/about_terms_of_use.htm\">Terms of use</a></li>\n",
       "<li><i class=\"fa fa-check\"></i> <a href=\"/about/return_refund_policy.htm\">Refund Policy</a></li>\n",
       "</ul>\n",
       "</div>\n",
       "<div class=\"mui-col-md-3 mui-col-sm-6 mui-col-xs-6 foot-clear\">\n",
       "<h3>Extra Links</h3>\n",
       "<ul class=\"\">\n",
       "<li><i class=\"fa fa-check\"></i> <a href=\"https://www.tutorialspoint.com/online_dev_tools.htm\">Dev Tools</a></li>\n",
       "<li><i class=\"fa fa-check\"></i> <a href=\"https://www.tutorialspoint.com/free_web_graphics.htm\">Free Graphics</a></li>\n",
       "<li><i class=\"fa fa-check\"></i> <a href=\"https://www.tutorialspoint.com/online_file_conversion.htm\">File Conversion</a></li>\n",
       "<li><i class=\"fa fa-check\"></i> <a href=\"https://www.tutorialspoint.com/netmeeting.php\">NetMeeting</a></li>\n",
       "<li><i class=\"fa fa-check\"></i> <a href=\"https://www.tutorialspoint.com/free_online_whiteboard.htm\">Whiteboard</a></li>\n",
       "</ul>\n",
       "</div>\n",
       "<div class=\"mui-col-md-3 mui-col-sm-6 mui-col-xs-6\">\n",
       "<h3>Contact Us</h3>\n",
       "<ul>\n",
       "<li><p><i class=\"icon icon-map-marker\"></i> <strong>Address:</strong> 4th Floor, Incor9 Building, Kavuri Hills, Madhapur, Hyderabad, Telangana 500081</p></li>\n",
       "<li><p><i class=\"icon icon-dribbble\"></i> <strong>Website:</strong> <a href=\"http://www.tutorialspoint.com\">www.tutorialspoint.com</a></p></li>\n",
       "</ul>\n",
       "</div>\n",
       "</div>\n",
       "</div>\n",
       "<div class=\"footer-copyright\">\n",
       "<div class=\"mui-container tp-footer-social-links\">\n",
       "<div class=\"\">\n",
       "<div class=\"mui-col-md-4\">\n",
       "<h3>Follow</h3>\n",
       "<a class=\"facebook\" href=\"https://www.facebook.com/tutorialspointindia\" rel=\"nofollow\" target=\"_blank\" title=\"Follow us on Facebook\"><i class=\"fa fa-facebook-f\"></i> </a>\n",
       "<a class=\"google\" href=\"https://plus.google.com/u/0/+tutorialspoint\" rel=\"nofollow\" target=\"_blank\" title=\"Follow us on Google+\"><i class=\"fa fa-google-plus-g\"></i> </a>\n",
       "<a class=\"twitter\" href=\"http://www.twitter.com/tutorialspoint\" rel=\"nofollow\" target=\"_blank\" title=\"Follow us on Twitter\"><i class=\"fa fa-twitter\"></i> </a>\n",
       "<a class=\"linkedin\" href=\"http://www.linkedin.com/company/tutorialspoint\" rel=\"nofollow\" target=\"_blank\" title=\"Follow us on Linkedin\"><i class=\"fa fa-linkedin-in\"></i> </a>\n",
       "<a class=\"linkedin\" href=\"https://www.youtube.com/channel/UCVLbzhxVTiTLiVKeGV7WEBg\" rel=\"nofollow\" target=\"_blank\" title=\"Follow us on Youtube\"><i class=\"fa fa-youtube\"></i> </a>\n",
       "</div>\n",
       "<div class=\"mui-col-md-4\">\n",
       "<a class=\"logo\" href=\"https://www.tutorialspoint.com/index.htm\"><img alt=\"Tutorials Point\" class=\"img-responsive\" src=\"/scripts/img/logo-footer.png\" title=\"Tutorials Point\"/></a>\n",
       "<p><span>© Copyright 2021. All Rights Reserved.</span></p>\n",
       "</div>\n",
       "<div class=\"mui-col-md-4 news-group\">\n",
       "<h3 style=\"padding:0px 0px 0px 0px;\">Newsletter</h3>\n",
       "<div class=\"\">\n",
       "<input autocomplete=\"off\" class=\"form-control-foot search\" id=\"textemail\" name=\"textemail\" onblur=\"if (this.value == '') {this.value = 'Enter email for newsletter...'; }\" onfocus=\"if (this.value == 'Enter email for newsletter...') { this.value = ''; }\" placeholder=\"Enter email for newsletter\" type=\"text\"/>\n",
       "<span class=\"input_group_button\"> <button class=\"btn btn-default btn-footer\" id=\"btnemail\" onclick=\"javascript:void(0);\" type=\"submit\">go</button> </span>\n",
       "<div id=\"newsresponse\" style=\"display:none;\"></div>\n",
       "</div>\n",
       "<ul>\n",
       "<li><a href=\"/about/about_privacy.htm#cookies\"><i class=\"fa fa-globe\"></i> Cookies Policy</a></li>\n",
       "<li><a href=\"/about/faq.htm\"><i class=\"fa fa-question-circle\"></i> FAQ's</a></li>\n",
       "<li><a href=\"/about/about_helping.htm\"><i class=\"fa fa-hands-helping\"></i> Helping</a></li>\n",
       "<li><a href=\"/about/contact_us.htm\"><i class=\"fa fa-user\"></i> Contact</a></li>\n",
       "</ul>\n",
       "</div>\n",
       "</div>\n",
       "</div>\n",
       "</div>\n",
       "<!-- Global site tag (gtag.js) - Google Analytics -->\n",
       "<script src=\"https://www.tutorialspoint.com/themes/js/home.js\"></script>\n",
       "<script async=\"\" src=\"https://www.googletagmanager.com/gtag/js?id=UA-232293-17\"></script>\n",
       "<script src=\"https://origin.tutorix.com/js/slick.min.js\"></script>\n",
       "<script>\n",
       "                  function getQueryVariable(variable) {\n",
       "                      var query = window.location.search.substring(1);\n",
       "                      var vars = query.split('&');\n",
       "                      for (var i = 0; i < vars.length; i++) {\n",
       "                          var pair = vars[i].split('=');\n",
       "                          if (decodeURIComponent(pair[0]) == variable) {\n",
       "                              return decodeURIComponent(pair[1]);\n",
       "                          }\n",
       "                      }\n",
       "                      return null;\n",
       "                  }\n",
       "\t\t\t$(document).ready(function(){\t\t \n",
       "                                 var utm_source = getQueryVariable( \"utm_source\" );\n",
       "                                 var utm_content = getQueryVariable( \"utm_content\" );\n",
       "                                 var utm_medium = getQueryVariable( \"utm_medium\" );\n",
       "\n",
       "                                 if( utm_source && utm_content ){\n",
       "                                     var date = new Date();\n",
       "                                     date.setTime(date.getTime() + (15*24*60*60*1000));\n",
       "                                     expires = \"; expires=\" + date.toUTCString();\n",
       "                                     document.cookie = \"utm_source\" + \"=\" + (utm_source || \"\")  + expires + \"; path=/\";\n",
       "                                     document.cookie = \"utm_content\" + \"=\" + (utm_content || \"\")  + expires + \"; path=/\";\n",
       "                                     document.cookie = \"utm_medium\" + \"=\" + (utm_medium || \"\")  + expires + \"; path=/\";\n",
       "                                 }\n",
       "\n",
       "\t\t\t\t$('.multiple-items, .multiple-items-1, .multiple-items-2, .multiple-items-3').slick({\n",
       "\t\t\t\t\tinfinite: false,\n",
       "\t\t\t\t\tslidesToShow: 5,\n",
       "\t\t\t\t\tslidesToScroll: 5,\n",
       "\t\t\t\t\tresponsive: [    \n",
       "\t\t\t\t\t{\n",
       "\t\t\t\t\t\tbreakpoint: 600,\n",
       "\t\t\t\t\t\tsettings: {\n",
       "\t\t\t\t\t\t\tslidesToShow: 2,\n",
       "\t\t\t\t\t\t\tslidesToScroll: 2\n",
       "\t\t\t\t\t\t}\n",
       "\t\t\t\t\t},\n",
       "\t\t\t\t\t{\n",
       "\t\t\t\t\t\tbreakpoint: 480,\n",
       "\t\t\t\t\t\tsettings: {\n",
       "\t\t\t\t\t\t\tslidesToShow: 1,\n",
       "\t\t\t\t\t\t\tslidesToScroll: 1\n",
       "\t\t\t\t\t\t}\n",
       "\t\t\t\t\t}\n",
       "\t\t\t\t\t\n",
       "\t\t\t\t\t]\n",
       "\t\t\t\t});\n",
       "\t\t\t\t\n",
       "\t\t\t\t\n",
       "\t\t\t});\n",
       "\t\t\t$('.mui-tabs__bar>li').click(function (){\n",
       "\t\t\t\t$('.mui-tabs__pane.inactive .slick-track').css('width','2340px');\n",
       "\t\t\t\t$('.mui-tabs__pane.inactive .slick-track .multiple').css('width','228px');\n",
       "\t\t\t});\t\n",
       "\t\t</script>\n",
       "<script>\n",
       "\t\t\twindow.dataLayer = window.dataLayer || [];\n",
       "\t\t\tfunction gtag(){dataLayer.push(arguments);}\n",
       "\t\t\tgtag('js', new Date());\n",
       "\t\t\tgtag('config', 'UA-232293-6');\n",
       "\t\t</script>\n",
       "<script>\n",
       "\t\t\t\n",
       "\t\t\tvar start_from_1 = 0;\n",
       "\t\t\tvar start_from_2 = 0;\n",
       "\t\t\tvar start_from_3 = 0;\n",
       "\t\t\t$(document).ready(function(){\n",
       "\t\t\t\tvar cid = $('.mui-tabs__bar li').find('a').data('cid');\n",
       "\t\t\t\t$('.mui-tabs__bar_1 li').click(function (){\n",
       "\t\t\t\t\tvar cid = $(this).find('a').data('cid');\n",
       "\t\t\t\t\tstart_from_1 = 0;\n",
       "\t\t\t\t\tgetIndexSliderDetails(cid,'L');\n",
       "\t\t\t\t\t$('.mui-tabs__bar_1 li').removeClass('mui--is-active');\n",
       "\t\t\t\t\t$(this).addClass('mui--is-active');\n",
       "\t\t\t\t});\n",
       "\t\t\t\t$('.mui-tabs__bar_2 li').click(function (){\n",
       "\t\t\t\t\tvar cid = $(this).find('a').data('cid');\n",
       "\t\t\t\t\tstart_from_2 = 0;\n",
       "\t\t\t\t\tgetIndexSliderDetails(cid,'F');\n",
       "\t\t\t\t\t$('.mui-tabs__bar_2 li').removeClass('mui--is-active');\n",
       "\t\t\t\t\t$(this).addClass('mui--is-active');\n",
       "\t\t\t\t});\n",
       "\t\t\t\t$('.mui-tabs__bar_3 li').click(function (){\n",
       "\t\t\t\t\tvar cid = $(this).find('a').data('cid');\n",
       "\t\t\t\t\tstart_from_3 = 0;\n",
       "\t\t\t\t\tgetIndexSliderDetails(cid,'T');\n",
       "\t\t\t\t\t$('.mui-tabs__bar_3 li').removeClass('mui--is-active');\n",
       "\t\t\t\t\t$(this).addClass('mui--is-active');\n",
       "\t\t\t\t});\n",
       "\t\t\t\t\n",
       "\t\t\t\t$('#pane-justified-1 button.slick-next').click(function (){\n",
       "\t\t\t\t\tvar cid = $('.mui-tabs__bar_1 li.mui--is-active').find('a').data('cid');\n",
       "\t\t\t\t\tvar ctype = $('.mui-tabs__bar_1 li.mui--is-active').find('a').data('ctype');\n",
       "\t\t\t\t\tstart_from_1 = +start_from_1 + +5;\n",
       "\t\t\t\t\tgetIndexSliderDetails(cid, ctype);\n",
       "\t\t\t\t});\n",
       "\t\t\t\t\n",
       "\t\t\t\t$('#pane-justified-2 button.slick-next').click(function (){\n",
       "\t\t\t\t\tvar cid = $('.mui-tabs__bar_2 li.mui--is-active').find('a').data('cid');\n",
       "\t\t\t\t\tvar ctype = $('.mui-tabs__bar_2 li.mui--is-active').find('a').data('ctype');\n",
       "\t\t\t\t\tstart_from_2 = +start_from_2 + +5;\n",
       "\t\t\t\t\tgetIndexSliderDetails(cid, ctype);\n",
       "\t\t\t\t});\n",
       "\t\t\t\t\n",
       "\t\t\t\t$('#pane-justified-3 button.slick-next').click(function (){\n",
       "\t\t\t\t\tvar cid = $('.mui-tabs__bar_3 li.mui--is-active').find('a').data('cid');\n",
       "\t\t\t\t\tvar ctype = $('.mui-tabs__bar_3 li.mui--is-active').find('a').data('ctype');\n",
       "\t\t\t\t\tstart_from_3 = +start_from_3 + +5;\n",
       "\t\t\t\t\tgetIndexSliderDetails(cid, ctype);\n",
       "\t\t\t\t});\n",
       "\t\t\t\t\n",
       "\t\t\t});\n",
       "\t\t\t\n",
       "\t\t\tvideobaseurl = \"https://www.tutorialspoint.com\";\n",
       "\t\t\tfunction getIndexSliderDetails(cid, ctype){\n",
       "\t\t\t\tif(ctype == 'L'){\n",
       "\t\t\t\t\tstart_from = start_from_1;\n",
       "\t\t\t\t}\n",
       "\t\t\t\tif(ctype == 'F'){\n",
       "\t\t\t\t\tstart_from = start_from_2;\n",
       "\t\t\t\t}\n",
       "\t\t\t\tif(ctype == 'T'){\n",
       "\t\t\t\t\tstart_from = start_from_3;\n",
       "\t\t\t\t}\n",
       "\t\t\t\t$.ajax({\n",
       "\t\t\t\t\turl: videobaseurl + \"/slider.php\",\n",
       "\t\t\t\t\tmethod: \"POST\",\n",
       "\t\t\t\t\tdata: {\"flag\":\"get_index_slider_details\", \"cid\":cid, \"course_type\":ctype, \"start_from\": start_from},     \n",
       "\t\t\t\t\t}).done(function (data) {\n",
       "\t\t\t\t\tvar pane_justified = '';\n",
       "\t\t\t\t\tvar multiple_items = '';\n",
       "\t\t\t\t\tvar tabs__bar = '';\n",
       "\t\t\t\t\tvar next_btn = '';\n",
       "\t\t\t\t\tvar prev_btn = '';\n",
       "\t\t\t\t\tvar slider = '';\n",
       "\t\t\t\t\tvar slider_btn = '';\n",
       "\t\t\t\t\t\n",
       "\t\t\t\t\tif(ctype == 'L'){\n",
       "\t\t\t\t\t\tpane_justified = '#pane-justified-1';\n",
       "\t\t\t\t\t\tmultiple_items = '.multiple-items-1';\n",
       "\t\t\t\t\t\ttabs__bar = '.mui-tabs__bar_1 li.mui--is-active';\n",
       "\t\t\t\t\t\tnext_btn = '#pane-justified-1 button.slick-next';\n",
       "\t\t\t\t\t\tprev_btn = '#pane-justified-1 button.slick-prev';\n",
       "\t\t\t\t\t\tslider = '#pane-justified-1 .slider .multiple.item';\n",
       "\t\t\t\t\t\tslider_btn = '#pane-justified-1 .slider .slick-next';\n",
       "\t\t\t\t\t}\n",
       "\t\t\t\t\tif(ctype == 'F'){\n",
       "\t\t\t\t\t\tpane_justified = '#pane-justified-2';\n",
       "\t\t\t\t\t\tmultiple_items = '.multiple-items-2';\n",
       "\t\t\t\t\t\ttabs__bar = '.mui-tabs__bar_2 li.mui--is-active';\n",
       "\t\t\t\t\t\tnext_btn = '#pane-justified-2 button.slick-next';\n",
       "\t\t\t\t\t\tprev_btn = '#pane-justified-2 button.slick-prev';\n",
       "\t\t\t\t\t\tslider = '#pane-justified-2 .slider .multiple.item';\n",
       "\t\t\t\t\t\tslider_btn = '#pane-justified-2 .slider .slick-next';\n",
       "\t\t\t\t\t}\n",
       "\t\t\t\t\tif(ctype == 'T'){\n",
       "\t\t\t\t\t\tpane_justified = '#pane-justified-3';\n",
       "\t\t\t\t\t\tmultiple_items = '.multiple-items-3';\n",
       "\t\t\t\t\t\ttabs__bar = '.mui-tabs__bar_3 li.mui--is-active';\n",
       "\t\t\t\t\t\tnext_btn = '#pane-justified-3 button.slick-next';\n",
       "\t\t\t\t\t\tprev_btn = '#pane-justified-3 button.slick-prev';\n",
       "\t\t\t\t\t\tslider = '#pane-justified-3 .slider .multiple.item';\n",
       "\t\t\t\t\t\tslider_btn = '#pane-justified-3 .slider .slick-next';\n",
       "\t\t\t\t\t}\n",
       "\t\t\t\t\t$(pane_justified).html(data);\n",
       "\t\t\t\t\t$(multiple_items).slick({\n",
       "\t\t\t\t\t\tinfinite: false,\n",
       "\t\t\t\t\t\tslidesToShow: 5,\n",
       "\t\t\t\t\t\tslidesToScroll: 5,\n",
       "\t\t\t\t\t\tresponsive: [    \n",
       "\t\t\t\t\t\t{\n",
       "\t\t\t\t\t\t\tbreakpoint: 600,\n",
       "\t\t\t\t\t\t\tsettings: {\n",
       "\t\t\t\t\t\t\t\tslidesToShow: 2,\n",
       "\t\t\t\t\t\t\t\tslidesToScroll: 2\n",
       "\t\t\t\t\t\t\t}\n",
       "\t\t\t\t\t\t},\n",
       "\t\t\t\t\t\t{\n",
       "\t\t\t\t\t\t\tbreakpoint: 480,\n",
       "\t\t\t\t\t\t\tsettings: {\n",
       "\t\t\t\t\t\t\t\tslidesToShow: 2,\n",
       "\t\t\t\t\t\t\t\tslidesToScroll: 1\n",
       "\t\t\t\t\t\t\t}\n",
       "\t\t\t\t\t\t}\n",
       "\t\t\t\t\t\t]\n",
       "\t\t\t\t\t});\n",
       "\t\t\t\t\tif(ctype == 'L'){\n",
       "\t\t\t\t\t\t$(next_btn).click(function (){\n",
       "\t\t\t\t\t\t\tvar cid = $(tabs__bar).find('a').data('cid');\n",
       "\t\t\t\t\t\t\tvar ctype = $(tabs__bar).find('a').data('ctype');\n",
       "\t\t\t\t\t\t\tstart_from_1 = +start_from_1 + +5;\n",
       "\t\t\t\t\t\t\tgetIndexSliderDetails(cid, ctype)\n",
       "\t\t\t\t\t\t});\n",
       "\t\t\t\t\t\t$(prev_btn).click(function (){\n",
       "\t\t\t\t\t\t\tvar cid = $(tabs__bar).find('a').data('cid');\n",
       "\t\t\t\t\t\t\tvar ctype = $(tabs__bar).find('a').data('ctype');\n",
       "\t\t\t\t\t\t\tstart_from_1 = +start_from_1 - +5;\n",
       "\t\t\t\t\t\t\tif(start_from_1 < 0){\n",
       "\t\t\t\t\t\t\t\tstart_from_1 = 0;\n",
       "\t\t\t\t\t\t\t}\n",
       "\t\t\t\t\t\t\tgetIndexSliderDetails(cid, ctype)\n",
       "\t\t\t\t\t\t});\n",
       "\t\t\t\t\t}\n",
       "\t\t\t\t\t\n",
       "\t\t\t\t\tif(ctype == 'F'){\n",
       "\t\t\t\t\t\t$(next_btn).click(function (){\n",
       "\t\t\t\t\t\t\tvar cid = $(tabs__bar).find('a').data('cid');\n",
       "\t\t\t\t\t\t\tvar ctype = $(tabs__bar).find('a').data('ctype');\n",
       "\t\t\t\t\t\t\tstart_from_2 = +start_from_2 + +5;\n",
       "\t\t\t\t\t\t\tgetIndexSliderDetails(cid, ctype)\n",
       "\t\t\t\t\t\t});\n",
       "\t\t\t\t\t\t$(prev_btn).click(function (){\n",
       "\t\t\t\t\t\t\tvar cid = $(tabs__bar).find('a').data('cid');\n",
       "\t\t\t\t\t\t\tvar ctype = $(tabs__bar).find('a').data('ctype');\n",
       "\t\t\t\t\t\t\tstart_from_2 = +start_from_2 - +5;\n",
       "\t\t\t\t\t\t\tif(start_from_2 < 0){\n",
       "\t\t\t\t\t\t\t\tstart_from_2 = 0;\n",
       "\t\t\t\t\t\t\t}\n",
       "\t\t\t\t\t\t\tgetIndexSliderDetails(cid, ctype)\n",
       "\t\t\t\t\t\t});\n",
       "\t\t\t\t\t}\n",
       "\t\t\t\t\t\n",
       "\t\t\t\t\tif(ctype == 'T'){\n",
       "\t\t\t\t\t\t$(next_btn).click(function (){\n",
       "\t\t\t\t\t\t\tvar cid = $(tabs__bar).find('a').data('cid');\n",
       "\t\t\t\t\t\t\tvar ctype = $(tabs__bar).find('a').data('ctype');\n",
       "\t\t\t\t\t\t\tstart_from_3 = +start_from_3 + +5;\n",
       "\t\t\t\t\t\t\tgetIndexSliderDetails(cid, ctype)\n",
       "\t\t\t\t\t\t});\n",
       "\t\t\t\t\t\t$(prev_btn).click(function (){\n",
       "\t\t\t\t\t\t\tvar cid = $(tabs__bar).find('a').data('cid');\n",
       "\t\t\t\t\t\t\tvar ctype = $(tabs__bar).find('a').data('ctype');\n",
       "\t\t\t\t\t\t\tstart_from_3 = +start_from_3 - +5;\n",
       "\t\t\t\t\t\t\tif(start_from_3 < 0){\n",
       "\t\t\t\t\t\t\t\tstart_from_3 = 0;\n",
       "\t\t\t\t\t\t\t}\n",
       "\t\t\t\t\t\t\tgetIndexSliderDetails(cid, ctype)\n",
       "\t\t\t\t\t\t});\n",
       "\t\t\t\t\t}\n",
       "\t\t\t\t\tvar numItems = $(slider).length;\n",
       "\t\t\t\t\tif(numItems <= 6){\n",
       "\t\t\t\t\t\t$(slider_btn).css('display','none');\n",
       "\t\t\t\t\t\t}else{\n",
       "\t\t\t\t\t\t$(slider_btn).css('display','block');\n",
       "\t\t\t\t\t}\n",
       "\t\t\t\t\tstart_from = (+start_from + +5);\n",
       "\t\t\t\t});\n",
       "\t\t\t}\n",
       "\t\t</script>\n",
       "</body>\n",
       "</html>\n",
       ">"
      ]
     },
     "metadata": {},
     "execution_count": 15
    }
   ],
   "source": [
    "soup_var = soup(req.text, \"html.parser\") # here we are taking the url request req in form of .text to an HTML parser. In simple, we are converting an text based url information into a HTML parser\n",
    "soup_var.prettify"
   ]
  },
  {
   "cell_type": "code",
   "execution_count": 26,
   "metadata": {
    "tags": []
   },
   "outputs": [
    {
     "output_type": "stream",
     "name": "stdout",
     "text": [
      "<title>RxJS, ggplot2, Python Data Persistence, Caffe2, PyBrain, Python Data Access, H2O, Colab, Theano, Flutter, KNime, Mean.js, Weka, Solidity</title>\n"
     ]
    }
   ],
   "source": [
    "print(soup_var.title) # basically here we ae trying to extract the title tag from the above stored HTML data"
   ]
  },
  {
   "cell_type": "code",
   "execution_count": 27,
   "metadata": {},
   "outputs": [
    {
     "output_type": "stream",
     "name": "stdout",
     "text": [
      "https://www.tutorialspoint.com/index.htm\nhttps://www.tutorialspoint.com/about/about_careers.htm\nhttps://www.tutorialspoint.com/questions/index.php\nhttps://www.tutorialspoint.com/online_dev_tools.htm\nhttps://www.tutorialspoint.com/codingground.htm\nhttps://www.tutorialspoint.com/upsc_ias_exams.htm\nhttps://www.tutorialspoint.com/whiteboard.htm\nhttps://www.tutorix.com\nhttps://www.tutorialspoint.com/videotutorials/login.php\nhttps://www.tutorialspoint.com/index.htm\nhttps://www.tutorialspoint.com/tutorialslibrary.htm\nhttps://www.tutorialspoint.com/videotutorials/index.php\nhttps://store.tutorialspoint.com\nhttps://www.tutorialspoint.com/gate_exams_tutorials.htm\nvideotutorials/subscription.php\nhttps://www.tutorix.com/buy-activation.php\nhttps://www.tutorialspoint.com/videotutorials/latest-courses.php\nNone\nNone\nNone\nNone\nNone\nNone\nNone\nhttps://www.tutorialspoint.com/angular_8_full_stack_development_with_spring_boot/index.asp\nhttps://www.tutorialspoint.com/angular_8_full_stack_development_with_spring_boot/index.asp\nhttps://www.tutorialspoint.com/videotutorials/profile/senol_atac\nhttps://www.tutorialspoint.com/learn_java_programming_for_beginners_in_250_easy_steps/index.asp\nhttps://www.tutorialspoint.com/learn_java_programming_for_beginners_in_250_easy_steps/index.asp\nhttps://www.tutorialspoint.com/videotutorials/profile/in28minutes_official\nhttps://www.tutorialspoint.com/mastering_pl_sql/index.asp\nhttps://www.tutorialspoint.com/mastering_pl_sql/index.asp\nhttps://www.tutorialspoint.com/videotutorials/profile/parteek_kumar\nhttps://www.tutorialspoint.com/master_spring_and_angular_material_with_a_full_web_application/index.asp\nhttps://www.tutorialspoint.com/master_spring_and_angular_material_with_a_full_web_application/index.asp\nhttps://www.tutorialspoint.com/videotutorials/profile/ali_bouali\nhttps://www.tutorialspoint.com/basics_of_chash_a_beginnerandhash039_s_guide_to_understanding_syntax/index.asp\nhttps://www.tutorialspoint.com/basics_of_chash_a_beginnerandhash039_s_guide_to_understanding_syntax/index.asp\nhttps://www.tutorialspoint.com/videotutorials/profile/sandeep_soni\nhttps://www.tutorialspoint.com/the_python_workshop_for_beginners/index.asp\nhttps://www.tutorialspoint.com/the_python_workshop_for_beginners/index.asp\nhttps://www.tutorialspoint.com/videotutorials/profile/thulani_mngadi\nhttps://www.tutorialspoint.com/three_js_and_typescript/index.asp\nhttps://www.tutorialspoint.com/three_js_and_typescript/index.asp\nhttps://www.tutorialspoint.com/videotutorials/profile/sean_bradley\nhttps://www.tutorialspoint.com/postman/index.asp\nhttps://www.tutorialspoint.com/postman/index.asp\nhttps://www.tutorialspoint.com/videotutorials/profile/taurius_litvinavicius\nhttps://www.tutorialspoint.com/build_an_e_learning_platform_using_wix_with_no_coding/index.asp\nhttps://www.tutorialspoint.com/build_an_e_learning_platform_using_wix_with_no_coding/index.asp\nhttps://www.tutorialspoint.com/videotutorials/profile/amine_mokhtari\nhttps://www.tutorialspoint.com/hands_on_keras_for_machine_learning_engineers/index.asp\nhttps://www.tutorialspoint.com/hands_on_keras_for_machine_learning_engineers/index.asp\nhttps://www.tutorialspoint.com/videotutorials/profile/mike_west\nhttps://www.tutorialspoint.com/videotutorials/latest-courses.php\nhttps://www.tutorialspoint.com/videotutorials/top-courses.php\n#tab2\n#tab8\n#tab1\n#tab3\n#tab4\n#tab5\n#tab6\n#tab7\nhttps://www.tutorialspoint.com/cplusplus_online_training/index.asp\nhttps://www.tutorialspoint.com/cplusplus_online_training/index.asp\nhttps://www.tutorialspoint.com/videotutorials/profile/Arnab-Chakraborty\nhttps://www.tutorialspoint.com/python_online_training/index.asp\nhttps://www.tutorialspoint.com/python_online_training/index.asp\nhttps://www.tutorialspoint.com/videotutorials/profile/malhar_lathkar\nhttps://www.tutorialspoint.com/the_full_stack_web_development/index.asp\nhttps://www.tutorialspoint.com/the_full_stack_web_development/index.asp\nhttps://www.tutorialspoint.com/videotutorials/profile/eduonix_learning_solutions\nhttps://www.tutorialspoint.com/python_bootcamp_2020_build_15_working_applications_and_games/index.asp\nhttps://www.tutorialspoint.com/python_bootcamp_2020_build_15_working_applications_and_games/index.asp\nhttps://www.tutorialspoint.com/videotutorials/profile/frahaan_hussain\nhttps://www.tutorialspoint.com/android_retrofit_complete_course_in_kotlin/index.asp\nhttps://www.tutorialspoint.com/android_retrofit_complete_course_in_kotlin/index.asp\nhttps://www.tutorialspoint.com/videotutorials/profile/catalin_stefan\nhttps://www.tutorialspoint.com/the_complete_python_3_course_beginner_to_advanced/index.asp\nhttps://www.tutorialspoint.com/the_complete_python_3_course_beginner_to_advanced/index.asp\nhttps://www.tutorialspoint.com/videotutorials/profile/joseph_delgadillo\nhttps://www.tutorialspoint.com/complete_modern_cplusplus/index.asp\nhttps://www.tutorialspoint.com/complete_modern_cplusplus/index.asp\nhttps://www.tutorialspoint.com/videotutorials/profile/umar_lone\nhttps://www.tutorialspoint.com/chrome_devtools_introduction_2020_web_developers_guide/index.asp\nhttps://www.tutorialspoint.com/chrome_devtools_introduction_2020_web_developers_guide/index.asp\nhttps://www.tutorialspoint.com/videotutorials/profile/laurence_svekis\nhttps://www.tutorialspoint.com/shell_scripting_discover_how_to_automate_command_line_tasks/index.asp\nhttps://www.tutorialspoint.com/shell_scripting_discover_how_to_automate_command_line_tasks/index.asp\nhttps://www.tutorialspoint.com/videotutorials/profile/jason_cannon\nhttps://www.tutorialspoint.com/python_programming_learn_python_with_100plus_practicals/index.asp\nhttps://www.tutorialspoint.com/python_programming_learn_python_with_100plus_practicals/index.asp\nhttps://www.tutorialspoint.com/videotutorials/profile/sunil_academy\nhttps://www.tutorialspoint.com/videotutorials/top-courses.php\nhttps://www.tutorialspoint.com/videotutorials/featured-courses.php\n#tab2\n#tab8\n#tab1\n#tab3\n#tab4\n#tab5\n#tab6\n#tab7\nhttps://www.tutorialspoint.com/the_full_stack_web_development/index.asp\nhttps://www.tutorialspoint.com/the_full_stack_web_development/index.asp\nhttps://www.tutorialspoint.com/videotutorials/profile/eduonix_learning_solutions\nhttps://www.tutorialspoint.com/full_stack_java_developer_java_plus_jsp_plus_restful_ws_plus_spring/index.asp\nhttps://www.tutorialspoint.com/full_stack_java_developer_java_plus_jsp_plus_restful_ws_plus_spring/index.asp\nhttps://www.tutorialspoint.com/videotutorials/profile/chaand_sheikh\nhttps://www.tutorialspoint.com/selenium_webdriver_with_java_novice_to_ninja_plus_interview/index.asp\nhttps://www.tutorialspoint.com/selenium_webdriver_with_java_novice_to_ninja_plus_interview/index.asp\nhttps://www.tutorialspoint.com/videotutorials/profile/lets_kode_it\nhttps://www.tutorialspoint.com/python_bootcamp_2020_build_15_working_applications_and_games/index.asp\nhttps://www.tutorialspoint.com/python_bootcamp_2020_build_15_working_applications_and_games/index.asp\nhttps://www.tutorialspoint.com/videotutorials/profile/frahaan_hussain\nhttps://www.tutorialspoint.com/end_to_end_asp_net_core_3_1_api_and_blazor_development/index.asp\nhttps://www.tutorialspoint.com/end_to_end_asp_net_core_3_1_api_and_blazor_development/index.asp\nhttps://www.tutorialspoint.com/videotutorials/profile/trevoir_williams\nhttps://www.tutorialspoint.com/the_complete_front_end_web_development_course/index.asp\nhttps://www.tutorialspoint.com/the_complete_front_end_web_development_course/index.asp\nhttps://www.tutorialspoint.com/videotutorials/profile/joseph_delgadillo\nhttps://www.tutorialspoint.com/python_for_beginners_learn_python_programming_python_3/index.asp\nhttps://www.tutorialspoint.com/python_for_beginners_learn_python_programming_python_3/index.asp\nhttps://www.tutorialspoint.com/videotutorials/profile/jason_cannon\nhttps://www.tutorialspoint.com/the_ultimate_html_developer_2020_edition/index.asp\nhttps://www.tutorialspoint.com/the_ultimate_html_developer_2020_edition/index.asp\nhttps://www.tutorialspoint.com/videotutorials/profile/kalob_taulien\nhttps://www.tutorialspoint.com/python_online_training/index.asp\nhttps://www.tutorialspoint.com/python_online_training/index.asp\nhttps://www.tutorialspoint.com/videotutorials/profile/malhar_lathkar\nhttps://www.tutorialspoint.com/learn_python_programming_in_100_easy_steps/index.asp\nhttps://www.tutorialspoint.com/learn_python_programming_in_100_easy_steps/index.asp\nhttps://www.tutorialspoint.com/videotutorials/profile/in28minutes_official\nhttps://www.tutorialspoint.com/videotutorials/featured-courses.php\nhttps://www.tutorialspoint.com/videotutorials/index.php\nhttps://www.tutorialspoint.com/videotutorials/profile/prof_paul_cline_ed_d\nhttps://www.tutorialspoint.com/videotutorials/profile/blair_cook\nhttps://www.tutorialspoint.com/videotutorials/profile/syed_raza\nhttps://www.tutorialspoint.com/videotutorials/profile/abhilash_nelson\nhttps://www.tutorialspoint.com/videotutorials/profile/frahaan_hussain\nhttps://www.tutorialspoint.com/videotutorials/profile/digifisk_programming_is_fun\nhttps://www.tutorialspoint.com/videotutorials/profile/Pavan-Lalwani\nhttps://www.tutorialspoint.com/videotutorials/profile/eduonix_learning_solutions\nhttps://www.tutorialspoint.com/videotutorials/profile/lets_kode_it\nhttps://www.tutorialspoint.com/videotutorials/profile/senol_atac\nhttps://www.tutorialspoint.com/videotutorials/profile/inf_sid\nhttps://www.tutorialspoint.com/tutorialslibrary.htm\nhttps://www.tutorialspoint.com/bitcoin/index.htm\nhttps://www.tutorialspoint.com/blockchain/index.htm\nhttps://www.tutorialspoint.com/blue_prism/index.htm\nhttps://www.tutorialspoint.com/ethereum/index.htm\nhttps://www.tutorialspoint.com/openshift/index.htm\nhttps://www.tutorialspoint.com/python_blockchain/index.htm\nhttps://www.tutorialspoint.com/latest_technologies.htm\nhttps://www.tutorialspoint.com/machine_learning/index.htm\nhttps://www.tutorialspoint.com/tensorflow/index.htm\nhttps://www.tutorialspoint.com/machine_learning_with_python/index.htm\nhttps://www.tutorialspoint.com/artificial_intelligence_with_python/index.htm\nhttps://www.tutorialspoint.com/time_series/index.htm\nhttps://www.tutorialspoint.com/pytorch/index.htm\nhttps://www.tutorialspoint.com/machine_learning_tutorials.htm\nhttps://www.tutorialspoint.com/computer_fundamentals/index.htm\nhttps://www.tutorialspoint.com/compiler_design/index.htm\nhttps://www.tutorialspoint.com/operating_system/index.htm\nhttps://www.tutorialspoint.com/data_structures_algorithms/index.htm\nhttps://www.tutorialspoint.com/dbms/index.htm\nhttps://www.tutorialspoint.com/data_communication_computer_network/index.htm\nhttps://www.tutorialspoint.com/computer_science_tutorials.htm\nhttps://www.tutorialspoint.com/html/index.htm\nhttps://www.tutorialspoint.com/css/index.htm\nhttps://www.tutorialspoint.com/javascript/index.htm\nhttps://www.tutorialspoint.com/php/index.htm\nhttps://www.tutorialspoint.com/angular4/index.htm\nhttps://www.tutorialspoint.com/mysql/index.htm\nhttps://www.tutorialspoint.com/web_development_tutorials.htm\nhttps://www.tutorialspoint.com/cprogramming/index.htm\nhttps://www.tutorialspoint.com/cplusplus/index.htm\nhttps://www.tutorialspoint.com/java8/index.htm\nhttps://www.tutorialspoint.com/python/index.htm\nhttps://www.tutorialspoint.com/scala/index.htm\nhttps://www.tutorialspoint.com/csharp/index.htm\nhttps://www.tutorialspoint.com/computer_programming_tutorials.htm\nhttps://www.tutorialspoint.com/java8/index.htm\nhttps://www.tutorialspoint.com/jdbc/index.htm\nhttps://www.tutorialspoint.com/servlets/index.htm\nhttps://www.tutorialspoint.com/spring/index.htm\nhttps://www.tutorialspoint.com/hibernate/index.htm\nhttps://www.tutorialspoint.com/swing/index.htm\nhttps://www.tutorialspoint.com/java_technology_tutorials.htm\nhttps://www.tutorialspoint.com/android/index.htm\nhttps://www.tutorialspoint.com/swift/index.htm\nhttps://www.tutorialspoint.com/ios/index.htm\nhttps://www.tutorialspoint.com/kotlin/index.htm\nhttps://www.tutorialspoint.com/react_native/index.htm\nhttps://www.tutorialspoint.com/xamarin/index.htm\nhttps://www.tutorialspoint.com/mobile_development_tutorials.htm\nhttps://www.tutorialspoint.com/mongodb/index.htm\nhttps://www.tutorialspoint.com/plsql/index.htm\nhttps://www.tutorialspoint.com/sql/index.htm\nhttps://www.tutorialspoint.com/db2/index.htm\nhttps://www.tutorialspoint.com/mysql/index.htm\nhttps://www.tutorialspoint.com/memcached/index.htm\nhttps://www.tutorialspoint.com/database_tutorials.htm\nhttps://www.tutorialspoint.com/asp.net/index.htm\nhttps://www.tutorialspoint.com/entity_framework/index.htm\nhttps://www.tutorialspoint.com/vb.net/index.htm\nhttps://www.tutorialspoint.com/ms_project/index.htm\nhttps://www.tutorialspoint.com/excel/index.htm\nhttps://www.tutorialspoint.com/word/index.htm\nhttps://www.tutorialspoint.com/microsoft_technologies_tutorials.htm\nhttps://www.tutorialspoint.com/big_data_analytics/index.htm\nhttps://www.tutorialspoint.com/hadoop/index.htm\nhttps://www.tutorialspoint.com/sas/index.htm\nhttps://www.tutorialspoint.com/qlikview/index.htm\nhttps://www.tutorialspoint.com/power_bi/index.htm\nhttps://www.tutorialspoint.com/tableau/index.htm\nhttps://www.tutorialspoint.com/big_data_tutorials.htm\nhttps://www.tutorialspoint.com/tutorialslibrary.htm\nhttps://www.tutorialspoint.com/codingground.htm\nhttps://www.tutorialspoint.com/coding_platform_for_websites.htm\nhttps://www.tutorialspoint.com/developers_best_practices/index.htm\nhttps://www.tutorialspoint.com/effective_resume_writing.htm\nhttps://www.tutorialspoint.com/computer_glossary.htm\nhttps://www.tutorialspoint.com/computer_whoiswho.htm\nhttps://www.tutorialspoint.com/questions_and_answers.htm\nhttps://www.tutorialspoint.com/multi_language_tutorials.htm\nhttps://itunes.apple.com/us/app/tutorials-point/id914891263?ls=1&mt=8\nhttps://play.google.com/store/apps/details?id=com.tutorialspoint.onlineviewer\nhttp://www.windowsphone.com/s?appid=91249671-7184-4ad6-8a5f-d11847946b09\n/about/index.htm\n/about/about_team.htm\n/about/about_careers.htm\n/about/about_privacy.htm\n/about/about_cookies.htm\n/about/about_terms_of_use.htm\n/about/return_refund_policy.htm\nhttps://www.tutorialspoint.com/online_dev_tools.htm\nhttps://www.tutorialspoint.com/free_web_graphics.htm\nhttps://www.tutorialspoint.com/online_file_conversion.htm\nhttps://www.tutorialspoint.com/netmeeting.php\nhttps://www.tutorialspoint.com/free_online_whiteboard.htm\nhttp://www.tutorialspoint.com\nhttps://www.facebook.com/tutorialspointindia\nhttps://plus.google.com/u/0/+tutorialspoint\nhttp://www.twitter.com/tutorialspoint\nhttp://www.linkedin.com/company/tutorialspoint\nhttps://www.youtube.com/channel/UCVLbzhxVTiTLiVKeGV7WEBg\nhttps://www.tutorialspoint.com/index.htm\n/about/about_privacy.htm#cookies\n/about/faq.htm\n/about/about_helping.htm\n/about/contact_us.htm\n"
     ]
    }
   ],
   "source": [
    "# One common task is to extract all the URLs within a webpage\n",
    "for i in soup_var.find_all('a'):\n",
    "    print(i.get('href'))\n",
    "# here we are trying to extract all the hyperlinks attached to this webpage"
   ]
  },
  {
   "cell_type": "code",
   "execution_count": 70,
   "metadata": {},
   "outputs": [
    {
     "output_type": "stream",
     "name": "stdout",
     "text": [
      "Office\nIT\nAcademics\nDevelopment\nBusiness\nDesign\nOthers\nNone\nNone\nNone\nNone\nNone\nNone\nNone\nNone\nNone\nNone\nNone\nNone\nNone\nNone\nNone\nNone\nNone\nNone\nNone\nNone\nNone\nNone\nNone\nNone\nNone\nNone\nNone\nNone\nNone\nNone\nNone\nNone\nNone\nNone\nNone\nNone\nNone\n"
     ]
    }
   ],
   "source": [
    "for i in soup_var.find_all('li'):\n",
    "    print(i.string)"
   ]
  },
  {
   "source": [
    "Kinds of objects in Beautiful soup:\n",
    "* Tag\n",
    "* NavigatableString\n",
    "* BeautifulSoup\n",
    "* Comments"
   ],
   "cell_type": "markdown",
   "metadata": {}
  },
  {
   "source": [
    "** Tag object **\n",
    "* A HTMl tag is used to define various types of content\n",
    "* A tag object in BeautifulSoup corresponds to an HTML or XML tag in actual page"
   ],
   "cell_type": "markdown",
   "metadata": {}
  },
  {
   "cell_type": "code",
   "execution_count": 40,
   "metadata": {},
   "outputs": [
    {
     "output_type": "stream",
     "name": "stdout",
     "text": [
      "<html><body><b class=\"boldest\">TutorialsPoint</b></body></html>\n"
     ]
    },
    {
     "output_type": "execute_result",
     "data": {
      "text/plain": [
       "bs4.element.Tag"
      ]
     },
     "metadata": {},
     "execution_count": 40
    }
   ],
   "source": [
    "from bs4 import BeautifulSoup\n",
    "soup = BeautifulSoup('<b class=\"boldest\">TutorialsPoint</b>')\n",
    "tag= soup.html\n",
    "print(tag)\n",
    "type(tag) # the 2 most important features of a tag are its name and its attributes"
   ]
  },
  {
   "cell_type": "code",
   "execution_count": 37,
   "metadata": {},
   "outputs": [
    {
     "output_type": "execute_result",
     "data": {
      "text/plain": [
       "'html'"
      ]
     },
     "metadata": {},
     "execution_count": 37
    }
   ],
   "source": [
    "# EVery tag contains a name and can be accessed through .name as suffix. tag.name will return the type of tag it is\n",
    "\n",
    "tag.name"
   ]
  },
  {
   "cell_type": "code",
   "execution_count": 42,
   "metadata": {},
   "outputs": [
    {
     "output_type": "stream",
     "name": "stdout",
     "text": [
      "<Strong><body><b class=\"boldest\">TutorialsPoint</b></body></Strong>\n"
     ]
    },
    {
     "output_type": "execute_result",
     "data": {
      "text/plain": [
       "'Strong'"
      ]
     },
     "metadata": {},
     "execution_count": 42
    }
   ],
   "source": [
    "# we can also update the tags\n",
    "tag.name = 'Strong'\n",
    "print(tag)\n",
    "tag.name"
   ]
  },
  {
   "cell_type": "code",
   "execution_count": 57,
   "metadata": {},
   "outputs": [
    {
     "output_type": "stream",
     "name": "stdout",
     "text": [
      "<div class=\"tutorialsP\"></div>\n['tutorialsP']\n"
     ]
    },
    {
     "output_type": "execute_result",
     "data": {
      "text/plain": [
       "{'class': ['tutorialsP']}"
      ]
     },
     "metadata": {},
     "execution_count": 57
    }
   ],
   "source": [
    "# A tag object can have any number of attributes. we can access the attributes either through accessing the keys or directly accessing through .attrs\n",
    "\n",
    "tutorialsP = BeautifulSoup(\"<div class='tutorialsP'></div>\",'lxml')\n",
    "tag2= tutorialsP.div\n",
    "print(tag2)\n",
    "print(tag2['class']) # we can acess the attribute value using like this\n",
    "tag2.attrs"
   ]
  },
  {
   "cell_type": "code",
   "execution_count": 52,
   "metadata": {},
   "outputs": [
    {
     "output_type": "execute_result",
     "data": {
      "text/plain": [
       "<div class=\"Mithun\" style=\"2007\"></div>"
      ]
     },
     "metadata": {},
     "execution_count": 52
    }
   ],
   "source": [
    "# We can do all modifications to our tag's attributes\n",
    "tag2['class'] = \"Mithun\"\n",
    "tag2['class']\n",
    "tag2['style'] = 2007\n",
    "tag2"
   ]
  },
  {
   "cell_type": "code",
   "execution_count": 53,
   "metadata": {},
   "outputs": [
    {
     "output_type": "execute_result",
     "data": {
      "text/plain": [
       "<div class=\"Mithun\"></div>"
      ]
     },
     "metadata": {},
     "execution_count": 53
    }
   ],
   "source": [
    "del tag2['style']\n",
    "tag2    "
   ]
  },
  {
   "source": [
    "**Navigable String**\n",
    "* The navigablestring object is to represent the contents of a tag \n",
    "* To access the contents, we use .string with tag"
   ],
   "cell_type": "markdown",
   "metadata": {}
  },
  {
   "cell_type": "code",
   "execution_count": 61,
   "metadata": {},
   "outputs": [
    {
     "output_type": "execute_result",
     "data": {
      "text/plain": [
       "<html><body><h2 id=\"message\">Hello, Tutorialspoint!</h2></body></html>"
      ]
     },
     "metadata": {},
     "execution_count": 61
    }
   ],
   "source": [
    "from bs4 import BeautifulSoup\n",
    "soup= BeautifulSoup(\"<h2 id='message'>Hello, Tutorialspoint!</h2>\")\n",
    "soup"
   ]
  },
  {
   "cell_type": "code",
   "execution_count": 71,
   "metadata": {},
   "outputs": [
    {
     "output_type": "stream",
     "name": "stdout",
     "text": [
      "html\nHello, Tutorialspoint!\n<class 'bs4.element.NavigableString'>\n"
     ]
    }
   ],
   "source": [
    "tag= soup.html\n",
    "print(tag.name)\n",
    "print(soup.string)  # we can obtain hte string associated with it\n",
    "print(type(soup.string))"
   ]
  },
  {
   "cell_type": "code",
   "execution_count": 73,
   "metadata": {},
   "outputs": [
    {
     "output_type": "stream",
     "name": "stdout",
     "text": [
      "Hello, Tutorialspoint!\nOnline Learning!\n"
     ]
    }
   ],
   "source": [
    "soup = BeautifulSoup(\"<h2 id='message'>Hello, Tutorialspoint!</h2>\")\n",
    "print(soup.string)\n",
    "soup.string.replace_with(\"Online Learning!\")\n",
    "print(soup.string)"
   ]
  },
  {
   "source": [
    "**Beautiful Soup**\n",
    "* BeautifulSoup is the object created when we try to scrape a web resource. So, it is the complete document which we are trying to scrape. Most of the time, it is treated tag object"
   ],
   "cell_type": "markdown",
   "metadata": {}
  },
  {
   "cell_type": "code",
   "execution_count": 75,
   "metadata": {},
   "outputs": [
    {
     "output_type": "stream",
     "name": "stdout",
     "text": [
      "<html><body><h2 id=\"message\">Hello, Tutorialspoint!</h2></body></html>\n"
     ]
    },
    {
     "output_type": "execute_result",
     "data": {
      "text/plain": [
       "'[document]'"
      ]
     },
     "metadata": {},
     "execution_count": 75
    }
   ],
   "source": [
    "from bs4 import BeautifulSoup\n",
    "soup = BeautifulSoup(\"<h2 id='message'>Hello, Tutorialspoint!</h2>\")\n",
    "print(soup)\n",
    "type(soup)\n",
    "soup.name"
   ]
  },
  {
   "source": [
    "**Comments** \n",
    "* The comment object illustrates the comment part of the web document.\n",
    "* It is just a special type of navigable string"
   ],
   "cell_type": "markdown",
   "metadata": {}
  },
  {
   "cell_type": "code",
   "execution_count": 81,
   "metadata": {},
   "outputs": [
    {
     "output_type": "stream",
     "name": "stdout",
     "text": [
      "<html><body><p><!-- Everything inside it is COMMENTS --></p></body></html>\n\n Everything inside it is COMMENTS \n\n<class 'bs4.element.Comment'>\n\n<p>\n <!-- Everything inside it is COMMENTS -->\n</p>\n"
     ]
    }
   ],
   "source": [
    "soup = BeautifulSoup('<p><!-- Everything inside it is COMMENTS --></p>')\n",
    "print(soup)\n",
    "print()\n",
    "print(soup.p.string)\n",
    "print()\n",
    "print(type(soup.p.string))\n",
    "print()\n",
    "print(soup.p.prettify())"
   ]
  },
  {
   "source": [
    "# NAVIGATING BY TAGS"
   ],
   "cell_type": "markdown",
   "metadata": {}
  },
  {
   "cell_type": "code",
   "execution_count": 82,
   "metadata": {},
   "outputs": [],
   "source": [
    "html_doc = \"\"\"\n",
    "<html><head><title>Tutorials Point</title></head>\n",
    "<body>\n",
    "<p class=\"title\"><b>The Biggest Online Tutorials Library, It's all Free</b></p>\n",
    "<p class=\"prog\">Top 5 most used Programming Languages are:\n",
    "<a href=\"https://www.tutorialspoint.com/java/java_overview.htm\" class=\"prog\" id=\"link1\">Java</a>,\n",
    "<a href=\"https://www.tutorialspoint.com/cprogramming/index.htm\" class=\"prog\" id=\"link2\">C</a>,\n",
    "<a href=\"https://www.tutorialspoint.com/python/index.htm\" class=\"prog\" id=\"link3\">Python</a>,\n",
    "<a href=\"https://www.tutorialspoint.com/javascript/javascript_overview.htm\" class=\"prog\" id=\"link4\">JavaScript</a> and\n",
    "<a href=\"https://www.tutorialspoint.com/ruby/index.htm\" class=\"prog\" id=\"link5\">C</a>;\n",
    "as per online survey.</p>\n",
    "<p class=\"prog\">Programming Languages</p>\n",
    "\"\"\""
   ]
  },
  {
   "cell_type": "code",
   "execution_count": 84,
   "metadata": {},
   "outputs": [
    {
     "output_type": "stream",
     "name": "stdout",
     "text": [
      "<html>\n <head>\n  <title>\n   Tutorials Point\n  </title>\n </head>\n <body>\n  <p class=\"title\">\n   <b>\n    The Biggest Online Tutorials Library, It's all Free\n   </b>\n  </p>\n  <p class=\"prog\">\n   Top 5 most used Programming Languages are:\n   <a class=\"prog\" href=\"https://www.tutorialspoint.com/java/java_overview.htm\" id=\"link1\">\n    Java\n   </a>\n   ,\n   <a class=\"prog\" href=\"https://www.tutorialspoint.com/cprogramming/index.htm\" id=\"link2\">\n    C\n   </a>\n   ,\n   <a class=\"prog\" href=\"https://www.tutorialspoint.com/python/index.htm\" id=\"link3\">\n    Python\n   </a>\n   ,\n   <a class=\"prog\" href=\"https://www.tutorialspoint.com/javascript/javascript_overview.htm\" id=\"link4\">\n    JavaScript\n   </a>\n   and\n   <a class=\"prog\" href=\"https://www.tutorialspoint.com/ruby/index.htm\" id=\"link5\">\n    C\n   </a>\n   ;\nas per online survey.\n  </p>\n  <p class=\"prog\">\n   Programming Languages\n  </p>\n </body>\n</html>\n"
     ]
    }
   ],
   "source": [
    "from bs4 import BeautifulSoup\n",
    "soup= BeautifulSoup(html_doc, 'html.parser')\n",
    "print(soup.prettify())"
   ]
  },
  {
   "cell_type": "code",
   "execution_count": 89,
   "metadata": {},
   "outputs": [
    {
     "output_type": "stream",
     "name": "stdout",
     "text": [
      "<head><title>Tutorials Point</title></head>\n<title>Tutorials Point</title>\n<b>The Biggest Online Tutorials Library, It's all Free</b>\n"
     ]
    }
   ],
   "source": [
    "print(soup.head) \n",
    "print(soup.title)\n",
    "print(soup.body.b)"
   ]
  },
  {
   "cell_type": "code",
   "execution_count": 90,
   "metadata": {},
   "outputs": [
    {
     "output_type": "execute_result",
     "data": {
      "text/plain": [
       "<a class=\"prog\" href=\"https://www.tutorialspoint.com/java/java_overview.htm\" id=\"link1\">Java</a>"
      ]
     },
     "metadata": {},
     "execution_count": 90
    }
   ],
   "source": [
    "# using the tag name as an attribute will give you only the first tag by that name\n",
    "soup.a"
   ]
  },
  {
   "cell_type": "code",
   "execution_count": 92,
   "metadata": {},
   "outputs": [
    {
     "output_type": "execute_result",
     "data": {
      "text/plain": [
       "[<a class=\"prog\" href=\"https://www.tutorialspoint.com/java/java_overview.htm\" id=\"link1\">Java</a>,\n",
       " <a class=\"prog\" href=\"https://www.tutorialspoint.com/cprogramming/index.htm\" id=\"link2\">C</a>,\n",
       " <a class=\"prog\" href=\"https://www.tutorialspoint.com/python/index.htm\" id=\"link3\">Python</a>,\n",
       " <a class=\"prog\" href=\"https://www.tutorialspoint.com/javascript/javascript_overview.htm\" id=\"link4\">JavaScript</a>,\n",
       " <a class=\"prog\" href=\"https://www.tutorialspoint.com/ruby/index.htm\" id=\"link5\">C</a>]"
      ]
     },
     "metadata": {},
     "execution_count": 92
    }
   ],
   "source": [
    "# to get all the tag's attribute, you can use find_all() method\n",
    "soup.find_all('a')"
   ]
  },
  {
   "cell_type": "code",
   "execution_count": 97,
   "metadata": {},
   "outputs": [
    {
     "output_type": "stream",
     "name": "stdout",
     "text": [
      "<head><title>Tutorials Point</title></head>\n\n[<title>Tutorials Point</title>]\n\n2\n"
     ]
    }
   ],
   "source": [
    "# we can search tag's children in a list by it's .contents\n",
    "head_tag= soup.head \n",
    "print(head_tag)\n",
    "print()\n",
    "print(head_tag.contents)\n",
    "print()\n",
    "print(len(soup.contents))"
   ]
  }
 ]
}