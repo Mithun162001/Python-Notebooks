{
 "cells": [
  {
   "cell_type": "markdown",
   "metadata": {},
   "source": [
    "<h1><center> INTRODUCTION TO PYTHON BASICS"
   ]
  },
  {
   "cell_type": "code",
   "execution_count": 27,
   "metadata": {},
   "outputs": [
    {
     "name": "stdout",
     "output_type": "stream",
     "text": [
      "The number entered by the user:  15\n"
     ]
    },
    {
     "data": {
      "text/plain": [
       "int"
      ]
     },
     "execution_count": 27,
     "metadata": {},
     "output_type": "execute_result"
    }
   ],
   "source": [
    "# Taking input from the user\r\n",
    "num = int(input(\"Enter a number:\"))\r\n",
    "print(\"The number entered by the user: \", num)\r\n",
    "type(num)"
   ]
  },
  {
   "cell_type": "code",
   "execution_count": 2,
   "metadata": {},
   "outputs": [
    {
     "data": {
      "text/plain": [
       "int"
      ]
     },
     "execution_count": 2,
     "metadata": {},
     "output_type": "execute_result"
    }
   ],
   "source": [
    "a = 5\r\n",
    "type(a)"
   ]
  },
  {
   "cell_type": "code",
   "execution_count": 3,
   "metadata": {},
   "outputs": [
    {
     "data": {
      "text/plain": [
       "float"
      ]
     },
     "execution_count": 3,
     "metadata": {},
     "output_type": "execute_result"
    }
   ],
   "source": [
    "type(float(a))"
   ]
  },
  {
   "cell_type": "code",
   "execution_count": 4,
   "metadata": {},
   "outputs": [
    {
     "data": {
      "text/plain": [
       "float"
      ]
     },
     "execution_count": 4,
     "metadata": {},
     "output_type": "execute_result"
    }
   ],
   "source": [
    "b = 5.5\r\n",
    "type(b)"
   ]
  },
  {
   "cell_type": "code",
   "execution_count": 5,
   "metadata": {},
   "outputs": [
    {
     "data": {
      "text/plain": [
       "int"
      ]
     },
     "execution_count": 5,
     "metadata": {},
     "output_type": "execute_result"
    }
   ],
   "source": [
    "type(int(b))"
   ]
  },
  {
   "cell_type": "markdown",
   "metadata": {},
   "source": [
    "<h2> Arithmetic Operators"
   ]
  },
  {
   "cell_type": "code",
   "execution_count": 6,
   "metadata": {},
   "outputs": [
    {
     "name": "stdout",
     "output_type": "stream",
     "text": [
      "10.5\n",
      "-0.5\n",
      "27.5\n",
      "0.9090909090909091\n",
      "6987.712429686842\n",
      "5.0\n"
     ]
    }
   ],
   "source": [
    "print(a+b)\r\n",
    "print(a-b)\r\n",
    "print(a*b)\r\n",
    "print(a/b)\r\n",
    "print(a**b)     # a to the power of b\r\n",
    "print(a%b)      # remainder of a/b"
   ]
  },
  {
   "cell_type": "markdown",
   "metadata": {},
   "source": [
    "<h2> Comparison Operators"
   ]
  },
  {
   "cell_type": "code",
   "execution_count": 10,
   "metadata": {},
   "outputs": [
    {
     "name": "stdout",
     "output_type": "stream",
     "text": [
      "True\n",
      "False\n",
      "True\n",
      "False\n",
      "False\n",
      "True\n",
      "True\n"
     ]
    }
   ],
   "source": [
    "print(a<b)\r\n",
    "print(a>b)\r\n",
    "print(a<=b)\r\n",
    "print(a>=b)\r\n",
    "print(a == b)   # double equality operator\r\n",
    "print(a!=b)     # not equal to operator\r\n",
    "print(a is not b)   # not equal to operator"
   ]
  },
  {
   "cell_type": "markdown",
   "metadata": {},
   "source": [
    "<h2> Logical and Identity Operators"
   ]
  },
  {
   "cell_type": "code",
   "execution_count": 21,
   "metadata": {},
   "outputs": [
    {
     "name": "stdout",
     "output_type": "stream",
     "text": [
      "True\n",
      "False\n",
      "False\n",
      "\n",
      "\n",
      "True\n",
      "True\n",
      "False\n",
      "\n",
      "\n",
      "False\n",
      "True\n"
     ]
    }
   ],
   "source": [
    "# and opeartion\r\n",
    "print(True and True)\r\n",
    "print(True and False)\r\n",
    "print(False and False)\r\n",
    "print(\"\\n\")\r\n",
    "\r\n",
    "# or opeartion\r\n",
    "print(True or True)\r\n",
    "print(True or False)\r\n",
    "print(False or False)\r\n",
    "print(\"\\n\")\r\n",
    "\r\n",
    "# not opeartion\r\n",
    "print(not True)\r\n",
    "print(not False)"
   ]
  },
  {
   "cell_type": "markdown",
   "metadata": {},
   "source": [
    "<i><u>Note:-</i></u> Preference of Logical Operators:\r\n",
    "* not\r\n",
    "* and \r\n",
    "* or"
   ]
  },
  {
   "cell_type": "code",
   "execution_count": 22,
   "metadata": {},
   "outputs": [
    {
     "name": "stdout",
     "output_type": "stream",
     "text": [
      "False\n",
      "True\n"
     ]
    }
   ],
   "source": [
    "# is, is not are identity operators\r\n",
    "print(a is b)       # similar to ==\r\n",
    "print(a is not b)   # similar to !="
   ]
  },
  {
   "cell_type": "code",
   "execution_count": 39,
   "metadata": {},
   "outputs": [
    {
     "name": "stdout",
     "output_type": "stream",
     "text": [
      "True\n",
      "True\n"
     ]
    }
   ],
   "source": [
    "# in, not in are membership operators\r\n",
    "print(5 in [1,2,3,4,5])\r\n",
    "print(10 not in [1,2,3,4,5])"
   ]
  },
  {
   "cell_type": "markdown",
   "metadata": {},
   "source": [
    "<h2> Basic Conversions"
   ]
  },
  {
   "cell_type": "code",
   "execution_count": 36,
   "metadata": {},
   "outputs": [
    {
     "name": "stdout",
     "output_type": "stream",
     "text": [
      "a\n",
      "0o141\n",
      "0b1100001\n"
     ]
    }
   ],
   "source": [
    "x = 97\r\n",
    "print(chr(x))       # converts integers to characater\r\n",
    "#print(ord(x))       # converts single characters to integers(ASCII CODE)\r\n",
    "print(oct(x))       # converts integer to octal\r\n",
    "print(bin(x))       # converts integer to binary"
   ]
  },
  {
   "cell_type": "markdown",
   "metadata": {},
   "source": [
    "<h2> Decision Making"
   ]
  },
  {
   "cell_type": "markdown",
   "metadata": {},
   "source": [
    "* if <br>\r\n",
    "* elif <br>\r\n",
    "* nested if "
   ]
  },
  {
   "cell_type": "code",
   "execution_count": 40,
   "metadata": {},
   "outputs": [
    {
     "name": "stdout",
     "output_type": "stream",
     "text": [
      "A is less than b\n"
     ]
    }
   ],
   "source": [
    "if a<b:\r\n",
    "    print(\"A is less than b\")"
   ]
  },
  {
   "cell_type": "code",
   "execution_count": 42,
   "metadata": {},
   "outputs": [
    {
     "name": "stdout",
     "output_type": "stream",
     "text": [
      "A is greater than b\n"
     ]
    }
   ],
   "source": [
    "a = 20\r\n",
    "if a<b:\r\n",
    "    print(\"A is less than b\")\r\n",
    "else:\r\n",
    "    print(\"A is greater than b\")"
   ]
  },
  {
   "cell_type": "code",
   "execution_count": 43,
   "metadata": {},
   "outputs": [
    {
     "name": "stdout",
     "output_type": "stream",
     "text": [
      "B is smallest\n"
     ]
    }
   ],
   "source": [
    "if a<b and a<num:\r\n",
    "    print(\"A is smallest\")\r\n",
    "elif b<a and b<num:\r\n",
    "    print(\"B is smallest\")\r\n",
    "else:\r\n",
    "    print(\"num is smallest\")"
   ]
  },
  {
   "cell_type": "markdown",
   "metadata": {},
   "source": [
    "<h2> Loops/ Iterations"
   ]
  },
  {
   "cell_type": "markdown",
   "metadata": {},
   "source": [
    "* for \r\n",
    "\r\n",
    "* while \r\n",
    "\r\n",
    "* nested loop "
   ]
  },
  {
   "cell_type": "code",
   "execution_count": 45,
   "metadata": {},
   "outputs": [
    {
     "name": "stdout",
     "output_type": "stream",
     "text": [
      "1\n",
      "2\n",
      "3\n",
      "4\n",
      "5\n",
      "6\n",
      "7\n",
      "8\n",
      "9\n",
      "10\n"
     ]
    }
   ],
   "source": [
    "count = 1\r\n",
    "while(count <=  10):\r\n",
    "    print(count)\r\n",
    "    count = count + 1"
   ]
  },
  {
   "cell_type": "code",
   "execution_count": 46,
   "metadata": {},
   "outputs": [
    {
     "name": "stdout",
     "output_type": "stream",
     "text": [
      "1\n",
      "2\n",
      "3\n",
      "4\n",
      "5\n",
      "6\n",
      "7\n",
      "8\n",
      "9\n",
      "10\n"
     ]
    }
   ],
   "source": [
    "for i in range(1,11,1):\r\n",
    "    print(i)"
   ]
  },
  {
   "cell_type": "code",
   "execution_count": 54,
   "metadata": {},
   "outputs": [
    {
     "name": "stdout",
     "output_type": "stream",
     "text": [
      "e to the power of 100.12:  3.0308436140742566e+43\n",
      "log of 3 to the base 2:  1.5849625007211563\n",
      "10 power 10:  10000000000.0\n",
      "Square root: 10.0\n"
     ]
    }
   ],
   "source": [
    "import math\r\n",
    "print(\"e to the power of 100.12: \",math.exp(100.12))\r\n",
    "print(\"log of 3 to the base 2: \",math.log(3,2))\r\n",
    "print(\"10 power 10: \",math.pow(10,10))\r\n",
    "print(\"Square root:\", math.sqrt(100))"
   ]
  },
  {
   "cell_type": "markdown",
   "metadata": {},
   "source": [
    "<h2><center> STRINGS"
   ]
  },
  {
   "cell_type": "code",
   "execution_count": 63,
   "metadata": {},
   "outputs": [
    {
     "name": "stdout",
     "output_type": "stream",
     "text": [
      "Hello World\n",
      "Python Programming\n",
      "\n",
      "\n",
      "H\n",
      "Hello\n",
      "Programming\n",
      "g\n"
     ]
    }
   ],
   "source": [
    "var1 = \"Hello World\"\r\n",
    "var2 = \"Python Programming\"\r\n",
    "print(var1)\r\n",
    "print(var2)\r\n",
    "print(\"\\n\")\r\n",
    "print(var1[0])      # accessing first character of var1\r\n",
    "print(var1[0:5])    # accessing first word of var1 using slicing operator(:)\r\n",
    "print(var2[7:])     # accessing second word of var2 using slicing operator(:)\r\n",
    "print(var2[-1])     # acessing last character of var2"
   ]
  },
  {
   "cell_type": "code",
   "execution_count": 67,
   "metadata": {},
   "outputs": [
    {
     "name": "stdout",
     "output_type": "stream",
     "text": [
      "Hello World toPython Programming\n",
      "Hello WorldHello World\n",
      "H\n",
      "ello\n"
     ]
    }
   ],
   "source": [
    "print(var1 + \" to\" + var2)      # +     -> concatenation\r\n",
    "print(var1 * 2)                 # *     -> repetition\r\n",
    "print(var1[0])                  #[]     -> slice\r\n",
    "print(var1[1:5])                #[:]    -> slice range"
   ]
  },
  {
   "cell_type": "code",
   "execution_count": 79,
   "metadata": {},
   "outputs": [
    {
     "name": "stdout",
     "output_type": "stream",
     "text": [
      "Name\n",
      "True\n",
      "True\n",
      "False\n",
      "False\n",
      "True\n",
      "False\n",
      "NAME\n"
     ]
    }
   ],
   "source": [
    "str = \"name\"\r\n",
    "print(str.capitalize())     # capitalizes the 1st letter of string\r\n",
    "print(str.endswith(\"me\"))\r\n",
    "print(str.isalpha())\r\n",
    "print(\"12345\".isalpha())\r\n",
    "print(str.isdigit())\r\n",
    "print(\"12345\".isnumeric())\r\n",
    "print(\"+\".isalnum())\r\n",
    "print(str.upper())          # capitalizes entire string\r\n"
   ]
  },
  {
   "cell_type": "markdown",
   "metadata": {},
   "source": [
    "<h2><center> LISTS"
   ]
  },
  {
   "cell_type": "code",
   "execution_count": 81,
   "metadata": {},
   "outputs": [
    {
     "name": "stdout",
     "output_type": "stream",
     "text": [
      "['physics', 'chemistry', 'mathematics', 'computer']\n"
     ]
    },
    {
     "data": {
      "text/plain": [
       "list"
      ]
     },
     "execution_count": 81,
     "metadata": {},
     "output_type": "execute_result"
    }
   ],
   "source": [
    "list1 = ['physics', 'chemistry', 'mathematics', 'computer']\r\n",
    "print(list1)\r\n",
    "type(list1)"
   ]
  },
  {
   "cell_type": "code",
   "execution_count": 106,
   "metadata": {},
   "outputs": [
    {
     "name": "stdout",
     "output_type": "stream",
     "text": [
      "physics\n",
      "computer\n",
      "['physics', 'computer']\n",
      "Updated list:  ['physics', 'Chemistry']\n",
      "After deleting:  ['physics']\n"
     ]
    }
   ],
   "source": [
    "print(list1[0])    # accessing the first element\r\n",
    "print(list1[-1])   # accessing the last element\r\n",
    "print(list1[:2])   # accessing the first two elements from the list\r\n",
    "\r\n",
    "list1[1] = 'Chemistry'\r\n",
    "print(\"Updated list: \", list1)\r\n",
    "\r\n",
    "del list1[1]       # to delete a list element from the list\r\n",
    "print(\"After deleting: \",list1)\r\n",
    "\r\n",
    "a = ['p','c',\"m\",'c']"
   ]
  },
  {
   "cell_type": "code",
   "execution_count": 118,
   "metadata": {},
   "outputs": [
    {
     "name": "stdout",
     "output_type": "stream",
     "text": [
      "Length of the list 1\n",
      "Maximum element from the list:  50\n",
      "Minimum element from the list:  1\n",
      "['c', 'c', 'm', 'p']\n"
     ]
    }
   ],
   "source": [
    "print(\"Length of the list\", len(list1))\r\n",
    "print(\"Maximum element from the list: \", max([1,2.5, 50,10]))\r\n",
    "print(\"Minimum element from the list: \", min([1,2.5, 50,10]))\r\n",
    "a.reverse()\r\n",
    "print(a)"
   ]
  },
  {
   "cell_type": "markdown",
   "metadata": {},
   "source": [
    "<h2><center> DICTIONARY"
   ]
  },
  {
   "cell_type": "code",
   "execution_count": 122,
   "metadata": {},
   "outputs": [
    {
     "name": "stdout",
     "output_type": "stream",
     "text": [
      "['Mithun', 'Myil', 'Sunaina', 'Varshini']\n",
      "['M', 'M', 'F', 'F']\n"
     ]
    },
    {
     "data": {
      "text/plain": [
       "'Mithun'"
      ]
     },
     "execution_count": 122,
     "metadata": {},
     "output_type": "execute_result"
    }
   ],
   "source": [
    "dict1 = {\"Name\": [\"Mithun\", \"Myil\", \"Sunaina\", \"Varshini\"], \"Gender\": [\"M\",\"M\",\"F\",\"F\"]}\r\n",
    "print(dict1['Name'])\r\n",
    "print(dict1['Gender'])\r\n",
    "print(dict1['Name'][0])     # accessing the first element of Name key"
   ]
  },
  {
   "cell_type": "code",
   "execution_count": 126,
   "metadata": {},
   "outputs": [
    {
     "name": "stdout",
     "output_type": "stream",
     "text": [
      "4\n",
      "dict_keys(['Name', 'Gender'])\n",
      "dict_values([['Mithun', 'Myil', 'Sunaina', 'Varshini'], ['M', 'M', 'F', 'F']])\n"
     ]
    }
   ],
   "source": [
    "print(len(dict1['Name']))\r\n",
    "print(dict1.keys())\r\n",
    "print(dict1.values())"
   ]
  },
  {
   "cell_type": "markdown",
   "metadata": {},
   "source": [
    "<h2>Date and Time"
   ]
  },
  {
   "cell_type": "code",
   "execution_count": 146,
   "metadata": {},
   "outputs": [
    {
     "name": "stdout",
     "output_type": "stream",
     "text": [
      "1625412444.2684996\n",
      "time.struct_time(tm_year=2021, tm_mon=7, tm_mday=4, tm_hour=20, tm_min=57, tm_sec=24, tm_wday=6, tm_yday=185, tm_isdst=0)\n",
      "Sun Jul  4 20:57:24 2021\n",
      "9.875\n",
      "Sun Jul  4 20:57:24 2021\n",
      "Sun Jul  4 20:57:29 2021\n"
     ]
    }
   ],
   "source": [
    "import time\r\n",
    "print(time.time())      # returns the number of ticks/seconds since Jan 1,1970 00:00, which is called as epoch\r\n",
    "print(time.localtime()) # returns the structure format of epoch\r\n",
    "print(time.asctime(time.localtime()))   # returns the local time from the struct format\r\n",
    "print(time.process_time())  # Returns the current processor time used in benchmarking tools\r\n",
    "print(time.asctime())\r\n",
    "time.sleep(5)   # suspends execution for 5 seconds\r\n",
    "print(time.asctime())"
   ]
  },
  {
   "cell_type": "code",
   "execution_count": 147,
   "metadata": {},
   "outputs": [
    {
     "name": "stdout",
     "output_type": "stream",
     "text": [
      "                                  2021\n",
      "\n",
      "      January                   February                   March\n",
      "Mo Tu We Th Fr Sa Su      Mo Tu We Th Fr Sa Su      Mo Tu We Th Fr Sa Su\n",
      "             1  2  3       1  2  3  4  5  6  7       1  2  3  4  5  6  7\n",
      " 4  5  6  7  8  9 10       8  9 10 11 12 13 14       8  9 10 11 12 13 14\n",
      "11 12 13 14 15 16 17      15 16 17 18 19 20 21      15 16 17 18 19 20 21\n",
      "18 19 20 21 22 23 24      22 23 24 25 26 27 28      22 23 24 25 26 27 28\n",
      "25 26 27 28 29 30 31                                29 30 31\n",
      "\n",
      "       April                      May                       June\n",
      "Mo Tu We Th Fr Sa Su      Mo Tu We Th Fr Sa Su      Mo Tu We Th Fr Sa Su\n",
      "          1  2  3  4                      1  2          1  2  3  4  5  6\n",
      " 5  6  7  8  9 10 11       3  4  5  6  7  8  9       7  8  9 10 11 12 13\n",
      "12 13 14 15 16 17 18      10 11 12 13 14 15 16      14 15 16 17 18 19 20\n",
      "19 20 21 22 23 24 25      17 18 19 20 21 22 23      21 22 23 24 25 26 27\n",
      "26 27 28 29 30            24 25 26 27 28 29 30      28 29 30\n",
      "                          31\n",
      "\n",
      "        July                     August                  September\n",
      "Mo Tu We Th Fr Sa Su      Mo Tu We Th Fr Sa Su      Mo Tu We Th Fr Sa Su\n",
      "          1  2  3  4                         1             1  2  3  4  5\n",
      " 5  6  7  8  9 10 11       2  3  4  5  6  7  8       6  7  8  9 10 11 12\n",
      "12 13 14 15 16 17 18       9 10 11 12 13 14 15      13 14 15 16 17 18 19\n",
      "19 20 21 22 23 24 25      16 17 18 19 20 21 22      20 21 22 23 24 25 26\n",
      "26 27 28 29 30 31         23 24 25 26 27 28 29      27 28 29 30\n",
      "                          30 31\n",
      "\n",
      "      October                   November                  December\n",
      "Mo Tu We Th Fr Sa Su      Mo Tu We Th Fr Sa Su      Mo Tu We Th Fr Sa Su\n",
      "             1  2  3       1  2  3  4  5  6  7             1  2  3  4  5\n",
      " 4  5  6  7  8  9 10       8  9 10 11 12 13 14       6  7  8  9 10 11 12\n",
      "11 12 13 14 15 16 17      15 16 17 18 19 20 21      13 14 15 16 17 18 19\n",
      "18 19 20 21 22 23 24      22 23 24 25 26 27 28      20 21 22 23 24 25 26\n",
      "25 26 27 28 29 30 31      29 30                     27 28 29 30 31\n",
      "\n"
     ]
    }
   ],
   "source": [
    "import calendar\r\n",
    "print(calendar.calendar(2021))"
   ]
  },
  {
   "cell_type": "code",
   "execution_count": 151,
   "metadata": {},
   "outputs": [
    {
     "name": "stdout",
     "output_type": "stream",
     "text": [
      "False\n",
      "True\n",
      "\n",
      "\n",
      "     July 2021\n",
      "Mo Tu We Th Fr Sa Su\n",
      "          1  2  3  4\n",
      " 5  6  7  8  9 10 11\n",
      "12 13 14 15 16 17 18\n",
      "19 20 21 22 23 24 25\n",
      "26 27 28 29 30 31\n",
      "\n"
     ]
    }
   ],
   "source": [
    "print(calendar.isleap(2021))\r\n",
    "print(calendar.isleap(2020))\r\n",
    "print(\"\\n\")\r\n",
    "print(calendar.month(2021,7))   # prints calendar of a specific month"
   ]
  },
  {
   "cell_type": "markdown",
   "metadata": {},
   "source": [
    "<h2> Functions"
   ]
  },
  {
   "cell_type": "code",
   "execution_count": 156,
   "metadata": {},
   "outputs": [
    {
     "data": {
      "text/plain": [
       "[1, 1, 2, 3, 5, 8, 13]"
      ]
     },
     "execution_count": 156,
     "metadata": {},
     "output_type": "execute_result"
    }
   ],
   "source": [
    "def fib(num):               # A function to print the fibonacci numbers\r\n",
    "    result = []\r\n",
    "    a, b = 0, 1\r\n",
    "    while b<num:\r\n",
    "        result.append(b)\r\n",
    "        a,b = b, a+b\r\n",
    "    return result\r\n",
    "fib(20)"
   ]
  },
  {
   "cell_type": "markdown",
   "metadata": {},
   "source": [
    "<h3>The Anonymous Functions</h3>\r\n",
    "* They are nore declared in the standard manner using <i>def</i> keyword <br>\r\n",
    "* <i>lambda</i> keyword is used to create small anonymous function <br>\r\n",
    "* They can take any number of arguments but returns only one value <br>\r\n",
    "* They cannot contain suites/ multiple expressions"
   ]
  },
  {
   "cell_type": "code",
   "execution_count": 157,
   "metadata": {},
   "outputs": [
    {
     "data": {
      "text/plain": [
       "30"
      ]
     },
     "execution_count": 157,
     "metadata": {},
     "output_type": "execute_result"
    }
   ],
   "source": [
    "sum = lambda arg1, arg2 :(arg1+arg2)\r\n",
    "sum(10,20)"
   ]
  },
  {
   "cell_type": "code",
   "execution_count": 159,
   "metadata": {},
   "outputs": [
    {
     "name": "stdout",
     "output_type": "stream",
     "text": [
      "['__doc__', '__loader__', '__name__', '__package__', '__spec__', 'acos', 'acosh', 'asin', 'asinh', 'atan', 'atan2', 'atanh', 'ceil', 'copysign', 'cos', 'cosh', 'degrees', 'e', 'erf', 'erfc', 'exp', 'expm1', 'fabs', 'factorial', 'floor', 'fmod', 'frexp', 'fsum', 'gamma', 'gcd', 'hypot', 'inf', 'isclose', 'isfinite', 'isinf', 'isnan', 'ldexp', 'lgamma', 'log', 'log10', 'log1p', 'log2', 'modf', 'nan', 'pi', 'pow', 'radians', 'remainder', 'sin', 'sinh', 'sqrt', 'tan', 'tanh', 'tau', 'trunc']\n"
     ]
    }
   ],
   "source": [
    "import math\r\n",
    "content = dir(math)     # returns the sorted lists of strings present in the math module\r\n",
    "print(content)  "
   ]
  }
 ],
 "metadata": {
  "interpreter": {
   "hash": "0989d4cb382ec003e6ad9ee0079fe5a34620af18f47069c43c62ee5030c1ec77"
  },
  "kernelspec": {
   "display_name": "Python 3.7.9 64-bit ('myenv': conda)",
   "name": "python3"
  },
  "language_info": {
   "codemirror_mode": {
    "name": "ipython",
    "version": 3
   },
   "file_extension": ".py",
   "mimetype": "text/x-python",
   "name": "python",
   "nbconvert_exporter": "python",
   "pygments_lexer": "ipython3",
   "version": "3.7.9"
  },
  "orig_nbformat": 4
 },
 "nbformat": 4,
 "nbformat_minor": 2
}