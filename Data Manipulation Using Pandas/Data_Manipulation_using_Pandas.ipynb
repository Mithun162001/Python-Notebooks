{
  "nbformat": 4,
  "nbformat_minor": 0,
  "metadata": {
    "colab": {
      "name": "Data Manipulation using Pandas.ipynb",
      "provenance": [],
      "collapsed_sections": [],
      "authorship_tag": "ABX9TyPvrsEG72nleoheHRDuUrC1",
      "include_colab_link": true
    },
    "kernelspec": {
      "name": "python3",
      "display_name": "Python 3"
    }
  },
  "cells": [
    {
      "cell_type": "markdown",
      "metadata": {
        "id": "view-in-github",
        "colab_type": "text"
      },
      "source": [
        "<a href=\"https://colab.research.google.com/github/Mithun162001/Data-Manipulation-using-pandas/blob/main/Data_Manipulation_using_Pandas.ipynb\" target=\"_parent\"><img src=\"https://colab.research.google.com/assets/colab-badge.svg\" alt=\"Open In Colab\"/></a>"
      ]
    },
    {
      "cell_type": "code",
      "metadata": {
        "id": "Em0L90ovcOET"
      },
      "source": [
        "import numpy as np\n",
        "import pandas as pd"
      ],
      "execution_count": 1,
      "outputs": []
    },
    {
      "cell_type": "code",
      "metadata": {
        "id": "g1plB-XjceHR",
        "outputId": "bf82db72-8d41-4f69-e1e4-244aa0aeacfa",
        "colab": {
          "base_uri": "https://localhost:8080/",
          "height": 136
        }
      },
      "source": [
        "data={'Title':['The Hobbit', 'Robinson Crusoe', 'Moby Dick'],\n",
        "    'Author':['J.R.R. Tolkien', 'Daniel Defoe', 'Herman Melville']}\n",
        "df=pd.DataFrame(data)\n",
        "df"
      ],
      "execution_count": 2,
      "outputs": [
        {
          "output_type": "execute_result",
          "data": {
            "text/plain": [
              "             Title           Author\n",
              "0       The Hobbit   J.R.R. Tolkien\n",
              "1  Robinson Crusoe     Daniel Defoe\n",
              "2        Moby Dick  Herman Melville"
            ],
            "text/html": "<div>\n<style scoped>\n    .dataframe tbody tr th:only-of-type {\n        vertical-align: middle;\n    }\n\n    .dataframe tbody tr th {\n        vertical-align: top;\n    }\n\n    .dataframe thead th {\n        text-align: right;\n    }\n</style>\n<table border=\"1\" class=\"dataframe\">\n  <thead>\n    <tr style=\"text-align: right;\">\n      <th></th>\n      <th>Title</th>\n      <th>Author</th>\n    </tr>\n  </thead>\n  <tbody>\n    <tr>\n      <th>0</th>\n      <td>The Hobbit</td>\n      <td>J.R.R. Tolkien</td>\n    </tr>\n    <tr>\n      <th>1</th>\n      <td>Robinson Crusoe</td>\n      <td>Daniel Defoe</td>\n    </tr>\n    <tr>\n      <th>2</th>\n      <td>Moby Dick</td>\n      <td>Herman Melville</td>\n    </tr>\n  </tbody>\n</table>\n</div>"
          },
          "metadata": {},
          "execution_count": 2
        }
      ]
    },
    {
      "cell_type": "markdown",
      "metadata": {
        "id": "j9H_du2GcSY-"
      },
      "source": [
        "Renaming columns using pandas"
      ]
    },
    {
      "cell_type": "code",
      "metadata": {
        "id": "_NbhelIbdPjN",
        "outputId": "2c4a832a-affc-4151-8d1e-2bd04e6e3042",
        "colab": {
          "base_uri": "https://localhost:8080/",
          "height": 84
        }
      },
      "source": [
        "df.columns=['TITLE','AUTHOR']         #Changing the keys of the column\n",
        "print(df)\n"
      ],
      "execution_count": 3,
      "outputs": [
        {
          "output_type": "stream",
          "name": "stdout",
          "text": [
            "             TITLE           AUTHOR\n0       The Hobbit   J.R.R. Tolkien\n1  Robinson Crusoe     Daniel Defoe\n2        Moby Dick  Herman Melville\n"
          ]
        }
      ]
    },
    {
      "cell_type": "code",
      "metadata": {
        "id": "LuYZSLBpgHCw",
        "outputId": "6431c93f-bb51-4e57-d97f-fe270497fe61",
        "colab": {
          "base_uri": "https://localhost:8080/",
          "height": 136
        }
      },
      "source": [
        "df\n",
        "df.rename(columns={'TITLE':'Book Name', 'AUTHOR':'Writer'})"
      ],
      "execution_count": 4,
      "outputs": [
        {
          "output_type": "execute_result",
          "data": {
            "text/plain": [
              "         Book Name           Writer\n",
              "0       The Hobbit   J.R.R. Tolkien\n",
              "1  Robinson Crusoe     Daniel Defoe\n",
              "2        Moby Dick  Herman Melville"
            ],
            "text/html": "<div>\n<style scoped>\n    .dataframe tbody tr th:only-of-type {\n        vertical-align: middle;\n    }\n\n    .dataframe tbody tr th {\n        vertical-align: top;\n    }\n\n    .dataframe thead th {\n        text-align: right;\n    }\n</style>\n<table border=\"1\" class=\"dataframe\">\n  <thead>\n    <tr style=\"text-align: right;\">\n      <th></th>\n      <th>Book Name</th>\n      <th>Writer</th>\n    </tr>\n  </thead>\n  <tbody>\n    <tr>\n      <th>0</th>\n      <td>The Hobbit</td>\n      <td>J.R.R. Tolkien</td>\n    </tr>\n    <tr>\n      <th>1</th>\n      <td>Robinson Crusoe</td>\n      <td>Daniel Defoe</td>\n    </tr>\n    <tr>\n      <th>2</th>\n      <td>Moby Dick</td>\n      <td>Herman Melville</td>\n    </tr>\n  </tbody>\n</table>\n</div>"
          },
          "metadata": {},
          "execution_count": 4
        }
      ]
    },
    {
      "cell_type": "markdown",
      "metadata": {
        "id": "YhjplRFnf1mu"
      },
      "source": [
        "Sorting using Pandas"
      ]
    },
    {
      "cell_type": "code",
      "metadata": {
        "id": "yj6qISDwf4S5"
      },
      "source": [
        "import pandas as pd"
      ],
      "execution_count": 5,
      "outputs": []
    },
    {
      "cell_type": "code",
      "metadata": {
        "id": "ok7g24q2gZ-8",
        "outputId": "c90de208-75b4-46ce-8993-7b05959c2203",
        "colab": {
          "base_uri": "https://localhost:8080/",
          "height": 235
        }
      },
      "source": [
        "df= pd.read_csv('bigmart_data.csv')\n",
        "df.dropna()\n",
        "df.iloc[7]                            #this can be used for substitute for head() method in Pandas library"
      ],
      "execution_count": 7,
      "outputs": [
        {
          "output_type": "execute_result",
          "data": {
            "text/plain": [
              "Item_Identifier                          FDP10\n",
              "Item_Weight                                NaN\n",
              "Item_Fat_Content                       Low Fat\n",
              "Item_Visibility                        0.12747\n",
              "Item_Type                          Snack Foods\n",
              "Item_MRP                               107.762\n",
              "Outlet_Identifier                       OUT027\n",
              "Outlet_Establishment_Year                 1985\n",
              "Outlet_Size                             Medium\n",
              "Outlet_Location_Type                    Tier 3\n",
              "Outlet_Type                  Supermarket Type3\n",
              "Item_Outlet_Sales                      4022.76\n",
              "Name: 7, dtype: object"
            ]
          },
          "metadata": {},
          "execution_count": 7
        }
      ]
    },
    {
      "cell_type": "code",
      "metadata": {
        "id": "9lwxQIP3g4I9",
        "outputId": "378b7130-c725-42dd-b834-4a0f3ece44b8",
        "colab": {
          "base_uri": "https://localhost:8080/",
          "height": 252
        }
      },
      "source": [
        "# Ascending Order\n",
        "sort_df= df.sort_values(by=['Outlet_Establishment_Year'])     # sort_values(by=['column_name'], ascending= True/False, inplace= True/False) inplace if true it changes the original dataFrame into sorted DataFrame\n",
        "print(sort_df)\n"
      ],
      "execution_count": 8,
      "outputs": [
        {
          "output_type": "stream",
          "name": "stdout",
          "text": [
            "     Item_Identifier  Item_Weight Item_Fat_Content  Item_Visibility  \\\n4338           FDH21          NaN          Low Fat         0.031074   \n3689           FDD53          NaN          Low Fat         0.044008   \n1139           FDH26          NaN          Regular         0.034532   \n1138           FDM21          NaN          Low Fat         0.064052   \n3691           FDY36          NaN          Low Fat         0.016477   \n...              ...          ...              ...              ...   \n3600           FDX31        20.35          Regular         0.014886   \n5053           NCO53        16.20          Low Fat         0.175898   \n7710           NCR18        15.85          Low Fat         0.020571   \n5750           FDV26        20.25          Regular         0.076471   \n7378           FDJ26        15.30          Regular         0.085110   \n\n                  Item_Type  Item_MRP Outlet_Identifier  \\\n4338                Seafood  157.5604            OUT027   \n3689           Frozen Foods   43.7454            OUT027   \n1139                 Canned  142.2496            OUT027   \n1138            Snack Foods  256.1646            OUT027   \n3691           Baking Goods   74.3380            OUT019   \n...                     ...       ...               ...   \n3600  Fruits and Vegetables  234.4958            OUT018   \n5053     Health and Hygiene  183.7608            OUT018   \n7710              Household   41.6112            OUT018   \n5750                  Dairy  196.1794            OUT018   \n7378                 Canned  215.7218            OUT018   \n\n      Outlet_Establishment_Year Outlet_Size Outlet_Location_Type  \\\n4338                       1985      Medium               Tier 3   \n3689                       1985      Medium               Tier 3   \n1139                       1985      Medium               Tier 3   \n1138                       1985      Medium               Tier 3   \n3691                       1985       Small               Tier 1   \n...                         ...         ...                  ...   \n3600                       2009      Medium               Tier 3   \n5053                       2009      Medium               Tier 3   \n7710                       2009      Medium               Tier 3   \n5750                       2009      Medium               Tier 3   \n7378                       2009      Medium               Tier 3   \n\n            Outlet_Type  Item_Outlet_Sales  \n4338  Supermarket Type3          5704.5744  \n3689  Supermarket Type3           671.1264  \n1139  Supermarket Type3          2399.5432  \n1138  Supermarket Type3          7472.2734  \n3691      Grocery Store           146.4760  \n...                 ...                ...  \n3600  Supermarket Type2          3271.7412  \n5053  Supermarket Type2          2940.1728  \n7710  Supermarket Type2           255.6672  \n5750  Supermarket Type2          2731.1116  \n7378  Supermarket Type2          1923.4962  \n\n[8523 rows x 12 columns]\n"
          ]
        }
      ]
    },
    {
      "cell_type": "code",
      "metadata": {
        "id": "y2nJjv1uh4bl",
        "outputId": "20048e59-3663-4bad-8f56-c84d429adc9a",
        "colab": {
          "base_uri": "https://localhost:8080/",
          "height": 590
        }
      },
      "source": [
        "# Descending Order\n",
        "df.sort_values(by=['Outlet_Establishment_Year'], ascending= False, inplace= True)\n",
        "df"
      ],
      "execution_count": null,
      "outputs": [
        {
          "output_type": "execute_result",
          "data": {
            "text/html": [
              "<div>\n",
              "<style scoped>\n",
              "    .dataframe tbody tr th:only-of-type {\n",
              "        vertical-align: middle;\n",
              "    }\n",
              "\n",
              "    .dataframe tbody tr th {\n",
              "        vertical-align: top;\n",
              "    }\n",
              "\n",
              "    .dataframe thead th {\n",
              "        text-align: right;\n",
              "    }\n",
              "</style>\n",
              "<table border=\"1\" class=\"dataframe\">\n",
              "  <thead>\n",
              "    <tr style=\"text-align: right;\">\n",
              "      <th></th>\n",
              "      <th>Item_Identifier</th>\n",
              "      <th>Item_Weight</th>\n",
              "      <th>Item_Fat_Content</th>\n",
              "      <th>Item_Visibility</th>\n",
              "      <th>Item_Type</th>\n",
              "      <th>Item_MRP</th>\n",
              "      <th>Outlet_Identifier</th>\n",
              "      <th>Outlet_Establishment_Year</th>\n",
              "      <th>Outlet_Size</th>\n",
              "      <th>Outlet_Location_Type</th>\n",
              "      <th>Outlet_Type</th>\n",
              "      <th>Item_Outlet_Sales</th>\n",
              "    </tr>\n",
              "  </thead>\n",
              "  <tbody>\n",
              "    <tr>\n",
              "      <th>5371</th>\n",
              "      <td>FDC11</td>\n",
              "      <td>20.500</td>\n",
              "      <td>Low Fat</td>\n",
              "      <td>0.142370</td>\n",
              "      <td>Starchy Foods</td>\n",
              "      <td>90.6172</td>\n",
              "      <td>OUT018</td>\n",
              "      <td>2009</td>\n",
              "      <td>Medium</td>\n",
              "      <td>Tier 3</td>\n",
              "      <td>Supermarket Type2</td>\n",
              "      <td>1427.4752</td>\n",
              "    </tr>\n",
              "    <tr>\n",
              "      <th>6389</th>\n",
              "      <td>FDR07</td>\n",
              "      <td>21.350</td>\n",
              "      <td>Low Fat</td>\n",
              "      <td>0.078061</td>\n",
              "      <td>Fruits and Vegetables</td>\n",
              "      <td>96.0094</td>\n",
              "      <td>OUT018</td>\n",
              "      <td>2009</td>\n",
              "      <td>Medium</td>\n",
              "      <td>Tier 3</td>\n",
              "      <td>Supermarket Type2</td>\n",
              "      <td>380.8376</td>\n",
              "    </tr>\n",
              "    <tr>\n",
              "      <th>2064</th>\n",
              "      <td>FDG50</td>\n",
              "      <td>7.405</td>\n",
              "      <td>Low Fat</td>\n",
              "      <td>0.015334</td>\n",
              "      <td>Canned</td>\n",
              "      <td>92.7146</td>\n",
              "      <td>OUT018</td>\n",
              "      <td>2009</td>\n",
              "      <td>Medium</td>\n",
              "      <td>Tier 3</td>\n",
              "      <td>Supermarket Type2</td>\n",
              "      <td>1185.7898</td>\n",
              "    </tr>\n",
              "    <tr>\n",
              "      <th>3839</th>\n",
              "      <td>DRI37</td>\n",
              "      <td>15.850</td>\n",
              "      <td>Low Fat</td>\n",
              "      <td>0.108036</td>\n",
              "      <td>Soft Drinks</td>\n",
              "      <td>57.3904</td>\n",
              "      <td>OUT018</td>\n",
              "      <td>2009</td>\n",
              "      <td>Medium</td>\n",
              "      <td>Tier 3</td>\n",
              "      <td>Supermarket Type2</td>\n",
              "      <td>703.0848</td>\n",
              "    </tr>\n",
              "    <tr>\n",
              "      <th>6392</th>\n",
              "      <td>FDO52</td>\n",
              "      <td>11.600</td>\n",
              "      <td>Regular</td>\n",
              "      <td>0.077479</td>\n",
              "      <td>Frozen Foods</td>\n",
              "      <td>170.3106</td>\n",
              "      <td>OUT018</td>\n",
              "      <td>2009</td>\n",
              "      <td>Medium</td>\n",
              "      <td>Tier 3</td>\n",
              "      <td>Supermarket Type2</td>\n",
              "      <td>4277.7650</td>\n",
              "    </tr>\n",
              "    <tr>\n",
              "      <th>...</th>\n",
              "      <td>...</td>\n",
              "      <td>...</td>\n",
              "      <td>...</td>\n",
              "      <td>...</td>\n",
              "      <td>...</td>\n",
              "      <td>...</td>\n",
              "      <td>...</td>\n",
              "      <td>...</td>\n",
              "      <td>...</td>\n",
              "      <td>...</td>\n",
              "      <td>...</td>\n",
              "      <td>...</td>\n",
              "    </tr>\n",
              "    <tr>\n",
              "      <th>5065</th>\n",
              "      <td>FDR09</td>\n",
              "      <td>NaN</td>\n",
              "      <td>Low Fat</td>\n",
              "      <td>0.077348</td>\n",
              "      <td>Snack Foods</td>\n",
              "      <td>259.7962</td>\n",
              "      <td>OUT027</td>\n",
              "      <td>1985</td>\n",
              "      <td>Medium</td>\n",
              "      <td>Tier 3</td>\n",
              "      <td>Supermarket Type3</td>\n",
              "      <td>8028.8822</td>\n",
              "    </tr>\n",
              "    <tr>\n",
              "      <th>3320</th>\n",
              "      <td>FDU32</td>\n",
              "      <td>NaN</td>\n",
              "      <td>Low Fat</td>\n",
              "      <td>0.025842</td>\n",
              "      <td>Fruits and Vegetables</td>\n",
              "      <td>120.7414</td>\n",
              "      <td>OUT027</td>\n",
              "      <td>1985</td>\n",
              "      <td>Medium</td>\n",
              "      <td>Tier 3</td>\n",
              "      <td>Supermarket Type3</td>\n",
              "      <td>4386.2904</td>\n",
              "    </tr>\n",
              "    <tr>\n",
              "      <th>6980</th>\n",
              "      <td>FDO46</td>\n",
              "      <td>NaN</td>\n",
              "      <td>Regular</td>\n",
              "      <td>0.014144</td>\n",
              "      <td>Snack Foods</td>\n",
              "      <td>187.3872</td>\n",
              "      <td>OUT027</td>\n",
              "      <td>1985</td>\n",
              "      <td>Medium</td>\n",
              "      <td>Tier 3</td>\n",
              "      <td>Supermarket Type3</td>\n",
              "      <td>2836.3080</td>\n",
              "    </tr>\n",
              "    <tr>\n",
              "      <th>6979</th>\n",
              "      <td>NCK17</td>\n",
              "      <td>NaN</td>\n",
              "      <td>Low Fat</td>\n",
              "      <td>0.000000</td>\n",
              "      <td>Health and Hygiene</td>\n",
              "      <td>40.3480</td>\n",
              "      <td>OUT019</td>\n",
              "      <td>1985</td>\n",
              "      <td>Small</td>\n",
              "      <td>Tier 1</td>\n",
              "      <td>Grocery Store</td>\n",
              "      <td>79.8960</td>\n",
              "    </tr>\n",
              "    <tr>\n",
              "      <th>4187</th>\n",
              "      <td>FDE52</td>\n",
              "      <td>NaN</td>\n",
              "      <td>Regular</td>\n",
              "      <td>0.029742</td>\n",
              "      <td>Dairy</td>\n",
              "      <td>88.9514</td>\n",
              "      <td>OUT027</td>\n",
              "      <td>1985</td>\n",
              "      <td>Medium</td>\n",
              "      <td>Tier 3</td>\n",
              "      <td>Supermarket Type3</td>\n",
              "      <td>3453.5046</td>\n",
              "    </tr>\n",
              "  </tbody>\n",
              "</table>\n",
              "<p>8523 rows × 12 columns</p>\n",
              "</div>"
            ],
            "text/plain": [
              "     Item_Identifier  Item_Weight  ...        Outlet_Type  Item_Outlet_Sales\n",
              "5371           FDC11       20.500  ...  Supermarket Type2          1427.4752\n",
              "6389           FDR07       21.350  ...  Supermarket Type2           380.8376\n",
              "2064           FDG50        7.405  ...  Supermarket Type2          1185.7898\n",
              "3839           DRI37       15.850  ...  Supermarket Type2           703.0848\n",
              "6392           FDO52       11.600  ...  Supermarket Type2          4277.7650\n",
              "...              ...          ...  ...                ...                ...\n",
              "5065           FDR09          NaN  ...  Supermarket Type3          8028.8822\n",
              "3320           FDU32          NaN  ...  Supermarket Type3          4386.2904\n",
              "6980           FDO46          NaN  ...  Supermarket Type3          2836.3080\n",
              "6979           NCK17          NaN  ...      Grocery Store            79.8960\n",
              "4187           FDE52          NaN  ...  Supermarket Type3          3453.5046\n",
              "\n",
              "[8523 rows x 12 columns]"
            ]
          },
          "metadata": {
            "tags": []
          },
          "execution_count": 29
        }
      ]
    },
    {
      "cell_type": "code",
      "metadata": {
        "id": "vT_XqPypjF6f",
        "outputId": "1eaeca56-c0f6-4fff-ae60-61da2409350b",
        "colab": {
          "base_uri": "https://localhost:8080/",
          "height": 590
        }
      },
      "source": [
        "#sort_index() method sorts the dataFrame based on the index values of the DataFramem\n",
        "df.sort_index()\n",
        "df"
      ],
      "execution_count": 9,
      "outputs": [
        {
          "output_type": "execute_result",
          "data": {
            "text/plain": [
              "     Item_Identifier  Item_Weight Item_Fat_Content  Item_Visibility  \\\n",
              "0              FDA15        9.300          Low Fat         0.016047   \n",
              "1              DRC01        5.920          Regular         0.019278   \n",
              "2              FDN15       17.500          Low Fat         0.016760   \n",
              "3              FDX07       19.200          Regular         0.000000   \n",
              "4              NCD19        8.930          Low Fat         0.000000   \n",
              "...              ...          ...              ...              ...   \n",
              "8518           FDF22        6.865          Low Fat         0.056783   \n",
              "8519           FDS36        8.380          Regular         0.046982   \n",
              "8520           NCJ29       10.600          Low Fat         0.035186   \n",
              "8521           FDN46        7.210          Regular         0.145221   \n",
              "8522           DRG01       14.800          Low Fat         0.044878   \n",
              "\n",
              "                  Item_Type  Item_MRP Outlet_Identifier  \\\n",
              "0                     Dairy  249.8092            OUT049   \n",
              "1               Soft Drinks   48.2692            OUT018   \n",
              "2                      Meat  141.6180            OUT049   \n",
              "3     Fruits and Vegetables  182.0950            OUT010   \n",
              "4                 Household   53.8614            OUT013   \n",
              "...                     ...       ...               ...   \n",
              "8518            Snack Foods  214.5218            OUT013   \n",
              "8519           Baking Goods  108.1570            OUT045   \n",
              "8520     Health and Hygiene   85.1224            OUT035   \n",
              "8521            Snack Foods  103.1332            OUT018   \n",
              "8522            Soft Drinks   75.4670            OUT046   \n",
              "\n",
              "      Outlet_Establishment_Year Outlet_Size Outlet_Location_Type  \\\n",
              "0                          1999      Medium               Tier 1   \n",
              "1                          2009      Medium               Tier 3   \n",
              "2                          1999      Medium               Tier 1   \n",
              "3                          1998         NaN               Tier 3   \n",
              "4                          1987        High               Tier 3   \n",
              "...                         ...         ...                  ...   \n",
              "8518                       1987        High               Tier 3   \n",
              "8519                       2002         NaN               Tier 2   \n",
              "8520                       2004       Small               Tier 2   \n",
              "8521                       2009      Medium               Tier 3   \n",
              "8522                       1997       Small               Tier 1   \n",
              "\n",
              "            Outlet_Type  Item_Outlet_Sales  \n",
              "0     Supermarket Type1          3735.1380  \n",
              "1     Supermarket Type2           443.4228  \n",
              "2     Supermarket Type1          2097.2700  \n",
              "3         Grocery Store           732.3800  \n",
              "4     Supermarket Type1           994.7052  \n",
              "...                 ...                ...  \n",
              "8518  Supermarket Type1          2778.3834  \n",
              "8519  Supermarket Type1           549.2850  \n",
              "8520  Supermarket Type1          1193.1136  \n",
              "8521  Supermarket Type2          1845.5976  \n",
              "8522  Supermarket Type1           765.6700  \n",
              "\n",
              "[8523 rows x 12 columns]"
            ],
            "text/html": "<div>\n<style scoped>\n    .dataframe tbody tr th:only-of-type {\n        vertical-align: middle;\n    }\n\n    .dataframe tbody tr th {\n        vertical-align: top;\n    }\n\n    .dataframe thead th {\n        text-align: right;\n    }\n</style>\n<table border=\"1\" class=\"dataframe\">\n  <thead>\n    <tr style=\"text-align: right;\">\n      <th></th>\n      <th>Item_Identifier</th>\n      <th>Item_Weight</th>\n      <th>Item_Fat_Content</th>\n      <th>Item_Visibility</th>\n      <th>Item_Type</th>\n      <th>Item_MRP</th>\n      <th>Outlet_Identifier</th>\n      <th>Outlet_Establishment_Year</th>\n      <th>Outlet_Size</th>\n      <th>Outlet_Location_Type</th>\n      <th>Outlet_Type</th>\n      <th>Item_Outlet_Sales</th>\n    </tr>\n  </thead>\n  <tbody>\n    <tr>\n      <th>0</th>\n      <td>FDA15</td>\n      <td>9.300</td>\n      <td>Low Fat</td>\n      <td>0.016047</td>\n      <td>Dairy</td>\n      <td>249.8092</td>\n      <td>OUT049</td>\n      <td>1999</td>\n      <td>Medium</td>\n      <td>Tier 1</td>\n      <td>Supermarket Type1</td>\n      <td>3735.1380</td>\n    </tr>\n    <tr>\n      <th>1</th>\n      <td>DRC01</td>\n      <td>5.920</td>\n      <td>Regular</td>\n      <td>0.019278</td>\n      <td>Soft Drinks</td>\n      <td>48.2692</td>\n      <td>OUT018</td>\n      <td>2009</td>\n      <td>Medium</td>\n      <td>Tier 3</td>\n      <td>Supermarket Type2</td>\n      <td>443.4228</td>\n    </tr>\n    <tr>\n      <th>2</th>\n      <td>FDN15</td>\n      <td>17.500</td>\n      <td>Low Fat</td>\n      <td>0.016760</td>\n      <td>Meat</td>\n      <td>141.6180</td>\n      <td>OUT049</td>\n      <td>1999</td>\n      <td>Medium</td>\n      <td>Tier 1</td>\n      <td>Supermarket Type1</td>\n      <td>2097.2700</td>\n    </tr>\n    <tr>\n      <th>3</th>\n      <td>FDX07</td>\n      <td>19.200</td>\n      <td>Regular</td>\n      <td>0.000000</td>\n      <td>Fruits and Vegetables</td>\n      <td>182.0950</td>\n      <td>OUT010</td>\n      <td>1998</td>\n      <td>NaN</td>\n      <td>Tier 3</td>\n      <td>Grocery Store</td>\n      <td>732.3800</td>\n    </tr>\n    <tr>\n      <th>4</th>\n      <td>NCD19</td>\n      <td>8.930</td>\n      <td>Low Fat</td>\n      <td>0.000000</td>\n      <td>Household</td>\n      <td>53.8614</td>\n      <td>OUT013</td>\n      <td>1987</td>\n      <td>High</td>\n      <td>Tier 3</td>\n      <td>Supermarket Type1</td>\n      <td>994.7052</td>\n    </tr>\n    <tr>\n      <th>...</th>\n      <td>...</td>\n      <td>...</td>\n      <td>...</td>\n      <td>...</td>\n      <td>...</td>\n      <td>...</td>\n      <td>...</td>\n      <td>...</td>\n      <td>...</td>\n      <td>...</td>\n      <td>...</td>\n      <td>...</td>\n    </tr>\n    <tr>\n      <th>8518</th>\n      <td>FDF22</td>\n      <td>6.865</td>\n      <td>Low Fat</td>\n      <td>0.056783</td>\n      <td>Snack Foods</td>\n      <td>214.5218</td>\n      <td>OUT013</td>\n      <td>1987</td>\n      <td>High</td>\n      <td>Tier 3</td>\n      <td>Supermarket Type1</td>\n      <td>2778.3834</td>\n    </tr>\n    <tr>\n      <th>8519</th>\n      <td>FDS36</td>\n      <td>8.380</td>\n      <td>Regular</td>\n      <td>0.046982</td>\n      <td>Baking Goods</td>\n      <td>108.1570</td>\n      <td>OUT045</td>\n      <td>2002</td>\n      <td>NaN</td>\n      <td>Tier 2</td>\n      <td>Supermarket Type1</td>\n      <td>549.2850</td>\n    </tr>\n    <tr>\n      <th>8520</th>\n      <td>NCJ29</td>\n      <td>10.600</td>\n      <td>Low Fat</td>\n      <td>0.035186</td>\n      <td>Health and Hygiene</td>\n      <td>85.1224</td>\n      <td>OUT035</td>\n      <td>2004</td>\n      <td>Small</td>\n      <td>Tier 2</td>\n      <td>Supermarket Type1</td>\n      <td>1193.1136</td>\n    </tr>\n    <tr>\n      <th>8521</th>\n      <td>FDN46</td>\n      <td>7.210</td>\n      <td>Regular</td>\n      <td>0.145221</td>\n      <td>Snack Foods</td>\n      <td>103.1332</td>\n      <td>OUT018</td>\n      <td>2009</td>\n      <td>Medium</td>\n      <td>Tier 3</td>\n      <td>Supermarket Type2</td>\n      <td>1845.5976</td>\n    </tr>\n    <tr>\n      <th>8522</th>\n      <td>DRG01</td>\n      <td>14.800</td>\n      <td>Low Fat</td>\n      <td>0.044878</td>\n      <td>Soft Drinks</td>\n      <td>75.4670</td>\n      <td>OUT046</td>\n      <td>1997</td>\n      <td>Small</td>\n      <td>Tier 1</td>\n      <td>Supermarket Type1</td>\n      <td>765.6700</td>\n    </tr>\n  </tbody>\n</table>\n<p>8523 rows × 12 columns</p>\n</div>"
          },
          "metadata": {},
          "execution_count": 9
        }
      ]
    },
    {
      "cell_type": "code",
      "metadata": {
        "id": "t9s9TKVJjinr",
        "outputId": "17c9828c-eea9-4abd-e0cf-a289b48b4321",
        "colab": {
          "base_uri": "https://localhost:8080/",
          "height": 299
        }
      },
      "source": [
        "#Sorting Mutliple columns\n",
        "multi=df.sort_values(by=['Outlet_Establishment_Year', 'Item_Weight'])\n",
        "multi.tail()"
      ],
      "execution_count": 10,
      "outputs": [
        {
          "output_type": "execute_result",
          "data": {
            "text/plain": [
              "     Item_Identifier  Item_Weight Item_Fat_Content  Item_Visibility  \\\n",
              "6705           FDA45        21.25          Low Fat         0.156013   \n",
              "7158           NCX17        21.25          Low Fat         0.114066   \n",
              "8221           NCO42        21.25          Low Fat         0.024756   \n",
              "43             FDC02        21.35          Low Fat         0.069103   \n",
              "6389           FDR07        21.35          Low Fat         0.078061   \n",
              "\n",
              "                  Item_Type  Item_MRP Outlet_Identifier  \\\n",
              "6705            Snack Foods  177.3370            OUT018   \n",
              "7158     Health and Hygiene  233.0300            OUT018   \n",
              "8221              Household  146.7102            OUT018   \n",
              "43                   Canned  259.9278            OUT018   \n",
              "6389  Fruits and Vegetables   96.0094            OUT018   \n",
              "\n",
              "      Outlet_Establishment_Year Outlet_Size Outlet_Location_Type  \\\n",
              "6705                       2009      Medium               Tier 3   \n",
              "7158                       2009      Medium               Tier 3   \n",
              "8221                       2009      Medium               Tier 3   \n",
              "43                         2009      Medium               Tier 3   \n",
              "6389                       2009      Medium               Tier 3   \n",
              "\n",
              "            Outlet_Type  Item_Outlet_Sales  \n",
              "6705  Supermarket Type2          2822.9920  \n",
              "7158  Supermarket Type2          5592.7200  \n",
              "8221  Supermarket Type2          1603.9122  \n",
              "43    Supermarket Type2          6768.5228  \n",
              "6389  Supermarket Type2           380.8376  "
            ],
            "text/html": "<div>\n<style scoped>\n    .dataframe tbody tr th:only-of-type {\n        vertical-align: middle;\n    }\n\n    .dataframe tbody tr th {\n        vertical-align: top;\n    }\n\n    .dataframe thead th {\n        text-align: right;\n    }\n</style>\n<table border=\"1\" class=\"dataframe\">\n  <thead>\n    <tr style=\"text-align: right;\">\n      <th></th>\n      <th>Item_Identifier</th>\n      <th>Item_Weight</th>\n      <th>Item_Fat_Content</th>\n      <th>Item_Visibility</th>\n      <th>Item_Type</th>\n      <th>Item_MRP</th>\n      <th>Outlet_Identifier</th>\n      <th>Outlet_Establishment_Year</th>\n      <th>Outlet_Size</th>\n      <th>Outlet_Location_Type</th>\n      <th>Outlet_Type</th>\n      <th>Item_Outlet_Sales</th>\n    </tr>\n  </thead>\n  <tbody>\n    <tr>\n      <th>6705</th>\n      <td>FDA45</td>\n      <td>21.25</td>\n      <td>Low Fat</td>\n      <td>0.156013</td>\n      <td>Snack Foods</td>\n      <td>177.3370</td>\n      <td>OUT018</td>\n      <td>2009</td>\n      <td>Medium</td>\n      <td>Tier 3</td>\n      <td>Supermarket Type2</td>\n      <td>2822.9920</td>\n    </tr>\n    <tr>\n      <th>7158</th>\n      <td>NCX17</td>\n      <td>21.25</td>\n      <td>Low Fat</td>\n      <td>0.114066</td>\n      <td>Health and Hygiene</td>\n      <td>233.0300</td>\n      <td>OUT018</td>\n      <td>2009</td>\n      <td>Medium</td>\n      <td>Tier 3</td>\n      <td>Supermarket Type2</td>\n      <td>5592.7200</td>\n    </tr>\n    <tr>\n      <th>8221</th>\n      <td>NCO42</td>\n      <td>21.25</td>\n      <td>Low Fat</td>\n      <td>0.024756</td>\n      <td>Household</td>\n      <td>146.7102</td>\n      <td>OUT018</td>\n      <td>2009</td>\n      <td>Medium</td>\n      <td>Tier 3</td>\n      <td>Supermarket Type2</td>\n      <td>1603.9122</td>\n    </tr>\n    <tr>\n      <th>43</th>\n      <td>FDC02</td>\n      <td>21.35</td>\n      <td>Low Fat</td>\n      <td>0.069103</td>\n      <td>Canned</td>\n      <td>259.9278</td>\n      <td>OUT018</td>\n      <td>2009</td>\n      <td>Medium</td>\n      <td>Tier 3</td>\n      <td>Supermarket Type2</td>\n      <td>6768.5228</td>\n    </tr>\n    <tr>\n      <th>6389</th>\n      <td>FDR07</td>\n      <td>21.35</td>\n      <td>Low Fat</td>\n      <td>0.078061</td>\n      <td>Fruits and Vegetables</td>\n      <td>96.0094</td>\n      <td>OUT018</td>\n      <td>2009</td>\n      <td>Medium</td>\n      <td>Tier 3</td>\n      <td>Supermarket Type2</td>\n      <td>380.8376</td>\n    </tr>\n  </tbody>\n</table>\n</div>"
          },
          "metadata": {},
          "execution_count": 10
        }
      ]
    },
    {
      "cell_type": "code",
      "metadata": {
        "id": "JCvpt0QBkM6T",
        "outputId": "fea9cb07-9a45-47a7-b610-65219f46147c",
        "colab": {
          "base_uri": "https://localhost:8080/",
          "height": 590
        }
      },
      "source": [
        "multi.sort_values(by=['Outlet_Location_Type'])\n",
        "multi"
      ],
      "execution_count": 11,
      "outputs": [
        {
          "output_type": "execute_result",
          "data": {
            "text/plain": [
              "     Item_Identifier  Item_Weight Item_Fat_Content  Item_Visibility  \\\n",
              "7              FDP10          NaN          Low Fat         0.127470   \n",
              "18             DRI11          NaN          Low Fat         0.034238   \n",
              "21             FDW12          NaN          Regular         0.035400   \n",
              "23             FDC37          NaN          Low Fat         0.057557   \n",
              "29             FDC14          NaN          Regular         0.072222   \n",
              "...              ...          ...              ...              ...   \n",
              "6705           FDA45        21.25          Low Fat         0.156013   \n",
              "7158           NCX17        21.25          Low Fat         0.114066   \n",
              "8221           NCO42        21.25          Low Fat         0.024756   \n",
              "43             FDC02        21.35          Low Fat         0.069103   \n",
              "6389           FDR07        21.35          Low Fat         0.078061   \n",
              "\n",
              "                  Item_Type  Item_MRP Outlet_Identifier  \\\n",
              "7               Snack Foods  107.7622            OUT027   \n",
              "18              Hard Drinks  113.2834            OUT027   \n",
              "21             Baking Goods  144.5444            OUT027   \n",
              "23             Baking Goods  107.6938            OUT019   \n",
              "29                   Canned   43.6454            OUT019   \n",
              "...                     ...       ...               ...   \n",
              "6705            Snack Foods  177.3370            OUT018   \n",
              "7158     Health and Hygiene  233.0300            OUT018   \n",
              "8221              Household  146.7102            OUT018   \n",
              "43                   Canned  259.9278            OUT018   \n",
              "6389  Fruits and Vegetables   96.0094            OUT018   \n",
              "\n",
              "      Outlet_Establishment_Year Outlet_Size Outlet_Location_Type  \\\n",
              "7                          1985      Medium               Tier 3   \n",
              "18                         1985      Medium               Tier 3   \n",
              "21                         1985      Medium               Tier 3   \n",
              "23                         1985       Small               Tier 1   \n",
              "29                         1985       Small               Tier 1   \n",
              "...                         ...         ...                  ...   \n",
              "6705                       2009      Medium               Tier 3   \n",
              "7158                       2009      Medium               Tier 3   \n",
              "8221                       2009      Medium               Tier 3   \n",
              "43                         2009      Medium               Tier 3   \n",
              "6389                       2009      Medium               Tier 3   \n",
              "\n",
              "            Outlet_Type  Item_Outlet_Sales  \n",
              "7     Supermarket Type3          4022.7636  \n",
              "18    Supermarket Type3          2303.6680  \n",
              "21    Supermarket Type3          4064.0432  \n",
              "23        Grocery Store           214.3876  \n",
              "29        Grocery Store           125.8362  \n",
              "...                 ...                ...  \n",
              "6705  Supermarket Type2          2822.9920  \n",
              "7158  Supermarket Type2          5592.7200  \n",
              "8221  Supermarket Type2          1603.9122  \n",
              "43    Supermarket Type2          6768.5228  \n",
              "6389  Supermarket Type2           380.8376  \n",
              "\n",
              "[8523 rows x 12 columns]"
            ],
            "text/html": "<div>\n<style scoped>\n    .dataframe tbody tr th:only-of-type {\n        vertical-align: middle;\n    }\n\n    .dataframe tbody tr th {\n        vertical-align: top;\n    }\n\n    .dataframe thead th {\n        text-align: right;\n    }\n</style>\n<table border=\"1\" class=\"dataframe\">\n  <thead>\n    <tr style=\"text-align: right;\">\n      <th></th>\n      <th>Item_Identifier</th>\n      <th>Item_Weight</th>\n      <th>Item_Fat_Content</th>\n      <th>Item_Visibility</th>\n      <th>Item_Type</th>\n      <th>Item_MRP</th>\n      <th>Outlet_Identifier</th>\n      <th>Outlet_Establishment_Year</th>\n      <th>Outlet_Size</th>\n      <th>Outlet_Location_Type</th>\n      <th>Outlet_Type</th>\n      <th>Item_Outlet_Sales</th>\n    </tr>\n  </thead>\n  <tbody>\n    <tr>\n      <th>7</th>\n      <td>FDP10</td>\n      <td>NaN</td>\n      <td>Low Fat</td>\n      <td>0.127470</td>\n      <td>Snack Foods</td>\n      <td>107.7622</td>\n      <td>OUT027</td>\n      <td>1985</td>\n      <td>Medium</td>\n      <td>Tier 3</td>\n      <td>Supermarket Type3</td>\n      <td>4022.7636</td>\n    </tr>\n    <tr>\n      <th>18</th>\n      <td>DRI11</td>\n      <td>NaN</td>\n      <td>Low Fat</td>\n      <td>0.034238</td>\n      <td>Hard Drinks</td>\n      <td>113.2834</td>\n      <td>OUT027</td>\n      <td>1985</td>\n      <td>Medium</td>\n      <td>Tier 3</td>\n      <td>Supermarket Type3</td>\n      <td>2303.6680</td>\n    </tr>\n    <tr>\n      <th>21</th>\n      <td>FDW12</td>\n      <td>NaN</td>\n      <td>Regular</td>\n      <td>0.035400</td>\n      <td>Baking Goods</td>\n      <td>144.5444</td>\n      <td>OUT027</td>\n      <td>1985</td>\n      <td>Medium</td>\n      <td>Tier 3</td>\n      <td>Supermarket Type3</td>\n      <td>4064.0432</td>\n    </tr>\n    <tr>\n      <th>23</th>\n      <td>FDC37</td>\n      <td>NaN</td>\n      <td>Low Fat</td>\n      <td>0.057557</td>\n      <td>Baking Goods</td>\n      <td>107.6938</td>\n      <td>OUT019</td>\n      <td>1985</td>\n      <td>Small</td>\n      <td>Tier 1</td>\n      <td>Grocery Store</td>\n      <td>214.3876</td>\n    </tr>\n    <tr>\n      <th>29</th>\n      <td>FDC14</td>\n      <td>NaN</td>\n      <td>Regular</td>\n      <td>0.072222</td>\n      <td>Canned</td>\n      <td>43.6454</td>\n      <td>OUT019</td>\n      <td>1985</td>\n      <td>Small</td>\n      <td>Tier 1</td>\n      <td>Grocery Store</td>\n      <td>125.8362</td>\n    </tr>\n    <tr>\n      <th>...</th>\n      <td>...</td>\n      <td>...</td>\n      <td>...</td>\n      <td>...</td>\n      <td>...</td>\n      <td>...</td>\n      <td>...</td>\n      <td>...</td>\n      <td>...</td>\n      <td>...</td>\n      <td>...</td>\n      <td>...</td>\n    </tr>\n    <tr>\n      <th>6705</th>\n      <td>FDA45</td>\n      <td>21.25</td>\n      <td>Low Fat</td>\n      <td>0.156013</td>\n      <td>Snack Foods</td>\n      <td>177.3370</td>\n      <td>OUT018</td>\n      <td>2009</td>\n      <td>Medium</td>\n      <td>Tier 3</td>\n      <td>Supermarket Type2</td>\n      <td>2822.9920</td>\n    </tr>\n    <tr>\n      <th>7158</th>\n      <td>NCX17</td>\n      <td>21.25</td>\n      <td>Low Fat</td>\n      <td>0.114066</td>\n      <td>Health and Hygiene</td>\n      <td>233.0300</td>\n      <td>OUT018</td>\n      <td>2009</td>\n      <td>Medium</td>\n      <td>Tier 3</td>\n      <td>Supermarket Type2</td>\n      <td>5592.7200</td>\n    </tr>\n    <tr>\n      <th>8221</th>\n      <td>NCO42</td>\n      <td>21.25</td>\n      <td>Low Fat</td>\n      <td>0.024756</td>\n      <td>Household</td>\n      <td>146.7102</td>\n      <td>OUT018</td>\n      <td>2009</td>\n      <td>Medium</td>\n      <td>Tier 3</td>\n      <td>Supermarket Type2</td>\n      <td>1603.9122</td>\n    </tr>\n    <tr>\n      <th>43</th>\n      <td>FDC02</td>\n      <td>21.35</td>\n      <td>Low Fat</td>\n      <td>0.069103</td>\n      <td>Canned</td>\n      <td>259.9278</td>\n      <td>OUT018</td>\n      <td>2009</td>\n      <td>Medium</td>\n      <td>Tier 3</td>\n      <td>Supermarket Type2</td>\n      <td>6768.5228</td>\n    </tr>\n    <tr>\n      <th>6389</th>\n      <td>FDR07</td>\n      <td>21.35</td>\n      <td>Low Fat</td>\n      <td>0.078061</td>\n      <td>Fruits and Vegetables</td>\n      <td>96.0094</td>\n      <td>OUT018</td>\n      <td>2009</td>\n      <td>Medium</td>\n      <td>Tier 3</td>\n      <td>Supermarket Type2</td>\n      <td>380.8376</td>\n    </tr>\n  </tbody>\n</table>\n<p>8523 rows × 12 columns</p>\n</div>"
          },
          "metadata": {},
          "execution_count": 11
        }
      ]
    },
    {
      "cell_type": "markdown",
      "metadata": {
        "id": "fqtz6oh6oEjy"
      },
      "source": [
        "Binning/ Discretization Using Pandas"
      ]
    },
    {
      "cell_type": "code",
      "metadata": {
        "id": "VZy2VPLMoJNX",
        "outputId": "6201b893-afc9-4acc-a679-6db2c06c7d66",
        "colab": {
          "base_uri": "https://localhost:8080/",
          "height": 136
        }
      },
      "source": [
        "import pandas as pd\n",
        "data={'Title':['The Hobbit', 'Robinson Crusoe', 'Moby Dick'],\n",
        "    'Author':['J.R.R. Tolkien', 'Daniel Defoe', 'Herman Melville']}\n",
        "df= pd.DataFrame(data)\n",
        "df"
      ],
      "execution_count": 12,
      "outputs": [
        {
          "output_type": "execute_result",
          "data": {
            "text/plain": [
              "             Title           Author\n",
              "0       The Hobbit   J.R.R. Tolkien\n",
              "1  Robinson Crusoe     Daniel Defoe\n",
              "2        Moby Dick  Herman Melville"
            ],
            "text/html": "<div>\n<style scoped>\n    .dataframe tbody tr th:only-of-type {\n        vertical-align: middle;\n    }\n\n    .dataframe tbody tr th {\n        vertical-align: top;\n    }\n\n    .dataframe thead th {\n        text-align: right;\n    }\n</style>\n<table border=\"1\" class=\"dataframe\">\n  <thead>\n    <tr style=\"text-align: right;\">\n      <th></th>\n      <th>Title</th>\n      <th>Author</th>\n    </tr>\n  </thead>\n  <tbody>\n    <tr>\n      <th>0</th>\n      <td>The Hobbit</td>\n      <td>J.R.R. Tolkien</td>\n    </tr>\n    <tr>\n      <th>1</th>\n      <td>Robinson Crusoe</td>\n      <td>Daniel Defoe</td>\n    </tr>\n    <tr>\n      <th>2</th>\n      <td>Moby Dick</td>\n      <td>Herman Melville</td>\n    </tr>\n  </tbody>\n</table>\n</div>"
          },
          "metadata": {},
          "execution_count": 12
        }
      ]
    },
    {
      "cell_type": "code",
      "metadata": {
        "id": "wD6rcW1PoYTl",
        "outputId": "7b03943e-8b66-4d2b-a538-1454f8a7a34a",
        "colab": {
          "base_uri": "https://localhost:8080/",
          "height": 136
        }
      },
      "source": [
        "df['new_col']= [9,25,13]         # Created a new column named new_col and assigned values as 10,20,30\n",
        "df['bins']=pd.cut(x=df['new_col'], bins= [0,10,20,30])    # df['new_bin_column_name']=pd.cut(x=df['column_to_be_binned'], bins=[range of values])\n",
        "df"
      ],
      "execution_count": 13,
      "outputs": [
        {
          "output_type": "execute_result",
          "data": {
            "text/plain": [
              "             Title           Author  new_col      bins\n",
              "0       The Hobbit   J.R.R. Tolkien        9   (0, 10]\n",
              "1  Robinson Crusoe     Daniel Defoe       25  (20, 30]\n",
              "2        Moby Dick  Herman Melville       13  (10, 20]"
            ],
            "text/html": "<div>\n<style scoped>\n    .dataframe tbody tr th:only-of-type {\n        vertical-align: middle;\n    }\n\n    .dataframe tbody tr th {\n        vertical-align: top;\n    }\n\n    .dataframe thead th {\n        text-align: right;\n    }\n</style>\n<table border=\"1\" class=\"dataframe\">\n  <thead>\n    <tr style=\"text-align: right;\">\n      <th></th>\n      <th>Title</th>\n      <th>Author</th>\n      <th>new_col</th>\n      <th>bins</th>\n    </tr>\n  </thead>\n  <tbody>\n    <tr>\n      <th>0</th>\n      <td>The Hobbit</td>\n      <td>J.R.R. Tolkien</td>\n      <td>9</td>\n      <td>(0, 10]</td>\n    </tr>\n    <tr>\n      <th>1</th>\n      <td>Robinson Crusoe</td>\n      <td>Daniel Defoe</td>\n      <td>25</td>\n      <td>(20, 30]</td>\n    </tr>\n    <tr>\n      <th>2</th>\n      <td>Moby Dick</td>\n      <td>Herman Melville</td>\n      <td>13</td>\n      <td>(10, 20]</td>\n    </tr>\n  </tbody>\n</table>\n</div>"
          },
          "metadata": {},
          "execution_count": 13
        }
      ]
    },
    {
      "cell_type": "code",
      "metadata": {
        "id": "QhiKVq2pswEO",
        "outputId": "64d55fcc-fce3-423c-cf00-93b0e55fa5d0",
        "colab": {
          "base_uri": "https://localhost:8080/",
          "height": 136
        }
      },
      "source": [
        "df['bins'].unique()\n",
        "df.rename(columns={'new_col': 'Age'}, inplace= True)\n",
        "df"
      ],
      "execution_count": 14,
      "outputs": [
        {
          "output_type": "execute_result",
          "data": {
            "text/plain": [
              "             Title           Author  Age      bins\n",
              "0       The Hobbit   J.R.R. Tolkien    9   (0, 10]\n",
              "1  Robinson Crusoe     Daniel Defoe   25  (20, 30]\n",
              "2        Moby Dick  Herman Melville   13  (10, 20]"
            ],
            "text/html": "<div>\n<style scoped>\n    .dataframe tbody tr th:only-of-type {\n        vertical-align: middle;\n    }\n\n    .dataframe tbody tr th {\n        vertical-align: top;\n    }\n\n    .dataframe thead th {\n        text-align: right;\n    }\n</style>\n<table border=\"1\" class=\"dataframe\">\n  <thead>\n    <tr style=\"text-align: right;\">\n      <th></th>\n      <th>Title</th>\n      <th>Author</th>\n      <th>Age</th>\n      <th>bins</th>\n    </tr>\n  </thead>\n  <tbody>\n    <tr>\n      <th>0</th>\n      <td>The Hobbit</td>\n      <td>J.R.R. Tolkien</td>\n      <td>9</td>\n      <td>(0, 10]</td>\n    </tr>\n    <tr>\n      <th>1</th>\n      <td>Robinson Crusoe</td>\n      <td>Daniel Defoe</td>\n      <td>25</td>\n      <td>(20, 30]</td>\n    </tr>\n    <tr>\n      <th>2</th>\n      <td>Moby Dick</td>\n      <td>Herman Melville</td>\n      <td>13</td>\n      <td>(10, 20]</td>\n    </tr>\n  </tbody>\n</table>\n</div>"
          },
          "metadata": {},
          "execution_count": 14
        }
      ]
    },
    {
      "cell_type": "code",
      "metadata": {
        "id": "ySAWSGkgtBSL",
        "outputId": "766c7efa-c472-4847-bfe4-1ef8f94ec3e0",
        "colab": {
          "base_uri": "https://localhost:8080/",
          "height": 136
        }
      },
      "source": [
        "# Create New Column of of decade With Labels 10s, 20s, and 30s\n",
        "df['decade']= pd.cut(x=df['Age'], bins=[0,10,20,30], labels=['10s', '20s', '30s'])\n",
        "df"
      ],
      "execution_count": 15,
      "outputs": [
        {
          "output_type": "execute_result",
          "data": {
            "text/plain": [
              "             Title           Author  Age      bins decade\n",
              "0       The Hobbit   J.R.R. Tolkien    9   (0, 10]    10s\n",
              "1  Robinson Crusoe     Daniel Defoe   25  (20, 30]    30s\n",
              "2        Moby Dick  Herman Melville   13  (10, 20]    20s"
            ],
            "text/html": "<div>\n<style scoped>\n    .dataframe tbody tr th:only-of-type {\n        vertical-align: middle;\n    }\n\n    .dataframe tbody tr th {\n        vertical-align: top;\n    }\n\n    .dataframe thead th {\n        text-align: right;\n    }\n</style>\n<table border=\"1\" class=\"dataframe\">\n  <thead>\n    <tr style=\"text-align: right;\">\n      <th></th>\n      <th>Title</th>\n      <th>Author</th>\n      <th>Age</th>\n      <th>bins</th>\n      <th>decade</th>\n    </tr>\n  </thead>\n  <tbody>\n    <tr>\n      <th>0</th>\n      <td>The Hobbit</td>\n      <td>J.R.R. Tolkien</td>\n      <td>9</td>\n      <td>(0, 10]</td>\n      <td>10s</td>\n    </tr>\n    <tr>\n      <th>1</th>\n      <td>Robinson Crusoe</td>\n      <td>Daniel Defoe</td>\n      <td>25</td>\n      <td>(20, 30]</td>\n      <td>30s</td>\n    </tr>\n    <tr>\n      <th>2</th>\n      <td>Moby Dick</td>\n      <td>Herman Melville</td>\n      <td>13</td>\n      <td>(10, 20]</td>\n      <td>20s</td>\n    </tr>\n  </tbody>\n</table>\n</div>"
          },
          "metadata": {},
          "execution_count": 15
        }
      ]
    },
    {
      "cell_type": "markdown",
      "metadata": {
        "id": "e1KqyQ-K1nx9"
      },
      "source": [
        "Handling Missing values in Pandas DataFrame"
      ]
    },
    {
      "cell_type": "code",
      "metadata": {
        "id": "U3DkTqn71umC"
      },
      "source": [
        "import pandas as pd\n",
        "import numpy as np"
      ],
      "execution_count": 16,
      "outputs": []
    },
    {
      "cell_type": "code",
      "metadata": {
        "id": "KULAxLeK2HL6",
        "outputId": "74e74307-9fc1-4798-9607-4fc99c0a4078",
        "colab": {
          "base_uri": "https://localhost:8080/",
          "height": 235
        }
      },
      "source": [
        "df=pd.read_csv('bigmart_data.csv')\n",
        "null=df.isna().sum()\n",
        "print(null)             # we have 1463 na values in Item_Weight column and 2410 NA values in outlet_Size column"
      ],
      "execution_count": 23,
      "outputs": [
        {
          "output_type": "stream",
          "name": "stdout",
          "text": [
            "Item_Identifier                 0\nItem_Weight                  1463\nItem_Fat_Content                0\nItem_Visibility                 0\nItem_Type                       0\nItem_MRP                        0\nOutlet_Identifier               0\nOutlet_Establishment_Year       0\nOutlet_Size                  2410\nOutlet_Location_Type            0\nOutlet_Type                     0\nItem_Outlet_Sales               0\ndtype: int64\n"
          ]
        }
      ]
    },
    {
      "cell_type": "code",
      "metadata": {
        "id": "ifHylI4f4Ixb",
        "outputId": "6e436b73-1c59-4b7d-f2ac-200499249d47",
        "colab": {
          "base_uri": "https://localhost:8080/",
          "height": 50
        }
      },
      "source": [
        "#we calculate the percantage of NA values in DataSet\n",
        "total= np.product(df.shape)\n",
        "print(total)\n",
        "missing= null.sum()\n",
        "percentage_NA= (missing/total)*100\n",
        "print(\"The percentage of NA values in the DataSet given:\", percentage_NA)       # There is 3.78% of NA values in the Dataset provided"
      ],
      "execution_count": 24,
      "outputs": [
        {
          "output_type": "stream",
          "name": "stdout",
          "text": [
            "102276\nThe percentage of NA values in the DataSet given: 3.786812155344362\n"
          ]
        }
      ]
    },
    {
      "cell_type": "code",
      "metadata": {
        "id": "qvJxr2sY4-PU",
        "outputId": "6dd5dc05-f322-4df6-f7b3-61c606e06a03",
        "colab": {
          "base_uri": "https://localhost:8080/",
          "height": 235
        }
      },
      "source": [
        "#Fill the NA values with mean of the Dataset\n",
        "mean_weight= df['Item_Weight'].mean()\n",
        "Weight_mean=df['Item_Weight'].fillna(mean_weight, inplace= True)\n",
        "#df['Outlet_Size'].dropna(how= 'any', inplace= True)\n",
        "find_mode=df['Outlet_Size'].mode()\n",
        "df['Outlet_Size'].fillna(find_mode, inplace=True)\n",
        "df\n",
        "print(df.isnull().sum())"
      ],
      "execution_count": 25,
      "outputs": [
        {
          "output_type": "stream",
          "name": "stdout",
          "text": [
            "Item_Identifier                 0\nItem_Weight                     0\nItem_Fat_Content                0\nItem_Visibility                 0\nItem_Type                       0\nItem_MRP                        0\nOutlet_Identifier               0\nOutlet_Establishment_Year       0\nOutlet_Size                  2410\nOutlet_Location_Type            0\nOutlet_Type                     0\nItem_Outlet_Sales               0\ndtype: int64\n"
          ]
        }
      ]
    },
    {
      "cell_type": "markdown",
      "metadata": {
        "id": "siAsI5hpj1mq"
      },
      "source": [
        "Apply method in pandas"
      ]
    },
    {
      "cell_type": "code",
      "metadata": {
        "id": "6o7W0d1fj0co"
      },
      "source": [
        "import numpy as np\n",
        "import pandas as pd"
      ],
      "execution_count": 21,
      "outputs": []
    },
    {
      "cell_type": "code",
      "metadata": {
        "id": "RQaA6Fobj_jF",
        "outputId": "0cf24652-8c54-41ca-d30e-b34938b7ffeb",
        "colab": {
          "resources": {
            "http://localhost:8080/nbextensions/google.colab/files.js": {
              "data": "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",
              "ok": true,
              "headers": [
                [
                  "content-type",
                  "application/javascript"
                ]
              ],
              "status": 200,
              "status_text": ""
            }
          },
          "base_uri": "https://localhost:8080/",
          "height": 73
        }
      },
      "source": [
        "from google.colab import files\n",
        "uploaded=files.upload()"
      ],
      "execution_count": null,
      "outputs": [
        {
          "output_type": "display_data",
          "data": {
            "text/html": [
              "\n",
              "     <input type=\"file\" id=\"files-5c2367e0-11a7-4cf1-acda-a3f5b66c9bc0\" name=\"files[]\" multiple disabled\n",
              "        style=\"border:none\" />\n",
              "     <output id=\"result-5c2367e0-11a7-4cf1-acda-a3f5b66c9bc0\">\n",
              "      Upload widget is only available when the cell has been executed in the\n",
              "      current browser session. Please rerun this cell to enable.\n",
              "      </output>\n",
              "      <script src=\"/nbextensions/google.colab/files.js\"></script> "
            ],
            "text/plain": [
              "<IPython.core.display.HTML object>"
            ]
          },
          "metadata": {
            "tags": []
          }
        },
        {
          "output_type": "stream",
          "text": [
            "Saving bigmart_data.csv to bigmart_data.csv\n"
          ],
          "name": "stdout"
        }
      ]
    },
    {
      "cell_type": "code",
      "metadata": {
        "id": "h2CCNhk0kLue",
        "outputId": "d6777402-47a1-4464-9cc9-e4fd4813b8e7",
        "colab": {
          "base_uri": "https://localhost:8080/",
          "height": 285
        }
      },
      "source": [
        "data= pd.read_csv('bigmart_data.csv')\n",
        "data.head()"
      ],
      "execution_count": null,
      "outputs": [
        {
          "output_type": "execute_result",
          "data": {
            "application/vnd.google.colaboratory.module+javascript": "\n      import \"https://ssl.gstatic.com/colaboratory/data_table/a6224c040fa35dcf/data_table.js\";\n\n      window.createDataTable({\n        data: [[{\n            'v': 0,\n            'f': \"0\",\n        },\n\"FDA15\",\n{\n            'v': 9.3,\n            'f': \"9.3\",\n        },\n\"Low Fat\",\n{\n            'v': 0.016047301,\n            'f': \"0.016047301\",\n        },\n\"Dairy\",\n{\n            'v': 249.8092,\n            'f': \"249.8092\",\n        },\n\"OUT049\",\n{\n            'v': 1999,\n            'f': \"1999\",\n        },\n\"Medium\",\n\"Tier 1\",\n\"Supermarket Type1\",\n{\n            'v': 3735.138,\n            'f': \"3735.138\",\n        }],\n [{\n            'v': 1,\n            'f': \"1\",\n        },\n\"DRC01\",\n{\n            'v': 5.92,\n            'f': \"5.92\",\n        },\n\"Regular\",\n{\n            'v': 0.019278216,\n            'f': \"0.019278216\",\n        },\n\"Soft Drinks\",\n{\n            'v': 48.2692,\n            'f': \"48.2692\",\n        },\n\"OUT018\",\n{\n            'v': 2009,\n            'f': \"2009\",\n        },\n\"Medium\",\n\"Tier 3\",\n\"Supermarket Type2\",\n{\n            'v': 443.4228,\n            'f': \"443.4228\",\n        }],\n [{\n            'v': 2,\n            'f': \"2\",\n        },\n\"FDN15\",\n{\n            'v': 17.5,\n            'f': \"17.5\",\n        },\n\"Low Fat\",\n{\n            'v': 0.016760075,\n            'f': \"0.016760075\",\n        },\n\"Meat\",\n{\n            'v': 141.618,\n            'f': \"141.618\",\n        },\n\"OUT049\",\n{\n            'v': 1999,\n            'f': \"1999\",\n        },\n\"Medium\",\n\"Tier 1\",\n\"Supermarket Type1\",\n{\n            'v': 2097.27,\n            'f': \"2097.27\",\n        }],\n [{\n            'v': 3,\n            'f': \"3\",\n        },\n\"FDX07\",\n{\n            'v': 19.2,\n            'f': \"19.2\",\n        },\n\"Regular\",\n{\n            'v': 0.0,\n            'f': \"0.0\",\n        },\n\"Fruits and Vegetables\",\n{\n            'v': 182.095,\n            'f': \"182.095\",\n        },\n\"OUT010\",\n{\n            'v': 1998,\n            'f': \"1998\",\n        },\nNaN,\n\"Tier 3\",\n\"Grocery Store\",\n{\n            'v': 732.38,\n            'f': \"732.38\",\n        }],\n [{\n            'v': 4,\n            'f': \"4\",\n        },\n\"NCD19\",\n{\n            'v': 8.93,\n            'f': \"8.93\",\n        },\n\"Low Fat\",\n{\n            'v': 0.0,\n            'f': \"0.0\",\n        },\n\"Household\",\n{\n            'v': 53.8614,\n            'f': \"53.8614\",\n        },\n\"OUT013\",\n{\n            'v': 1987,\n            'f': \"1987\",\n        },\n\"High\",\n\"Tier 3\",\n\"Supermarket Type1\",\n{\n            'v': 994.7052,\n            'f': \"994.7052\",\n        }]],\n        columns: [[\"number\", \"index\"], [\"string\", \"Item_Identifier\"], [\"number\", \"Item_Weight\"], [\"string\", \"Item_Fat_Content\"], [\"number\", \"Item_Visibility\"], [\"string\", \"Item_Type\"], [\"number\", \"Item_MRP\"], [\"string\", \"Outlet_Identifier\"], [\"number\", \"Outlet_Establishment_Year\"], [\"string\", \"Outlet_Size\"], [\"string\", \"Outlet_Location_Type\"], [\"string\", \"Outlet_Type\"], [\"number\", \"Item_Outlet_Sales\"]],\n        columnOptions: [{\"width\": \"1px\", \"className\": \"index_column\"}],\n        rowsPerPage: 25,\n        helpUrl: \"https://colab.research.google.com/notebooks/data_table.ipynb\",\n        suppressOutputScrolling: true,\n        minimumWidth: undefined,\n      });\n    ",
            "text/html": [
              "<div>\n",
              "<style scoped>\n",
              "    .dataframe tbody tr th:only-of-type {\n",
              "        vertical-align: middle;\n",
              "    }\n",
              "\n",
              "    .dataframe tbody tr th {\n",
              "        vertical-align: top;\n",
              "    }\n",
              "\n",
              "    .dataframe thead th {\n",
              "        text-align: right;\n",
              "    }\n",
              "</style>\n",
              "<table border=\"1\" class=\"dataframe\">\n",
              "  <thead>\n",
              "    <tr style=\"text-align: right;\">\n",
              "      <th></th>\n",
              "      <th>Item_Identifier</th>\n",
              "      <th>Item_Weight</th>\n",
              "      <th>Item_Fat_Content</th>\n",
              "      <th>Item_Visibility</th>\n",
              "      <th>Item_Type</th>\n",
              "      <th>Item_MRP</th>\n",
              "      <th>Outlet_Identifier</th>\n",
              "      <th>Outlet_Establishment_Year</th>\n",
              "      <th>Outlet_Size</th>\n",
              "      <th>Outlet_Location_Type</th>\n",
              "      <th>Outlet_Type</th>\n",
              "      <th>Item_Outlet_Sales</th>\n",
              "    </tr>\n",
              "  </thead>\n",
              "  <tbody>\n",
              "    <tr>\n",
              "      <th>0</th>\n",
              "      <td>FDA15</td>\n",
              "      <td>9.30</td>\n",
              "      <td>Low Fat</td>\n",
              "      <td>0.016047</td>\n",
              "      <td>Dairy</td>\n",
              "      <td>249.8092</td>\n",
              "      <td>OUT049</td>\n",
              "      <td>1999</td>\n",
              "      <td>Medium</td>\n",
              "      <td>Tier 1</td>\n",
              "      <td>Supermarket Type1</td>\n",
              "      <td>3735.1380</td>\n",
              "    </tr>\n",
              "    <tr>\n",
              "      <th>1</th>\n",
              "      <td>DRC01</td>\n",
              "      <td>5.92</td>\n",
              "      <td>Regular</td>\n",
              "      <td>0.019278</td>\n",
              "      <td>Soft Drinks</td>\n",
              "      <td>48.2692</td>\n",
              "      <td>OUT018</td>\n",
              "      <td>2009</td>\n",
              "      <td>Medium</td>\n",
              "      <td>Tier 3</td>\n",
              "      <td>Supermarket Type2</td>\n",
              "      <td>443.4228</td>\n",
              "    </tr>\n",
              "    <tr>\n",
              "      <th>2</th>\n",
              "      <td>FDN15</td>\n",
              "      <td>17.50</td>\n",
              "      <td>Low Fat</td>\n",
              "      <td>0.016760</td>\n",
              "      <td>Meat</td>\n",
              "      <td>141.6180</td>\n",
              "      <td>OUT049</td>\n",
              "      <td>1999</td>\n",
              "      <td>Medium</td>\n",
              "      <td>Tier 1</td>\n",
              "      <td>Supermarket Type1</td>\n",
              "      <td>2097.2700</td>\n",
              "    </tr>\n",
              "    <tr>\n",
              "      <th>3</th>\n",
              "      <td>FDX07</td>\n",
              "      <td>19.20</td>\n",
              "      <td>Regular</td>\n",
              "      <td>0.000000</td>\n",
              "      <td>Fruits and Vegetables</td>\n",
              "      <td>182.0950</td>\n",
              "      <td>OUT010</td>\n",
              "      <td>1998</td>\n",
              "      <td>NaN</td>\n",
              "      <td>Tier 3</td>\n",
              "      <td>Grocery Store</td>\n",
              "      <td>732.3800</td>\n",
              "    </tr>\n",
              "    <tr>\n",
              "      <th>4</th>\n",
              "      <td>NCD19</td>\n",
              "      <td>8.93</td>\n",
              "      <td>Low Fat</td>\n",
              "      <td>0.000000</td>\n",
              "      <td>Household</td>\n",
              "      <td>53.8614</td>\n",
              "      <td>OUT013</td>\n",
              "      <td>1987</td>\n",
              "      <td>High</td>\n",
              "      <td>Tier 3</td>\n",
              "      <td>Supermarket Type1</td>\n",
              "      <td>994.7052</td>\n",
              "    </tr>\n",
              "  </tbody>\n",
              "</table>\n",
              "</div>"
            ],
            "text/plain": [
              "  Item_Identifier  Item_Weight  ...        Outlet_Type  Item_Outlet_Sales\n",
              "0           FDA15         9.30  ...  Supermarket Type1          3735.1380\n",
              "1           DRC01         5.92  ...  Supermarket Type2           443.4228\n",
              "2           FDN15        17.50  ...  Supermarket Type1          2097.2700\n",
              "3           FDX07        19.20  ...      Grocery Store           732.3800\n",
              "4           NCD19         8.93  ...  Supermarket Type1           994.7052\n",
              "\n",
              "[5 rows x 12 columns]"
            ]
          },
          "metadata": {
            "tags": []
          },
          "execution_count": 81
        }
      ]
    },
    {
      "cell_type": "code",
      "metadata": {
        "id": "eK1HzKGqxJTD"
      },
      "source": [
        "%load_ext google.colab.data_table"
      ],
      "execution_count": null,
      "outputs": []
    },
    {
      "cell_type": "code",
      "metadata": {
        "id": "d0vKVHWPkWEn",
        "outputId": "6e3b8e26-7bea-41f3-b1e0-cc56b7b46621",
        "colab": {
          "base_uri": "https://localhost:8080/",
          "height": 1000
        }
      },
      "source": [
        "print(\"Apply method:\\n\")\n",
        "print(data.apply(lambda x: x[0]))      # We are using the apply method to access to the 1st row of the dataset, Remember by deafult the apply method takes axis=0\n",
        "print(\"\\n\")\n",
        "print(\"traditional method:\\n\")\n",
        "print(data.iloc[0])\n",
        "print(\"Apply method:\\n\")\n",
        "print(data.apply(lambda x: x[0], axis=1)) # here we are using teh apply method to access to the 1st column using index and mentioning the axis=1\n",
        "print(\"traditional method:\\n\")\n",
        "print(data.iloc[:,0])"
      ],
      "execution_count": null,
      "outputs": [
        {
          "output_type": "stream",
          "text": [
            "Apply method:\n",
            "\n",
            "Item_Identifier                          FDA15\n",
            "Item_Weight                                9.3\n",
            "Item_Fat_Content                       Low Fat\n",
            "Item_Visibility                      0.0160473\n",
            "Item_Type                                Dairy\n",
            "Item_MRP                               249.809\n",
            "Outlet_Identifier                       OUT049\n",
            "Outlet_Establishment_Year                 1999\n",
            "Outlet_Size                             Medium\n",
            "Outlet_Location_Type                    Tier 1\n",
            "Outlet_Type                  Supermarket Type1\n",
            "Item_Outlet_Sales                      3735.14\n",
            "dtype: object\n",
            "\n",
            "\n",
            "traditional method:\n",
            "\n",
            "Item_Identifier                          FDA15\n",
            "Item_Weight                                9.3\n",
            "Item_Fat_Content                       Low Fat\n",
            "Item_Visibility                      0.0160473\n",
            "Item_Type                                Dairy\n",
            "Item_MRP                               249.809\n",
            "Outlet_Identifier                       OUT049\n",
            "Outlet_Establishment_Year                 1999\n",
            "Outlet_Size                             Medium\n",
            "Outlet_Location_Type                    Tier 1\n",
            "Outlet_Type                  Supermarket Type1\n",
            "Item_Outlet_Sales                      3735.14\n",
            "Name: 0, dtype: object\n",
            "Apply method:\n",
            "\n",
            "0       FDA15\n",
            "1       DRC01\n",
            "2       FDN15\n",
            "3       FDX07\n",
            "4       NCD19\n",
            "        ...  \n",
            "8518    FDF22\n",
            "8519    FDS36\n",
            "8520    NCJ29\n",
            "8521    FDN46\n",
            "8522    DRG01\n",
            "Length: 8523, dtype: object\n",
            "traditional method:\n",
            "\n",
            "0       FDA15\n",
            "1       DRC01\n",
            "2       FDN15\n",
            "3       FDX07\n",
            "4       NCD19\n",
            "        ...  \n",
            "8518    FDF22\n",
            "8519    FDS36\n",
            "8520    NCJ29\n",
            "8521    FDN46\n",
            "8522    DRG01\n",
            "Name: Item_Identifier, Length: 8523, dtype: object\n"
          ],
          "name": "stdout"
        }
      ]
    },
    {
      "cell_type": "code",
      "metadata": {
        "id": "Vc0XPjQxlYxb",
        "outputId": "5f4d9204-8d2d-405f-bdda-896174019dda",
        "colab": {
          "base_uri": "https://localhost:8080/",
          "height": 218
        }
      },
      "source": [
        "print(data.apply(lambda x: x['Item_Type'], axis = 1))   # Here we are accessing the column using column name by using a apply method."
      ],
      "execution_count": null,
      "outputs": [
        {
          "output_type": "stream",
          "text": [
            "0                       Dairy\n",
            "1                 Soft Drinks\n",
            "2                        Meat\n",
            "3       Fruits and Vegetables\n",
            "4                   Household\n",
            "                ...          \n",
            "8518              Snack Foods\n",
            "8519             Baking Goods\n",
            "8520       Health and Hygiene\n",
            "8521              Snack Foods\n",
            "8522              Soft Drinks\n",
            "Length: 8523, dtype: object\n"
          ],
          "name": "stdout"
        }
      ]
    },
    {
      "cell_type": "code",
      "metadata": {
        "id": "765f3KsHnsnr",
        "outputId": "6664f0e4-22e3-4558-93eb-5b4068c817ea",
        "colab": {
          "base_uri": "https://localhost:8080/",
          "height": 590
        }
      },
      "source": [
        "data.apply(lambda x:x)"
      ],
      "execution_count": null,
      "outputs": [
        {
          "output_type": "execute_result",
          "data": {
            "text/html": [
              "<div>\n",
              "<style scoped>\n",
              "    .dataframe tbody tr th:only-of-type {\n",
              "        vertical-align: middle;\n",
              "    }\n",
              "\n",
              "    .dataframe tbody tr th {\n",
              "        vertical-align: top;\n",
              "    }\n",
              "\n",
              "    .dataframe thead th {\n",
              "        text-align: right;\n",
              "    }\n",
              "</style>\n",
              "<table border=\"1\" class=\"dataframe\">\n",
              "  <thead>\n",
              "    <tr style=\"text-align: right;\">\n",
              "      <th></th>\n",
              "      <th>Item_Identifier</th>\n",
              "      <th>Item_Weight</th>\n",
              "      <th>Item_Fat_Content</th>\n",
              "      <th>Item_Visibility</th>\n",
              "      <th>Item_Type</th>\n",
              "      <th>Item_MRP</th>\n",
              "      <th>Outlet_Identifier</th>\n",
              "      <th>Outlet_Establishment_Year</th>\n",
              "      <th>Outlet_Size</th>\n",
              "      <th>Outlet_Location_Type</th>\n",
              "      <th>Outlet_Type</th>\n",
              "      <th>Item_Outlet_Sales</th>\n",
              "    </tr>\n",
              "  </thead>\n",
              "  <tbody>\n",
              "    <tr>\n",
              "      <th>0</th>\n",
              "      <td>FDA15</td>\n",
              "      <td>9.300</td>\n",
              "      <td>Low Fat</td>\n",
              "      <td>0.016047</td>\n",
              "      <td>Dairy</td>\n",
              "      <td>249.8092</td>\n",
              "      <td>OUT049</td>\n",
              "      <td>1999</td>\n",
              "      <td>Medium</td>\n",
              "      <td>Tier 1</td>\n",
              "      <td>Supermarket Type1</td>\n",
              "      <td>3735.1380</td>\n",
              "    </tr>\n",
              "    <tr>\n",
              "      <th>1</th>\n",
              "      <td>DRC01</td>\n",
              "      <td>5.920</td>\n",
              "      <td>Regular</td>\n",
              "      <td>0.019278</td>\n",
              "      <td>Soft Drinks</td>\n",
              "      <td>48.2692</td>\n",
              "      <td>OUT018</td>\n",
              "      <td>2009</td>\n",
              "      <td>Medium</td>\n",
              "      <td>Tier 3</td>\n",
              "      <td>Supermarket Type2</td>\n",
              "      <td>443.4228</td>\n",
              "    </tr>\n",
              "    <tr>\n",
              "      <th>2</th>\n",
              "      <td>FDN15</td>\n",
              "      <td>17.500</td>\n",
              "      <td>Low Fat</td>\n",
              "      <td>0.016760</td>\n",
              "      <td>Meat</td>\n",
              "      <td>141.6180</td>\n",
              "      <td>OUT049</td>\n",
              "      <td>1999</td>\n",
              "      <td>Medium</td>\n",
              "      <td>Tier 1</td>\n",
              "      <td>Supermarket Type1</td>\n",
              "      <td>2097.2700</td>\n",
              "    </tr>\n",
              "    <tr>\n",
              "      <th>3</th>\n",
              "      <td>FDX07</td>\n",
              "      <td>19.200</td>\n",
              "      <td>Regular</td>\n",
              "      <td>0.000000</td>\n",
              "      <td>Fruits and Vegetables</td>\n",
              "      <td>182.0950</td>\n",
              "      <td>OUT010</td>\n",
              "      <td>1998</td>\n",
              "      <td>NaN</td>\n",
              "      <td>Tier 3</td>\n",
              "      <td>Grocery Store</td>\n",
              "      <td>732.3800</td>\n",
              "    </tr>\n",
              "    <tr>\n",
              "      <th>4</th>\n",
              "      <td>NCD19</td>\n",
              "      <td>8.930</td>\n",
              "      <td>Low Fat</td>\n",
              "      <td>0.000000</td>\n",
              "      <td>Household</td>\n",
              "      <td>53.8614</td>\n",
              "      <td>OUT013</td>\n",
              "      <td>1987</td>\n",
              "      <td>High</td>\n",
              "      <td>Tier 3</td>\n",
              "      <td>Supermarket Type1</td>\n",
              "      <td>994.7052</td>\n",
              "    </tr>\n",
              "    <tr>\n",
              "      <th>...</th>\n",
              "      <td>...</td>\n",
              "      <td>...</td>\n",
              "      <td>...</td>\n",
              "      <td>...</td>\n",
              "      <td>...</td>\n",
              "      <td>...</td>\n",
              "      <td>...</td>\n",
              "      <td>...</td>\n",
              "      <td>...</td>\n",
              "      <td>...</td>\n",
              "      <td>...</td>\n",
              "      <td>...</td>\n",
              "    </tr>\n",
              "    <tr>\n",
              "      <th>8518</th>\n",
              "      <td>FDF22</td>\n",
              "      <td>6.865</td>\n",
              "      <td>Low Fat</td>\n",
              "      <td>0.056783</td>\n",
              "      <td>Snack Foods</td>\n",
              "      <td>214.5218</td>\n",
              "      <td>OUT013</td>\n",
              "      <td>1987</td>\n",
              "      <td>High</td>\n",
              "      <td>Tier 3</td>\n",
              "      <td>Supermarket Type1</td>\n",
              "      <td>2778.3834</td>\n",
              "    </tr>\n",
              "    <tr>\n",
              "      <th>8519</th>\n",
              "      <td>FDS36</td>\n",
              "      <td>8.380</td>\n",
              "      <td>Regular</td>\n",
              "      <td>0.046982</td>\n",
              "      <td>Baking Goods</td>\n",
              "      <td>108.1570</td>\n",
              "      <td>OUT045</td>\n",
              "      <td>2002</td>\n",
              "      <td>NaN</td>\n",
              "      <td>Tier 2</td>\n",
              "      <td>Supermarket Type1</td>\n",
              "      <td>549.2850</td>\n",
              "    </tr>\n",
              "    <tr>\n",
              "      <th>8520</th>\n",
              "      <td>NCJ29</td>\n",
              "      <td>10.600</td>\n",
              "      <td>Low Fat</td>\n",
              "      <td>0.035186</td>\n",
              "      <td>Health and Hygiene</td>\n",
              "      <td>85.1224</td>\n",
              "      <td>OUT035</td>\n",
              "      <td>2004</td>\n",
              "      <td>Small</td>\n",
              "      <td>Tier 2</td>\n",
              "      <td>Supermarket Type1</td>\n",
              "      <td>1193.1136</td>\n",
              "    </tr>\n",
              "    <tr>\n",
              "      <th>8521</th>\n",
              "      <td>FDN46</td>\n",
              "      <td>7.210</td>\n",
              "      <td>Regular</td>\n",
              "      <td>0.145221</td>\n",
              "      <td>Snack Foods</td>\n",
              "      <td>103.1332</td>\n",
              "      <td>OUT018</td>\n",
              "      <td>2009</td>\n",
              "      <td>Medium</td>\n",
              "      <td>Tier 3</td>\n",
              "      <td>Supermarket Type2</td>\n",
              "      <td>1845.5976</td>\n",
              "    </tr>\n",
              "    <tr>\n",
              "      <th>8522</th>\n",
              "      <td>DRG01</td>\n",
              "      <td>14.800</td>\n",
              "      <td>Low Fat</td>\n",
              "      <td>0.044878</td>\n",
              "      <td>Soft Drinks</td>\n",
              "      <td>75.4670</td>\n",
              "      <td>OUT046</td>\n",
              "      <td>1997</td>\n",
              "      <td>Small</td>\n",
              "      <td>Tier 1</td>\n",
              "      <td>Supermarket Type1</td>\n",
              "      <td>765.6700</td>\n",
              "    </tr>\n",
              "  </tbody>\n",
              "</table>\n",
              "<p>8523 rows × 12 columns</p>\n",
              "</div>"
            ],
            "text/plain": [
              "     Item_Identifier  Item_Weight  ...        Outlet_Type  Item_Outlet_Sales\n",
              "0              FDA15        9.300  ...  Supermarket Type1          3735.1380\n",
              "1              DRC01        5.920  ...  Supermarket Type2           443.4228\n",
              "2              FDN15       17.500  ...  Supermarket Type1          2097.2700\n",
              "3              FDX07       19.200  ...      Grocery Store           732.3800\n",
              "4              NCD19        8.930  ...  Supermarket Type1           994.7052\n",
              "...              ...          ...  ...                ...                ...\n",
              "8518           FDF22        6.865  ...  Supermarket Type1          2778.3834\n",
              "8519           FDS36        8.380  ...  Supermarket Type1           549.2850\n",
              "8520           NCJ29       10.600  ...  Supermarket Type1          1193.1136\n",
              "8521           FDN46        7.210  ...  Supermarket Type2          1845.5976\n",
              "8522           DRG01       14.800  ...  Supermarket Type1           765.6700\n",
              "\n",
              "[8523 rows x 12 columns]"
            ]
          },
          "metadata": {
            "tags": []
          },
          "execution_count": 18
        }
      ]
    },
    {
      "cell_type": "code",
      "metadata": {
        "id": "DiheOUo9oH3t",
        "outputId": "e13ae742-c6a0-4865-a85b-970e8504b232",
        "colab": {
          "base_uri": "https://localhost:8080/",
          "height": 235
        }
      },
      "source": [
        "# In apply() even conditions can be added to the dataset as it can iterate through all observations in the DataFrame\n",
        "print(\"before clipping\\n\",data['Item_MRP'][:5])\n",
        "def clip(price):\n",
        "  if price>200:\n",
        "    price=200\n",
        "  return price\n",
        "\n",
        "print(data['Item_MRP'].apply(lambda x: clip(x))[:5])"
      ],
      "execution_count": null,
      "outputs": [
        {
          "output_type": "stream",
          "text": [
            "before clipping\n",
            " 0    249.8092\n",
            "1     48.2692\n",
            "2    141.6180\n",
            "3    182.0950\n",
            "4     53.8614\n",
            "Name: Item_MRP, dtype: float64\n",
            "0    200.0000\n",
            "1     48.2692\n",
            "2    141.6180\n",
            "3    182.0950\n",
            "4     53.8614\n",
            "Name: Item_MRP, dtype: float64\n"
          ],
          "name": "stdout"
        }
      ]
    },
    {
      "cell_type": "code",
      "metadata": {
        "id": "CwL-7eMRp0EK",
        "outputId": "20e1de80-8da3-4733-93a1-d7d0d691822b",
        "colab": {
          "base_uri": "https://localhost:8080/",
          "height": 235
        }
      },
      "source": [
        "# Labeling the values of the categorical data can be done in apply()\n",
        "print(data['Outlet_Location_Type'].unique())\n",
        "def labeling(city):\n",
        "  if city== 'Tier 1':     # we have labelled tier 1 as 0\n",
        "    label=  0\n",
        "  elif city== 'Tier 2':   # we have labelled tier 2 as 1\n",
        "    label= 1\n",
        "  else:                   # we have labelled tier 3 as 2\n",
        "    label= 2\n",
        "  return label\n",
        "\n",
        "print(data['Outlet_Location_Type'].apply(lambda x: labeling(x)))"
      ],
      "execution_count": null,
      "outputs": [
        {
          "output_type": "stream",
          "text": [
            "['Tier 1' 'Tier 3' 'Tier 2']\n",
            "0       0\n",
            "1       2\n",
            "2       0\n",
            "3       2\n",
            "4       2\n",
            "       ..\n",
            "8518    2\n",
            "8519    1\n",
            "8520    1\n",
            "8521    2\n",
            "8522    0\n",
            "Name: Outlet_Location_Type, Length: 8523, dtype: int64\n"
          ],
          "name": "stdout"
        }
      ]
    },
    {
      "cell_type": "code",
      "metadata": {
        "id": "9LLXF4UwuEKw",
        "outputId": "751cc82d-0022-4cc9-e81d-68907d5031cd",
        "colab": {
          "base_uri": "https://localhost:8080/",
          "height": 34
        }
      },
      "source": [
        "print(data['Outlet_Size'].unique())"
      ],
      "execution_count": null,
      "outputs": [
        {
          "output_type": "stream",
          "text": [
            "['Medium' nan 'High' 'Small']\n"
          ],
          "name": "stdout"
        }
      ]
    },
    {
      "cell_type": "code",
      "metadata": {
        "id": "hoXl8SnWwQHT",
        "outputId": "b1f1af1c-b1c4-4567-da75-91bf55db2e14",
        "colab": {
          "base_uri": "https://localhost:8080/",
          "height": 454
        }
      },
      "source": [
        "# Labelling Outlet_Size column\n",
        "print(data['Outlet_Size'].unique())\n",
        "def label_Outlet_Size(size):\n",
        "  if size== 'Small':\n",
        "    label=0\n",
        "  elif size== 'Medium':\n",
        "    label=2\n",
        "  elif size== 'High':\n",
        "    label=3\n",
        "  else:\n",
        "    label=size\n",
        "  return label\n",
        "\n",
        "labelled_osize=data['Outlet_Size'].apply(lambda x: label_Outlet_Size(x))\n",
        "print(labelled_osize)\n",
        "labelled_osize.isna().sum()\n",
        "mean_osize= labelled_osize.mean()\n",
        "print(\"Mean:\", mean_osize)\n",
        "labelled_osize.fillna(mean_osize, inplace= True)\n",
        "print(labelled_osize)"
      ],
      "execution_count": null,
      "outputs": [
        {
          "output_type": "stream",
          "text": [
            "['Medium' nan 'High' 'Small']\n",
            "0       2.0\n",
            "1       2.0\n",
            "2       2.0\n",
            "3       NaN\n",
            "4       3.0\n",
            "       ... \n",
            "8518    3.0\n",
            "8519    NaN\n",
            "8520    0.0\n",
            "8521    2.0\n",
            "8522    0.0\n",
            "Name: Outlet_Size, Length: 8523, dtype: float64\n",
            "Mean: 1.3711761819074104\n",
            "0       2.000000\n",
            "1       2.000000\n",
            "2       2.000000\n",
            "3       1.371176\n",
            "4       3.000000\n",
            "          ...   \n",
            "8518    3.000000\n",
            "8519    1.371176\n",
            "8520    0.000000\n",
            "8521    2.000000\n",
            "8522    0.000000\n",
            "Name: Outlet_Size, Length: 8523, dtype: float64\n"
          ],
          "name": "stdout"
        }
      ]
    }
  ]
}