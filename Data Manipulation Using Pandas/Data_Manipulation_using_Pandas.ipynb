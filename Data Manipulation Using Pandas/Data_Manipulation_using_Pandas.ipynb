{
  "nbformat": 4,
  "nbformat_minor": 0,
  "metadata": {
    "colab": {
      "name": "Data Manipulation using Pandas.ipynb",
      "provenance": [],
      "collapsed_sections": []
    },
    "kernelspec": {
      "name": "python3",
      "display_name": "Python 3"
    }
  },
  "cells": [
    {
      "source": [
        "Data Manipulation in Pandas\n",
        "\n",
        "1. Renaming columns\n",
        "\n",
        "2. Sorting Data\n",
        "\n",
        "3. Binning\n",
        "\n",
        "4. Handling missing values\n",
        "\n",
        "5. Apply methods in Pandas\n",
        "\n",
        "6. Aggregation of Data Using Pandas\n",
        "\n",
        "7. Merging data using Pandas\n",
        "\n",
        "Column Names are called as labels.."
      ],
      "cell_type": "markdown",
      "metadata": {}
    },
    {
      "cell_type": "code",
      "metadata": {
        "id": "Em0L90ovcOET"
      },
      "source": [
        "import numpy as np\n",
        "import pandas as pd"
      ],
      "execution_count": 12,
      "outputs": []
    },
    {
      "cell_type": "code",
      "metadata": {
        "id": "g1plB-XjceHR",
        "outputId": "bf82db72-8d41-4f69-e1e4-244aa0aeacfa",
        "colab": {
          "base_uri": "https://localhost:8080/",
          "height": 136
        }
      },
      "source": [
        "data={'Title':[None, 'Robinson Crusoe', 'Moby Dick'],\n",
        "     'Author':['sa', 'Daniel Defoe', 'Herman Melville']}\n",
        "\n",
        "df = pd.DataFrame(data)\n",
        "df.dropna(how='all', inplace= True)\n",
        "df"
      ],
      "execution_count": 13,
      "outputs": [
        {
          "output_type": "execute_result",
          "data": {
            "text/plain": [
              "             Title           Author\n",
              "0             None               sa\n",
              "1  Robinson Crusoe     Daniel Defoe\n",
              "2        Moby Dick  Herman Melville"
            ],
            "text/html": "<div>\n<style scoped>\n    .dataframe tbody tr th:only-of-type {\n        vertical-align: middle;\n    }\n\n    .dataframe tbody tr th {\n        vertical-align: top;\n    }\n\n    .dataframe thead th {\n        text-align: right;\n    }\n</style>\n<table border=\"1\" class=\"dataframe\">\n  <thead>\n    <tr style=\"text-align: right;\">\n      <th></th>\n      <th>Title</th>\n      <th>Author</th>\n    </tr>\n  </thead>\n  <tbody>\n    <tr>\n      <th>0</th>\n      <td>None</td>\n      <td>sa</td>\n    </tr>\n    <tr>\n      <th>1</th>\n      <td>Robinson Crusoe</td>\n      <td>Daniel Defoe</td>\n    </tr>\n    <tr>\n      <th>2</th>\n      <td>Moby Dick</td>\n      <td>Herman Melville</td>\n    </tr>\n  </tbody>\n</table>\n</div>"
          },
          "metadata": {},
          "execution_count": 13
        }
      ]
    },
    {
      "cell_type": "code",
      "execution_count": 14,
      "metadata": {},
      "outputs": [
        {
          "output_type": "execute_result",
          "data": {
            "text/plain": [
              "             Title           Author\n",
              "0             None               sa\n",
              "1  Robinson Crusoe     Daniel Defoe\n",
              "2        Moby Dick  Herman Melville"
            ],
            "text/html": "<div>\n<style scoped>\n    .dataframe tbody tr th:only-of-type {\n        vertical-align: middle;\n    }\n\n    .dataframe tbody tr th {\n        vertical-align: top;\n    }\n\n    .dataframe thead th {\n        text-align: right;\n    }\n</style>\n<table border=\"1\" class=\"dataframe\">\n  <thead>\n    <tr style=\"text-align: right;\">\n      <th></th>\n      <th>Title</th>\n      <th>Author</th>\n    </tr>\n  </thead>\n  <tbody>\n    <tr>\n      <th>0</th>\n      <td>None</td>\n      <td>sa</td>\n    </tr>\n    <tr>\n      <th>1</th>\n      <td>Robinson Crusoe</td>\n      <td>Daniel Defoe</td>\n    </tr>\n    <tr>\n      <th>2</th>\n      <td>Moby Dick</td>\n      <td>Herman Melville</td>\n    </tr>\n  </tbody>\n</table>\n</div>"
          },
          "metadata": {},
          "execution_count": 14
        }
      ],
      "source": [
        "df"
      ]
    },
    {
      "cell_type": "markdown",
      "metadata": {
        "id": "j9H_du2GcSY-"
      },
      "source": [
        "Renaming columns using pandas"
      ]
    },
    {
      "cell_type": "code",
      "metadata": {
        "id": "_NbhelIbdPjN",
        "outputId": "2c4a832a-affc-4151-8d1e-2bd04e6e3042",
        "colab": {
          "base_uri": "https://localhost:8080/",
          "height": 84
        }
      },
      "source": [
        "df.columns=['TITLE', 'AUTHOR']         #Changing the keys of the column\n",
        "print(df)"
      ],
      "execution_count": 15,
      "outputs": [
        {
          "output_type": "stream",
          "name": "stdout",
          "text": [
            "             TITLE           AUTHOR\n0             None               sa\n1  Robinson Crusoe     Daniel Defoe\n2        Moby Dick  Herman Melville\n"
          ]
        }
      ]
    },
    {
      "cell_type": "code",
      "metadata": {
        "id": "LuYZSLBpgHCw",
        "outputId": "6431c93f-bb51-4e57-d97f-fe270497fe61",
        "colab": {
          "base_uri": "https://localhost:8080/",
          "height": 136
        }
      },
      "source": [
        "# other method of renaming the column labels\n",
        "df.rename(columns={'TITLE':'Book Name', 'AUTHOR':'Writer'})       # It is a dictionary\n",
        "df['New Col'] = [1,2,3]      # new column created\n",
        "df"
      ],
      "execution_count": 16,
      "outputs": [
        {
          "output_type": "execute_result",
          "data": {
            "text/plain": [
              "             TITLE           AUTHOR  New Col\n",
              "0             None               sa        1\n",
              "1  Robinson Crusoe     Daniel Defoe        2\n",
              "2        Moby Dick  Herman Melville        3"
            ],
            "text/html": "<div>\n<style scoped>\n    .dataframe tbody tr th:only-of-type {\n        vertical-align: middle;\n    }\n\n    .dataframe tbody tr th {\n        vertical-align: top;\n    }\n\n    .dataframe thead th {\n        text-align: right;\n    }\n</style>\n<table border=\"1\" class=\"dataframe\">\n  <thead>\n    <tr style=\"text-align: right;\">\n      <th></th>\n      <th>TITLE</th>\n      <th>AUTHOR</th>\n      <th>New Col</th>\n    </tr>\n  </thead>\n  <tbody>\n    <tr>\n      <th>0</th>\n      <td>None</td>\n      <td>sa</td>\n      <td>1</td>\n    </tr>\n    <tr>\n      <th>1</th>\n      <td>Robinson Crusoe</td>\n      <td>Daniel Defoe</td>\n      <td>2</td>\n    </tr>\n    <tr>\n      <th>2</th>\n      <td>Moby Dick</td>\n      <td>Herman Melville</td>\n      <td>3</td>\n    </tr>\n  </tbody>\n</table>\n</div>"
          },
          "metadata": {},
          "execution_count": 16
        }
      ]
    },
    {
      "cell_type": "markdown",
      "metadata": {
        "id": "YhjplRFnf1mu"
      },
      "source": [
        "Sorting using Pandas"
      ]
    },
    {
      "cell_type": "code",
      "metadata": {
        "id": "yj6qISDwf4S5"
      },
      "source": [
        "import pandas as pd"
      ],
      "execution_count": 17,
      "outputs": []
    },
    {
      "cell_type": "code",
      "execution_count": 18,
      "metadata": {},
      "outputs": [
        {
          "output_type": "execute_result",
          "data": {
            "text/plain": [
              "     Row Labels  Average of Item_Weight\n",
              "0  Baking Goods               12.277108\n",
              "1        Breads               11.346936\n",
              "2     Breakfast               12.768202\n",
              "3        Canned               12.305705\n",
              "4         Dairy               13.426069"
            ],
            "text/html": "<div>\n<style scoped>\n    .dataframe tbody tr th:only-of-type {\n        vertical-align: middle;\n    }\n\n    .dataframe tbody tr th {\n        vertical-align: top;\n    }\n\n    .dataframe thead th {\n        text-align: right;\n    }\n</style>\n<table border=\"1\" class=\"dataframe\">\n  <thead>\n    <tr style=\"text-align: right;\">\n      <th></th>\n      <th>Row Labels</th>\n      <th>Average of Item_Weight</th>\n    </tr>\n  </thead>\n  <tbody>\n    <tr>\n      <th>0</th>\n      <td>Baking Goods</td>\n      <td>12.277108</td>\n    </tr>\n    <tr>\n      <th>1</th>\n      <td>Breads</td>\n      <td>11.346936</td>\n    </tr>\n    <tr>\n      <th>2</th>\n      <td>Breakfast</td>\n      <td>12.768202</td>\n    </tr>\n    <tr>\n      <th>3</th>\n      <td>Canned</td>\n      <td>12.305705</td>\n    </tr>\n    <tr>\n      <th>4</th>\n      <td>Dairy</td>\n      <td>13.426069</td>\n    </tr>\n  </tbody>\n</table>\n</div>"
          },
          "metadata": {},
          "execution_count": 18
        }
      ],
      "source": [
        "df= pd.read_csv('D:\\\\Datasets\\\\bigmart_data.csv') \n",
        "df.head()"
      ]
    },
    {
      "cell_type": "code",
      "metadata": {
        "id": "ok7g24q2gZ-8",
        "outputId": "c90de208-75b4-46ce-8993-7b05959c2203",
        "colab": {
          "base_uri": "https://localhost:8080/",
          "height": 235
        }
      },
      "source": [
        "df= pd.read_csv('D:\\\\Datasets\\\\bigmart_data.csv')   \n",
        "df.dropna(how='all')    # this can be used for substitute for head() method in Pandas library"
      ],
      "execution_count": 19,
      "outputs": [
        {
          "output_type": "execute_result",
          "data": {
            "text/plain": [
              "               Row Labels  Average of Item_Weight\n",
              "0            Baking Goods               12.277108\n",
              "1                  Breads               11.346936\n",
              "2               Breakfast               12.768202\n",
              "3                  Canned               12.305705\n",
              "4                   Dairy               13.426069\n",
              "5            Frozen Foods               12.867061\n",
              "6   Fruits and Vegetables               13.224769\n",
              "7             Hard Drinks               11.400328\n",
              "8      Health and Hygiene               13.142314\n",
              "9               Household               13.384736\n",
              "10                   Meat               12.817344\n",
              "11                 Others               13.853285\n",
              "12                Seafood               12.552843\n",
              "13            Snack Foods               12.987880\n",
              "14            Soft Drinks               11.847460\n",
              "15          Starchy Foods               13.690731\n",
              "16            Grand Total               12.857645"
            ],
            "text/html": "<div>\n<style scoped>\n    .dataframe tbody tr th:only-of-type {\n        vertical-align: middle;\n    }\n\n    .dataframe tbody tr th {\n        vertical-align: top;\n    }\n\n    .dataframe thead th {\n        text-align: right;\n    }\n</style>\n<table border=\"1\" class=\"dataframe\">\n  <thead>\n    <tr style=\"text-align: right;\">\n      <th></th>\n      <th>Row Labels</th>\n      <th>Average of Item_Weight</th>\n    </tr>\n  </thead>\n  <tbody>\n    <tr>\n      <th>0</th>\n      <td>Baking Goods</td>\n      <td>12.277108</td>\n    </tr>\n    <tr>\n      <th>1</th>\n      <td>Breads</td>\n      <td>11.346936</td>\n    </tr>\n    <tr>\n      <th>2</th>\n      <td>Breakfast</td>\n      <td>12.768202</td>\n    </tr>\n    <tr>\n      <th>3</th>\n      <td>Canned</td>\n      <td>12.305705</td>\n    </tr>\n    <tr>\n      <th>4</th>\n      <td>Dairy</td>\n      <td>13.426069</td>\n    </tr>\n    <tr>\n      <th>5</th>\n      <td>Frozen Foods</td>\n      <td>12.867061</td>\n    </tr>\n    <tr>\n      <th>6</th>\n      <td>Fruits and Vegetables</td>\n      <td>13.224769</td>\n    </tr>\n    <tr>\n      <th>7</th>\n      <td>Hard Drinks</td>\n      <td>11.400328</td>\n    </tr>\n    <tr>\n      <th>8</th>\n      <td>Health and Hygiene</td>\n      <td>13.142314</td>\n    </tr>\n    <tr>\n      <th>9</th>\n      <td>Household</td>\n      <td>13.384736</td>\n    </tr>\n    <tr>\n      <th>10</th>\n      <td>Meat</td>\n      <td>12.817344</td>\n    </tr>\n    <tr>\n      <th>11</th>\n      <td>Others</td>\n      <td>13.853285</td>\n    </tr>\n    <tr>\n      <th>12</th>\n      <td>Seafood</td>\n      <td>12.552843</td>\n    </tr>\n    <tr>\n      <th>13</th>\n      <td>Snack Foods</td>\n      <td>12.987880</td>\n    </tr>\n    <tr>\n      <th>14</th>\n      <td>Soft Drinks</td>\n      <td>11.847460</td>\n    </tr>\n    <tr>\n      <th>15</th>\n      <td>Starchy Foods</td>\n      <td>13.690731</td>\n    </tr>\n    <tr>\n      <th>16</th>\n      <td>Grand Total</td>\n      <td>12.857645</td>\n    </tr>\n  </tbody>\n</table>\n</div>"
          },
          "metadata": {},
          "execution_count": 19
        }
      ]
    },
    {
      "source": [
        "Two methods in pandas:\n",
        "\n",
        "1. sort_values():- to sort DataFrame by one or more columns\n",
        "\n",
        "2. sort_index():- to sort DataFrame by row indices"
      ],
      "cell_type": "markdown",
      "metadata": {}
    },
    {
      "cell_type": "code",
      "metadata": {
        "id": "9lwxQIP3g4I9",
        "outputId": "378b7130-c725-42dd-b834-4a0f3ece44b8",
        "colab": {
          "base_uri": "https://localhost:8080/",
          "height": 252
        }
      },
      "source": [
        "# Ascending Order\n",
        "sort_df= df.sort_values(by=['Outlet_Establishment_Year'], ascending= True, inplace= False)     # sort_values(by=['column_name'], ascending= True/False, inplace= True/False) inplace if true it changes the original dataFrame into sorted DataFrame\n",
        "sort_df"
      ],
      "execution_count": 20,
      "outputs": [
        {
          "output_type": "error",
          "ename": "KeyError",
          "evalue": "'Outlet_Establishment_Year'",
          "traceback": [
            "\u001b[1;31m---------------------------------------------------------------------------\u001b[0m",
            "\u001b[1;31mKeyError\u001b[0m                                  Traceback (most recent call last)",
            "\u001b[1;32m<ipython-input-20-037b7edef2fb>\u001b[0m in \u001b[0;36m<module>\u001b[1;34m\u001b[0m\n\u001b[0;32m      1\u001b[0m \u001b[1;31m# Ascending Order\u001b[0m\u001b[1;33m\u001b[0m\u001b[1;33m\u001b[0m\u001b[1;33m\u001b[0m\u001b[0m\n\u001b[1;32m----> 2\u001b[1;33m \u001b[0msort_df\u001b[0m\u001b[1;33m=\u001b[0m \u001b[0mdf\u001b[0m\u001b[1;33m.\u001b[0m\u001b[0msort_values\u001b[0m\u001b[1;33m(\u001b[0m\u001b[0mby\u001b[0m\u001b[1;33m=\u001b[0m\u001b[1;33m[\u001b[0m\u001b[1;34m'Outlet_Establishment_Year'\u001b[0m\u001b[1;33m]\u001b[0m\u001b[1;33m,\u001b[0m \u001b[0mascending\u001b[0m\u001b[1;33m=\u001b[0m \u001b[1;32mTrue\u001b[0m\u001b[1;33m,\u001b[0m \u001b[0minplace\u001b[0m\u001b[1;33m=\u001b[0m \u001b[1;32mFalse\u001b[0m\u001b[1;33m)\u001b[0m     \u001b[1;31m# sort_values(by=['column_name'], ascending= True/False, inplace= True/False) inplace if true it changes the original dataFrame into sorted DataFrame\u001b[0m\u001b[1;33m\u001b[0m\u001b[1;33m\u001b[0m\u001b[0m\n\u001b[0m\u001b[0;32m      3\u001b[0m \u001b[0msort_df\u001b[0m\u001b[1;33m\u001b[0m\u001b[1;33m\u001b[0m\u001b[0m\n",
            "\u001b[1;32m~\\anaconda3\\envs\\myenv\\lib\\site-packages\\pandas\\core\\frame.py\u001b[0m in \u001b[0;36msort_values\u001b[1;34m(self, by, axis, ascending, inplace, kind, na_position, ignore_index, key)\u001b[0m\n\u001b[0;32m   5292\u001b[0m \u001b[1;33m\u001b[0m\u001b[0m\n\u001b[0;32m   5293\u001b[0m             \u001b[0mby\u001b[0m \u001b[1;33m=\u001b[0m \u001b[0mby\u001b[0m\u001b[1;33m[\u001b[0m\u001b[1;36m0\u001b[0m\u001b[1;33m]\u001b[0m\u001b[1;33m\u001b[0m\u001b[1;33m\u001b[0m\u001b[0m\n\u001b[1;32m-> 5294\u001b[1;33m             \u001b[0mk\u001b[0m \u001b[1;33m=\u001b[0m \u001b[0mself\u001b[0m\u001b[1;33m.\u001b[0m\u001b[0m_get_label_or_level_values\u001b[0m\u001b[1;33m(\u001b[0m\u001b[0mby\u001b[0m\u001b[1;33m,\u001b[0m \u001b[0maxis\u001b[0m\u001b[1;33m=\u001b[0m\u001b[0maxis\u001b[0m\u001b[1;33m)\u001b[0m\u001b[1;33m\u001b[0m\u001b[1;33m\u001b[0m\u001b[0m\n\u001b[0m\u001b[0;32m   5295\u001b[0m \u001b[1;33m\u001b[0m\u001b[0m\n\u001b[0;32m   5296\u001b[0m             \u001b[1;31m# need to rewrap column in Series to apply key function\u001b[0m\u001b[1;33m\u001b[0m\u001b[1;33m\u001b[0m\u001b[1;33m\u001b[0m\u001b[0m\n",
            "\u001b[1;32m~\\anaconda3\\envs\\myenv\\lib\\site-packages\\pandas\\core\\generic.py\u001b[0m in \u001b[0;36m_get_label_or_level_values\u001b[1;34m(self, key, axis)\u001b[0m\n\u001b[0;32m   1561\u001b[0m             \u001b[0mvalues\u001b[0m \u001b[1;33m=\u001b[0m \u001b[0mself\u001b[0m\u001b[1;33m.\u001b[0m\u001b[0maxes\u001b[0m\u001b[1;33m[\u001b[0m\u001b[0maxis\u001b[0m\u001b[1;33m]\u001b[0m\u001b[1;33m.\u001b[0m\u001b[0mget_level_values\u001b[0m\u001b[1;33m(\u001b[0m\u001b[0mkey\u001b[0m\u001b[1;33m)\u001b[0m\u001b[1;33m.\u001b[0m\u001b[0m_values\u001b[0m\u001b[1;33m\u001b[0m\u001b[1;33m\u001b[0m\u001b[0m\n\u001b[0;32m   1562\u001b[0m         \u001b[1;32melse\u001b[0m\u001b[1;33m:\u001b[0m\u001b[1;33m\u001b[0m\u001b[1;33m\u001b[0m\u001b[0m\n\u001b[1;32m-> 1563\u001b[1;33m             \u001b[1;32mraise\u001b[0m \u001b[0mKeyError\u001b[0m\u001b[1;33m(\u001b[0m\u001b[0mkey\u001b[0m\u001b[1;33m)\u001b[0m\u001b[1;33m\u001b[0m\u001b[1;33m\u001b[0m\u001b[0m\n\u001b[0m\u001b[0;32m   1564\u001b[0m \u001b[1;33m\u001b[0m\u001b[0m\n\u001b[0;32m   1565\u001b[0m         \u001b[1;31m# Check for duplicates\u001b[0m\u001b[1;33m\u001b[0m\u001b[1;33m\u001b[0m\u001b[1;33m\u001b[0m\u001b[0m\n",
            "\u001b[1;31mKeyError\u001b[0m: 'Outlet_Establishment_Year'"
          ]
        }
      ]
    },
    {
      "cell_type": "code",
      "metadata": {
        "id": "y2nJjv1uh4bl",
        "outputId": "20048e59-3663-4bad-8f56-c84d429adc9a",
        "colab": {
          "base_uri": "https://localhost:8080/",
          "height": 590
        }
      },
      "source": [
        "# Descending Order\n",
        "df.sort_values(by=['Outlet_Establishment_Year'], ascending= False, inplace= True)\n",
        "df"
      ],
      "execution_count": 8,
      "outputs": [
        {
          "output_type": "execute_result",
          "data": {
            "text/plain": [
              "     Item_Identifier  Item_Weight Item_Fat_Content  Item_Visibility  \\\n",
              "5371           FDC11       20.500          Low Fat         0.142370   \n",
              "6389           FDR07       21.350          Low Fat         0.078061   \n",
              "2064           FDG50        7.405          Low Fat         0.015334   \n",
              "3839           DRI37       15.850          Low Fat         0.108036   \n",
              "6392           FDO52       11.600          Regular         0.077479   \n",
              "...              ...          ...              ...              ...   \n",
              "5065           FDR09          NaN          Low Fat         0.077348   \n",
              "3320           FDU32          NaN          Low Fat         0.025842   \n",
              "6980           FDO46          NaN          Regular         0.014144   \n",
              "6979           NCK17          NaN          Low Fat         0.000000   \n",
              "4187           FDE52          NaN          Regular         0.029742   \n",
              "\n",
              "                  Item_Type  Item_MRP Outlet_Identifier  \\\n",
              "5371          Starchy Foods   90.6172            OUT018   \n",
              "6389  Fruits and Vegetables   96.0094            OUT018   \n",
              "2064                 Canned   92.7146            OUT018   \n",
              "3839            Soft Drinks   57.3904            OUT018   \n",
              "6392           Frozen Foods  170.3106            OUT018   \n",
              "...                     ...       ...               ...   \n",
              "5065            Snack Foods  259.7962            OUT027   \n",
              "3320  Fruits and Vegetables  120.7414            OUT027   \n",
              "6980            Snack Foods  187.3872            OUT027   \n",
              "6979     Health and Hygiene   40.3480            OUT019   \n",
              "4187                  Dairy   88.9514            OUT027   \n",
              "\n",
              "      Outlet_Establishment_Year Outlet_Size Outlet_Location_Type  \\\n",
              "5371                       2009      Medium               Tier 3   \n",
              "6389                       2009      Medium               Tier 3   \n",
              "2064                       2009      Medium               Tier 3   \n",
              "3839                       2009      Medium               Tier 3   \n",
              "6392                       2009      Medium               Tier 3   \n",
              "...                         ...         ...                  ...   \n",
              "5065                       1985      Medium               Tier 3   \n",
              "3320                       1985      Medium               Tier 3   \n",
              "6980                       1985      Medium               Tier 3   \n",
              "6979                       1985       Small               Tier 1   \n",
              "4187                       1985      Medium               Tier 3   \n",
              "\n",
              "            Outlet_Type  Item_Outlet_Sales  \n",
              "5371  Supermarket Type2          1427.4752  \n",
              "6389  Supermarket Type2           380.8376  \n",
              "2064  Supermarket Type2          1185.7898  \n",
              "3839  Supermarket Type2           703.0848  \n",
              "6392  Supermarket Type2          4277.7650  \n",
              "...                 ...                ...  \n",
              "5065  Supermarket Type3          8028.8822  \n",
              "3320  Supermarket Type3          4386.2904  \n",
              "6980  Supermarket Type3          2836.3080  \n",
              "6979      Grocery Store            79.8960  \n",
              "4187  Supermarket Type3          3453.5046  \n",
              "\n",
              "[8523 rows x 12 columns]"
            ],
            "text/html": "<div>\n<style scoped>\n    .dataframe tbody tr th:only-of-type {\n        vertical-align: middle;\n    }\n\n    .dataframe tbody tr th {\n        vertical-align: top;\n    }\n\n    .dataframe thead th {\n        text-align: right;\n    }\n</style>\n<table border=\"1\" class=\"dataframe\">\n  <thead>\n    <tr style=\"text-align: right;\">\n      <th></th>\n      <th>Item_Identifier</th>\n      <th>Item_Weight</th>\n      <th>Item_Fat_Content</th>\n      <th>Item_Visibility</th>\n      <th>Item_Type</th>\n      <th>Item_MRP</th>\n      <th>Outlet_Identifier</th>\n      <th>Outlet_Establishment_Year</th>\n      <th>Outlet_Size</th>\n      <th>Outlet_Location_Type</th>\n      <th>Outlet_Type</th>\n      <th>Item_Outlet_Sales</th>\n    </tr>\n  </thead>\n  <tbody>\n    <tr>\n      <th>5371</th>\n      <td>FDC11</td>\n      <td>20.500</td>\n      <td>Low Fat</td>\n      <td>0.142370</td>\n      <td>Starchy Foods</td>\n      <td>90.6172</td>\n      <td>OUT018</td>\n      <td>2009</td>\n      <td>Medium</td>\n      <td>Tier 3</td>\n      <td>Supermarket Type2</td>\n      <td>1427.4752</td>\n    </tr>\n    <tr>\n      <th>6389</th>\n      <td>FDR07</td>\n      <td>21.350</td>\n      <td>Low Fat</td>\n      <td>0.078061</td>\n      <td>Fruits and Vegetables</td>\n      <td>96.0094</td>\n      <td>OUT018</td>\n      <td>2009</td>\n      <td>Medium</td>\n      <td>Tier 3</td>\n      <td>Supermarket Type2</td>\n      <td>380.8376</td>\n    </tr>\n    <tr>\n      <th>2064</th>\n      <td>FDG50</td>\n      <td>7.405</td>\n      <td>Low Fat</td>\n      <td>0.015334</td>\n      <td>Canned</td>\n      <td>92.7146</td>\n      <td>OUT018</td>\n      <td>2009</td>\n      <td>Medium</td>\n      <td>Tier 3</td>\n      <td>Supermarket Type2</td>\n      <td>1185.7898</td>\n    </tr>\n    <tr>\n      <th>3839</th>\n      <td>DRI37</td>\n      <td>15.850</td>\n      <td>Low Fat</td>\n      <td>0.108036</td>\n      <td>Soft Drinks</td>\n      <td>57.3904</td>\n      <td>OUT018</td>\n      <td>2009</td>\n      <td>Medium</td>\n      <td>Tier 3</td>\n      <td>Supermarket Type2</td>\n      <td>703.0848</td>\n    </tr>\n    <tr>\n      <th>6392</th>\n      <td>FDO52</td>\n      <td>11.600</td>\n      <td>Regular</td>\n      <td>0.077479</td>\n      <td>Frozen Foods</td>\n      <td>170.3106</td>\n      <td>OUT018</td>\n      <td>2009</td>\n      <td>Medium</td>\n      <td>Tier 3</td>\n      <td>Supermarket Type2</td>\n      <td>4277.7650</td>\n    </tr>\n    <tr>\n      <th>...</th>\n      <td>...</td>\n      <td>...</td>\n      <td>...</td>\n      <td>...</td>\n      <td>...</td>\n      <td>...</td>\n      <td>...</td>\n      <td>...</td>\n      <td>...</td>\n      <td>...</td>\n      <td>...</td>\n      <td>...</td>\n    </tr>\n    <tr>\n      <th>5065</th>\n      <td>FDR09</td>\n      <td>NaN</td>\n      <td>Low Fat</td>\n      <td>0.077348</td>\n      <td>Snack Foods</td>\n      <td>259.7962</td>\n      <td>OUT027</td>\n      <td>1985</td>\n      <td>Medium</td>\n      <td>Tier 3</td>\n      <td>Supermarket Type3</td>\n      <td>8028.8822</td>\n    </tr>\n    <tr>\n      <th>3320</th>\n      <td>FDU32</td>\n      <td>NaN</td>\n      <td>Low Fat</td>\n      <td>0.025842</td>\n      <td>Fruits and Vegetables</td>\n      <td>120.7414</td>\n      <td>OUT027</td>\n      <td>1985</td>\n      <td>Medium</td>\n      <td>Tier 3</td>\n      <td>Supermarket Type3</td>\n      <td>4386.2904</td>\n    </tr>\n    <tr>\n      <th>6980</th>\n      <td>FDO46</td>\n      <td>NaN</td>\n      <td>Regular</td>\n      <td>0.014144</td>\n      <td>Snack Foods</td>\n      <td>187.3872</td>\n      <td>OUT027</td>\n      <td>1985</td>\n      <td>Medium</td>\n      <td>Tier 3</td>\n      <td>Supermarket Type3</td>\n      <td>2836.3080</td>\n    </tr>\n    <tr>\n      <th>6979</th>\n      <td>NCK17</td>\n      <td>NaN</td>\n      <td>Low Fat</td>\n      <td>0.000000</td>\n      <td>Health and Hygiene</td>\n      <td>40.3480</td>\n      <td>OUT019</td>\n      <td>1985</td>\n      <td>Small</td>\n      <td>Tier 1</td>\n      <td>Grocery Store</td>\n      <td>79.8960</td>\n    </tr>\n    <tr>\n      <th>4187</th>\n      <td>FDE52</td>\n      <td>NaN</td>\n      <td>Regular</td>\n      <td>0.029742</td>\n      <td>Dairy</td>\n      <td>88.9514</td>\n      <td>OUT027</td>\n      <td>1985</td>\n      <td>Medium</td>\n      <td>Tier 3</td>\n      <td>Supermarket Type3</td>\n      <td>3453.5046</td>\n    </tr>\n  </tbody>\n</table>\n<p>8523 rows × 12 columns</p>\n</div>"
          },
          "metadata": {},
          "execution_count": 8
        }
      ]
    },
    {
      "cell_type": "code",
      "metadata": {
        "id": "vT_XqPypjF6f",
        "outputId": "1eaeca56-c0f6-4fff-ae60-61da2409350b",
        "colab": {
          "base_uri": "https://localhost:8080/",
          "height": 590
        }
      },
      "source": [
        "#sort_index() method sorts the dataFrame based on the index values of the DataFramem\n",
        "df.sort_index(ascending= False, inplace= True)\n",
        "df.head()"
      ],
      "execution_count": 9,
      "outputs": [
        {
          "output_type": "execute_result",
          "data": {
            "text/plain": [
              "     Item_Identifier  Item_Weight Item_Fat_Content  Item_Visibility  \\\n",
              "8522           DRG01       14.800          Low Fat         0.044878   \n",
              "8521           FDN46        7.210          Regular         0.145221   \n",
              "8520           NCJ29       10.600          Low Fat         0.035186   \n",
              "8519           FDS36        8.380          Regular         0.046982   \n",
              "8518           FDF22        6.865          Low Fat         0.056783   \n",
              "\n",
              "               Item_Type  Item_MRP Outlet_Identifier  \\\n",
              "8522         Soft Drinks   75.4670            OUT046   \n",
              "8521         Snack Foods  103.1332            OUT018   \n",
              "8520  Health and Hygiene   85.1224            OUT035   \n",
              "8519        Baking Goods  108.1570            OUT045   \n",
              "8518         Snack Foods  214.5218            OUT013   \n",
              "\n",
              "      Outlet_Establishment_Year Outlet_Size Outlet_Location_Type  \\\n",
              "8522                       1997       Small               Tier 1   \n",
              "8521                       2009      Medium               Tier 3   \n",
              "8520                       2004       Small               Tier 2   \n",
              "8519                       2002         NaN               Tier 2   \n",
              "8518                       1987        High               Tier 3   \n",
              "\n",
              "            Outlet_Type  Item_Outlet_Sales  \n",
              "8522  Supermarket Type1           765.6700  \n",
              "8521  Supermarket Type2          1845.5976  \n",
              "8520  Supermarket Type1          1193.1136  \n",
              "8519  Supermarket Type1           549.2850  \n",
              "8518  Supermarket Type1          2778.3834  "
            ],
            "text/html": "<div>\n<style scoped>\n    .dataframe tbody tr th:only-of-type {\n        vertical-align: middle;\n    }\n\n    .dataframe tbody tr th {\n        vertical-align: top;\n    }\n\n    .dataframe thead th {\n        text-align: right;\n    }\n</style>\n<table border=\"1\" class=\"dataframe\">\n  <thead>\n    <tr style=\"text-align: right;\">\n      <th></th>\n      <th>Item_Identifier</th>\n      <th>Item_Weight</th>\n      <th>Item_Fat_Content</th>\n      <th>Item_Visibility</th>\n      <th>Item_Type</th>\n      <th>Item_MRP</th>\n      <th>Outlet_Identifier</th>\n      <th>Outlet_Establishment_Year</th>\n      <th>Outlet_Size</th>\n      <th>Outlet_Location_Type</th>\n      <th>Outlet_Type</th>\n      <th>Item_Outlet_Sales</th>\n    </tr>\n  </thead>\n  <tbody>\n    <tr>\n      <th>8522</th>\n      <td>DRG01</td>\n      <td>14.800</td>\n      <td>Low Fat</td>\n      <td>0.044878</td>\n      <td>Soft Drinks</td>\n      <td>75.4670</td>\n      <td>OUT046</td>\n      <td>1997</td>\n      <td>Small</td>\n      <td>Tier 1</td>\n      <td>Supermarket Type1</td>\n      <td>765.6700</td>\n    </tr>\n    <tr>\n      <th>8521</th>\n      <td>FDN46</td>\n      <td>7.210</td>\n      <td>Regular</td>\n      <td>0.145221</td>\n      <td>Snack Foods</td>\n      <td>103.1332</td>\n      <td>OUT018</td>\n      <td>2009</td>\n      <td>Medium</td>\n      <td>Tier 3</td>\n      <td>Supermarket Type2</td>\n      <td>1845.5976</td>\n    </tr>\n    <tr>\n      <th>8520</th>\n      <td>NCJ29</td>\n      <td>10.600</td>\n      <td>Low Fat</td>\n      <td>0.035186</td>\n      <td>Health and Hygiene</td>\n      <td>85.1224</td>\n      <td>OUT035</td>\n      <td>2004</td>\n      <td>Small</td>\n      <td>Tier 2</td>\n      <td>Supermarket Type1</td>\n      <td>1193.1136</td>\n    </tr>\n    <tr>\n      <th>8519</th>\n      <td>FDS36</td>\n      <td>8.380</td>\n      <td>Regular</td>\n      <td>0.046982</td>\n      <td>Baking Goods</td>\n      <td>108.1570</td>\n      <td>OUT045</td>\n      <td>2002</td>\n      <td>NaN</td>\n      <td>Tier 2</td>\n      <td>Supermarket Type1</td>\n      <td>549.2850</td>\n    </tr>\n    <tr>\n      <th>8518</th>\n      <td>FDF22</td>\n      <td>6.865</td>\n      <td>Low Fat</td>\n      <td>0.056783</td>\n      <td>Snack Foods</td>\n      <td>214.5218</td>\n      <td>OUT013</td>\n      <td>1987</td>\n      <td>High</td>\n      <td>Tier 3</td>\n      <td>Supermarket Type1</td>\n      <td>2778.3834</td>\n    </tr>\n  </tbody>\n</table>\n</div>"
          },
          "metadata": {},
          "execution_count": 9
        }
      ]
    },
    {
      "cell_type": "code",
      "metadata": {
        "id": "t9s9TKVJjinr",
        "outputId": "17c9828c-eea9-4abd-e0cf-a289b48b4321",
        "colab": {
          "base_uri": "https://localhost:8080/",
          "height": 299
        }
      },
      "source": [
        "#Sorting Mutliple columns\n",
        "multi=df.sort_values(by=['Outlet_Establishment_Year', 'Item_Weight'], ascending= True)\n",
        "multi.tail()"
      ],
      "execution_count": 10,
      "outputs": [
        {
          "output_type": "execute_result",
          "data": {
            "text/plain": [
              "     Item_Identifier  Item_Weight Item_Fat_Content  Item_Visibility  \\\n",
              "6705           FDA45        21.25          Low Fat         0.156013   \n",
              "3632           FDT03        21.25          Low Fat         0.010039   \n",
              "934            FDQ21        21.25          Low Fat         0.019502   \n",
              "6389           FDR07        21.35          Low Fat         0.078061   \n",
              "43             FDC02        21.35          Low Fat         0.069103   \n",
              "\n",
              "                  Item_Type  Item_MRP Outlet_Identifier  \\\n",
              "6705            Snack Foods  177.3370            OUT018   \n",
              "3632                   Meat  181.7608            OUT018   \n",
              "934             Snack Foods  120.8756            OUT018   \n",
              "6389  Fruits and Vegetables   96.0094            OUT018   \n",
              "43                   Canned  259.9278            OUT018   \n",
              "\n",
              "      Outlet_Establishment_Year Outlet_Size Outlet_Location_Type  \\\n",
              "6705                       2009      Medium               Tier 3   \n",
              "3632                       2009      Medium               Tier 3   \n",
              "934                        2009      Medium               Tier 3   \n",
              "6389                       2009      Medium               Tier 3   \n",
              "43                         2009      Medium               Tier 3   \n",
              "\n",
              "            Outlet_Type  Item_Outlet_Sales  \n",
              "6705  Supermarket Type2          2822.9920  \n",
              "3632  Supermarket Type2          1102.5648  \n",
              "934   Supermarket Type2          3150.5656  \n",
              "6389  Supermarket Type2           380.8376  \n",
              "43    Supermarket Type2          6768.5228  "
            ],
            "text/html": "<div>\n<style scoped>\n    .dataframe tbody tr th:only-of-type {\n        vertical-align: middle;\n    }\n\n    .dataframe tbody tr th {\n        vertical-align: top;\n    }\n\n    .dataframe thead th {\n        text-align: right;\n    }\n</style>\n<table border=\"1\" class=\"dataframe\">\n  <thead>\n    <tr style=\"text-align: right;\">\n      <th></th>\n      <th>Item_Identifier</th>\n      <th>Item_Weight</th>\n      <th>Item_Fat_Content</th>\n      <th>Item_Visibility</th>\n      <th>Item_Type</th>\n      <th>Item_MRP</th>\n      <th>Outlet_Identifier</th>\n      <th>Outlet_Establishment_Year</th>\n      <th>Outlet_Size</th>\n      <th>Outlet_Location_Type</th>\n      <th>Outlet_Type</th>\n      <th>Item_Outlet_Sales</th>\n    </tr>\n  </thead>\n  <tbody>\n    <tr>\n      <th>6705</th>\n      <td>FDA45</td>\n      <td>21.25</td>\n      <td>Low Fat</td>\n      <td>0.156013</td>\n      <td>Snack Foods</td>\n      <td>177.3370</td>\n      <td>OUT018</td>\n      <td>2009</td>\n      <td>Medium</td>\n      <td>Tier 3</td>\n      <td>Supermarket Type2</td>\n      <td>2822.9920</td>\n    </tr>\n    <tr>\n      <th>3632</th>\n      <td>FDT03</td>\n      <td>21.25</td>\n      <td>Low Fat</td>\n      <td>0.010039</td>\n      <td>Meat</td>\n      <td>181.7608</td>\n      <td>OUT018</td>\n      <td>2009</td>\n      <td>Medium</td>\n      <td>Tier 3</td>\n      <td>Supermarket Type2</td>\n      <td>1102.5648</td>\n    </tr>\n    <tr>\n      <th>934</th>\n      <td>FDQ21</td>\n      <td>21.25</td>\n      <td>Low Fat</td>\n      <td>0.019502</td>\n      <td>Snack Foods</td>\n      <td>120.8756</td>\n      <td>OUT018</td>\n      <td>2009</td>\n      <td>Medium</td>\n      <td>Tier 3</td>\n      <td>Supermarket Type2</td>\n      <td>3150.5656</td>\n    </tr>\n    <tr>\n      <th>6389</th>\n      <td>FDR07</td>\n      <td>21.35</td>\n      <td>Low Fat</td>\n      <td>0.078061</td>\n      <td>Fruits and Vegetables</td>\n      <td>96.0094</td>\n      <td>OUT018</td>\n      <td>2009</td>\n      <td>Medium</td>\n      <td>Tier 3</td>\n      <td>Supermarket Type2</td>\n      <td>380.8376</td>\n    </tr>\n    <tr>\n      <th>43</th>\n      <td>FDC02</td>\n      <td>21.35</td>\n      <td>Low Fat</td>\n      <td>0.069103</td>\n      <td>Canned</td>\n      <td>259.9278</td>\n      <td>OUT018</td>\n      <td>2009</td>\n      <td>Medium</td>\n      <td>Tier 3</td>\n      <td>Supermarket Type2</td>\n      <td>6768.5228</td>\n    </tr>\n  </tbody>\n</table>\n</div>"
          },
          "metadata": {},
          "execution_count": 10
        }
      ]
    },
    {
      "cell_type": "code",
      "metadata": {
        "id": "JCvpt0QBkM6T",
        "outputId": "fea9cb07-9a45-47a7-b610-65219f46147c",
        "colab": {
          "base_uri": "https://localhost:8080/",
          "height": 590
        }
      },
      "source": [
        "print(type('Outlet_Location_Type'))\n",
        "print(df['Outlet_Location_Type'].unique())\n",
        "multi.sort_values(by=['Outlet_Location_Type'], inplace= True)\n",
        "multi.head()"
      ],
      "execution_count": 11,
      "outputs": [
        {
          "output_type": "stream",
          "name": "stdout",
          "text": [
            "<class 'str'>\n['Tier 1' 'Tier 3' 'Tier 2']\n"
          ]
        },
        {
          "output_type": "execute_result",
          "data": {
            "text/plain": [
              "     Item_Identifier  Item_Weight Item_Fat_Content  Item_Visibility  \\\n",
              "3352           FDZ51         11.3          Regular         0.054638   \n",
              "3158           FDU12         15.5          Regular         0.075751   \n",
              "7577           FDC44         15.6          Low Fat         0.172597   \n",
              "7150           FDM33         15.6          Low Fat         0.087720   \n",
              "6812           NCM55         15.6          Low Fat         0.066726   \n",
              "\n",
              "                  Item_Type  Item_MRP Outlet_Identifier  \\\n",
              "3352                   Meat   93.3094            OUT049   \n",
              "3158           Baking Goods  262.8568            OUT046   \n",
              "7577  Fruits and Vegetables  114.8518            OUT046   \n",
              "7150            Snack Foods  218.5798            OUT046   \n",
              "6812                 Others  185.8924            OUT046   \n",
              "\n",
              "      Outlet_Establishment_Year Outlet_Size Outlet_Location_Type  \\\n",
              "3352                       1999      Medium               Tier 1   \n",
              "3158                       1997       Small               Tier 1   \n",
              "7577                       1997       Small               Tier 1   \n",
              "7150                       1997       Small               Tier 1   \n",
              "6812                       1997       Small               Tier 1   \n",
              "\n",
              "            Outlet_Type  Item_Outlet_Sales  \n",
              "3352  Supermarket Type1          3046.7008  \n",
              "3158  Supermarket Type1          5800.4496  \n",
              "7577  Supermarket Type1          2163.1842  \n",
              "7150  Supermarket Type1          4407.5960  \n",
              "6812  Supermarket Type1          3516.7556  "
            ],
            "text/html": "<div>\n<style scoped>\n    .dataframe tbody tr th:only-of-type {\n        vertical-align: middle;\n    }\n\n    .dataframe tbody tr th {\n        vertical-align: top;\n    }\n\n    .dataframe thead th {\n        text-align: right;\n    }\n</style>\n<table border=\"1\" class=\"dataframe\">\n  <thead>\n    <tr style=\"text-align: right;\">\n      <th></th>\n      <th>Item_Identifier</th>\n      <th>Item_Weight</th>\n      <th>Item_Fat_Content</th>\n      <th>Item_Visibility</th>\n      <th>Item_Type</th>\n      <th>Item_MRP</th>\n      <th>Outlet_Identifier</th>\n      <th>Outlet_Establishment_Year</th>\n      <th>Outlet_Size</th>\n      <th>Outlet_Location_Type</th>\n      <th>Outlet_Type</th>\n      <th>Item_Outlet_Sales</th>\n    </tr>\n  </thead>\n  <tbody>\n    <tr>\n      <th>3352</th>\n      <td>FDZ51</td>\n      <td>11.3</td>\n      <td>Regular</td>\n      <td>0.054638</td>\n      <td>Meat</td>\n      <td>93.3094</td>\n      <td>OUT049</td>\n      <td>1999</td>\n      <td>Medium</td>\n      <td>Tier 1</td>\n      <td>Supermarket Type1</td>\n      <td>3046.7008</td>\n    </tr>\n    <tr>\n      <th>3158</th>\n      <td>FDU12</td>\n      <td>15.5</td>\n      <td>Regular</td>\n      <td>0.075751</td>\n      <td>Baking Goods</td>\n      <td>262.8568</td>\n      <td>OUT046</td>\n      <td>1997</td>\n      <td>Small</td>\n      <td>Tier 1</td>\n      <td>Supermarket Type1</td>\n      <td>5800.4496</td>\n    </tr>\n    <tr>\n      <th>7577</th>\n      <td>FDC44</td>\n      <td>15.6</td>\n      <td>Low Fat</td>\n      <td>0.172597</td>\n      <td>Fruits and Vegetables</td>\n      <td>114.8518</td>\n      <td>OUT046</td>\n      <td>1997</td>\n      <td>Small</td>\n      <td>Tier 1</td>\n      <td>Supermarket Type1</td>\n      <td>2163.1842</td>\n    </tr>\n    <tr>\n      <th>7150</th>\n      <td>FDM33</td>\n      <td>15.6</td>\n      <td>Low Fat</td>\n      <td>0.087720</td>\n      <td>Snack Foods</td>\n      <td>218.5798</td>\n      <td>OUT046</td>\n      <td>1997</td>\n      <td>Small</td>\n      <td>Tier 1</td>\n      <td>Supermarket Type1</td>\n      <td>4407.5960</td>\n    </tr>\n    <tr>\n      <th>6812</th>\n      <td>NCM55</td>\n      <td>15.6</td>\n      <td>Low Fat</td>\n      <td>0.066726</td>\n      <td>Others</td>\n      <td>185.8924</td>\n      <td>OUT046</td>\n      <td>1997</td>\n      <td>Small</td>\n      <td>Tier 1</td>\n      <td>Supermarket Type1</td>\n      <td>3516.7556</td>\n    </tr>\n  </tbody>\n</table>\n</div>"
          },
          "metadata": {},
          "execution_count": 11
        }
      ]
    },
    {
      "cell_type": "markdown",
      "metadata": {
        "id": "fqtz6oh6oEjy"
      },
      "source": [
        "Binning/ Discretization Using Pandas"
      ]
    },
    {
      "cell_type": "code",
      "metadata": {
        "id": "VZy2VPLMoJNX",
        "outputId": "6201b893-afc9-4acc-a679-6db2c06c7d66",
        "colab": {
          "base_uri": "https://localhost:8080/",
          "height": 136
        }
      },
      "source": [
        "import pandas as pd\n",
        "data={'Title':['The Hobbit', 'Robinson Crusoe', 'Moby Dick'],\n",
        "    'Author':['J.R.R. Tolkien', 'Daniel Defoe', 'Herman Melville']}\n",
        "df= pd.DataFrame(data)\n",
        "df"
      ],
      "execution_count": 12,
      "outputs": [
        {
          "output_type": "execute_result",
          "data": {
            "text/plain": [
              "             Title           Author\n",
              "0       The Hobbit   J.R.R. Tolkien\n",
              "1  Robinson Crusoe     Daniel Defoe\n",
              "2        Moby Dick  Herman Melville"
            ],
            "text/html": "<div>\n<style scoped>\n    .dataframe tbody tr th:only-of-type {\n        vertical-align: middle;\n    }\n\n    .dataframe tbody tr th {\n        vertical-align: top;\n    }\n\n    .dataframe thead th {\n        text-align: right;\n    }\n</style>\n<table border=\"1\" class=\"dataframe\">\n  <thead>\n    <tr style=\"text-align: right;\">\n      <th></th>\n      <th>Title</th>\n      <th>Author</th>\n    </tr>\n  </thead>\n  <tbody>\n    <tr>\n      <th>0</th>\n      <td>The Hobbit</td>\n      <td>J.R.R. Tolkien</td>\n    </tr>\n    <tr>\n      <th>1</th>\n      <td>Robinson Crusoe</td>\n      <td>Daniel Defoe</td>\n    </tr>\n    <tr>\n      <th>2</th>\n      <td>Moby Dick</td>\n      <td>Herman Melville</td>\n    </tr>\n  </tbody>\n</table>\n</div>"
          },
          "metadata": {},
          "execution_count": 12
        }
      ]
    },
    {
      "cell_type": "code",
      "metadata": {
        "id": "wD6rcW1PoYTl",
        "outputId": "7b03943e-8b66-4d2b-a538-1454f8a7a34a",
        "colab": {
          "base_uri": "https://localhost:8080/",
          "height": 136
        }
      },
      "source": [
        "df['new_col'] = [3,13,29]         # Created a new column named new_col and assigned values as 10,20,30\n",
        "df['bins'] = pd.cut(x=df['new_col'], bins = [0,10,20,30])    # df['new_bin_column_name']=pd.cut(x=df['column_to_be_binned'], bins=[range of values])\n",
        "df"
      ],
      "execution_count": 13,
      "outputs": [
        {
          "output_type": "execute_result",
          "data": {
            "text/plain": [
              "             Title           Author  new_col      bins\n",
              "0       The Hobbit   J.R.R. Tolkien        3   (0, 10]\n",
              "1  Robinson Crusoe     Daniel Defoe       13  (10, 20]\n",
              "2        Moby Dick  Herman Melville       29  (20, 30]"
            ],
            "text/html": "<div>\n<style scoped>\n    .dataframe tbody tr th:only-of-type {\n        vertical-align: middle;\n    }\n\n    .dataframe tbody tr th {\n        vertical-align: top;\n    }\n\n    .dataframe thead th {\n        text-align: right;\n    }\n</style>\n<table border=\"1\" class=\"dataframe\">\n  <thead>\n    <tr style=\"text-align: right;\">\n      <th></th>\n      <th>Title</th>\n      <th>Author</th>\n      <th>new_col</th>\n      <th>bins</th>\n    </tr>\n  </thead>\n  <tbody>\n    <tr>\n      <th>0</th>\n      <td>The Hobbit</td>\n      <td>J.R.R. Tolkien</td>\n      <td>3</td>\n      <td>(0, 10]</td>\n    </tr>\n    <tr>\n      <th>1</th>\n      <td>Robinson Crusoe</td>\n      <td>Daniel Defoe</td>\n      <td>13</td>\n      <td>(10, 20]</td>\n    </tr>\n    <tr>\n      <th>2</th>\n      <td>Moby Dick</td>\n      <td>Herman Melville</td>\n      <td>29</td>\n      <td>(20, 30]</td>\n    </tr>\n  </tbody>\n</table>\n</div>"
          },
          "metadata": {},
          "execution_count": 13
        }
      ]
    },
    {
      "cell_type": "code",
      "metadata": {
        "id": "QhiKVq2pswEO",
        "outputId": "64d55fcc-fce3-423c-cf00-93b0e55fa5d0",
        "colab": {
          "base_uri": "https://localhost:8080/",
          "height": 136
        }
      },
      "source": [
        "df['bins'].unique()\n",
        "df.rename(columns={'new_col': 'Age'}, inplace= True)\n",
        "df"
      ],
      "execution_count": 14,
      "outputs": [
        {
          "output_type": "execute_result",
          "data": {
            "text/plain": [
              "             Title           Author  Age      bins\n",
              "0       The Hobbit   J.R.R. Tolkien    3   (0, 10]\n",
              "1  Robinson Crusoe     Daniel Defoe   13  (10, 20]\n",
              "2        Moby Dick  Herman Melville   29  (20, 30]"
            ],
            "text/html": "<div>\n<style scoped>\n    .dataframe tbody tr th:only-of-type {\n        vertical-align: middle;\n    }\n\n    .dataframe tbody tr th {\n        vertical-align: top;\n    }\n\n    .dataframe thead th {\n        text-align: right;\n    }\n</style>\n<table border=\"1\" class=\"dataframe\">\n  <thead>\n    <tr style=\"text-align: right;\">\n      <th></th>\n      <th>Title</th>\n      <th>Author</th>\n      <th>Age</th>\n      <th>bins</th>\n    </tr>\n  </thead>\n  <tbody>\n    <tr>\n      <th>0</th>\n      <td>The Hobbit</td>\n      <td>J.R.R. Tolkien</td>\n      <td>3</td>\n      <td>(0, 10]</td>\n    </tr>\n    <tr>\n      <th>1</th>\n      <td>Robinson Crusoe</td>\n      <td>Daniel Defoe</td>\n      <td>13</td>\n      <td>(10, 20]</td>\n    </tr>\n    <tr>\n      <th>2</th>\n      <td>Moby Dick</td>\n      <td>Herman Melville</td>\n      <td>29</td>\n      <td>(20, 30]</td>\n    </tr>\n  </tbody>\n</table>\n</div>"
          },
          "metadata": {},
          "execution_count": 14
        }
      ]
    },
    {
      "cell_type": "code",
      "metadata": {
        "id": "ySAWSGkgtBSL",
        "outputId": "766c7efa-c472-4847-bfe4-1ef8f94ec3e0",
        "colab": {
          "base_uri": "https://localhost:8080/",
          "height": 136
        }
      },
      "source": [
        "# Create New Column of of decade With Labels 10s, 20s, and 30s\n",
        "df['decade']= pd.cut(x=df['Age'], bins=[0,10,20,30], labels=['10s', '20s', '30s'])\n",
        "df"
      ],
      "execution_count": 15,
      "outputs": [
        {
          "output_type": "execute_result",
          "data": {
            "text/plain": [
              "             Title           Author  Age      bins decade\n",
              "0       The Hobbit   J.R.R. Tolkien    3   (0, 10]    10s\n",
              "1  Robinson Crusoe     Daniel Defoe   13  (10, 20]    20s\n",
              "2        Moby Dick  Herman Melville   29  (20, 30]    30s"
            ],
            "text/html": "<div>\n<style scoped>\n    .dataframe tbody tr th:only-of-type {\n        vertical-align: middle;\n    }\n\n    .dataframe tbody tr th {\n        vertical-align: top;\n    }\n\n    .dataframe thead th {\n        text-align: right;\n    }\n</style>\n<table border=\"1\" class=\"dataframe\">\n  <thead>\n    <tr style=\"text-align: right;\">\n      <th></th>\n      <th>Title</th>\n      <th>Author</th>\n      <th>Age</th>\n      <th>bins</th>\n      <th>decade</th>\n    </tr>\n  </thead>\n  <tbody>\n    <tr>\n      <th>0</th>\n      <td>The Hobbit</td>\n      <td>J.R.R. Tolkien</td>\n      <td>3</td>\n      <td>(0, 10]</td>\n      <td>10s</td>\n    </tr>\n    <tr>\n      <th>1</th>\n      <td>Robinson Crusoe</td>\n      <td>Daniel Defoe</td>\n      <td>13</td>\n      <td>(10, 20]</td>\n      <td>20s</td>\n    </tr>\n    <tr>\n      <th>2</th>\n      <td>Moby Dick</td>\n      <td>Herman Melville</td>\n      <td>29</td>\n      <td>(20, 30]</td>\n      <td>30s</td>\n    </tr>\n  </tbody>\n</table>\n</div>"
          },
          "metadata": {},
          "execution_count": 15
        }
      ]
    },
    {
      "cell_type": "markdown",
      "metadata": {
        "id": "e1KqyQ-K1nx9"
      },
      "source": [
        "Handling Missing values in Pandas DataFrame"
      ]
    },
    {
      "cell_type": "code",
      "metadata": {
        "id": "U3DkTqn71umC"
      },
      "source": [
        "import pandas as pd\n",
        "import numpy as np"
      ],
      "execution_count": 16,
      "outputs": []
    },
    {
      "source": [
        "fillna() method helps to fill missing data values in a DataFrame.\n",
        "\n",
        "YOu can fill this mean/median/mode of the column.\n",
        "\n",
        "df.isna().sum()"
      ],
      "cell_type": "markdown",
      "metadata": {}
    },
    {
      "cell_type": "code",
      "execution_count": 17,
      "metadata": {},
      "outputs": [
        {
          "output_type": "execute_result",
          "data": {
            "text/plain": [
              "             Title           Author  Age      bins decade\n",
              "0       The Hobbit   J.R.R. Tolkien    3   (0, 10]    10s\n",
              "1  Robinson Crusoe     Daniel Defoe   13  (10, 20]    20s\n",
              "2        Moby Dick  Herman Melville   29  (20, 30]    30s"
            ],
            "text/html": "<div>\n<style scoped>\n    .dataframe tbody tr th:only-of-type {\n        vertical-align: middle;\n    }\n\n    .dataframe tbody tr th {\n        vertical-align: top;\n    }\n\n    .dataframe thead th {\n        text-align: right;\n    }\n</style>\n<table border=\"1\" class=\"dataframe\">\n  <thead>\n    <tr style=\"text-align: right;\">\n      <th></th>\n      <th>Title</th>\n      <th>Author</th>\n      <th>Age</th>\n      <th>bins</th>\n      <th>decade</th>\n    </tr>\n  </thead>\n  <tbody>\n    <tr>\n      <th>0</th>\n      <td>The Hobbit</td>\n      <td>J.R.R. Tolkien</td>\n      <td>3</td>\n      <td>(0, 10]</td>\n      <td>10s</td>\n    </tr>\n    <tr>\n      <th>1</th>\n      <td>Robinson Crusoe</td>\n      <td>Daniel Defoe</td>\n      <td>13</td>\n      <td>(10, 20]</td>\n      <td>20s</td>\n    </tr>\n    <tr>\n      <th>2</th>\n      <td>Moby Dick</td>\n      <td>Herman Melville</td>\n      <td>29</td>\n      <td>(20, 30]</td>\n      <td>30s</td>\n    </tr>\n  </tbody>\n</table>\n</div>"
          },
          "metadata": {},
          "execution_count": 17
        }
      ],
      "source": [
        "df.head()"
      ]
    },
    {
      "cell_type": "code",
      "metadata": {
        "id": "KULAxLeK2HL6",
        "outputId": "74e74307-9fc1-4798-9607-4fc99c0a4078",
        "colab": {
          "base_uri": "https://localhost:8080/",
          "height": 235
        }
      },
      "source": [
        "df=pd.read_csv('D:\\\\Datasets\\\\bigmart_data.csv')\n",
        "null=df.isna().sum()    # NA / NaN/ NULL\n",
        "print(null)  \n",
        "print(null.sum())\n",
        "df.isna().head()          # we have 1463 na values in Item_Weight column and 2410 NA values in outlet_Size column"
      ],
      "execution_count": 18,
      "outputs": [
        {
          "output_type": "stream",
          "name": "stdout",
          "text": [
            "Item_Identifier                 0\nItem_Weight                  1463\nItem_Fat_Content                0\nItem_Visibility                 0\nItem_Type                       0\nItem_MRP                        0\nOutlet_Identifier               0\nOutlet_Establishment_Year       0\nOutlet_Size                  2410\nOutlet_Location_Type            0\nOutlet_Type                     0\nItem_Outlet_Sales               0\ndtype: int64\n3873\n"
          ]
        },
        {
          "output_type": "execute_result",
          "data": {
            "text/plain": [
              "   Item_Identifier  Item_Weight  Item_Fat_Content  Item_Visibility  Item_Type  \\\n",
              "0            False        False             False            False      False   \n",
              "1            False        False             False            False      False   \n",
              "2            False        False             False            False      False   \n",
              "3            False        False             False            False      False   \n",
              "4            False        False             False            False      False   \n",
              "\n",
              "   Item_MRP  Outlet_Identifier  Outlet_Establishment_Year  Outlet_Size  \\\n",
              "0     False              False                      False        False   \n",
              "1     False              False                      False        False   \n",
              "2     False              False                      False        False   \n",
              "3     False              False                      False         True   \n",
              "4     False              False                      False        False   \n",
              "\n",
              "   Outlet_Location_Type  Outlet_Type  Item_Outlet_Sales  \n",
              "0                 False        False              False  \n",
              "1                 False        False              False  \n",
              "2                 False        False              False  \n",
              "3                 False        False              False  \n",
              "4                 False        False              False  "
            ],
            "text/html": "<div>\n<style scoped>\n    .dataframe tbody tr th:only-of-type {\n        vertical-align: middle;\n    }\n\n    .dataframe tbody tr th {\n        vertical-align: top;\n    }\n\n    .dataframe thead th {\n        text-align: right;\n    }\n</style>\n<table border=\"1\" class=\"dataframe\">\n  <thead>\n    <tr style=\"text-align: right;\">\n      <th></th>\n      <th>Item_Identifier</th>\n      <th>Item_Weight</th>\n      <th>Item_Fat_Content</th>\n      <th>Item_Visibility</th>\n      <th>Item_Type</th>\n      <th>Item_MRP</th>\n      <th>Outlet_Identifier</th>\n      <th>Outlet_Establishment_Year</th>\n      <th>Outlet_Size</th>\n      <th>Outlet_Location_Type</th>\n      <th>Outlet_Type</th>\n      <th>Item_Outlet_Sales</th>\n    </tr>\n  </thead>\n  <tbody>\n    <tr>\n      <th>0</th>\n      <td>False</td>\n      <td>False</td>\n      <td>False</td>\n      <td>False</td>\n      <td>False</td>\n      <td>False</td>\n      <td>False</td>\n      <td>False</td>\n      <td>False</td>\n      <td>False</td>\n      <td>False</td>\n      <td>False</td>\n    </tr>\n    <tr>\n      <th>1</th>\n      <td>False</td>\n      <td>False</td>\n      <td>False</td>\n      <td>False</td>\n      <td>False</td>\n      <td>False</td>\n      <td>False</td>\n      <td>False</td>\n      <td>False</td>\n      <td>False</td>\n      <td>False</td>\n      <td>False</td>\n    </tr>\n    <tr>\n      <th>2</th>\n      <td>False</td>\n      <td>False</td>\n      <td>False</td>\n      <td>False</td>\n      <td>False</td>\n      <td>False</td>\n      <td>False</td>\n      <td>False</td>\n      <td>False</td>\n      <td>False</td>\n      <td>False</td>\n      <td>False</td>\n    </tr>\n    <tr>\n      <th>3</th>\n      <td>False</td>\n      <td>False</td>\n      <td>False</td>\n      <td>False</td>\n      <td>False</td>\n      <td>False</td>\n      <td>False</td>\n      <td>False</td>\n      <td>True</td>\n      <td>False</td>\n      <td>False</td>\n      <td>False</td>\n    </tr>\n    <tr>\n      <th>4</th>\n      <td>False</td>\n      <td>False</td>\n      <td>False</td>\n      <td>False</td>\n      <td>False</td>\n      <td>False</td>\n      <td>False</td>\n      <td>False</td>\n      <td>False</td>\n      <td>False</td>\n      <td>False</td>\n      <td>False</td>\n    </tr>\n  </tbody>\n</table>\n</div>"
          },
          "metadata": {},
          "execution_count": 18
        }
      ]
    },
    {
      "cell_type": "code",
      "metadata": {
        "id": "ifHylI4f4Ixb",
        "outputId": "6e436b73-1c59-4b7d-f2ac-200499249d47",
        "colab": {
          "base_uri": "https://localhost:8080/",
          "height": 50
        }
      },
      "source": [
        "# we calculate the percantage of NA values in DataSet\n",
        "print(df.shape)\n",
        "total= np.product(df.shape)\n",
        "print(total)\n",
        "missing= null.sum()\n",
        "percentage_NA= (missing/total)*100\n",
        "print(\"The percentage of NA values in the DataSet given:\", percentage_NA)       # There is 3.78% of NA values in the Dataset provided"
      ],
      "execution_count": 19,
      "outputs": [
        {
          "output_type": "stream",
          "name": "stdout",
          "text": [
            "(8523, 12)\n102276\nThe percentage of NA values in the DataSet given: 3.786812155344362\n"
          ]
        }
      ]
    },
    {
      "cell_type": "code",
      "execution_count": 20,
      "metadata": {},
      "outputs": [
        {
          "output_type": "stream",
          "name": "stdout",
          "text": [
            "object\n"
          ]
        },
        {
          "output_type": "execute_result",
          "data": {
            "text/plain": [
              "dtype('float64')"
            ]
          },
          "metadata": {},
          "execution_count": 20
        }
      ],
      "source": [
        "print(df['Item_Fat_Content'].dtype)\n",
        "df['Item_Weight'].dtype"
      ]
    },
    {
      "cell_type": "code",
      "metadata": {
        "id": "qvJxr2sY4-PU",
        "outputId": "6dd5dc05-f322-4df6-f7b3-61c606e06a03",
        "colab": {
          "base_uri": "https://localhost:8080/",
          "height": 235
        }
      },
      "source": [
        "#Fill the NA values with mean of the Dataset\n",
        "mean_weight= df['Item_Weight'].mean()\n",
        "Weight_mean=df['Item_Weight'].fillna(mean_weight, inplace= True)\n",
        "print(df.isna().sum())"
      ],
      "execution_count": 21,
      "outputs": [
        {
          "output_type": "stream",
          "name": "stdout",
          "text": [
            "Item_Identifier                 0\nItem_Weight                     0\nItem_Fat_Content                0\nItem_Visibility                 0\nItem_Type                       0\nItem_MRP                        0\nOutlet_Identifier               0\nOutlet_Establishment_Year       0\nOutlet_Size                  2410\nOutlet_Location_Type            0\nOutlet_Type                     0\nItem_Outlet_Sales               0\ndtype: int64\n"
          ]
        }
      ]
    },
    {
      "cell_type": "code",
      "execution_count": 22,
      "metadata": {},
      "outputs": [
        {
          "output_type": "execute_result",
          "data": {
            "text/plain": [
              "dtype('O')"
            ]
          },
          "metadata": {},
          "execution_count": 22
        }
      ],
      "source": [
        "df['Outlet_Size'].dtype"
      ]
    },
    {
      "cell_type": "code",
      "execution_count": 23,
      "metadata": {},
      "outputs": [
        {
          "output_type": "stream",
          "name": "stdout",
          "text": [
            "['Medium' nan 'High' 'Small']\n0    Medium\ndtype: object\n"
          ]
        }
      ],
      "source": [
        "print(df['Outlet_Size'].unique())\n",
        "find_mode= df['Outlet_Size'].mode()\n",
        "print(find_mode)"
      ]
    },
    {
      "cell_type": "code",
      "execution_count": 24,
      "metadata": {},
      "outputs": [
        {
          "output_type": "execute_result",
          "data": {
            "text/plain": [
              "Item_Identifier              0\n",
              "Item_Weight                  0\n",
              "Item_Fat_Content             0\n",
              "Item_Visibility              0\n",
              "Item_Type                    0\n",
              "Item_MRP                     0\n",
              "Outlet_Identifier            0\n",
              "Outlet_Establishment_Year    0\n",
              "Outlet_Size                  0\n",
              "Outlet_Location_Type         0\n",
              "Outlet_Type                  0\n",
              "Item_Outlet_Sales            0\n",
              "dtype: int64"
            ]
          },
          "metadata": {},
          "execution_count": 24
        }
      ],
      "source": [
        "df['Outlet_Size'].fillna(find_mode.iloc[0], inplace= True)\n",
        "df.isna().sum()"
      ]
    },
    {
      "cell_type": "markdown",
      "metadata": {
        "id": "siAsI5hpj1mq"
      },
      "source": [
        "Apply method in pandas"
      ]
    },
    {
      "cell_type": "code",
      "execution_count": 25,
      "metadata": {},
      "outputs": [
        {
          "output_type": "stream",
          "name": "stdout",
          "text": [
            "<class 'str'>\nhello world\nTrue\n"
          ]
        }
      ],
      "source": [
        "def function_name():\n",
        "    print(str)\n",
        "    print(\"hello world\")\n",
        "    if 2<3: print(True)\n",
        "\n",
        "function_name()"
      ]
    },
    {
      "source": [
        " lambda functions which are also called as ananymous funciton\n",
        "\n",
        "\n",
        " lambda functions can take any number of arguments/ paramteres but return just one value in the form of an expression.\n",
        "\n",
        "\n",
        " lambda requires an expression, they have  theor own local namespace and cannot access other than those in their parameters.\n",
        "\n",
        "\n",
        "    SYNTAX:-\n",
        "\n",
        "lambda arg1, arg2 .... argn : expression"
      ],
      "cell_type": "markdown",
      "metadata": {}
    },
    {
      "cell_type": "code",
      "execution_count": 167,
      "metadata": {},
      "outputs": [
        {
          "output_type": "stream",
          "name": "stdout",
          "text": [
            "Add: 3 \nSub: -1\nNone\n"
          ]
        }
      ],
      "source": [
        "sum = lambda a,b : print(\"Add:\",a+b, \"\\n\" \"Sub:\", a-b)\n",
        "print(sum(1,2))"
      ]
    },
    {
      "cell_type": "code",
      "metadata": {
        "id": "6o7W0d1fj0co"
      },
      "source": [
        "import numpy as np\n",
        "import pandas as pd\n",
        "import time\n",
        "import calendar"
      ],
      "execution_count": 2,
      "outputs": []
    },
    {
      "cell_type": "code",
      "metadata": {
        "id": "h2CCNhk0kLue",
        "outputId": "d6777402-47a1-4464-9cc9-e4fd4813b8e7",
        "colab": {
          "base_uri": "https://localhost:8080/",
          "height": 285
        }
      },
      "source": [
        "data= pd.read_csv('D:\\\\Datasets\\\\bigmart_data.csv')\n",
        "data.head()"
      ],
      "execution_count": 84,
      "outputs": [
        {
          "output_type": "execute_result",
          "data": {
            "text/plain": [
              "  Item_Identifier  Item_Weight Item_Fat_Content  Item_Visibility  \\\n",
              "0           FDA15         9.30          Low Fat         0.016047   \n",
              "1           DRC01         5.92          Regular         0.019278   \n",
              "2           FDN15        17.50          Low Fat         0.016760   \n",
              "3           FDX07        19.20          Regular         0.000000   \n",
              "4           NCD19         8.93          Low Fat         0.000000   \n",
              "\n",
              "               Item_Type  Item_MRP Outlet_Identifier  \\\n",
              "0                  Dairy  249.8092            OUT049   \n",
              "1            Soft Drinks   48.2692            OUT018   \n",
              "2                   Meat  141.6180            OUT049   \n",
              "3  Fruits and Vegetables  182.0950            OUT010   \n",
              "4              Household   53.8614            OUT013   \n",
              "\n",
              "   Outlet_Establishment_Year Outlet_Size Outlet_Location_Type  \\\n",
              "0                       1999      Medium               Tier 1   \n",
              "1                       2009      Medium               Tier 3   \n",
              "2                       1999      Medium               Tier 1   \n",
              "3                       1998         NaN               Tier 3   \n",
              "4                       1987        High               Tier 3   \n",
              "\n",
              "         Outlet_Type  Item_Outlet_Sales  \n",
              "0  Supermarket Type1          3735.1380  \n",
              "1  Supermarket Type2           443.4228  \n",
              "2  Supermarket Type1          2097.2700  \n",
              "3      Grocery Store           732.3800  \n",
              "4  Supermarket Type1           994.7052  "
            ],
            "text/html": "<div>\n<style scoped>\n    .dataframe tbody tr th:only-of-type {\n        vertical-align: middle;\n    }\n\n    .dataframe tbody tr th {\n        vertical-align: top;\n    }\n\n    .dataframe thead th {\n        text-align: right;\n    }\n</style>\n<table border=\"1\" class=\"dataframe\">\n  <thead>\n    <tr style=\"text-align: right;\">\n      <th></th>\n      <th>Item_Identifier</th>\n      <th>Item_Weight</th>\n      <th>Item_Fat_Content</th>\n      <th>Item_Visibility</th>\n      <th>Item_Type</th>\n      <th>Item_MRP</th>\n      <th>Outlet_Identifier</th>\n      <th>Outlet_Establishment_Year</th>\n      <th>Outlet_Size</th>\n      <th>Outlet_Location_Type</th>\n      <th>Outlet_Type</th>\n      <th>Item_Outlet_Sales</th>\n    </tr>\n  </thead>\n  <tbody>\n    <tr>\n      <th>0</th>\n      <td>FDA15</td>\n      <td>9.30</td>\n      <td>Low Fat</td>\n      <td>0.016047</td>\n      <td>Dairy</td>\n      <td>249.8092</td>\n      <td>OUT049</td>\n      <td>1999</td>\n      <td>Medium</td>\n      <td>Tier 1</td>\n      <td>Supermarket Type1</td>\n      <td>3735.1380</td>\n    </tr>\n    <tr>\n      <th>1</th>\n      <td>DRC01</td>\n      <td>5.92</td>\n      <td>Regular</td>\n      <td>0.019278</td>\n      <td>Soft Drinks</td>\n      <td>48.2692</td>\n      <td>OUT018</td>\n      <td>2009</td>\n      <td>Medium</td>\n      <td>Tier 3</td>\n      <td>Supermarket Type2</td>\n      <td>443.4228</td>\n    </tr>\n    <tr>\n      <th>2</th>\n      <td>FDN15</td>\n      <td>17.50</td>\n      <td>Low Fat</td>\n      <td>0.016760</td>\n      <td>Meat</td>\n      <td>141.6180</td>\n      <td>OUT049</td>\n      <td>1999</td>\n      <td>Medium</td>\n      <td>Tier 1</td>\n      <td>Supermarket Type1</td>\n      <td>2097.2700</td>\n    </tr>\n    <tr>\n      <th>3</th>\n      <td>FDX07</td>\n      <td>19.20</td>\n      <td>Regular</td>\n      <td>0.000000</td>\n      <td>Fruits and Vegetables</td>\n      <td>182.0950</td>\n      <td>OUT010</td>\n      <td>1998</td>\n      <td>NaN</td>\n      <td>Tier 3</td>\n      <td>Grocery Store</td>\n      <td>732.3800</td>\n    </tr>\n    <tr>\n      <th>4</th>\n      <td>NCD19</td>\n      <td>8.93</td>\n      <td>Low Fat</td>\n      <td>0.000000</td>\n      <td>Household</td>\n      <td>53.8614</td>\n      <td>OUT013</td>\n      <td>1987</td>\n      <td>High</td>\n      <td>Tier 3</td>\n      <td>Supermarket Type1</td>\n      <td>994.7052</td>\n    </tr>\n  </tbody>\n</table>\n</div>"
          },
          "metadata": {},
          "execution_count": 84
        }
      ]
    },
    {
      "cell_type": "code",
      "execution_count": 87,
      "metadata": {},
      "outputs": [
        {
          "output_type": "execute_result",
          "data": {
            "text/plain": [
              "                      Item_Identifier  Item_Weight Item_Fat_Content  \\\n",
              "Item_Type                                                             \n",
              "Baking Goods                    FDP36       10.395          Regular   \n",
              "Breads                          FDO23       17.850          Low Fat   \n",
              "Breakfast                       FDP49        9.000          Regular   \n",
              "Canned                          FDC14       21.350          Regular   \n",
              "Dairy                           FDA15        9.300          Low Fat   \n",
              "Frozen Foods                    FDH17       16.200          Regular   \n",
              "Fruits and Vegetables           FDX07       19.200          Regular   \n",
              "Hard Drinks                     DRI11       11.650          Low Fat   \n",
              "Health and Hygiene              NCB42       11.800          Low Fat   \n",
              "Household                       NCD19        8.930          Low Fat   \n",
              "Meat                            FDN15       17.500          Low Fat   \n",
              "Others                          NCN07       18.500          Low Fat   \n",
              "Seafood                         FDG33       10.395          Regular   \n",
              "Snack Foods                     FDO10       13.650          Regular   \n",
              "Soft Drinks                     DRC01        5.920          Regular   \n",
              "Starchy Foods                   FDH35       18.250          Low Fat   \n",
              "\n",
              "                       Item_Visibility  Item_MRP Outlet_Identifier  \\\n",
              "Item_Type                                                            \n",
              "Baking Goods                  0.000000   51.4008            OUT018   \n",
              "Breads                        0.000000   93.1436            OUT045   \n",
              "Breakfast                     0.069089   56.3614            OUT046   \n",
              "Canned                        0.072222   43.6454            OUT019   \n",
              "Dairy                         0.016047  249.8092            OUT049   \n",
              "Frozen Foods                  0.016687   96.9726            OUT045   \n",
              "Fruits and Vegetables         0.000000  182.0950            OUT010   \n",
              "Hard Drinks                   0.034238  113.2834            OUT027   \n",
              "Health and Hygiene            0.008596  115.3492            OUT018   \n",
              "Household                     0.000000   53.8614            OUT013   \n",
              "Meat                          0.016760  141.6180            OUT049   \n",
              "Others                        0.056816  132.1284            OUT010   \n",
              "Seafood                       0.139561  170.4764            OUT027   \n",
              "Snack Foods                   0.012741   57.6588            OUT013   \n",
              "Soft Drinks                   0.019278   48.2692            OUT018   \n",
              "Starchy Foods                 0.000000  164.7526            OUT045   \n",
              "\n",
              "                       Outlet_Establishment_Year Outlet_Size  \\\n",
              "Item_Type                                                      \n",
              "Baking Goods                                2009      Medium   \n",
              "Breads                                      2002      Medium   \n",
              "Breakfast                                   1997       Small   \n",
              "Canned                                      1985       Small   \n",
              "Dairy                                       1999      Medium   \n",
              "Frozen Foods                                2002       Small   \n",
              "Fruits and Vegetables                       1998      Medium   \n",
              "Hard Drinks                                 1985      Medium   \n",
              "Health and Hygiene                          2009      Medium   \n",
              "Household                                   1987        High   \n",
              "Meat                                        1999      Medium   \n",
              "Others                                      1998       Small   \n",
              "Seafood                                     1985      Medium   \n",
              "Snack Foods                                 1987        High   \n",
              "Soft Drinks                                 2009      Medium   \n",
              "Starchy Foods                               2002      Medium   \n",
              "\n",
              "                      Outlet_Location_Type        Outlet_Type  \\\n",
              "Item_Type                                                       \n",
              "Baking Goods                        Tier 3  Supermarket Type2   \n",
              "Breads                              Tier 2  Supermarket Type1   \n",
              "Breakfast                           Tier 1  Supermarket Type1   \n",
              "Canned                              Tier 1      Grocery Store   \n",
              "Dairy                               Tier 1  Supermarket Type1   \n",
              "Frozen Foods                        Tier 2  Supermarket Type1   \n",
              "Fruits and Vegetables               Tier 3      Grocery Store   \n",
              "Hard Drinks                         Tier 3  Supermarket Type3   \n",
              "Health and Hygiene                  Tier 3  Supermarket Type2   \n",
              "Household                           Tier 3  Supermarket Type1   \n",
              "Meat                                Tier 1  Supermarket Type1   \n",
              "Others                              Tier 3      Grocery Store   \n",
              "Seafood                             Tier 3  Supermarket Type3   \n",
              "Snack Foods                         Tier 3  Supermarket Type1   \n",
              "Soft Drinks                         Tier 3  Supermarket Type2   \n",
              "Starchy Foods                       Tier 2  Supermarket Type1   \n",
              "\n",
              "                       Item_Outlet_Sales  \n",
              "Item_Type                                 \n",
              "Baking Goods                    556.6088  \n",
              "Breads                         2174.5028  \n",
              "Breakfast                      1547.3192  \n",
              "Canned                          125.8362  \n",
              "Dairy                          3735.1380  \n",
              "Frozen Foods                   1076.5986  \n",
              "Fruits and Vegetables           732.3800  \n",
              "Hard Drinks                    2303.6680  \n",
              "Health and Hygiene             1621.8888  \n",
              "Household                       994.7052  \n",
              "Meat                           2097.2700  \n",
              "Others                          263.6568  \n",
              "Seafood                        3435.5280  \n",
              "Snack Foods                     343.5528  \n",
              "Soft Drinks                     443.4228  \n",
              "Starchy Foods                  4604.6728  "
            ],
            "text/html": "<div>\n<style scoped>\n    .dataframe tbody tr th:only-of-type {\n        vertical-align: middle;\n    }\n\n    .dataframe tbody tr th {\n        vertical-align: top;\n    }\n\n    .dataframe thead th {\n        text-align: right;\n    }\n</style>\n<table border=\"1\" class=\"dataframe\">\n  <thead>\n    <tr style=\"text-align: right;\">\n      <th></th>\n      <th>Item_Identifier</th>\n      <th>Item_Weight</th>\n      <th>Item_Fat_Content</th>\n      <th>Item_Visibility</th>\n      <th>Item_MRP</th>\n      <th>Outlet_Identifier</th>\n      <th>Outlet_Establishment_Year</th>\n      <th>Outlet_Size</th>\n      <th>Outlet_Location_Type</th>\n      <th>Outlet_Type</th>\n      <th>Item_Outlet_Sales</th>\n    </tr>\n    <tr>\n      <th>Item_Type</th>\n      <th></th>\n      <th></th>\n      <th></th>\n      <th></th>\n      <th></th>\n      <th></th>\n      <th></th>\n      <th></th>\n      <th></th>\n      <th></th>\n      <th></th>\n    </tr>\n  </thead>\n  <tbody>\n    <tr>\n      <th>Baking Goods</th>\n      <td>FDP36</td>\n      <td>10.395</td>\n      <td>Regular</td>\n      <td>0.000000</td>\n      <td>51.4008</td>\n      <td>OUT018</td>\n      <td>2009</td>\n      <td>Medium</td>\n      <td>Tier 3</td>\n      <td>Supermarket Type2</td>\n      <td>556.6088</td>\n    </tr>\n    <tr>\n      <th>Breads</th>\n      <td>FDO23</td>\n      <td>17.850</td>\n      <td>Low Fat</td>\n      <td>0.000000</td>\n      <td>93.1436</td>\n      <td>OUT045</td>\n      <td>2002</td>\n      <td>Medium</td>\n      <td>Tier 2</td>\n      <td>Supermarket Type1</td>\n      <td>2174.5028</td>\n    </tr>\n    <tr>\n      <th>Breakfast</th>\n      <td>FDP49</td>\n      <td>9.000</td>\n      <td>Regular</td>\n      <td>0.069089</td>\n      <td>56.3614</td>\n      <td>OUT046</td>\n      <td>1997</td>\n      <td>Small</td>\n      <td>Tier 1</td>\n      <td>Supermarket Type1</td>\n      <td>1547.3192</td>\n    </tr>\n    <tr>\n      <th>Canned</th>\n      <td>FDC14</td>\n      <td>21.350</td>\n      <td>Regular</td>\n      <td>0.072222</td>\n      <td>43.6454</td>\n      <td>OUT019</td>\n      <td>1985</td>\n      <td>Small</td>\n      <td>Tier 1</td>\n      <td>Grocery Store</td>\n      <td>125.8362</td>\n    </tr>\n    <tr>\n      <th>Dairy</th>\n      <td>FDA15</td>\n      <td>9.300</td>\n      <td>Low Fat</td>\n      <td>0.016047</td>\n      <td>249.8092</td>\n      <td>OUT049</td>\n      <td>1999</td>\n      <td>Medium</td>\n      <td>Tier 1</td>\n      <td>Supermarket Type1</td>\n      <td>3735.1380</td>\n    </tr>\n    <tr>\n      <th>Frozen Foods</th>\n      <td>FDH17</td>\n      <td>16.200</td>\n      <td>Regular</td>\n      <td>0.016687</td>\n      <td>96.9726</td>\n      <td>OUT045</td>\n      <td>2002</td>\n      <td>Small</td>\n      <td>Tier 2</td>\n      <td>Supermarket Type1</td>\n      <td>1076.5986</td>\n    </tr>\n    <tr>\n      <th>Fruits and Vegetables</th>\n      <td>FDX07</td>\n      <td>19.200</td>\n      <td>Regular</td>\n      <td>0.000000</td>\n      <td>182.0950</td>\n      <td>OUT010</td>\n      <td>1998</td>\n      <td>Medium</td>\n      <td>Tier 3</td>\n      <td>Grocery Store</td>\n      <td>732.3800</td>\n    </tr>\n    <tr>\n      <th>Hard Drinks</th>\n      <td>DRI11</td>\n      <td>11.650</td>\n      <td>Low Fat</td>\n      <td>0.034238</td>\n      <td>113.2834</td>\n      <td>OUT027</td>\n      <td>1985</td>\n      <td>Medium</td>\n      <td>Tier 3</td>\n      <td>Supermarket Type3</td>\n      <td>2303.6680</td>\n    </tr>\n    <tr>\n      <th>Health and Hygiene</th>\n      <td>NCB42</td>\n      <td>11.800</td>\n      <td>Low Fat</td>\n      <td>0.008596</td>\n      <td>115.3492</td>\n      <td>OUT018</td>\n      <td>2009</td>\n      <td>Medium</td>\n      <td>Tier 3</td>\n      <td>Supermarket Type2</td>\n      <td>1621.8888</td>\n    </tr>\n    <tr>\n      <th>Household</th>\n      <td>NCD19</td>\n      <td>8.930</td>\n      <td>Low Fat</td>\n      <td>0.000000</td>\n      <td>53.8614</td>\n      <td>OUT013</td>\n      <td>1987</td>\n      <td>High</td>\n      <td>Tier 3</td>\n      <td>Supermarket Type1</td>\n      <td>994.7052</td>\n    </tr>\n    <tr>\n      <th>Meat</th>\n      <td>FDN15</td>\n      <td>17.500</td>\n      <td>Low Fat</td>\n      <td>0.016760</td>\n      <td>141.6180</td>\n      <td>OUT049</td>\n      <td>1999</td>\n      <td>Medium</td>\n      <td>Tier 1</td>\n      <td>Supermarket Type1</td>\n      <td>2097.2700</td>\n    </tr>\n    <tr>\n      <th>Others</th>\n      <td>NCN07</td>\n      <td>18.500</td>\n      <td>Low Fat</td>\n      <td>0.056816</td>\n      <td>132.1284</td>\n      <td>OUT010</td>\n      <td>1998</td>\n      <td>Small</td>\n      <td>Tier 3</td>\n      <td>Grocery Store</td>\n      <td>263.6568</td>\n    </tr>\n    <tr>\n      <th>Seafood</th>\n      <td>FDG33</td>\n      <td>10.395</td>\n      <td>Regular</td>\n      <td>0.139561</td>\n      <td>170.4764</td>\n      <td>OUT027</td>\n      <td>1985</td>\n      <td>Medium</td>\n      <td>Tier 3</td>\n      <td>Supermarket Type3</td>\n      <td>3435.5280</td>\n    </tr>\n    <tr>\n      <th>Snack Foods</th>\n      <td>FDO10</td>\n      <td>13.650</td>\n      <td>Regular</td>\n      <td>0.012741</td>\n      <td>57.6588</td>\n      <td>OUT013</td>\n      <td>1987</td>\n      <td>High</td>\n      <td>Tier 3</td>\n      <td>Supermarket Type1</td>\n      <td>343.5528</td>\n    </tr>\n    <tr>\n      <th>Soft Drinks</th>\n      <td>DRC01</td>\n      <td>5.920</td>\n      <td>Regular</td>\n      <td>0.019278</td>\n      <td>48.2692</td>\n      <td>OUT018</td>\n      <td>2009</td>\n      <td>Medium</td>\n      <td>Tier 3</td>\n      <td>Supermarket Type2</td>\n      <td>443.4228</td>\n    </tr>\n    <tr>\n      <th>Starchy Foods</th>\n      <td>FDH35</td>\n      <td>18.250</td>\n      <td>Low Fat</td>\n      <td>0.000000</td>\n      <td>164.7526</td>\n      <td>OUT045</td>\n      <td>2002</td>\n      <td>Medium</td>\n      <td>Tier 2</td>\n      <td>Supermarket Type1</td>\n      <td>4604.6728</td>\n    </tr>\n  </tbody>\n</table>\n</div>"
          },
          "metadata": {},
          "execution_count": 87
        }
      ],
      "source": [
        "storage = data.groupby('Item_Type')\n",
        "storage.first()\n",
        "#data['Item_Type'].unique()"
      ]
    },
    {
      "cell_type": "code",
      "metadata": {
        "id": "d0vKVHWPkWEn",
        "outputId": "6e3b8e26-7bea-41f3-b1e0-cc56b7b46621",
        "colab": {
          "base_uri": "https://localhost:8080/",
          "height": 1000
        }
      },
      "source": [
        "print(\"Apply method:\\n\")\n",
        "print(data.apply(lambda x: x[0])) # We are using the apply method to access to the 1st row of the dataset, Remember by deafult the apply method takes axis=0\n",
        "print(\"\\n\")\n",
        "\n",
        "print(\"traditional method:\\n\")\n",
        "print(data.iloc[0])\n",
        "\n",
        "\n",
        "print(\"Apply method:\\n\")\n",
        "print(data.apply(lambda x: x[0], axis=1)) # here we are using teh apply method to access to the 1st column using index and mentioning the axis=1\n",
        "print(\"traditional method:\\n\")\n",
        "print(data.iloc[:,0]) \n",
        "print(data.iloc[::-1])      # [:] indicates all values"
      ],
      "execution_count": 65,
      "outputs": [
        {
          "output_type": "stream",
          "name": "stdout",
          "text": [
            "Apply method:\n\nItem_Identifier                          FDA15\nItem_Weight                                9.3\nItem_Fat_Content                       Low Fat\nItem_Visibility                      0.0160473\nItem_Type                                Dairy\nItem_MRP                               249.809\nOutlet_Identifier                       OUT049\nOutlet_Establishment_Year                 1999\nOutlet_Size                             Medium\nOutlet_Location_Type                    Tier 1\nOutlet_Type                  Supermarket Type1\nItem_Outlet_Sales                      3735.14\ndtype: object\n\n\ntraditional method:\n\nItem_Identifier                          FDA15\nItem_Weight                                9.3\nItem_Fat_Content                       Low Fat\nItem_Visibility                      0.0160473\nItem_Type                                Dairy\nItem_MRP                               249.809\nOutlet_Identifier                       OUT049\nOutlet_Establishment_Year                 1999\nOutlet_Size                             Medium\nOutlet_Location_Type                    Tier 1\nOutlet_Type                  Supermarket Type1\nItem_Outlet_Sales                      3735.14\nName: 0, dtype: object\nApply method:\n\n0       FDA15\n1       DRC01\n2       FDN15\n3       FDX07\n4       NCD19\n        ...  \n8518    FDF22\n8519    FDS36\n8520    NCJ29\n8521    FDN46\n8522    DRG01\nLength: 8523, dtype: object\ntraditional method:\n\n0       FDA15\n1       DRC01\n2       FDN15\n3       FDX07\n4       NCD19\n        ...  \n8518    FDF22\n8519    FDS36\n8520    NCJ29\n8521    FDN46\n8522    DRG01\nName: Item_Identifier, Length: 8523, dtype: object\n     Item_Identifier  Item_Weight Item_Fat_Content  Item_Visibility  \\\n8522           DRG01       14.800          Low Fat         0.044878   \n8521           FDN46        7.210          Regular         0.145221   \n8520           NCJ29       10.600          Low Fat         0.035186   \n8519           FDS36        8.380          Regular         0.046982   \n8518           FDF22        6.865          Low Fat         0.056783   \n...              ...          ...              ...              ...   \n4              NCD19        8.930          Low Fat         0.000000   \n3              FDX07       19.200          Regular         0.000000   \n2              FDN15       17.500          Low Fat         0.016760   \n1              DRC01        5.920          Regular         0.019278   \n0              FDA15        9.300          Low Fat         0.016047   \n\n                  Item_Type  Item_MRP Outlet_Identifier  \\\n8522            Soft Drinks   75.4670            OUT046   \n8521            Snack Foods  103.1332            OUT018   \n8520     Health and Hygiene   85.1224            OUT035   \n8519           Baking Goods  108.1570            OUT045   \n8518            Snack Foods  214.5218            OUT013   \n...                     ...       ...               ...   \n4                 Household   53.8614            OUT013   \n3     Fruits and Vegetables  182.0950            OUT010   \n2                      Meat  141.6180            OUT049   \n1               Soft Drinks   48.2692            OUT018   \n0                     Dairy  249.8092            OUT049   \n\n      Outlet_Establishment_Year Outlet_Size Outlet_Location_Type  \\\n8522                       1997       Small               Tier 1   \n8521                       2009      Medium               Tier 3   \n8520                       2004       Small               Tier 2   \n8519                       2002         NaN               Tier 2   \n8518                       1987        High               Tier 3   \n...                         ...         ...                  ...   \n4                          1987        High               Tier 3   \n3                          1998         NaN               Tier 3   \n2                          1999      Medium               Tier 1   \n1                          2009      Medium               Tier 3   \n0                          1999      Medium               Tier 1   \n\n            Outlet_Type  Item_Outlet_Sales  \n8522  Supermarket Type1           765.6700  \n8521  Supermarket Type2          1845.5976  \n8520  Supermarket Type1          1193.1136  \n8519  Supermarket Type1           549.2850  \n8518  Supermarket Type1          2778.3834  \n...                 ...                ...  \n4     Supermarket Type1           994.7052  \n3         Grocery Store           732.3800  \n2     Supermarket Type1          2097.2700  \n1     Supermarket Type2           443.4228  \n0     Supermarket Type1          3735.1380  \n\n[8523 rows x 12 columns]\n"
          ]
        }
      ]
    },
    {
      "cell_type": "code",
      "metadata": {
        "id": "Vc0XPjQxlYxb",
        "outputId": "5f4d9204-8d2d-405f-bdda-896174019dda",
        "colab": {
          "base_uri": "https://localhost:8080/",
          "height": 218
        }
      },
      "source": [
        "print(data.apply(lambda x: x['Item_Type'], axis = 1))   # Here we are accessing the column using column name by using a apply method.\n",
        "print()\n",
        "print(data['Item_Type'])"
      ],
      "execution_count": 66,
      "outputs": [
        {
          "output_type": "stream",
          "name": "stdout",
          "text": [
            "0                       Dairy\n1                 Soft Drinks\n2                        Meat\n3       Fruits and Vegetables\n4                   Household\n                ...          \n8518              Snack Foods\n8519             Baking Goods\n8520       Health and Hygiene\n8521              Snack Foods\n8522              Soft Drinks\nLength: 8523, dtype: object\n\n0                       Dairy\n1                 Soft Drinks\n2                        Meat\n3       Fruits and Vegetables\n4                   Household\n                ...          \n8518              Snack Foods\n8519             Baking Goods\n8520       Health and Hygiene\n8521              Snack Foods\n8522              Soft Drinks\nName: Item_Type, Length: 8523, dtype: object\n"
          ]
        }
      ]
    },
    {
      "cell_type": "code",
      "metadata": {
        "id": "765f3KsHnsnr",
        "outputId": "6664f0e4-22e3-4558-93eb-5b4068c817ea",
        "colab": {
          "base_uri": "https://localhost:8080/",
          "height": 590
        }
      },
      "source": [
        "data.apply(lambda x: x)\n",
        "time.time()\n",
        "time.localtime()\n",
        "time.asctime()\n",
        "print(calendar.calendar(2020))"
      ],
      "execution_count": 67,
      "outputs": [
        {
          "output_type": "stream",
          "name": "stdout",
          "text": [
            "                                  2020\n\n      January                   February                   March\nMo Tu We Th Fr Sa Su      Mo Tu We Th Fr Sa Su      Mo Tu We Th Fr Sa Su\n       1  2  3  4  5                      1  2                         1\n 6  7  8  9 10 11 12       3  4  5  6  7  8  9       2  3  4  5  6  7  8\n13 14 15 16 17 18 19      10 11 12 13 14 15 16       9 10 11 12 13 14 15\n20 21 22 23 24 25 26      17 18 19 20 21 22 23      16 17 18 19 20 21 22\n27 28 29 30 31            24 25 26 27 28 29         23 24 25 26 27 28 29\n                                                    30 31\n\n       April                      May                       June\nMo Tu We Th Fr Sa Su      Mo Tu We Th Fr Sa Su      Mo Tu We Th Fr Sa Su\n       1  2  3  4  5                   1  2  3       1  2  3  4  5  6  7\n 6  7  8  9 10 11 12       4  5  6  7  8  9 10       8  9 10 11 12 13 14\n13 14 15 16 17 18 19      11 12 13 14 15 16 17      15 16 17 18 19 20 21\n20 21 22 23 24 25 26      18 19 20 21 22 23 24      22 23 24 25 26 27 28\n27 28 29 30               25 26 27 28 29 30 31      29 30\n\n        July                     August                  September\nMo Tu We Th Fr Sa Su      Mo Tu We Th Fr Sa Su      Mo Tu We Th Fr Sa Su\n       1  2  3  4  5                      1  2          1  2  3  4  5  6\n 6  7  8  9 10 11 12       3  4  5  6  7  8  9       7  8  9 10 11 12 13\n13 14 15 16 17 18 19      10 11 12 13 14 15 16      14 15 16 17 18 19 20\n20 21 22 23 24 25 26      17 18 19 20 21 22 23      21 22 23 24 25 26 27\n27 28 29 30 31            24 25 26 27 28 29 30      28 29 30\n                          31\n\n      October                   November                  December\nMo Tu We Th Fr Sa Su      Mo Tu We Th Fr Sa Su      Mo Tu We Th Fr Sa Su\n          1  2  3  4                         1          1  2  3  4  5  6\n 5  6  7  8  9 10 11       2  3  4  5  6  7  8       7  8  9 10 11 12 13\n12 13 14 15 16 17 18       9 10 11 12 13 14 15      14 15 16 17 18 19 20\n19 20 21 22 23 24 25      16 17 18 19 20 21 22      21 22 23 24 25 26 27\n26 27 28 29 30 31         23 24 25 26 27 28 29      28 29 30 31\n                          30\n\n"
          ]
        }
      ]
    },
    {
      "cell_type": "code",
      "metadata": {
        "id": "DiheOUo9oH3t",
        "outputId": "e13ae742-c6a0-4865-a85b-970e8504b232",
        "colab": {
          "base_uri": "https://localhost:8080/",
          "height": 235
        },
        "tags": []
      },
      "source": [
        "# In apply() even conditions can be added to the dataset as it can iterate through all observations in the DataFrame\n",
        "print(\"before clipping\\n\",data['Item_MRP'][:5])\n",
        "print()\n",
        "def clip(price):\n",
        "  if price>200:\n",
        "    price=200\n",
        "  return price\n",
        "\n",
        "#print( clip(249))\n",
        "print(data['Item_MRP'].apply(lambda x: clip(x))[:5])"
      ],
      "execution_count": 68,
      "outputs": [
        {
          "output_type": "stream",
          "name": "stdout",
          "text": [
            "before clipping\n 0    249.8092\n1     48.2692\n2    141.6180\n3    182.0950\n4     53.8614\nName: Item_MRP, dtype: float64\n\n0    200.0000\n1     48.2692\n2    141.6180\n3    182.0950\n4     53.8614\nName: Item_MRP, dtype: float64\n"
          ]
        }
      ]
    },
    {
      "cell_type": "code",
      "execution_count": 33,
      "metadata": {},
      "outputs": [],
      "source": [
        "def clip(price):\n",
        "  if price>200:\n",
        "    price=200\n",
        "  return price"
      ]
    },
    {
      "cell_type": "code",
      "execution_count": 75,
      "metadata": {},
      "outputs": [
        {
          "output_type": "execute_result",
          "data": {
            "text/plain": [
              "     Item_Identifier  Item_Weight Item_Fat_Content  Item_Visibility  \\\n",
              "0              FDA15        9.300          Low Fat         0.016047   \n",
              "19             FDU02       13.350          Low Fat         0.102492   \n",
              "20             FDN22       18.850          Regular         0.138190   \n",
              "32             FDP33       18.700          Low Fat         0.000000   \n",
              "40             FDU02       13.350          Low Fat         0.102512   \n",
              "...              ...          ...              ...              ...   \n",
              "8506           DRF37       17.250          Low Fat         0.084676   \n",
              "8509           FDG45        8.100          Low Fat         0.214306   \n",
              "8510           FDN58       13.800          Regular         0.056862   \n",
              "8511           FDF05       17.500          Low Fat         0.026980   \n",
              "8518           FDF22        6.865          Low Fat         0.056783   \n",
              "\n",
              "                  Item_Type  Item_MRP Outlet_Identifier  \\\n",
              "0                     Dairy     200.0            OUT049   \n",
              "19                    Dairy     200.0            OUT035   \n",
              "20              Snack Foods     200.0            OUT013   \n",
              "32              Snack Foods     200.0            OUT018   \n",
              "40                    Dairy     200.0            OUT046   \n",
              "...                     ...       ...               ...   \n",
              "8506            Soft Drinks     200.0            OUT018   \n",
              "8509  Fruits and Vegetables     200.0            OUT010   \n",
              "8510            Snack Foods     200.0            OUT035   \n",
              "8511           Frozen Foods     200.0            OUT018   \n",
              "8518            Snack Foods     200.0            OUT013   \n",
              "\n",
              "      Outlet_Establishment_Year Outlet_Size Outlet_Location_Type  \\\n",
              "0                          1999      Medium               Tier 1   \n",
              "19                         2004       Small               Tier 2   \n",
              "20                         1987        High               Tier 3   \n",
              "32                         2009      Medium               Tier 3   \n",
              "40                         1997       Small               Tier 1   \n",
              "...                         ...         ...                  ...   \n",
              "8506                       2009      Medium               Tier 3   \n",
              "8509                       1998         NaN               Tier 3   \n",
              "8510                       2004       Small               Tier 2   \n",
              "8511                       2009      Medium               Tier 3   \n",
              "8518                       1987        High               Tier 3   \n",
              "\n",
              "            Outlet_Type  Item_Outlet_Sales  \n",
              "0     Supermarket Type1          3735.1380  \n",
              "19    Supermarket Type1          2748.4224  \n",
              "20    Supermarket Type1          3775.0860  \n",
              "32    Supermarket Type2          3068.0064  \n",
              "40    Supermarket Type1          3435.5280  \n",
              "...                 ...                ...  \n",
              "8506  Supermarket Type2          3944.8650  \n",
              "8509      Grocery Store           424.7804  \n",
              "8510  Supermarket Type1          7182.6504  \n",
              "8511  Supermarket Type2          4207.8560  \n",
              "8518  Supermarket Type1          2778.3834  \n",
              "\n",
              "[1440 rows x 12 columns]"
            ],
            "text/html": "<div>\n<style scoped>\n    .dataframe tbody tr th:only-of-type {\n        vertical-align: middle;\n    }\n\n    .dataframe tbody tr th {\n        vertical-align: top;\n    }\n\n    .dataframe thead th {\n        text-align: right;\n    }\n</style>\n<table border=\"1\" class=\"dataframe\">\n  <thead>\n    <tr style=\"text-align: right;\">\n      <th></th>\n      <th>Item_Identifier</th>\n      <th>Item_Weight</th>\n      <th>Item_Fat_Content</th>\n      <th>Item_Visibility</th>\n      <th>Item_Type</th>\n      <th>Item_MRP</th>\n      <th>Outlet_Identifier</th>\n      <th>Outlet_Establishment_Year</th>\n      <th>Outlet_Size</th>\n      <th>Outlet_Location_Type</th>\n      <th>Outlet_Type</th>\n      <th>Item_Outlet_Sales</th>\n    </tr>\n  </thead>\n  <tbody>\n    <tr>\n      <th>0</th>\n      <td>FDA15</td>\n      <td>9.300</td>\n      <td>Low Fat</td>\n      <td>0.016047</td>\n      <td>Dairy</td>\n      <td>200.0</td>\n      <td>OUT049</td>\n      <td>1999</td>\n      <td>Medium</td>\n      <td>Tier 1</td>\n      <td>Supermarket Type1</td>\n      <td>3735.1380</td>\n    </tr>\n    <tr>\n      <th>19</th>\n      <td>FDU02</td>\n      <td>13.350</td>\n      <td>Low Fat</td>\n      <td>0.102492</td>\n      <td>Dairy</td>\n      <td>200.0</td>\n      <td>OUT035</td>\n      <td>2004</td>\n      <td>Small</td>\n      <td>Tier 2</td>\n      <td>Supermarket Type1</td>\n      <td>2748.4224</td>\n    </tr>\n    <tr>\n      <th>20</th>\n      <td>FDN22</td>\n      <td>18.850</td>\n      <td>Regular</td>\n      <td>0.138190</td>\n      <td>Snack Foods</td>\n      <td>200.0</td>\n      <td>OUT013</td>\n      <td>1987</td>\n      <td>High</td>\n      <td>Tier 3</td>\n      <td>Supermarket Type1</td>\n      <td>3775.0860</td>\n    </tr>\n    <tr>\n      <th>32</th>\n      <td>FDP33</td>\n      <td>18.700</td>\n      <td>Low Fat</td>\n      <td>0.000000</td>\n      <td>Snack Foods</td>\n      <td>200.0</td>\n      <td>OUT018</td>\n      <td>2009</td>\n      <td>Medium</td>\n      <td>Tier 3</td>\n      <td>Supermarket Type2</td>\n      <td>3068.0064</td>\n    </tr>\n    <tr>\n      <th>40</th>\n      <td>FDU02</td>\n      <td>13.350</td>\n      <td>Low Fat</td>\n      <td>0.102512</td>\n      <td>Dairy</td>\n      <td>200.0</td>\n      <td>OUT046</td>\n      <td>1997</td>\n      <td>Small</td>\n      <td>Tier 1</td>\n      <td>Supermarket Type1</td>\n      <td>3435.5280</td>\n    </tr>\n    <tr>\n      <th>...</th>\n      <td>...</td>\n      <td>...</td>\n      <td>...</td>\n      <td>...</td>\n      <td>...</td>\n      <td>...</td>\n      <td>...</td>\n      <td>...</td>\n      <td>...</td>\n      <td>...</td>\n      <td>...</td>\n      <td>...</td>\n    </tr>\n    <tr>\n      <th>8506</th>\n      <td>DRF37</td>\n      <td>17.250</td>\n      <td>Low Fat</td>\n      <td>0.084676</td>\n      <td>Soft Drinks</td>\n      <td>200.0</td>\n      <td>OUT018</td>\n      <td>2009</td>\n      <td>Medium</td>\n      <td>Tier 3</td>\n      <td>Supermarket Type2</td>\n      <td>3944.8650</td>\n    </tr>\n    <tr>\n      <th>8509</th>\n      <td>FDG45</td>\n      <td>8.100</td>\n      <td>Low Fat</td>\n      <td>0.214306</td>\n      <td>Fruits and Vegetables</td>\n      <td>200.0</td>\n      <td>OUT010</td>\n      <td>1998</td>\n      <td>NaN</td>\n      <td>Tier 3</td>\n      <td>Grocery Store</td>\n      <td>424.7804</td>\n    </tr>\n    <tr>\n      <th>8510</th>\n      <td>FDN58</td>\n      <td>13.800</td>\n      <td>Regular</td>\n      <td>0.056862</td>\n      <td>Snack Foods</td>\n      <td>200.0</td>\n      <td>OUT035</td>\n      <td>2004</td>\n      <td>Small</td>\n      <td>Tier 2</td>\n      <td>Supermarket Type1</td>\n      <td>7182.6504</td>\n    </tr>\n    <tr>\n      <th>8511</th>\n      <td>FDF05</td>\n      <td>17.500</td>\n      <td>Low Fat</td>\n      <td>0.026980</td>\n      <td>Frozen Foods</td>\n      <td>200.0</td>\n      <td>OUT018</td>\n      <td>2009</td>\n      <td>Medium</td>\n      <td>Tier 3</td>\n      <td>Supermarket Type2</td>\n      <td>4207.8560</td>\n    </tr>\n    <tr>\n      <th>8518</th>\n      <td>FDF22</td>\n      <td>6.865</td>\n      <td>Low Fat</td>\n      <td>0.056783</td>\n      <td>Snack Foods</td>\n      <td>200.0</td>\n      <td>OUT013</td>\n      <td>1987</td>\n      <td>High</td>\n      <td>Tier 3</td>\n      <td>Supermarket Type1</td>\n      <td>2778.3834</td>\n    </tr>\n  </tbody>\n</table>\n<p>1440 rows × 12 columns</p>\n</div>"
          },
          "metadata": {},
          "execution_count": 75
        }
      ],
      "source": [
        "for i in data.index:\n",
        "    if (data['Item_MRP'].iloc[i]) > 200:\n",
        "        data['Item_MRP'].iloc[i]=200\n",
        "data.query('Item_MRP == 200')"
      ]
    },
    {
      "cell_type": "code",
      "metadata": {
        "id": "CwL-7eMRp0EK",
        "outputId": "20e1de80-8da3-4733-93a1-d7d0d691822b",
        "colab": {
          "base_uri": "https://localhost:8080/",
          "height": 235
        }
      },
      "source": [
        "# Labeling the values of the categorical data can be done in apply()\n",
        "print(data['Outlet_Location_Type'].unique())\n",
        "def labeling(city):\n",
        "  if city == 'Tier 1':     # we have labelled tier 1 as 0\n",
        "    label =  0\n",
        "  elif city== 'Tier 2':   # we have labelled tier 2 as 1\n",
        "    label = 1\n",
        "  else:                   # we have labelled tier 3 as 2\n",
        "    label = 2\n",
        "  return label\n",
        "\n",
        "print(data['Outlet_Location_Type'].apply(lambda x: labeling(x)))"
      ],
      "execution_count": 76,
      "outputs": [
        {
          "output_type": "stream",
          "name": "stdout",
          "text": [
            "['Tier 1' 'Tier 3' 'Tier 2']\n0       0\n1       2\n2       0\n3       2\n4       2\n       ..\n8518    2\n8519    1\n8520    1\n8521    2\n8522    0\nName: Outlet_Location_Type, Length: 8523, dtype: int64\n"
          ]
        }
      ]
    },
    {
      "source": [
        "1. df.apply(lambda x: x [ 0 ]) ---> 1st row od dataframe\n",
        "\n",
        "2. df.apply(lambda x: x [0], axis= 1) -----> 1st column of dataframe\n",
        "\n",
        "3. df.apply(lambda x: x['Column_name'], axis=1)\n",
        "\n",
        "4. df.apply(lambda x: function(x))"
      ],
      "cell_type": "markdown",
      "metadata": {}
    },
    {
      "cell_type": "code",
      "metadata": {
        "id": "9LLXF4UwuEKw",
        "outputId": "751cc82d-0022-4cc9-e81d-68907d5031cd",
        "colab": {
          "base_uri": "https://localhost:8080/",
          "height": 34
        }
      },
      "source": [
        "print(data['Outlet_Size'].unique())"
      ],
      "execution_count": 9,
      "outputs": [
        {
          "output_type": "stream",
          "name": "stdout",
          "text": [
            "['Medium' nan 'High' 'Small']\n"
          ]
        }
      ]
    },
    {
      "cell_type": "code",
      "metadata": {
        "id": "hoXl8SnWwQHT",
        "outputId": "b1f1af1c-b1c4-4567-da75-91bf55db2e14",
        "colab": {
          "base_uri": "https://localhost:8080/",
          "height": 454
        }
      },
      "source": [
        "# Labelling Outlet_Size column\n",
        "print(data['Outlet_Size'].unique())\n",
        "def label_Outlet_Size(size):\n",
        "  if size== 'Small':\n",
        "    label=0\n",
        "  elif size== 'Medium':\n",
        "    label=2\n",
        "  elif size== 'High':\n",
        "    label=3\n",
        "  else:\n",
        "    label=size\n",
        "  return label\n",
        "\n",
        "labelled_osize=data['Outlet_Size'].apply(lambda x: label_Outlet_Size(x))\n",
        "print(labelled_osize)\n",
        "labelled_osize.isna().sum()\n",
        "mean_osize= labelled_osize.mean()\n",
        "print(\"Mean:\", mean_osize)\n",
        "labelled_osize.fillna(mean_osize, inplace= True)\n",
        "print(labelled_osize)"
      ],
      "execution_count": 10,
      "outputs": [
        {
          "output_type": "stream",
          "name": "stdout",
          "text": [
            "['Medium' nan 'High' 'Small']\n0       2.0\n1       2.0\n2       2.0\n3       NaN\n4       3.0\n       ... \n8518    3.0\n8519    NaN\n8520    0.0\n8521    2.0\n8522    0.0\nName: Outlet_Size, Length: 8523, dtype: float64\nMean: 1.3711761819074104\n0       2.000000\n1       2.000000\n2       2.000000\n3       1.371176\n4       3.000000\n          ...   \n8518    3.000000\n8519    1.371176\n8520    0.000000\n8521    2.000000\n8522    0.000000\nName: Outlet_Size, Length: 8523, dtype: float64\n"
          ]
        }
      ]
    },
    {
      "cell_type": "code",
      "execution_count": 83,
      "metadata": {},
      "outputs": [
        {
          "output_type": "execute_result",
          "data": {
            "text/plain": [
              "  Item_Identifier  Item_Weight Item_Fat_Content  Item_Visibility  \\\n",
              "0           FDA15         9.30          Low Fat         0.016047   \n",
              "1           DRC01         5.92          Regular         0.019278   \n",
              "2           FDN15        17.50          Low Fat         0.016760   \n",
              "3           FDX07        19.20          Regular         0.000000   \n",
              "4           NCD19         8.93          Low Fat         0.000000   \n",
              "\n",
              "               Item_Type  Item_MRP Outlet_Identifier  \\\n",
              "0                  Dairy  249.8092            OUT049   \n",
              "1            Soft Drinks   48.2692            OUT018   \n",
              "2                   Meat  141.6180            OUT049   \n",
              "3  Fruits and Vegetables  182.0950            OUT010   \n",
              "4              Household   53.8614            OUT013   \n",
              "\n",
              "   Outlet_Establishment_Year Outlet_Size Outlet_Location_Type  \\\n",
              "0                       1999      Medium               Tier 1   \n",
              "1                       2009      Medium               Tier 3   \n",
              "2                       1999      Medium               Tier 1   \n",
              "3                       1998      Medium               Tier 3   \n",
              "4                       1987        High               Tier 3   \n",
              "\n",
              "         Outlet_Type  Item_Outlet_Sales  \n",
              "0  Supermarket Type1          3735.1380  \n",
              "1  Supermarket Type2           443.4228  \n",
              "2  Supermarket Type1          2097.2700  \n",
              "3      Grocery Store           732.3800  \n",
              "4  Supermarket Type1           994.7052  "
            ],
            "text/html": "<div>\n<style scoped>\n    .dataframe tbody tr th:only-of-type {\n        vertical-align: middle;\n    }\n\n    .dataframe tbody tr th {\n        vertical-align: top;\n    }\n\n    .dataframe thead th {\n        text-align: right;\n    }\n</style>\n<table border=\"1\" class=\"dataframe\">\n  <thead>\n    <tr style=\"text-align: right;\">\n      <th></th>\n      <th>Item_Identifier</th>\n      <th>Item_Weight</th>\n      <th>Item_Fat_Content</th>\n      <th>Item_Visibility</th>\n      <th>Item_Type</th>\n      <th>Item_MRP</th>\n      <th>Outlet_Identifier</th>\n      <th>Outlet_Establishment_Year</th>\n      <th>Outlet_Size</th>\n      <th>Outlet_Location_Type</th>\n      <th>Outlet_Type</th>\n      <th>Item_Outlet_Sales</th>\n    </tr>\n  </thead>\n  <tbody>\n    <tr>\n      <th>0</th>\n      <td>FDA15</td>\n      <td>9.30</td>\n      <td>Low Fat</td>\n      <td>0.016047</td>\n      <td>Dairy</td>\n      <td>249.8092</td>\n      <td>OUT049</td>\n      <td>1999</td>\n      <td>Medium</td>\n      <td>Tier 1</td>\n      <td>Supermarket Type1</td>\n      <td>3735.1380</td>\n    </tr>\n    <tr>\n      <th>1</th>\n      <td>DRC01</td>\n      <td>5.92</td>\n      <td>Regular</td>\n      <td>0.019278</td>\n      <td>Soft Drinks</td>\n      <td>48.2692</td>\n      <td>OUT018</td>\n      <td>2009</td>\n      <td>Medium</td>\n      <td>Tier 3</td>\n      <td>Supermarket Type2</td>\n      <td>443.4228</td>\n    </tr>\n    <tr>\n      <th>2</th>\n      <td>FDN15</td>\n      <td>17.50</td>\n      <td>Low Fat</td>\n      <td>0.016760</td>\n      <td>Meat</td>\n      <td>141.6180</td>\n      <td>OUT049</td>\n      <td>1999</td>\n      <td>Medium</td>\n      <td>Tier 1</td>\n      <td>Supermarket Type1</td>\n      <td>2097.2700</td>\n    </tr>\n    <tr>\n      <th>3</th>\n      <td>FDX07</td>\n      <td>19.20</td>\n      <td>Regular</td>\n      <td>0.000000</td>\n      <td>Fruits and Vegetables</td>\n      <td>182.0950</td>\n      <td>OUT010</td>\n      <td>1998</td>\n      <td>Medium</td>\n      <td>Tier 3</td>\n      <td>Grocery Store</td>\n      <td>732.3800</td>\n    </tr>\n    <tr>\n      <th>4</th>\n      <td>NCD19</td>\n      <td>8.93</td>\n      <td>Low Fat</td>\n      <td>0.000000</td>\n      <td>Household</td>\n      <td>53.8614</td>\n      <td>OUT013</td>\n      <td>1987</td>\n      <td>High</td>\n      <td>Tier 3</td>\n      <td>Supermarket Type1</td>\n      <td>994.7052</td>\n    </tr>\n  </tbody>\n</table>\n</div>"
          },
          "metadata": {},
          "execution_count": 83
        }
      ],
      "source": [
        "df.head()"
      ]
    },
    {
      "cell_type": "code",
      "execution_count": 179,
      "metadata": {},
      "outputs": [
        {
          "output_type": "execute_result",
          "data": {
            "text/plain": [
              "               Item_Type\n",
              "0                  Dairy\n",
              "1            Soft Drinks\n",
              "2                   Meat\n",
              "3  Fruits and Vegetables\n",
              "4              Household"
            ],
            "text/html": "<div>\n<style scoped>\n    .dataframe tbody tr th:only-of-type {\n        vertical-align: middle;\n    }\n\n    .dataframe tbody tr th {\n        vertical-align: top;\n    }\n\n    .dataframe thead th {\n        text-align: right;\n    }\n</style>\n<table border=\"1\" class=\"dataframe\">\n  <thead>\n    <tr style=\"text-align: right;\">\n      <th></th>\n      <th>Item_Type</th>\n    </tr>\n  </thead>\n  <tbody>\n    <tr>\n      <th>0</th>\n      <td>Dairy</td>\n    </tr>\n    <tr>\n      <th>1</th>\n      <td>Soft Drinks</td>\n    </tr>\n    <tr>\n      <th>2</th>\n      <td>Meat</td>\n    </tr>\n    <tr>\n      <th>3</th>\n      <td>Fruits and Vegetables</td>\n    </tr>\n    <tr>\n      <th>4</th>\n      <td>Household</td>\n    </tr>\n  </tbody>\n</table>\n</div>"
          },
          "metadata": {},
          "execution_count": 179
        }
      ],
      "source": [
        "df.query('5 < Item_Weight < 9.30').head()\n",
        "var= pd.DataFrame(df['Item_Type'])\n",
        "var.head()"
      ]
    },
    {
      "source": [
        "AGGREGATION OF DATA USING PANDAS"
      ],
      "cell_type": "markdown",
      "metadata": {}
    },
    {
      "cell_type": "code",
      "execution_count": 22,
      "metadata": {},
      "outputs": [],
      "source": [
        "import pandas as pd \n",
        "import numpy as np"
      ]
    },
    {
      "cell_type": "code",
      "execution_count": 42,
      "metadata": {},
      "outputs": [
        {
          "output_type": "execute_result",
          "data": {
            "text/plain": [
              "   Item_Identifier  Item_Weight Item_Fat_Content  Item_Visibility  \\\n",
              "0            FDW58       20.750          Low Fat         0.007565   \n",
              "5            FDH56        9.800          Regular         0.063817   \n",
              "6            FDL48       19.350          Regular         0.082602   \n",
              "13           FDU11        4.785          Low Fat         0.092738   \n",
              "14           DRL59       16.750               LF         0.021206   \n",
              "\n",
              "                Item_Type  Item_MRP Outlet_Identifier  \\\n",
              "0             Snack Foods  107.8622            OUT049   \n",
              "5   Fruits and Vegetables  117.1492            OUT046   \n",
              "6            Baking Goods   50.1034            OUT018   \n",
              "13                 Breads  122.3098            OUT049   \n",
              "14            Hard Drinks   52.0298            OUT013   \n",
              "\n",
              "    Outlet_Establishment_Year Outlet_Size Outlet_Location_Type  \\\n",
              "0                        1999      Medium               Tier 1   \n",
              "5                        1997       Small               Tier 1   \n",
              "6                        2009      Medium               Tier 3   \n",
              "13                       1999      Medium               Tier 1   \n",
              "14                       1987        High               Tier 3   \n",
              "\n",
              "          Outlet_Type  \n",
              "0   Supermarket Type1  \n",
              "5   Supermarket Type1  \n",
              "6   Supermarket Type2  \n",
              "13  Supermarket Type1  \n",
              "14  Supermarket Type1  "
            ],
            "text/html": "<div>\n<style scoped>\n    .dataframe tbody tr th:only-of-type {\n        vertical-align: middle;\n    }\n\n    .dataframe tbody tr th {\n        vertical-align: top;\n    }\n\n    .dataframe thead th {\n        text-align: right;\n    }\n</style>\n<table border=\"1\" class=\"dataframe\">\n  <thead>\n    <tr style=\"text-align: right;\">\n      <th></th>\n      <th>Item_Identifier</th>\n      <th>Item_Weight</th>\n      <th>Item_Fat_Content</th>\n      <th>Item_Visibility</th>\n      <th>Item_Type</th>\n      <th>Item_MRP</th>\n      <th>Outlet_Identifier</th>\n      <th>Outlet_Establishment_Year</th>\n      <th>Outlet_Size</th>\n      <th>Outlet_Location_Type</th>\n      <th>Outlet_Type</th>\n    </tr>\n  </thead>\n  <tbody>\n    <tr>\n      <th>0</th>\n      <td>FDW58</td>\n      <td>20.750</td>\n      <td>Low Fat</td>\n      <td>0.007565</td>\n      <td>Snack Foods</td>\n      <td>107.8622</td>\n      <td>OUT049</td>\n      <td>1999</td>\n      <td>Medium</td>\n      <td>Tier 1</td>\n      <td>Supermarket Type1</td>\n    </tr>\n    <tr>\n      <th>5</th>\n      <td>FDH56</td>\n      <td>9.800</td>\n      <td>Regular</td>\n      <td>0.063817</td>\n      <td>Fruits and Vegetables</td>\n      <td>117.1492</td>\n      <td>OUT046</td>\n      <td>1997</td>\n      <td>Small</td>\n      <td>Tier 1</td>\n      <td>Supermarket Type1</td>\n    </tr>\n    <tr>\n      <th>6</th>\n      <td>FDL48</td>\n      <td>19.350</td>\n      <td>Regular</td>\n      <td>0.082602</td>\n      <td>Baking Goods</td>\n      <td>50.1034</td>\n      <td>OUT018</td>\n      <td>2009</td>\n      <td>Medium</td>\n      <td>Tier 3</td>\n      <td>Supermarket Type2</td>\n    </tr>\n    <tr>\n      <th>13</th>\n      <td>FDU11</td>\n      <td>4.785</td>\n      <td>Low Fat</td>\n      <td>0.092738</td>\n      <td>Breads</td>\n      <td>122.3098</td>\n      <td>OUT049</td>\n      <td>1999</td>\n      <td>Medium</td>\n      <td>Tier 1</td>\n      <td>Supermarket Type1</td>\n    </tr>\n    <tr>\n      <th>14</th>\n      <td>DRL59</td>\n      <td>16.750</td>\n      <td>LF</td>\n      <td>0.021206</td>\n      <td>Hard Drinks</td>\n      <td>52.0298</td>\n      <td>OUT013</td>\n      <td>1987</td>\n      <td>High</td>\n      <td>Tier 3</td>\n      <td>Supermarket Type1</td>\n    </tr>\n  </tbody>\n</table>\n</div>"
          },
          "metadata": {},
          "execution_count": 42
        }
      ],
      "source": [
        "df=pd.read_csv('C:Users\\\\LENOVO\\\\Downloads\\\\Test.csv')\n",
        "df.head()\n",
        "df.dropna(how='any', inplace= True)\n",
        "df.head()"
      ]
    },
    {
      "cell_type": "code",
      "execution_count": 30,
      "metadata": {},
      "outputs": [
        {
          "output_type": "execute_result",
          "data": {
            "text/plain": [
              "Item_Identifier              0\n",
              "Item_Weight                  0\n",
              "Item_Fat_Content             0\n",
              "Item_Visibility              0\n",
              "Item_Type                    0\n",
              "Item_MRP                     0\n",
              "Outlet_Identifier            0\n",
              "Outlet_Establishment_Year    0\n",
              "Outlet_Size                  0\n",
              "Outlet_Location_Type         0\n",
              "Outlet_Type                  0\n",
              "dtype: int64"
            ]
          },
          "metadata": {},
          "execution_count": 30
        }
      ],
      "source": [
        "df= df.reset_index(drop=True)\n",
        "df.isna().sum()"
      ]
    },
    {
      "source": [
        "Query:- What's the mean price for each of the Item type???\n",
        "\n",
        "hint:- here price is  the Item_MRP column..."
      ],
      "cell_type": "markdown",
      "metadata": {}
    },
    {
      "cell_type": "code",
      "execution_count": 41,
      "metadata": {},
      "outputs": [
        {
          "output_type": "stream",
          "name": "stdout",
          "text": [
            "<class 'pandas.core.groupby.generic.DataFrameGroupBy'>\n"
          ]
        },
        {
          "output_type": "execute_result",
          "data": {
            "text/plain": [
              "<pandas.core.groupby.generic.DataFrameGroupBy object at 0x000001FD4A989F88>"
            ]
          },
          "metadata": {},
          "execution_count": 41
        }
      ],
      "source": [
        "var = df.groupby('Item_Type')\n",
        "print(type(var))\n",
        "var"
      ]
    },
    {
      "cell_type": "code",
      "execution_count": 32,
      "metadata": {},
      "outputs": [
        {
          "output_type": "execute_result",
          "data": {
            "text/plain": [
              "Item_Type\n",
              "Baking Goods             129.157803\n",
              "Breads                   139.191904\n",
              "Breakfast                139.022248\n",
              "Canned                   138.378773\n",
              "Dairy                    142.332602\n",
              "Frozen Foods             131.233022\n",
              "Fruits and Vegetables    143.377461\n",
              "Hard Drinks              132.486077\n",
              "Health and Hygiene       136.405953\n",
              "Household                147.688873\n",
              "Meat                     141.533681\n",
              "Others                   130.825708\n",
              "Seafood                  130.081776\n",
              "Snack Foods              144.789637\n",
              "Soft Drinks              142.276118\n",
              "Starchy Foods            147.547571\n",
              "Name: Item_MRP, dtype: float64"
            ]
          },
          "metadata": {},
          "execution_count": 32
        }
      ],
      "source": [
        "var['Item_MRP'].mean()"
      ]
    },
    {
      "cell_type": "code",
      "execution_count": 34,
      "metadata": {},
      "outputs": [
        {
          "output_type": "execute_result",
          "data": {
            "text/plain": [
              "                               Item_Identifier  Item_Weight  Item_Visibility  \\\n",
              "Item_Type     Item_Fat_Content                                                 \n",
              "Baking Goods  LF                         FDR60       14.300         0.130618   \n",
              "              Low Fat                    FDX24        8.355         0.013917   \n",
              "              Regular                    FDL48       19.350         0.082602   \n",
              "              low fat                    FDT60       12.000         0.075666   \n",
              "              reg                        FDG12        6.635         0.006326   \n",
              "...                                        ...          ...              ...   \n",
              "Soft Drinks   low fat                    DRN36       15.200         0.050256   \n",
              "              reg                        DRY23        9.395         0.109006   \n",
              "Starchy Foods LF                         FDC35        7.435         0.122814   \n",
              "              Low Fat                    FDI35       14.000         0.041257   \n",
              "              Regular                    FDB23       19.200         0.005589   \n",
              "\n",
              "                                Item_MRP Outlet_Identifier  \\\n",
              "Item_Type     Item_Fat_Content                               \n",
              "Baking Goods  LF                 76.5328            OUT049   \n",
              "              Low Fat            92.5462            OUT013   \n",
              "              Regular            50.1034            OUT018   \n",
              "              low fat           125.8388            OUT049   \n",
              "              reg               122.1098            OUT046   \n",
              "...                                  ...               ...   \n",
              "Soft Drinks   low fat            97.3752            OUT049   \n",
              "              reg                43.3112            OUT013   \n",
              "Starchy Foods LF                207.5638            OUT035   \n",
              "              Low Fat           181.2634            OUT013   \n",
              "              Regular           225.5062            OUT046   \n",
              "\n",
              "                                Outlet_Establishment_Year Outlet_Size  \\\n",
              "Item_Type     Item_Fat_Content                                          \n",
              "Baking Goods  LF                                     1999      Medium   \n",
              "              Low Fat                                1987        High   \n",
              "              Regular                                2009      Medium   \n",
              "              low fat                                1999      Medium   \n",
              "              reg                                    1997       Small   \n",
              "...                                                   ...         ...   \n",
              "Soft Drinks   low fat                                1999      Medium   \n",
              "              reg                                    1987        High   \n",
              "Starchy Foods LF                                     2004       Small   \n",
              "              Low Fat                                1987        High   \n",
              "              Regular                                1997       Small   \n",
              "\n",
              "                               Outlet_Location_Type        Outlet_Type  \n",
              "Item_Type     Item_Fat_Content                                          \n",
              "Baking Goods  LF                             Tier 1  Supermarket Type1  \n",
              "              Low Fat                        Tier 3  Supermarket Type1  \n",
              "              Regular                        Tier 3  Supermarket Type2  \n",
              "              low fat                        Tier 1  Supermarket Type1  \n",
              "              reg                            Tier 1  Supermarket Type1  \n",
              "...                                             ...                ...  \n",
              "Soft Drinks   low fat                        Tier 1  Supermarket Type1  \n",
              "              reg                            Tier 3  Supermarket Type1  \n",
              "Starchy Foods LF                             Tier 2  Supermarket Type1  \n",
              "              Low Fat                        Tier 3  Supermarket Type1  \n",
              "              Regular                        Tier 1  Supermarket Type1  \n",
              "\n",
              "[63 rows x 9 columns]"
            ],
            "text/html": "<div>\n<style scoped>\n    .dataframe tbody tr th:only-of-type {\n        vertical-align: middle;\n    }\n\n    .dataframe tbody tr th {\n        vertical-align: top;\n    }\n\n    .dataframe thead th {\n        text-align: right;\n    }\n</style>\n<table border=\"1\" class=\"dataframe\">\n  <thead>\n    <tr style=\"text-align: right;\">\n      <th></th>\n      <th></th>\n      <th>Item_Identifier</th>\n      <th>Item_Weight</th>\n      <th>Item_Visibility</th>\n      <th>Item_MRP</th>\n      <th>Outlet_Identifier</th>\n      <th>Outlet_Establishment_Year</th>\n      <th>Outlet_Size</th>\n      <th>Outlet_Location_Type</th>\n      <th>Outlet_Type</th>\n    </tr>\n    <tr>\n      <th>Item_Type</th>\n      <th>Item_Fat_Content</th>\n      <th></th>\n      <th></th>\n      <th></th>\n      <th></th>\n      <th></th>\n      <th></th>\n      <th></th>\n      <th></th>\n      <th></th>\n    </tr>\n  </thead>\n  <tbody>\n    <tr>\n      <th rowspan=\"5\" valign=\"top\">Baking Goods</th>\n      <th>LF</th>\n      <td>FDR60</td>\n      <td>14.300</td>\n      <td>0.130618</td>\n      <td>76.5328</td>\n      <td>OUT049</td>\n      <td>1999</td>\n      <td>Medium</td>\n      <td>Tier 1</td>\n      <td>Supermarket Type1</td>\n    </tr>\n    <tr>\n      <th>Low Fat</th>\n      <td>FDX24</td>\n      <td>8.355</td>\n      <td>0.013917</td>\n      <td>92.5462</td>\n      <td>OUT013</td>\n      <td>1987</td>\n      <td>High</td>\n      <td>Tier 3</td>\n      <td>Supermarket Type1</td>\n    </tr>\n    <tr>\n      <th>Regular</th>\n      <td>FDL48</td>\n      <td>19.350</td>\n      <td>0.082602</td>\n      <td>50.1034</td>\n      <td>OUT018</td>\n      <td>2009</td>\n      <td>Medium</td>\n      <td>Tier 3</td>\n      <td>Supermarket Type2</td>\n    </tr>\n    <tr>\n      <th>low fat</th>\n      <td>FDT60</td>\n      <td>12.000</td>\n      <td>0.075666</td>\n      <td>125.8388</td>\n      <td>OUT049</td>\n      <td>1999</td>\n      <td>Medium</td>\n      <td>Tier 1</td>\n      <td>Supermarket Type1</td>\n    </tr>\n    <tr>\n      <th>reg</th>\n      <td>FDG12</td>\n      <td>6.635</td>\n      <td>0.006326</td>\n      <td>122.1098</td>\n      <td>OUT046</td>\n      <td>1997</td>\n      <td>Small</td>\n      <td>Tier 1</td>\n      <td>Supermarket Type1</td>\n    </tr>\n    <tr>\n      <th>...</th>\n      <th>...</th>\n      <td>...</td>\n      <td>...</td>\n      <td>...</td>\n      <td>...</td>\n      <td>...</td>\n      <td>...</td>\n      <td>...</td>\n      <td>...</td>\n      <td>...</td>\n    </tr>\n    <tr>\n      <th rowspan=\"2\" valign=\"top\">Soft Drinks</th>\n      <th>low fat</th>\n      <td>DRN36</td>\n      <td>15.200</td>\n      <td>0.050256</td>\n      <td>97.3752</td>\n      <td>OUT049</td>\n      <td>1999</td>\n      <td>Medium</td>\n      <td>Tier 1</td>\n      <td>Supermarket Type1</td>\n    </tr>\n    <tr>\n      <th>reg</th>\n      <td>DRY23</td>\n      <td>9.395</td>\n      <td>0.109006</td>\n      <td>43.3112</td>\n      <td>OUT013</td>\n      <td>1987</td>\n      <td>High</td>\n      <td>Tier 3</td>\n      <td>Supermarket Type1</td>\n    </tr>\n    <tr>\n      <th rowspan=\"3\" valign=\"top\">Starchy Foods</th>\n      <th>LF</th>\n      <td>FDC35</td>\n      <td>7.435</td>\n      <td>0.122814</td>\n      <td>207.5638</td>\n      <td>OUT035</td>\n      <td>2004</td>\n      <td>Small</td>\n      <td>Tier 2</td>\n      <td>Supermarket Type1</td>\n    </tr>\n    <tr>\n      <th>Low Fat</th>\n      <td>FDI35</td>\n      <td>14.000</td>\n      <td>0.041257</td>\n      <td>181.2634</td>\n      <td>OUT013</td>\n      <td>1987</td>\n      <td>High</td>\n      <td>Tier 3</td>\n      <td>Supermarket Type1</td>\n    </tr>\n    <tr>\n      <th>Regular</th>\n      <td>FDB23</td>\n      <td>19.200</td>\n      <td>0.005589</td>\n      <td>225.5062</td>\n      <td>OUT046</td>\n      <td>1997</td>\n      <td>Small</td>\n      <td>Tier 1</td>\n      <td>Supermarket Type1</td>\n    </tr>\n  </tbody>\n</table>\n<p>63 rows × 9 columns</p>\n</div>"
          },
          "metadata": {},
          "execution_count": 34
        }
      ],
      "source": [
        "multi = df.groupby(['Item_Type', 'Item_Fat_Content'])\n",
        "multi.first()"
      ]
    },
    {
      "cell_type": "code",
      "execution_count": 35,
      "metadata": {},
      "outputs": [
        {
          "output_type": "stream",
          "name": "stdout",
          "text": [
            "Item_Type      Item_Fat_Content\nBaking Goods   LF                  114.190240\n               Low Fat             125.905590\n               Regular             131.262254\n               low fat             125.838800\n               reg                 165.617533\n                                      ...    \nSoft Drinks    low fat             161.444120\n               reg                 113.651800\nStarchy Foods  LF                  164.453900\n               Low Fat             159.965476\n               Regular             126.994442\nName: Item_MRP, Length: 63, dtype: float64\n"
          ]
        }
      ],
      "source": [
        "print(multi.Item_MRP.mean())"
      ]
    },
    {
      "source": [
        "crosstab()\n",
        "\n",
        "it gives us the frequency table of 2 columns."
      ],
      "cell_type": "markdown",
      "metadata": {}
    },
    {
      "cell_type": "code",
      "execution_count": 36,
      "metadata": {},
      "outputs": [
        {
          "output_type": "execute_result",
          "data": {
            "text/plain": [
              "  Item_Identifier  Item_Weight Item_Fat_Content  Item_Visibility  \\\n",
              "0           FDW58       20.750          Low Fat         0.007565   \n",
              "1           FDH56        9.800          Regular         0.063817   \n",
              "2           FDL48       19.350          Regular         0.082602   \n",
              "3           FDU11        4.785          Low Fat         0.092738   \n",
              "4           DRL59       16.750               LF         0.021206   \n",
              "\n",
              "               Item_Type  Item_MRP Outlet_Identifier  \\\n",
              "0            Snack Foods  107.8622            OUT049   \n",
              "1  Fruits and Vegetables  117.1492            OUT046   \n",
              "2           Baking Goods   50.1034            OUT018   \n",
              "3                 Breads  122.3098            OUT049   \n",
              "4            Hard Drinks   52.0298            OUT013   \n",
              "\n",
              "   Outlet_Establishment_Year Outlet_Size Outlet_Location_Type  \\\n",
              "0                       1999      Medium               Tier 1   \n",
              "1                       1997       Small               Tier 1   \n",
              "2                       2009      Medium               Tier 3   \n",
              "3                       1999      Medium               Tier 1   \n",
              "4                       1987        High               Tier 3   \n",
              "\n",
              "         Outlet_Type  \n",
              "0  Supermarket Type1  \n",
              "1  Supermarket Type1  \n",
              "2  Supermarket Type2  \n",
              "3  Supermarket Type1  \n",
              "4  Supermarket Type1  "
            ],
            "text/html": "<div>\n<style scoped>\n    .dataframe tbody tr th:only-of-type {\n        vertical-align: middle;\n    }\n\n    .dataframe tbody tr th {\n        vertical-align: top;\n    }\n\n    .dataframe thead th {\n        text-align: right;\n    }\n</style>\n<table border=\"1\" class=\"dataframe\">\n  <thead>\n    <tr style=\"text-align: right;\">\n      <th></th>\n      <th>Item_Identifier</th>\n      <th>Item_Weight</th>\n      <th>Item_Fat_Content</th>\n      <th>Item_Visibility</th>\n      <th>Item_Type</th>\n      <th>Item_MRP</th>\n      <th>Outlet_Identifier</th>\n      <th>Outlet_Establishment_Year</th>\n      <th>Outlet_Size</th>\n      <th>Outlet_Location_Type</th>\n      <th>Outlet_Type</th>\n    </tr>\n  </thead>\n  <tbody>\n    <tr>\n      <th>0</th>\n      <td>FDW58</td>\n      <td>20.750</td>\n      <td>Low Fat</td>\n      <td>0.007565</td>\n      <td>Snack Foods</td>\n      <td>107.8622</td>\n      <td>OUT049</td>\n      <td>1999</td>\n      <td>Medium</td>\n      <td>Tier 1</td>\n      <td>Supermarket Type1</td>\n    </tr>\n    <tr>\n      <th>1</th>\n      <td>FDH56</td>\n      <td>9.800</td>\n      <td>Regular</td>\n      <td>0.063817</td>\n      <td>Fruits and Vegetables</td>\n      <td>117.1492</td>\n      <td>OUT046</td>\n      <td>1997</td>\n      <td>Small</td>\n      <td>Tier 1</td>\n      <td>Supermarket Type1</td>\n    </tr>\n    <tr>\n      <th>2</th>\n      <td>FDL48</td>\n      <td>19.350</td>\n      <td>Regular</td>\n      <td>0.082602</td>\n      <td>Baking Goods</td>\n      <td>50.1034</td>\n      <td>OUT018</td>\n      <td>2009</td>\n      <td>Medium</td>\n      <td>Tier 3</td>\n      <td>Supermarket Type2</td>\n    </tr>\n    <tr>\n      <th>3</th>\n      <td>FDU11</td>\n      <td>4.785</td>\n      <td>Low Fat</td>\n      <td>0.092738</td>\n      <td>Breads</td>\n      <td>122.3098</td>\n      <td>OUT049</td>\n      <td>1999</td>\n      <td>Medium</td>\n      <td>Tier 1</td>\n      <td>Supermarket Type1</td>\n    </tr>\n    <tr>\n      <th>4</th>\n      <td>DRL59</td>\n      <td>16.750</td>\n      <td>LF</td>\n      <td>0.021206</td>\n      <td>Hard Drinks</td>\n      <td>52.0298</td>\n      <td>OUT013</td>\n      <td>1987</td>\n      <td>High</td>\n      <td>Tier 3</td>\n      <td>Supermarket Type1</td>\n    </tr>\n  </tbody>\n</table>\n</div>"
          },
          "metadata": {},
          "execution_count": 36
        }
      ],
      "source": [
        "df.head()"
      ]
    },
    {
      "cell_type": "code",
      "execution_count": 13,
      "metadata": {},
      "outputs": [
        {
          "output_type": "stream",
          "name": "stdout",
          "text": [
            "['Tier 1' 'Tier 3' 'Tier 2']\n['Medium' 'High' 'Small']\n"
          ]
        },
        {
          "output_type": "execute_result",
          "data": {
            "text/plain": [
              "4650"
            ]
          },
          "metadata": {},
          "execution_count": 13
        }
      ],
      "source": [
        "print(df.Outlet_Location_Type.unique())\n",
        "print(df.Outlet_Size.unique())\n",
        "df.Outlet_Location_Type.count()"
      ]
    },
    {
      "cell_type": "code",
      "execution_count": 34,
      "metadata": {},
      "outputs": [
        {
          "output_type": "execute_result",
          "data": {
            "text/plain": [
              "array([1999, 2009, 1987, 1997, 2004], dtype=int64)"
            ]
          },
          "metadata": {},
          "execution_count": 34
        }
      ],
      "source": [
        "sorted= df.sort_values(by= 'Outlet_Establishment_Year')\n",
        "df['Outlet_Establishment_Year'].unique()"
      ]
    },
    {
      "cell_type": "code",
      "execution_count": 52,
      "metadata": {},
      "outputs": [
        {
          "output_type": "execute_result",
          "data": {
            "text/plain": [
              "array(['Small'], dtype=object)"
            ]
          },
          "metadata": {},
          "execution_count": 52
        }
      ],
      "source": [
        "sort= sorted.query('Outlet_Establishment_Year == 1997')\n",
        "sort['Outlet_Size'].unique()"
      ]
    },
    {
      "cell_type": "code",
      "execution_count": 38,
      "metadata": {},
      "outputs": [
        {
          "output_type": "execute_result",
          "data": {
            "text/plain": [
              "Outlet_Location_Type  Tier 1  Tier 2  Tier 3   All\n",
              "Outlet_Size                                       \n",
              "High                       0       0     621   621\n",
              "Medium                   620       0     618  1238\n",
              "Small                    620     620       0  1240\n",
              "All                     1240     620    1239  3099"
            ],
            "text/html": "<div>\n<style scoped>\n    .dataframe tbody tr th:only-of-type {\n        vertical-align: middle;\n    }\n\n    .dataframe tbody tr th {\n        vertical-align: top;\n    }\n\n    .dataframe thead th {\n        text-align: right;\n    }\n</style>\n<table border=\"1\" class=\"dataframe\">\n  <thead>\n    <tr style=\"text-align: right;\">\n      <th>Outlet_Location_Type</th>\n      <th>Tier 1</th>\n      <th>Tier 2</th>\n      <th>Tier 3</th>\n      <th>All</th>\n    </tr>\n    <tr>\n      <th>Outlet_Size</th>\n      <th></th>\n      <th></th>\n      <th></th>\n      <th></th>\n    </tr>\n  </thead>\n  <tbody>\n    <tr>\n      <th>High</th>\n      <td>0</td>\n      <td>0</td>\n      <td>621</td>\n      <td>621</td>\n    </tr>\n    <tr>\n      <th>Medium</th>\n      <td>620</td>\n      <td>0</td>\n      <td>618</td>\n      <td>1238</td>\n    </tr>\n    <tr>\n      <th>Small</th>\n      <td>620</td>\n      <td>620</td>\n      <td>0</td>\n      <td>1240</td>\n    </tr>\n    <tr>\n      <th>All</th>\n      <td>1240</td>\n      <td>620</td>\n      <td>1239</td>\n      <td>3099</td>\n    </tr>\n  </tbody>\n</table>\n</div>"
          },
          "metadata": {},
          "execution_count": 38
        }
      ],
      "source": [
        "pd.crosstab(df['Outlet_Size'], df['Outlet_Location_Type'], margins = True)"
      ]
    },
    {
      "source": [
        "From this we can make sure that Outlet_Loaction_Type is expected to affect the values of Outlet_Size. \n",
        "\n",
        "Inferences which can be made using this tablation table:-\n",
        "\n",
        "-> The highest sized outlets are present only in Tier 3 part of the city\n",
        "\n",
        "-> The medium sized outlets are present in Tier 1 and Tier 3 parts of the city\n",
        "\n",
        "-> The small sized outlets are present in Tier 1 and Tier 2 parts of the city\n",
        "\n",
        "\n",
        "Other inferences which can be made from this tabulation table are:\n",
        "\n",
        "-> The highest sized outlets are present only in Tier 3\n",
        "\n",
        "-> ~50% of the medium sized outlets are present in either Tier 1 or Tier 3\n",
        "\n",
        "-> 50% of the small sized outlets are presetn in either Tier 1 or Tier 2"
      ],
      "cell_type": "markdown",
      "metadata": {}
    },
    {
      "cell_type": "code",
      "execution_count": 39,
      "metadata": {},
      "outputs": [
        {
          "output_type": "execute_result",
          "data": {
            "text/plain": [
              "Outlet_Type            Supermarket Type1  Supermarket Type2   All\n",
              "Item_Type                                                        \n",
              "Baking Goods                         192                 51   243\n",
              "Breads                                74                 18    92\n",
              "Breakfast                             34                  8    42\n",
              "Canned                               192                 41   233\n",
              "Dairy                                189                 51   240\n",
              "Frozen Foods                         234                 62   296\n",
              "Fruits and Vegetables                343                 84   427\n",
              "Hard Drinks                           64                 17    81\n",
              "Health and Hygiene                   158                 34   192\n",
              "Household                            271                 73   344\n",
              "Meat                                 143                 32   175\n",
              "Others                                49                 10    59\n",
              "Seafood                               14                  3    17\n",
              "Snack Foods                          350                 87   437\n",
              "Soft Drinks                          124                 34   158\n",
              "Starchy Foods                         50                 13    63\n",
              "All                                 2481                618  3099"
            ],
            "text/html": "<div>\n<style scoped>\n    .dataframe tbody tr th:only-of-type {\n        vertical-align: middle;\n    }\n\n    .dataframe tbody tr th {\n        vertical-align: top;\n    }\n\n    .dataframe thead th {\n        text-align: right;\n    }\n</style>\n<table border=\"1\" class=\"dataframe\">\n  <thead>\n    <tr style=\"text-align: right;\">\n      <th>Outlet_Type</th>\n      <th>Supermarket Type1</th>\n      <th>Supermarket Type2</th>\n      <th>All</th>\n    </tr>\n    <tr>\n      <th>Item_Type</th>\n      <th></th>\n      <th></th>\n      <th></th>\n    </tr>\n  </thead>\n  <tbody>\n    <tr>\n      <th>Baking Goods</th>\n      <td>192</td>\n      <td>51</td>\n      <td>243</td>\n    </tr>\n    <tr>\n      <th>Breads</th>\n      <td>74</td>\n      <td>18</td>\n      <td>92</td>\n    </tr>\n    <tr>\n      <th>Breakfast</th>\n      <td>34</td>\n      <td>8</td>\n      <td>42</td>\n    </tr>\n    <tr>\n      <th>Canned</th>\n      <td>192</td>\n      <td>41</td>\n      <td>233</td>\n    </tr>\n    <tr>\n      <th>Dairy</th>\n      <td>189</td>\n      <td>51</td>\n      <td>240</td>\n    </tr>\n    <tr>\n      <th>Frozen Foods</th>\n      <td>234</td>\n      <td>62</td>\n      <td>296</td>\n    </tr>\n    <tr>\n      <th>Fruits and Vegetables</th>\n      <td>343</td>\n      <td>84</td>\n      <td>427</td>\n    </tr>\n    <tr>\n      <th>Hard Drinks</th>\n      <td>64</td>\n      <td>17</td>\n      <td>81</td>\n    </tr>\n    <tr>\n      <th>Health and Hygiene</th>\n      <td>158</td>\n      <td>34</td>\n      <td>192</td>\n    </tr>\n    <tr>\n      <th>Household</th>\n      <td>271</td>\n      <td>73</td>\n      <td>344</td>\n    </tr>\n    <tr>\n      <th>Meat</th>\n      <td>143</td>\n      <td>32</td>\n      <td>175</td>\n    </tr>\n    <tr>\n      <th>Others</th>\n      <td>49</td>\n      <td>10</td>\n      <td>59</td>\n    </tr>\n    <tr>\n      <th>Seafood</th>\n      <td>14</td>\n      <td>3</td>\n      <td>17</td>\n    </tr>\n    <tr>\n      <th>Snack Foods</th>\n      <td>350</td>\n      <td>87</td>\n      <td>437</td>\n    </tr>\n    <tr>\n      <th>Soft Drinks</th>\n      <td>124</td>\n      <td>34</td>\n      <td>158</td>\n    </tr>\n    <tr>\n      <th>Starchy Foods</th>\n      <td>50</td>\n      <td>13</td>\n      <td>63</td>\n    </tr>\n    <tr>\n      <th>All</th>\n      <td>2481</td>\n      <td>618</td>\n      <td>3099</td>\n    </tr>\n  </tbody>\n</table>\n</div>"
          },
          "metadata": {},
          "execution_count": 39
        }
      ],
      "source": [
        "pd.crosstab(df['Item_Type'], df['Outlet_Type'], margins = True)"
      ]
    },
    {
      "source": [
        "Inferences which can be made using this tabulation column:-\n",
        "\n",
        "-> Firstly, Supermarket Type1 is taking 3722 items as compared to Supermarket Type2\n",
        "\n",
        "-> Out of 351 Baking Goods, 283 items are sent to Supermarket Type1 and only 68 are sent to Supermarket Type2"
      ],
      "cell_type": "markdown",
      "metadata": {}
    },
    {
      "source": [
        "Pivot Table"
      ],
      "cell_type": "markdown",
      "metadata": {}
    },
    {
      "cell_type": "code",
      "execution_count": 45,
      "metadata": {},
      "outputs": [
        {
          "output_type": "execute_result",
          "data": {
            "text/plain": [
              "     Item_Identifier  Item_Weight Item_Fat_Content  Item_Visibility  \\\n",
              "0              FDW58       20.750          Low Fat         0.007565   \n",
              "5              FDH56        9.800          Regular         0.063817   \n",
              "6              FDL48       19.350          Regular         0.082602   \n",
              "13             FDU11        4.785          Low Fat         0.092738   \n",
              "14             DRL59       16.750               LF         0.021206   \n",
              "...              ...          ...              ...              ...   \n",
              "5673           FDF46        7.070          Low Fat         0.094053   \n",
              "5674           DRL35       15.700          Low Fat         0.030704   \n",
              "5675           FDW46       13.000          Regular         0.070411   \n",
              "5676           FDB58       10.500          Regular         0.013496   \n",
              "5677           FDD47        7.600          Regular         0.142991   \n",
              "\n",
              "                  Item_Type  Item_MRP Outlet_Identifier  \\\n",
              "0               Snack Foods  107.8622            OUT049   \n",
              "5     Fruits and Vegetables  117.1492            OUT046   \n",
              "6              Baking Goods   50.1034            OUT018   \n",
              "13                   Breads  122.3098            OUT049   \n",
              "14              Hard Drinks   52.0298            OUT013   \n",
              "...                     ...       ...               ...   \n",
              "5673            Snack Foods  116.0834            OUT018   \n",
              "5674            Hard Drinks   43.2770            OUT046   \n",
              "5675            Snack Foods   63.4484            OUT049   \n",
              "5676            Snack Foods  141.3154            OUT046   \n",
              "5677          Starchy Foods  169.1448            OUT018   \n",
              "\n",
              "      Outlet_Establishment_Year Outlet_Size Outlet_Location_Type  \\\n",
              "0                          1999      Medium               Tier 1   \n",
              "5                          1997       Small               Tier 1   \n",
              "6                          2009      Medium               Tier 3   \n",
              "13                         1999      Medium               Tier 1   \n",
              "14                         1987        High               Tier 3   \n",
              "...                         ...         ...                  ...   \n",
              "5673                       2009      Medium               Tier 3   \n",
              "5674                       1997       Small               Tier 1   \n",
              "5675                       1999      Medium               Tier 1   \n",
              "5676                       1997       Small               Tier 1   \n",
              "5677                       2009      Medium               Tier 3   \n",
              "\n",
              "            Outlet_Type  \n",
              "0     Supermarket Type1  \n",
              "5     Supermarket Type1  \n",
              "6     Supermarket Type2  \n",
              "13    Supermarket Type1  \n",
              "14    Supermarket Type1  \n",
              "...                 ...  \n",
              "5673  Supermarket Type2  \n",
              "5674  Supermarket Type1  \n",
              "5675  Supermarket Type1  \n",
              "5676  Supermarket Type1  \n",
              "5677  Supermarket Type2  \n",
              "\n",
              "[3099 rows x 11 columns]"
            ],
            "text/html": "<div>\n<style scoped>\n    .dataframe tbody tr th:only-of-type {\n        vertical-align: middle;\n    }\n\n    .dataframe tbody tr th {\n        vertical-align: top;\n    }\n\n    .dataframe thead th {\n        text-align: right;\n    }\n</style>\n<table border=\"1\" class=\"dataframe\">\n  <thead>\n    <tr style=\"text-align: right;\">\n      <th></th>\n      <th>Item_Identifier</th>\n      <th>Item_Weight</th>\n      <th>Item_Fat_Content</th>\n      <th>Item_Visibility</th>\n      <th>Item_Type</th>\n      <th>Item_MRP</th>\n      <th>Outlet_Identifier</th>\n      <th>Outlet_Establishment_Year</th>\n      <th>Outlet_Size</th>\n      <th>Outlet_Location_Type</th>\n      <th>Outlet_Type</th>\n    </tr>\n  </thead>\n  <tbody>\n    <tr>\n      <th>0</th>\n      <td>FDW58</td>\n      <td>20.750</td>\n      <td>Low Fat</td>\n      <td>0.007565</td>\n      <td>Snack Foods</td>\n      <td>107.8622</td>\n      <td>OUT049</td>\n      <td>1999</td>\n      <td>Medium</td>\n      <td>Tier 1</td>\n      <td>Supermarket Type1</td>\n    </tr>\n    <tr>\n      <th>5</th>\n      <td>FDH56</td>\n      <td>9.800</td>\n      <td>Regular</td>\n      <td>0.063817</td>\n      <td>Fruits and Vegetables</td>\n      <td>117.1492</td>\n      <td>OUT046</td>\n      <td>1997</td>\n      <td>Small</td>\n      <td>Tier 1</td>\n      <td>Supermarket Type1</td>\n    </tr>\n    <tr>\n      <th>6</th>\n      <td>FDL48</td>\n      <td>19.350</td>\n      <td>Regular</td>\n      <td>0.082602</td>\n      <td>Baking Goods</td>\n      <td>50.1034</td>\n      <td>OUT018</td>\n      <td>2009</td>\n      <td>Medium</td>\n      <td>Tier 3</td>\n      <td>Supermarket Type2</td>\n    </tr>\n    <tr>\n      <th>13</th>\n      <td>FDU11</td>\n      <td>4.785</td>\n      <td>Low Fat</td>\n      <td>0.092738</td>\n      <td>Breads</td>\n      <td>122.3098</td>\n      <td>OUT049</td>\n      <td>1999</td>\n      <td>Medium</td>\n      <td>Tier 1</td>\n      <td>Supermarket Type1</td>\n    </tr>\n    <tr>\n      <th>14</th>\n      <td>DRL59</td>\n      <td>16.750</td>\n      <td>LF</td>\n      <td>0.021206</td>\n      <td>Hard Drinks</td>\n      <td>52.0298</td>\n      <td>OUT013</td>\n      <td>1987</td>\n      <td>High</td>\n      <td>Tier 3</td>\n      <td>Supermarket Type1</td>\n    </tr>\n    <tr>\n      <th>...</th>\n      <td>...</td>\n      <td>...</td>\n      <td>...</td>\n      <td>...</td>\n      <td>...</td>\n      <td>...</td>\n      <td>...</td>\n      <td>...</td>\n      <td>...</td>\n      <td>...</td>\n      <td>...</td>\n    </tr>\n    <tr>\n      <th>5673</th>\n      <td>FDF46</td>\n      <td>7.070</td>\n      <td>Low Fat</td>\n      <td>0.094053</td>\n      <td>Snack Foods</td>\n      <td>116.0834</td>\n      <td>OUT018</td>\n      <td>2009</td>\n      <td>Medium</td>\n      <td>Tier 3</td>\n      <td>Supermarket Type2</td>\n    </tr>\n    <tr>\n      <th>5674</th>\n      <td>DRL35</td>\n      <td>15.700</td>\n      <td>Low Fat</td>\n      <td>0.030704</td>\n      <td>Hard Drinks</td>\n      <td>43.2770</td>\n      <td>OUT046</td>\n      <td>1997</td>\n      <td>Small</td>\n      <td>Tier 1</td>\n      <td>Supermarket Type1</td>\n    </tr>\n    <tr>\n      <th>5675</th>\n      <td>FDW46</td>\n      <td>13.000</td>\n      <td>Regular</td>\n      <td>0.070411</td>\n      <td>Snack Foods</td>\n      <td>63.4484</td>\n      <td>OUT049</td>\n      <td>1999</td>\n      <td>Medium</td>\n      <td>Tier 1</td>\n      <td>Supermarket Type1</td>\n    </tr>\n    <tr>\n      <th>5676</th>\n      <td>FDB58</td>\n      <td>10.500</td>\n      <td>Regular</td>\n      <td>0.013496</td>\n      <td>Snack Foods</td>\n      <td>141.3154</td>\n      <td>OUT046</td>\n      <td>1997</td>\n      <td>Small</td>\n      <td>Tier 1</td>\n      <td>Supermarket Type1</td>\n    </tr>\n    <tr>\n      <th>5677</th>\n      <td>FDD47</td>\n      <td>7.600</td>\n      <td>Regular</td>\n      <td>0.142991</td>\n      <td>Starchy Foods</td>\n      <td>169.1448</td>\n      <td>OUT018</td>\n      <td>2009</td>\n      <td>Medium</td>\n      <td>Tier 3</td>\n      <td>Supermarket Type2</td>\n    </tr>\n  </tbody>\n</table>\n<p>3099 rows × 11 columns</p>\n</div>"
          },
          "metadata": {},
          "execution_count": 45
        }
      ],
      "source": [
        "df"
      ]
    },
    {
      "cell_type": "code",
      "execution_count": 47,
      "metadata": {},
      "outputs": [
        {
          "output_type": "execute_result",
          "data": {
            "text/plain": [
              "                           Item_Weight\n",
              "Outlet_Establishment_Year             \n",
              "1987                         12.460950\n",
              "1997                         12.733081\n",
              "1999                         12.631339\n",
              "2004                         12.767145\n",
              "2009                         12.698964"
            ],
            "text/html": "<div>\n<style scoped>\n    .dataframe tbody tr th:only-of-type {\n        vertical-align: middle;\n    }\n\n    .dataframe tbody tr th {\n        vertical-align: top;\n    }\n\n    .dataframe thead th {\n        text-align: right;\n    }\n</style>\n<table border=\"1\" class=\"dataframe\">\n  <thead>\n    <tr style=\"text-align: right;\">\n      <th></th>\n      <th>Item_Weight</th>\n    </tr>\n    <tr>\n      <th>Outlet_Establishment_Year</th>\n      <th></th>\n    </tr>\n  </thead>\n  <tbody>\n    <tr>\n      <th>1987</th>\n      <td>12.460950</td>\n    </tr>\n    <tr>\n      <th>1997</th>\n      <td>12.733081</td>\n    </tr>\n    <tr>\n      <th>1999</th>\n      <td>12.631339</td>\n    </tr>\n    <tr>\n      <th>2004</th>\n      <td>12.767145</td>\n    </tr>\n    <tr>\n      <th>2009</th>\n      <td>12.698964</td>\n    </tr>\n  </tbody>\n</table>\n</div>"
          },
          "metadata": {},
          "execution_count": 47
        }
      ],
      "source": [
        "pd.pivot_table(df, index= ['Outlet_Establishment_Year'], values= 'Item_Weight')"
      ]
    },
    {
      "cell_type": "code",
      "execution_count": 48,
      "metadata": {},
      "outputs": [
        {
          "output_type": "execute_result",
          "data": {
            "text/plain": [
              "                                 mean      median         min         max  \\\n",
              "                          Item_Weight Item_Weight Item_Weight Item_Weight   \n",
              "Outlet_Establishment_Year                                                   \n",
              "1987                        12.460950      12.150       4.610       21.35   \n",
              "1997                        12.733081      12.500       4.615       21.35   \n",
              "1999                        12.631339      12.325       4.615       21.35   \n",
              "2004                        12.767145      12.600       4.805       21.35   \n",
              "2009                        12.698964      12.425       4.555       21.20   \n",
              "\n",
              "                                  std  \n",
              "                          Item_Weight  \n",
              "Outlet_Establishment_Year              \n",
              "1987                         4.609628  \n",
              "1997                         4.557932  \n",
              "1999                         4.699540  \n",
              "2004                         4.630043  \n",
              "2009                         4.594810  "
            ],
            "text/html": "<div>\n<style scoped>\n    .dataframe tbody tr th:only-of-type {\n        vertical-align: middle;\n    }\n\n    .dataframe tbody tr th {\n        vertical-align: top;\n    }\n\n    .dataframe thead tr th {\n        text-align: left;\n    }\n\n    .dataframe thead tr:last-of-type th {\n        text-align: right;\n    }\n</style>\n<table border=\"1\" class=\"dataframe\">\n  <thead>\n    <tr>\n      <th></th>\n      <th>mean</th>\n      <th>median</th>\n      <th>min</th>\n      <th>max</th>\n      <th>std</th>\n    </tr>\n    <tr>\n      <th></th>\n      <th>Item_Weight</th>\n      <th>Item_Weight</th>\n      <th>Item_Weight</th>\n      <th>Item_Weight</th>\n      <th>Item_Weight</th>\n    </tr>\n    <tr>\n      <th>Outlet_Establishment_Year</th>\n      <th></th>\n      <th></th>\n      <th></th>\n      <th></th>\n      <th></th>\n    </tr>\n  </thead>\n  <tbody>\n    <tr>\n      <th>1987</th>\n      <td>12.460950</td>\n      <td>12.150</td>\n      <td>4.610</td>\n      <td>21.35</td>\n      <td>4.609628</td>\n    </tr>\n    <tr>\n      <th>1997</th>\n      <td>12.733081</td>\n      <td>12.500</td>\n      <td>4.615</td>\n      <td>21.35</td>\n      <td>4.557932</td>\n    </tr>\n    <tr>\n      <th>1999</th>\n      <td>12.631339</td>\n      <td>12.325</td>\n      <td>4.615</td>\n      <td>21.35</td>\n      <td>4.699540</td>\n    </tr>\n    <tr>\n      <th>2004</th>\n      <td>12.767145</td>\n      <td>12.600</td>\n      <td>4.805</td>\n      <td>21.35</td>\n      <td>4.630043</td>\n    </tr>\n    <tr>\n      <th>2009</th>\n      <td>12.698964</td>\n      <td>12.425</td>\n      <td>4.555</td>\n      <td>21.20</td>\n      <td>4.594810</td>\n    </tr>\n  </tbody>\n</table>\n</div>"
          },
          "metadata": {},
          "execution_count": 48
        }
      ],
      "source": [
        "pd.pivot_table(df, index= ['Outlet_Establishment_Year'], values= ['Item_Weight'], aggfunc= [np.mean, np.median, min, max, np.std])"
      ]
    },
    {
      "cell_type": "code",
      "execution_count": 49,
      "metadata": {},
      "outputs": [
        {
          "output_type": "execute_result",
          "data": {
            "text/plain": [
              "Item_Type\n",
              "Baking Goods             12.162202\n",
              "Breads                   11.135272\n",
              "Breakfast                13.537738\n",
              "Canned                   12.424399\n",
              "Dairy                    12.798000\n",
              "Frozen Foods             12.041453\n",
              "Fruits and Vegetables    13.217295\n",
              "Hard Drinks              11.905247\n",
              "Health and Hygiene       13.122500\n",
              "Household                12.962180\n",
              "Meat                     12.878257\n",
              "Others                   14.084576\n",
              "Seafood                  12.622941\n",
              "Snack Foods              12.727277\n",
              "Soft Drinks              11.638987\n",
              "Starchy Foods            13.682302\n",
              "Name: Item_Weight, dtype: float64"
            ]
          },
          "metadata": {},
          "execution_count": 49
        }
      ],
      "source": [
        "weight_by_item = df.groupby('Item_Type')\n",
        "weight_by_item.Item_Weight.mean()"
      ]
    }
  ]
}