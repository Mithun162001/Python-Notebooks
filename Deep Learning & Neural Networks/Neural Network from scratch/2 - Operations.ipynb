{
 "cells": [
  {
   "cell_type": "markdown",
   "metadata": {},
   "source": [
    "<h1>Manual Neural Network</h1>"
   ]
  },
  {
   "cell_type": "markdown",
   "metadata": {},
   "source": [
    "<h3>We shall build a operation class</h3>\n",
    "\n",
    "It has following contents:-\n",
    "\n",
    "* Input Node \n",
    "\n",
    "* Output Node \n",
    "\n",
    "* Global default graph variable\n",
    "\n",
    "* Compute (which will be overwritten by the extended class) "
   ]
  },
  {
   "cell_type": "code",
   "execution_count": 4,
   "metadata": {},
   "outputs": [],
   "source": [
    "class Operation():  # creating a class\n",
    "    def __init__(self, input_nodes=[]):  # intializing the class using __init__ method\n",
    "        self.input_nodes = input_nodes\n",
    "        self.output_node = []       # we shall appened the outputs layer\n",
    "\n",
    "        for node in input_nodes:\n",
    "            node.output_node.append(self)\n",
    "\n",
    "    def compute(self):\n",
    "        pass    # does nothing, created here so that we can override in extended class"
   ]
  },
  {
   "cell_type": "code",
   "execution_count": 5,
   "metadata": {},
   "outputs": [],
   "source": [
    "# Let's do addition operation\n",
    "\n",
    "class add(Operation):   # inheriting from Operation()\n",
    "    def __init__(self,x,y):\n",
    "        super().__init__([x,y])\n",
    "    def compute(self,x_var,y_var):\n",
    "        self.input_nodes = [x_var,y_var]\n",
    "        return x_var+y_var"
   ]
  },
  {
   "cell_type": "code",
   "execution_count": 6,
   "metadata": {},
   "outputs": [],
   "source": [
    "# Let's do multiplication operation\n",
    "\n",
    "class multiply(Operation):   # inheriting from Operation()\n",
    "    def __init__(self,x,y):\n",
    "        super().__init__([x,y])\n",
    "    def compute(self,x_var,y_var):\n",
    "        self.input_nodes = [x_var,y_var]\n",
    "        return x_var*y_var"
   ]
  },
  {
   "cell_type": "code",
   "execution_count": 7,
   "metadata": {},
   "outputs": [],
   "source": [
    "# Let's do matrix multiplication operation\n",
    "\n",
    "class matmul(Operation):   # inheriting from Operation()\n",
    "    def __init__(self,x,y):\n",
    "        super().__init__([x,y])\n",
    "    def compute(self,x_var,y_var):\n",
    "        self.input_nodes = [x_var,y_var]\n",
    "        return x_var.dot(y_var)"
   ]
  }
 ],
 "metadata": {
  "interpreter": {
   "hash": "69eb92836b941e979072a76c7fcfffe5419cca933cedd02cfafbdfca1a93358c"
  },
  "kernelspec": {
   "display_name": "Python 3.9.10 64-bit",
   "language": "python",
   "name": "python3"
  },
  "language_info": {
   "codemirror_mode": {
    "name": "ipython",
    "version": 3
   },
   "file_extension": ".py",
   "mimetype": "text/x-python",
   "name": "python",
   "nbconvert_exporter": "python",
   "pygments_lexer": "ipython3",
   "version": "3.9.10"
  },
  "orig_nbformat": 4
 },
 "nbformat": 4,
 "nbformat_minor": 2
}
