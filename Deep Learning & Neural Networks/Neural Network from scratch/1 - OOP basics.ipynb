{
 "cells": [
  {
   "cell_type": "markdown",
   "metadata": {},
   "source": [
    "<h1>Manual Neural Network</h1>"
   ]
  },
  {
   "cell_type": "markdown",
   "metadata": {},
   "source": [
    "<h3>Basics of object oriented programming to understand the manual way of creating a neural network</h3>"
   ]
  },
  {
   "cell_type": "code",
   "execution_count": 1,
   "metadata": {},
   "outputs": [],
   "source": [
    "# to create a class we use the keyword class followed up by classname() in paranthesis\n",
    "\n",
    "class SimpleClass():\n",
    "    def __init__(self):     # initializes the class, acts as a constrcutor, calls when object is created\n",
    "        print(\"hello\")"
   ]
  },
  {
   "cell_type": "code",
   "execution_count": 2,
   "metadata": {},
   "outputs": [
    {
     "name": "stdout",
     "output_type": "stream",
     "text": [
      "hello\n"
     ]
    }
   ],
   "source": [
    "# creating a instance of the class i.e, the object\n",
    "x = SimpleClass()   # when object is created contents of the constructor is called automatically"
   ]
  },
  {
   "cell_type": "code",
   "execution_count": 5,
   "metadata": {},
   "outputs": [],
   "source": [
    "class SimpleClass():\n",
    "    def __init__(self):     # initializes the class, acts as a constrcutor, calls when object is created\n",
    "        print(\"hello\")\n",
    "\n",
    "    # The keyword self represents the instance of a class and binds the attributes with the given arguments\n",
    "    # creating a user defined method inside a class\n",
    "    def yell(self):\n",
    "        print(\"Yelling\")"
   ]
  },
  {
   "cell_type": "code",
   "execution_count": 6,
   "metadata": {},
   "outputs": [
    {
     "name": "stdout",
     "output_type": "stream",
     "text": [
      "hello\n",
      "Yelling\n"
     ]
    }
   ],
   "source": [
    "x = SimpleClass()   # object creation, calls the constrcutor __init__()\n",
    "x.yell()            # to access a method of inside a class"
   ]
  },
  {
   "cell_type": "code",
   "execution_count": 7,
   "metadata": {},
   "outputs": [],
   "source": [
    "# using the concept of inheritance\n",
    "class ExtendedClass(SimpleClass):   # pass the parent class to be inherited inside the parantheis\n",
    "        def __init__(self):\n",
    "            print(\"Extend!!!\")"
   ]
  },
  {
   "cell_type": "code",
   "execution_count": 8,
   "metadata": {},
   "outputs": [
    {
     "name": "stdout",
     "output_type": "stream",
     "text": [
      "Extend!!!\n"
     ]
    }
   ],
   "source": [
    "y = ExtendedClass()     # object creation for the inherited class"
   ]
  },
  {
   "cell_type": "code",
   "execution_count": 10,
   "metadata": {},
   "outputs": [
    {
     "name": "stdout",
     "output_type": "stream",
     "text": [
      "Yelling\n"
     ]
    }
   ],
   "source": [
    "y.yell()                # contents of parent class can also be inherited using the object of ExtendedClass"
   ]
  },
  {
   "cell_type": "code",
   "execution_count": 11,
   "metadata": {},
   "outputs": [],
   "source": [
    "# super keyword: it is used to give access to methods and properties of a parent class\n",
    "# as we see here that when instance of a parent class is inherited, we didn't get the hello as output, because it solely belongs to the parent class\n",
    "# So, to access all the contents of the parent class including the __init__(constructor) contents, we use super class\n",
    "\n",
    "class NewClass(SimpleClass):        # inheriting from SimpleClass\n",
    "    def __init__(self):\n",
    "        super().__init__()          # to access all the contents of the parent class\n",
    "        print(\"Extend!!!\")"
   ]
  },
  {
   "cell_type": "code",
   "execution_count": 13,
   "metadata": {},
   "outputs": [
    {
     "name": "stdout",
     "output_type": "stream",
     "text": [
      "hello\n",
      "Extend!!!\n",
      "Yelling\n"
     ]
    }
   ],
   "source": [
    "z = NewClass()\n",
    "z.yell()\n",
    "\n",
    "\n",
    "# now we see that even hello is priniting after using super keyword"
   ]
  },
  {
   "cell_type": "code",
   "execution_count": 14,
   "metadata": {},
   "outputs": [],
   "source": [
    "# Example code:-\n",
    "\n",
    "class Example():\n",
    "    def __init__(self,name):\n",
    "        print(\"Hello \", name)\n",
    "    def method1(self,USN):\n",
    "        print(\"Your USN is \", USN)"
   ]
  },
  {
   "cell_type": "code",
   "execution_count": 17,
   "metadata": {},
   "outputs": [
    {
     "name": "stdout",
     "output_type": "stream",
     "text": [
      "Hello  Mithun\n",
      "Your USN is  19BTRCR006\n"
     ]
    }
   ],
   "source": [
    "obj = Example(\"Mithun\")\n",
    "obj.method1(\"19BTRCR006\")"
   ]
  },
  {
   "cell_type": "code",
   "execution_count": 18,
   "metadata": {},
   "outputs": [
    {
     "data": {
      "text/plain": [
       "__main__.Example"
      ]
     },
     "execution_count": 18,
     "metadata": {},
     "output_type": "execute_result"
    }
   ],
   "source": [
    "type(obj)\n",
    "\n",
    "# from this, we understand that the obj belongss to the type of the class it is created in"
   ]
  }
 ],
 "metadata": {
  "interpreter": {
   "hash": "69eb92836b941e979072a76c7fcfffe5419cca933cedd02cfafbdfca1a93358c"
  },
  "kernelspec": {
   "display_name": "Python 3.9.10 64-bit",
   "language": "python",
   "name": "python3"
  },
  "language_info": {
   "codemirror_mode": {
    "name": "ipython",
    "version": 3
   },
   "file_extension": ".py",
   "mimetype": "text/x-python",
   "name": "python",
   "nbconvert_exporter": "python",
   "pygments_lexer": "ipython3",
   "version": "3.9.10"
  },
  "orig_nbformat": 4
 },
 "nbformat": 4,
 "nbformat_minor": 2
}
