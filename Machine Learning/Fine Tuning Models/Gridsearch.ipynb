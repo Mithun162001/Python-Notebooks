{
 "metadata": {
  "language_info": {
   "codemirror_mode": {
    "name": "ipython",
    "version": 3
   },
   "file_extension": ".py",
   "mimetype": "text/x-python",
   "name": "python",
   "nbconvert_exporter": "python",
   "pygments_lexer": "ipython3",
   "version": "3.7.9"
  },
  "orig_nbformat": 2,
  "kernelspec": {
   "name": "python379jvsc74a57bd00989d4cb382ec003e6ad9ee0079fe5a34620af18f47069c43c62ee5030c1ec77",
   "display_name": "Python 3.7.9 64-bit ('myenv': conda)"
  }
 },
 "nbformat": 4,
 "nbformat_minor": 2,
 "cells": [
  {
   "cell_type": "code",
   "execution_count": 1,
   "metadata": {},
   "outputs": [],
   "source": [
    "import numpy as np\n",
    "import pandas as pd"
   ]
  },
  {
   "cell_type": "code",
   "execution_count": 2,
   "metadata": {},
   "outputs": [],
   "source": [
    "df= pd.read_csv('D:\\Datasets\\diabetes_csv.csv')"
   ]
  },
  {
   "cell_type": "code",
   "execution_count": 3,
   "metadata": {},
   "outputs": [
    {
     "output_type": "execute_result",
     "data": {
      "text/plain": [
       "   preg  plas  pres  skin  insu  mass   pedi  age            class\n",
       "0     6   148    72    35     0  33.6  0.627   50  tested_positive\n",
       "1     1    85    66    29     0  26.6  0.351   31  tested_negative\n",
       "2     8   183    64     0     0  23.3  0.672   32  tested_positive\n",
       "3     1    89    66    23    94  28.1  0.167   21  tested_negative\n",
       "4     0   137    40    35   168  43.1  2.288   33  tested_positive"
      ],
      "text/html": "<div>\n<style scoped>\n    .dataframe tbody tr th:only-of-type {\n        vertical-align: middle;\n    }\n\n    .dataframe tbody tr th {\n        vertical-align: top;\n    }\n\n    .dataframe thead th {\n        text-align: right;\n    }\n</style>\n<table border=\"1\" class=\"dataframe\">\n  <thead>\n    <tr style=\"text-align: right;\">\n      <th></th>\n      <th>preg</th>\n      <th>plas</th>\n      <th>pres</th>\n      <th>skin</th>\n      <th>insu</th>\n      <th>mass</th>\n      <th>pedi</th>\n      <th>age</th>\n      <th>class</th>\n    </tr>\n  </thead>\n  <tbody>\n    <tr>\n      <th>0</th>\n      <td>6</td>\n      <td>148</td>\n      <td>72</td>\n      <td>35</td>\n      <td>0</td>\n      <td>33.6</td>\n      <td>0.627</td>\n      <td>50</td>\n      <td>tested_positive</td>\n    </tr>\n    <tr>\n      <th>1</th>\n      <td>1</td>\n      <td>85</td>\n      <td>66</td>\n      <td>29</td>\n      <td>0</td>\n      <td>26.6</td>\n      <td>0.351</td>\n      <td>31</td>\n      <td>tested_negative</td>\n    </tr>\n    <tr>\n      <th>2</th>\n      <td>8</td>\n      <td>183</td>\n      <td>64</td>\n      <td>0</td>\n      <td>0</td>\n      <td>23.3</td>\n      <td>0.672</td>\n      <td>32</td>\n      <td>tested_positive</td>\n    </tr>\n    <tr>\n      <th>3</th>\n      <td>1</td>\n      <td>89</td>\n      <td>66</td>\n      <td>23</td>\n      <td>94</td>\n      <td>28.1</td>\n      <td>0.167</td>\n      <td>21</td>\n      <td>tested_negative</td>\n    </tr>\n    <tr>\n      <th>4</th>\n      <td>0</td>\n      <td>137</td>\n      <td>40</td>\n      <td>35</td>\n      <td>168</td>\n      <td>43.1</td>\n      <td>2.288</td>\n      <td>33</td>\n      <td>tested_positive</td>\n    </tr>\n  </tbody>\n</table>\n</div>"
     },
     "metadata": {},
     "execution_count": 3
    }
   ],
   "source": [
    "df.head()"
   ]
  },
  {
   "cell_type": "code",
   "execution_count": 4,
   "metadata": {},
   "outputs": [
    {
     "output_type": "execute_result",
     "data": {
      "text/plain": [
       "Index(['preg', 'plas', 'pres', 'skin', 'insu', 'mass', 'pedi', 'age', 'class'], dtype='object')"
      ]
     },
     "metadata": {},
     "execution_count": 4
    }
   ],
   "source": [
    "df.columns"
   ]
  },
  {
   "cell_type": "code",
   "execution_count": 6,
   "metadata": {},
   "outputs": [],
   "source": [
    "X = df[['preg', 'plas', 'pres', 'skin', 'insu', 'mass', 'pedi', 'age']]\n",
    "y = df['class']"
   ]
  },
  {
   "cell_type": "code",
   "execution_count": 7,
   "metadata": {},
   "outputs": [],
   "source": [
    "from sklearn.model_selection import train_test_split\n",
    "X_train, X_test, y_train, y_test = train_test_split(X, y , test_size= 0.3)"
   ]
  },
  {
   "cell_type": "code",
   "execution_count": 8,
   "metadata": {},
   "outputs": [],
   "source": [
    "from sklearn.ensemble import RandomForestClassifier\n",
    "model = RandomForestClassifier()\n",
    "model.fit(X_train, y_train)\n",
    "pred = model.predict(X_test)"
   ]
  },
  {
   "cell_type": "code",
   "execution_count": null,
   "metadata": {},
   "outputs": [],
   "source": [
    "RandomForestClassifier()"
   ]
  },
  {
   "cell_type": "code",
   "execution_count": 9,
   "metadata": {},
   "outputs": [
    {
     "output_type": "stream",
     "name": "stdout",
     "text": [
      "[[130  15]\n [ 41  45]]\n                 precision    recall  f1-score   support\n\ntested_negative       0.76      0.90      0.82       145\ntested_positive       0.75      0.52      0.62        86\n\n       accuracy                           0.76       231\n      macro avg       0.76      0.71      0.72       231\n   weighted avg       0.76      0.76      0.75       231\n\n"
     ]
    }
   ],
   "source": [
    "from sklearn.metrics import classification_report, confusion_matrix\n",
    "print(confusion_matrix(y_test, pred))\n",
    "print(classification_report(y_test, pred))"
   ]
  },
  {
   "cell_type": "code",
   "execution_count": 28,
   "metadata": {},
   "outputs": [],
   "source": [
    "from sklearn.model_selection import GridSearchCV"
   ]
  },
  {
   "cell_type": "code",
   "execution_count": 29,
   "metadata": {},
   "outputs": [],
   "source": [
    "rfc = RandomForestClassifier()"
   ]
  },
  {
   "cell_type": "code",
   "execution_count": 39,
   "metadata": {},
   "outputs": [],
   "source": [
    "param_grid = {'n_estimators':[30,40,100,200,300], 'criterion': ['gini', 'entropy'], 'max_depth':[10,20,30,'None']}"
   ]
  },
  {
   "cell_type": "code",
   "execution_count": 40,
   "metadata": {},
   "outputs": [],
   "source": [
    "grid_search = GridSearchCV(rfc, param_grid, cv=5, verbose=3)"
   ]
  },
  {
   "cell_type": "code",
   "execution_count": 41,
   "metadata": {
    "tags": [
     "outputPrepend"
    ]
   },
   "outputs": [
    {
     "output_type": "stream",
     "name": "stdout",
     "text": [
      "n apply_async\n",
      "    result = ImmediateResult(func)\n",
      "  File \"C:\\Users\\LENOVO\\anaconda3\\envs\\myenv\\lib\\site-packages\\joblib\\_parallel_backends.py\", line 572, in __init__\n",
      "    self.results = batch()\n",
      "  File \"C:\\Users\\LENOVO\\anaconda3\\envs\\myenv\\lib\\site-packages\\joblib\\parallel.py\", line 263, in __call__\n",
      "    for func, args, kwargs in self.items]\n",
      "  File \"C:\\Users\\LENOVO\\anaconda3\\envs\\myenv\\lib\\site-packages\\joblib\\parallel.py\", line 263, in <listcomp>\n",
      "    for func, args, kwargs in self.items]\n",
      "  File \"C:\\Users\\LENOVO\\anaconda3\\envs\\myenv\\lib\\site-packages\\sklearn\\ensemble\\_forest.py\", line 168, in _parallel_build_trees\n",
      "    tree.fit(X, y, sample_weight=curr_sample_weight, check_input=False)\n",
      "  File \"C:\\Users\\LENOVO\\anaconda3\\envs\\myenv\\lib\\site-packages\\sklearn\\tree\\_classes.py\", line 894, in fit\n",
      "    X_idx_sorted=X_idx_sorted)\n",
      "  File \"C:\\Users\\LENOVO\\anaconda3\\envs\\myenv\\lib\\site-packages\\sklearn\\tree\\_classes.py\", line 276, in fit\n",
      "    if max_depth <= 0:\n",
      "TypeError: '<=' not supported between instances of 'str' and 'int'\n",
      "\n",
      "  FitFailedWarning)\n",
      "[CV]  criterion=entropy, max_depth=None, n_estimators=200, score=nan, total=   0.2s\n",
      "[CV] criterion=entropy, max_depth=None, n_estimators=200 .............\n",
      "C:\\Users\\LENOVO\\anaconda3\\envs\\myenv\\lib\\site-packages\\sklearn\\model_selection\\_validation.py:552: FitFailedWarning: Estimator fit failed. The score on this train-test partition for these parameters will be set to nan. Details: \n",
      "Traceback (most recent call last):\n",
      "  File \"C:\\Users\\LENOVO\\anaconda3\\envs\\myenv\\lib\\site-packages\\sklearn\\model_selection\\_validation.py\", line 531, in _fit_and_score\n",
      "    estimator.fit(X_train, y_train, **fit_params)\n",
      "  File \"C:\\Users\\LENOVO\\anaconda3\\envs\\myenv\\lib\\site-packages\\sklearn\\ensemble\\_forest.py\", line 392, in fit\n",
      "    for i, t in enumerate(trees))\n",
      "  File \"C:\\Users\\LENOVO\\anaconda3\\envs\\myenv\\lib\\site-packages\\joblib\\parallel.py\", line 1048, in __call__\n",
      "    if self.dispatch_one_batch(iterator):\n",
      "  File \"C:\\Users\\LENOVO\\anaconda3\\envs\\myenv\\lib\\site-packages\\joblib\\parallel.py\", line 866, in dispatch_one_batch\n",
      "    self._dispatch(tasks)\n",
      "  File \"C:\\Users\\LENOVO\\anaconda3\\envs\\myenv\\lib\\site-packages\\joblib\\parallel.py\", line 784, in _dispatch\n",
      "    job = self._backend.apply_async(batch, callback=cb)\n",
      "  File \"C:\\Users\\LENOVO\\anaconda3\\envs\\myenv\\lib\\site-packages\\joblib\\_parallel_backends.py\", line 208, in apply_async\n",
      "    result = ImmediateResult(func)\n",
      "  File \"C:\\Users\\LENOVO\\anaconda3\\envs\\myenv\\lib\\site-packages\\joblib\\_parallel_backends.py\", line 572, in __init__\n",
      "    self.results = batch()\n",
      "  File \"C:\\Users\\LENOVO\\anaconda3\\envs\\myenv\\lib\\site-packages\\joblib\\parallel.py\", line 263, in __call__\n",
      "    for func, args, kwargs in self.items]\n",
      "  File \"C:\\Users\\LENOVO\\anaconda3\\envs\\myenv\\lib\\site-packages\\joblib\\parallel.py\", line 263, in <listcomp>\n",
      "    for func, args, kwargs in self.items]\n",
      "  File \"C:\\Users\\LENOVO\\anaconda3\\envs\\myenv\\lib\\site-packages\\sklearn\\ensemble\\_forest.py\", line 168, in _parallel_build_trees\n",
      "    tree.fit(X, y, sample_weight=curr_sample_weight, check_input=False)\n",
      "  File \"C:\\Users\\LENOVO\\anaconda3\\envs\\myenv\\lib\\site-packages\\sklearn\\tree\\_classes.py\", line 894, in fit\n",
      "    X_idx_sorted=X_idx_sorted)\n",
      "  File \"C:\\Users\\LENOVO\\anaconda3\\envs\\myenv\\lib\\site-packages\\sklearn\\tree\\_classes.py\", line 276, in fit\n",
      "    if max_depth <= 0:\n",
      "TypeError: '<=' not supported between instances of 'str' and 'int'\n",
      "\n",
      "  FitFailedWarning)\n",
      "[CV]  criterion=entropy, max_depth=None, n_estimators=200, score=nan, total=   0.2s\n",
      "[CV] criterion=entropy, max_depth=None, n_estimators=200 .............\n",
      "C:\\Users\\LENOVO\\anaconda3\\envs\\myenv\\lib\\site-packages\\sklearn\\model_selection\\_validation.py:552: FitFailedWarning: Estimator fit failed. The score on this train-test partition for these parameters will be set to nan. Details: \n",
      "Traceback (most recent call last):\n",
      "  File \"C:\\Users\\LENOVO\\anaconda3\\envs\\myenv\\lib\\site-packages\\sklearn\\model_selection\\_validation.py\", line 531, in _fit_and_score\n",
      "    estimator.fit(X_train, y_train, **fit_params)\n",
      "  File \"C:\\Users\\LENOVO\\anaconda3\\envs\\myenv\\lib\\site-packages\\sklearn\\ensemble\\_forest.py\", line 392, in fit\n",
      "    for i, t in enumerate(trees))\n",
      "  File \"C:\\Users\\LENOVO\\anaconda3\\envs\\myenv\\lib\\site-packages\\joblib\\parallel.py\", line 1048, in __call__\n",
      "    if self.dispatch_one_batch(iterator):\n",
      "  File \"C:\\Users\\LENOVO\\anaconda3\\envs\\myenv\\lib\\site-packages\\joblib\\parallel.py\", line 866, in dispatch_one_batch\n",
      "    self._dispatch(tasks)\n",
      "  File \"C:\\Users\\LENOVO\\anaconda3\\envs\\myenv\\lib\\site-packages\\joblib\\parallel.py\", line 784, in _dispatch\n",
      "    job = self._backend.apply_async(batch, callback=cb)\n",
      "  File \"C:\\Users\\LENOVO\\anaconda3\\envs\\myenv\\lib\\site-packages\\joblib\\_parallel_backends.py\", line 208, in apply_async\n",
      "    result = ImmediateResult(func)\n",
      "  File \"C:\\Users\\LENOVO\\anaconda3\\envs\\myenv\\lib\\site-packages\\joblib\\_parallel_backends.py\", line 572, in __init__\n",
      "    self.results = batch()\n",
      "  File \"C:\\Users\\LENOVO\\anaconda3\\envs\\myenv\\lib\\site-packages\\joblib\\parallel.py\", line 263, in __call__\n",
      "    for func, args, kwargs in self.items]\n",
      "  File \"C:\\Users\\LENOVO\\anaconda3\\envs\\myenv\\lib\\site-packages\\joblib\\parallel.py\", line 263, in <listcomp>\n",
      "    for func, args, kwargs in self.items]\n",
      "  File \"C:\\Users\\LENOVO\\anaconda3\\envs\\myenv\\lib\\site-packages\\sklearn\\ensemble\\_forest.py\", line 168, in _parallel_build_trees\n",
      "    tree.fit(X, y, sample_weight=curr_sample_weight, check_input=False)\n",
      "  File \"C:\\Users\\LENOVO\\anaconda3\\envs\\myenv\\lib\\site-packages\\sklearn\\tree\\_classes.py\", line 894, in fit\n",
      "    X_idx_sorted=X_idx_sorted)\n",
      "  File \"C:\\Users\\LENOVO\\anaconda3\\envs\\myenv\\lib\\site-packages\\sklearn\\tree\\_classes.py\", line 276, in fit\n",
      "    if max_depth <= 0:\n",
      "TypeError: '<=' not supported between instances of 'str' and 'int'\n",
      "\n",
      "  FitFailedWarning)\n",
      "[CV]  criterion=entropy, max_depth=None, n_estimators=200, score=nan, total=   0.2s\n",
      "[CV] criterion=entropy, max_depth=None, n_estimators=200 .............\n",
      "C:\\Users\\LENOVO\\anaconda3\\envs\\myenv\\lib\\site-packages\\sklearn\\model_selection\\_validation.py:552: FitFailedWarning: Estimator fit failed. The score on this train-test partition for these parameters will be set to nan. Details: \n",
      "Traceback (most recent call last):\n",
      "  File \"C:\\Users\\LENOVO\\anaconda3\\envs\\myenv\\lib\\site-packages\\sklearn\\model_selection\\_validation.py\", line 531, in _fit_and_score\n",
      "    estimator.fit(X_train, y_train, **fit_params)\n",
      "  File \"C:\\Users\\LENOVO\\anaconda3\\envs\\myenv\\lib\\site-packages\\sklearn\\ensemble\\_forest.py\", line 392, in fit\n",
      "    for i, t in enumerate(trees))\n",
      "  File \"C:\\Users\\LENOVO\\anaconda3\\envs\\myenv\\lib\\site-packages\\joblib\\parallel.py\", line 1048, in __call__\n",
      "    if self.dispatch_one_batch(iterator):\n",
      "  File \"C:\\Users\\LENOVO\\anaconda3\\envs\\myenv\\lib\\site-packages\\joblib\\parallel.py\", line 866, in dispatch_one_batch\n",
      "    self._dispatch(tasks)\n",
      "  File \"C:\\Users\\LENOVO\\anaconda3\\envs\\myenv\\lib\\site-packages\\joblib\\parallel.py\", line 784, in _dispatch\n",
      "    job = self._backend.apply_async(batch, callback=cb)\n",
      "  File \"C:\\Users\\LENOVO\\anaconda3\\envs\\myenv\\lib\\site-packages\\joblib\\_parallel_backends.py\", line 208, in apply_async\n",
      "    result = ImmediateResult(func)\n",
      "  File \"C:\\Users\\LENOVO\\anaconda3\\envs\\myenv\\lib\\site-packages\\joblib\\_parallel_backends.py\", line 572, in __init__\n",
      "    self.results = batch()\n",
      "  File \"C:\\Users\\LENOVO\\anaconda3\\envs\\myenv\\lib\\site-packages\\joblib\\parallel.py\", line 263, in __call__\n",
      "    for func, args, kwargs in self.items]\n",
      "  File \"C:\\Users\\LENOVO\\anaconda3\\envs\\myenv\\lib\\site-packages\\joblib\\parallel.py\", line 263, in <listcomp>\n",
      "    for func, args, kwargs in self.items]\n",
      "  File \"C:\\Users\\LENOVO\\anaconda3\\envs\\myenv\\lib\\site-packages\\sklearn\\ensemble\\_forest.py\", line 168, in _parallel_build_trees\n",
      "    tree.fit(X, y, sample_weight=curr_sample_weight, check_input=False)\n",
      "  File \"C:\\Users\\LENOVO\\anaconda3\\envs\\myenv\\lib\\site-packages\\sklearn\\tree\\_classes.py\", line 894, in fit\n",
      "    X_idx_sorted=X_idx_sorted)\n",
      "  File \"C:\\Users\\LENOVO\\anaconda3\\envs\\myenv\\lib\\site-packages\\sklearn\\tree\\_classes.py\", line 276, in fit\n",
      "    if max_depth <= 0:\n",
      "TypeError: '<=' not supported between instances of 'str' and 'int'\n",
      "\n",
      "  FitFailedWarning)\n",
      "[CV]  criterion=entropy, max_depth=None, n_estimators=200, score=nan, total=   0.2s\n",
      "[CV] criterion=entropy, max_depth=None, n_estimators=300 .............\n",
      "C:\\Users\\LENOVO\\anaconda3\\envs\\myenv\\lib\\site-packages\\sklearn\\model_selection\\_validation.py:552: FitFailedWarning: Estimator fit failed. The score on this train-test partition for these parameters will be set to nan. Details: \n",
      "Traceback (most recent call last):\n",
      "  File \"C:\\Users\\LENOVO\\anaconda3\\envs\\myenv\\lib\\site-packages\\sklearn\\model_selection\\_validation.py\", line 531, in _fit_and_score\n",
      "    estimator.fit(X_train, y_train, **fit_params)\n",
      "  File \"C:\\Users\\LENOVO\\anaconda3\\envs\\myenv\\lib\\site-packages\\sklearn\\ensemble\\_forest.py\", line 392, in fit\n",
      "    for i, t in enumerate(trees))\n",
      "  File \"C:\\Users\\LENOVO\\anaconda3\\envs\\myenv\\lib\\site-packages\\joblib\\parallel.py\", line 1048, in __call__\n",
      "    if self.dispatch_one_batch(iterator):\n",
      "  File \"C:\\Users\\LENOVO\\anaconda3\\envs\\myenv\\lib\\site-packages\\joblib\\parallel.py\", line 866, in dispatch_one_batch\n",
      "    self._dispatch(tasks)\n",
      "  File \"C:\\Users\\LENOVO\\anaconda3\\envs\\myenv\\lib\\site-packages\\joblib\\parallel.py\", line 784, in _dispatch\n",
      "    job = self._backend.apply_async(batch, callback=cb)\n",
      "  File \"C:\\Users\\LENOVO\\anaconda3\\envs\\myenv\\lib\\site-packages\\joblib\\_parallel_backends.py\", line 208, in apply_async\n",
      "    result = ImmediateResult(func)\n",
      "  File \"C:\\Users\\LENOVO\\anaconda3\\envs\\myenv\\lib\\site-packages\\joblib\\_parallel_backends.py\", line 572, in __init__\n",
      "    self.results = batch()\n",
      "  File \"C:\\Users\\LENOVO\\anaconda3\\envs\\myenv\\lib\\site-packages\\joblib\\parallel.py\", line 263, in __call__\n",
      "    for func, args, kwargs in self.items]\n",
      "  File \"C:\\Users\\LENOVO\\anaconda3\\envs\\myenv\\lib\\site-packages\\joblib\\parallel.py\", line 263, in <listcomp>\n",
      "    for func, args, kwargs in self.items]\n",
      "  File \"C:\\Users\\LENOVO\\anaconda3\\envs\\myenv\\lib\\site-packages\\sklearn\\ensemble\\_forest.py\", line 168, in _parallel_build_trees\n",
      "    tree.fit(X, y, sample_weight=curr_sample_weight, check_input=False)\n",
      "  File \"C:\\Users\\LENOVO\\anaconda3\\envs\\myenv\\lib\\site-packages\\sklearn\\tree\\_classes.py\", line 894, in fit\n",
      "    X_idx_sorted=X_idx_sorted)\n",
      "  File \"C:\\Users\\LENOVO\\anaconda3\\envs\\myenv\\lib\\site-packages\\sklearn\\tree\\_classes.py\", line 276, in fit\n",
      "    if max_depth <= 0:\n",
      "TypeError: '<=' not supported between instances of 'str' and 'int'\n",
      "\n",
      "  FitFailedWarning)\n",
      "[CV]  criterion=entropy, max_depth=None, n_estimators=300, score=nan, total=   0.3s\n",
      "[CV] criterion=entropy, max_depth=None, n_estimators=300 .............\n",
      "C:\\Users\\LENOVO\\anaconda3\\envs\\myenv\\lib\\site-packages\\sklearn\\model_selection\\_validation.py:552: FitFailedWarning: Estimator fit failed. The score on this train-test partition for these parameters will be set to nan. Details: \n",
      "Traceback (most recent call last):\n",
      "  File \"C:\\Users\\LENOVO\\anaconda3\\envs\\myenv\\lib\\site-packages\\sklearn\\model_selection\\_validation.py\", line 531, in _fit_and_score\n",
      "    estimator.fit(X_train, y_train, **fit_params)\n",
      "  File \"C:\\Users\\LENOVO\\anaconda3\\envs\\myenv\\lib\\site-packages\\sklearn\\ensemble\\_forest.py\", line 392, in fit\n",
      "    for i, t in enumerate(trees))\n",
      "  File \"C:\\Users\\LENOVO\\anaconda3\\envs\\myenv\\lib\\site-packages\\joblib\\parallel.py\", line 1048, in __call__\n",
      "    if self.dispatch_one_batch(iterator):\n",
      "  File \"C:\\Users\\LENOVO\\anaconda3\\envs\\myenv\\lib\\site-packages\\joblib\\parallel.py\", line 866, in dispatch_one_batch\n",
      "    self._dispatch(tasks)\n",
      "  File \"C:\\Users\\LENOVO\\anaconda3\\envs\\myenv\\lib\\site-packages\\joblib\\parallel.py\", line 784, in _dispatch\n",
      "    job = self._backend.apply_async(batch, callback=cb)\n",
      "  File \"C:\\Users\\LENOVO\\anaconda3\\envs\\myenv\\lib\\site-packages\\joblib\\_parallel_backends.py\", line 208, in apply_async\n",
      "    result = ImmediateResult(func)\n",
      "  File \"C:\\Users\\LENOVO\\anaconda3\\envs\\myenv\\lib\\site-packages\\joblib\\_parallel_backends.py\", line 572, in __init__\n",
      "    self.results = batch()\n",
      "  File \"C:\\Users\\LENOVO\\anaconda3\\envs\\myenv\\lib\\site-packages\\joblib\\parallel.py\", line 263, in __call__\n",
      "    for func, args, kwargs in self.items]\n",
      "  File \"C:\\Users\\LENOVO\\anaconda3\\envs\\myenv\\lib\\site-packages\\joblib\\parallel.py\", line 263, in <listcomp>\n",
      "    for func, args, kwargs in self.items]\n",
      "  File \"C:\\Users\\LENOVO\\anaconda3\\envs\\myenv\\lib\\site-packages\\sklearn\\ensemble\\_forest.py\", line 168, in _parallel_build_trees\n",
      "    tree.fit(X, y, sample_weight=curr_sample_weight, check_input=False)\n",
      "  File \"C:\\Users\\LENOVO\\anaconda3\\envs\\myenv\\lib\\site-packages\\sklearn\\tree\\_classes.py\", line 894, in fit\n",
      "    X_idx_sorted=X_idx_sorted)\n",
      "  File \"C:\\Users\\LENOVO\\anaconda3\\envs\\myenv\\lib\\site-packages\\sklearn\\tree\\_classes.py\", line 276, in fit\n",
      "    if max_depth <= 0:\n",
      "TypeError: '<=' not supported between instances of 'str' and 'int'\n",
      "\n",
      "  FitFailedWarning)\n",
      "[CV]  criterion=entropy, max_depth=None, n_estimators=300, score=nan, total=   0.3s\n",
      "[CV] criterion=entropy, max_depth=None, n_estimators=300 .............\n",
      "C:\\Users\\LENOVO\\anaconda3\\envs\\myenv\\lib\\site-packages\\sklearn\\model_selection\\_validation.py:552: FitFailedWarning: Estimator fit failed. The score on this train-test partition for these parameters will be set to nan. Details: \n",
      "Traceback (most recent call last):\n",
      "  File \"C:\\Users\\LENOVO\\anaconda3\\envs\\myenv\\lib\\site-packages\\sklearn\\model_selection\\_validation.py\", line 531, in _fit_and_score\n",
      "    estimator.fit(X_train, y_train, **fit_params)\n",
      "  File \"C:\\Users\\LENOVO\\anaconda3\\envs\\myenv\\lib\\site-packages\\sklearn\\ensemble\\_forest.py\", line 392, in fit\n",
      "    for i, t in enumerate(trees))\n",
      "  File \"C:\\Users\\LENOVO\\anaconda3\\envs\\myenv\\lib\\site-packages\\joblib\\parallel.py\", line 1048, in __call__\n",
      "    if self.dispatch_one_batch(iterator):\n",
      "  File \"C:\\Users\\LENOVO\\anaconda3\\envs\\myenv\\lib\\site-packages\\joblib\\parallel.py\", line 866, in dispatch_one_batch\n",
      "    self._dispatch(tasks)\n",
      "  File \"C:\\Users\\LENOVO\\anaconda3\\envs\\myenv\\lib\\site-packages\\joblib\\parallel.py\", line 784, in _dispatch\n",
      "    job = self._backend.apply_async(batch, callback=cb)\n",
      "  File \"C:\\Users\\LENOVO\\anaconda3\\envs\\myenv\\lib\\site-packages\\joblib\\_parallel_backends.py\", line 208, in apply_async\n",
      "    result = ImmediateResult(func)\n",
      "  File \"C:\\Users\\LENOVO\\anaconda3\\envs\\myenv\\lib\\site-packages\\joblib\\_parallel_backends.py\", line 572, in __init__\n",
      "    self.results = batch()\n",
      "  File \"C:\\Users\\LENOVO\\anaconda3\\envs\\myenv\\lib\\site-packages\\joblib\\parallel.py\", line 263, in __call__\n",
      "    for func, args, kwargs in self.items]\n",
      "  File \"C:\\Users\\LENOVO\\anaconda3\\envs\\myenv\\lib\\site-packages\\joblib\\parallel.py\", line 263, in <listcomp>\n",
      "    for func, args, kwargs in self.items]\n",
      "  File \"C:\\Users\\LENOVO\\anaconda3\\envs\\myenv\\lib\\site-packages\\sklearn\\ensemble\\_forest.py\", line 168, in _parallel_build_trees\n",
      "    tree.fit(X, y, sample_weight=curr_sample_weight, check_input=False)\n",
      "  File \"C:\\Users\\LENOVO\\anaconda3\\envs\\myenv\\lib\\site-packages\\sklearn\\tree\\_classes.py\", line 894, in fit\n",
      "    X_idx_sorted=X_idx_sorted)\n",
      "  File \"C:\\Users\\LENOVO\\anaconda3\\envs\\myenv\\lib\\site-packages\\sklearn\\tree\\_classes.py\", line 276, in fit\n",
      "    if max_depth <= 0:\n",
      "TypeError: '<=' not supported between instances of 'str' and 'int'\n",
      "\n",
      "  FitFailedWarning)\n",
      "[CV]  criterion=entropy, max_depth=None, n_estimators=300, score=nan, total=   0.3s\n",
      "[CV] criterion=entropy, max_depth=None, n_estimators=300 .............\n",
      "C:\\Users\\LENOVO\\anaconda3\\envs\\myenv\\lib\\site-packages\\sklearn\\model_selection\\_validation.py:552: FitFailedWarning: Estimator fit failed. The score on this train-test partition for these parameters will be set to nan. Details: \n",
      "Traceback (most recent call last):\n",
      "  File \"C:\\Users\\LENOVO\\anaconda3\\envs\\myenv\\lib\\site-packages\\sklearn\\model_selection\\_validation.py\", line 531, in _fit_and_score\n",
      "    estimator.fit(X_train, y_train, **fit_params)\n",
      "  File \"C:\\Users\\LENOVO\\anaconda3\\envs\\myenv\\lib\\site-packages\\sklearn\\ensemble\\_forest.py\", line 392, in fit\n",
      "    for i, t in enumerate(trees))\n",
      "  File \"C:\\Users\\LENOVO\\anaconda3\\envs\\myenv\\lib\\site-packages\\joblib\\parallel.py\", line 1048, in __call__\n",
      "    if self.dispatch_one_batch(iterator):\n",
      "  File \"C:\\Users\\LENOVO\\anaconda3\\envs\\myenv\\lib\\site-packages\\joblib\\parallel.py\", line 866, in dispatch_one_batch\n",
      "    self._dispatch(tasks)\n",
      "  File \"C:\\Users\\LENOVO\\anaconda3\\envs\\myenv\\lib\\site-packages\\joblib\\parallel.py\", line 784, in _dispatch\n",
      "    job = self._backend.apply_async(batch, callback=cb)\n",
      "  File \"C:\\Users\\LENOVO\\anaconda3\\envs\\myenv\\lib\\site-packages\\joblib\\_parallel_backends.py\", line 208, in apply_async\n",
      "    result = ImmediateResult(func)\n",
      "  File \"C:\\Users\\LENOVO\\anaconda3\\envs\\myenv\\lib\\site-packages\\joblib\\_parallel_backends.py\", line 572, in __init__\n",
      "    self.results = batch()\n",
      "  File \"C:\\Users\\LENOVO\\anaconda3\\envs\\myenv\\lib\\site-packages\\joblib\\parallel.py\", line 263, in __call__\n",
      "    for func, args, kwargs in self.items]\n",
      "  File \"C:\\Users\\LENOVO\\anaconda3\\envs\\myenv\\lib\\site-packages\\joblib\\parallel.py\", line 263, in <listcomp>\n",
      "    for func, args, kwargs in self.items]\n",
      "  File \"C:\\Users\\LENOVO\\anaconda3\\envs\\myenv\\lib\\site-packages\\sklearn\\ensemble\\_forest.py\", line 168, in _parallel_build_trees\n",
      "    tree.fit(X, y, sample_weight=curr_sample_weight, check_input=False)\n",
      "  File \"C:\\Users\\LENOVO\\anaconda3\\envs\\myenv\\lib\\site-packages\\sklearn\\tree\\_classes.py\", line 894, in fit\n",
      "    X_idx_sorted=X_idx_sorted)\n",
      "  File \"C:\\Users\\LENOVO\\anaconda3\\envs\\myenv\\lib\\site-packages\\sklearn\\tree\\_classes.py\", line 276, in fit\n",
      "    if max_depth <= 0:\n",
      "TypeError: '<=' not supported between instances of 'str' and 'int'\n",
      "\n",
      "  FitFailedWarning)\n",
      "[CV]  criterion=entropy, max_depth=None, n_estimators=300, score=nan, total=   0.4s\n",
      "[CV] criterion=entropy, max_depth=None, n_estimators=300 .............\n",
      "C:\\Users\\LENOVO\\anaconda3\\envs\\myenv\\lib\\site-packages\\sklearn\\model_selection\\_validation.py:552: FitFailedWarning: Estimator fit failed. The score on this train-test partition for these parameters will be set to nan. Details: \n",
      "Traceback (most recent call last):\n",
      "  File \"C:\\Users\\LENOVO\\anaconda3\\envs\\myenv\\lib\\site-packages\\sklearn\\model_selection\\_validation.py\", line 531, in _fit_and_score\n",
      "    estimator.fit(X_train, y_train, **fit_params)\n",
      "  File \"C:\\Users\\LENOVO\\anaconda3\\envs\\myenv\\lib\\site-packages\\sklearn\\ensemble\\_forest.py\", line 392, in fit\n",
      "    for i, t in enumerate(trees))\n",
      "  File \"C:\\Users\\LENOVO\\anaconda3\\envs\\myenv\\lib\\site-packages\\joblib\\parallel.py\", line 1048, in __call__\n",
      "    if self.dispatch_one_batch(iterator):\n",
      "  File \"C:\\Users\\LENOVO\\anaconda3\\envs\\myenv\\lib\\site-packages\\joblib\\parallel.py\", line 866, in dispatch_one_batch\n",
      "    self._dispatch(tasks)\n",
      "  File \"C:\\Users\\LENOVO\\anaconda3\\envs\\myenv\\lib\\site-packages\\joblib\\parallel.py\", line 784, in _dispatch\n",
      "    job = self._backend.apply_async(batch, callback=cb)\n",
      "  File \"C:\\Users\\LENOVO\\anaconda3\\envs\\myenv\\lib\\site-packages\\joblib\\_parallel_backends.py\", line 208, in apply_async\n",
      "    result = ImmediateResult(func)\n",
      "  File \"C:\\Users\\LENOVO\\anaconda3\\envs\\myenv\\lib\\site-packages\\joblib\\_parallel_backends.py\", line 572, in __init__\n",
      "    self.results = batch()\n",
      "  File \"C:\\Users\\LENOVO\\anaconda3\\envs\\myenv\\lib\\site-packages\\joblib\\parallel.py\", line 263, in __call__\n",
      "    for func, args, kwargs in self.items]\n",
      "  File \"C:\\Users\\LENOVO\\anaconda3\\envs\\myenv\\lib\\site-packages\\joblib\\parallel.py\", line 263, in <listcomp>\n",
      "    for func, args, kwargs in self.items]\n",
      "  File \"C:\\Users\\LENOVO\\anaconda3\\envs\\myenv\\lib\\site-packages\\sklearn\\ensemble\\_forest.py\", line 168, in _parallel_build_trees\n",
      "    tree.fit(X, y, sample_weight=curr_sample_weight, check_input=False)\n",
      "  File \"C:\\Users\\LENOVO\\anaconda3\\envs\\myenv\\lib\\site-packages\\sklearn\\tree\\_classes.py\", line 894, in fit\n",
      "    X_idx_sorted=X_idx_sorted)\n",
      "  File \"C:\\Users\\LENOVO\\anaconda3\\envs\\myenv\\lib\\site-packages\\sklearn\\tree\\_classes.py\", line 276, in fit\n",
      "    if max_depth <= 0:\n",
      "TypeError: '<=' not supported between instances of 'str' and 'int'\n",
      "\n",
      "  FitFailedWarning)\n",
      "[Parallel(n_jobs=1)]: Done 280 out of 280 | elapsed:  1.7min finished\n",
      "[CV]  criterion=entropy, max_depth=None, n_estimators=300, score=nan, total=   0.3s\n"
     ]
    },
    {
     "output_type": "execute_result",
     "data": {
      "text/plain": [
       "GridSearchCV(cv=5, estimator=RandomForestClassifier(),\n",
       "             param_grid={'criterion': ['gini', 'entropy'],\n",
       "                         'max_depth': [10, 20, 30, 'None'],\n",
       "                         'n_estimators': [10, 20, 30, 40, 100, 200, 300]},\n",
       "             verbose=3)"
      ]
     },
     "metadata": {},
     "execution_count": 41
    }
   ],
   "source": [
    "grid_search.fit(X_train, y_train)"
   ]
  },
  {
   "cell_type": "code",
   "execution_count": 42,
   "metadata": {},
   "outputs": [
    {
     "output_type": "execute_result",
     "data": {
      "text/plain": [
       "{'criterion': 'entropy', 'max_depth': 30, 'n_estimators': 40}"
      ]
     },
     "metadata": {},
     "execution_count": 42
    }
   ],
   "source": [
    "grid_search.best_params_"
   ]
  },
  {
   "cell_type": "code",
   "execution_count": 43,
   "metadata": {},
   "outputs": [],
   "source": [
    "grid_pred = grid_search.predict(X_test)"
   ]
  },
  {
   "cell_type": "code",
   "execution_count": 44,
   "metadata": {},
   "outputs": [
    {
     "output_type": "stream",
     "name": "stdout",
     "text": [
      "                 precision    recall  f1-score   support\n\ntested_negative       0.77      0.92      0.84       145\ntested_positive       0.80      0.55      0.65        86\n\n       accuracy                           0.78       231\n      macro avg       0.78      0.73      0.74       231\n   weighted avg       0.78      0.78      0.77       231\n\n"
     ]
    }
   ],
   "source": [
    "print(classification_report(y_test, grid_pred))"
   ]
  },
  {
   "cell_type": "code",
   "execution_count": 45,
   "metadata": {},
   "outputs": [],
   "source": [
    "from sklearn.neighbors import KNeighborsClassifier\n",
    "knn = KNeighborsClassifier()"
   ]
  },
  {
   "cell_type": "code",
   "execution_count": 80,
   "metadata": {},
   "outputs": [],
   "source": [
    "param_grid = {'n_neighbors':[1,5,6,7,8,9,10,11,12], 'leaf_size':[1,2,3,4,5], 'p': [1,2]}"
   ]
  },
  {
   "cell_type": "code",
   "execution_count": 81,
   "metadata": {},
   "outputs": [],
   "source": [
    "knn_grid = GridSearchCV(knn, param_grid, cv=5, verbose=5)"
   ]
  },
  {
   "cell_type": "code",
   "execution_count": 82,
   "metadata": {
    "tags": [
     "outputPrepend"
    ]
   },
   "outputs": [
    {
     "output_type": "stream",
     "name": "stdout",
     "text": [
      "4, n_neighbors=7, p=2, score=0.757, total=   0.0s\n",
      "[CV] leaf_size=4, n_neighbors=8, p=1 .................................\n",
      "[CV] ..... leaf_size=4, n_neighbors=8, p=1, score=0.806, total=   0.0s\n",
      "[CV] leaf_size=4, n_neighbors=8, p=1 .................................\n",
      "[CV] ..... leaf_size=4, n_neighbors=8, p=1, score=0.806, total=   0.0s\n",
      "[CV] leaf_size=4, n_neighbors=8, p=1 .................................\n",
      "[CV] ..... leaf_size=4, n_neighbors=8, p=1, score=0.729, total=   0.0s\n",
      "[CV] leaf_size=4, n_neighbors=8, p=1 .................................\n",
      "[CV] ..... leaf_size=4, n_neighbors=8, p=1, score=0.776, total=   0.0s\n",
      "[CV] leaf_size=4, n_neighbors=8, p=1 .................................\n",
      "[CV] ..... leaf_size=4, n_neighbors=8, p=1, score=0.766, total=   0.0s\n",
      "[CV] leaf_size=4, n_neighbors=8, p=2 .................................\n",
      "[CV] ..... leaf_size=4, n_neighbors=8, p=2, score=0.778, total=   0.0s\n",
      "[CV] leaf_size=4, n_neighbors=8, p=2 .................................\n",
      "[CV] ..... leaf_size=4, n_neighbors=8, p=2, score=0.778, total=   0.0s\n",
      "[CV] leaf_size=4, n_neighbors=8, p=2 .................................\n",
      "[CV] ..... leaf_size=4, n_neighbors=8, p=2, score=0.738, total=   0.0s\n",
      "[CV] leaf_size=4, n_neighbors=8, p=2 .................................\n",
      "[CV] ..... leaf_size=4, n_neighbors=8, p=2, score=0.748, total=   0.0s\n",
      "[CV] leaf_size=4, n_neighbors=8, p=2 .................................\n",
      "[CV] ..... leaf_size=4, n_neighbors=8, p=2, score=0.757, total=   0.0s\n",
      "[CV] leaf_size=4, n_neighbors=9, p=1 .................................\n",
      "[CV] ..... leaf_size=4, n_neighbors=9, p=1, score=0.769, total=   0.0s\n",
      "[CV] leaf_size=4, n_neighbors=9, p=1 .................................\n",
      "[CV] ..... leaf_size=4, n_neighbors=9, p=1, score=0.769, total=   0.0s\n",
      "[CV] leaf_size=4, n_neighbors=9, p=1 .................................\n",
      "[CV] ..... leaf_size=4, n_neighbors=9, p=1, score=0.748, total=   0.0s\n",
      "[CV] leaf_size=4, n_neighbors=9, p=1 .................................\n",
      "[CV] ..... leaf_size=4, n_neighbors=9, p=1, score=0.766, total=   0.0s\n",
      "[CV] leaf_size=4, n_neighbors=9, p=1 .................................\n",
      "[CV] ..... leaf_size=4, n_neighbors=9, p=1, score=0.729, total=   0.0s\n",
      "[CV] leaf_size=4, n_neighbors=9, p=2 .................................\n",
      "[CV] ..... leaf_size=4, n_neighbors=9, p=2, score=0.759, total=   0.0s\n",
      "[CV] leaf_size=4, n_neighbors=9, p=2 .................................\n",
      "[CV] ..... leaf_size=4, n_neighbors=9, p=2, score=0.741, total=   0.0s\n",
      "[CV] leaf_size=4, n_neighbors=9, p=2 .................................\n",
      "[CV] ..... leaf_size=4, n_neighbors=9, p=2, score=0.748, total=   0.0s\n",
      "[CV] leaf_size=4, n_neighbors=9, p=2 .................................\n",
      "[CV] ..... leaf_size=4, n_neighbors=9, p=2, score=0.748, total=   0.0s\n",
      "[CV] leaf_size=4, n_neighbors=9, p=2 .................................\n",
      "[CV] ..... leaf_size=4, n_neighbors=9, p=2, score=0.785, total=   0.0s\n",
      "[CV] leaf_size=4, n_neighbors=10, p=1 ................................\n",
      "[CV] .... leaf_size=4, n_neighbors=10, p=1, score=0.741, total=   0.0s\n",
      "[CV] leaf_size=4, n_neighbors=10, p=1 ................................\n",
      "[CV] .... leaf_size=4, n_neighbors=10, p=1, score=0.750, total=   0.0s\n",
      "[CV] leaf_size=4, n_neighbors=10, p=1 ................................\n",
      "[CV] .... leaf_size=4, n_neighbors=10, p=1, score=0.748, total=   0.0s\n",
      "[CV] leaf_size=4, n_neighbors=10, p=1 ................................\n",
      "[CV] .... leaf_size=4, n_neighbors=10, p=1, score=0.738, total=   0.0s\n",
      "[CV] leaf_size=4, n_neighbors=10, p=1 ................................\n",
      "[CV] .... leaf_size=4, n_neighbors=10, p=1, score=0.776, total=   0.0s\n",
      "[CV] leaf_size=4, n_neighbors=10, p=2 ................................\n",
      "[CV] .... leaf_size=4, n_neighbors=10, p=2, score=0.750, total=   0.0s\n",
      "[CV] leaf_size=4, n_neighbors=10, p=2 ................................\n",
      "[CV] .... leaf_size=4, n_neighbors=10, p=2, score=0.769, total=   0.0s\n",
      "[CV] leaf_size=4, n_neighbors=10, p=2 ................................\n",
      "[CV] .... leaf_size=4, n_neighbors=10, p=2, score=0.748, total=   0.0s\n",
      "[CV] leaf_size=4, n_neighbors=10, p=2 ................................\n",
      "[CV] .... leaf_size=4, n_neighbors=10, p=2, score=0.738, total=   0.0s\n",
      "[CV] leaf_size=4, n_neighbors=10, p=2 ................................\n",
      "[CV] .... leaf_size=4, n_neighbors=10, p=2, score=0.766, total=   0.0s\n",
      "[CV] leaf_size=4, n_neighbors=11, p=1 ................................\n",
      "[CV] .... leaf_size=4, n_neighbors=11, p=1, score=0.778, total=   0.0s\n",
      "[CV] leaf_size=4, n_neighbors=11, p=1 ................................\n",
      "[CV] .... leaf_size=4, n_neighbors=11, p=1, score=0.759, total=   0.0s\n",
      "[CV] leaf_size=4, n_neighbors=11, p=1 ................................\n",
      "[CV] .... leaf_size=4, n_neighbors=11, p=1, score=0.748, total=   0.0s\n",
      "[CV] leaf_size=4, n_neighbors=11, p=1 ................................\n",
      "[CV] .... leaf_size=4, n_neighbors=11, p=1, score=0.720, total=   0.0s\n",
      "[CV] leaf_size=4, n_neighbors=11, p=1 ................................\n",
      "[CV] .... leaf_size=4, n_neighbors=11, p=1, score=0.776, total=   0.0s\n",
      "[CV] leaf_size=4, n_neighbors=11, p=2 ................................\n",
      "[CV] .... leaf_size=4, n_neighbors=11, p=2, score=0.741, total=   0.0s\n",
      "[CV] leaf_size=4, n_neighbors=11, p=2 ................................\n",
      "[CV] .... leaf_size=4, n_neighbors=11, p=2, score=0.741, total=   0.0s\n",
      "[CV] leaf_size=4, n_neighbors=11, p=2 ................................\n",
      "[CV] .... leaf_size=4, n_neighbors=11, p=2, score=0.748, total=   0.0s\n",
      "[CV] leaf_size=4, n_neighbors=11, p=2 ................................\n",
      "[CV] .... leaf_size=4, n_neighbors=11, p=2, score=0.729, total=   0.0s\n",
      "[CV] leaf_size=4, n_neighbors=11, p=2 ................................\n",
      "[CV] .... leaf_size=4, n_neighbors=11, p=2, score=0.766, total=   0.0s\n",
      "[CV] leaf_size=4, n_neighbors=12, p=1 ................................\n",
      "[CV] .... leaf_size=4, n_neighbors=12, p=1, score=0.759, total=   0.0s\n",
      "[CV] leaf_size=4, n_neighbors=12, p=1 ................................\n",
      "[CV] .... leaf_size=4, n_neighbors=12, p=1, score=0.759, total=   0.0s\n",
      "[CV] leaf_size=4, n_neighbors=12, p=1 ................................\n",
      "[CV] .... leaf_size=4, n_neighbors=12, p=1, score=0.757, total=   0.0s\n",
      "[CV] leaf_size=4, n_neighbors=12, p=1 ................................\n",
      "[CV] .... leaf_size=4, n_neighbors=12, p=1, score=0.720, total=   0.0s\n",
      "[CV] leaf_size=4, n_neighbors=12, p=1 ................................\n",
      "[CV] .... leaf_size=4, n_neighbors=12, p=1, score=0.785, total=   0.0s\n",
      "[CV] leaf_size=4, n_neighbors=12, p=2 ................................\n",
      "[CV] .... leaf_size=4, n_neighbors=12, p=2, score=0.722, total=   0.0s\n",
      "[CV] leaf_size=4, n_neighbors=12, p=2 ................................\n",
      "[CV] .... leaf_size=4, n_neighbors=12, p=2, score=0.759, total=   0.0s\n",
      "[CV] leaf_size=4, n_neighbors=12, p=2 ................................\n",
      "[CV] .... leaf_size=4, n_neighbors=12, p=2, score=0.729, total=   0.0s\n",
      "[CV] leaf_size=4, n_neighbors=12, p=2 ................................\n",
      "[CV] .... leaf_size=4, n_neighbors=12, p=2, score=0.738, total=   0.0s\n",
      "[CV] leaf_size=4, n_neighbors=12, p=2 ................................\n",
      "[CV] .... leaf_size=4, n_neighbors=12, p=2, score=0.757, total=   0.0s\n",
      "[CV] leaf_size=5, n_neighbors=1, p=1 .................................\n",
      "[CV] ..... leaf_size=5, n_neighbors=1, p=1, score=0.713, total=   0.0s\n",
      "[CV] leaf_size=5, n_neighbors=1, p=1 .................................\n",
      "[CV] ..... leaf_size=5, n_neighbors=1, p=1, score=0.713, total=   0.0s\n",
      "[CV] leaf_size=5, n_neighbors=1, p=1 .................................\n",
      "[CV] ..... leaf_size=5, n_neighbors=1, p=1, score=0.682, total=   0.0s\n",
      "[CV] leaf_size=5, n_neighbors=1, p=1 .................................\n",
      "[CV] ..... leaf_size=5, n_neighbors=1, p=1, score=0.626, total=   0.0s\n",
      "[CV] leaf_size=5, n_neighbors=1, p=1 .................................\n",
      "[CV] ..... leaf_size=5, n_neighbors=1, p=1, score=0.645, total=   0.0s\n",
      "[CV] leaf_size=5, n_neighbors=1, p=2 .................................\n",
      "[CV] ..... leaf_size=5, n_neighbors=1, p=2, score=0.676, total=   0.0s\n",
      "[CV] leaf_size=5, n_neighbors=1, p=2 .................................\n",
      "[CV] ..... leaf_size=5, n_neighbors=1, p=2, score=0.704, total=   0.0s\n",
      "[CV] leaf_size=5, n_neighbors=1, p=2 .................................\n",
      "[CV] ..... leaf_size=5, n_neighbors=1, p=2, score=0.692, total=   0.0s\n",
      "[CV] leaf_size=5, n_neighbors=1, p=2 .................................\n",
      "[CV] ..... leaf_size=5, n_neighbors=1, p=2, score=0.626, total=   0.0s\n",
      "[CV] leaf_size=5, n_neighbors=1, p=2 .................................\n",
      "[CV] ..... leaf_size=5, n_neighbors=1, p=2, score=0.636, total=   0.0s\n",
      "[CV] leaf_size=5, n_neighbors=5, p=1 .................................\n",
      "[CV] ..... leaf_size=5, n_neighbors=5, p=1, score=0.787, total=   0.0s\n",
      "[CV] leaf_size=5, n_neighbors=5, p=1 .................................\n",
      "[CV] ..... leaf_size=5, n_neighbors=5, p=1, score=0.731, total=   0.0s\n",
      "[CV] leaf_size=5, n_neighbors=5, p=1 .................................\n",
      "[CV] ..... leaf_size=5, n_neighbors=5, p=1, score=0.692, total=   0.0s\n",
      "[CV] leaf_size=5, n_neighbors=5, p=1 .................................\n",
      "[CV] ..... leaf_size=5, n_neighbors=5, p=1, score=0.776, total=   0.0s\n",
      "[CV] leaf_size=5, n_neighbors=5, p=1 .................................\n",
      "[CV] ..... leaf_size=5, n_neighbors=5, p=1, score=0.720, total=   0.0s\n",
      "[CV] leaf_size=5, n_neighbors=5, p=2 .................................\n",
      "[CV] ..... leaf_size=5, n_neighbors=5, p=2, score=0.787, total=   0.0s\n",
      "[CV] leaf_size=5, n_neighbors=5, p=2 .................................\n",
      "[CV] ..... leaf_size=5, n_neighbors=5, p=2, score=0.722, total=   0.0s\n",
      "[CV] leaf_size=5, n_neighbors=5, p=2 .................................\n",
      "[CV] ..... leaf_size=5, n_neighbors=5, p=2, score=0.692, total=   0.0s\n",
      "[CV] leaf_size=5, n_neighbors=5, p=2 .................................\n",
      "[CV] ..... leaf_size=5, n_neighbors=5, p=2, score=0.720, total=   0.0s\n",
      "[CV] leaf_size=5, n_neighbors=5, p=2 .................................\n",
      "[CV] ..... leaf_size=5, n_neighbors=5, p=2, score=0.757, total=   0.0s\n",
      "[CV] leaf_size=5, n_neighbors=6, p=1 .................................\n",
      "[CV] ..... leaf_size=5, n_neighbors=6, p=1, score=0.778, total=   0.0s\n",
      "[CV] leaf_size=5, n_neighbors=6, p=1 .................................\n",
      "[CV] ..... leaf_size=5, n_neighbors=6, p=1, score=0.769, total=   0.0s\n",
      "[CV] leaf_size=5, n_neighbors=6, p=1 .................................\n",
      "[CV] ..... leaf_size=5, n_neighbors=6, p=1, score=0.729, total=   0.0s\n",
      "[CV] leaf_size=5, n_neighbors=6, p=1 .................................\n",
      "[CV] ..... leaf_size=5, n_neighbors=6, p=1, score=0.748, total=   0.0s\n",
      "[CV] leaf_size=5, n_neighbors=6, p=1 .................................\n",
      "[CV] ..... leaf_size=5, n_neighbors=6, p=1, score=0.729, total=   0.0s\n",
      "[CV] leaf_size=5, n_neighbors=6, p=2 .................................\n",
      "[CV] ..... leaf_size=5, n_neighbors=6, p=2, score=0.787, total=   0.0s\n",
      "[CV] leaf_size=5, n_neighbors=6, p=2 .................................\n",
      "[CV] ..... leaf_size=5, n_neighbors=6, p=2, score=0.741, total=   0.0s\n",
      "[CV] leaf_size=5, n_neighbors=6, p=2 .................................\n",
      "[CV] ..... leaf_size=5, n_neighbors=6, p=2, score=0.710, total=   0.0s\n",
      "[CV] leaf_size=5, n_neighbors=6, p=2 .................................\n",
      "[CV] ..... leaf_size=5, n_neighbors=6, p=2, score=0.738, total=   0.0s\n",
      "[CV] leaf_size=5, n_neighbors=6, p=2 .................................\n",
      "[CV] ..... leaf_size=5, n_neighbors=6, p=2, score=0.776, total=   0.0s\n",
      "[CV] leaf_size=5, n_neighbors=7, p=1 .................................\n",
      "[CV] ..... leaf_size=5, n_neighbors=7, p=1, score=0.769, total=   0.0s\n",
      "[CV] leaf_size=5, n_neighbors=7, p=1 .................................\n",
      "[CV] ..... leaf_size=5, n_neighbors=7, p=1, score=0.769, total=   0.0s\n",
      "[CV] leaf_size=5, n_neighbors=7, p=1 .................................\n",
      "[CV] ..... leaf_size=5, n_neighbors=7, p=1, score=0.729, total=   0.0s\n",
      "[CV] leaf_size=5, n_neighbors=7, p=1 .................................\n",
      "[CV] ..... leaf_size=5, n_neighbors=7, p=1, score=0.776, total=   0.0s\n",
      "[CV] leaf_size=5, n_neighbors=7, p=1 .................................\n",
      "[CV] ..... leaf_size=5, n_neighbors=7, p=1, score=0.729, total=   0.0s\n",
      "[CV] leaf_size=5, n_neighbors=7, p=2 .................................\n",
      "[CV] ..... leaf_size=5, n_neighbors=7, p=2, score=0.759, total=   0.0s\n",
      "[CV] leaf_size=5, n_neighbors=7, p=2 .................................\n",
      "[CV] ..... leaf_size=5, n_neighbors=7, p=2, score=0.731, total=   0.0s\n",
      "[CV] leaf_size=5, n_neighbors=7, p=2 .................................\n",
      "[CV] ..... leaf_size=5, n_neighbors=7, p=2, score=0.738, total=   0.0s\n",
      "[CV] leaf_size=5, n_neighbors=7, p=2 .................................\n",
      "[CV] ..... leaf_size=5, n_neighbors=7, p=2, score=0.729, total=   0.0s\n",
      "[CV] leaf_size=5, n_neighbors=7, p=2 .................................\n",
      "[CV] ..... leaf_size=5, n_neighbors=7, p=2, score=0.757, total=   0.0s\n",
      "[CV] leaf_size=5, n_neighbors=8, p=1 .................................\n",
      "[CV] ..... leaf_size=5, n_neighbors=8, p=1, score=0.806, total=   0.0s\n",
      "[CV] leaf_size=5, n_neighbors=8, p=1 .................................\n",
      "[CV] ..... leaf_size=5, n_neighbors=8, p=1, score=0.806, total=   0.0s\n",
      "[CV] leaf_size=5, n_neighbors=8, p=1 .................................\n",
      "[CV] ..... leaf_size=5, n_neighbors=8, p=1, score=0.729, total=   0.0s\n",
      "[CV] leaf_size=5, n_neighbors=8, p=1 .................................\n",
      "[CV] ..... leaf_size=5, n_neighbors=8, p=1, score=0.776, total=   0.0s\n",
      "[CV] leaf_size=5, n_neighbors=8, p=1 .................................\n",
      "[CV] ..... leaf_size=5, n_neighbors=8, p=1, score=0.766, total=   0.0s\n",
      "[CV] leaf_size=5, n_neighbors=8, p=2 .................................\n",
      "[CV] ..... leaf_size=5, n_neighbors=8, p=2, score=0.778, total=   0.0s\n",
      "[CV] leaf_size=5, n_neighbors=8, p=2 .................................\n",
      "[CV] ..... leaf_size=5, n_neighbors=8, p=2, score=0.778, total=   0.0s\n",
      "[CV] leaf_size=5, n_neighbors=8, p=2 .................................\n",
      "[CV] ..... leaf_size=5, n_neighbors=8, p=2, score=0.738, total=   0.0s\n",
      "[CV] leaf_size=5, n_neighbors=8, p=2 .................................\n",
      "[CV] ..... leaf_size=5, n_neighbors=8, p=2, score=0.748, total=   0.0s\n",
      "[CV] leaf_size=5, n_neighbors=8, p=2 .................................\n",
      "[CV] ..... leaf_size=5, n_neighbors=8, p=2, score=0.757, total=   0.0s\n",
      "[CV] leaf_size=5, n_neighbors=9, p=1 .................................\n",
      "[CV] ..... leaf_size=5, n_neighbors=9, p=1, score=0.769, total=   0.0s\n",
      "[CV] leaf_size=5, n_neighbors=9, p=1 .................................\n",
      "[CV] ..... leaf_size=5, n_neighbors=9, p=1, score=0.769, total=   0.0s\n",
      "[CV] leaf_size=5, n_neighbors=9, p=1 .................................\n",
      "[CV] ..... leaf_size=5, n_neighbors=9, p=1, score=0.748, total=   0.0s\n",
      "[CV] leaf_size=5, n_neighbors=9, p=1 .................................\n",
      "[CV] ..... leaf_size=5, n_neighbors=9, p=1, score=0.766, total=   0.0s\n",
      "[CV] leaf_size=5, n_neighbors=9, p=1 .................................\n",
      "[CV] ..... leaf_size=5, n_neighbors=9, p=1, score=0.729, total=   0.0s\n",
      "[CV] leaf_size=5, n_neighbors=9, p=2 .................................\n",
      "[CV] ..... leaf_size=5, n_neighbors=9, p=2, score=0.759, total=   0.0s\n",
      "[CV] leaf_size=5, n_neighbors=9, p=2 .................................\n",
      "[CV] ..... leaf_size=5, n_neighbors=9, p=2, score=0.741, total=   0.0s\n",
      "[CV] leaf_size=5, n_neighbors=9, p=2 .................................\n",
      "[CV] ..... leaf_size=5, n_neighbors=9, p=2, score=0.748, total=   0.0s\n",
      "[CV] leaf_size=5, n_neighbors=9, p=2 .................................\n",
      "[CV] ..... leaf_size=5, n_neighbors=9, p=2, score=0.748, total=   0.0s\n",
      "[CV] leaf_size=5, n_neighbors=9, p=2 .................................\n",
      "[CV] ..... leaf_size=5, n_neighbors=9, p=2, score=0.785, total=   0.0s\n",
      "[CV] leaf_size=5, n_neighbors=10, p=1 ................................\n",
      "[CV] .... leaf_size=5, n_neighbors=10, p=1, score=0.741, total=   0.0s\n",
      "[CV] leaf_size=5, n_neighbors=10, p=1 ................................\n",
      "[CV] .... leaf_size=5, n_neighbors=10, p=1, score=0.750, total=   0.0s\n",
      "[CV] leaf_size=5, n_neighbors=10, p=1 ................................\n",
      "[CV] .... leaf_size=5, n_neighbors=10, p=1, score=0.748, total=   0.0s\n",
      "[CV] leaf_size=5, n_neighbors=10, p=1 ................................\n",
      "[CV] .... leaf_size=5, n_neighbors=10, p=1, score=0.738, total=   0.0s\n",
      "[CV] leaf_size=5, n_neighbors=10, p=1 ................................\n",
      "[CV] .... leaf_size=5, n_neighbors=10, p=1, score=0.776, total=   0.0s\n",
      "[CV] leaf_size=5, n_neighbors=10, p=2 ................................\n",
      "[CV] .... leaf_size=5, n_neighbors=10, p=2, score=0.750, total=   0.0s\n",
      "[CV] leaf_size=5, n_neighbors=10, p=2 ................................\n",
      "[CV] .... leaf_size=5, n_neighbors=10, p=2, score=0.769, total=   0.0s\n",
      "[CV] leaf_size=5, n_neighbors=10, p=2 ................................\n",
      "[CV] .... leaf_size=5, n_neighbors=10, p=2, score=0.748, total=   0.0s\n",
      "[CV] leaf_size=5, n_neighbors=10, p=2 ................................\n",
      "[CV] .... leaf_size=5, n_neighbors=10, p=2, score=0.738, total=   0.0s\n",
      "[CV] leaf_size=5, n_neighbors=10, p=2 ................................\n",
      "[CV] .... leaf_size=5, n_neighbors=10, p=2, score=0.766, total=   0.0s\n",
      "[CV] leaf_size=5, n_neighbors=11, p=1 ................................\n",
      "[CV] .... leaf_size=5, n_neighbors=11, p=1, score=0.778, total=   0.0s\n",
      "[CV] leaf_size=5, n_neighbors=11, p=1 ................................\n",
      "[CV] .... leaf_size=5, n_neighbors=11, p=1, score=0.759, total=   0.0s\n",
      "[CV] leaf_size=5, n_neighbors=11, p=1 ................................\n",
      "[CV] .... leaf_size=5, n_neighbors=11, p=1, score=0.748, total=   0.0s\n",
      "[CV] leaf_size=5, n_neighbors=11, p=1 ................................\n",
      "[CV] .... leaf_size=5, n_neighbors=11, p=1, score=0.720, total=   0.0s\n",
      "[CV] leaf_size=5, n_neighbors=11, p=1 ................................\n",
      "[CV] .... leaf_size=5, n_neighbors=11, p=1, score=0.776, total=   0.0s\n",
      "[CV] leaf_size=5, n_neighbors=11, p=2 ................................\n",
      "[CV] .... leaf_size=5, n_neighbors=11, p=2, score=0.741, total=   0.0s\n",
      "[CV] leaf_size=5, n_neighbors=11, p=2 ................................\n",
      "[CV] .... leaf_size=5, n_neighbors=11, p=2, score=0.741, total=   0.0s\n",
      "[CV] leaf_size=5, n_neighbors=11, p=2 ................................\n",
      "[CV] .... leaf_size=5, n_neighbors=11, p=2, score=0.748, total=   0.0s\n",
      "[CV] leaf_size=5, n_neighbors=11, p=2 ................................\n",
      "[CV] .... leaf_size=5, n_neighbors=11, p=2, score=0.729, total=   0.0s\n",
      "[CV] leaf_size=5, n_neighbors=11, p=2 ................................\n",
      "[CV] .... leaf_size=5, n_neighbors=11, p=2, score=0.766, total=   0.0s\n",
      "[CV] leaf_size=5, n_neighbors=12, p=1 ................................\n",
      "[CV] .... leaf_size=5, n_neighbors=12, p=1, score=0.759, total=   0.0s\n",
      "[CV] leaf_size=5, n_neighbors=12, p=1 ................................\n",
      "[CV] .... leaf_size=5, n_neighbors=12, p=1, score=0.759, total=   0.0s\n",
      "[CV] leaf_size=5, n_neighbors=12, p=1 ................................\n",
      "[CV] .... leaf_size=5, n_neighbors=12, p=1, score=0.757, total=   0.0s\n",
      "[CV] leaf_size=5, n_neighbors=12, p=1 ................................\n",
      "[CV] .... leaf_size=5, n_neighbors=12, p=1, score=0.720, total=   0.0s\n",
      "[CV] leaf_size=5, n_neighbors=12, p=1 ................................\n",
      "[CV] .... leaf_size=5, n_neighbors=12, p=1, score=0.785, total=   0.0s\n",
      "[CV] leaf_size=5, n_neighbors=12, p=2 ................................\n",
      "[CV] .... leaf_size=5, n_neighbors=12, p=2, score=0.722, total=   0.0s\n",
      "[CV] leaf_size=5, n_neighbors=12, p=2 ................................\n",
      "[CV] .... leaf_size=5, n_neighbors=12, p=2, score=0.759, total=   0.0s\n",
      "[CV] leaf_size=5, n_neighbors=12, p=2 ................................\n",
      "[CV] .... leaf_size=5, n_neighbors=12, p=2, score=0.729, total=   0.0s\n",
      "[CV] leaf_size=5, n_neighbors=12, p=2 ................................\n",
      "[CV] .... leaf_size=5, n_neighbors=12, p=2, score=0.738, total=   0.0s\n",
      "[CV] leaf_size=5, n_neighbors=12, p=2 ................................\n",
      "[CV] .... leaf_size=5, n_neighbors=12, p=2, score=0.757, total=   0.0s\n",
      "[Parallel(n_jobs=1)]: Done 450 out of 450 | elapsed:   10.1s finished\n"
     ]
    },
    {
     "output_type": "execute_result",
     "data": {
      "text/plain": [
       "GridSearchCV(cv=5, estimator=KNeighborsClassifier(),\n",
       "             param_grid={'leaf_size': [1, 2, 3, 4, 5],\n",
       "                         'n_neighbors': [1, 5, 6, 7, 8, 9, 10, 11, 12],\n",
       "                         'p': [1, 2]},\n",
       "             verbose=5)"
      ]
     },
     "metadata": {},
     "execution_count": 82
    }
   ],
   "source": [
    "knn_grid.fit(X_train,y_train)"
   ]
  },
  {
   "cell_type": "code",
   "execution_count": 83,
   "metadata": {},
   "outputs": [
    {
     "output_type": "execute_result",
     "data": {
      "text/plain": [
       "KNeighborsClassifier(leaf_size=1, n_neighbors=8, p=1)"
      ]
     },
     "metadata": {},
     "execution_count": 83
    }
   ],
   "source": [
    "knn_grid.best_estimator_"
   ]
  },
  {
   "cell_type": "code",
   "execution_count": 84,
   "metadata": {},
   "outputs": [
    {
     "output_type": "execute_result",
     "data": {
      "text/plain": [
       "{'leaf_size': 1, 'n_neighbors': 8, 'p': 1}"
      ]
     },
     "metadata": {},
     "execution_count": 84
    }
   ],
   "source": [
    "knn_grid.best_params_"
   ]
  },
  {
   "cell_type": "code",
   "execution_count": 85,
   "metadata": {},
   "outputs": [],
   "source": [
    "knn_predict= knn_grid.predict(X_test)"
   ]
  },
  {
   "cell_type": "code",
   "execution_count": 86,
   "metadata": {},
   "outputs": [
    {
     "output_type": "stream",
     "name": "stdout",
     "text": [
      "                 precision    recall  f1-score   support\n\ntested_negative       0.73      0.91      0.81       145\ntested_positive       0.73      0.42      0.53        86\n\n       accuracy                           0.73       231\n      macro avg       0.73      0.66      0.67       231\n   weighted avg       0.73      0.73      0.71       231\n\n"
     ]
    }
   ],
   "source": [
    "print(classification_report(y_test, knn_predict))"
   ]
  }
 ]
}