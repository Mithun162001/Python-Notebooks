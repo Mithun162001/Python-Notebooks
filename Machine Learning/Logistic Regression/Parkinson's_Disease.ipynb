{
  "nbformat": 4,
  "nbformat_minor": 0,
  "metadata": {
    "colab": {
      "name": "Parkinson's Disease.ipynb",
      "provenance": [],
      "collapsed_sections": []
    },
    "kernelspec": {
      "name": "python3",
      "display_name": "Python 3"
    },
    "language_info": {
      "name": "python"
    }
  },
  "cells": [
    {
      "cell_type": "markdown",
      "metadata": {
        "id": "E6ejny00quzu"
      },
      "source": [
        "# PARKINSON'S DISEASE ANALYSIS AND CLASSIFICATION"
      ]
    },
    {
      "cell_type": "markdown",
      "metadata": {
        "id": "5OkeA8jLrNou"
      },
      "source": [
        "Since there is no definitive laboratory test to diagnose PD, diagnosis is often difficult, particularly in the early stages when motor effects are not yet severe. Monitoring progression of the disease over time requires repeated clinic visits by the patient. An effective screening process, particularly one that doesn’t require a clinic visit, would be beneficial. Since PD patients exhibit characteristic vocal features, voice recordings are a useful and non-invasive tool for diagnosis. If machine learning algorithms could be applied to a voice recording dataset to accurately diagnosis PD, this would be an effective screening step prior to an appointment with a clinician"
      ]
    },
    {
      "cell_type": "code",
      "metadata": {
        "id": "MLRKhrO-qtC7"
      },
      "source": [
        "# Importing libraries\n",
        "import numpy as np\n",
        "import pandas as pd\n",
        "import seaborn as sns\n",
        "import matplotlib.pyplot as plt\n",
        "%matplotlib inline"
      ],
      "execution_count": 2,
      "outputs": []
    },
    {
      "cell_type": "code",
      "metadata": {
        "colab": {
          "resources": {
            "http://localhost:8080/nbextensions/google.colab/files.js": {
              "data": "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",
              "ok": true,
              "headers": [
                [
                  "content-type",
                  "application/javascript"
                ]
              ],
              "status": 200,
              "status_text": ""
            }
          },
          "base_uri": "https://localhost:8080/",
          "height": 56
        },
        "id": "iTI6XGksra9a",
        "outputId": "b2684439-a120-4c94-903c-c61719af7584"
      },
      "source": [
        "from google.colab import files\n",
        "uploaded = files.upload()"
      ],
      "execution_count": 3,
      "outputs": [
        {
          "output_type": "display_data",
          "data": {
            "text/html": [
              "\n",
              "     <input type=\"file\" id=\"files-184ade40-572d-48a6-8444-9123e08822e9\" name=\"files[]\" multiple disabled\n",
              "        style=\"border:none\" />\n",
              "     <output id=\"result-184ade40-572d-48a6-8444-9123e08822e9\">\n",
              "      Upload widget is only available when the cell has been executed in the\n",
              "      current browser session. Please rerun this cell to enable.\n",
              "      </output>\n",
              "      <script src=\"/nbextensions/google.colab/files.js\"></script> "
            ],
            "text/plain": [
              "<IPython.core.display.HTML object>"
            ]
          },
          "metadata": {
            "tags": []
          }
        },
        {
          "output_type": "stream",
          "text": [
            "Saving datasets_410614_786211_parkinsons.csv to datasets_410614_786211_parkinsons (1).csv\n"
          ],
          "name": "stdout"
        }
      ]
    },
    {
      "cell_type": "code",
      "metadata": {
        "colab": {
          "base_uri": "https://localhost:8080/",
          "height": 215
        },
        "id": "VIoy4B9Orqev",
        "outputId": "9a3d1d99-5c68-41cc-f21e-8346e5b7d167"
      },
      "source": [
        "# we store the csv file in a dataframe\n",
        "df= pd.read_csv('datasets_410614_786211_parkinsons.csv')\n",
        "df[:5]"
      ],
      "execution_count": 4,
      "outputs": [
        {
          "output_type": "execute_result",
          "data": {
            "text/html": [
              "<div>\n",
              "<style scoped>\n",
              "    .dataframe tbody tr th:only-of-type {\n",
              "        vertical-align: middle;\n",
              "    }\n",
              "\n",
              "    .dataframe tbody tr th {\n",
              "        vertical-align: top;\n",
              "    }\n",
              "\n",
              "    .dataframe thead th {\n",
              "        text-align: right;\n",
              "    }\n",
              "</style>\n",
              "<table border=\"1\" class=\"dataframe\">\n",
              "  <thead>\n",
              "    <tr style=\"text-align: right;\">\n",
              "      <th></th>\n",
              "      <th>name</th>\n",
              "      <th>MDVP:Fo(Hz)</th>\n",
              "      <th>MDVP:Fhi(Hz)</th>\n",
              "      <th>MDVP:Flo(Hz)</th>\n",
              "      <th>MDVP:Jitter(%)</th>\n",
              "      <th>MDVP:Jitter(Abs)</th>\n",
              "      <th>MDVP:RAP</th>\n",
              "      <th>MDVP:PPQ</th>\n",
              "      <th>Jitter:DDP</th>\n",
              "      <th>MDVP:Shimmer</th>\n",
              "      <th>MDVP:Shimmer(dB)</th>\n",
              "      <th>Shimmer:APQ3</th>\n",
              "      <th>Shimmer:APQ5</th>\n",
              "      <th>MDVP:APQ</th>\n",
              "      <th>Shimmer:DDA</th>\n",
              "      <th>NHR</th>\n",
              "      <th>HNR</th>\n",
              "      <th>status</th>\n",
              "      <th>RPDE</th>\n",
              "      <th>DFA</th>\n",
              "      <th>spread1</th>\n",
              "      <th>spread2</th>\n",
              "      <th>D2</th>\n",
              "      <th>PPE</th>\n",
              "    </tr>\n",
              "  </thead>\n",
              "  <tbody>\n",
              "    <tr>\n",
              "      <th>0</th>\n",
              "      <td>phon_R01_S01_1</td>\n",
              "      <td>119.992</td>\n",
              "      <td>157.302</td>\n",
              "      <td>74.997</td>\n",
              "      <td>0.00784</td>\n",
              "      <td>0.00007</td>\n",
              "      <td>0.00370</td>\n",
              "      <td>0.00554</td>\n",
              "      <td>0.01109</td>\n",
              "      <td>0.04374</td>\n",
              "      <td>0.426</td>\n",
              "      <td>0.02182</td>\n",
              "      <td>0.03130</td>\n",
              "      <td>0.02971</td>\n",
              "      <td>0.06545</td>\n",
              "      <td>0.02211</td>\n",
              "      <td>21.033</td>\n",
              "      <td>1</td>\n",
              "      <td>0.414783</td>\n",
              "      <td>0.815285</td>\n",
              "      <td>-4.813031</td>\n",
              "      <td>0.266482</td>\n",
              "      <td>2.301442</td>\n",
              "      <td>0.284654</td>\n",
              "    </tr>\n",
              "    <tr>\n",
              "      <th>1</th>\n",
              "      <td>phon_R01_S01_2</td>\n",
              "      <td>122.400</td>\n",
              "      <td>148.650</td>\n",
              "      <td>113.819</td>\n",
              "      <td>0.00968</td>\n",
              "      <td>0.00008</td>\n",
              "      <td>0.00465</td>\n",
              "      <td>0.00696</td>\n",
              "      <td>0.01394</td>\n",
              "      <td>0.06134</td>\n",
              "      <td>0.626</td>\n",
              "      <td>0.03134</td>\n",
              "      <td>0.04518</td>\n",
              "      <td>0.04368</td>\n",
              "      <td>0.09403</td>\n",
              "      <td>0.01929</td>\n",
              "      <td>19.085</td>\n",
              "      <td>1</td>\n",
              "      <td>0.458359</td>\n",
              "      <td>0.819521</td>\n",
              "      <td>-4.075192</td>\n",
              "      <td>0.335590</td>\n",
              "      <td>2.486855</td>\n",
              "      <td>0.368674</td>\n",
              "    </tr>\n",
              "    <tr>\n",
              "      <th>2</th>\n",
              "      <td>phon_R01_S01_3</td>\n",
              "      <td>116.682</td>\n",
              "      <td>131.111</td>\n",
              "      <td>111.555</td>\n",
              "      <td>0.01050</td>\n",
              "      <td>0.00009</td>\n",
              "      <td>0.00544</td>\n",
              "      <td>0.00781</td>\n",
              "      <td>0.01633</td>\n",
              "      <td>0.05233</td>\n",
              "      <td>0.482</td>\n",
              "      <td>0.02757</td>\n",
              "      <td>0.03858</td>\n",
              "      <td>0.03590</td>\n",
              "      <td>0.08270</td>\n",
              "      <td>0.01309</td>\n",
              "      <td>20.651</td>\n",
              "      <td>1</td>\n",
              "      <td>0.429895</td>\n",
              "      <td>0.825288</td>\n",
              "      <td>-4.443179</td>\n",
              "      <td>0.311173</td>\n",
              "      <td>2.342259</td>\n",
              "      <td>0.332634</td>\n",
              "    </tr>\n",
              "    <tr>\n",
              "      <th>3</th>\n",
              "      <td>phon_R01_S01_4</td>\n",
              "      <td>116.676</td>\n",
              "      <td>137.871</td>\n",
              "      <td>111.366</td>\n",
              "      <td>0.00997</td>\n",
              "      <td>0.00009</td>\n",
              "      <td>0.00502</td>\n",
              "      <td>0.00698</td>\n",
              "      <td>0.01505</td>\n",
              "      <td>0.05492</td>\n",
              "      <td>0.517</td>\n",
              "      <td>0.02924</td>\n",
              "      <td>0.04005</td>\n",
              "      <td>0.03772</td>\n",
              "      <td>0.08771</td>\n",
              "      <td>0.01353</td>\n",
              "      <td>20.644</td>\n",
              "      <td>1</td>\n",
              "      <td>0.434969</td>\n",
              "      <td>0.819235</td>\n",
              "      <td>-4.117501</td>\n",
              "      <td>0.334147</td>\n",
              "      <td>2.405554</td>\n",
              "      <td>0.368975</td>\n",
              "    </tr>\n",
              "    <tr>\n",
              "      <th>4</th>\n",
              "      <td>phon_R01_S01_5</td>\n",
              "      <td>116.014</td>\n",
              "      <td>141.781</td>\n",
              "      <td>110.655</td>\n",
              "      <td>0.01284</td>\n",
              "      <td>0.00011</td>\n",
              "      <td>0.00655</td>\n",
              "      <td>0.00908</td>\n",
              "      <td>0.01966</td>\n",
              "      <td>0.06425</td>\n",
              "      <td>0.584</td>\n",
              "      <td>0.03490</td>\n",
              "      <td>0.04825</td>\n",
              "      <td>0.04465</td>\n",
              "      <td>0.10470</td>\n",
              "      <td>0.01767</td>\n",
              "      <td>19.649</td>\n",
              "      <td>1</td>\n",
              "      <td>0.417356</td>\n",
              "      <td>0.823484</td>\n",
              "      <td>-3.747787</td>\n",
              "      <td>0.234513</td>\n",
              "      <td>2.332180</td>\n",
              "      <td>0.410335</td>\n",
              "    </tr>\n",
              "  </tbody>\n",
              "</table>\n",
              "</div>"
            ],
            "text/plain": [
              "             name  MDVP:Fo(Hz)  MDVP:Fhi(Hz)  ...   spread2        D2       PPE\n",
              "0  phon_R01_S01_1      119.992       157.302  ...  0.266482  2.301442  0.284654\n",
              "1  phon_R01_S01_2      122.400       148.650  ...  0.335590  2.486855  0.368674\n",
              "2  phon_R01_S01_3      116.682       131.111  ...  0.311173  2.342259  0.332634\n",
              "3  phon_R01_S01_4      116.676       137.871  ...  0.334147  2.405554  0.368975\n",
              "4  phon_R01_S01_5      116.014       141.781  ...  0.234513  2.332180  0.410335\n",
              "\n",
              "[5 rows x 24 columns]"
            ]
          },
          "metadata": {
            "tags": []
          },
          "execution_count": 4
        }
      ]
    },
    {
      "cell_type": "markdown",
      "metadata": {
        "id": "4MAqFNQMr9rf"
      },
      "source": [
        "Attribute Information:\n",
        "\n",
        "* name - ASCII subject name and recording number\n",
        "* MDVP:Fo(Hz) - Average vocal fundamental frequency\n",
        "* MDVP:Fhi(Hz) - Maximum vocal fundamental frequency\n",
        "* MDVP:Flo(Hz) - Minimum vocal fundamental frequency\n",
        "* MDVP:Jitter(%),\n",
        "* MDVP:Jitter(Abs),\n",
        "* MDVP:RAP,MDVP:PPQ,\n",
        "* Jitter:DDP - Several measures of variation in fundamental frequency\n",
        "* MDVP:Shimmer,MDVP:Shimmer(dB),\n",
        "* Shimmer:APQ3,\n",
        "* Shimmer:APQ5,\n",
        "* MDVP:APQ,Shimmer:DDA - Several measures of variation in amplitude\n",
        "* NHR,HNR - Two measures of ratio of noise to tonal components in the voice\n",
        "* status - Health status of the subject (one) - Parkinson's, (zero) - healthy\n",
        "* RPDE,D2 - Two nonlinear dynamical complexity measures\n",
        "* DFA - Signal fractal scaling exponent\n",
        "spread1,spread2,\n",
        "* PPE - Three nonlinear measures of fundamental frequency\n",
        "variation 9. \n",
        "* car name: string (unique for each instance)"
      ]
    },
    {
      "cell_type": "code",
      "metadata": {
        "colab": {
          "base_uri": "https://localhost:8080/"
        },
        "id": "upcdmVnAr8jb",
        "outputId": "73e3ffb8-c07b-40e7-e3d9-b86351c3b655"
      },
      "source": [
        "df.info()"
      ],
      "execution_count": 5,
      "outputs": [
        {
          "output_type": "stream",
          "text": [
            "<class 'pandas.core.frame.DataFrame'>\n",
            "RangeIndex: 195 entries, 0 to 194\n",
            "Data columns (total 24 columns):\n",
            " #   Column            Non-Null Count  Dtype  \n",
            "---  ------            --------------  -----  \n",
            " 0   name              195 non-null    object \n",
            " 1   MDVP:Fo(Hz)       195 non-null    float64\n",
            " 2   MDVP:Fhi(Hz)      195 non-null    float64\n",
            " 3   MDVP:Flo(Hz)      195 non-null    float64\n",
            " 4   MDVP:Jitter(%)    195 non-null    float64\n",
            " 5   MDVP:Jitter(Abs)  195 non-null    float64\n",
            " 6   MDVP:RAP          195 non-null    float64\n",
            " 7   MDVP:PPQ          195 non-null    float64\n",
            " 8   Jitter:DDP        195 non-null    float64\n",
            " 9   MDVP:Shimmer      195 non-null    float64\n",
            " 10  MDVP:Shimmer(dB)  195 non-null    float64\n",
            " 11  Shimmer:APQ3      195 non-null    float64\n",
            " 12  Shimmer:APQ5      195 non-null    float64\n",
            " 13  MDVP:APQ          195 non-null    float64\n",
            " 14  Shimmer:DDA       195 non-null    float64\n",
            " 15  NHR               195 non-null    float64\n",
            " 16  HNR               195 non-null    float64\n",
            " 17  status            195 non-null    int64  \n",
            " 18  RPDE              195 non-null    float64\n",
            " 19  DFA               195 non-null    float64\n",
            " 20  spread1           195 non-null    float64\n",
            " 21  spread2           195 non-null    float64\n",
            " 22  D2                195 non-null    float64\n",
            " 23  PPE               195 non-null    float64\n",
            "dtypes: float64(22), int64(1), object(1)\n",
            "memory usage: 36.7+ KB\n"
          ],
          "name": "stdout"
        }
      ]
    },
    {
      "cell_type": "markdown",
      "metadata": {
        "id": "eS23hqWCswN5"
      },
      "source": [
        "There are 195 observations and 24 features in the dataframe"
      ]
    },
    {
      "cell_type": "code",
      "metadata": {
        "colab": {
          "base_uri": "https://localhost:8080/",
          "height": 371
        },
        "id": "28JFjsUVs2H_",
        "outputId": "133cb5d4-6ccf-46be-edce-42570f4a6818"
      },
      "source": [
        "# We check whether there are any missing values present in the data\n",
        "sns.heatmap(df.isna(), yticklabels= False, cbar= False, cmap= 'viridis')"
      ],
      "execution_count": 6,
      "outputs": [
        {
          "output_type": "execute_result",
          "data": {
            "text/plain": [
              "<matplotlib.axes._subplots.AxesSubplot at 0x7ff2b495b190>"
            ]
          },
          "metadata": {
            "tags": []
          },
          "execution_count": 6
        },
        {
          "output_type": "display_data",
          "data": {
            "image/png": "[encoded data removed]",
            "text/plain": [
              "<Figure size 432x288 with 1 Axes>"
            ]
          },
          "metadata": {
            "tags": [],
            "needs_background": "light"
          }
        }
      ]
    },
    {
      "cell_type": "markdown",
      "metadata": {
        "id": "xErGdt38tEUM"
      },
      "source": [
        "We see that there are no missing values present in the dataframe"
      ]
    },
    {
      "cell_type": "markdown",
      "metadata": {
        "id": "Bdl7UFC-tO14"
      },
      "source": [
        "# EDA"
      ]
    },
    {
      "cell_type": "code",
      "metadata": {
        "colab": {
          "base_uri": "https://localhost:8080/",
          "height": 296
        },
        "id": "Y7nwIapVtKCO",
        "outputId": "e775eca8-5b86-4af8-f4f1-cfd6913f31ff"
      },
      "source": [
        "# We shall see the distribution of target variable status\n",
        "sns.countplot(x= 'status', data= df)"
      ],
      "execution_count": 13,
      "outputs": [
        {
          "output_type": "execute_result",
          "data": {
            "text/plain": [
              "<matplotlib.axes._subplots.AxesSubplot at 0x7ff29e47f450>"
            ]
          },
          "metadata": {
            "tags": []
          },
          "execution_count": 13
        },
        {
          "output_type": "display_data",
          "data": {
            "image/png": "[encoded data removed]",
            "text/plain": [
              "<Figure size 432x288 with 1 Axes>"
            ]
          },
          "metadata": {
            "tags": [],
            "needs_background": "light"
          }
        }
      ]
    },
    {
      "cell_type": "markdown",
      "metadata": {
        "id": "mDN1BczXwh-h"
      },
      "source": [
        "* We see that there are more number of patients who has been tested positive for Parkinson's disease"
      ]
    },
    {
      "cell_type": "code",
      "metadata": {
        "colab": {
          "base_uri": "https://localhost:8080/"
        },
        "id": "ojYF3lhFxKI8",
        "outputId": "cfc40e9c-2b09-4e31-fe33-76b3c7f67e7d"
      },
      "source": [
        "df.columns"
      ],
      "execution_count": 14,
      "outputs": [
        {
          "output_type": "execute_result",
          "data": {
            "text/plain": [
              "Index(['name', 'MDVP:Fo(Hz)', 'MDVP:Fhi(Hz)', 'MDVP:Flo(Hz)', 'MDVP:Jitter(%)',\n",
              "       'MDVP:Jitter(Abs)', 'MDVP:RAP', 'MDVP:PPQ', 'Jitter:DDP',\n",
              "       'MDVP:Shimmer', 'MDVP:Shimmer(dB)', 'Shimmer:APQ3', 'Shimmer:APQ5',\n",
              "       'MDVP:APQ', 'Shimmer:DDA', 'NHR', 'HNR', 'status', 'RPDE', 'DFA',\n",
              "       'spread1', 'spread2', 'D2', 'PPE'],\n",
              "      dtype='object')"
            ]
          },
          "metadata": {
            "tags": []
          },
          "execution_count": 14
        }
      ]
    },
    {
      "cell_type": "code",
      "metadata": {
        "colab": {
          "base_uri": "https://localhost:8080/",
          "height": 312
        },
        "id": "_nQ7Vdg4wtV5",
        "outputId": "a00981bf-5080-4c3c-fbe1-8d60dae2574b"
      },
      "source": [
        "# We shall see how the average vocal fundamental frequnecy are distributed\n",
        "sns.barplot(x='status', y='MDVP:Fhi(Hz)', data=df, palette= 'seismic')\n",
        "plt.title('Status vs Average Vocal Fundamental Frequency')"
      ],
      "execution_count": 20,
      "outputs": [
        {
          "output_type": "execute_result",
          "data": {
            "text/plain": [
              "Text(0.5, 1.0, 'Status vs Average Vocal Fundamental Frequency')"
            ]
          },
          "metadata": {
            "tags": []
          },
          "execution_count": 20
        },
        {
          "output_type": "display_data",
          "data": {
            "image/png": "[encoded data removed]",
            "text/plain": [
              "<Figure size 432x288 with 1 Axes>"
            ]
          },
          "metadata": {
            "tags": [],
            "needs_background": "light"
          }
        }
      ]
    },
    {
      "cell_type": "markdown",
      "metadata": {
        "id": "94OLOA2Ax1cw"
      },
      "source": [
        "* it is clear that the patients having less vocal frequency are tend to have Parkinson's disease"
      ]
    },
    {
      "cell_type": "code",
      "metadata": {
        "colab": {
          "base_uri": "https://localhost:8080/",
          "height": 312
        },
        "id": "ZkMEaP-HyA5v",
        "outputId": "dca1b086-f025-4edc-a8cd-8d0bd5a5fb6a"
      },
      "source": [
        "# Visulaisation of NHR, a measure of ratio of noise to tonal components of voice vs the Status of the patient\n",
        "sns.barplot(x='status', y='NHR', data=df, palette= 'seismic')\n",
        "plt.title('Status vs Noise to Tonal Ratio')"
      ],
      "execution_count": 27,
      "outputs": [
        {
          "output_type": "execute_result",
          "data": {
            "text/plain": [
              "Text(0.5, 1.0, 'Status vs Noise to Tonal Ratio')"
            ]
          },
          "metadata": {
            "tags": []
          },
          "execution_count": 27
        },
        {
          "output_type": "display_data",
          "data": {
            "image/png": "[encoded data removed]",
            "text/plain": [
              "<Figure size 432x288 with 1 Axes>"
            ]
          },
          "metadata": {
            "tags": [],
            "needs_background": "light"
          }
        }
      ]
    },
    {
      "cell_type": "markdown",
      "metadata": {
        "id": "JenyNctCybQB"
      },
      "source": [
        "* From the viz, we see that the patients who are having more NHR value (or) having more noise component in the numerator of the ratio (or) having less tonal component in the ratio are tend to be affected by Parkinson's disease"
      ]
    },
    {
      "cell_type": "code",
      "metadata": {
        "colab": {
          "base_uri": "https://localhost:8080/",
          "height": 312
        },
        "id": "KvgGTkN0yyhk",
        "outputId": "d3422d49-ca3c-4074-b751-4e3ce77265b6"
      },
      "source": [
        "sns.barplot(x='status', y='MDVP:Shimmer(dB)', data=df, palette= 'seismic')\n",
        "plt.title('Status vs MDVP Shimmer in dB')"
      ],
      "execution_count": 28,
      "outputs": [
        {
          "output_type": "execute_result",
          "data": {
            "text/plain": [
              "Text(0.5, 1.0, 'Status vs MDVP Shimmer in dB')"
            ]
          },
          "metadata": {
            "tags": []
          },
          "execution_count": 28
        },
        {
          "output_type": "display_data",
          "data": {
            "image/png": "[encoded data removed]",
            "text/plain": [
              "<Figure size 432x288 with 1 Axes>"
            ]
          },
          "metadata": {
            "tags": [],
            "needs_background": "light"
          }
        }
      ]
    },
    {
      "cell_type": "markdown",
      "metadata": {
        "id": "2M1Kq8TyzGCM"
      },
      "source": [
        "* This tells us that patients who have higher decibals of Shimmer are tend to have Parkinson's disease"
      ]
    },
    {
      "cell_type": "code",
      "metadata": {
        "colab": {
          "base_uri": "https://localhost:8080/",
          "height": 312
        },
        "id": "n97m_RYd1YNV",
        "outputId": "d174e040-69c3-4819-bd4c-4a6dac7bbef5"
      },
      "source": [
        "sns.kdeplot(x='DFA', hue='status',data= df)\n",
        "plt.title('Distribution of DFA- Signal Fractional Scaling')"
      ],
      "execution_count": 52,
      "outputs": [
        {
          "output_type": "execute_result",
          "data": {
            "text/plain": [
              "Text(0.5, 1.0, 'Distribution of DFA- Signal Fractional Scaling')"
            ]
          },
          "metadata": {
            "tags": []
          },
          "execution_count": 52
        },
        {
          "output_type": "display_data",
          "data": {
            "image/png": "[encoded data removed]",
            "text/plain": [
              "<Figure size 432x288 with 1 Axes>"
            ]
          },
          "metadata": {
            "tags": [],
            "needs_background": "light"
          }
        }
      ]
    },
    {
      "cell_type": "markdown",
      "metadata": {
        "id": "VjOGa7Ac1_cU"
      },
      "source": [
        "* Pateints having parkinson's disease are found to be have more density in Signal Fractional Scaling test- DFA"
      ]
    },
    {
      "cell_type": "code",
      "metadata": {
        "colab": {
          "base_uri": "https://localhost:8080/",
          "height": 312
        },
        "id": "AT8Cq9FQzR6I",
        "outputId": "d3f6ffa2-1884-4f4c-aa18-992ca2117dea"
      },
      "source": [
        "sns.kdeplot(x= 'PPE', data= df, hue= 'status')\n",
        "plt.title('Distribution of PPE')"
      ],
      "execution_count": 33,
      "outputs": [
        {
          "output_type": "execute_result",
          "data": {
            "text/plain": [
              "Text(0.5, 1.0, 'Distribution of PPE')"
            ]
          },
          "metadata": {
            "tags": []
          },
          "execution_count": 33
        },
        {
          "output_type": "display_data",
          "data": {
            "image/png": "[encoded data removed]",
            "text/plain": [
              "<Figure size 432x288 with 1 Axes>"
            ]
          },
          "metadata": {
            "tags": [],
            "needs_background": "light"
          }
        }
      ]
    },
    {
      "cell_type": "markdown",
      "metadata": {
        "id": "OaR46P3nz7y9"
      },
      "source": [
        "* from this distribution plot it's clear that patients with higher density are tend to be positive for Parkinson's disease"
      ]
    },
    {
      "cell_type": "code",
      "metadata": {
        "colab": {
          "base_uri": "https://localhost:8080/",
          "height": 215
        },
        "id": "Cc09g41_0G0l",
        "outputId": "7b80eba1-09d5-4953-820c-42039faf6d5e"
      },
      "source": [
        "# We see the correlation of the data \n",
        "df.corr()[:5]"
      ],
      "execution_count": 54,
      "outputs": [
        {
          "output_type": "execute_result",
          "data": {
            "text/html": [
              "<div>\n",
              "<style scoped>\n",
              "    .dataframe tbody tr th:only-of-type {\n",
              "        vertical-align: middle;\n",
              "    }\n",
              "\n",
              "    .dataframe tbody tr th {\n",
              "        vertical-align: top;\n",
              "    }\n",
              "\n",
              "    .dataframe thead th {\n",
              "        text-align: right;\n",
              "    }\n",
              "</style>\n",
              "<table border=\"1\" class=\"dataframe\">\n",
              "  <thead>\n",
              "    <tr style=\"text-align: right;\">\n",
              "      <th></th>\n",
              "      <th>MDVP:Fo(Hz)</th>\n",
              "      <th>MDVP:Fhi(Hz)</th>\n",
              "      <th>MDVP:Flo(Hz)</th>\n",
              "      <th>MDVP:Jitter(%)</th>\n",
              "      <th>MDVP:Jitter(Abs)</th>\n",
              "      <th>MDVP:RAP</th>\n",
              "      <th>MDVP:PPQ</th>\n",
              "      <th>Jitter:DDP</th>\n",
              "      <th>MDVP:Shimmer</th>\n",
              "      <th>MDVP:Shimmer(dB)</th>\n",
              "      <th>Shimmer:APQ3</th>\n",
              "      <th>Shimmer:APQ5</th>\n",
              "      <th>MDVP:APQ</th>\n",
              "      <th>Shimmer:DDA</th>\n",
              "      <th>NHR</th>\n",
              "      <th>HNR</th>\n",
              "      <th>status</th>\n",
              "      <th>RPDE</th>\n",
              "      <th>DFA</th>\n",
              "      <th>spread1</th>\n",
              "      <th>spread2</th>\n",
              "      <th>D2</th>\n",
              "      <th>PPE</th>\n",
              "    </tr>\n",
              "  </thead>\n",
              "  <tbody>\n",
              "    <tr>\n",
              "      <th>MDVP:Fo(Hz)</th>\n",
              "      <td>1.000000</td>\n",
              "      <td>0.400985</td>\n",
              "      <td>0.596546</td>\n",
              "      <td>-0.118003</td>\n",
              "      <td>-0.382027</td>\n",
              "      <td>-0.076194</td>\n",
              "      <td>-0.112165</td>\n",
              "      <td>-0.076213</td>\n",
              "      <td>-0.098374</td>\n",
              "      <td>-0.073742</td>\n",
              "      <td>-0.094717</td>\n",
              "      <td>-0.070682</td>\n",
              "      <td>-0.077774</td>\n",
              "      <td>-0.094732</td>\n",
              "      <td>-0.021981</td>\n",
              "      <td>0.059144</td>\n",
              "      <td>-0.383535</td>\n",
              "      <td>-0.383894</td>\n",
              "      <td>-0.446013</td>\n",
              "      <td>-0.413738</td>\n",
              "      <td>-0.249450</td>\n",
              "      <td>0.177980</td>\n",
              "      <td>-0.372356</td>\n",
              "    </tr>\n",
              "    <tr>\n",
              "      <th>MDVP:Fhi(Hz)</th>\n",
              "      <td>0.400985</td>\n",
              "      <td>1.000000</td>\n",
              "      <td>0.084951</td>\n",
              "      <td>0.102086</td>\n",
              "      <td>-0.029198</td>\n",
              "      <td>0.097177</td>\n",
              "      <td>0.091126</td>\n",
              "      <td>0.097150</td>\n",
              "      <td>0.002281</td>\n",
              "      <td>0.043465</td>\n",
              "      <td>-0.003743</td>\n",
              "      <td>-0.009997</td>\n",
              "      <td>0.004937</td>\n",
              "      <td>-0.003733</td>\n",
              "      <td>0.163766</td>\n",
              "      <td>-0.024893</td>\n",
              "      <td>-0.166136</td>\n",
              "      <td>-0.112404</td>\n",
              "      <td>-0.343097</td>\n",
              "      <td>-0.076658</td>\n",
              "      <td>-0.002954</td>\n",
              "      <td>0.176323</td>\n",
              "      <td>-0.069543</td>\n",
              "    </tr>\n",
              "    <tr>\n",
              "      <th>MDVP:Flo(Hz)</th>\n",
              "      <td>0.596546</td>\n",
              "      <td>0.084951</td>\n",
              "      <td>1.000000</td>\n",
              "      <td>-0.139919</td>\n",
              "      <td>-0.277815</td>\n",
              "      <td>-0.100519</td>\n",
              "      <td>-0.095828</td>\n",
              "      <td>-0.100488</td>\n",
              "      <td>-0.144543</td>\n",
              "      <td>-0.119089</td>\n",
              "      <td>-0.150747</td>\n",
              "      <td>-0.101095</td>\n",
              "      <td>-0.107293</td>\n",
              "      <td>-0.150737</td>\n",
              "      <td>-0.108670</td>\n",
              "      <td>0.210851</td>\n",
              "      <td>-0.380200</td>\n",
              "      <td>-0.400143</td>\n",
              "      <td>-0.050406</td>\n",
              "      <td>-0.394857</td>\n",
              "      <td>-0.243829</td>\n",
              "      <td>-0.100629</td>\n",
              "      <td>-0.340071</td>\n",
              "    </tr>\n",
              "    <tr>\n",
              "      <th>MDVP:Jitter(%)</th>\n",
              "      <td>-0.118003</td>\n",
              "      <td>0.102086</td>\n",
              "      <td>-0.139919</td>\n",
              "      <td>1.000000</td>\n",
              "      <td>0.935714</td>\n",
              "      <td>0.990276</td>\n",
              "      <td>0.974256</td>\n",
              "      <td>0.990276</td>\n",
              "      <td>0.769063</td>\n",
              "      <td>0.804289</td>\n",
              "      <td>0.746625</td>\n",
              "      <td>0.725561</td>\n",
              "      <td>0.758255</td>\n",
              "      <td>0.746635</td>\n",
              "      <td>0.906959</td>\n",
              "      <td>-0.728165</td>\n",
              "      <td>0.278220</td>\n",
              "      <td>0.360673</td>\n",
              "      <td>0.098572</td>\n",
              "      <td>0.693577</td>\n",
              "      <td>0.385123</td>\n",
              "      <td>0.433434</td>\n",
              "      <td>0.721543</td>\n",
              "    </tr>\n",
              "    <tr>\n",
              "      <th>MDVP:Jitter(Abs)</th>\n",
              "      <td>-0.382027</td>\n",
              "      <td>-0.029198</td>\n",
              "      <td>-0.277815</td>\n",
              "      <td>0.935714</td>\n",
              "      <td>1.000000</td>\n",
              "      <td>0.922911</td>\n",
              "      <td>0.897778</td>\n",
              "      <td>0.922913</td>\n",
              "      <td>0.703322</td>\n",
              "      <td>0.716601</td>\n",
              "      <td>0.697153</td>\n",
              "      <td>0.648961</td>\n",
              "      <td>0.648793</td>\n",
              "      <td>0.697170</td>\n",
              "      <td>0.834972</td>\n",
              "      <td>-0.656810</td>\n",
              "      <td>0.338653</td>\n",
              "      <td>0.441839</td>\n",
              "      <td>0.175036</td>\n",
              "      <td>0.735779</td>\n",
              "      <td>0.388543</td>\n",
              "      <td>0.310694</td>\n",
              "      <td>0.748162</td>\n",
              "    </tr>\n",
              "  </tbody>\n",
              "</table>\n",
              "</div>"
            ],
            "text/plain": [
              "                  MDVP:Fo(Hz)  MDVP:Fhi(Hz)  ...        D2       PPE\n",
              "MDVP:Fo(Hz)          1.000000      0.400985  ...  0.177980 -0.372356\n",
              "MDVP:Fhi(Hz)         0.400985      1.000000  ...  0.176323 -0.069543\n",
              "MDVP:Flo(Hz)         0.596546      0.084951  ... -0.100629 -0.340071\n",
              "MDVP:Jitter(%)      -0.118003      0.102086  ...  0.433434  0.721543\n",
              "MDVP:Jitter(Abs)    -0.382027     -0.029198  ...  0.310694  0.748162\n",
              "\n",
              "[5 rows x 23 columns]"
            ]
          },
          "metadata": {
            "tags": []
          },
          "execution_count": 54
        }
      ]
    },
    {
      "cell_type": "code",
      "metadata": {
        "colab": {
          "base_uri": "https://localhost:8080/",
          "height": 592
        },
        "id": "N83bJ4rV0Z6q",
        "outputId": "85a51dd1-f1a3-41bd-c5d1-541e4c168b29"
      },
      "source": [
        "plt.figure(figsize=(10,8))\n",
        "sns.heatmap(df.corr(), cmap= 'viridis')"
      ],
      "execution_count": 45,
      "outputs": [
        {
          "output_type": "execute_result",
          "data": {
            "text/plain": [
              "<matplotlib.axes._subplots.AxesSubplot at 0x7ff292cd3b90>"
            ]
          },
          "metadata": {
            "tags": []
          },
          "execution_count": 45
        },
        {
          "output_type": "display_data",
          "data": {
            "image/png": "[encoded data removed]",
            "text/plain": [
              "<Figure size 720x576 with 2 Axes>"
            ]
          },
          "metadata": {
            "tags": [],
            "needs_background": "light"
          }
        }
      ]
    },
    {
      "cell_type": "markdown",
      "metadata": {
        "id": "CzK09n6j1JkL"
      },
      "source": [
        "# SUPERVISED LEARNING"
      ]
    },
    {
      "cell_type": "code",
      "metadata": {
        "colab": {
          "base_uri": "https://localhost:8080/"
        },
        "id": "nLuGfAHa1HhM",
        "outputId": "ad6b8a63-ecdc-4210-c9e9-0a4dd0d37438"
      },
      "source": [
        "df.info()"
      ],
      "execution_count": 53,
      "outputs": [
        {
          "output_type": "stream",
          "text": [
            "<class 'pandas.core.frame.DataFrame'>\n",
            "RangeIndex: 195 entries, 0 to 194\n",
            "Data columns (total 24 columns):\n",
            " #   Column            Non-Null Count  Dtype  \n",
            "---  ------            --------------  -----  \n",
            " 0   name              195 non-null    object \n",
            " 1   MDVP:Fo(Hz)       195 non-null    float64\n",
            " 2   MDVP:Fhi(Hz)      195 non-null    float64\n",
            " 3   MDVP:Flo(Hz)      195 non-null    float64\n",
            " 4   MDVP:Jitter(%)    195 non-null    float64\n",
            " 5   MDVP:Jitter(Abs)  195 non-null    float64\n",
            " 6   MDVP:RAP          195 non-null    float64\n",
            " 7   MDVP:PPQ          195 non-null    float64\n",
            " 8   Jitter:DDP        195 non-null    float64\n",
            " 9   MDVP:Shimmer      195 non-null    float64\n",
            " 10  MDVP:Shimmer(dB)  195 non-null    float64\n",
            " 11  Shimmer:APQ3      195 non-null    float64\n",
            " 12  Shimmer:APQ5      195 non-null    float64\n",
            " 13  MDVP:APQ          195 non-null    float64\n",
            " 14  Shimmer:DDA       195 non-null    float64\n",
            " 15  NHR               195 non-null    float64\n",
            " 16  HNR               195 non-null    float64\n",
            " 17  status            195 non-null    int64  \n",
            " 18  RPDE              195 non-null    float64\n",
            " 19  DFA               195 non-null    float64\n",
            " 20  spread1           195 non-null    float64\n",
            " 21  spread2           195 non-null    float64\n",
            " 22  D2                195 non-null    float64\n",
            " 23  PPE               195 non-null    float64\n",
            "dtypes: float64(22), int64(1), object(1)\n",
            "memory usage: 36.7+ KB\n"
          ],
          "name": "stdout"
        }
      ]
    },
    {
      "cell_type": "code",
      "metadata": {
        "colab": {
          "base_uri": "https://localhost:8080/"
        },
        "id": "UHZ3cp9C6Yey",
        "outputId": "3df0408d-0919-46c0-a415-ac7e4aa5bd1d"
      },
      "source": [
        "df.columns"
      ],
      "execution_count": 55,
      "outputs": [
        {
          "output_type": "execute_result",
          "data": {
            "text/plain": [
              "Index(['name', 'MDVP:Fo(Hz)', 'MDVP:Fhi(Hz)', 'MDVP:Flo(Hz)', 'MDVP:Jitter(%)',\n",
              "       'MDVP:Jitter(Abs)', 'MDVP:RAP', 'MDVP:PPQ', 'Jitter:DDP',\n",
              "       'MDVP:Shimmer', 'MDVP:Shimmer(dB)', 'Shimmer:APQ3', 'Shimmer:APQ5',\n",
              "       'MDVP:APQ', 'Shimmer:DDA', 'NHR', 'HNR', 'status', 'RPDE', 'DFA',\n",
              "       'spread1', 'spread2', 'D2', 'PPE'],\n",
              "      dtype='object')"
            ]
          },
          "metadata": {
            "tags": []
          },
          "execution_count": 55
        }
      ]
    },
    {
      "cell_type": "code",
      "metadata": {
        "colab": {
          "base_uri": "https://localhost:8080/",
          "height": 215
        },
        "id": "mlBxJPp32wFC",
        "outputId": "df09ac38-bf23-4492-ba5e-6a381270d186"
      },
      "source": [
        "# Creating feature matrix\n",
        "# We leave out the target variable & categorical features since our machine learning lagorithms can't make out anything of categorical values\n",
        "X = df[['MDVP:Fo(Hz)', 'MDVP:Fhi(Hz)', 'MDVP:Flo(Hz)', 'MDVP:Jitter(%)',\n",
        "       'MDVP:Jitter(Abs)', 'MDVP:RAP', 'MDVP:PPQ', 'Jitter:DDP',\n",
        "       'MDVP:Shimmer', 'MDVP:Shimmer(dB)', 'Shimmer:APQ3', 'Shimmer:APQ5',\n",
        "       'MDVP:APQ', 'Shimmer:DDA', 'NHR', 'HNR', 'RPDE', 'DFA',\n",
        "       'spread1', 'spread2', 'D2', 'PPE']]\n",
        "X[:5]"
      ],
      "execution_count": 58,
      "outputs": [
        {
          "output_type": "execute_result",
          "data": {
            "text/html": [
              "<div>\n",
              "<style scoped>\n",
              "    .dataframe tbody tr th:only-of-type {\n",
              "        vertical-align: middle;\n",
              "    }\n",
              "\n",
              "    .dataframe tbody tr th {\n",
              "        vertical-align: top;\n",
              "    }\n",
              "\n",
              "    .dataframe thead th {\n",
              "        text-align: right;\n",
              "    }\n",
              "</style>\n",
              "<table border=\"1\" class=\"dataframe\">\n",
              "  <thead>\n",
              "    <tr style=\"text-align: right;\">\n",
              "      <th></th>\n",
              "      <th>MDVP:Fo(Hz)</th>\n",
              "      <th>MDVP:Fhi(Hz)</th>\n",
              "      <th>MDVP:Flo(Hz)</th>\n",
              "      <th>MDVP:Jitter(%)</th>\n",
              "      <th>MDVP:Jitter(Abs)</th>\n",
              "      <th>MDVP:RAP</th>\n",
              "      <th>MDVP:PPQ</th>\n",
              "      <th>Jitter:DDP</th>\n",
              "      <th>MDVP:Shimmer</th>\n",
              "      <th>MDVP:Shimmer(dB)</th>\n",
              "      <th>Shimmer:APQ3</th>\n",
              "      <th>Shimmer:APQ5</th>\n",
              "      <th>MDVP:APQ</th>\n",
              "      <th>Shimmer:DDA</th>\n",
              "      <th>NHR</th>\n",
              "      <th>HNR</th>\n",
              "      <th>RPDE</th>\n",
              "      <th>DFA</th>\n",
              "      <th>spread1</th>\n",
              "      <th>spread2</th>\n",
              "      <th>D2</th>\n",
              "      <th>PPE</th>\n",
              "    </tr>\n",
              "  </thead>\n",
              "  <tbody>\n",
              "    <tr>\n",
              "      <th>0</th>\n",
              "      <td>119.992</td>\n",
              "      <td>157.302</td>\n",
              "      <td>74.997</td>\n",
              "      <td>0.00784</td>\n",
              "      <td>0.00007</td>\n",
              "      <td>0.00370</td>\n",
              "      <td>0.00554</td>\n",
              "      <td>0.01109</td>\n",
              "      <td>0.04374</td>\n",
              "      <td>0.426</td>\n",
              "      <td>0.02182</td>\n",
              "      <td>0.03130</td>\n",
              "      <td>0.02971</td>\n",
              "      <td>0.06545</td>\n",
              "      <td>0.02211</td>\n",
              "      <td>21.033</td>\n",
              "      <td>0.414783</td>\n",
              "      <td>0.815285</td>\n",
              "      <td>-4.813031</td>\n",
              "      <td>0.266482</td>\n",
              "      <td>2.301442</td>\n",
              "      <td>0.284654</td>\n",
              "    </tr>\n",
              "    <tr>\n",
              "      <th>1</th>\n",
              "      <td>122.400</td>\n",
              "      <td>148.650</td>\n",
              "      <td>113.819</td>\n",
              "      <td>0.00968</td>\n",
              "      <td>0.00008</td>\n",
              "      <td>0.00465</td>\n",
              "      <td>0.00696</td>\n",
              "      <td>0.01394</td>\n",
              "      <td>0.06134</td>\n",
              "      <td>0.626</td>\n",
              "      <td>0.03134</td>\n",
              "      <td>0.04518</td>\n",
              "      <td>0.04368</td>\n",
              "      <td>0.09403</td>\n",
              "      <td>0.01929</td>\n",
              "      <td>19.085</td>\n",
              "      <td>0.458359</td>\n",
              "      <td>0.819521</td>\n",
              "      <td>-4.075192</td>\n",
              "      <td>0.335590</td>\n",
              "      <td>2.486855</td>\n",
              "      <td>0.368674</td>\n",
              "    </tr>\n",
              "    <tr>\n",
              "      <th>2</th>\n",
              "      <td>116.682</td>\n",
              "      <td>131.111</td>\n",
              "      <td>111.555</td>\n",
              "      <td>0.01050</td>\n",
              "      <td>0.00009</td>\n",
              "      <td>0.00544</td>\n",
              "      <td>0.00781</td>\n",
              "      <td>0.01633</td>\n",
              "      <td>0.05233</td>\n",
              "      <td>0.482</td>\n",
              "      <td>0.02757</td>\n",
              "      <td>0.03858</td>\n",
              "      <td>0.03590</td>\n",
              "      <td>0.08270</td>\n",
              "      <td>0.01309</td>\n",
              "      <td>20.651</td>\n",
              "      <td>0.429895</td>\n",
              "      <td>0.825288</td>\n",
              "      <td>-4.443179</td>\n",
              "      <td>0.311173</td>\n",
              "      <td>2.342259</td>\n",
              "      <td>0.332634</td>\n",
              "    </tr>\n",
              "    <tr>\n",
              "      <th>3</th>\n",
              "      <td>116.676</td>\n",
              "      <td>137.871</td>\n",
              "      <td>111.366</td>\n",
              "      <td>0.00997</td>\n",
              "      <td>0.00009</td>\n",
              "      <td>0.00502</td>\n",
              "      <td>0.00698</td>\n",
              "      <td>0.01505</td>\n",
              "      <td>0.05492</td>\n",
              "      <td>0.517</td>\n",
              "      <td>0.02924</td>\n",
              "      <td>0.04005</td>\n",
              "      <td>0.03772</td>\n",
              "      <td>0.08771</td>\n",
              "      <td>0.01353</td>\n",
              "      <td>20.644</td>\n",
              "      <td>0.434969</td>\n",
              "      <td>0.819235</td>\n",
              "      <td>-4.117501</td>\n",
              "      <td>0.334147</td>\n",
              "      <td>2.405554</td>\n",
              "      <td>0.368975</td>\n",
              "    </tr>\n",
              "    <tr>\n",
              "      <th>4</th>\n",
              "      <td>116.014</td>\n",
              "      <td>141.781</td>\n",
              "      <td>110.655</td>\n",
              "      <td>0.01284</td>\n",
              "      <td>0.00011</td>\n",
              "      <td>0.00655</td>\n",
              "      <td>0.00908</td>\n",
              "      <td>0.01966</td>\n",
              "      <td>0.06425</td>\n",
              "      <td>0.584</td>\n",
              "      <td>0.03490</td>\n",
              "      <td>0.04825</td>\n",
              "      <td>0.04465</td>\n",
              "      <td>0.10470</td>\n",
              "      <td>0.01767</td>\n",
              "      <td>19.649</td>\n",
              "      <td>0.417356</td>\n",
              "      <td>0.823484</td>\n",
              "      <td>-3.747787</td>\n",
              "      <td>0.234513</td>\n",
              "      <td>2.332180</td>\n",
              "      <td>0.410335</td>\n",
              "    </tr>\n",
              "  </tbody>\n",
              "</table>\n",
              "</div>"
            ],
            "text/plain": [
              "   MDVP:Fo(Hz)  MDVP:Fhi(Hz)  MDVP:Flo(Hz)  ...   spread2        D2       PPE\n",
              "0      119.992       157.302        74.997  ...  0.266482  2.301442  0.284654\n",
              "1      122.400       148.650       113.819  ...  0.335590  2.486855  0.368674\n",
              "2      116.682       131.111       111.555  ...  0.311173  2.342259  0.332634\n",
              "3      116.676       137.871       111.366  ...  0.334147  2.405554  0.368975\n",
              "4      116.014       141.781       110.655  ...  0.234513  2.332180  0.410335\n",
              "\n",
              "[5 rows x 22 columns]"
            ]
          },
          "metadata": {
            "tags": []
          },
          "execution_count": 58
        }
      ]
    },
    {
      "cell_type": "code",
      "metadata": {
        "colab": {
          "base_uri": "https://localhost:8080/"
        },
        "id": "M9mS4NtL6hXt",
        "outputId": "475787be-fbb6-4a1e-fe09-124cfc3d9012"
      },
      "source": [
        "X.info()"
      ],
      "execution_count": 59,
      "outputs": [
        {
          "output_type": "stream",
          "text": [
            "<class 'pandas.core.frame.DataFrame'>\n",
            "RangeIndex: 195 entries, 0 to 194\n",
            "Data columns (total 22 columns):\n",
            " #   Column            Non-Null Count  Dtype  \n",
            "---  ------            --------------  -----  \n",
            " 0   MDVP:Fo(Hz)       195 non-null    float64\n",
            " 1   MDVP:Fhi(Hz)      195 non-null    float64\n",
            " 2   MDVP:Flo(Hz)      195 non-null    float64\n",
            " 3   MDVP:Jitter(%)    195 non-null    float64\n",
            " 4   MDVP:Jitter(Abs)  195 non-null    float64\n",
            " 5   MDVP:RAP          195 non-null    float64\n",
            " 6   MDVP:PPQ          195 non-null    float64\n",
            " 7   Jitter:DDP        195 non-null    float64\n",
            " 8   MDVP:Shimmer      195 non-null    float64\n",
            " 9   MDVP:Shimmer(dB)  195 non-null    float64\n",
            " 10  Shimmer:APQ3      195 non-null    float64\n",
            " 11  Shimmer:APQ5      195 non-null    float64\n",
            " 12  MDVP:APQ          195 non-null    float64\n",
            " 13  Shimmer:DDA       195 non-null    float64\n",
            " 14  NHR               195 non-null    float64\n",
            " 15  HNR               195 non-null    float64\n",
            " 16  RPDE              195 non-null    float64\n",
            " 17  DFA               195 non-null    float64\n",
            " 18  spread1           195 non-null    float64\n",
            " 19  spread2           195 non-null    float64\n",
            " 20  D2                195 non-null    float64\n",
            " 21  PPE               195 non-null    float64\n",
            "dtypes: float64(22)\n",
            "memory usage: 33.6 KB\n"
          ],
          "name": "stdout"
        }
      ]
    },
    {
      "cell_type": "markdown",
      "metadata": {
        "id": "sr94e5Zh6qCi"
      },
      "source": [
        "* we have our feature matrix X which only contains numerical values in it"
      ]
    },
    {
      "cell_type": "code",
      "metadata": {
        "colab": {
          "base_uri": "https://localhost:8080/"
        },
        "id": "m-8tfoh264rI",
        "outputId": "097fcc06-24cd-4bcf-da49-0087a64b03e8"
      },
      "source": [
        "# Creating target variable y\n",
        "y = df['status']\n",
        "y[:5]"
      ],
      "execution_count": 60,
      "outputs": [
        {
          "output_type": "execute_result",
          "data": {
            "text/plain": [
              "0    1\n",
              "1    1\n",
              "2    1\n",
              "3    1\n",
              "4    1\n",
              "Name: status, dtype: int64"
            ]
          },
          "metadata": {
            "tags": []
          },
          "execution_count": 60
        }
      ]
    },
    {
      "cell_type": "code",
      "metadata": {
        "id": "3fNrl3PF7IUP"
      },
      "source": [
        "# we split the data into training and testing test of the ratio 70:30\n",
        "from sklearn.model_selection import train_test_split\n",
        "X_train, X_test, y_train, y_test = train_test_split(X,y, test_size= 0.3, random_state = 42)"
      ],
      "execution_count": 61,
      "outputs": []
    },
    {
      "cell_type": "markdown",
      "metadata": {
        "id": "v84FHlrL7ihX"
      },
      "source": [
        "*Standard Classification Algorithms*\n",
        "\n",
        "* KNN\n",
        "* Logistic Regression\n",
        "* Decision Trees"
      ]
    },
    {
      "cell_type": "markdown",
      "metadata": {
        "id": "hb21YCUw78P6"
      },
      "source": [
        "* K Nearest Neighbour Algorithm"
      ]
    },
    {
      "cell_type": "code",
      "metadata": {
        "id": "NM297ca47rMO"
      },
      "source": [
        "# Scaling the data since KNN evalutes based upon the Eucleadean Distance between the points\n",
        "from sklearn.preprocessing import StandardScaler\n",
        "scaler = StandardScaler()"
      ],
      "execution_count": 62,
      "outputs": []
    },
    {
      "cell_type": "code",
      "metadata": {
        "colab": {
          "base_uri": "https://localhost:8080/"
        },
        "id": "-pTMdgdf8OxX",
        "outputId": "8e7fc9e8-4c17-4fb0-8703-9a293167b8e3"
      },
      "source": [
        "scaler.fit(X)"
      ],
      "execution_count": 63,
      "outputs": [
        {
          "output_type": "execute_result",
          "data": {
            "text/plain": [
              "StandardScaler(copy=True, with_mean=True, with_std=True)"
            ]
          },
          "metadata": {
            "tags": []
          },
          "execution_count": 63
        }
      ]
    },
    {
      "cell_type": "code",
      "metadata": {
        "colab": {
          "base_uri": "https://localhost:8080/"
        },
        "id": "9y-s59zS8bdQ",
        "outputId": "c407d2f9-46ac-4b77-bb2c-d80ae0aa8b5a"
      },
      "source": [
        "scaled_features = scaler.transform(X)\n",
        "scaled_features[:5]"
      ],
      "execution_count": 64,
      "outputs": [
        {
          "output_type": "execute_result",
          "data": {
            "text/plain": [
              "array([[-0.82929965, -0.43616456, -0.95203729,  0.33491386,  0.74975946,\n",
              "         0.13296255,  0.76080023,  0.13175532,  0.74598495,  0.73953578,\n",
              "         0.60785907,  1.11914677,  0.33298451,  0.60753214, -0.06789281,\n",
              "        -0.19322537, -0.8078385 ,  1.76081412,  0.80132308,  0.48047686,\n",
              "        -0.21053082,  0.86888575],\n",
              "       [-0.77097169, -0.53097409, -0.05772056,  0.71541825,  1.03767418,\n",
              "         0.45389169,  1.27680862,  0.45268371,  1.68173116,  1.7684643 ,\n",
              "         1.54791153,  2.27650439,  1.15945391,  1.54825419, -0.13784252,\n",
              "        -0.63450828, -0.38752443,  1.83756192,  1.47985265,  1.31118546,\n",
              "         0.27507712,  1.80360503],\n",
              "       [-0.90947638, -0.7231683 , -0.10987483,  0.88499086,  1.3255889 ,\n",
              "         0.72076961,  1.58568688,  0.72181312,  1.2026929 ,  1.02763576,\n",
              "         1.17564285,  1.72617584,  0.69918677,  1.17532274, -0.29163266,\n",
              "        -0.27976031, -0.66207509,  1.94204837,  1.14144541,  1.01768236,\n",
              "        -0.10362861,  1.40266141],\n",
              "       [-0.90962172, -0.64909151, -0.1142287 ,  0.77538905,  1.3255889 ,\n",
              "         0.57888515,  1.28407634,  0.57767687,  1.34039646,  1.20769825,\n",
              "         1.34054702,  1.84874902,  0.80685852,  1.34022888, -0.28071852,\n",
              "        -0.28134603, -0.61313362,  1.83238017,  1.44094456,  1.29383996,\n",
              "         0.06214485,  1.80695364],\n",
              "       [-0.92565706, -0.60624531, -0.13060753,  1.36889319,  1.90141834,\n",
              "         1.09574998,  2.04718734,  1.0967926 ,  1.83644829,  1.55238931,\n",
              "         1.89944375,  2.53249055,  1.2168394 ,  1.89946147, -0.1780264 ,\n",
              "        -0.50674465, -0.78302052,  1.90936351,  1.78093998,  0.09619539,\n",
              "        -0.13002612,  2.26708205]])"
            ]
          },
          "metadata": {
            "tags": []
          },
          "execution_count": 64
        }
      ]
    },
    {
      "cell_type": "code",
      "metadata": {
        "colab": {
          "base_uri": "https://localhost:8080/",
          "height": 215
        },
        "id": "HH8ALIf08lPN",
        "outputId": "80b9c983-5428-4f0d-c62a-6d183a4ee9f3"
      },
      "source": [
        "df_knn = pd.DataFrame(scaled_features, columns= [['MDVP:Fo(Hz)', 'MDVP:Fhi(Hz)', 'MDVP:Flo(Hz)', 'MDVP:Jitter(%)',\n",
        "       'MDVP:Jitter(Abs)', 'MDVP:RAP', 'MDVP:PPQ', 'Jitter:DDP',\n",
        "       'MDVP:Shimmer', 'MDVP:Shimmer(dB)', 'Shimmer:APQ3', 'Shimmer:APQ5',\n",
        "       'MDVP:APQ', 'Shimmer:DDA', 'NHR', 'HNR', 'RPDE', 'DFA',\n",
        "       'spread1', 'spread2', 'D2', 'PPE']])\n",
        "df_knn[:5]"
      ],
      "execution_count": 67,
      "outputs": [
        {
          "output_type": "execute_result",
          "data": {
            "text/html": [
              "<div>\n",
              "<style scoped>\n",
              "    .dataframe tbody tr th:only-of-type {\n",
              "        vertical-align: middle;\n",
              "    }\n",
              "\n",
              "    .dataframe tbody tr th {\n",
              "        vertical-align: top;\n",
              "    }\n",
              "\n",
              "    .dataframe thead tr th {\n",
              "        text-align: left;\n",
              "    }\n",
              "</style>\n",
              "<table border=\"1\" class=\"dataframe\">\n",
              "  <thead>\n",
              "    <tr>\n",
              "      <th></th>\n",
              "      <th>MDVP:Fo(Hz)</th>\n",
              "      <th>MDVP:Fhi(Hz)</th>\n",
              "      <th>MDVP:Flo(Hz)</th>\n",
              "      <th>MDVP:Jitter(%)</th>\n",
              "      <th>MDVP:Jitter(Abs)</th>\n",
              "      <th>MDVP:RAP</th>\n",
              "      <th>MDVP:PPQ</th>\n",
              "      <th>Jitter:DDP</th>\n",
              "      <th>MDVP:Shimmer</th>\n",
              "      <th>MDVP:Shimmer(dB)</th>\n",
              "      <th>Shimmer:APQ3</th>\n",
              "      <th>Shimmer:APQ5</th>\n",
              "      <th>MDVP:APQ</th>\n",
              "      <th>Shimmer:DDA</th>\n",
              "      <th>NHR</th>\n",
              "      <th>HNR</th>\n",
              "      <th>RPDE</th>\n",
              "      <th>DFA</th>\n",
              "      <th>spread1</th>\n",
              "      <th>spread2</th>\n",
              "      <th>D2</th>\n",
              "      <th>PPE</th>\n",
              "    </tr>\n",
              "  </thead>\n",
              "  <tbody>\n",
              "    <tr>\n",
              "      <th>0</th>\n",
              "      <td>-0.829300</td>\n",
              "      <td>-0.436165</td>\n",
              "      <td>-0.952037</td>\n",
              "      <td>0.334914</td>\n",
              "      <td>0.749759</td>\n",
              "      <td>0.132963</td>\n",
              "      <td>0.760800</td>\n",
              "      <td>0.131755</td>\n",
              "      <td>0.745985</td>\n",
              "      <td>0.739536</td>\n",
              "      <td>0.607859</td>\n",
              "      <td>1.119147</td>\n",
              "      <td>0.332985</td>\n",
              "      <td>0.607532</td>\n",
              "      <td>-0.067893</td>\n",
              "      <td>-0.193225</td>\n",
              "      <td>-0.807838</td>\n",
              "      <td>1.760814</td>\n",
              "      <td>0.801323</td>\n",
              "      <td>0.480477</td>\n",
              "      <td>-0.210531</td>\n",
              "      <td>0.868886</td>\n",
              "    </tr>\n",
              "    <tr>\n",
              "      <th>1</th>\n",
              "      <td>-0.770972</td>\n",
              "      <td>-0.530974</td>\n",
              "      <td>-0.057721</td>\n",
              "      <td>0.715418</td>\n",
              "      <td>1.037674</td>\n",
              "      <td>0.453892</td>\n",
              "      <td>1.276809</td>\n",
              "      <td>0.452684</td>\n",
              "      <td>1.681731</td>\n",
              "      <td>1.768464</td>\n",
              "      <td>1.547912</td>\n",
              "      <td>2.276504</td>\n",
              "      <td>1.159454</td>\n",
              "      <td>1.548254</td>\n",
              "      <td>-0.137843</td>\n",
              "      <td>-0.634508</td>\n",
              "      <td>-0.387524</td>\n",
              "      <td>1.837562</td>\n",
              "      <td>1.479853</td>\n",
              "      <td>1.311185</td>\n",
              "      <td>0.275077</td>\n",
              "      <td>1.803605</td>\n",
              "    </tr>\n",
              "    <tr>\n",
              "      <th>2</th>\n",
              "      <td>-0.909476</td>\n",
              "      <td>-0.723168</td>\n",
              "      <td>-0.109875</td>\n",
              "      <td>0.884991</td>\n",
              "      <td>1.325589</td>\n",
              "      <td>0.720770</td>\n",
              "      <td>1.585687</td>\n",
              "      <td>0.721813</td>\n",
              "      <td>1.202693</td>\n",
              "      <td>1.027636</td>\n",
              "      <td>1.175643</td>\n",
              "      <td>1.726176</td>\n",
              "      <td>0.699187</td>\n",
              "      <td>1.175323</td>\n",
              "      <td>-0.291633</td>\n",
              "      <td>-0.279760</td>\n",
              "      <td>-0.662075</td>\n",
              "      <td>1.942048</td>\n",
              "      <td>1.141445</td>\n",
              "      <td>1.017682</td>\n",
              "      <td>-0.103629</td>\n",
              "      <td>1.402661</td>\n",
              "    </tr>\n",
              "    <tr>\n",
              "      <th>3</th>\n",
              "      <td>-0.909622</td>\n",
              "      <td>-0.649092</td>\n",
              "      <td>-0.114229</td>\n",
              "      <td>0.775389</td>\n",
              "      <td>1.325589</td>\n",
              "      <td>0.578885</td>\n",
              "      <td>1.284076</td>\n",
              "      <td>0.577677</td>\n",
              "      <td>1.340396</td>\n",
              "      <td>1.207698</td>\n",
              "      <td>1.340547</td>\n",
              "      <td>1.848749</td>\n",
              "      <td>0.806859</td>\n",
              "      <td>1.340229</td>\n",
              "      <td>-0.280719</td>\n",
              "      <td>-0.281346</td>\n",
              "      <td>-0.613134</td>\n",
              "      <td>1.832380</td>\n",
              "      <td>1.440945</td>\n",
              "      <td>1.293840</td>\n",
              "      <td>0.062145</td>\n",
              "      <td>1.806954</td>\n",
              "    </tr>\n",
              "    <tr>\n",
              "      <th>4</th>\n",
              "      <td>-0.925657</td>\n",
              "      <td>-0.606245</td>\n",
              "      <td>-0.130608</td>\n",
              "      <td>1.368893</td>\n",
              "      <td>1.901418</td>\n",
              "      <td>1.095750</td>\n",
              "      <td>2.047187</td>\n",
              "      <td>1.096793</td>\n",
              "      <td>1.836448</td>\n",
              "      <td>1.552389</td>\n",
              "      <td>1.899444</td>\n",
              "      <td>2.532491</td>\n",
              "      <td>1.216839</td>\n",
              "      <td>1.899461</td>\n",
              "      <td>-0.178026</td>\n",
              "      <td>-0.506745</td>\n",
              "      <td>-0.783021</td>\n",
              "      <td>1.909364</td>\n",
              "      <td>1.780940</td>\n",
              "      <td>0.096195</td>\n",
              "      <td>-0.130026</td>\n",
              "      <td>2.267082</td>\n",
              "    </tr>\n",
              "  </tbody>\n",
              "</table>\n",
              "</div>"
            ],
            "text/plain": [
              "  MDVP:Fo(Hz) MDVP:Fhi(Hz) MDVP:Flo(Hz)  ...   spread2        D2       PPE\n",
              "0   -0.829300    -0.436165    -0.952037  ...  0.480477 -0.210531  0.868886\n",
              "1   -0.770972    -0.530974    -0.057721  ...  1.311185  0.275077  1.803605\n",
              "2   -0.909476    -0.723168    -0.109875  ...  1.017682 -0.103629  1.402661\n",
              "3   -0.909622    -0.649092    -0.114229  ...  1.293840  0.062145  1.806954\n",
              "4   -0.925657    -0.606245    -0.130608  ...  0.096195 -0.130026  2.267082\n",
              "\n",
              "[5 rows x 22 columns]"
            ]
          },
          "metadata": {
            "tags": []
          },
          "execution_count": 67
        }
      ]
    },
    {
      "cell_type": "code",
      "metadata": {
        "id": "7GHBcemt85a9"
      },
      "source": [
        "from sklearn.model_selection import train_test_split\n",
        "X_train_knn, X_test_knn, y_train_knn, y_test_knn = train_test_split(df_knn,y,test_size= 0.3, random_state = 42)"
      ],
      "execution_count": 71,
      "outputs": []
    },
    {
      "cell_type": "code",
      "metadata": {
        "id": "5MLOt9dcAfeH"
      },
      "source": [
        "from sklearn.neighbors import KNeighborsClassifier\n",
        "knn = KNeighborsClassifier(n_neighbors=1)   # 1st we see how the model performs for 1 neighbor"
      ],
      "execution_count": 73,
      "outputs": []
    },
    {
      "cell_type": "code",
      "metadata": {
        "colab": {
          "base_uri": "https://localhost:8080/"
        },
        "id": "xNGuTR0ZBRMT",
        "outputId": "d768cc36-c6d6-4fed-a299-bac41fbdb9f3"
      },
      "source": [
        "knn.fit(X_train_knn, y_train_knn)"
      ],
      "execution_count": 74,
      "outputs": [
        {
          "output_type": "execute_result",
          "data": {
            "text/plain": [
              "KNeighborsClassifier(algorithm='auto', leaf_size=30, metric='minkowski',\n",
              "                     metric_params=None, n_jobs=None, n_neighbors=1, p=2,\n",
              "                     weights='uniform')"
            ]
          },
          "metadata": {
            "tags": []
          },
          "execution_count": 74
        }
      ]
    },
    {
      "cell_type": "code",
      "metadata": {
        "colab": {
          "base_uri": "https://localhost:8080/"
        },
        "id": "wvBzcj74BY-Z",
        "outputId": "df70454b-a12d-4692-9891-02c803d50d50"
      },
      "source": [
        "pred_knn = knn.predict(X_test_knn)\n",
        "pred_knn[:5]"
      ],
      "execution_count": 75,
      "outputs": [
        {
          "output_type": "execute_result",
          "data": {
            "text/plain": [
              "array([1, 1, 1, 1, 1])"
            ]
          },
          "metadata": {
            "tags": []
          },
          "execution_count": 75
        }
      ]
    },
    {
      "cell_type": "code",
      "metadata": {
        "colab": {
          "base_uri": "https://localhost:8080/"
        },
        "id": "gmpr5VJUBfc3",
        "outputId": "5c586993-e2b2-404d-8bd4-f0baed21bb52"
      },
      "source": [
        "y_test_knn[:5]"
      ],
      "execution_count": 76,
      "outputs": [
        {
          "output_type": "execute_result",
          "data": {
            "text/plain": [
              "138    1\n",
              "16     1\n",
              "155    1\n",
              "96     1\n",
              "68     1\n",
              "Name: status, dtype: int64"
            ]
          },
          "metadata": {
            "tags": []
          },
          "execution_count": 76
        }
      ]
    },
    {
      "cell_type": "code",
      "metadata": {
        "colab": {
          "base_uri": "https://localhost:8080/"
        },
        "id": "eHjsIWdnBh-k",
        "outputId": "906c32e2-f05b-4a2c-cb08-1709fcec284b"
      },
      "source": [
        "from sklearn.metrics import classification_report, confusion_matrix\n",
        "print(confusion_matrix(y_test_knn, pred_knn))\n",
        "print(\"\\n\")\n",
        "print(classification_report(y_test_knn, pred_knn))"
      ],
      "execution_count": 77,
      "outputs": [
        {
          "output_type": "stream",
          "text": [
            "[[15  0]\n",
            " [ 2 42]]\n",
            "\n",
            "\n",
            "              precision    recall  f1-score   support\n",
            "\n",
            "           0       0.88      1.00      0.94        15\n",
            "           1       1.00      0.95      0.98        44\n",
            "\n",
            "    accuracy                           0.97        59\n",
            "   macro avg       0.94      0.98      0.96        59\n",
            "weighted avg       0.97      0.97      0.97        59\n",
            "\n"
          ],
          "name": "stdout"
        }
      ]
    },
    {
      "cell_type": "markdown",
      "metadata": {
        "id": "1ah-jddiB37q"
      },
      "source": [
        "We see that we have attained 97% accuracy for k=1, but we can find best k value and maximise acuuracy as possible"
      ]
    },
    {
      "cell_type": "code",
      "metadata": {
        "id": "Mq1ysQgBCAih"
      },
      "source": [
        "error_rate = []\n",
        "for i in range(1,40):\n",
        "  knn_i = KNeighborsClassifier(n_neighbors=i)\n",
        "  knn_i.fit(X_train_knn, y_train_knn)\n",
        "  pred_i = knn_i.predict(X_test_knn)\n",
        "  error_rate.append(np.mean(pred_i != y_test_knn))"
      ],
      "execution_count": 78,
      "outputs": []
    },
    {
      "cell_type": "code",
      "metadata": {
        "colab": {
          "base_uri": "https://localhost:8080/",
          "height": 312
        },
        "id": "AXyne2voCdNc",
        "outputId": "e6413727-38c6-4f90-f402-fa47e018e023"
      },
      "source": [
        "sns.lineplot(x=range(1,40), y=error_rate)\n",
        "plt.title('K values vs Error Rate')\n",
        "plt.xlabel('K values')\n",
        "plt.ylabel('Error rate')"
      ],
      "execution_count": 80,
      "outputs": [
        {
          "output_type": "execute_result",
          "data": {
            "text/plain": [
              "Text(0, 0.5, 'Error rate')"
            ]
          },
          "metadata": {
            "tags": []
          },
          "execution_count": 80
        },
        {
          "output_type": "display_data",
          "data": {
            "image/png": "[encoded data removed]",
            "text/plain": [
              "<Figure size 432x288 with 1 Axes>"
            ]
          },
          "metadata": {
            "tags": [],
            "needs_background": "light"
          }
        }
      ]
    },
    {
      "cell_type": "markdown",
      "metadata": {
        "id": "PIQjTIGlC2dg"
      },
      "source": [
        "We see that, at k=1 the error rate is low, so the model we built at the beginning is the most accurate KNN model we can build"
      ]
    },
    {
      "cell_type": "code",
      "metadata": {
        "colab": {
          "base_uri": "https://localhost:8080/"
        },
        "id": "jEjYGrvODLuw",
        "outputId": "e7aca8b4-db23-4281-f6ea-03b0a05d79e9"
      },
      "source": [
        "print(confusion_matrix(y_test_knn, pred_knn))\n",
        "print(\"\\n\")\n",
        "print(classification_report(y_test_knn, pred_knn))"
      ],
      "execution_count": 81,
      "outputs": [
        {
          "output_type": "stream",
          "text": [
            "[[15  0]\n",
            " [ 2 42]]\n",
            "\n",
            "\n",
            "              precision    recall  f1-score   support\n",
            "\n",
            "           0       0.88      1.00      0.94        15\n",
            "           1       1.00      0.95      0.98        44\n",
            "\n",
            "    accuracy                           0.97        59\n",
            "   macro avg       0.94      0.98      0.96        59\n",
            "weighted avg       0.97      0.97      0.97        59\n",
            "\n"
          ],
          "name": "stdout"
        }
      ]
    },
    {
      "cell_type": "markdown",
      "metadata": {
        "id": "-G2mdghNDX6B"
      },
      "source": [
        "* Out of 15 values of not having parkinson's disease, our model has predicted all 15 cases as not having parkinson's giving a F1 score of 0.94\n",
        "* Out of 44 cases of having Parkinson's disease, our model was able to predict 42 of the cases correctly and 2 of them have been predicted wrong(FP) giving an F1 score of 0.98"
      ]
    },
    {
      "cell_type": "code",
      "metadata": {
        "colab": {
          "base_uri": "https://localhost:8080/"
        },
        "id": "jTtM7F_sC1Hj",
        "outputId": "d651dffa-d248-4148-947d-65e423e465bf"
      },
      "source": [
        "knn_accuracy = 0.97 # So we store the accuracy value here, so we can compare it with other classification models\n",
        "print(\"The accuracy recorded in KNN model: \", knn_accuracy*100, \"%\")"
      ],
      "execution_count": 90,
      "outputs": [
        {
          "output_type": "stream",
          "text": [
            "The accuracy recorded in KNN model:  97.0 %\n"
          ],
          "name": "stdout"
        }
      ]
    },
    {
      "cell_type": "markdown",
      "metadata": {
        "id": "TsLy5D4LEUFq"
      },
      "source": [
        "* Logistic Regression"
      ]
    },
    {
      "cell_type": "code",
      "metadata": {
        "id": "Bd42zFF9EV7s"
      },
      "source": [
        "from sklearn.linear_model import LogisticRegression\n",
        "lr_model = LogisticRegression()   # intializing the Logistic regreesion classifier"
      ],
      "execution_count": 83,
      "outputs": []
    },
    {
      "cell_type": "code",
      "metadata": {
        "colab": {
          "base_uri": "https://localhost:8080/"
        },
        "id": "YTWbeAneE7XY",
        "outputId": "d36fa561-fcf9-46f1-8b79-d36bf68564a6"
      },
      "source": [
        "lr_model.fit(X_train, y_train)"
      ],
      "execution_count": 85,
      "outputs": [
        {
          "output_type": "stream",
          "text": [
            "/usr/local/lib/python3.7/dist-packages/sklearn/linear_model/_logistic.py:940: ConvergenceWarning: lbfgs failed to converge (status=1):\n",
            "STOP: TOTAL NO. of ITERATIONS REACHED LIMIT.\n",
            "\n",
            "Increase the number of iterations (max_iter) or scale the data as shown in:\n",
            "    https://scikit-learn.org/stable/modules/preprocessing.html\n",
            "Please also refer to the documentation for alternative solver options:\n",
            "    https://scikit-learn.org/stable/modules/linear_model.html#logistic-regression\n",
            "  extra_warning_msg=_LOGISTIC_SOLVER_CONVERGENCE_MSG)\n"
          ],
          "name": "stderr"
        },
        {
          "output_type": "execute_result",
          "data": {
            "text/plain": [
              "LogisticRegression(C=1.0, class_weight=None, dual=False, fit_intercept=True,\n",
              "                   intercept_scaling=1, l1_ratio=None, max_iter=100,\n",
              "                   multi_class='auto', n_jobs=None, penalty='l2',\n",
              "                   random_state=None, solver='lbfgs', tol=0.0001, verbose=0,\n",
              "                   warm_start=False)"
            ]
          },
          "metadata": {
            "tags": []
          },
          "execution_count": 85
        }
      ]
    },
    {
      "cell_type": "code",
      "metadata": {
        "colab": {
          "base_uri": "https://localhost:8080/"
        },
        "id": "qLxlqCevE_Gb",
        "outputId": "cffac551-9d43-4c74-a4da-3021c3c40287"
      },
      "source": [
        "pred_lr = lr_model.predict(X_test)\n",
        "pred_lr[:5]"
      ],
      "execution_count": 86,
      "outputs": [
        {
          "output_type": "execute_result",
          "data": {
            "text/plain": [
              "array([1, 1, 1, 1, 1])"
            ]
          },
          "metadata": {
            "tags": []
          },
          "execution_count": 86
        }
      ]
    },
    {
      "cell_type": "code",
      "metadata": {
        "colab": {
          "base_uri": "https://localhost:8080/"
        },
        "id": "SZ4eOA0WFJ_K",
        "outputId": "5c56e82e-cb2d-4969-8659-89a18e106764"
      },
      "source": [
        "y_test[:5]"
      ],
      "execution_count": 87,
      "outputs": [
        {
          "output_type": "execute_result",
          "data": {
            "text/plain": [
              "138    1\n",
              "16     1\n",
              "155    1\n",
              "96     1\n",
              "68     1\n",
              "Name: status, dtype: int64"
            ]
          },
          "metadata": {
            "tags": []
          },
          "execution_count": 87
        }
      ]
    },
    {
      "cell_type": "code",
      "metadata": {
        "colab": {
          "base_uri": "https://localhost:8080/"
        },
        "id": "UazqNAaVFMeC",
        "outputId": "00681759-40e4-4560-81fb-1f5d8903be9d"
      },
      "source": [
        "print(confusion_matrix(y_test_knn, pred_lr))\n",
        "print(\"\\n\")\n",
        "print(classification_report(y_test_knn, pred_lr))"
      ],
      "execution_count": 88,
      "outputs": [
        {
          "output_type": "stream",
          "text": [
            "[[ 9  6]\n",
            " [ 3 41]]\n",
            "\n",
            "\n",
            "              precision    recall  f1-score   support\n",
            "\n",
            "           0       0.75      0.60      0.67        15\n",
            "           1       0.87      0.93      0.90        44\n",
            "\n",
            "    accuracy                           0.85        59\n",
            "   macro avg       0.81      0.77      0.78        59\n",
            "weighted avg       0.84      0.85      0.84        59\n",
            "\n"
          ],
          "name": "stdout"
        }
      ]
    },
    {
      "cell_type": "markdown",
      "metadata": {
        "id": "vztQQc0jFYLd"
      },
      "source": [
        "* Out of 15 values of not having parkinson's disease, our model has predicted 9 cases as not having parkinson's and 6 of them have been predcited wrongly giving a F1 score of 0.67\n",
        "* Out of 44 cases of having Parkinson's disease, our model was able to predict 41 of the cases correctly and 3 of them have been predicted wrong(FP) giving an F1 score of 0.90"
      ]
    },
    {
      "cell_type": "code",
      "metadata": {
        "colab": {
          "base_uri": "https://localhost:8080/"
        },
        "id": "xtfSfrpBFtVx",
        "outputId": "510c9df1-0284-42f0-969f-e117c96216f8"
      },
      "source": [
        "lr_accuracy = 0.85\n",
        "# So we store the accuracy value here, so we can compare it with other classification models\n",
        "print(\"The accuracy recorded in Logistic Regression model: \", lr_accuracy*100, \"%\")"
      ],
      "execution_count": 97,
      "outputs": [
        {
          "output_type": "stream",
          "text": [
            "The accuracy recorded in Logistic Regression model:  85.0 %\n"
          ],
          "name": "stdout"
        }
      ]
    },
    {
      "cell_type": "markdown",
      "metadata": {
        "id": "Vs5UBaPuGCKW"
      },
      "source": [
        "* Decision trees"
      ]
    },
    {
      "cell_type": "code",
      "metadata": {
        "id": "yXvgHq1dGD71"
      },
      "source": [
        "from sklearn.tree import DecisionTreeClassifier\n",
        "model_tree = DecisionTreeClassifier()   # Intializing the model"
      ],
      "execution_count": 92,
      "outputs": []
    },
    {
      "cell_type": "code",
      "metadata": {
        "colab": {
          "base_uri": "https://localhost:8080/"
        },
        "id": "NZ_Cpow2GQTD",
        "outputId": "bf1dd43d-2b3f-474b-9319-d3d1e671f85e"
      },
      "source": [
        "model_tree.fit(X_train, y_train)"
      ],
      "execution_count": 93,
      "outputs": [
        {
          "output_type": "execute_result",
          "data": {
            "text/plain": [
              "DecisionTreeClassifier(ccp_alpha=0.0, class_weight=None, criterion='gini',\n",
              "                       max_depth=None, max_features=None, max_leaf_nodes=None,\n",
              "                       min_impurity_decrease=0.0, min_impurity_split=None,\n",
              "                       min_samples_leaf=1, min_samples_split=2,\n",
              "                       min_weight_fraction_leaf=0.0, presort='deprecated',\n",
              "                       random_state=None, splitter='best')"
            ]
          },
          "metadata": {
            "tags": []
          },
          "execution_count": 93
        }
      ]
    },
    {
      "cell_type": "code",
      "metadata": {
        "colab": {
          "base_uri": "https://localhost:8080/"
        },
        "id": "h5rcVSjiHAJZ",
        "outputId": "85c3d7c7-880c-49ca-9672-2db4a7393ffe"
      },
      "source": [
        "pred_tree = model_tree.predict(X_test)\n",
        "pred_tree[:5]"
      ],
      "execution_count": 94,
      "outputs": [
        {
          "output_type": "execute_result",
          "data": {
            "text/plain": [
              "array([1, 1, 1, 1, 1])"
            ]
          },
          "metadata": {
            "tags": []
          },
          "execution_count": 94
        }
      ]
    },
    {
      "cell_type": "code",
      "metadata": {
        "colab": {
          "base_uri": "https://localhost:8080/"
        },
        "id": "3anC_UpEHHNU",
        "outputId": "a6379b92-bee7-4f12-f299-6064cd1b8992"
      },
      "source": [
        "y_test[:5]"
      ],
      "execution_count": 95,
      "outputs": [
        {
          "output_type": "execute_result",
          "data": {
            "text/plain": [
              "138    1\n",
              "16     1\n",
              "155    1\n",
              "96     1\n",
              "68     1\n",
              "Name: status, dtype: int64"
            ]
          },
          "metadata": {
            "tags": []
          },
          "execution_count": 95
        }
      ]
    },
    {
      "cell_type": "code",
      "metadata": {
        "colab": {
          "base_uri": "https://localhost:8080/"
        },
        "id": "Mu2zXXBNHImR",
        "outputId": "cd7f4ec6-b785-4a67-a137-b20019795bda"
      },
      "source": [
        "print(confusion_matrix(y_test_knn, pred_tree))\n",
        "print(\"\\n\")\n",
        "print(classification_report(y_test_knn, pred_tree))"
      ],
      "execution_count": 96,
      "outputs": [
        {
          "output_type": "stream",
          "text": [
            "[[11  4]\n",
            " [ 3 41]]\n",
            "\n",
            "\n",
            "              precision    recall  f1-score   support\n",
            "\n",
            "           0       0.79      0.73      0.76        15\n",
            "           1       0.91      0.93      0.92        44\n",
            "\n",
            "    accuracy                           0.88        59\n",
            "   macro avg       0.85      0.83      0.84        59\n",
            "weighted avg       0.88      0.88      0.88        59\n",
            "\n"
          ],
          "name": "stdout"
        }
      ]
    },
    {
      "cell_type": "markdown",
      "metadata": {
        "id": "FrAxkPI5HQ2f"
      },
      "source": [
        "* Out of 15 values of not having parkinson's disease, our model has predicted 11 cases as not having parkinson's and 4 of them have been predcited wrongly giving a F1 score of 0.76\n",
        "* Out of 44 cases of having Parkinson's disease, our model was able to predict 41 of the cases correctly and 3 of them have been predicted wrong(FP) giving an F1 score of 0.92"
      ]
    },
    {
      "cell_type": "code",
      "metadata": {
        "colab": {
          "base_uri": "https://localhost:8080/"
        },
        "id": "w716Z6vUHj_C",
        "outputId": "aed0de5a-eeda-45f2-a1d8-140e90cadc61"
      },
      "source": [
        "tree_accuracy = 0.88\n",
        "# So we store the accuracy value here, so we can compare it with other classification models\n",
        "print(\"The accuracy recorded in Decision tree model: \", tree_accuracy*100, \"%\")"
      ],
      "execution_count": 99,
      "outputs": [
        {
          "output_type": "stream",
          "text": [
            "The accuracy recorded in Decision tree model:  88.0 %\n"
          ],
          "name": "stdout"
        }
      ]
    },
    {
      "cell_type": "markdown",
      "metadata": {
        "id": "Q__ZxygIHz8V"
      },
      "source": [
        "*Ensemble Model*\n",
        "\n",
        "* Random Forest Algorithm"
      ]
    },
    {
      "cell_type": "code",
      "metadata": {
        "id": "xrxSGdDbH-BB"
      },
      "source": [
        "from sklearn.ensemble import RandomForestClassifier\n",
        "model_forest = RandomForestClassifier(n_estimators=100)  # intialising the model"
      ],
      "execution_count": 110,
      "outputs": []
    },
    {
      "cell_type": "code",
      "metadata": {
        "colab": {
          "base_uri": "https://localhost:8080/"
        },
        "id": "FbpYt8frILXj",
        "outputId": "65f4474c-fa13-4215-a402-41b1039f82cd"
      },
      "source": [
        "model_forest.fit(X_train, y_train)"
      ],
      "execution_count": 111,
      "outputs": [
        {
          "output_type": "execute_result",
          "data": {
            "text/plain": [
              "RandomForestClassifier(bootstrap=True, ccp_alpha=0.0, class_weight=None,\n",
              "                       criterion='gini', max_depth=None, max_features='auto',\n",
              "                       max_leaf_nodes=None, max_samples=None,\n",
              "                       min_impurity_decrease=0.0, min_impurity_split=None,\n",
              "                       min_samples_leaf=1, min_samples_split=2,\n",
              "                       min_weight_fraction_leaf=0.0, n_estimators=100,\n",
              "                       n_jobs=None, oob_score=False, random_state=None,\n",
              "                       verbose=0, warm_start=False)"
            ]
          },
          "metadata": {
            "tags": []
          },
          "execution_count": 111
        }
      ]
    },
    {
      "cell_type": "code",
      "metadata": {
        "colab": {
          "base_uri": "https://localhost:8080/"
        },
        "id": "YOkFcfIIIPHg",
        "outputId": "f816adce-360a-4145-b640-57e2b2607e60"
      },
      "source": [
        "pred_forest = model_forest.predict(X_test)\n",
        "pred_forest[:5]"
      ],
      "execution_count": 112,
      "outputs": [
        {
          "output_type": "execute_result",
          "data": {
            "text/plain": [
              "array([1, 1, 1, 1, 1])"
            ]
          },
          "metadata": {
            "tags": []
          },
          "execution_count": 112
        }
      ]
    },
    {
      "cell_type": "code",
      "metadata": {
        "colab": {
          "base_uri": "https://localhost:8080/"
        },
        "id": "ig6oyUafIVxo",
        "outputId": "62f51bc9-6515-473c-b2cc-1216d44d99bb"
      },
      "source": [
        "y_test[:5]"
      ],
      "execution_count": 113,
      "outputs": [
        {
          "output_type": "execute_result",
          "data": {
            "text/plain": [
              "138    1\n",
              "16     1\n",
              "155    1\n",
              "96     1\n",
              "68     1\n",
              "Name: status, dtype: int64"
            ]
          },
          "metadata": {
            "tags": []
          },
          "execution_count": 113
        }
      ]
    },
    {
      "cell_type": "code",
      "metadata": {
        "colab": {
          "base_uri": "https://localhost:8080/"
        },
        "id": "r7GxVEEAIXIw",
        "outputId": "cc8b5647-68a8-4d86-f3c3-05e3c1c2a795"
      },
      "source": [
        "print(confusion_matrix(y_test_knn, pred_forest))\n",
        "print(\"\\n\")\n",
        "print(classification_report(y_test_knn, pred_forest))"
      ],
      "execution_count": 114,
      "outputs": [
        {
          "output_type": "stream",
          "text": [
            "[[12  3]\n",
            " [ 0 44]]\n",
            "\n",
            "\n",
            "              precision    recall  f1-score   support\n",
            "\n",
            "           0       1.00      0.80      0.89        15\n",
            "           1       0.94      1.00      0.97        44\n",
            "\n",
            "    accuracy                           0.95        59\n",
            "   macro avg       0.97      0.90      0.93        59\n",
            "weighted avg       0.95      0.95      0.95        59\n",
            "\n"
          ],
          "name": "stdout"
        }
      ]
    },
    {
      "cell_type": "markdown",
      "metadata": {
        "id": "uw_S3055ItE1"
      },
      "source": [
        "* Out of 15 values of not having parkinson's disease, our model has predicted 12 cases as not having parkinson's and 3 of them have been predicted wrongly giving a F1 score of 0.89\n",
        "* Out of 44 cases of having Parkinson's disease, our model was able to predict all 44 cases correctly gicing an F1 score of 0.97"
      ]
    },
    {
      "cell_type": "code",
      "metadata": {
        "colab": {
          "base_uri": "https://localhost:8080/"
        },
        "id": "Is73fK8-I8IT",
        "outputId": "0c56dcea-9def-46d9-9749-8013a6cf5712"
      },
      "source": [
        "forest_accuracy = 0.95\n",
        "# So we store the accuracy value here, so we can compare it with other classification models\n",
        "print(\"The accuracy recorded in Random Forest model: \", forest_accuracy*100, \"%\")"
      ],
      "execution_count": 115,
      "outputs": [
        {
          "output_type": "stream",
          "text": [
            "The accuracy recorded in Random Forest model:  95.0 %\n"
          ],
          "name": "stdout"
        }
      ]
    },
    {
      "cell_type": "markdown",
      "metadata": {
        "id": "UiOtljmCJLAF"
      },
      "source": [
        "# Comparing all the models and choosing the best one"
      ]
    },
    {
      "cell_type": "code",
      "metadata": {
        "colab": {
          "base_uri": "https://localhost:8080/"
        },
        "id": "L517zRAiJKSl",
        "outputId": "e5809810-2a58-4c88-95cf-a4b04f270e13"
      },
      "source": [
        "print(\"The accuracy recorded in KNN model: \", knn_accuracy*100, \"%\")\n",
        "print(\"The accuracy recorded in Logistic Regression model: \", lr_accuracy*100, \"%\")\n",
        "print(\"The accuracy recorded in Decision tree model: \", tree_accuracy*100, \"%\")\n",
        "print(\"The accuracy recorded in Random Forest model: \", forest_accuracy*100, \"%\")"
      ],
      "execution_count": 116,
      "outputs": [
        {
          "output_type": "stream",
          "text": [
            "The accuracy recorded in KNN model:  97.0 %\n",
            "The accuracy recorded in Logistic Regression model:  85.0 %\n",
            "The accuracy recorded in Decision tree model:  88.0 %\n",
            "The accuracy recorded in Random Forest model:  95.0 %\n"
          ],
          "name": "stdout"
        }
      ]
    },
    {
      "cell_type": "markdown",
      "metadata": {
        "id": "SgxvxtbDJg56"
      },
      "source": [
        "* From the above cell, it's clear that K Nearest Neighbor algorithm has worked well with the data we provided giving an accuracy of 97%\n",
        "* the next best is to use Random Forest Classifier giving an accuracy of 95%"
      ]
    }
  ]
}